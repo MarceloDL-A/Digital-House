{
 "cells": [
  {
   "cell_type": "markdown",
   "metadata": {},
   "source": [
    "# PRATICA INDEPENDENTE 3 - Revisão Python 2."
   ]
  },
  {
   "cell_type": "markdown",
   "metadata": {},
   "source": [
    "### IF/ELSE:"
   ]
  },
  {
   "cell_type": "markdown",
   "metadata": {},
   "source": [
    "#### Exercício 1 : Escreva um estrutura `if` que lê informações de peso de bagagem e que retorna uma informação sobre excesso caso o valor supere 50 kg."
   ]
  },
  {
   "cell_type": "code",
   "execution_count": 6,
   "metadata": {},
   "outputs": [
    {
     "name": "stdout",
     "output_type": "stream",
     "text": [
      "O peso da bagagem excedeu o limite de 50 em: 49 kg.\n"
     ]
    }
   ],
   "source": [
    "P = 99\n",
    "if P > 50:\n",
    "    excesso = P - 50\n",
    "    print(\"O peso da bagagem excedeu o limite de 50 em: \"  + str(excesso) + \" kg.\")\n",
    "else:\n",
    "    print(\"A bagagem não excedeu o limite de peso!\")"
   ]
  },
  {
   "cell_type": "markdown",
   "metadata": {},
   "source": [
    "#### Exercício 2: Escreva uma estrutura `if` que lê um valor inteiro e imprime uma mensagem caso ele seja maior que 10.\n"
   ]
  },
  {
   "cell_type": "code",
   "execution_count": 7,
   "metadata": {},
   "outputs": [
    {
     "name": "stdout",
     "output_type": "stream",
     "text": [
      "O valor é maior que dez em 13.\n"
     ]
    }
   ],
   "source": [
    "I = 23\n",
    "if I > 10:\n",
    "    excesso_I = I - 10\n",
    "    print(\"O valor é maior que dez em \" + str(excesso_I) + \".\")"
   ]
  },
  {
   "cell_type": "markdown",
   "metadata": {},
   "source": [
    "#### Exercício 3: Escreva uma estrutura `if` que lê um valor inteiro e imprime uma mensagem caso ele seja menor que 10 ou outra, case seja maior."
   ]
  },
  {
   "cell_type": "code",
   "execution_count": 11,
   "metadata": {},
   "outputs": [
    {
     "name": "stdout",
     "output_type": "stream",
     "text": [
      "O valor é menor que dez em 8.\n"
     ]
    }
   ],
   "source": [
    "I = 2\n",
    "if I > 10:\n",
    "    excesso_I = I - 10\n",
    "    print(\"O valor é maior que dez em \" + str(excesso_I) + \".\")\n",
    "if I < 10:\n",
    "    menor_I = 10 - I\n",
    "    print(\"O valor é menor que dez em \" + str(menor_I) + \".\")\n",
    "    "
   ]
  },
  {
   "cell_type": "markdown",
   "metadata": {},
   "source": [
    "### IF/ELIF/ELSE:"
   ]
  },
  {
   "cell_type": "markdown",
   "metadata": {},
   "source": [
    "#### Exercício 4: Escreva uma estrutura `if` que recebe um valor, teste se ele é igual à `10`, `15` ou `20` ou retorna uma mensagem avisando que o valor lido não consta na estrutura."
   ]
  },
  {
   "cell_type": "code",
   "execution_count": 14,
   "metadata": {},
   "outputs": [
    {
     "name": "stdout",
     "output_type": "stream",
     "text": [
      "O valor não consta na estrutura!\n"
     ]
    }
   ],
   "source": [
    "valor = 16\n",
    "teste = [10, 15, 20]\n",
    "\n",
    "if valor in teste:\n",
    "    print(\"O valor consta na estrutura!\")\n",
    "else:\n",
    "    print(\"O valor não consta na estrutura!\")    "
   ]
  },
  {
   "cell_type": "markdown",
   "metadata": {},
   "source": [
    "#### Exercício 5: Escreva uma estrutura `if` que recebe um valor, teste se ele é positivo, negativo ou igual à zero, ou outra possibilidade e retorne a informação."
   ]
  },
  {
   "cell_type": "code",
   "execution_count": 35,
   "metadata": {},
   "outputs": [
    {
     "name": "stdout",
     "output_type": "stream",
     "text": [
      "O número é positivo!\n"
     ]
    }
   ],
   "source": [
    "valor = 10.\n",
    "if type(valor) == str:\n",
    "    print('Foi inserida uma string')\n",
    "else:\n",
    "    if valor > 0:\n",
    "        print(\"O número é positivo!\")\n",
    "    elif valor == 0:\n",
    "        print(\"O número é igual a zero!\")   \n",
    "    elif valor < 0:\n",
    "        print(\"O número é negativo!\")    \n",
    "    else:\n",
    "        print(\"Não é um número!\")    "
   ]
  },
  {
   "cell_type": "markdown",
   "metadata": {},
   "source": [
    "### Loop FOR:"
   ]
  },
  {
   "cell_type": "markdown",
   "metadata": {},
   "source": [
    "#### Exercício 6: Dada a lista de palavras a seguir, escreva um loop `for` que leia as palavras e que imprima na tela a própria palavra e o seu comprimento."
   ]
  },
  {
   "cell_type": "code",
   "execution_count": 48,
   "metadata": {},
   "outputs": [
    {
     "name": "stdout",
     "output_type": "stream",
     "text": [
      "4 Dada\n",
      "1 a\n",
      "5 lista\n",
      "2 de\n",
      "8 palavras\n",
      "1 a\n",
      "7 seguir,\n",
      "7 escreva\n",
      "2 um\n",
      "4 loop\n",
      "3 for\n",
      "3 que\n",
      "4 leia\n",
      "2 as\n",
      "8 palavras\n",
      "1 e\n",
      "3 que\n",
      "7 imprima\n",
      "2 na\n",
      "4 tela\n",
      "1 a\n",
      "7 própria\n",
      "7 palavra\n",
      "1 e\n",
      "1 o\n",
      "3 seu\n",
      "12 comprimento.\n"
     ]
    }
   ],
   "source": [
    "lst_words = 'Dada a lista de palavras a seguir, escreva um loop for que leia as palavras e que imprima na tela a própria palavra e o seu comprimento.'\n",
    "lst_words = lst_words.split()\n",
    "lst_words\n",
    "\n",
    "for word in lst_words:\n",
    "    print(len(word), word)"
   ]
  },
  {
   "cell_type": "markdown",
   "metadata": {},
   "source": [
    "#### Exercício 7: Escreva uma estrutura de loop `for` que receba um valor inteiro e imprima na tela os valores contidos no `range(0, n)`."
   ]
  },
  {
   "cell_type": "code",
   "execution_count": 49,
   "metadata": {},
   "outputs": [
    {
     "name": "stdout",
     "output_type": "stream",
     "text": [
      "0\n",
      "1\n",
      "2\n",
      "3\n",
      "4\n",
      "5\n",
      "6\n"
     ]
    }
   ],
   "source": [
    "n = 7\n",
    "for i in range(0, n):\n",
    "    print(i)"
   ]
  },
  {
   "cell_type": "markdown",
   "metadata": {},
   "source": [
    "#### Exercício 8: Escreva um loop `for` que leia uma lista de valores e imprima na tela cada elemento.."
   ]
  },
  {
   "cell_type": "code",
   "execution_count": 50,
   "metadata": {},
   "outputs": [
    {
     "name": "stdout",
     "output_type": "stream",
     "text": [
      "1\n",
      "2\n",
      "4\n",
      "6\n",
      "22\n",
      "11\n",
      "67\n",
      "87\n"
     ]
    }
   ],
   "source": [
    "lst_v = [1, 2, 4, 6, 22, 11, 67, 87]\n",
    "for i in lst_v:\n",
    "    print(i)"
   ]
  },
  {
   "cell_type": "markdown",
   "metadata": {},
   "source": [
    "#### Exercício 9: Escreva um loop `for` que leia uma tupla de valores e imprima na tela cada elemento.."
   ]
  },
  {
   "cell_type": "code",
   "execution_count": 79,
   "metadata": {},
   "outputs": [
    {
     "data": {
      "text/plain": [
       "('abc', 34, True, 40, 'male')"
      ]
     },
     "execution_count": 79,
     "metadata": {},
     "output_type": "execute_result"
    }
   ],
   "source": [
    "tuple1 = (\"abc\", 34, True, 40, \"male\")\n",
    "tuple1"
   ]
  },
  {
   "cell_type": "code",
   "execution_count": 80,
   "metadata": {},
   "outputs": [
    {
     "data": {
      "text/plain": [
       "('apple', 'banana', 'cherry')"
      ]
     },
     "execution_count": 80,
     "metadata": {},
     "output_type": "execute_result"
    }
   ],
   "source": [
    "tuple2 = (\"apple\", \"banana\", \"cherry\")\n",
    "tuple2"
   ]
  },
  {
   "cell_type": "code",
   "execution_count": null,
   "metadata": {},
   "outputs": [],
   "source": []
  },
  {
   "cell_type": "code",
   "execution_count": 62,
   "metadata": {},
   "outputs": [
    {
     "name": "stdout",
     "output_type": "stream",
     "text": [
      "('abc', 'apple', 'abc')\n",
      "(34, 'banana', 34)\n",
      "(True, 'cherry', True)\n"
     ]
    }
   ],
   "source": [
    "tuple3 = zip(tuple1, tuple2, tuple1)\n",
    "for i in tuple3:\n",
    "    print(i)"
   ]
  },
  {
   "cell_type": "markdown",
   "metadata": {},
   "source": [
    "#### Exercício 10: Escreva um loop `for` que leia uma string de valores e imprima na tela cada elemento."
   ]
  },
  {
   "cell_type": "code",
   "execution_count": 78,
   "metadata": {},
   "outputs": [
    {
     "name": "stdout",
     "output_type": "stream",
     "text": [
      "10\n",
      "1\n",
      "9\n",
      "23\n",
      "45\n",
      "9\n"
     ]
    }
   ],
   "source": [
    "str_v = '10, 1, 9, 23, 45, 9'\n",
    "str_v = str_v.split(\", \")\n",
    "for i in str_v:\n",
    "    print(i)"
   ]
  },
  {
   "cell_type": "markdown",
   "metadata": {},
   "source": [
    "#### Exercício 11: Escreva um loop `for` que leia os pares chave valor de dicionário e os imprima na tela."
   ]
  },
  {
   "cell_type": "markdown",
   "metadata": {},
   "source": [
    "#### 11.1. Cria um dicionário:"
   ]
  },
  {
   "cell_type": "code",
   "execution_count": 99,
   "metadata": {},
   "outputs": [
    {
     "data": {
      "text/plain": [
       "{'a': 1, 'B': 2, 'C': 3}"
      ]
     },
     "execution_count": 99,
     "metadata": {},
     "output_type": "execute_result"
    }
   ],
   "source": [
    "a_dict = {\"a\": 1, \"B\": 2, \"C\": 3}\n",
    "a_dict"
   ]
  },
  {
   "cell_type": "code",
   "execution_count": 100,
   "metadata": {},
   "outputs": [
    {
     "name": "stdout",
     "output_type": "stream",
     "text": [
      "{'a': 1, 'C': 3, 'Gol': 2}\n"
     ]
    }
   ],
   "source": [
    "new_key = \"Gol\"\n",
    "old_key = \"B\"\n",
    "a_dict[new_key] = a_dict.pop(old_key)\n",
    "\n",
    "print(a_dict)"
   ]
  },
  {
   "cell_type": "code",
   "execution_count": 88,
   "metadata": {},
   "outputs": [
    {
     "data": {
      "text/plain": [
       "[1, 2, 4, 6, 22, 11, 67, 87]"
      ]
     },
     "execution_count": 88,
     "metadata": {},
     "output_type": "execute_result"
    }
   ],
   "source": [
    "lst_dic = [1, 2, 4, 6, 22, 11, 67, 87]\n",
    "lst_dic"
   ]
  },
  {
   "cell_type": "code",
   "execution_count": 96,
   "metadata": {},
   "outputs": [
    {
     "data": {
      "text/plain": [
       "{'a': 1, 'c': 4, 'gh': 3}"
      ]
     },
     "execution_count": 96,
     "metadata": {},
     "output_type": "execute_result"
    }
   ],
   "source": [
    "dict_t001 = dict(a=1, c=4, gh=3)\n",
    "dict_t001"
   ]
  },
  {
   "cell_type": "code",
   "execution_count": 92,
   "metadata": {},
   "outputs": [
    {
     "data": {
      "text/plain": [
       "{1: 1, 2: 2, 4: 4, 6: 6, 22: 22, 11: 11, 67: 67, 87: 87}"
      ]
     },
     "execution_count": 92,
     "metadata": {},
     "output_type": "execute_result"
    }
   ],
   "source": [
    "d = {}\n",
    "for i, v in zip(lst_dic, lst_dic):\n",
    "    d[i] = v\n",
    "d"
   ]
  },
  {
   "cell_type": "code",
   "execution_count": null,
   "metadata": {},
   "outputs": [],
   "source": [
    "dict()"
   ]
  },
  {
   "cell_type": "markdown",
   "metadata": {},
   "source": [
    "#### Exercício 12: Escreva um loop `for` que leia uma lista de dados e, usando a função `range` e o comprimento `len` da lista, imprima cada um dos elementos, de acordo com seu índice na lista. Certifique-se que a estrutura `for` avise quando sair do loop."
   ]
  },
  {
   "cell_type": "code",
   "execution_count": null,
   "metadata": {},
   "outputs": [],
   "source": []
  },
  {
   "cell_type": "markdown",
   "metadata": {},
   "source": [
    "### Loop While."
   ]
  },
  {
   "cell_type": "markdown",
   "metadata": {},
   "source": [
    "#### Exercício 13: Construa uma estrutura `while` que inicie um objeto de contagem, teste se ele é menor que um determinado valor de corte, adicione uma unidade ao contador e imprima uma mensagem na tela."
   ]
  },
  {
   "cell_type": "code",
   "execution_count": null,
   "metadata": {},
   "outputs": [],
   "source": []
  },
  {
   "cell_type": "markdown",
   "metadata": {},
   "source": [
    "#### Exercício 14:  Escreva um loop while que receba uma `palavra`, inicie um contador `n` e que imprima na tela o produto `n*palavra` enquanto `n` for menor que o comprimento da palavra."
   ]
  },
  {
   "cell_type": "code",
   "execution_count": null,
   "metadata": {},
   "outputs": [],
   "source": []
  },
  {
   "cell_type": "markdown",
   "metadata": {},
   "source": [
    "#### Exercício 15:  Construa uma estrutura que combine as ferramentas `while` e `else`, em que um valor de corte é recebido e a contagem imprima o resultado do teste `while` a cada loop."
   ]
  },
  {
   "cell_type": "code",
   "execution_count": null,
   "metadata": {},
   "outputs": [],
   "source": []
  },
  {
   "cell_type": "markdown",
   "metadata": {},
   "source": [
    "#### Exercício 16:  Rode o código abaixo e discuta seu resultado."
   ]
  },
  {
   "cell_type": "raw",
   "metadata": {},
   "source": [
    "count = 0\n",
    "while (count == 0): \n",
    "    print(\"Repetition\") "
   ]
  },
  {
   "cell_type": "markdown",
   "metadata": {},
   "source": [
    "### Funções."
   ]
  },
  {
   "cell_type": "markdown",
   "metadata": {},
   "source": [
    "#### Exercício 17:  Defina uma função que recebe uma lista de valores e, ao ser chamada, atualize o valor do último índice da lista."
   ]
  },
  {
   "cell_type": "code",
   "execution_count": null,
   "metadata": {},
   "outputs": [],
   "source": []
  },
  {
   "cell_type": "markdown",
   "metadata": {},
   "source": [
    "#### Exercício 18:  Escreva uma função que receba um par de valores `(x, y)`, e os imprima na tela em ordem invertida."
   ]
  },
  {
   "cell_type": "code",
   "execution_count": null,
   "metadata": {},
   "outputs": [],
   "source": []
  },
  {
   "cell_type": "markdown",
   "metadata": {},
   "source": [
    "#### Exercício 19: Escreva uma função que receba o valor do raio de uma circunferência e calcule sua área."
   ]
  },
  {
   "cell_type": "code",
   "execution_count": null,
   "metadata": {},
   "outputs": [],
   "source": []
  },
  {
   "cell_type": "markdown",
   "metadata": {},
   "source": [
    "#### Exercício 20: Escreva uma função que receba um valor, calcule se ele é par ou impar e imprima o resultado na tela."
   ]
  },
  {
   "cell_type": "code",
   "execution_count": null,
   "metadata": {},
   "outputs": [],
   "source": []
  }
 ],
 "metadata": {
  "kernelspec": {
   "display_name": "Python 3",
   "language": "python",
   "name": "python3"
  },
  "language_info": {
   "codemirror_mode": {
    "name": "ipython",
    "version": 3
   },
   "file_extension": ".py",
   "mimetype": "text/x-python",
   "name": "python",
   "nbconvert_exporter": "python",
   "pygments_lexer": "ipython3",
   "version": "3.8.5"
  }
 },
 "nbformat": 4,
 "nbformat_minor": 4
}
