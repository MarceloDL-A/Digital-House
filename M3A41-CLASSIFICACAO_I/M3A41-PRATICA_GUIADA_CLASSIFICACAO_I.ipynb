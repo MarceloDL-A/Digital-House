{
 "cells": [
  {
   "cell_type": "markdown",
   "metadata": {},
   "source": [
    "<img src=\"imgs/dh_logo.png\" align=\"right\" width=\"50%\">"
   ]
  },
  {
   "cell_type": "markdown",
   "metadata": {},
   "source": [
    "# Classificação\n",
    "\n",
    "#### Na aula de hoje entraremos num capítulo que trata de um dos problemas mais comuns para Machine Learning: [classificação](https://towardsdatascience.com/machine-learning-classifiers-a5cc4e1b0623). Em problemas de classifcação, temos um `dataset` com elementos de diversas classes e temos que ser capazes de treinar o algorítmo para separar estas classes. \n",
    "\n",
    "# Dica de hoje: Comunidades online e offline\n",
    "\n",
    "#### A Ciência de Dados, assim como a maioria das aulas de `tech`, baseia-se em comunidades (`online` e `offline`) para compartilhamento de conhecimento e `networking`. No setor de tecnologia, por se apoiar fundamentalmente em ferramentas e técnicas __[open source](https://www.redhat.com/pt-br/topics/open-source/what-is-open-source)__, tem como fator cultural a organização de eventos, conferências e comunidades abertas e inclusivas para desenvolver e disseminar conhecimentos. Essas comunidades podem ser online, baseando-se em ferramentas massivas de comunicação como `Slack`, `podcasts`, `Youtube`, `mailing lists` etc; ou `offline` com encontros presenciais e periódicos. Algumas das mais famosas são:\n",
    "\n",
    "### Comunidades `Offline`:\n",
    " - __[PAPIS.io](https://www.papis.io/)__\n",
    " - __[Nubank Data Science & Machine Learning Meetup](https://www.meetup.com/pt-BR/machine-learning-big-data-engenharia/)__\n",
    " - __[Meetup](https://www.meetup.com/pt-BR/escolalivre-ia/)__\n",
    " - __[Grupo Turing](https://medium.com/turing-talks)__\n",
    " - __[SP Women in ML & DS](https://www.meetup.com/pt-BR/Sao-Paulo-Women-in-Machine-Learning-Data-Science/)__\n",
    " - __[Big Data SP](https://www.meetup.com/pt-BR/Big-Data-SP/)__\n",
    " \n",
    "### Comunidades `Online`:\n",
    " - __[Data Hackers](https://datahackers.com.br/)__, podcast + blog\n",
    " - __[TowardsDataScience](https://towardsdatascience.com/)__, __[Medium](https://medium.com/)__\n",
    " - __[Datacamp](datacamp.com)__, __[plataforma](https://br-playground.digitalhouse.com/br/login)__ + __[slack](https://slack.com/intl/pt-br/)__\n",
    " - __[Kaggle](kaggle.com)__, plataforma\n",
    " - __[Diversos Slacks](https://towardsdatascience.com/15-data-science-slack-communities-to-join-8fac301bd6ce)__\n",
    " - Bonus: GitHub também é uma comunidade! Veja como fazer seu __[primeiro](https://github.blog/2020-01-22-browse-good-first-issues-to-start-contributing-to-open-source/)__\n",
    "\n"
   ]
  },
  {
   "cell_type": "markdown",
   "metadata": {},
   "source": [
    "---------------\n",
    "\n",
    "# O que é Classificação?\n",
    "\n",
    "#### Classificação é o processo de prever a classe de determinados pontos de dados. Às vezes, as classes são chamadas de destinos/marcadores ou categorias. A modelagem preditiva de [classificação](https://machinelearningmastery.com/types-of-classification-in-machine-learning/) é a tarefa de aproximar uma função de mapeamento ($f$) de variáveis de entrada ($X$) para variáveis de saída discretas ($y$).\n",
    "\n",
    "#### A classificação pertence à categoria de [aprendizado supervisionado](https://towardsdatascience.com/a-brief-introduction-to-supervised-learning-54a3e3932590), onde os objetivos também são fornecidos com os dados de entrada, e é melhor usado quando a saída possui valores finitos e discretos. \n",
    "\n",
    "#### Existem 2 tipos de classificação:\n",
    "\n",
    "- [Binomial](https://towardsdatascience.com/analytics-building-blocks-binary-classification-d205890314fc)\n",
    "- [Multi-Class](https://towardsdatascience.com/machine-learning-multiclass-classification-with-imbalanced-data-set-29f6a177c1a)\n",
    "\n",
    "\n",
    "#### Existem muitas aplicações na classificação em muitos domínios, como:\n",
    "\n",
    "- [Aprovação de crédito](https://towardsdatascience.com/binary-classification-model-australian-credit-approval-977ad7738411)\n",
    "- [Diagnóstico médico](https://www.macadamian.com/learn/a-practical-application-of-machine-learning-in-medicine/)\n",
    "- [Marketing direcionado](https://towardsdatascience.com/machine-learning-classification-with-python-for-direct-marketing-2da27906ddac)\n",
    "\n",
    "#### Outros exemplos mais específicos de problemas de classificação:\n",
    "\n",
    "- [Descobrir se um email recebido é spam](https://towardsdatascience.com/email-spam-detection-1-2-b0e06a5c0472) \n",
    "- [Inferir se um empréstimo bancário deve ser concedido](https://towardsdatascience.com/classifying-loans-based-on-the-risk-of-defaulting-using-logistic-regression-9bd9c6b44640)"
   ]
  },
  {
   "cell_type": "markdown",
   "metadata": {},
   "source": [
    "## Tipos de algoritmos de classificação\n",
    "\n",
    "#### Vamos dar uma olhada rápida nos tipos de algoritmo de classificação abaixo, segundo a estratégia de abordagem para o cálculo dos otimizadores das funções (mappings):\n",
    "\n",
    "1. Aprendizado por minimização dos erros (error-based learning)\n",
    "    - [Regressão Logística](https://towardsdatascience.com/introduction-to-logistic-regression-66248243c148#:~:text=Logistic%20Regression%20is%20a%20Machine,on%20the%20concept%20of%20probability.&text=The%20hypothesis%20of%20logistic%20regression,function%20between%200%20and%201.)\n",
    "    - [Suport Vector Machines (SVM)](https://towardsdatascience.com/https-medium-com-pupalerushikesh-svm-f4b42800e989)\n",
    "\n",
    "\n",
    "2. Aprendizado por similaridade (similarity-based learning)\n",
    "    - [K-Nearest Neighbors (KNN)](https://towardsdatascience.com/k-nearest-neighbors-knn-explained-cbc31849a7e3#:~:text=K%2Dnearest%20neighbors%20(kNN)%20is%20a%20supervised%20machine%20learning,both%20classification%20and%20regression%20tasks.&text=kNN%20works%20similarly.,the%20data%20points%20around%20it.)\n",
    "\n",
    "\n",
    "3. Aprendizado por probabilidades (probability-based learning)\n",
    "    - [Naive Bayes](https://towardsdatascience.com/all-about-naive-bayes-8e13cef044cf)\n",
    "\n",
    "\n",
    "4. Aprendizado por ganho de informação (information-based learning)\n",
    "    - [Árvores de Decisão (Decision Trees)](https://towardsdatascience.com/decision-trees-in-machine-learning-641b9c4e8052)\n",
    "    - [Random Forest](https://towardsdatascience.com/understanding-random-forest-58381e0602d2) "
   ]
  },
  {
   "cell_type": "markdown",
   "metadata": {},
   "source": [
    "---------------\n",
    "\n",
    "# k-Nearest Neighbors (kNN)\n",
    "\n",
    "#### O algoritmo [kNN](https://medium.com/datadriveninvestor/data-science-k-nearest-neighbor-b7843b285300) pressupõe que coisas semelhantes existem próximas. Em outras palavras, coisas semelhantes estão próximas umas das outras.\n",
    "\n",
    "<br>\n",
    "<img src=\"knn.png\" align=\"center\" width=350>\n",
    "<br>\n",
    "\n",
    "#### Observe na imagem acima que, na maioria das vezes, pontos de dados semelhantes estão próximos um do outro. O algoritmo [kNN]((https://towardsdatascience.com/machine-learning-basics-with-the-k-nearest-neighbors-algorithm-6a6e71d01761) depende dessa suposição, sendo verdadeira o suficiente para que o algoritmo seja útil. O [kNN](https://www.youtube.com/watch?v=HVXime0nQeI&t=202s&ab_channel=StatQuestwithJoshStarmer) captura a idéia de [similaridade](https://www.kdnuggets.com/2020/11/most-popular-distance-metrics-knn.html), às vezes chamada de distância ou proximidade, com um pouco de álgebra linear, calculando a distância entre os pontos de um gráfico.\n",
    "\n",
    "<br>\n",
    "\\[  w = \\frac {1}{d(x_i,d_i)^2}  \\]\n",
    "<br>\n",
    "<br>\n",
    "\n",
    "\n",
    "    Nota: É necessário entender como calculamos a distância entre os pontos em um gráfico antes de prosseguir. Existem outras maneiras de calcular a distância, e uma delas pode ser preferível, dependendo do problema que estamos resolvendo. No entanto, a distância em linha reta (também chamada de distância euclidiana) é uma escolha popular e familiar.\n",
    "\n",
    "<img src=\"knn.gif\" align=\"center\" width=500>"
   ]
  },
  {
   "cell_type": "markdown",
   "metadata": {},
   "source": [
    "----------------\n",
    "\n",
    "# Regressão Logística\n",
    "\n",
    "#### Ao contrário da regressão linear (e sua solução de equação normal), não existe uma solução de forma fechada para encontrar pesos ótimos de [regressão logística](https://towardsdatascience.com/logistic-regression-detailed-overview-46c4da4303bc). Em vez disso, você deve atacar o problea com estimativa de probabilidade máxima (um modelo de probabilidade para detectar a probabilidade máxima de algo acontecer). Pode ser usado para calcular a probabilidade de um determinado resultado em um modelo binário, como a probabilidade de ser classificado como doente ou passar em um exame. \n",
    "\n",
    "<br>\n",
    "<img src=\"logistic.png\" align=\"center\" width=500>\n",
    "<br>\n",
    "\n",
    "\n",
    "#### A probabilidade na regressão logística é frequentemente representada pela [função Sigmoide](https://deepai.org/machine-learning-glossary-and-terms/sigmoid-function#:~:text=A%20sigmoid%20function%20placed%20as,of%20a%20logistic%20regression%20model.) (também chamada de função logística ou curva S).\n",
    "\n",
    "<br>\n",
    "\\[\n",
    "P(y=1|X)= \\dfrac{1}{1+e^{-z}} = P_i\n",
    "\\]\n",
    "<br>\n",
    "\n",
    "#### Matematicamente, um modelo logístico binário possui uma variável dependente com dois valores possíveis, como aprovação / reprovação, representada por uma variável indicadora, na qual os dois valores são rotulados como $0$ e $1$. No modelo logístico, as probabilidades de log (o logaritmo das probabilidades) para o valor rotulado $1$ são uma combinação linear de uma ou mais variáveis independentes, os preditores. As variáveis independentes podem ser uma variável binária (duas classes, codificadas por uma variável indicadora) ou uma variável contínua (qualquer valor real). A probabilidade correspondente do valor rotulado $1$ pode variar entre $0$ (certamente o valor $0$) e $1$ (certamente o valor $1$), daí a rotulagem; a função que converte as probabilidades de `log` em probabilidade é a função logística, daí o nome. A unidade de medida para a escala [log-odds](https://www.statisticshowto.com/log-odds/) é chamada [logit](https://towardsdatascience.com/https-towardsdatascience-com-what-and-why-of-log-odds-64ba988bf704), da unidade logística, daí os nomes alternativos.\n",
    "\n",
    "<img src=\"imgs/logistic.gif\" align=\"center\" width=400>\n",
    "\n",
    "## Regressão Logística para modelos mais complexos\n",
    "\n",
    "#### Modelos não lineares de [Regressão Logística](https://towardsdatascience.com/introduction-to-logistic-regression-66248243c148#:~:text=Logistic%20regression%20is%20a%20classification,a%20discrete%20set%20of%20classes.&text=Logistic%20regression%20transforms%20its%20output,to%20return%20a%20probability%20value.) podem separar classes de forma não linear, através de funções-base não lineares aplicadas à função sigmóide em Z, trazendo um resultado bastante interessante para modelos de classificação (conforme a figura abaixo)\n",
    "\n",
    "<br>\n",
    "<img src=\"non_linear_logistic.png\" align=\"center\" width=500>\n",
    "<br>\n",
    "\n",
    "\n",
    "\n",
    "\n"
   ]
  },
  {
   "cell_type": "markdown",
   "metadata": {},
   "source": [
    "------------------\n",
    "\n",
    "# SVM (Suport Vector Machines)\n",
    "\n",
    "#### O objetivo do algoritmo da [SVM](https://towardsdatascience.com/the-complete-guide-to-support-vector-machine-svm-f1a820d8af0b) é encontrar um hiperplano N-1 dimensional em um espaço N-dimensional (N - o número de recursos) que classifica distintamente os pontos de dados. O [SVM](https://aaaanchakure.medium.com/support-vector-machines-svms-4bcccbd78369) é um [`Maximal Margin Classifier`]().\n",
    "\n",
    "<br>\n",
    "<img src=\"svm.png\" align=\"center\" width=500>\n",
    "<br>\n",
    "\n",
    "#### Para separar as duas classes de pontos de dados, existem muitos [hiperplanos](https://www.saedsayad.com/support_vector_machine.htm) possíveis que podem ser escolhidos. Nosso objetivo é encontrar um plano com a margem máxima, ou seja, a distância máxima entre os pontos de dados das duas classes. A maximização da distância da margem fornece algum reforço para que os pontos de dados futuros possam ser classificados com mais confiança.\n",
    "\n",
    "\n",
    "## Hiperplanos e vetores de suporte\n",
    "\n",
    "<br>\n",
    "<img src=\"svm_hyperplane.png\" align=\"center\" width=500>\n",
    "<br>\n",
    "\n",
    "#### [Hiperplanos](https://towardsdatascience.com/tagged/hyperplane) são [limites de decisão](https://towardsdatascience.com/decision-boundary-visualization-a-z-6a63ae9cca7d) que ajudam a classificar os pontos de dados. Os pontos de dados que caem em ambos os lados do hiperplano podem ser atribuídos a diferentes classes. Além disso, a dimensão do hiperplano depende do número de recursos. Se o número de recursos de entrada for $2$, o hiperplano será apenas uma linha. Se o número de recursos de entrada for $3$, o hiperplano se tornará um plano bidimensional. Torna-se difícil imaginar quando o número de recursos que excede $3$.\n",
    "\n",
    "#### Os [vetores de suporte](https://www.youtube.com/watch?v=Y6RRHw9uN9o&ab_channel=AugmentedStartups) são pontos de dados que estão mais próximos do hiperplano e influenciam a posição e a orientação do hiperplano. Usando esses vetores de suporte, maximizamos a margem do classificador. A exclusão dos vetores de suporte alterará a posição do hiperplano. Esses são os pontos que nos ajudam a criar nosso `SVM`."
   ]
  },
  {
   "cell_type": "markdown",
   "metadata": {},
   "source": [
    "### Intuição de margem grande\n",
    "\n",
    "#### Na regressão logística, pegamos a saída da função linear e comprimimos o valor dentro da faixa de $[0, 1]$ usando a função sigmóide. Se o valor compactado for maior que um valor limite $(0, 5)$, atribuímos a ele um rótulo $1$, caso contrário, atribuímos a ele um rótulo $0$. \n",
    "\n",
    "#### No `SVM`, obtemos a saída da função linear e, se essa saída for maior que $1$, identificamos com uma classe e se a saída for $-1$, identificamos com outra classe. Como os valores limite são alterados para $1$ e $-1$ no `SVM`, obtemos esse intervalo de valores de reforço $[- 1,1]$ que atua como margem.\n",
    "\n",
    "#### Hiperplanos com margens maiores apresentam menor erro de generalização. Os hiperplanos positivos e negativos são representados por:\n",
    "\n",
    "$$ \n",
    "\\begin{equation}\n",
    "w_{0} + w^{T} x_{pos} = 1 \n",
    "\\end{equation}\n",
    "$$ \n",
    "\\\n",
    "$$\n",
    "\\begin{equation}\n",
    "w_{0} + w^{T} x_{pos} = -1\n",
    "\\end{equation}\n",
    "$$\n",
    "\n",
    "#### Portanto, o objetivo da função é maximizar com a restrição de que as amostras sejam classificadas corretamente, o que é representado como:\n",
    "\n",
    "$$\n",
    "\\begin{equation}\n",
    "w_0 + w^T x^{(i)} \\geqslant 1 \\space  \\text{se}  \\space  y^{(i)} = 1\n",
    "\\end{equation}\n",
    "$$\n",
    "\\ \n",
    "$$\n",
    "\\begin{equation}\n",
    "w_0 + w^T x^{(i)} < 1 \\space  \\text{se}  \\space  y^{(i)} = -1\n",
    "\\end{equation}\n",
    "$$\n",
    "\n",
    "### Visualização do Hiperplano de Separação\n",
    "\n",
    "<img src=\"svm.gif\" align=\"center\" width=300>\n"
   ]
  },
  {
   "cell_type": "markdown",
   "metadata": {},
   "source": [
    "## SVM: Processo de Otimização\n",
    "\n",
    "#### A otimização mínima seqüencial ([SMO](https://towardsdatascience.com/support-vector-machines-dual-formulation-quadratic-programming-sequential-minimal-optimization-57f4387ce4dd)) é um algoritmo para resolver o problema de programação quadrática ([QP](https://towardsdatascience.com/solving-a-quadratic-problem-qp-in-an-open-source-linear-solver-56ed6bb468e8)) que surge durante o treinamento de máquinas de vetores de suporte (SVM). Foi inventado por John Platt em 1998 na Microsoft Research. O SMO é amplamente utilizado para o treinamento de máquinas de vetores de suporte e é implementado pela popular ferramenta [LIBSVM](https://www.csie.ntu.edu.tw/~cjlin/libsvm/). A publicação do algoritmo `SMO` em 1998 gerou muita empolgação na comunidade `SVM`, pois os métodos anteriormente disponíveis para treinamento em `SVM` eram muito mais complexos e exigiam solucionadores de `QP` de terceiros, mais caros.\n",
    "\n",
    "#### Considere um problema de classificação binária com um conjunto de dados $(x1, y1), ..., (xn, yn)$, em que $x_{i}$ é um vetor de entrada e $y_{i} ∈ [-1, +1]$ é um rótulo binário correspondente a ele. Uma máquina de vetores de suporte de margem `soft` é treinada resolvendo um problema de programação quadrática, expresso na forma dupla da seguinte maneira:\n",
    "\n",
    "$$ \n",
    "\\begin{equation}\n",
    "\\omega(\\Lambda) = \\max\\limits_{\\alpha}  \\sum\\limits_{i=1}^{\\mbox{n}} \\alpha_i - \\dfrac{1}{2} \\sum\\limits_{i = 1}^{\\mbox{n}} \\sum\\limits_{j = 1}^{\\mbox{n}} \\alpha_i \\alpha_j y_i y_j K(x_i, x_j)  \n",
    "\\end{equation}\n",
    "$$\n",
    "\n",
    "#### onde $C$ é um hiperparâmetro `SVM` e $K(x_{i}, x_{j})$ é a função do kernel, ambos fornecidos pelo usuário; e as variáveis $\\alpha_{i}$ e $\\alpha_{j}$ são multiplicadores de Lagrange, variáveis da função de objetivo $\\omega$, representados por $\\Lambda$.\n",
    "\n",
    "#### O teorema do [multiplicador de Lagrange](https://towardsdatascience.com/understanding-support-vector-machine-part-1-lagrange-multipliers-5c24a52ffc5e) afirma que, em qualquer máximo (ou mínimo) local da função avaliada sob as restrições de igualdade, se a qualificação de restrição se aplicar (explicada abaixo), o gradiente da função (nesse ponto) poderá ser expresso como uma combinação linear dos gradientes das restrições (nesse ponto), com os [multiplicadores de Lagrange](https://tutorial.math.lamar.edu/classes/calciii/lagrangemultipliers.aspx) atuando como coeficientes. Isso equivale a dizer que qualquer direção perpendicular a todos os gradientes das restrições também é perpendicular ao gradiente da função. Ou ainda, dizendo que a derivada direcional da função é $0$ em todas as diretivas possíveis.\n",
    "\n",
    "<!--- <img src=\"imgs/svm_kernel.png\" align=\"center\" width=500> -->"
   ]
  },
  {
   "cell_type": "markdown",
   "metadata": {},
   "source": [
    "------------\n",
    "\n",
    "# Métricas: Matriz de Confusão\n",
    "\n",
    "#### Numa classificação binária, temos 4 possíveis `outputs`: True Positive, False Positive, False Negative e True Negative. Podemos visualizar esses outputs numa matriz de confusão como essa: \n",
    "\n",
    "<img src=\"confusion_matrix.png\" align=\"center\" width=\"60%\">\n",
    "\n",
    "<br>\n",
    "\n",
    "#### Como podemos observar acima, trabalhamos com 4 métricas sobre essa matriz de confusão. Elas são:\n",
    " \n",
    " - `Accuracy`: de tudo o que você classificou, qual parte você acertou. É a primeira métrica que olhamos, mas algumas vezes ela pode não responder nossas perguntas de modo satisfatório e ocultar o que está acontecendo com os erros.\n",
    " \n",
    "$$ \n",
    "\\begin{equation}\n",
    "ACC = \\frac{TP + TN}{TP + TN + FP + FN}\n",
    "\\end{equation}\n",
    "$$\n",
    " \n",
    " - `Precision/Positive Predictive Value`: fração dos dados categorizados positivamente que são, de fato, casos positivos. É útil para sabermos quão confiável é nossa previsão para positivo.\n",
    "\n",
    "$$ \n",
    "\\begin{equation}\n",
    "PPV = \\frac{TP}{TP + FP}\n",
    "\\end{equation}\n",
    "$$\n",
    "\n",
    "- `Recall / Sensivity/ True Positive Rate`: fração de dados positivos categorizados de fato como positivos. Mostra como nosso modelo enxerga os dados positivos\n",
    "\n",
    "$$ \n",
    "\\begin{equation}\n",
    "TPR = \\frac{TP}{TP + FN}\n",
    "\\end{equation}\n",
    "$$\n",
    "\n",
    "- `Fall out/ False Positive Rate`: fração de dados positivos erroneamente categorizados como positivos. Mostra como nosso modelo enxerga os dados negativos\n",
    "\n",
    "$$ \n",
    "\\begin{equation}\n",
    "FPR = \\frac{FP}{FP + FN}\n",
    "\\end{equation}\n",
    "$$\n",
    "\n",
    "- `Specificity/ True Negative Rate`: fração de dados negativos categorizados de fato como negativos. Mostra como nosso modelo enxerga os dados negativos.\n",
    "\n",
    "$$ \n",
    "\\begin{equation}\n",
    "TNR = \\frac{TN}{TN + FP}\n",
    "\\end{equation}\n",
    "$$\n",
    "\n",
    "<br>\n",
    "\n",
    "#### Para cada problema de classificação binária, é interessante utilizar uma ou mais dessas métricas. A ideia é que sempre tenhamos controle não só da nossa acurácia, mas como estamos acertando e errando com nosso modelo, de modo a entender como melhorá-lo e quais as consequências dele nas previsões. Além das $4$ métricas acima, também utilizamos o `F1 Score`, que é um balanço entre `Precision` e `Recall`, calculado por \n",
    "\n",
    "\n",
    "$$ \n",
    "\\begin{equation}\n",
    "F1 score = 2 \\frac{PPV * TPR}{PPV + TPR} = 2 ((precision * recall) / (precision + recall)). \n",
    "\\end{equation}\n",
    "$$\n",
    "\n",
    "<br>\n",
    "\n",
    "#### Com essas métricas em mãos, nos levamos a uma questão mais primordial: Como escolher uma métrica para meu problema? Embora não exista uma resposta pronta para essa pergunta, é sempre interessante observarmos `accuracy`, `precision` e `recall`, juntas, para termos um entendimento do que está acontecendo. \n",
    "<br>"
   ]
  },
  {
   "cell_type": "markdown",
   "metadata": {},
   "source": [
    "# Curva ROC e métrica AUC (Area Under the Curve)\n",
    "\n",
    "#### A curva [ROC](https://towardsdatascience.com/roc-curve-a-complete-introduction-2f2da2e0434c) e a métrica [AUC](https://towardsdatascience.com/understanding-auc-roc-curve-68b2303cc9c5) é uma medida de desempenho para o problema de classificação em várias configurações de limites. ROC é uma curva de probabilidade e AUC representa grau ou medida de separabilidade. Diz quanto o modelo é capaz de distinguir entre classes. Quanto maior a AUC, melhor é o modelo em prever $0$s como $0$s e $1$s como $1$s. Por analogia, quanto maior a AUC, melhor o modelo é em distinguir entre pacientes com doença e sem doença.\n",
    "\n",
    "<br>\n",
    "<img src=\"roc_curve.png\" align=\"center\" width=\"350\">\n",
    "<br>\n",
    "\n",
    "#### A curva ROC é plotada com TPR (True Positive Rate) contra o FPR (False Positive Rate), onde TPR está no eixo y e FPR está no eixo x.\n",
    "\n",
    "\n",
    "<!--- \n",
    "<br>\n",
    "<img src=\"imgs/roc_formulas.png\" align=\"center\" width=\"350\">\n",
    "<br>\n",
    "\n",
    "#### A seguir alguns `links` para vocês irem mais a fundo nesse assunto de interpretar e escolher métricas:\n",
    "\n",
    " - __[Classification Accuracy is Not Enough: More Performance Measures You Can Use](https://machinelearningmastery.com/classification-accuracy-is-not-enough-more-performance-measures-you-can-use/)__\n",
    " - __[Data Science Performance Metrics for Everyone](https://towardsdatascience.com/data-science-performance-metrics-for-everyone-4d68f4859eef)__\n",
    " - __[Measuring Model Goodness — Part 1](https://towardsdatascience.com/measuring-model-goodness-part-1-a24ed4d62f71)__\n",
    " - __[The 3 Pillars of Binary Classification: Accuracy, Precision & Recall](https://medium.com/@yashwant140393/the-3-pillars-of-binary-classification-accuracy-precision-recall-d2da3d09f664)__\n",
    "-->"
   ]
  },
  {
   "cell_type": "markdown",
   "metadata": {},
   "source": [
    "--------------\n",
    "\n",
    "# Implementando SVM para Dados Sintéticos\n",
    "\n",
    "### Importando as bibliotecas"
   ]
  },
  {
   "cell_type": "code",
   "execution_count": 109,
   "metadata": {},
   "outputs": [],
   "source": [
    "import numpy as np\n",
    "import pandas as pd\n",
    "import matplotlib.pyplot as plt\n",
    "import matplotlib.cm as cm\n",
    "from scipy.io import loadmat\n",
    "\n",
    "%matplotlib inline"
   ]
  },
  {
   "cell_type": "code",
   "execution_count": 110,
   "metadata": {},
   "outputs": [],
   "source": [
    "DATAPATH_1 = ('ex6data1.mat')\n",
    "DATAPATH_2 = ('ex6data2.mat')\n",
    "DATAPATH_3 = ('ex6data3.mat')"
   ]
  },
  {
   "cell_type": "markdown",
   "metadata": {},
   "source": [
    "### Definindo uma Função para Plotar os Dados"
   ]
  },
  {
   "cell_type": "code",
   "execution_count": 111,
   "metadata": {},
   "outputs": [],
   "source": [
    "def plot_data(X, y, xlabel, ylabel, pos_label, neg_label, xmin, xmax, ymin, ymax, axes = None):\n",
    "    plt.rcParams['figure.figsize'] = (14., 8.)\n",
    "    \n",
    "    pos = y[:, 0] == 1\n",
    "    neg = y[:, 0] == 0\n",
    "    \n",
    "    if axes == None:\n",
    "        axes = plt.gca()\n",
    "    \n",
    "    axes.scatter(X[pos][:, 0], \n",
    "                 X[pos][:, 1], \n",
    "                 marker ='o', \n",
    "                 c = '#003f5c', \n",
    "                 s = 50, \n",
    "                 linewidth = 2, \n",
    "                 label = pos_label\n",
    "                )\n",
    "    axes.scatter(X[neg][:, 0], \n",
    "                 X[neg][:, 1], \n",
    "                 marker = 'o', \n",
    "                 c = '#ffa600', \n",
    "                 s = 50, \n",
    "                 linewidth = 2, \n",
    "                 label = neg_label\n",
    "                )\n",
    "    axes.set_xlim([xmin, xmax])\n",
    "    axes.set_ylim([ymin, ymax])\n",
    "    \n",
    "    axes.set_xlabel(xlabel, fontsize = 12)\n",
    "    axes.set_ylabel(ylabel, fontsize = 12)\n",
    "    \n",
    "    axes.legend(bbox_to_anchor = (1, 1), \n",
    "                fancybox = True\n",
    "               )"
   ]
  },
  {
   "cell_type": "markdown",
   "metadata": {},
   "source": [
    "### Split dos Dados "
   ]
  },
  {
   "cell_type": "code",
   "execution_count": 112,
   "metadata": {},
   "outputs": [],
   "source": [
    "data1 = loadmat(DATAPATH_1)\n",
    "\n",
    "X = data1['X']\n",
    "y = data1['y']"
   ]
  },
  {
   "cell_type": "markdown",
   "metadata": {},
   "source": [
    "### Plotando os Dados em um Plano Cartesiano\n",
    "\n",
    "Inicio com dados simplificados com um limite linear claro entre os dados para treinamento."
   ]
  },
  {
   "cell_type": "code",
   "execution_count": 113,
   "metadata": {},
   "outputs": [
    {
     "data": {
      "image/png": "[encoded data removed]",
      "text/plain": [
       "<Figure size 1008x576 with 1 Axes>"
      ]
     },
     "metadata": {
      "needs_background": "light"
     },
     "output_type": "display_data"
    }
   ],
   "source": [
    "plot_data(X, y, 'X', 'y', 'positive', 'negative', 0, 4.2, 0, 5)"
   ]
  },
  {
   "cell_type": "markdown",
   "metadata": {},
   "source": [
    "### Aplicando SVM com Regularização Pequena (C=1)\n",
    "\n",
    "#### Implemenbtação do SVM de maneria otimizada conforme documentação oficial [`sklearn.svm.SVC`](https://scikit-learn.org/stable/modules/generated/sklearn.svm.SVC.html). Para esta classificação, será utilizado o Kernel linear básico, parametrizado no algoritmo, uma vez que o `default` é o 'rbf' ([Radial Basis Function](https://medium.com/analytics-vidhya/radial-basis-functions-rbf-kernels-rbf-networks-explained-simply-35b246c4b76c))."
   ]
  },
  {
   "cell_type": "code",
   "execution_count": 114,
   "metadata": {},
   "outputs": [
    {
     "data": {
      "image/png": "[encoded data removed]",
      "text/plain": [
       "<Figure size 1008x576 with 1 Axes>"
      ]
     },
     "metadata": {
      "needs_background": "light"
     },
     "output_type": "display_data"
    }
   ],
   "source": [
    "### SVM with small regularization parameter \n",
    "#[sklearn.svm.SVC](https://scikit-learn.org/stable/modules/generated/sklearn.svm.SVC.html)\n",
    "from sklearn import svm\n",
    "\n",
    "#Use C=1\n",
    "clf = svm.SVC(kernel = 'linear', \n",
    "              C = 1.0, \n",
    "              decision_function_shape = 'ovr'\n",
    "             )\n",
    "clf.fit(X, y.ravel())\n",
    "\n",
    "#plot data\n",
    "plot_data(X, y, 'X', 'y', 'positive', 'negative', 0, 4.2, 0, 5)\n",
    "\n",
    "#plot hyperplane\n",
    "x_1, x_2 = np.meshgrid(np.arange(0.0, 5.0, 0.01), \n",
    "                       np.arange(0.0, 5.0, 0.01)\n",
    "                      )\n",
    "\n",
    "Z = clf.predict(np.c_[x_1.ravel(), \n",
    "                      x_2.ravel()]\n",
    "               )\n",
    "\n",
    "Z = Z.reshape(x_1.shape)\n",
    "\n",
    "plt.contour(x_1, \n",
    "            x_2, \n",
    "            Z, \n",
    "            [0.5], \n",
    "            colors = 'r'\n",
    "           );"
   ]
  },
  {
   "cell_type": "markdown",
   "metadata": {},
   "source": [
    "### Aplicando SVM com Regularização Grande (C=100)\n",
    "\n",
    "#### Alterando o limite de decisão para $100$, o modelo vai para um `Overfit` sobre os dados de treinamento. "
   ]
  },
  {
   "cell_type": "code",
   "execution_count": 115,
   "metadata": {},
   "outputs": [
    {
     "data": {
      "image/png": "[encoded data removed]",
      "text/plain": [
       "<Figure size 1008x576 with 1 Axes>"
      ]
     },
     "metadata": {
      "needs_background": "light"
     },
     "output_type": "display_data"
    }
   ],
   "source": [
    "#Use C=100\n",
    "clf100 = svm.SVC(kernel = 'linear', \n",
    "                 C = 100.0, \n",
    "                 decision_function_shape = 'ovr'\n",
    "                )\n",
    "clf100.fit(X, y.ravel())\n",
    "\n",
    "#Plot data\n",
    "plot_data(X, y, 'X', 'y', 'positive', 'negative', 0, 4.2, 0, 5)\n",
    "\n",
    "#Plot hyperplane\n",
    "\n",
    "x_1, x_2 = np.meshgrid(np.arange(0.0, 5.0, 0.01), np.arange(0.0, 5.0, 0.01))\n",
    "\n",
    "Z = clf100.predict(np.c_[x_1.ravel(), \n",
    "                         x_2.ravel()]\n",
    "                  )\n",
    "\n",
    "Z = Z.reshape(x_1.shape)\n",
    "\n",
    "plt.contour(x_1, \n",
    "            x_2, \n",
    "            Z, \n",
    "            [0.5], \n",
    "            colors = 'r'\n",
    "           );"
   ]
  },
  {
   "cell_type": "markdown",
   "metadata": {},
   "source": [
    "#### observe que apesar do modelo classificar corretamente o `outlier`, agora temos um `overfit`."
   ]
  },
  {
   "cell_type": "markdown",
   "metadata": {},
   "source": [
    "### Superfície de Separação não Linear\n",
    "\n",
    "#### A seguir, veremos um conjunto de dados que não pôde ser linearmente separável. Aqui é onde os [kernels](https://towardsdatascience.com/understanding-the-kernel-trick-e0bc6112ef78) entram em cena para fornecer a funcionalidade de um classificador não linear."
   ]
  },
  {
   "cell_type": "code",
   "execution_count": 116,
   "metadata": {},
   "outputs": [
    {
     "data": {
      "image/png": "[encoded data removed]",
      "text/plain": [
       "<Figure size 1008x576 with 1 Axes>"
      ]
     },
     "metadata": {
      "needs_background": "light"
     },
     "output_type": "display_data"
    }
   ],
   "source": [
    "# Ok now let's try to create a classifier within a \n",
    "# non linear example using a gaussian kernel\n",
    "data2 = loadmat(DATAPATH_2)\n",
    "\n",
    "X_2 = data2['X']\n",
    "y_2 = data2['y']\n",
    "\n",
    "plot_data(X_2, y_2, 'X', 'y', 'positive', 'negative', 0, 1.0, 0.38, 1)"
   ]
  },
  {
   "cell_type": "markdown",
   "metadata": {},
   "source": [
    "### Implementando SVM com Kernel Gaussiano\n",
    "\n",
    "#### Para esta parte da tarefa, foi solicitado a utilização da função [gaussian Kernel](https://towardsdatascience.com/understanding-support-vector-machine-part-2-kernel-trick-mercers-theorem-e1e6848c6c4d) para auxiliar na implementação do SVM com kernels gaussianos. O SVC contém sua própria implementação de kernel gaussiano na forma de função de base radial [rbf](https://en.wikipedia.org/wiki/Radial_basis_function_kernel).\n",
    "\n",
    "$$\n",
    "\\begin{equation*}\n",
    "K_{gaussian} (x^{(i)},x^{(j)}) = exp \\left( - \\frac{\\parallel x^{(i)} - x^{(j)} \\parallel^2}{ 2 \\sigma^2 } \\right) = exp \\left( - \\frac{\\sum_{k=1}^{n} (x_k^{(i)} - x_k^{(i)})^2}{2 \\sigma^2} \\right)\n",
    "\\end{equation*}\n",
    "$$"
   ]
  },
  {
   "cell_type": "code",
   "execution_count": 117,
   "metadata": {},
   "outputs": [
    {
     "data": {
      "image/png": "[encoded data removed]",
      "text/plain": [
       "<Figure size 1008x576 with 1 Axes>"
      ]
     },
     "metadata": {
      "needs_background": "light"
     },
     "output_type": "display_data"
    }
   ],
   "source": [
    "sigma = 0.1\n",
    "gamma = 1 / (2 * sigma ** 2)\n",
    "\n",
    "clfg = svm.SVC(kernel ='rbf', \n",
    "               gamma = gamma, \n",
    "               C = 1.0, \n",
    "               decision_function_shape = 'ovr'\n",
    "              )\n",
    "clfg.fit(X_2, \n",
    "         y_2.ravel()\n",
    "        )\n",
    "plot_data(X_2, y_2, 'X', 'y', 'positive', 'negative', 0, 1, 0.38, 1)\n",
    "\n",
    "x_1, x_2 = np.meshgrid(np.arange(0.0, 1.0, 0.003), np.arange(0.38, 1.0, 0.003))\n",
    "\n",
    "Z = clfg.predict(np.c_[x_1.ravel(), x_2.ravel()])\n",
    "\n",
    "Z = Z.reshape(x_1.shape)\n",
    "\n",
    "plt.contour(x_1, \n",
    "            x_2, \n",
    "            Z, \n",
    "            [0.5], \n",
    "            colors = 'r'\n",
    "           );"
   ]
  },
  {
   "cell_type": "markdown",
   "metadata": {},
   "source": [
    "### Afinação o hiperparâmetro gamma."
   ]
  },
  {
   "cell_type": "code",
   "execution_count": 118,
   "metadata": {},
   "outputs": [
    {
     "data": {
      "image/png": "[encoded data removed]",
      "text/plain": [
       "<Figure size 1008x576 with 1 Axes>"
      ]
     },
     "metadata": {
      "needs_background": "light"
     },
     "output_type": "display_data"
    }
   ],
   "source": [
    "# Now with cross-validation\n",
    "\n",
    "data3 = loadmat(DATAPATH_3)\n",
    "\n",
    "X_3 = data3['X']\n",
    "y_3 = data3['y']\n",
    "\n",
    "plot_data(X_3, y_3, 'X', 'y', 'positive', 'negative', -0.55, 0.35, -0.8, 0.6)"
   ]
  },
  {
   "cell_type": "markdown",
   "metadata": {},
   "source": [
    "### Implementando a Solução com Intervalo de Valores\n",
    "\n",
    "#### A função [`dataset3Params`](https://towardsdatascience.com/andrew-ngs-machine-learning-course-in-python-support-vector-machines-435fc34b7bf9) percorre a lista de valores fornecidos na função e define $C$ como valores e $gama$ como $1$ / valores. Um modelo `SVC` é construído usando cada combinação de parâmetros e a precisão do conjunto de validação é calculada. Com base na precisão, o melhor modelo é escolhido e os valores para o respectivo $C$ e $gama$ são retornados."
   ]
  },
  {
   "cell_type": "code",
   "execution_count": 119,
   "metadata": {},
   "outputs": [],
   "source": [
    "sigma = [0.01, 0.03, 0.1, 0.3, 1, 3, 10, 30] # range of values of sigma I want to test\n",
    "\n",
    "C = [0.01, 0.03, 0.1, 0.3, 1, 3, 10, 30] # range of values of regularization I want to test\n",
    "\n",
    "errors = list()\n",
    "sigma_c = list()\n",
    "\n",
    "for each in sigma:\n",
    "    for each_c in C:\n",
    "        \n",
    "        clf = svm.SVC(kernel = 'rbf', \n",
    "                      gamma = 1 / (2 * (each ** 2)), \n",
    "                      C = each_c, \n",
    "                      decision_function_shape = 'ovr'\n",
    "                     )\n",
    "        clf.fit(X_3, \n",
    "                y_3.ravel()\n",
    "               )\n",
    "        errors.append(clf.score(data3['Xval'], \n",
    "                                data3['yval'].ravel())\n",
    "                     )\n",
    "        sigma_c.append((each, \n",
    "                        each_c)\n",
    "                      )"
   ]
  },
  {
   "cell_type": "code",
   "execution_count": 120,
   "metadata": {},
   "outputs": [
    {
     "name": "stdout",
     "output_type": "stream",
     "text": [
      "The optimal value of sigma is: 0.1\n",
      "The optimal value of C is: 1\n"
     ]
    }
   ],
   "source": [
    "index = np.argmax(errors)\n",
    "\n",
    "sigma_max, c_max = sigma_c[index]\n",
    "\n",
    "print('The optimal value of sigma is: {}'.format(sigma_max))\n",
    "print('The optimal value of C is: {}'.format(c_max))"
   ]
  },
  {
   "cell_type": "markdown",
   "metadata": {},
   "source": [
    "### Encontrando os melhores valores para $C$ e $gamma$\n",
    "\n",
    "#### Os valores ideais são $C = 0,3$ para $C$ e $gamma = 100$, o que resulta em um limite de decisão semelhante ao da atribuição."
   ]
  },
  {
   "cell_type": "code",
   "execution_count": 121,
   "metadata": {},
   "outputs": [
    {
     "data": {
      "image/png": "[encoded data removed]",
      "text/plain": [
       "<Figure size 1008x576 with 1 Axes>"
      ]
     },
     "metadata": {
      "needs_background": "light"
     },
     "output_type": "display_data"
    }
   ],
   "source": [
    "sigma = 0.1\n",
    "gamma = 1 / (2 * (sigma ** 2))\n",
    "\n",
    "optimal_clf = svm.SVC(kernel = 'rbf', \n",
    "                      gamma = gamma, \n",
    "                      C = 1.0, \n",
    "                      decision_function_shape = 'ovr'\n",
    "                     )\n",
    "optimal_clf.fit(X_3, \n",
    "                y_3.ravel()\n",
    "               )\n",
    "plot_data(X_3, y_3, 'X', 'y', 'positive', 'negative', -0.55, 0.35, -0.8, 0.6)\n",
    "\n",
    "x_1, x_2 = np.meshgrid(np.arange(-0.6, 0.4, 0.004), np.arange(-0.8, 0.6, 0.004))\n",
    "\n",
    "Z = optimal_clf.predict(np.c_[x_1.ravel(), x_2.ravel()])\n",
    "\n",
    "Z = Z.reshape(x_1.shape)\n",
    "\n",
    "plt.contour(x_1, \n",
    "            x_2, \n",
    "            Z, \n",
    "            [0.5], \n",
    "            colors = 'r'\n",
    "           );"
   ]
  },
  {
   "cell_type": "markdown",
   "metadata": {},
   "source": [
    "---------------\n",
    "# Prática Regressão Logística e KNN\n",
    "\n",
    "\n",
    "## Exemplo Brest Cancer.\n",
    "\n",
    "#### Trabalharemos com o `Dataset` [`sklearn.datasets.load_breast_cancer`](https://scikit-learn.org/stable/modules/generated/sklearn.datasets.load_breast_cancer.html), vamos aproveitar o módulo `datasets` do `scikit learn`. Esse `dataset` contém $13$ atributos e $2$ possíveis outcomes: `M (Malign)` ou `B (Benign)`. Nossa tarefa será, a partir dos atributos, conseguir prever o tipo de tumor de cada paciente. Vamos primeiro fazer o `loading` do `dataset`:"
   ]
  },
  {
   "cell_type": "markdown",
   "metadata": {},
   "source": [
    "## Importando as bibliotecas"
   ]
  },
  {
   "cell_type": "code",
   "execution_count": 122,
   "metadata": {},
   "outputs": [],
   "source": [
    "# importando as bilbiotecas\n",
    "import seaborn as sns\n",
    "\n",
    "# importando a biblioteca scikit-learn dataset\n",
    "from sklearn import datasets\n",
    "\n",
    "# carregando o DataSet\n",
    "cancer = datasets.load_breast_cancer()"
   ]
  },
  {
   "cell_type": "markdown",
   "metadata": {},
   "source": [
    "## Carregando e verificando os dados\n",
    "\n",
    "#### Usamos as células abaixo para explorar o `dataset`. É recomendável usar os atributos `.feature_names`, `.target_names` e `.data.shape` para ter um entendimento complementar do `dataset` além dos métodos exploratórios que ja vimos (`.info()`, `.head()`, `.describe()`. \n",
    "\n",
    "#### Para utilizar os métodos exploratórios, precisaremos converter nossos dados em um [`Pandas DataFrame`](https://pandas.pydata.org/pandas-docs/stable/reference/api/pandas.DataFrame.html). Para isso, utilize [`pd.DataFrame.from_dict()`](https://pandas.pydata.org/pandas-docs/stable/reference/api/pandas.DataFrame.from_dict.html)."
   ]
  },
  {
   "cell_type": "markdown",
   "metadata": {},
   "source": [
    "#### Verificando o nome das colunas expicativas."
   ]
  },
  {
   "cell_type": "code",
   "execution_count": 123,
   "metadata": {},
   "outputs": [
    {
     "data": {
      "text/plain": [
       "array(['mean radius', 'mean texture', 'mean perimeter', 'mean area',\n",
       "       'mean smoothness', 'mean compactness', 'mean concavity',\n",
       "       'mean concave points', 'mean symmetry', 'mean fractal dimension',\n",
       "       'radius error', 'texture error', 'perimeter error', 'area error',\n",
       "       'smoothness error', 'compactness error', 'concavity error',\n",
       "       'concave points error', 'symmetry error',\n",
       "       'fractal dimension error', 'worst radius', 'worst texture',\n",
       "       'worst perimeter', 'worst area', 'worst smoothness',\n",
       "       'worst compactness', 'worst concavity', 'worst concave points',\n",
       "       'worst symmetry', 'worst fractal dimension'], dtype='<U23')"
      ]
     },
     "execution_count": 123,
     "metadata": {},
     "output_type": "execute_result"
    }
   ],
   "source": [
    "cancer.feature_names"
   ]
  },
  {
   "cell_type": "markdown",
   "metadata": {},
   "source": [
    "##### Verificando os dados da variável alvo."
   ]
  },
  {
   "cell_type": "code",
   "execution_count": 124,
   "metadata": {},
   "outputs": [
    {
     "data": {
      "text/plain": [
       "array(['malignant', 'benign'], dtype='<U9')"
      ]
     },
     "execution_count": 124,
     "metadata": {},
     "output_type": "execute_result"
    }
   ],
   "source": [
    "cancer.target_names"
   ]
  },
  {
   "cell_type": "markdown",
   "metadata": {},
   "source": [
    "#### Verificando o tamamnho das `features` explicativas."
   ]
  },
  {
   "cell_type": "code",
   "execution_count": 125,
   "metadata": {},
   "outputs": [
    {
     "data": {
      "text/plain": [
       "(569, 30)"
      ]
     },
     "execution_count": 125,
     "metadata": {},
     "output_type": "execute_result"
    }
   ],
   "source": [
    "cancer.data.shape"
   ]
  },
  {
   "cell_type": "markdown",
   "metadata": {},
   "source": [
    "#### Verificando o tamanho da variável alvo."
   ]
  },
  {
   "cell_type": "code",
   "execution_count": 126,
   "metadata": {},
   "outputs": [
    {
     "data": {
      "text/plain": [
       "(569,)"
      ]
     },
     "execution_count": 126,
     "metadata": {},
     "output_type": "execute_result"
    }
   ],
   "source": [
    "cancer.target.shape"
   ]
  },
  {
   "cell_type": "markdown",
   "metadata": {},
   "source": [
    "#### Verificando as variáveis explicativas em um `DataFrame`."
   ]
  },
  {
   "cell_type": "code",
   "execution_count": 127,
   "metadata": {},
   "outputs": [
    {
     "data": {
      "text/html": [
       "<div>\n",
       "<style scoped>\n",
       "    .dataframe tbody tr th:only-of-type {\n",
       "        vertical-align: middle;\n",
       "    }\n",
       "\n",
       "    .dataframe tbody tr th {\n",
       "        vertical-align: top;\n",
       "    }\n",
       "\n",
       "    .dataframe thead th {\n",
       "        text-align: right;\n",
       "    }\n",
       "</style>\n",
       "<table border=\"1\" class=\"dataframe\">\n",
       "  <thead>\n",
       "    <tr style=\"text-align: right;\">\n",
       "      <th></th>\n",
       "      <th>0</th>\n",
       "      <th>1</th>\n",
       "      <th>2</th>\n",
       "      <th>3</th>\n",
       "      <th>4</th>\n",
       "      <th>5</th>\n",
       "      <th>6</th>\n",
       "      <th>7</th>\n",
       "      <th>8</th>\n",
       "      <th>9</th>\n",
       "      <th>...</th>\n",
       "      <th>20</th>\n",
       "      <th>21</th>\n",
       "      <th>22</th>\n",
       "      <th>23</th>\n",
       "      <th>24</th>\n",
       "      <th>25</th>\n",
       "      <th>26</th>\n",
       "      <th>27</th>\n",
       "      <th>28</th>\n",
       "      <th>29</th>\n",
       "    </tr>\n",
       "  </thead>\n",
       "  <tbody>\n",
       "    <tr>\n",
       "      <th>0</th>\n",
       "      <td>17.99</td>\n",
       "      <td>10.38</td>\n",
       "      <td>122.80</td>\n",
       "      <td>1001.0</td>\n",
       "      <td>0.11840</td>\n",
       "      <td>0.27760</td>\n",
       "      <td>0.3001</td>\n",
       "      <td>0.14710</td>\n",
       "      <td>0.2419</td>\n",
       "      <td>0.07871</td>\n",
       "      <td>...</td>\n",
       "      <td>25.38</td>\n",
       "      <td>17.33</td>\n",
       "      <td>184.60</td>\n",
       "      <td>2019.0</td>\n",
       "      <td>0.1622</td>\n",
       "      <td>0.6656</td>\n",
       "      <td>0.7119</td>\n",
       "      <td>0.2654</td>\n",
       "      <td>0.4601</td>\n",
       "      <td>0.11890</td>\n",
       "    </tr>\n",
       "    <tr>\n",
       "      <th>1</th>\n",
       "      <td>20.57</td>\n",
       "      <td>17.77</td>\n",
       "      <td>132.90</td>\n",
       "      <td>1326.0</td>\n",
       "      <td>0.08474</td>\n",
       "      <td>0.07864</td>\n",
       "      <td>0.0869</td>\n",
       "      <td>0.07017</td>\n",
       "      <td>0.1812</td>\n",
       "      <td>0.05667</td>\n",
       "      <td>...</td>\n",
       "      <td>24.99</td>\n",
       "      <td>23.41</td>\n",
       "      <td>158.80</td>\n",
       "      <td>1956.0</td>\n",
       "      <td>0.1238</td>\n",
       "      <td>0.1866</td>\n",
       "      <td>0.2416</td>\n",
       "      <td>0.1860</td>\n",
       "      <td>0.2750</td>\n",
       "      <td>0.08902</td>\n",
       "    </tr>\n",
       "    <tr>\n",
       "      <th>2</th>\n",
       "      <td>19.69</td>\n",
       "      <td>21.25</td>\n",
       "      <td>130.00</td>\n",
       "      <td>1203.0</td>\n",
       "      <td>0.10960</td>\n",
       "      <td>0.15990</td>\n",
       "      <td>0.1974</td>\n",
       "      <td>0.12790</td>\n",
       "      <td>0.2069</td>\n",
       "      <td>0.05999</td>\n",
       "      <td>...</td>\n",
       "      <td>23.57</td>\n",
       "      <td>25.53</td>\n",
       "      <td>152.50</td>\n",
       "      <td>1709.0</td>\n",
       "      <td>0.1444</td>\n",
       "      <td>0.4245</td>\n",
       "      <td>0.4504</td>\n",
       "      <td>0.2430</td>\n",
       "      <td>0.3613</td>\n",
       "      <td>0.08758</td>\n",
       "    </tr>\n",
       "    <tr>\n",
       "      <th>3</th>\n",
       "      <td>11.42</td>\n",
       "      <td>20.38</td>\n",
       "      <td>77.58</td>\n",
       "      <td>386.1</td>\n",
       "      <td>0.14250</td>\n",
       "      <td>0.28390</td>\n",
       "      <td>0.2414</td>\n",
       "      <td>0.10520</td>\n",
       "      <td>0.2597</td>\n",
       "      <td>0.09744</td>\n",
       "      <td>...</td>\n",
       "      <td>14.91</td>\n",
       "      <td>26.50</td>\n",
       "      <td>98.87</td>\n",
       "      <td>567.7</td>\n",
       "      <td>0.2098</td>\n",
       "      <td>0.8663</td>\n",
       "      <td>0.6869</td>\n",
       "      <td>0.2575</td>\n",
       "      <td>0.6638</td>\n",
       "      <td>0.17300</td>\n",
       "    </tr>\n",
       "    <tr>\n",
       "      <th>4</th>\n",
       "      <td>20.29</td>\n",
       "      <td>14.34</td>\n",
       "      <td>135.10</td>\n",
       "      <td>1297.0</td>\n",
       "      <td>0.10030</td>\n",
       "      <td>0.13280</td>\n",
       "      <td>0.1980</td>\n",
       "      <td>0.10430</td>\n",
       "      <td>0.1809</td>\n",
       "      <td>0.05883</td>\n",
       "      <td>...</td>\n",
       "      <td>22.54</td>\n",
       "      <td>16.67</td>\n",
       "      <td>152.20</td>\n",
       "      <td>1575.0</td>\n",
       "      <td>0.1374</td>\n",
       "      <td>0.2050</td>\n",
       "      <td>0.4000</td>\n",
       "      <td>0.1625</td>\n",
       "      <td>0.2364</td>\n",
       "      <td>0.07678</td>\n",
       "    </tr>\n",
       "  </tbody>\n",
       "</table>\n",
       "<p>5 rows × 30 columns</p>\n",
       "</div>"
      ],
      "text/plain": [
       "      0      1       2       3        4        5       6        7       8   \\\n",
       "0  17.99  10.38  122.80  1001.0  0.11840  0.27760  0.3001  0.14710  0.2419   \n",
       "1  20.57  17.77  132.90  1326.0  0.08474  0.07864  0.0869  0.07017  0.1812   \n",
       "2  19.69  21.25  130.00  1203.0  0.10960  0.15990  0.1974  0.12790  0.2069   \n",
       "3  11.42  20.38   77.58   386.1  0.14250  0.28390  0.2414  0.10520  0.2597   \n",
       "4  20.29  14.34  135.10  1297.0  0.10030  0.13280  0.1980  0.10430  0.1809   \n",
       "\n",
       "        9   ...     20     21      22      23      24      25      26      27  \\\n",
       "0  0.07871  ...  25.38  17.33  184.60  2019.0  0.1622  0.6656  0.7119  0.2654   \n",
       "1  0.05667  ...  24.99  23.41  158.80  1956.0  0.1238  0.1866  0.2416  0.1860   \n",
       "2  0.05999  ...  23.57  25.53  152.50  1709.0  0.1444  0.4245  0.4504  0.2430   \n",
       "3  0.09744  ...  14.91  26.50   98.87   567.7  0.2098  0.8663  0.6869  0.2575   \n",
       "4  0.05883  ...  22.54  16.67  152.20  1575.0  0.1374  0.2050  0.4000  0.1625   \n",
       "\n",
       "       28       29  \n",
       "0  0.4601  0.11890  \n",
       "1  0.2750  0.08902  \n",
       "2  0.3613  0.08758  \n",
       "3  0.6638  0.17300  \n",
       "4  0.2364  0.07678  \n",
       "\n",
       "[5 rows x 30 columns]"
      ]
     },
     "execution_count": 127,
     "metadata": {},
     "output_type": "execute_result"
    }
   ],
   "source": [
    "pd.DataFrame.from_dict(cancer.data).head()"
   ]
  },
  {
   "cell_type": "markdown",
   "metadata": {},
   "source": [
    "#### Verificando as variáveis alvo em um `DataFrame`."
   ]
  },
  {
   "cell_type": "code",
   "execution_count": 128,
   "metadata": {},
   "outputs": [
    {
     "data": {
      "text/html": [
       "<div>\n",
       "<style scoped>\n",
       "    .dataframe tbody tr th:only-of-type {\n",
       "        vertical-align: middle;\n",
       "    }\n",
       "\n",
       "    .dataframe tbody tr th {\n",
       "        vertical-align: top;\n",
       "    }\n",
       "\n",
       "    .dataframe thead th {\n",
       "        text-align: right;\n",
       "    }\n",
       "</style>\n",
       "<table border=\"1\" class=\"dataframe\">\n",
       "  <thead>\n",
       "    <tr style=\"text-align: right;\">\n",
       "      <th></th>\n",
       "      <th>0</th>\n",
       "    </tr>\n",
       "  </thead>\n",
       "  <tbody>\n",
       "    <tr>\n",
       "      <th>0</th>\n",
       "      <td>0</td>\n",
       "    </tr>\n",
       "    <tr>\n",
       "      <th>1</th>\n",
       "      <td>0</td>\n",
       "    </tr>\n",
       "    <tr>\n",
       "      <th>2</th>\n",
       "      <td>0</td>\n",
       "    </tr>\n",
       "    <tr>\n",
       "      <th>3</th>\n",
       "      <td>0</td>\n",
       "    </tr>\n",
       "    <tr>\n",
       "      <th>4</th>\n",
       "      <td>0</td>\n",
       "    </tr>\n",
       "  </tbody>\n",
       "</table>\n",
       "</div>"
      ],
      "text/plain": [
       "   0\n",
       "0  0\n",
       "1  0\n",
       "2  0\n",
       "3  0\n",
       "4  0"
      ]
     },
     "execution_count": 128,
     "metadata": {},
     "output_type": "execute_result"
    }
   ],
   "source": [
    "pd.DataFrame.from_dict(cancer.target).head()"
   ]
  },
  {
   "cell_type": "markdown",
   "metadata": {},
   "source": [
    "#### Importamos a biblioteca [`collections — Container datatypes`](https://docs.python.org/3/library/collections.html) que implementa tipos de dados de [contêiner](https://stackabuse.com/introduction-to-pythons-collections-module/) especializados, fornecendo alternativas aos contêineres integrados de uso geral do Python."
   ]
  },
  {
   "cell_type": "code",
   "execution_count": 129,
   "metadata": {},
   "outputs": [
    {
     "data": {
      "text/plain": [
       "Counter({0: 212, 1: 357})"
      ]
     },
     "execution_count": 129,
     "metadata": {},
     "output_type": "execute_result"
    }
   ],
   "source": [
    "import collections\n",
    "collections.Counter(cancer.target)"
   ]
  },
  {
   "cell_type": "markdown",
   "metadata": {},
   "source": [
    "## Separando os dados em treino e teste\n",
    "\n",
    "#### Agora precisamos realizar da biblioteca [`sklearn.model_selection.train_test_split`](https://scikit-learn.org/stable/modules/generated/sklearn.model_selection.train_test_split.html) dos nossos dados, uma vez que voltamos a realizar aprendizado supervisionado. \n",
    "\n",
    "#### Vamos fazer um [`split`](https://towardsdatascience.com/splitting-a-dataset-e328dab2760a) $80-20$. Realizamos o `train-test-split` criando 4 variáveis: `X_train`, `X_test`, `y_train`, `y_test`. Para reproducibilidade, vamos no tradicional `random_state`$= 42$ e `com test_size` $= 0.2$. "
   ]
  },
  {
   "cell_type": "code",
   "execution_count": 130,
   "metadata": {},
   "outputs": [],
   "source": [
    "from sklearn.model_selection import train_test_split\n",
    "\n",
    "\n",
    "X_train, X_test, y_train, y_test = train_test_split(cancer.data, \n",
    "                                                    cancer.target, \n",
    "                                                    test_size = 0.2,\n",
    "                                                    random_state = 42\n",
    "                                                   ) "
   ]
  },
  {
   "cell_type": "markdown",
   "metadata": {},
   "source": [
    "#### Verificando o tamanho dos dados de treino e teste."
   ]
  },
  {
   "cell_type": "code",
   "execution_count": 131,
   "metadata": {},
   "outputs": [
    {
     "data": {
      "text/plain": [
       "((455, 30), (114, 30), (455,), (114,))"
      ]
     },
     "execution_count": 131,
     "metadata": {},
     "output_type": "execute_result"
    }
   ],
   "source": [
    "X_train.shape, X_test.shape, y_train.shape, y_test.shape"
   ]
  },
  {
   "cell_type": "markdown",
   "metadata": {},
   "source": [
    "## Rodando o classificador de Machine Learning - Regressão Logística\n",
    "\n",
    "#### Com nosso dados de treino e teste, estamos prontos para aplicar nossos métodos de classificação! Vamos implementar uma regressão logística com o auxílio da bibliotea [`sklearn.linear_model import LogisticRegression`](https://scikit-learn.org/stable/modules/generated/sklearn.linear_model.LogisticRegression.html) e observar os resultados segundo as métricas que discutimos mais acima. Utiliza os parâmetros `dual = False` e `max_iter` $= 5000$ para evitar erros de convergência."
   ]
  },
  {
   "cell_type": "code",
   "execution_count": 132,
   "metadata": {},
   "outputs": [],
   "source": [
    "from sklearn.linear_model import LogisticRegression\n",
    "\n",
    "\n",
    "clf = LogisticRegression(dual = False, \n",
    "                         max_iter = 5000\n",
    "                        )\n",
    "\n",
    "clf.fit(X_train, \n",
    "        y_train\n",
    "       )\n",
    "\n",
    "# fazendo predições para os dados de teste\n",
    "y_pred = clf.predict(X_test)"
   ]
  },
  {
   "cell_type": "markdown",
   "metadata": {},
   "source": [
    "## Medindo os resultados\n",
    "\n",
    "#### Legal, montamos nosso modelo de regressão logística. Vamos montar a matriz de confusão dados os outputs do modelo e nossos targets. Para tal, importe o módulo `metrics` do scikit e crie uma variável cnf_matrix que recebe `metrics.confusion_matrix()`. Essa classe [sklearn.metrics.confusion_matrix](https://scikit-learn.org/stable/modules/generated/sklearn.metrics.confusion_matrix.html) recebe 2 argumentos: `y_test` e `y_pred`. Por fim, faça o `print()` da matriz."
   ]
  },
  {
   "cell_type": "code",
   "execution_count": 133,
   "metadata": {},
   "outputs": [
    {
     "data": {
      "text/plain": [
       "array([[39,  4],\n",
       "       [ 1, 70]])"
      ]
     },
     "execution_count": 133,
     "metadata": {},
     "output_type": "execute_result"
    }
   ],
   "source": [
    "from sklearn import metrics\n",
    "\n",
    "cnf_matrix = metrics.confusion_matrix(y_test, \n",
    "                                      y_pred\n",
    "                                     )\n",
    "cnf_matrix"
   ]
  },
  {
   "cell_type": "markdown",
   "metadata": {},
   "source": [
    "#### Parece então que temos `TN` $= 39$,`FP` $= 4$, `FN`$= 1$ e `TP`$= 70$, é o que obtemos da matriz de confusão [`sklearn.metrics.confusion_matrix`](https://scikit-learn.org/stable/modules/generated/sklearn.metrics.confusion_matrix.html). Vamos puxar as métricas `accuracy`, `precision` e `recall` chamando os respectivos métodos de [`sklearn.metrics`](https://scikit-learn.org/stable/modules/classes.html#module-sklearn.metrics). \n",
    "\n",
    "#### Eles são [`.accuracy_score()`](https://scikit-learn.org/stable/modules/generated/sklearn.metrics.accuracy_score.html), [`.precision_score()`](https://scikit-learn.org/stable/modules/generated/sklearn.metrics.precision_score.html) e [`.recall_score()`](https://scikit-learn.org/stable/modules/generated/sklearn.metrics.recall_score.html). Todos eles recebem $2$ argumentos: `y_test` e `y_pred`. Faça o print das 3 métricas."
   ]
  },
  {
   "cell_type": "code",
   "execution_count": 134,
   "metadata": {},
   "outputs": [
    {
     "data": {
      "text/plain": [
       "<function sklearn.metrics._classification.confusion_matrix(y_true, y_pred, *, labels=None, sample_weight=None, normalize=None)>"
      ]
     },
     "execution_count": 134,
     "metadata": {},
     "output_type": "execute_result"
    }
   ],
   "source": [
    "metrics.confusion_matrix"
   ]
  },
  {
   "cell_type": "markdown",
   "metadata": {},
   "source": [
    "#### Imprimindo as métricas. "
   ]
  },
  {
   "cell_type": "code",
   "execution_count": 135,
   "metadata": {},
   "outputs": [
    {
     "name": "stdout",
     "output_type": "stream",
     "text": [
      "Accuracy: 0.956140350877193\n",
      "Precision: 0.9459459459459459\n",
      "Recall: 0.9859154929577465\n"
     ]
    }
   ],
   "source": [
    "print(\"Accuracy:\", metrics.accuracy_score(y_test, \n",
    "                                          y_pred\n",
    "                                         )\n",
    "     )\n",
    "print(\"Precision:\", metrics.precision_score(y_test, \n",
    "                                            y_pred\n",
    "                                           )\n",
    "     )\n",
    "print(\"Recall:\", metrics.recall_score(y_test, \n",
    "                                      y_pred\n",
    "                                     )\n",
    "     )"
   ]
  },
  {
   "cell_type": "markdown",
   "metadata": {},
   "source": [
    "#### Parece que temos um bom modelo para prever o perfil do câncer de mama dos pontos observados, nossas três métricas estão acima de $90%$."
   ]
  },
  {
   "cell_type": "markdown",
   "metadata": {},
   "source": [
    "## Rodando o classificador de Machine Learning - KNN\n",
    "\n",
    "#### Vamos agora implemntar o modelo [`kNN`](https://www.youtube.com/watch?v=MDniRwXizWo&ab_channel=AugmentedStartups) para $k$ vizinhos mais próximos. Usaremos a biblioteca  [`sklearn.neighbors.KNeighborsClassifier`](https://scikit-learn.org/stable/modules/generated/sklearn.neighbors.KNeighborsClassifier.html) para isso."
   ]
  },
  {
   "cell_type": "code",
   "execution_count": 136,
   "metadata": {},
   "outputs": [],
   "source": [
    "from sklearn.neighbors import KNeighborsClassifier\n",
    "\n",
    "\n",
    "knn = KNeighborsClassifier()\n",
    "\n",
    "knn.fit(X_train, \n",
    "        y_train\n",
    "       )\n",
    "y_pred = knn.predict(X_test)"
   ]
  },
  {
   "cell_type": "markdown",
   "metadata": {},
   "source": [
    "#### Aplicando o `KNN` nos dados de treino."
   ]
  },
  {
   "cell_type": "code",
   "execution_count": 137,
   "metadata": {},
   "outputs": [
    {
     "data": {
      "text/plain": [
       "array([[147,  22],\n",
       "       [  5, 281]])"
      ]
     },
     "execution_count": 137,
     "metadata": {},
     "output_type": "execute_result"
    }
   ],
   "source": [
    "y_pred_train = knn.predict(X_train)\n",
    "cnf_matrix = metrics.confusion_matrix(y_train, \n",
    "                                      y_pred_train\n",
    "                                     )\n",
    "cnf_matrix"
   ]
  },
  {
   "cell_type": "markdown",
   "metadata": {},
   "source": [
    "#### Imprimindo as métricas. "
   ]
  },
  {
   "cell_type": "code",
   "execution_count": 138,
   "metadata": {},
   "outputs": [
    {
     "name": "stdout",
     "output_type": "stream",
     "text": [
      "Accuracy: 0.9406593406593406\n",
      "Precision: 0.9273927392739274\n",
      "Recall: 0.9825174825174825\n"
     ]
    }
   ],
   "source": [
    "print(\"Accuracy:\", metrics.accuracy_score(y_train, \n",
    "                                          y_pred_train\n",
    "                                         )\n",
    "     )\n",
    "print(\"Precision:\", metrics.precision_score(y_train, \n",
    "                                            y_pred_train\n",
    "                                           )\n",
    "     )\n",
    "print(\"Recall:\", metrics.recall_score(y_train, \n",
    "                                      y_pred_train\n",
    "                                     )\n",
    "     )"
   ]
  },
  {
   "cell_type": "markdown",
   "metadata": {},
   "source": [
    "#### Aplicando o KNN para dados de teste."
   ]
  },
  {
   "cell_type": "code",
   "execution_count": 139,
   "metadata": {},
   "outputs": [
    {
     "data": {
      "text/plain": [
       "array([[38,  5],\n",
       "       [ 0, 71]])"
      ]
     },
     "execution_count": 139,
     "metadata": {},
     "output_type": "execute_result"
    }
   ],
   "source": [
    "from sklearn import metrics\n",
    "\n",
    "cnf_matrix = metrics.confusion_matrix(y_test, \n",
    "                                      y_pred\n",
    "                                     )\n",
    "cnf_matrix"
   ]
  },
  {
   "cell_type": "markdown",
   "metadata": {},
   "source": [
    "#### Imprimindo as métricas. "
   ]
  },
  {
   "cell_type": "code",
   "execution_count": 140,
   "metadata": {},
   "outputs": [
    {
     "name": "stdout",
     "output_type": "stream",
     "text": [
      "Accuracy: 0.956140350877193\n",
      "Precision: 0.9342105263157895\n",
      "Recall: 1.0\n"
     ]
    }
   ],
   "source": [
    "print(\"Accuracy:\", metrics.accuracy_score(y_test, \n",
    "                                          y_pred\n",
    "                                         )\n",
    "     )\n",
    "print(\"Precision:\", metrics.precision_score(y_test, \n",
    "                                            y_pred\n",
    "                                           )\n",
    "     )\n",
    "print(\"Recall:\", metrics.recall_score(y_test, \n",
    "                                      y_pred\n",
    "                                     )\n",
    "     )"
   ]
  },
  {
   "cell_type": "markdown",
   "metadata": {},
   "source": [
    "----------------\n",
    "\n",
    "# Exemplo Diabetes\n",
    "\n",
    "#### Para esse exercício, usaremos o [dataset Diabetes](https://www.kaggle.com/uciml/pima-indians-diabetes-database) de dados de diabetes os índios Pima [`Pima Indians`](https://archive.ics.uci.edu/ml/support/diabetes). "
   ]
  },
  {
   "cell_type": "markdown",
   "metadata": {},
   "source": [
    "## Lendo e verificando os dados"
   ]
  },
  {
   "cell_type": "code",
   "execution_count": 141,
   "metadata": {},
   "outputs": [
    {
     "name": "stdout",
     "output_type": "stream",
     "text": [
      "<class 'pandas.core.frame.DataFrame'>\n",
      "RangeIndex: 768 entries, 0 to 767\n",
      "Data columns (total 9 columns):\n",
      " #   Column    Non-Null Count  Dtype  \n",
      "---  ------    --------------  -----  \n",
      " 0   pregnant  768 non-null    int64  \n",
      " 1   glucose   768 non-null    int64  \n",
      " 2   bp        768 non-null    int64  \n",
      " 3   skin      768 non-null    int64  \n",
      " 4   insulin   768 non-null    int64  \n",
      " 5   bmi       768 non-null    float64\n",
      " 6   pedigree  768 non-null    float64\n",
      " 7   age       768 non-null    int64  \n",
      " 8   label     768 non-null    int64  \n",
      "dtypes: float64(2), int64(7)\n",
      "memory usage: 54.1 KB\n"
     ]
    }
   ],
   "source": [
    "col_names = ['pregnant', 'glucose', 'bp', 'skin', 'insulin', 'bmi', 'pedigree', 'age', 'label']\n",
    "\n",
    "pima = pd.read_csv(\"diabetes.csv\", \n",
    "                   header = 0, \n",
    "                   names = col_names\n",
    "                  )\n",
    "\n",
    "pima.info()"
   ]
  },
  {
   "cell_type": "markdown",
   "metadata": {},
   "source": [
    "#### Verificando o `DataFrame`."
   ]
  },
  {
   "cell_type": "code",
   "execution_count": 142,
   "metadata": {},
   "outputs": [
    {
     "data": {
      "text/html": [
       "<div>\n",
       "<style scoped>\n",
       "    .dataframe tbody tr th:only-of-type {\n",
       "        vertical-align: middle;\n",
       "    }\n",
       "\n",
       "    .dataframe tbody tr th {\n",
       "        vertical-align: top;\n",
       "    }\n",
       "\n",
       "    .dataframe thead th {\n",
       "        text-align: right;\n",
       "    }\n",
       "</style>\n",
       "<table border=\"1\" class=\"dataframe\">\n",
       "  <thead>\n",
       "    <tr style=\"text-align: right;\">\n",
       "      <th></th>\n",
       "      <th>pregnant</th>\n",
       "      <th>glucose</th>\n",
       "      <th>bp</th>\n",
       "      <th>skin</th>\n",
       "      <th>insulin</th>\n",
       "      <th>bmi</th>\n",
       "      <th>pedigree</th>\n",
       "      <th>age</th>\n",
       "      <th>label</th>\n",
       "    </tr>\n",
       "  </thead>\n",
       "  <tbody>\n",
       "    <tr>\n",
       "      <th>0</th>\n",
       "      <td>6</td>\n",
       "      <td>148</td>\n",
       "      <td>72</td>\n",
       "      <td>35</td>\n",
       "      <td>0</td>\n",
       "      <td>33.6</td>\n",
       "      <td>0.627</td>\n",
       "      <td>50</td>\n",
       "      <td>1</td>\n",
       "    </tr>\n",
       "    <tr>\n",
       "      <th>1</th>\n",
       "      <td>1</td>\n",
       "      <td>85</td>\n",
       "      <td>66</td>\n",
       "      <td>29</td>\n",
       "      <td>0</td>\n",
       "      <td>26.6</td>\n",
       "      <td>0.351</td>\n",
       "      <td>31</td>\n",
       "      <td>0</td>\n",
       "    </tr>\n",
       "    <tr>\n",
       "      <th>2</th>\n",
       "      <td>8</td>\n",
       "      <td>183</td>\n",
       "      <td>64</td>\n",
       "      <td>0</td>\n",
       "      <td>0</td>\n",
       "      <td>23.3</td>\n",
       "      <td>0.672</td>\n",
       "      <td>32</td>\n",
       "      <td>1</td>\n",
       "    </tr>\n",
       "    <tr>\n",
       "      <th>3</th>\n",
       "      <td>1</td>\n",
       "      <td>89</td>\n",
       "      <td>66</td>\n",
       "      <td>23</td>\n",
       "      <td>94</td>\n",
       "      <td>28.1</td>\n",
       "      <td>0.167</td>\n",
       "      <td>21</td>\n",
       "      <td>0</td>\n",
       "    </tr>\n",
       "    <tr>\n",
       "      <th>4</th>\n",
       "      <td>0</td>\n",
       "      <td>137</td>\n",
       "      <td>40</td>\n",
       "      <td>35</td>\n",
       "      <td>168</td>\n",
       "      <td>43.1</td>\n",
       "      <td>2.288</td>\n",
       "      <td>33</td>\n",
       "      <td>1</td>\n",
       "    </tr>\n",
       "  </tbody>\n",
       "</table>\n",
       "</div>"
      ],
      "text/plain": [
       "   pregnant  glucose  bp  skin  insulin   bmi  pedigree  age  label\n",
       "0         6      148  72    35        0  33.6     0.627   50      1\n",
       "1         1       85  66    29        0  26.6     0.351   31      0\n",
       "2         8      183  64     0        0  23.3     0.672   32      1\n",
       "3         1       89  66    23       94  28.1     0.167   21      0\n",
       "4         0      137  40    35      168  43.1     2.288   33      1"
      ]
     },
     "execution_count": 142,
     "metadata": {},
     "output_type": "execute_result"
    }
   ],
   "source": [
    "pima.head()"
   ]
  },
  {
   "cell_type": "code",
   "execution_count": 143,
   "metadata": {},
   "outputs": [
    {
     "data": {
      "text/html": [
       "<div>\n",
       "<style scoped>\n",
       "    .dataframe tbody tr th:only-of-type {\n",
       "        vertical-align: middle;\n",
       "    }\n",
       "\n",
       "    .dataframe tbody tr th {\n",
       "        vertical-align: top;\n",
       "    }\n",
       "\n",
       "    .dataframe thead th {\n",
       "        text-align: right;\n",
       "    }\n",
       "</style>\n",
       "<table border=\"1\" class=\"dataframe\">\n",
       "  <thead>\n",
       "    <tr style=\"text-align: right;\">\n",
       "      <th></th>\n",
       "      <th>count</th>\n",
       "      <th>mean</th>\n",
       "      <th>std</th>\n",
       "      <th>min</th>\n",
       "      <th>25%</th>\n",
       "      <th>50%</th>\n",
       "      <th>75%</th>\n",
       "      <th>max</th>\n",
       "    </tr>\n",
       "  </thead>\n",
       "  <tbody>\n",
       "    <tr>\n",
       "      <th>pregnant</th>\n",
       "      <td>768.0</td>\n",
       "      <td>3.845052</td>\n",
       "      <td>3.369578</td>\n",
       "      <td>0.000</td>\n",
       "      <td>1.00000</td>\n",
       "      <td>3.0000</td>\n",
       "      <td>6.00000</td>\n",
       "      <td>17.00</td>\n",
       "    </tr>\n",
       "    <tr>\n",
       "      <th>glucose</th>\n",
       "      <td>768.0</td>\n",
       "      <td>120.894531</td>\n",
       "      <td>31.972618</td>\n",
       "      <td>0.000</td>\n",
       "      <td>99.00000</td>\n",
       "      <td>117.0000</td>\n",
       "      <td>140.25000</td>\n",
       "      <td>199.00</td>\n",
       "    </tr>\n",
       "    <tr>\n",
       "      <th>bp</th>\n",
       "      <td>768.0</td>\n",
       "      <td>69.105469</td>\n",
       "      <td>19.355807</td>\n",
       "      <td>0.000</td>\n",
       "      <td>62.00000</td>\n",
       "      <td>72.0000</td>\n",
       "      <td>80.00000</td>\n",
       "      <td>122.00</td>\n",
       "    </tr>\n",
       "    <tr>\n",
       "      <th>skin</th>\n",
       "      <td>768.0</td>\n",
       "      <td>20.536458</td>\n",
       "      <td>15.952218</td>\n",
       "      <td>0.000</td>\n",
       "      <td>0.00000</td>\n",
       "      <td>23.0000</td>\n",
       "      <td>32.00000</td>\n",
       "      <td>99.00</td>\n",
       "    </tr>\n",
       "    <tr>\n",
       "      <th>insulin</th>\n",
       "      <td>768.0</td>\n",
       "      <td>79.799479</td>\n",
       "      <td>115.244002</td>\n",
       "      <td>0.000</td>\n",
       "      <td>0.00000</td>\n",
       "      <td>30.5000</td>\n",
       "      <td>127.25000</td>\n",
       "      <td>846.00</td>\n",
       "    </tr>\n",
       "    <tr>\n",
       "      <th>bmi</th>\n",
       "      <td>768.0</td>\n",
       "      <td>31.992578</td>\n",
       "      <td>7.884160</td>\n",
       "      <td>0.000</td>\n",
       "      <td>27.30000</td>\n",
       "      <td>32.0000</td>\n",
       "      <td>36.60000</td>\n",
       "      <td>67.10</td>\n",
       "    </tr>\n",
       "    <tr>\n",
       "      <th>pedigree</th>\n",
       "      <td>768.0</td>\n",
       "      <td>0.471876</td>\n",
       "      <td>0.331329</td>\n",
       "      <td>0.078</td>\n",
       "      <td>0.24375</td>\n",
       "      <td>0.3725</td>\n",
       "      <td>0.62625</td>\n",
       "      <td>2.42</td>\n",
       "    </tr>\n",
       "    <tr>\n",
       "      <th>age</th>\n",
       "      <td>768.0</td>\n",
       "      <td>33.240885</td>\n",
       "      <td>11.760232</td>\n",
       "      <td>21.000</td>\n",
       "      <td>24.00000</td>\n",
       "      <td>29.0000</td>\n",
       "      <td>41.00000</td>\n",
       "      <td>81.00</td>\n",
       "    </tr>\n",
       "    <tr>\n",
       "      <th>label</th>\n",
       "      <td>768.0</td>\n",
       "      <td>0.348958</td>\n",
       "      <td>0.476951</td>\n",
       "      <td>0.000</td>\n",
       "      <td>0.00000</td>\n",
       "      <td>0.0000</td>\n",
       "      <td>1.00000</td>\n",
       "      <td>1.00</td>\n",
       "    </tr>\n",
       "  </tbody>\n",
       "</table>\n",
       "</div>"
      ],
      "text/plain": [
       "          count        mean         std     min       25%       50%  \\\n",
       "pregnant  768.0    3.845052    3.369578   0.000   1.00000    3.0000   \n",
       "glucose   768.0  120.894531   31.972618   0.000  99.00000  117.0000   \n",
       "bp        768.0   69.105469   19.355807   0.000  62.00000   72.0000   \n",
       "skin      768.0   20.536458   15.952218   0.000   0.00000   23.0000   \n",
       "insulin   768.0   79.799479  115.244002   0.000   0.00000   30.5000   \n",
       "bmi       768.0   31.992578    7.884160   0.000  27.30000   32.0000   \n",
       "pedigree  768.0    0.471876    0.331329   0.078   0.24375    0.3725   \n",
       "age       768.0   33.240885   11.760232  21.000  24.00000   29.0000   \n",
       "label     768.0    0.348958    0.476951   0.000   0.00000    0.0000   \n",
       "\n",
       "                75%     max  \n",
       "pregnant    6.00000   17.00  \n",
       "glucose   140.25000  199.00  \n",
       "bp         80.00000  122.00  \n",
       "skin       32.00000   99.00  \n",
       "insulin   127.25000  846.00  \n",
       "bmi        36.60000   67.10  \n",
       "pedigree    0.62625    2.42  \n",
       "age        41.00000   81.00  \n",
       "label       1.00000    1.00  "
      ]
     },
     "execution_count": 143,
     "metadata": {},
     "output_type": "execute_result"
    }
   ],
   "source": [
    "pima.describe().T"
   ]
  },
  {
   "cell_type": "markdown",
   "metadata": {},
   "source": [
    "## Verificando o balanceamento da variável `target`.\n",
    "\n",
    "#### Parece que temos $1$ para casos positivos de diabetes e $0$ para casos negativos. Num problema de classificação, é muito importante que, sempre que possível, façamos o balanceamento de classes, senão o modelo aprenderá de modo enviesado. Na célula abaixo, vamos realizar um `.groupby()` em label seguido de um `.count()` para checar se nosso `dataset` está balanceado."
   ]
  },
  {
   "cell_type": "markdown",
   "metadata": {},
   "source": [
    "#### Verificando o tamanho das classes por `groupby`."
   ]
  },
  {
   "cell_type": "code",
   "execution_count": 144,
   "metadata": {},
   "outputs": [
    {
     "data": {
      "text/plain": [
       "label\n",
       "0    500\n",
       "1    268\n",
       "Name: glucose, dtype: int64"
      ]
     },
     "execution_count": 144,
     "metadata": {},
     "output_type": "execute_result"
    }
   ],
   "source": [
    "pima.groupby('label').glucose.count()"
   ]
  },
  {
   "cell_type": "markdown",
   "metadata": {},
   "source": [
    "## Dividindo os dados em treino e teste\n",
    "\n",
    "#### Nosso `dataset` não está balanceado $50%-50%$. Vamos seguir como ele está, observar os resultados e então decidir se vale a pena balanceá-lo ou aplicar outras transformações. Abaixo, realizamos a separação em subconjuntos de treino e teste."
   ]
  },
  {
   "cell_type": "code",
   "execution_count": 145,
   "metadata": {},
   "outputs": [],
   "source": [
    "feature_cols = ['pregnant', 'glucose', 'bp', 'skin', 'insulin', 'bmi', 'pedigree', 'age']\n",
    "\n",
    "X = pima[feature_cols] \n",
    "y = pima.label "
   ]
  },
  {
   "cell_type": "markdown",
   "metadata": {},
   "source": [
    "## Split dos Dados\n",
    "\n",
    "Agora implemente o split de dados conforme a documentação oficial do [sklearn.model_selection.train_test_split](https://scikit-learn.org/stable/modules/generated/sklearn.model_selection.train_test_split.html), com test_size = 0.2 e random_state = 42"
   ]
  },
  {
   "cell_type": "code",
   "execution_count": 146,
   "metadata": {},
   "outputs": [],
   "source": [
    "X_train, X_test, y_train, y_test = train_test_split(X, \n",
    "                                                    y, \n",
    "                                                    test_size = 0.2, \n",
    "                                                    random_state = 42\n",
    "                                                   )"
   ]
  },
  {
   "cell_type": "markdown",
   "metadata": {},
   "source": [
    "## Rodando o classificador básico e medindo os resultados\n",
    "\n",
    "#### Vamos aplicar a Regressão logística da mesma maneira. Ao final da construção das prediçoes, chamamos as três métricas básicas de classificação binária. Utilizamos os mesmos códigos já aplicados anteriormente, com os hiperparâmentros da regressão logística `dual = False` e `max_iter` $= 5000$."
   ]
  },
  {
   "cell_type": "code",
   "execution_count": 147,
   "metadata": {},
   "outputs": [
    {
     "name": "stdout",
     "output_type": "stream",
     "text": [
      "Accuracy: 0.7467532467532467\n",
      "Precision: 0.6379310344827587\n",
      "Recall: 0.6727272727272727\n"
     ]
    }
   ],
   "source": [
    "clf = LogisticRegression(dual = False, \n",
    "                         max_iter = 5000\n",
    "                        )\n",
    "clf.fit(X_train, \n",
    "        y_train\n",
    "       )\n",
    "y_pred = clf.predict(X_test)\n",
    "\n",
    "print(\"Accuracy:\", metrics.accuracy_score(y_test, \n",
    "                                         y_pred\n",
    "                                        )\n",
    "     )\n",
    "print(\"Precision:\", metrics.precision_score(y_test, \n",
    "                                           y_pred\n",
    "                                          )\n",
    "     )\n",
    "print(\"Recall:\", metrics.recall_score(y_test, \n",
    "                                     y_pred\n",
    "                                    )\n",
    "     )"
   ]
  },
  {
   "cell_type": "markdown",
   "metadata": {},
   "source": [
    "## Plotando a curva `ROC`.\n",
    "\n",
    "#### Dessa vez nossos resultados não deram tão certo. Será que a regressão logística está realizando seu trabalho? Podemos observar isso pelo `plot` da curva `ROC`:"
   ]
  },
  {
   "cell_type": "code",
   "execution_count": 148,
   "metadata": {},
   "outputs": [
    {
     "data": {
      "image/png": "[encoded data removed]",
      "text/plain": [
       "<Figure size 1008x576 with 1 Axes>"
      ]
     },
     "metadata": {
      "needs_background": "light"
     },
     "output_type": "display_data"
    }
   ],
   "source": [
    "y_pred_proba = clf.predict_proba(X_test)[::,1]\n",
    "\n",
    "fpr, tpr, _ = metrics.roc_curve(y_test,  y_pred_proba)\n",
    "\n",
    "auc = metrics.roc_auc_score(y_test, \n",
    "                            y_pred_proba\n",
    "                           )\n",
    "\n",
    "plt.plot(fpr,tpr,label = \"data 1, auc=\"+str(auc))\n",
    "\n",
    "plt.plot([0, 1], \n",
    "         [0, 1], \n",
    "         color = 'red', \n",
    "         lw = 2, \n",
    "         linestyle = '--'\n",
    "        )\n",
    "plt.legend(loc = 4);"
   ]
  },
  {
   "cell_type": "markdown",
   "metadata": {},
   "source": [
    "------------\n",
    "\n",
    "# Rodando outros classificadores de Machine Learning\n",
    "\n",
    "#### Os resultados não são satisfatórios. Uma coisa que podemos fazer é resolver esse problema tentar alguns modelos, testar no nosso `dataset` e optear pelo que se sai melhor."
   ]
  },
  {
   "cell_type": "code",
   "execution_count": 149,
   "metadata": {},
   "outputs": [
    {
     "name": "stdout",
     "output_type": "stream",
     "text": [
      "==============================\n",
      "KNeighborsClassifier\n",
      "****Results****\n",
      "Accuracy: 0.6623376623376623\n",
      "Precision: 0.5245901639344263\n",
      "Recall: 0.5818181818181818\n",
      "==============================\n",
      "GaussianNB\n",
      "****Results****\n",
      "Accuracy: 0.7662337662337663\n",
      "Precision: 0.6610169491525424\n",
      "Recall: 0.7090909090909091\n",
      "==============================\n",
      "LogisticRegression\n",
      "****Results****\n",
      "Accuracy: 0.7467532467532467\n",
      "Precision: 0.6379310344827587\n",
      "Recall: 0.6727272727272727\n",
      "==============================\n",
      "SVC\n",
      "****Results****\n",
      "Accuracy: 0.7662337662337663\n",
      "Precision: 0.7209302325581395\n",
      "Recall: 0.5636363636363636\n",
      "==============================\n",
      "DecisionTreeClassifier\n",
      "****Results****\n",
      "Accuracy: 0.7467532467532467\n",
      "Precision: 0.6333333333333333\n",
      "Recall: 0.6909090909090909\n",
      "==============================\n",
      "RandomForestClassifier\n",
      "****Results****\n",
      "Accuracy: 0.7597402597402597\n",
      "Precision: 0.6666666666666666\n",
      "Recall: 0.6545454545454545\n",
      "==============================\n",
      "GradientBoostingClassifier\n",
      "****Results****\n",
      "Accuracy: 0.7467532467532467\n",
      "Precision: 0.6379310344827587\n",
      "Recall: 0.6727272727272727\n"
     ]
    }
   ],
   "source": [
    "from sklearn.neighbors import KNeighborsClassifier\n",
    "from sklearn.svm import SVC\n",
    "from sklearn.tree import DecisionTreeClassifier\n",
    "from sklearn.ensemble import RandomForestClassifier, GradientBoostingClassifier\n",
    "from sklearn.naive_bayes import GaussianNB\n",
    "\n",
    "\n",
    "classifiers = [\n",
    "    KNeighborsClassifier(),\n",
    "    GaussianNB(),\n",
    "    LogisticRegression(dual = False, max_iter = 5000),\n",
    "    SVC(),\n",
    "    DecisionTreeClassifier(),\n",
    "    RandomForestClassifier(),\n",
    "    GradientBoostingClassifier()]\n",
    "\n",
    "\n",
    "for clf in classifiers:\n",
    "\n",
    "    clf.fit(X_train, y_train)\n",
    "    # armazenando o nome do modelo na variável name\n",
    "    name = clf.__class__.__name__\n",
    "    # imprimindo o nome do modelo\n",
    "    print(\"=\" * 30)\n",
    "    print(name)\n",
    "    # imprimindo os resultados do modelo\n",
    "    print('****Results****')\n",
    "    y_pred = clf.predict(X_test)\n",
    "    print(\"Accuracy:\", metrics.accuracy_score(y_test, \n",
    "                                              y_pred\n",
    "                                             )\n",
    "         )\n",
    "    print(\"Precision:\", metrics.precision_score(y_test, \n",
    "                                                y_pred\n",
    "                                               )\n",
    "         )\n",
    "    print(\"Recall:\", metrics.recall_score(y_test, \n",
    "                                          y_pred\n",
    "                                         )\n",
    "         )"
   ]
  },
  {
   "cell_type": "markdown",
   "metadata": {},
   "source": [
    "#### Desse jeito testamos vários modelos ao mesmo tempo, para então analisarmos seus `outputs`. Dados os resultados acima, qual classificador você escolheria?\n",
    "\n",
    "#### Podemos observar também que os algoritmos apresentam performances semelhantes. Será que não vale a pena voltar ao `dataset` e tomar decisões sobre ele? Por exemplo, realizar um balanceamento e `scaling` devidos? "
   ]
  },
  {
   "cell_type": "markdown",
   "metadata": {},
   "source": [
    "## Balanceamento dos dados\n",
    "\n",
    "#### Utilizando o balanceamento como estratégia para atacar o problema e melhorar as métricas."
   ]
  },
  {
   "cell_type": "markdown",
   "metadata": {},
   "source": [
    "##### Definindo variáveis para cada uma das classes."
   ]
  },
  {
   "cell_type": "code",
   "execution_count": 150,
   "metadata": {},
   "outputs": [],
   "source": [
    "pima_0 = pima[pima['label'] == 0]\n",
    "pima_1 = pima[pima['label'] == 1]"
   ]
  },
  {
   "cell_type": "markdown",
   "metadata": {},
   "source": [
    "#### Verificando o desbalanceamento."
   ]
  },
  {
   "cell_type": "code",
   "execution_count": 151,
   "metadata": {},
   "outputs": [
    {
     "data": {
      "text/plain": [
       "(500, 268)"
      ]
     },
     "execution_count": 151,
     "metadata": {},
     "output_type": "execute_result"
    }
   ],
   "source": [
    "len(pima_0), len(pima_1)"
   ]
  },
  {
   "cell_type": "markdown",
   "metadata": {},
   "source": [
    "#### Fazendo um `undersampling` da classe com `output` zero (em maior número)."
   ]
  },
  {
   "cell_type": "code",
   "execution_count": 152,
   "metadata": {},
   "outputs": [
    {
     "data": {
      "text/plain": [
       "268"
      ]
     },
     "execution_count": 152,
     "metadata": {},
     "output_type": "execute_result"
    }
   ],
   "source": [
    "pima_0 = pima_0.sample(n = 268)\n",
    "len(pima_0)"
   ]
  },
  {
   "cell_type": "markdown",
   "metadata": {},
   "source": [
    "#### Concatenando os dois `datasets` com o mesmo tamanho."
   ]
  },
  {
   "cell_type": "code",
   "execution_count": 153,
   "metadata": {},
   "outputs": [
    {
     "data": {
      "text/plain": [
       "0    268\n",
       "1    268\n",
       "Name: label, dtype: int64"
      ]
     },
     "execution_count": 153,
     "metadata": {},
     "output_type": "execute_result"
    }
   ],
   "source": [
    "pima = pd.concat([pima_0, pima_1])\n",
    "pima['label'].value_counts()"
   ]
  },
  {
   "cell_type": "markdown",
   "metadata": {},
   "source": [
    "#### Realizamos o `scaling` dos dados."
   ]
  },
  {
   "cell_type": "code",
   "execution_count": 154,
   "metadata": {},
   "outputs": [],
   "source": [
    "feature_cols = ['pregnant', 'glucose', 'bp', 'skin', 'insulin', 'bmi', 'pedigree', 'age']\n",
    "\n",
    "to_sc = pima[feature_cols] "
   ]
  },
  {
   "cell_type": "code",
   "execution_count": 155,
   "metadata": {},
   "outputs": [],
   "source": [
    "from sklearn.preprocessing import StandardScaler\n",
    "\n",
    "sc = StandardScaler()\n",
    "\n",
    "sc_pima = sc.fit_transform(to_sc)"
   ]
  },
  {
   "cell_type": "markdown",
   "metadata": {},
   "source": [
    "## Aplicando o `pipeline` de `Machine Learning` nos dados balanceados.\n",
    "\n",
    "#### Vamos agora rodar todos os modelos novamente e medir seus resultados, incluso a curva `ROC`, que pode nos ajudar a escolher qual o melhor modelo para predição de diabetes. Usamos a biblioteca [`warnings`](https://docs.python.org/3/library/warnings.html) e usamos a função [`warnings.simplefilter()`](https://docs.python.org/3/library/warnings.html#warnings.simplefilter) para ignorar avisos."
   ]
  },
  {
   "cell_type": "code",
   "execution_count": 156,
   "metadata": {},
   "outputs": [
    {
     "name": "stdout",
     "output_type": "stream",
     "text": [
      "==============================\n",
      "KNeighborsClassifier\n",
      "****Results****\n",
      "Accuracy: 0.7777777777777778\n",
      "Precision: 0.7777777777777778\n",
      "Recall: 0.7777777777777778\n",
      "==============================\n",
      "GaussianNB\n",
      "****Results****\n",
      "Accuracy: 0.7407407407407407\n",
      "Precision: 0.7407407407407407\n",
      "Recall: 0.7407407407407407\n",
      "==============================\n",
      "LogisticRegression\n",
      "****Results****\n",
      "Accuracy: 0.7407407407407407\n",
      "Precision: 0.75\n",
      "Recall: 0.7222222222222222\n",
      "==============================\n",
      "DecisionTreeClassifier\n",
      "****Results****\n",
      "Accuracy: 0.6666666666666666\n",
      "Precision: 0.6551724137931034\n",
      "Recall: 0.7037037037037037\n",
      "==============================\n",
      "RandomForestClassifier\n",
      "****Results****\n",
      "Accuracy: 0.7685185185185185\n",
      "Precision: 0.7377049180327869\n",
      "Recall: 0.8333333333333334\n",
      "==============================\n",
      "GradientBoostingClassifier\n",
      "****Results****\n",
      "Accuracy: 0.7407407407407407\n",
      "Precision: 0.703125\n",
      "Recall: 0.8333333333333334\n"
     ]
    },
    {
     "data": {
      "image/png": "[encoded data removed]",
      "text/plain": [
       "<Figure size 864x576 with 1 Axes>"
      ]
     },
     "metadata": {
      "needs_background": "light"
     },
     "output_type": "display_data"
    }
   ],
   "source": [
    "import warnings\n",
    "\n",
    "warnings.simplefilter(action = 'ignore', \n",
    "                      category = FutureWarning\n",
    "                     )\n",
    "X = sc_pima\n",
    "y = pima.label\n",
    "\n",
    "X_train, X_test, y_train, y_test = train_test_split(X, y, test_size = 0.2, random_state = 42, stratify = y)\n",
    "\n",
    "from sklearn.neighbors import KNeighborsClassifier\n",
    "from sklearn.svm import SVC\n",
    "from sklearn.tree import DecisionTreeClassifier\n",
    "from sklearn.ensemble import RandomForestClassifier, GradientBoostingClassifier\n",
    "from sklearn.naive_bayes import GaussianNB\n",
    "\n",
    "classifiers = [\n",
    "    KNeighborsClassifier(),\n",
    "    GaussianNB(),\n",
    "    LogisticRegression(),\n",
    "    #SVC(),\n",
    "    DecisionTreeClassifier(),\n",
    "    RandomForestClassifier(),\n",
    "    GradientBoostingClassifier()]\n",
    "\n",
    "\n",
    "plt.figure(figsize = (12,8))\n",
    "\n",
    "\n",
    "for clf in classifiers:\n",
    "\n",
    "    clf.fit(X_train, \n",
    "            y_train\n",
    "           )\n",
    "\n",
    "    name = clf.__class__.__name__\n",
    "\n",
    "    print(\"=\"*30)\n",
    "    print(name)\n",
    "\n",
    "    print('****Results****')\n",
    "    y_pred = clf.predict(X_test)\n",
    "    print(\"Accuracy:\", metrics.accuracy_score(y_test, \n",
    "                                              y_pred\n",
    "                                             )\n",
    "         )\n",
    "    print(\"Precision:\", metrics.precision_score(y_test, \n",
    "                                                y_pred\n",
    "                                               )\n",
    "         )\n",
    "    print(\"Recall:\", metrics.recall_score(y_test, \n",
    "                                          y_pred\n",
    "                                         )\n",
    "         )\n",
    "    \n",
    "    \n",
    "    # plotando a curva ROC\n",
    "    y_pred_proba = clf.predict_proba(X_test)[::,1]\n",
    "    fpr, tpr, _ = metrics.roc_curve(y_test,  \n",
    "                                    y_pred_proba\n",
    "                                   )\n",
    "    auc = metrics.roc_auc_score(y_test, \n",
    "                                y_pred_proba\n",
    "                               )\n",
    "    plt.plot(fpr, tpr, label = name+\", auc=\"+str(auc))\n",
    "    plt.plot([0, 1], \n",
    "             [0, 1], \n",
    "             color = 'red', \n",
    "             lw = 2, \n",
    "             linestyle = '--'\n",
    "            )\n",
    "    plt.legend(loc = 4)"
   ]
  },
  {
   "cell_type": "code",
   "execution_count": null,
   "metadata": {},
   "outputs": [],
   "source": []
  },
  {
   "cell_type": "code",
   "execution_count": null,
   "metadata": {},
   "outputs": [],
   "source": []
  }
 ],
 "metadata": {
  "kernelspec": {
   "display_name": "Python 3",
   "language": "python",
   "name": "python3"
  },
  "language_info": {
   "codemirror_mode": {
    "name": "ipython",
    "version": 3
   },
   "file_extension": ".py",
   "mimetype": "text/x-python",
   "name": "python",
   "nbconvert_exporter": "python",
   "pygments_lexer": "ipython3",
   "version": "3.7.6"
  },
  "latex_envs": {
   "LaTeX_envs_menu_present": true,
   "autoclose": false,
   "autocomplete": true,
   "bibliofile": "biblio.bib",
   "cite_by": "apalike",
   "current_citInitial": 1,
   "eqLabelWithNumbers": true,
   "eqNumInitial": 1,
   "hotkeys": {
    "equation": "Ctrl-E",
    "itemize": "Ctrl-I"
   },
   "labels_anchors": false,
   "latex_user_defs": false,
   "report_style_numbering": false,
   "user_envs_cfg": false
  },
  "toc": {
   "base_numbering": 1,
   "nav_menu": {},
   "number_sections": true,
   "sideBar": true,
   "skip_h1_title": false,
   "title_cell": "Table of Contents",
   "title_sidebar": "Contents",
   "toc_cell": false,
   "toc_position": {},
   "toc_section_display": true,
   "toc_window_display": false
  },
  "varInspector": {
   "cols": {
    "lenName": 16,
    "lenType": 16,
    "lenVar": 40
   },
   "kernels_config": {
    "python": {
     "delete_cmd_postfix": "",
     "delete_cmd_prefix": "del ",
     "library": "var_list.py",
     "varRefreshCmd": "print(var_dic_list())"
    },
    "r": {
     "delete_cmd_postfix": ") ",
     "delete_cmd_prefix": "rm(",
     "library": "var_list.r",
     "varRefreshCmd": "cat(var_dic_list()) "
    }
   },
   "types_to_exclude": [
    "module",
    "function",
    "builtin_function_or_method",
    "instance",
    "_Feature"
   ],
   "window_display": false
  }
 },
 "nbformat": 4,
 "nbformat_minor": 4
}
