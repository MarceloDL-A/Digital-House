{
 "cells": [
  {
   "cell_type": "markdown",
   "metadata": {
    "colab_type": "text",
    "id": "8sc0rc0CcBct"
   },
   "source": [
    "# Pratica Guiada - Visualização."
   ]
  },
  {
   "cell_type": "markdown",
   "metadata": {
    "colab_type": "text",
    "id": "DgHTGgE-cBcx"
   },
   "source": [
    "#### A visualização é um recurso **útil e/ou necessário** para a **análise exploratória** dos dados e a **apresentação de resultados**. Veremos uma série de gráficos que *resumem informações estatísticas* de uma determinada base de dados  (amostra, população, etc.), tais como:\n",
    "\n",
    "1. Histogramas \n",
    "2. Box plots\n",
    "3. Violin plots\n",
    "4. De dispersão (scatterplots)\n",
    "5. De linhas (plots)\n",
    "6. De barras (bar, barh)\n",
    "7. Painéis combinados\n",
    "8. Matrizes de correlação\n",
    "\n",
    "#### Os painéis combinados podem incluir informação sobre uma mesma variável ou mostrar a *relação entre duas (ou mais) variáveis* de uma base de dados. Nestes casos, recorremos aos jointplots ou aos pairplots.\n",
    "\n",
    "#### Lembrem-se que sempre temos que importar as bibliotecas e carregar os dados."
   ]
  },
  {
   "cell_type": "markdown",
   "metadata": {
    "colab_type": "text",
    "id": "Rp5GyyJxcBcy"
   },
   "source": [
    "#### Há diversas bibliotecas para implementar visualizações, muitas são baseadas em `matplotlib`. Aqui veremos as seguintes:\n",
    "* [Matplotlib](https://matplotlib.org/1.2.1/index.html).\n",
    "* [Seaborn](https://seaborn.pydata.org/)."
   ]
  },
  {
   "cell_type": "markdown",
   "metadata": {
    "colab_type": "text",
    "id": "DB_zWsgUcBcz"
   },
   "source": [
    "## Primeiros passos.\n",
    "\n",
    "#### Antes de começar a estudar um caso real vejamos um dataset sintético, ou seja, um conjunto de informações criado artificialmente. \n",
    "\n",
    "#### Isto é geralmente usado para entender o comportamento de uma certa distribuição estatística, neste caso, veremos como uma amostra tirada de uma população com distribuição normal se comporta.\n",
    "\n",
    "#### Para isso, é comum usar **histogramas**, que são utilizados para observar a função de densidade, ou seja, a distribuição de frequência dos valores de uma variável de interesse."
   ]
  },
  {
   "cell_type": "markdown",
   "metadata": {},
   "source": [
    "#### Importamos as funcionalidades necessárias e geraramos uma distribuição normalmente distribuída, com os parâmetros de média e desvio definidos."
   ]
  },
  {
   "cell_type": "code",
   "execution_count": 31,
   "metadata": {
    "colab": {
     "autoexec": {
      "startup": false,
      "wait_interval": 0
     }
    },
    "colab_type": "code",
    "id": "WOJbSsoBcBc0"
   },
   "outputs": [],
   "source": [
    "import numpy as np\n",
    "import matplotlib.pyplot as plt\n",
    "%matplotlib inline  \n",
    "\n",
    "média = 250\n",
    "desvio = 50\n",
    "x = np.random.normal(média, desvio, 10000)"
   ]
  },
  {
   "cell_type": "markdown",
   "metadata": {
    "colab_type": "text",
    "id": "YneJd0I0cBc4"
   },
   "source": [
    "#### Vamos plotar o respectivo histograma [plt.hist()](https://matplotlib.org/3.2.1/api/_as_gen/matplotlib.pyplot.hist.html) usando a função [matplotlib.pyplot.figure](https://matplotlib.org/3.2.1/api/_as_gen/matplotlib.pyplot.figure.html#matplotlib-pyplot-figure). "
   ]
  },
  {
   "cell_type": "code",
   "execution_count": 32,
   "metadata": {
    "colab": {
     "autoexec": {
      "startup": false,
      "wait_interval": 0
     }
    },
    "colab_type": "code",
    "id": "gPZc4K75cBc6"
   },
   "outputs": [
    {
     "data": {
      "image/png": "[encoded data removed]",
      "text/plain": [
       "<Figure size 720x509.04 with 1 Axes>"
      ]
     },
     "metadata": {
      "needs_background": "light"
     },
     "output_type": "display_data"
    }
   ],
   "source": [
    "plt.figure(figsize = (10,7.07))\n",
    "plt.hist(x, bins = 35, color = 'lightblue')\n",
    "plt.xlabel('Valores')\n",
    "plt.ylabel('Frequência')\n",
    "plt.title('Histograma')\n",
    "plt.show()"
   ]
  },
  {
   "cell_type": "markdown",
   "metadata": {
    "colab_type": "text",
    "id": "-Be6guSwcBc-"
   },
   "source": [
    "#### Analisando a inflação.\n",
    "\n",
    "#### Agora vamos analisar um problema real. Vamos supor que nos peçam para estudar a evolução da inflação desde 2016. Para isso podemos encontrar informação aberta em \n",
    "\n",
    "##### Na Argentina, o INDEC é o responsável por publicar a informação oficial sobre a evolução do índice de preços ao consumidor (IPC). Este [índice](https://datos.gob.ar/vi/dataset/sspm-ipc-nacional-tasas-variacion-mensual-por-categorias-base-dic-2016/archivo/sspm_173.1?view_id=aed0431a-0a48-442e-861c-d19f17119993) tenta refletir a evolução geral dos preços que afetam o consumidor típico, ao contrário de outros índices de preços, como, por exemplo, o índice de preços da construção, que se concentra na evolução dos preços dos materiais de construção.\n",
    "\n",
    "#### O INDEC divide o IPC em três tipos de componentes: \n",
    "\n",
    "- Bens e serviços com comportamento sazonal: frutas, legumes, vestuário, transporte por turismo e alojamento e excursões\n",
    "\n",
    "- Bens e serviços cujos preços estão sujeitos a regulamentação ou têm um componente fiscal elevado: combustível para habitação, eletricidade, água e serviços sanitários, sistemas de saúde e serviços auxiliares, transporte público de passageiros, funcionamento e manutenção de veículos, correio, telefone, educação formal e cigarros e acessórios.\n",
    "\n",
    "- Bens e serviços restantes (componente núcleo): segundo o INDEC \"um dos objetivos ao calcular uma medida de núcleo da inflação é poder contar com um indicador que permita analisar a evolução dos preços da economia sem levar em conta aquelas flutuações de natureza temporária, sazonal ou que sejam revertidas em curto prazo. \"\n",
    "\n",
    "#### Você pode se aprofundar no assunto vendo o documento [metodológico N° 17](https://www.indec.gob.ar/ftp/cuadros/economia/ipc_metodologia_17_07_16.pdf).\n"
   ]
  },
  {
   "cell_type": "markdown",
   "metadata": {
    "colab_type": "text",
    "id": "ywmZq3hXcBc_"
   },
   "source": [
    "#### Primeiro, vamos carregar os dados com pandas e analisar a série de IPC que contém informação de dez 2016 até jan 2020."
   ]
  },
  {
   "cell_type": "code",
   "execution_count": 33,
   "metadata": {
    "colab": {
     "autoexec": {
      "startup": false,
      "wait_interval": 0
     }
    },
    "colab_type": "code",
    "id": "2PTpL5sacBdB"
   },
   "outputs": [],
   "source": [
    "import pandas as pd\n",
    "import seaborn as sns\n",
    "\n",
    "data = pd.read_csv('ipc-categorias-tasas-variacion-mensual-distribucion-mensual-base-dic-2016.csv')"
   ]
  },
  {
   "cell_type": "markdown",
   "metadata": {},
   "source": [
    "#### Vejamos as variáveis que os dados contêm."
   ]
  },
  {
   "cell_type": "code",
   "execution_count": 34,
   "metadata": {
    "colab": {
     "autoexec": {
      "startup": false,
      "wait_interval": 0
     }
    },
    "colab_type": "code",
    "id": "944D_4RicBdE"
   },
   "outputs": [
    {
     "data": {
      "text/html": [
       "<div>\n",
       "<style scoped>\n",
       "    .dataframe tbody tr th:only-of-type {\n",
       "        vertical-align: middle;\n",
       "    }\n",
       "\n",
       "    .dataframe tbody tr th {\n",
       "        vertical-align: top;\n",
       "    }\n",
       "\n",
       "    .dataframe thead th {\n",
       "        text-align: right;\n",
       "    }\n",
       "</style>\n",
       "<table border=\"1\" class=\"dataframe\">\n",
       "  <thead>\n",
       "    <tr style=\"text-align: right;\">\n",
       "      <th></th>\n",
       "      <th>indice_tiempo</th>\n",
       "      <th>estacionales</th>\n",
       "      <th>ipc_nucleo</th>\n",
       "      <th>ipc_regulados</th>\n",
       "    </tr>\n",
       "  </thead>\n",
       "  <tbody>\n",
       "    <tr>\n",
       "      <th>0</th>\n",
       "      <td>2016-12-01</td>\n",
       "      <td>NaN</td>\n",
       "      <td>NaN</td>\n",
       "      <td>NaN</td>\n",
       "    </tr>\n",
       "    <tr>\n",
       "      <th>1</th>\n",
       "      <td>2017-01-01</td>\n",
       "      <td>0.016969</td>\n",
       "      <td>0.015039</td>\n",
       "      <td>0.018183</td>\n",
       "    </tr>\n",
       "    <tr>\n",
       "      <th>2</th>\n",
       "      <td>2017-02-01</td>\n",
       "      <td>0.006270</td>\n",
       "      <td>0.016813</td>\n",
       "      <td>0.040398</td>\n",
       "    </tr>\n",
       "    <tr>\n",
       "      <th>3</th>\n",
       "      <td>2017-03-01</td>\n",
       "      <td>0.023964</td>\n",
       "      <td>0.019331</td>\n",
       "      <td>0.038460</td>\n",
       "    </tr>\n",
       "    <tr>\n",
       "      <th>4</th>\n",
       "      <td>2017-04-01</td>\n",
       "      <td>0.032446</td>\n",
       "      <td>0.021114</td>\n",
       "      <td>0.040536</td>\n",
       "    </tr>\n",
       "    <tr>\n",
       "      <th>5</th>\n",
       "      <td>2017-05-01</td>\n",
       "      <td>0.008013</td>\n",
       "      <td>0.016568</td>\n",
       "      <td>0.010405</td>\n",
       "    </tr>\n",
       "    <tr>\n",
       "      <th>6</th>\n",
       "      <td>2017-06-01</td>\n",
       "      <td>0.009383</td>\n",
       "      <td>0.013354</td>\n",
       "      <td>0.008920</td>\n",
       "    </tr>\n",
       "    <tr>\n",
       "      <th>7</th>\n",
       "      <td>2017-07-01</td>\n",
       "      <td>0.004652</td>\n",
       "      <td>0.017648</td>\n",
       "      <td>0.022918</td>\n",
       "    </tr>\n",
       "    <tr>\n",
       "      <th>8</th>\n",
       "      <td>2017-08-01</td>\n",
       "      <td>0.010723</td>\n",
       "      <td>0.014320</td>\n",
       "      <td>0.014855</td>\n",
       "    </tr>\n",
       "    <tr>\n",
       "      <th>9</th>\n",
       "      <td>2017-09-01</td>\n",
       "      <td>0.039715</td>\n",
       "      <td>0.016342</td>\n",
       "      <td>0.017179</td>\n",
       "    </tr>\n",
       "    <tr>\n",
       "      <th>10</th>\n",
       "      <td>2017-10-01</td>\n",
       "      <td>0.024181</td>\n",
       "      <td>0.013150</td>\n",
       "      <td>0.016758</td>\n",
       "    </tr>\n",
       "    <tr>\n",
       "      <th>11</th>\n",
       "      <td>2017-11-01</td>\n",
       "      <td>0.017116</td>\n",
       "      <td>0.012849</td>\n",
       "      <td>0.014898</td>\n",
       "    </tr>\n",
       "    <tr>\n",
       "      <th>12</th>\n",
       "      <td>2017-12-01</td>\n",
       "      <td>0.003319</td>\n",
       "      <td>0.016708</td>\n",
       "      <td>0.090844</td>\n",
       "    </tr>\n",
       "    <tr>\n",
       "      <th>13</th>\n",
       "      <td>2018-01-01</td>\n",
       "      <td>0.026649</td>\n",
       "      <td>0.014988</td>\n",
       "      <td>0.021315</td>\n",
       "    </tr>\n",
       "    <tr>\n",
       "      <th>14</th>\n",
       "      <td>2018-02-01</td>\n",
       "      <td>-0.006810</td>\n",
       "      <td>0.020908</td>\n",
       "      <td>0.048168</td>\n",
       "    </tr>\n",
       "    <tr>\n",
       "      <th>15</th>\n",
       "      <td>2018-03-01</td>\n",
       "      <td>0.016273</td>\n",
       "      <td>0.025764</td>\n",
       "      <td>0.020260</td>\n",
       "    </tr>\n",
       "    <tr>\n",
       "      <th>16</th>\n",
       "      <td>2018-04-01</td>\n",
       "      <td>0.008708</td>\n",
       "      <td>0.021301</td>\n",
       "      <td>0.052583</td>\n",
       "    </tr>\n",
       "    <tr>\n",
       "      <th>17</th>\n",
       "      <td>2018-05-01</td>\n",
       "      <td>0.025292</td>\n",
       "      <td>0.026550</td>\n",
       "      <td>0.003594</td>\n",
       "    </tr>\n",
       "    <tr>\n",
       "      <th>18</th>\n",
       "      <td>2018-06-01</td>\n",
       "      <td>0.033574</td>\n",
       "      <td>0.040740</td>\n",
       "      <td>0.029424</td>\n",
       "    </tr>\n",
       "    <tr>\n",
       "      <th>19</th>\n",
       "      <td>2018-07-01</td>\n",
       "      <td>0.037755</td>\n",
       "      <td>0.031931</td>\n",
       "      <td>0.025836</td>\n",
       "    </tr>\n",
       "    <tr>\n",
       "      <th>20</th>\n",
       "      <td>2018-08-01</td>\n",
       "      <td>0.019330</td>\n",
       "      <td>0.033523</td>\n",
       "      <td>0.061974</td>\n",
       "    </tr>\n",
       "    <tr>\n",
       "      <th>21</th>\n",
       "      <td>2018-09-01</td>\n",
       "      <td>0.039715</td>\n",
       "      <td>0.076413</td>\n",
       "      <td>0.047030</td>\n",
       "    </tr>\n",
       "    <tr>\n",
       "      <th>22</th>\n",
       "      <td>2018-10-01</td>\n",
       "      <td>0.062301</td>\n",
       "      <td>0.045397</td>\n",
       "      <td>0.074438</td>\n",
       "    </tr>\n",
       "    <tr>\n",
       "      <th>23</th>\n",
       "      <td>2018-11-01</td>\n",
       "      <td>0.030175</td>\n",
       "      <td>0.032986</td>\n",
       "      <td>0.027837</td>\n",
       "    </tr>\n",
       "    <tr>\n",
       "      <th>24</th>\n",
       "      <td>2018-12-01</td>\n",
       "      <td>0.014399</td>\n",
       "      <td>0.027435</td>\n",
       "      <td>0.025742</td>\n",
       "    </tr>\n",
       "    <tr>\n",
       "      <th>25</th>\n",
       "      <td>2019-01-01</td>\n",
       "      <td>0.010984</td>\n",
       "      <td>0.030028</td>\n",
       "      <td>0.034212</td>\n",
       "    </tr>\n",
       "    <tr>\n",
       "      <th>26</th>\n",
       "      <td>2019-02-01</td>\n",
       "      <td>0.019268</td>\n",
       "      <td>0.038555</td>\n",
       "      <td>0.042195</td>\n",
       "    </tr>\n",
       "    <tr>\n",
       "      <th>27</th>\n",
       "      <td>2019-03-01</td>\n",
       "      <td>0.047661</td>\n",
       "      <td>0.045795</td>\n",
       "      <td>0.049042</td>\n",
       "    </tr>\n",
       "    <tr>\n",
       "      <th>28</th>\n",
       "      <td>2019-04-01</td>\n",
       "      <td>0.016062</td>\n",
       "      <td>0.037671</td>\n",
       "      <td>0.032865</td>\n",
       "    </tr>\n",
       "    <tr>\n",
       "      <th>29</th>\n",
       "      <td>2019-05-01</td>\n",
       "      <td>0.006183</td>\n",
       "      <td>0.031775</td>\n",
       "      <td>0.037210</td>\n",
       "    </tr>\n",
       "    <tr>\n",
       "      <th>30</th>\n",
       "      <td>2019-06-01</td>\n",
       "      <td>0.024666</td>\n",
       "      <td>0.027316</td>\n",
       "      <td>0.027867</td>\n",
       "    </tr>\n",
       "    <tr>\n",
       "      <th>31</th>\n",
       "      <td>2019-07-01</td>\n",
       "      <td>0.036402</td>\n",
       "      <td>0.021477</td>\n",
       "      <td>0.018038</td>\n",
       "    </tr>\n",
       "    <tr>\n",
       "      <th>32</th>\n",
       "      <td>2019-08-01</td>\n",
       "      <td>0.038543</td>\n",
       "      <td>0.046379</td>\n",
       "      <td>0.021167</td>\n",
       "    </tr>\n",
       "    <tr>\n",
       "      <th>33</th>\n",
       "      <td>2019-09-01</td>\n",
       "      <td>0.085386</td>\n",
       "      <td>0.064378</td>\n",
       "      <td>0.033540</td>\n",
       "    </tr>\n",
       "    <tr>\n",
       "      <th>34</th>\n",
       "      <td>2019-10-01</td>\n",
       "      <td>0.028343</td>\n",
       "      <td>0.038047</td>\n",
       "      <td>0.020246</td>\n",
       "    </tr>\n",
       "    <tr>\n",
       "      <th>35</th>\n",
       "      <td>2019-11-01</td>\n",
       "      <td>0.073375</td>\n",
       "      <td>0.039781</td>\n",
       "      <td>0.038172</td>\n",
       "    </tr>\n",
       "    <tr>\n",
       "      <th>36</th>\n",
       "      <td>2019-12-01</td>\n",
       "      <td>0.021355</td>\n",
       "      <td>0.036823</td>\n",
       "      <td>0.046058</td>\n",
       "    </tr>\n",
       "    <tr>\n",
       "      <th>37</th>\n",
       "      <td>2020-01-01</td>\n",
       "      <td>0.036369</td>\n",
       "      <td>0.024409</td>\n",
       "      <td>0.011331</td>\n",
       "    </tr>\n",
       "    <tr>\n",
       "      <th>38</th>\n",
       "      <td>2020-02-01</td>\n",
       "      <td>0.025148</td>\n",
       "      <td>0.023818</td>\n",
       "      <td>0.007026</td>\n",
       "    </tr>\n",
       "    <tr>\n",
       "      <th>39</th>\n",
       "      <td>2020-03-01</td>\n",
       "      <td>0.049068</td>\n",
       "      <td>0.031206</td>\n",
       "      <td>0.032803</td>\n",
       "    </tr>\n",
       "  </tbody>\n",
       "</table>\n",
       "</div>"
      ],
      "text/plain": [
       "   indice_tiempo  estacionales  ipc_nucleo  ipc_regulados\n",
       "0     2016-12-01           NaN         NaN            NaN\n",
       "1     2017-01-01      0.016969    0.015039       0.018183\n",
       "2     2017-02-01      0.006270    0.016813       0.040398\n",
       "3     2017-03-01      0.023964    0.019331       0.038460\n",
       "4     2017-04-01      0.032446    0.021114       0.040536\n",
       "5     2017-05-01      0.008013    0.016568       0.010405\n",
       "6     2017-06-01      0.009383    0.013354       0.008920\n",
       "7     2017-07-01      0.004652    0.017648       0.022918\n",
       "8     2017-08-01      0.010723    0.014320       0.014855\n",
       "9     2017-09-01      0.039715    0.016342       0.017179\n",
       "10    2017-10-01      0.024181    0.013150       0.016758\n",
       "11    2017-11-01      0.017116    0.012849       0.014898\n",
       "12    2017-12-01      0.003319    0.016708       0.090844\n",
       "13    2018-01-01      0.026649    0.014988       0.021315\n",
       "14    2018-02-01     -0.006810    0.020908       0.048168\n",
       "15    2018-03-01      0.016273    0.025764       0.020260\n",
       "16    2018-04-01      0.008708    0.021301       0.052583\n",
       "17    2018-05-01      0.025292    0.026550       0.003594\n",
       "18    2018-06-01      0.033574    0.040740       0.029424\n",
       "19    2018-07-01      0.037755    0.031931       0.025836\n",
       "20    2018-08-01      0.019330    0.033523       0.061974\n",
       "21    2018-09-01      0.039715    0.076413       0.047030\n",
       "22    2018-10-01      0.062301    0.045397       0.074438\n",
       "23    2018-11-01      0.030175    0.032986       0.027837\n",
       "24    2018-12-01      0.014399    0.027435       0.025742\n",
       "25    2019-01-01      0.010984    0.030028       0.034212\n",
       "26    2019-02-01      0.019268    0.038555       0.042195\n",
       "27    2019-03-01      0.047661    0.045795       0.049042\n",
       "28    2019-04-01      0.016062    0.037671       0.032865\n",
       "29    2019-05-01      0.006183    0.031775       0.037210\n",
       "30    2019-06-01      0.024666    0.027316       0.027867\n",
       "31    2019-07-01      0.036402    0.021477       0.018038\n",
       "32    2019-08-01      0.038543    0.046379       0.021167\n",
       "33    2019-09-01      0.085386    0.064378       0.033540\n",
       "34    2019-10-01      0.028343    0.038047       0.020246\n",
       "35    2019-11-01      0.073375    0.039781       0.038172\n",
       "36    2019-12-01      0.021355    0.036823       0.046058\n",
       "37    2020-01-01      0.036369    0.024409       0.011331\n",
       "38    2020-02-01      0.025148    0.023818       0.007026\n",
       "39    2020-03-01      0.049068    0.031206       0.032803"
      ]
     },
     "execution_count": 34,
     "metadata": {},
     "output_type": "execute_result"
    }
   ],
   "source": [
    "#data.head()\n",
    "#data.tail()\n",
    "data"
   ]
  },
  {
   "cell_type": "markdown",
   "metadata": {},
   "source": [
    "#### Vamos obter uma descrição do dataframe."
   ]
  },
  {
   "cell_type": "code",
   "execution_count": 35,
   "metadata": {
    "colab": {
     "autoexec": {
      "startup": false,
      "wait_interval": 0
     }
    },
    "colab_type": "code",
    "id": "58lNuBivcBdI"
   },
   "outputs": [
    {
     "name": "stdout",
     "output_type": "stream",
     "text": [
      "<class 'pandas.core.frame.DataFrame'>\n",
      "RangeIndex: 40 entries, 0 to 39\n",
      "Data columns (total 4 columns):\n",
      " #   Column         Non-Null Count  Dtype  \n",
      "---  ------         --------------  -----  \n",
      " 0   indice_tiempo  40 non-null     object \n",
      " 1   estacionales   39 non-null     float64\n",
      " 2   ipc_nucleo     39 non-null     float64\n",
      " 3   ipc_regulados  39 non-null     float64\n",
      "dtypes: float64(3), object(1)\n",
      "memory usage: 1.4+ KB\n"
     ]
    }
   ],
   "source": [
    "data.info()"
   ]
  },
  {
   "cell_type": "markdown",
   "metadata": {},
   "source": [
    "#### Convertendo a variável 'indice_tiempo' para typo datetime com a função [pd.to_datetime](https://pandas.pydata.org/pandas-docs/stable/reference/api/pandas.to_datetime.html)."
   ]
  },
  {
   "cell_type": "code",
   "execution_count": 36,
   "metadata": {
    "colab": {
     "autoexec": {
      "startup": false,
      "wait_interval": 0
     }
    },
    "colab_type": "code",
    "id": "mcRAeJ3ucBdN"
   },
   "outputs": [],
   "source": [
    "data['indice_tiempo'] = pd.to_datetime(data['indice_tiempo'], \n",
    "                                       format = '%Y-%m-%d', \n",
    "                                       errors = 'ignore'\n",
    "                                      )"
   ]
  },
  {
   "cell_type": "code",
   "execution_count": 37,
   "metadata": {},
   "outputs": [
    {
     "data": {
      "text/html": [
       "<div>\n",
       "<style scoped>\n",
       "    .dataframe tbody tr th:only-of-type {\n",
       "        vertical-align: middle;\n",
       "    }\n",
       "\n",
       "    .dataframe tbody tr th {\n",
       "        vertical-align: top;\n",
       "    }\n",
       "\n",
       "    .dataframe thead th {\n",
       "        text-align: right;\n",
       "    }\n",
       "</style>\n",
       "<table border=\"1\" class=\"dataframe\">\n",
       "  <thead>\n",
       "    <tr style=\"text-align: right;\">\n",
       "      <th></th>\n",
       "      <th>indice_tiempo</th>\n",
       "      <th>estacionales</th>\n",
       "      <th>ipc_nucleo</th>\n",
       "      <th>ipc_regulados</th>\n",
       "    </tr>\n",
       "  </thead>\n",
       "  <tbody>\n",
       "    <tr>\n",
       "      <th>0</th>\n",
       "      <td>2016-12-01</td>\n",
       "      <td>NaN</td>\n",
       "      <td>NaN</td>\n",
       "      <td>NaN</td>\n",
       "    </tr>\n",
       "    <tr>\n",
       "      <th>1</th>\n",
       "      <td>2017-01-01</td>\n",
       "      <td>0.016969</td>\n",
       "      <td>0.015039</td>\n",
       "      <td>0.018183</td>\n",
       "    </tr>\n",
       "    <tr>\n",
       "      <th>2</th>\n",
       "      <td>2017-02-01</td>\n",
       "      <td>0.006270</td>\n",
       "      <td>0.016813</td>\n",
       "      <td>0.040398</td>\n",
       "    </tr>\n",
       "    <tr>\n",
       "      <th>3</th>\n",
       "      <td>2017-03-01</td>\n",
       "      <td>0.023964</td>\n",
       "      <td>0.019331</td>\n",
       "      <td>0.038460</td>\n",
       "    </tr>\n",
       "    <tr>\n",
       "      <th>4</th>\n",
       "      <td>2017-04-01</td>\n",
       "      <td>0.032446</td>\n",
       "      <td>0.021114</td>\n",
       "      <td>0.040536</td>\n",
       "    </tr>\n",
       "    <tr>\n",
       "      <th>5</th>\n",
       "      <td>2017-05-01</td>\n",
       "      <td>0.008013</td>\n",
       "      <td>0.016568</td>\n",
       "      <td>0.010405</td>\n",
       "    </tr>\n",
       "    <tr>\n",
       "      <th>6</th>\n",
       "      <td>2017-06-01</td>\n",
       "      <td>0.009383</td>\n",
       "      <td>0.013354</td>\n",
       "      <td>0.008920</td>\n",
       "    </tr>\n",
       "    <tr>\n",
       "      <th>7</th>\n",
       "      <td>2017-07-01</td>\n",
       "      <td>0.004652</td>\n",
       "      <td>0.017648</td>\n",
       "      <td>0.022918</td>\n",
       "    </tr>\n",
       "    <tr>\n",
       "      <th>8</th>\n",
       "      <td>2017-08-01</td>\n",
       "      <td>0.010723</td>\n",
       "      <td>0.014320</td>\n",
       "      <td>0.014855</td>\n",
       "    </tr>\n",
       "    <tr>\n",
       "      <th>9</th>\n",
       "      <td>2017-09-01</td>\n",
       "      <td>0.039715</td>\n",
       "      <td>0.016342</td>\n",
       "      <td>0.017179</td>\n",
       "    </tr>\n",
       "    <tr>\n",
       "      <th>10</th>\n",
       "      <td>2017-10-01</td>\n",
       "      <td>0.024181</td>\n",
       "      <td>0.013150</td>\n",
       "      <td>0.016758</td>\n",
       "    </tr>\n",
       "    <tr>\n",
       "      <th>11</th>\n",
       "      <td>2017-11-01</td>\n",
       "      <td>0.017116</td>\n",
       "      <td>0.012849</td>\n",
       "      <td>0.014898</td>\n",
       "    </tr>\n",
       "    <tr>\n",
       "      <th>12</th>\n",
       "      <td>2017-12-01</td>\n",
       "      <td>0.003319</td>\n",
       "      <td>0.016708</td>\n",
       "      <td>0.090844</td>\n",
       "    </tr>\n",
       "    <tr>\n",
       "      <th>13</th>\n",
       "      <td>2018-01-01</td>\n",
       "      <td>0.026649</td>\n",
       "      <td>0.014988</td>\n",
       "      <td>0.021315</td>\n",
       "    </tr>\n",
       "    <tr>\n",
       "      <th>14</th>\n",
       "      <td>2018-02-01</td>\n",
       "      <td>-0.006810</td>\n",
       "      <td>0.020908</td>\n",
       "      <td>0.048168</td>\n",
       "    </tr>\n",
       "    <tr>\n",
       "      <th>15</th>\n",
       "      <td>2018-03-01</td>\n",
       "      <td>0.016273</td>\n",
       "      <td>0.025764</td>\n",
       "      <td>0.020260</td>\n",
       "    </tr>\n",
       "    <tr>\n",
       "      <th>16</th>\n",
       "      <td>2018-04-01</td>\n",
       "      <td>0.008708</td>\n",
       "      <td>0.021301</td>\n",
       "      <td>0.052583</td>\n",
       "    </tr>\n",
       "    <tr>\n",
       "      <th>17</th>\n",
       "      <td>2018-05-01</td>\n",
       "      <td>0.025292</td>\n",
       "      <td>0.026550</td>\n",
       "      <td>0.003594</td>\n",
       "    </tr>\n",
       "    <tr>\n",
       "      <th>18</th>\n",
       "      <td>2018-06-01</td>\n",
       "      <td>0.033574</td>\n",
       "      <td>0.040740</td>\n",
       "      <td>0.029424</td>\n",
       "    </tr>\n",
       "    <tr>\n",
       "      <th>19</th>\n",
       "      <td>2018-07-01</td>\n",
       "      <td>0.037755</td>\n",
       "      <td>0.031931</td>\n",
       "      <td>0.025836</td>\n",
       "    </tr>\n",
       "    <tr>\n",
       "      <th>20</th>\n",
       "      <td>2018-08-01</td>\n",
       "      <td>0.019330</td>\n",
       "      <td>0.033523</td>\n",
       "      <td>0.061974</td>\n",
       "    </tr>\n",
       "    <tr>\n",
       "      <th>21</th>\n",
       "      <td>2018-09-01</td>\n",
       "      <td>0.039715</td>\n",
       "      <td>0.076413</td>\n",
       "      <td>0.047030</td>\n",
       "    </tr>\n",
       "    <tr>\n",
       "      <th>22</th>\n",
       "      <td>2018-10-01</td>\n",
       "      <td>0.062301</td>\n",
       "      <td>0.045397</td>\n",
       "      <td>0.074438</td>\n",
       "    </tr>\n",
       "    <tr>\n",
       "      <th>23</th>\n",
       "      <td>2018-11-01</td>\n",
       "      <td>0.030175</td>\n",
       "      <td>0.032986</td>\n",
       "      <td>0.027837</td>\n",
       "    </tr>\n",
       "    <tr>\n",
       "      <th>24</th>\n",
       "      <td>2018-12-01</td>\n",
       "      <td>0.014399</td>\n",
       "      <td>0.027435</td>\n",
       "      <td>0.025742</td>\n",
       "    </tr>\n",
       "    <tr>\n",
       "      <th>25</th>\n",
       "      <td>2019-01-01</td>\n",
       "      <td>0.010984</td>\n",
       "      <td>0.030028</td>\n",
       "      <td>0.034212</td>\n",
       "    </tr>\n",
       "    <tr>\n",
       "      <th>26</th>\n",
       "      <td>2019-02-01</td>\n",
       "      <td>0.019268</td>\n",
       "      <td>0.038555</td>\n",
       "      <td>0.042195</td>\n",
       "    </tr>\n",
       "    <tr>\n",
       "      <th>27</th>\n",
       "      <td>2019-03-01</td>\n",
       "      <td>0.047661</td>\n",
       "      <td>0.045795</td>\n",
       "      <td>0.049042</td>\n",
       "    </tr>\n",
       "    <tr>\n",
       "      <th>28</th>\n",
       "      <td>2019-04-01</td>\n",
       "      <td>0.016062</td>\n",
       "      <td>0.037671</td>\n",
       "      <td>0.032865</td>\n",
       "    </tr>\n",
       "    <tr>\n",
       "      <th>29</th>\n",
       "      <td>2019-05-01</td>\n",
       "      <td>0.006183</td>\n",
       "      <td>0.031775</td>\n",
       "      <td>0.037210</td>\n",
       "    </tr>\n",
       "    <tr>\n",
       "      <th>30</th>\n",
       "      <td>2019-06-01</td>\n",
       "      <td>0.024666</td>\n",
       "      <td>0.027316</td>\n",
       "      <td>0.027867</td>\n",
       "    </tr>\n",
       "    <tr>\n",
       "      <th>31</th>\n",
       "      <td>2019-07-01</td>\n",
       "      <td>0.036402</td>\n",
       "      <td>0.021477</td>\n",
       "      <td>0.018038</td>\n",
       "    </tr>\n",
       "    <tr>\n",
       "      <th>32</th>\n",
       "      <td>2019-08-01</td>\n",
       "      <td>0.038543</td>\n",
       "      <td>0.046379</td>\n",
       "      <td>0.021167</td>\n",
       "    </tr>\n",
       "    <tr>\n",
       "      <th>33</th>\n",
       "      <td>2019-09-01</td>\n",
       "      <td>0.085386</td>\n",
       "      <td>0.064378</td>\n",
       "      <td>0.033540</td>\n",
       "    </tr>\n",
       "    <tr>\n",
       "      <th>34</th>\n",
       "      <td>2019-10-01</td>\n",
       "      <td>0.028343</td>\n",
       "      <td>0.038047</td>\n",
       "      <td>0.020246</td>\n",
       "    </tr>\n",
       "    <tr>\n",
       "      <th>35</th>\n",
       "      <td>2019-11-01</td>\n",
       "      <td>0.073375</td>\n",
       "      <td>0.039781</td>\n",
       "      <td>0.038172</td>\n",
       "    </tr>\n",
       "    <tr>\n",
       "      <th>36</th>\n",
       "      <td>2019-12-01</td>\n",
       "      <td>0.021355</td>\n",
       "      <td>0.036823</td>\n",
       "      <td>0.046058</td>\n",
       "    </tr>\n",
       "    <tr>\n",
       "      <th>37</th>\n",
       "      <td>2020-01-01</td>\n",
       "      <td>0.036369</td>\n",
       "      <td>0.024409</td>\n",
       "      <td>0.011331</td>\n",
       "    </tr>\n",
       "    <tr>\n",
       "      <th>38</th>\n",
       "      <td>2020-02-01</td>\n",
       "      <td>0.025148</td>\n",
       "      <td>0.023818</td>\n",
       "      <td>0.007026</td>\n",
       "    </tr>\n",
       "    <tr>\n",
       "      <th>39</th>\n",
       "      <td>2020-03-01</td>\n",
       "      <td>0.049068</td>\n",
       "      <td>0.031206</td>\n",
       "      <td>0.032803</td>\n",
       "    </tr>\n",
       "  </tbody>\n",
       "</table>\n",
       "</div>"
      ],
      "text/plain": [
       "   indice_tiempo  estacionales  ipc_nucleo  ipc_regulados\n",
       "0     2016-12-01           NaN         NaN            NaN\n",
       "1     2017-01-01      0.016969    0.015039       0.018183\n",
       "2     2017-02-01      0.006270    0.016813       0.040398\n",
       "3     2017-03-01      0.023964    0.019331       0.038460\n",
       "4     2017-04-01      0.032446    0.021114       0.040536\n",
       "5     2017-05-01      0.008013    0.016568       0.010405\n",
       "6     2017-06-01      0.009383    0.013354       0.008920\n",
       "7     2017-07-01      0.004652    0.017648       0.022918\n",
       "8     2017-08-01      0.010723    0.014320       0.014855\n",
       "9     2017-09-01      0.039715    0.016342       0.017179\n",
       "10    2017-10-01      0.024181    0.013150       0.016758\n",
       "11    2017-11-01      0.017116    0.012849       0.014898\n",
       "12    2017-12-01      0.003319    0.016708       0.090844\n",
       "13    2018-01-01      0.026649    0.014988       0.021315\n",
       "14    2018-02-01     -0.006810    0.020908       0.048168\n",
       "15    2018-03-01      0.016273    0.025764       0.020260\n",
       "16    2018-04-01      0.008708    0.021301       0.052583\n",
       "17    2018-05-01      0.025292    0.026550       0.003594\n",
       "18    2018-06-01      0.033574    0.040740       0.029424\n",
       "19    2018-07-01      0.037755    0.031931       0.025836\n",
       "20    2018-08-01      0.019330    0.033523       0.061974\n",
       "21    2018-09-01      0.039715    0.076413       0.047030\n",
       "22    2018-10-01      0.062301    0.045397       0.074438\n",
       "23    2018-11-01      0.030175    0.032986       0.027837\n",
       "24    2018-12-01      0.014399    0.027435       0.025742\n",
       "25    2019-01-01      0.010984    0.030028       0.034212\n",
       "26    2019-02-01      0.019268    0.038555       0.042195\n",
       "27    2019-03-01      0.047661    0.045795       0.049042\n",
       "28    2019-04-01      0.016062    0.037671       0.032865\n",
       "29    2019-05-01      0.006183    0.031775       0.037210\n",
       "30    2019-06-01      0.024666    0.027316       0.027867\n",
       "31    2019-07-01      0.036402    0.021477       0.018038\n",
       "32    2019-08-01      0.038543    0.046379       0.021167\n",
       "33    2019-09-01      0.085386    0.064378       0.033540\n",
       "34    2019-10-01      0.028343    0.038047       0.020246\n",
       "35    2019-11-01      0.073375    0.039781       0.038172\n",
       "36    2019-12-01      0.021355    0.036823       0.046058\n",
       "37    2020-01-01      0.036369    0.024409       0.011331\n",
       "38    2020-02-01      0.025148    0.023818       0.007026\n",
       "39    2020-03-01      0.049068    0.031206       0.032803"
      ]
     },
     "execution_count": 37,
     "metadata": {},
     "output_type": "execute_result"
    }
   ],
   "source": [
    "data"
   ]
  },
  {
   "cell_type": "markdown",
   "metadata": {
    "colab_type": "text",
    "id": "Pg1DJtmJcBdR"
   },
   "source": [
    "## Boxplot I.\n",
    "\n",
    "#### Aqui podemos criar variados gráficos de caixa com a função [`sns.boxplot()`](https://seaborn.pydata.org/generated/seaborn.boxplot.html#seaborn-boxplot) e dispô-los em uma única figura, de acordo com as definições da função [`plt.pyplot.subplot()`](https://matplotlib.org/3.2.1/api/_as_gen/matplotlib.pyplot.subplot.html#matplotlib-pyplot-subplot)."
   ]
  },
  {
   "cell_type": "code",
   "execution_count": 38,
   "metadata": {
    "colab": {
     "autoexec": {
      "startup": false,
      "wait_interval": 0
     }
    },
    "colab_type": "code",
    "id": "Alv9Avc_cBdS"
   },
   "outputs": [
    {
     "data": {
      "image/png": "[encoded data removed]",
      "text/plain": [
       "<Figure size 432x288 with 3 Axes>"
      ]
     },
     "metadata": {
      "needs_background": "light"
     },
     "output_type": "display_data"
    }
   ],
   "source": [
    "plt.subplot(1, 5, 1)\n",
    "sns.boxplot(x = ['estacionales'], \n",
    "            data = data, \n",
    "            orient = 'v', \n",
    "            color = 'c'\n",
    "           )\n",
    "\n",
    "plt.subplot(1,5,3)\n",
    "sns.boxplot(x = ['ipc_nucleo'], \n",
    "            data = data, \n",
    "            orient = 'v', \n",
    "            color = 'r'\n",
    "           )\n",
    "\n",
    "plt.subplot(1, 5, 5)\n",
    "sns.boxplot(x = ['ipc_regulados'], \n",
    "            data = data, orient = 'v', \n",
    "            color = 'g'\n",
    "           )\n",
    "\n",
    "plt.show()"
   ]
  },
  {
   "cell_type": "markdown",
   "metadata": {
    "colab_type": "text",
    "id": "EvzJHpTHcBdW"
   },
   "source": [
    "#### Criamos o nosso primeiro boxplot. No entanto, vemos que obtivemos três gráficos que, na mesma escala, representam três intervalos diferentes de valores. Para acomodar isso, vamos reorganizar o conjunto de dados em um formato mais \"limpo\"."
   ]
  },
  {
   "cell_type": "code",
   "execution_count": 39,
   "metadata": {},
   "outputs": [
    {
     "data": {
      "text/html": [
       "<div>\n",
       "<style scoped>\n",
       "    .dataframe tbody tr th:only-of-type {\n",
       "        vertical-align: middle;\n",
       "    }\n",
       "\n",
       "    .dataframe tbody tr th {\n",
       "        vertical-align: top;\n",
       "    }\n",
       "\n",
       "    .dataframe thead th {\n",
       "        text-align: right;\n",
       "    }\n",
       "</style>\n",
       "<table border=\"1\" class=\"dataframe\">\n",
       "  <thead>\n",
       "    <tr style=\"text-align: right;\">\n",
       "      <th></th>\n",
       "      <th>indice_tiempo</th>\n",
       "      <th>estacionales</th>\n",
       "      <th>ipc_nucleo</th>\n",
       "      <th>ipc_regulados</th>\n",
       "    </tr>\n",
       "  </thead>\n",
       "  <tbody>\n",
       "    <tr>\n",
       "      <th>0</th>\n",
       "      <td>2016-12-01</td>\n",
       "      <td>NaN</td>\n",
       "      <td>NaN</td>\n",
       "      <td>NaN</td>\n",
       "    </tr>\n",
       "    <tr>\n",
       "      <th>1</th>\n",
       "      <td>2017-01-01</td>\n",
       "      <td>0.016969</td>\n",
       "      <td>0.015039</td>\n",
       "      <td>0.018183</td>\n",
       "    </tr>\n",
       "    <tr>\n",
       "      <th>2</th>\n",
       "      <td>2017-02-01</td>\n",
       "      <td>0.006270</td>\n",
       "      <td>0.016813</td>\n",
       "      <td>0.040398</td>\n",
       "    </tr>\n",
       "    <tr>\n",
       "      <th>3</th>\n",
       "      <td>2017-03-01</td>\n",
       "      <td>0.023964</td>\n",
       "      <td>0.019331</td>\n",
       "      <td>0.038460</td>\n",
       "    </tr>\n",
       "    <tr>\n",
       "      <th>4</th>\n",
       "      <td>2017-04-01</td>\n",
       "      <td>0.032446</td>\n",
       "      <td>0.021114</td>\n",
       "      <td>0.040536</td>\n",
       "    </tr>\n",
       "    <tr>\n",
       "      <th>5</th>\n",
       "      <td>2017-05-01</td>\n",
       "      <td>0.008013</td>\n",
       "      <td>0.016568</td>\n",
       "      <td>0.010405</td>\n",
       "    </tr>\n",
       "    <tr>\n",
       "      <th>6</th>\n",
       "      <td>2017-06-01</td>\n",
       "      <td>0.009383</td>\n",
       "      <td>0.013354</td>\n",
       "      <td>0.008920</td>\n",
       "    </tr>\n",
       "    <tr>\n",
       "      <th>7</th>\n",
       "      <td>2017-07-01</td>\n",
       "      <td>0.004652</td>\n",
       "      <td>0.017648</td>\n",
       "      <td>0.022918</td>\n",
       "    </tr>\n",
       "    <tr>\n",
       "      <th>8</th>\n",
       "      <td>2017-08-01</td>\n",
       "      <td>0.010723</td>\n",
       "      <td>0.014320</td>\n",
       "      <td>0.014855</td>\n",
       "    </tr>\n",
       "    <tr>\n",
       "      <th>9</th>\n",
       "      <td>2017-09-01</td>\n",
       "      <td>0.039715</td>\n",
       "      <td>0.016342</td>\n",
       "      <td>0.017179</td>\n",
       "    </tr>\n",
       "    <tr>\n",
       "      <th>10</th>\n",
       "      <td>2017-10-01</td>\n",
       "      <td>0.024181</td>\n",
       "      <td>0.013150</td>\n",
       "      <td>0.016758</td>\n",
       "    </tr>\n",
       "    <tr>\n",
       "      <th>11</th>\n",
       "      <td>2017-11-01</td>\n",
       "      <td>0.017116</td>\n",
       "      <td>0.012849</td>\n",
       "      <td>0.014898</td>\n",
       "    </tr>\n",
       "    <tr>\n",
       "      <th>12</th>\n",
       "      <td>2017-12-01</td>\n",
       "      <td>0.003319</td>\n",
       "      <td>0.016708</td>\n",
       "      <td>0.090844</td>\n",
       "    </tr>\n",
       "    <tr>\n",
       "      <th>13</th>\n",
       "      <td>2018-01-01</td>\n",
       "      <td>0.026649</td>\n",
       "      <td>0.014988</td>\n",
       "      <td>0.021315</td>\n",
       "    </tr>\n",
       "    <tr>\n",
       "      <th>14</th>\n",
       "      <td>2018-02-01</td>\n",
       "      <td>-0.006810</td>\n",
       "      <td>0.020908</td>\n",
       "      <td>0.048168</td>\n",
       "    </tr>\n",
       "    <tr>\n",
       "      <th>15</th>\n",
       "      <td>2018-03-01</td>\n",
       "      <td>0.016273</td>\n",
       "      <td>0.025764</td>\n",
       "      <td>0.020260</td>\n",
       "    </tr>\n",
       "    <tr>\n",
       "      <th>16</th>\n",
       "      <td>2018-04-01</td>\n",
       "      <td>0.008708</td>\n",
       "      <td>0.021301</td>\n",
       "      <td>0.052583</td>\n",
       "    </tr>\n",
       "    <tr>\n",
       "      <th>17</th>\n",
       "      <td>2018-05-01</td>\n",
       "      <td>0.025292</td>\n",
       "      <td>0.026550</td>\n",
       "      <td>0.003594</td>\n",
       "    </tr>\n",
       "    <tr>\n",
       "      <th>18</th>\n",
       "      <td>2018-06-01</td>\n",
       "      <td>0.033574</td>\n",
       "      <td>0.040740</td>\n",
       "      <td>0.029424</td>\n",
       "    </tr>\n",
       "    <tr>\n",
       "      <th>19</th>\n",
       "      <td>2018-07-01</td>\n",
       "      <td>0.037755</td>\n",
       "      <td>0.031931</td>\n",
       "      <td>0.025836</td>\n",
       "    </tr>\n",
       "  </tbody>\n",
       "</table>\n",
       "</div>"
      ],
      "text/plain": [
       "   indice_tiempo  estacionales  ipc_nucleo  ipc_regulados\n",
       "0     2016-12-01           NaN         NaN            NaN\n",
       "1     2017-01-01      0.016969    0.015039       0.018183\n",
       "2     2017-02-01      0.006270    0.016813       0.040398\n",
       "3     2017-03-01      0.023964    0.019331       0.038460\n",
       "4     2017-04-01      0.032446    0.021114       0.040536\n",
       "5     2017-05-01      0.008013    0.016568       0.010405\n",
       "6     2017-06-01      0.009383    0.013354       0.008920\n",
       "7     2017-07-01      0.004652    0.017648       0.022918\n",
       "8     2017-08-01      0.010723    0.014320       0.014855\n",
       "9     2017-09-01      0.039715    0.016342       0.017179\n",
       "10    2017-10-01      0.024181    0.013150       0.016758\n",
       "11    2017-11-01      0.017116    0.012849       0.014898\n",
       "12    2017-12-01      0.003319    0.016708       0.090844\n",
       "13    2018-01-01      0.026649    0.014988       0.021315\n",
       "14    2018-02-01     -0.006810    0.020908       0.048168\n",
       "15    2018-03-01      0.016273    0.025764       0.020260\n",
       "16    2018-04-01      0.008708    0.021301       0.052583\n",
       "17    2018-05-01      0.025292    0.026550       0.003594\n",
       "18    2018-06-01      0.033574    0.040740       0.029424\n",
       "19    2018-07-01      0.037755    0.031931       0.025836"
      ]
     },
     "execution_count": 39,
     "metadata": {},
     "output_type": "execute_result"
    }
   ],
   "source": [
    "data.head(20)"
   ]
  },
  {
   "cell_type": "markdown",
   "metadata": {},
   "source": [
    "#### Passamos o dataset de um formato \"largo\" a um formato \"longo\" com a função [`pandas.melt()`](https://pandas.pydata.org/docs/reference/api/pandas.melt.html#pandas-melt)."
   ]
  },
  {
   "cell_type": "code",
   "execution_count": 40,
   "metadata": {
    "colab": {
     "autoexec": {
      "startup": false,
      "wait_interval": 0
     }
    },
    "colab_type": "code",
    "id": "ndvGAmeMcBdY"
   },
   "outputs": [
    {
     "data": {
      "text/html": [
       "<div>\n",
       "<style scoped>\n",
       "    .dataframe tbody tr th:only-of-type {\n",
       "        vertical-align: middle;\n",
       "    }\n",
       "\n",
       "    .dataframe tbody tr th {\n",
       "        vertical-align: top;\n",
       "    }\n",
       "\n",
       "    .dataframe thead th {\n",
       "        text-align: right;\n",
       "    }\n",
       "</style>\n",
       "<table border=\"1\" class=\"dataframe\">\n",
       "  <thead>\n",
       "    <tr style=\"text-align: right;\">\n",
       "      <th></th>\n",
       "      <th>indice_tiempo</th>\n",
       "      <th>tipo_inflação</th>\n",
       "      <th>inf</th>\n",
       "    </tr>\n",
       "  </thead>\n",
       "  <tbody>\n",
       "    <tr>\n",
       "      <th>0</th>\n",
       "      <td>2016-12-01</td>\n",
       "      <td>estacionales</td>\n",
       "      <td>NaN</td>\n",
       "    </tr>\n",
       "    <tr>\n",
       "      <th>1</th>\n",
       "      <td>2017-01-01</td>\n",
       "      <td>estacionales</td>\n",
       "      <td>0.016969</td>\n",
       "    </tr>\n",
       "    <tr>\n",
       "      <th>2</th>\n",
       "      <td>2017-02-01</td>\n",
       "      <td>estacionales</td>\n",
       "      <td>0.006270</td>\n",
       "    </tr>\n",
       "    <tr>\n",
       "      <th>3</th>\n",
       "      <td>2017-03-01</td>\n",
       "      <td>estacionales</td>\n",
       "      <td>0.023964</td>\n",
       "    </tr>\n",
       "    <tr>\n",
       "      <th>4</th>\n",
       "      <td>2017-04-01</td>\n",
       "      <td>estacionales</td>\n",
       "      <td>0.032446</td>\n",
       "    </tr>\n",
       "    <tr>\n",
       "      <th>...</th>\n",
       "      <td>...</td>\n",
       "      <td>...</td>\n",
       "      <td>...</td>\n",
       "    </tr>\n",
       "    <tr>\n",
       "      <th>115</th>\n",
       "      <td>2019-11-01</td>\n",
       "      <td>ipc_regulados</td>\n",
       "      <td>0.038172</td>\n",
       "    </tr>\n",
       "    <tr>\n",
       "      <th>116</th>\n",
       "      <td>2019-12-01</td>\n",
       "      <td>ipc_regulados</td>\n",
       "      <td>0.046058</td>\n",
       "    </tr>\n",
       "    <tr>\n",
       "      <th>117</th>\n",
       "      <td>2020-01-01</td>\n",
       "      <td>ipc_regulados</td>\n",
       "      <td>0.011331</td>\n",
       "    </tr>\n",
       "    <tr>\n",
       "      <th>118</th>\n",
       "      <td>2020-02-01</td>\n",
       "      <td>ipc_regulados</td>\n",
       "      <td>0.007026</td>\n",
       "    </tr>\n",
       "    <tr>\n",
       "      <th>119</th>\n",
       "      <td>2020-03-01</td>\n",
       "      <td>ipc_regulados</td>\n",
       "      <td>0.032803</td>\n",
       "    </tr>\n",
       "  </tbody>\n",
       "</table>\n",
       "<p>120 rows × 3 columns</p>\n",
       "</div>"
      ],
      "text/plain": [
       "    indice_tiempo  tipo_inflação       inf\n",
       "0      2016-12-01   estacionales       NaN\n",
       "1      2017-01-01   estacionales  0.016969\n",
       "2      2017-02-01   estacionales  0.006270\n",
       "3      2017-03-01   estacionales  0.023964\n",
       "4      2017-04-01   estacionales  0.032446\n",
       "..            ...            ...       ...\n",
       "115    2019-11-01  ipc_regulados  0.038172\n",
       "116    2019-12-01  ipc_regulados  0.046058\n",
       "117    2020-01-01  ipc_regulados  0.011331\n",
       "118    2020-02-01  ipc_regulados  0.007026\n",
       "119    2020-03-01  ipc_regulados  0.032803\n",
       "\n",
       "[120 rows x 3 columns]"
      ]
     },
     "execution_count": 40,
     "metadata": {},
     "output_type": "execute_result"
    }
   ],
   "source": [
    "formatted_df = pd.melt(data, \n",
    "                       id_vars = [\"indice_tiempo\"], \n",
    "                       var_name = \"tipo_inflação\", \n",
    "                       value_name = \"inf\"\n",
    "                      )\n",
    "formatted_df"
   ]
  },
  {
   "cell_type": "markdown",
   "metadata": {},
   "source": [
    "#### Convertemos `indice_tempo` em datetime."
   ]
  },
  {
   "cell_type": "code",
   "execution_count": 41,
   "metadata": {
    "colab": {
     "autoexec": {
      "startup": false,
      "wait_interval": 0
     }
    },
    "colab_type": "code",
    "id": "bSefpbAfcBdc"
   },
   "outputs": [],
   "source": [
    "formatted_df['indice_tiempo'] = pd.to_datetime(formatted_df['indice_tiempo'], \n",
    "                                               format = '%Y-%m-%d', \n",
    "                                               errors = 'ignore'\n",
    "                                              )"
   ]
  },
  {
   "cell_type": "markdown",
   "metadata": {
    "colab_type": "text",
    "id": "dyp7BUXMcBdg"
   },
   "source": [
    "#### Vamos analisar a tabela novamente."
   ]
  },
  {
   "cell_type": "code",
   "execution_count": 42,
   "metadata": {
    "colab": {
     "autoexec": {
      "startup": false,
      "wait_interval": 0
     }
    },
    "colab_type": "code",
    "id": "ZrrTSeFHcBdi"
   },
   "outputs": [
    {
     "data": {
      "text/html": [
       "<div>\n",
       "<style scoped>\n",
       "    .dataframe tbody tr th:only-of-type {\n",
       "        vertical-align: middle;\n",
       "    }\n",
       "\n",
       "    .dataframe tbody tr th {\n",
       "        vertical-align: top;\n",
       "    }\n",
       "\n",
       "    .dataframe thead th {\n",
       "        text-align: right;\n",
       "    }\n",
       "</style>\n",
       "<table border=\"1\" class=\"dataframe\">\n",
       "  <thead>\n",
       "    <tr style=\"text-align: right;\">\n",
       "      <th></th>\n",
       "      <th>indice_tiempo</th>\n",
       "      <th>tipo_inflação</th>\n",
       "      <th>inf</th>\n",
       "    </tr>\n",
       "  </thead>\n",
       "  <tbody>\n",
       "    <tr>\n",
       "      <th>0</th>\n",
       "      <td>2016-12-01</td>\n",
       "      <td>estacionales</td>\n",
       "      <td>NaN</td>\n",
       "    </tr>\n",
       "    <tr>\n",
       "      <th>1</th>\n",
       "      <td>2017-01-01</td>\n",
       "      <td>estacionales</td>\n",
       "      <td>0.016969</td>\n",
       "    </tr>\n",
       "    <tr>\n",
       "      <th>2</th>\n",
       "      <td>2017-02-01</td>\n",
       "      <td>estacionales</td>\n",
       "      <td>0.006270</td>\n",
       "    </tr>\n",
       "    <tr>\n",
       "      <th>3</th>\n",
       "      <td>2017-03-01</td>\n",
       "      <td>estacionales</td>\n",
       "      <td>0.023964</td>\n",
       "    </tr>\n",
       "    <tr>\n",
       "      <th>4</th>\n",
       "      <td>2017-04-01</td>\n",
       "      <td>estacionales</td>\n",
       "      <td>0.032446</td>\n",
       "    </tr>\n",
       "    <tr>\n",
       "      <th>5</th>\n",
       "      <td>2017-05-01</td>\n",
       "      <td>estacionales</td>\n",
       "      <td>0.008013</td>\n",
       "    </tr>\n",
       "    <tr>\n",
       "      <th>6</th>\n",
       "      <td>2017-06-01</td>\n",
       "      <td>estacionales</td>\n",
       "      <td>0.009383</td>\n",
       "    </tr>\n",
       "    <tr>\n",
       "      <th>7</th>\n",
       "      <td>2017-07-01</td>\n",
       "      <td>estacionales</td>\n",
       "      <td>0.004652</td>\n",
       "    </tr>\n",
       "    <tr>\n",
       "      <th>8</th>\n",
       "      <td>2017-08-01</td>\n",
       "      <td>estacionales</td>\n",
       "      <td>0.010723</td>\n",
       "    </tr>\n",
       "    <tr>\n",
       "      <th>9</th>\n",
       "      <td>2017-09-01</td>\n",
       "      <td>estacionales</td>\n",
       "      <td>0.039715</td>\n",
       "    </tr>\n",
       "    <tr>\n",
       "      <th>10</th>\n",
       "      <td>2017-10-01</td>\n",
       "      <td>estacionales</td>\n",
       "      <td>0.024181</td>\n",
       "    </tr>\n",
       "    <tr>\n",
       "      <th>11</th>\n",
       "      <td>2017-11-01</td>\n",
       "      <td>estacionales</td>\n",
       "      <td>0.017116</td>\n",
       "    </tr>\n",
       "    <tr>\n",
       "      <th>12</th>\n",
       "      <td>2017-12-01</td>\n",
       "      <td>estacionales</td>\n",
       "      <td>0.003319</td>\n",
       "    </tr>\n",
       "    <tr>\n",
       "      <th>13</th>\n",
       "      <td>2018-01-01</td>\n",
       "      <td>estacionales</td>\n",
       "      <td>0.026649</td>\n",
       "    </tr>\n",
       "    <tr>\n",
       "      <th>14</th>\n",
       "      <td>2018-02-01</td>\n",
       "      <td>estacionales</td>\n",
       "      <td>-0.006810</td>\n",
       "    </tr>\n",
       "    <tr>\n",
       "      <th>15</th>\n",
       "      <td>2018-03-01</td>\n",
       "      <td>estacionales</td>\n",
       "      <td>0.016273</td>\n",
       "    </tr>\n",
       "    <tr>\n",
       "      <th>16</th>\n",
       "      <td>2018-04-01</td>\n",
       "      <td>estacionales</td>\n",
       "      <td>0.008708</td>\n",
       "    </tr>\n",
       "    <tr>\n",
       "      <th>17</th>\n",
       "      <td>2018-05-01</td>\n",
       "      <td>estacionales</td>\n",
       "      <td>0.025292</td>\n",
       "    </tr>\n",
       "    <tr>\n",
       "      <th>18</th>\n",
       "      <td>2018-06-01</td>\n",
       "      <td>estacionales</td>\n",
       "      <td>0.033574</td>\n",
       "    </tr>\n",
       "    <tr>\n",
       "      <th>19</th>\n",
       "      <td>2018-07-01</td>\n",
       "      <td>estacionales</td>\n",
       "      <td>0.037755</td>\n",
       "    </tr>\n",
       "  </tbody>\n",
       "</table>\n",
       "</div>"
      ],
      "text/plain": [
       "   indice_tiempo tipo_inflação       inf\n",
       "0     2016-12-01  estacionales       NaN\n",
       "1     2017-01-01  estacionales  0.016969\n",
       "2     2017-02-01  estacionales  0.006270\n",
       "3     2017-03-01  estacionales  0.023964\n",
       "4     2017-04-01  estacionales  0.032446\n",
       "5     2017-05-01  estacionales  0.008013\n",
       "6     2017-06-01  estacionales  0.009383\n",
       "7     2017-07-01  estacionales  0.004652\n",
       "8     2017-08-01  estacionales  0.010723\n",
       "9     2017-09-01  estacionales  0.039715\n",
       "10    2017-10-01  estacionales  0.024181\n",
       "11    2017-11-01  estacionales  0.017116\n",
       "12    2017-12-01  estacionales  0.003319\n",
       "13    2018-01-01  estacionales  0.026649\n",
       "14    2018-02-01  estacionales -0.006810\n",
       "15    2018-03-01  estacionales  0.016273\n",
       "16    2018-04-01  estacionales  0.008708\n",
       "17    2018-05-01  estacionales  0.025292\n",
       "18    2018-06-01  estacionales  0.033574\n",
       "19    2018-07-01  estacionales  0.037755"
      ]
     },
     "execution_count": 42,
     "metadata": {},
     "output_type": "execute_result"
    }
   ],
   "source": [
    "formatted_df.head(20)\n",
    "#formatted_df.tail(20)"
   ]
  },
  {
   "cell_type": "code",
   "execution_count": 43,
   "metadata": {
    "colab": {
     "autoexec": {
      "startup": false,
      "wait_interval": 0
     }
    },
    "colab_type": "code",
    "id": "JQqPsfHDcBdl"
   },
   "outputs": [
    {
     "name": "stdout",
     "output_type": "stream",
     "text": [
      "<class 'pandas.core.frame.DataFrame'>\n",
      "RangeIndex: 120 entries, 0 to 119\n",
      "Data columns (total 3 columns):\n",
      " #   Column         Non-Null Count  Dtype         \n",
      "---  ------         --------------  -----         \n",
      " 0   indice_tiempo  120 non-null    datetime64[ns]\n",
      " 1   tipo_inflação  120 non-null    object        \n",
      " 2   inf            117 non-null    float64       \n",
      "dtypes: datetime64[ns](1), float64(1), object(1)\n",
      "memory usage: 2.9+ KB\n"
     ]
    }
   ],
   "source": [
    "formatted_df.info()"
   ]
  },
  {
   "cell_type": "markdown",
   "metadata": {
    "colab_type": "text",
    "id": "6AzRqMNucBdn"
   },
   "source": [
    "## Boxplot II."
   ]
  },
  {
   "cell_type": "code",
   "execution_count": 44,
   "metadata": {
    "colab": {
     "autoexec": {
      "startup": false,
      "wait_interval": 0
     }
    },
    "colab_type": "code",
    "id": "HW_kh-fVcBdo"
   },
   "outputs": [
    {
     "data": {
      "image/png": "[encoded data removed]",
      "text/plain": [
       "<Figure size 432x288 with 1 Axes>"
      ]
     },
     "metadata": {},
     "output_type": "display_data"
    }
   ],
   "source": [
    "sns.set(style = \"ticks\")\n",
    "sns.boxplot(x = 'tipo_inflação', \n",
    "            y = 'inf', \n",
    "            hue = 'tipo_inflação', orient = 'v', data = formatted_df, palette = 'Set2')\n",
    "legend = []\n",
    "plt.legend(legend)\n",
    "plt.show()"
   ]
  },
  {
   "cell_type": "markdown",
   "metadata": {
    "colab_type": "text",
    "id": "bdF582z-cBds"
   },
   "source": [
    "* Que análise podemos fazer do gráfico anterior? \n",
    "\n",
    "* É fácil observar qual tipo de inflação tem a maior variabilidade? \n",
    "\n",
    "* Por que acham que é dessa forma? \n",
    "\n",
    "* E qual é menos volátil? \n",
    "\n",
    "* É fácil ver se as distribuições são assimétricas ou simétricas?"
   ]
  },
  {
   "cell_type": "markdown",
   "metadata": {
    "colab_type": "text",
    "id": "Yb3_WOCqcBds"
   },
   "source": [
    "## Violin plot.\n",
    "\n",
    "#### Como substituto para os histogramas, podemos usar a função [`seaborn.violinplot()`](https://seaborn.pydata.org/generated/seaborn.violinplot.html#seaborn-violinplot) para identificar a forma da distribuição, plotando a informação interquartílica contida nos box plots."
   ]
  },
  {
   "cell_type": "code",
   "execution_count": 45,
   "metadata": {
    "colab": {
     "autoexec": {
      "startup": false,
      "wait_interval": 0
     }
    },
    "colab_type": "code",
    "id": "_GwtZY6jcBdt"
   },
   "outputs": [
    {
     "data": {
      "image/png": "[encoded data removed]",
      "text/plain": [
       "<Figure size 432x288 with 1 Axes>"
      ]
     },
     "metadata": {},
     "output_type": "display_data"
    }
   ],
   "source": [
    "sns.violinplot(x = 'tipo_inflação', \n",
    "               y = 'inf', \n",
    "               hue = 'tipo_inflação', \n",
    "               orient = 'v', \n",
    "               data = formatted_df, \n",
    "               palette = 'Set2'\n",
    "              )\n",
    "legend = []\n",
    "plt.legend(legend)\n",
    "plt.show()"
   ]
  },
  {
   "cell_type": "markdown",
   "metadata": {
    "colab_type": "text",
    "id": "GgZNDDzGcBdw"
   },
   "source": [
    "## Painel 1-A: Boxplot + histograma."
   ]
  },
  {
   "cell_type": "markdown",
   "metadata": {
    "colab_type": "text",
    "id": "-qxo7BuLcBdy"
   },
   "source": [
    "#### Antes de fazer um histograma vamos começar gerando colunas para cada tipo de inflação e, depois, limpando os arrays de `NaN`."
   ]
  },
  {
   "cell_type": "code",
   "execution_count": 46,
   "metadata": {},
   "outputs": [
    {
     "data": {
      "text/plain": [
       "0           NaN\n",
       "1      0.016969\n",
       "2      0.006270\n",
       "3      0.023964\n",
       "4      0.032446\n",
       "         ...   \n",
       "115    0.038172\n",
       "116    0.046058\n",
       "117    0.011331\n",
       "118    0.007026\n",
       "119    0.032803\n",
       "Name: inf, Length: 120, dtype: float64"
      ]
     },
     "execution_count": 46,
     "metadata": {},
     "output_type": "execute_result"
    }
   ],
   "source": [
    "formatted_df\n",
    "inflação = formatted_df['inf']\n",
    "inflação\n",
    "#sazonais = formatted_df[formatted_df['tipo_inflação'] == 'sazonais']\n",
    "#sazonais"
   ]
  },
  {
   "cell_type": "markdown",
   "metadata": {},
   "source": [
    "#### Ficando apenas com a informação correspondente."
   ]
  },
  {
   "cell_type": "code",
   "execution_count": 47,
   "metadata": {
    "colab": {
     "autoexec": {
      "startup": false,
      "wait_interval": 0
     }
    },
    "colab_type": "code",
    "id": "SBNsdGytcBdz"
   },
   "outputs": [],
   "source": [
    "inflação = formatted_df['inf']\n",
    "\n",
    "sazonais = inflação[formatted_df['tipo_inflação'] == 'estacionales']\n",
    "\n",
    "regulados = inflação[formatted_df['tipo_inflação'] == 'ipc_regulados']\n",
    "\n",
    "núcleo = inflação[formatted_df['tipo_inflação'] == 'ipc_nucleo']"
   ]
  },
  {
   "cell_type": "markdown",
   "metadata": {},
   "source": [
    "#### Vamos tomar apenas os valores não `Nan` do dataframe `inflação`. "
   ]
  },
  {
   "cell_type": "code",
   "execution_count": 48,
   "metadata": {},
   "outputs": [],
   "source": [
    "sazonais = sazonais[~np.isnan(sazonais)]\n",
    "\n",
    "regulados = regulados[~np.isnan(regulados)]\n",
    "\n",
    "núcleo = núcleo[~np.isnan(núcleo)]"
   ]
  },
  {
   "cell_type": "markdown",
   "metadata": {},
   "source": [
    "#### Perbeca que tomamos o [subconjunto complementar](https://www.tutorialspoint.com/What-is-tilde-operator-in-Python) do subconjunto dos elementos `NaN`  no datafram \"inflação\"."
   ]
  },
  {
   "cell_type": "markdown",
   "metadata": {},
   "source": [
    "#### Agora podemos importar a biblioteca [`matplotlib.pyplot`](https://matplotlib.org/3.2.1/api/_as_gen/matplotlib.pyplot.html), definir as características gerais do próximo gráfico, definir a forma do painel e posição do subplot,  aplicar a função de plot de distribuições [`seaborn.distplot()`](https://seaborn.pydata.org/generated/seaborn.distplot.html#seaborn-distplot) e mostramos o gráfico."
   ]
  },
  {
   "cell_type": "code",
   "execution_count": 49,
   "metadata": {
    "colab": {
     "autoexec": {
      "startup": false,
      "wait_interval": 0
     }
    },
    "colab_type": "code",
    "id": "rMA6Rrr8cBd4"
   },
   "outputs": [
    {
     "data": {
      "image/png": "[encoded data removed]",
      "text/plain": [
       "<Figure size 1440x720 with 4 Axes>"
      ]
     },
     "metadata": {},
     "output_type": "display_data"
    }
   ],
   "source": [
    "import matplotlib.pyplot \n",
    "\n",
    "plt.figure(figsize = (20,10))\n",
    "\n",
    "# Subplot\n",
    "plt.subplot(2, 2, 1)\n",
    "plt.gca().set_title('Box plot tipos de inflação')\n",
    "sns.boxplot(x = 'tipo_inflação', \n",
    "            y = 'inf', \n",
    "            hue = 'tipo_inflação', \n",
    "            orient = 'v', \n",
    "            data = formatted_df, \n",
    "            palette = 'Set2'\n",
    "           )\n",
    "\n",
    "legend = []\n",
    "plt.legend(legend)\n",
    "\n",
    "# Subplot\n",
    "plt.subplot(2, 2, 2)\n",
    "plt.gca().set_title('Histograma inflação sazonal')\n",
    "sns.distplot(sazonais, \n",
    "             bins = 11\n",
    "            )\n",
    "\n",
    "# Outro subplot\n",
    "plt.subplot(2, 2, 3)\n",
    "plt.gca().set_title('Histograma inflação regulados')\n",
    "sns.distplot(regulados, \n",
    "             bins = 11\n",
    "            )\n",
    "\n",
    "# Outro subplot\n",
    "plt.subplot(2, 2, 4)\n",
    "plt.gca().set_title('Histograma inflação núcleo')\n",
    "sns.distplot(núcleo, \n",
    "             bins = 11\n",
    "            )\n",
    "\n",
    "plt.show()"
   ]
  },
  {
   "cell_type": "markdown",
   "metadata": {
    "colab_type": "text",
    "id": "dnun5ICIcBd7"
   },
   "source": [
    "#### A inflação é distribuída de forma normal? É útil inferir a distribuição com a quantidade de observações que temos?"
   ]
  },
  {
   "cell_type": "markdown",
   "metadata": {
    "colab_type": "text",
    "id": "UubBE_mTcBd8"
   },
   "source": [
    "### Painel 1-B: Boxplot + histograma.\n",
    "\n",
    "#### Como há poucos pontos de amostragem, seria mais sensato omitir o gráfico de distribuição e apenas representar graficamente o histograma. \n",
    "\n",
    "#### Refazemos então o gráfico anterior, omitindo a distribuição estimada."
   ]
  },
  {
   "cell_type": "code",
   "execution_count": 50,
   "metadata": {
    "colab": {
     "autoexec": {
      "startup": false,
      "wait_interval": 0
     }
    },
    "colab_type": "code",
    "id": "RSXK5Bi2cBd-"
   },
   "outputs": [
    {
     "data": {
      "image/png": "[encoded data removed]",
      "text/plain": [
       "<Figure size 1440x720 with 4 Axes>"
      ]
     },
     "metadata": {},
     "output_type": "display_data"
    }
   ],
   "source": [
    "plt.figure(figsize = (20,10))\n",
    "\n",
    "# Forma da grade e posição do subplot\n",
    "plt.subplot(2,2,1)\n",
    "sns.boxplot(x = 'tipo_inflação', \n",
    "            y = 'inf', hue = 'tipo_inflação', orient = 'v',data = formatted_df, palette = 'Set2')\n",
    "#legend = []\n",
    "plt.legend(legend)\n",
    "\n",
    "# Subplot\n",
    "plt.subplot(2,2,2)\n",
    "sns.distplot(sazonais, bins = 11, kde = False)\n",
    "\n",
    "# Subplot\n",
    "plt.subplot(2,2,3)\n",
    "sns.distplot(regulados, bins = 11, kde = False)\n",
    "\n",
    "# Subplot\n",
    "plt.subplot(2,2,4)\n",
    "sns.distplot(núcleo, bins = 11, kde = False)\n",
    "\n",
    "plt.show()"
   ]
  },
  {
   "cell_type": "markdown",
   "metadata": {
    "colab_type": "text",
    "id": "Dm7hGbc6cBeB"
   },
   "source": [
    "### Painel 2: conjunto de gráficos \n",
    "\n",
    "#### Agora vamos adicionar mais gráficos para tentar entender melhor o que nosso conjunto de informações diz."
   ]
  },
  {
   "cell_type": "code",
   "execution_count": 51,
   "metadata": {},
   "outputs": [
    {
     "data": {
      "text/html": [
       "<div>\n",
       "<style scoped>\n",
       "    .dataframe tbody tr th:only-of-type {\n",
       "        vertical-align: middle;\n",
       "    }\n",
       "\n",
       "    .dataframe tbody tr th {\n",
       "        vertical-align: top;\n",
       "    }\n",
       "\n",
       "    .dataframe thead th {\n",
       "        text-align: right;\n",
       "    }\n",
       "</style>\n",
       "<table border=\"1\" class=\"dataframe\">\n",
       "  <thead>\n",
       "    <tr style=\"text-align: right;\">\n",
       "      <th></th>\n",
       "      <th>indice_tiempo</th>\n",
       "      <th>tipo_inflação</th>\n",
       "      <th>inf</th>\n",
       "    </tr>\n",
       "  </thead>\n",
       "  <tbody>\n",
       "    <tr>\n",
       "      <th>0</th>\n",
       "      <td>2016-12-01</td>\n",
       "      <td>estacionales</td>\n",
       "      <td>NaN</td>\n",
       "    </tr>\n",
       "    <tr>\n",
       "      <th>1</th>\n",
       "      <td>2017-01-01</td>\n",
       "      <td>estacionales</td>\n",
       "      <td>0.016969</td>\n",
       "    </tr>\n",
       "    <tr>\n",
       "      <th>2</th>\n",
       "      <td>2017-02-01</td>\n",
       "      <td>estacionales</td>\n",
       "      <td>0.006270</td>\n",
       "    </tr>\n",
       "    <tr>\n",
       "      <th>3</th>\n",
       "      <td>2017-03-01</td>\n",
       "      <td>estacionales</td>\n",
       "      <td>0.023964</td>\n",
       "    </tr>\n",
       "    <tr>\n",
       "      <th>4</th>\n",
       "      <td>2017-04-01</td>\n",
       "      <td>estacionales</td>\n",
       "      <td>0.032446</td>\n",
       "    </tr>\n",
       "  </tbody>\n",
       "</table>\n",
       "</div>"
      ],
      "text/plain": [
       "  indice_tiempo tipo_inflação       inf\n",
       "0    2016-12-01  estacionales       NaN\n",
       "1    2017-01-01  estacionales  0.016969\n",
       "2    2017-02-01  estacionales  0.006270\n",
       "3    2017-03-01  estacionales  0.023964\n",
       "4    2017-04-01  estacionales  0.032446"
      ]
     },
     "execution_count": 51,
     "metadata": {},
     "output_type": "execute_result"
    }
   ],
   "source": [
    "formatted_df.head()"
   ]
  },
  {
   "cell_type": "markdown",
   "metadata": {},
   "source": [
    "#### Geramos o ambiente da figura, dividimos a área em áreas de 3 filas x 1 coluna (grades) (a forma das grades é análoga à dos arranjos) para gerar vistas diferentes dos dados."
   ]
  },
  {
   "cell_type": "code",
   "execution_count": 52,
   "metadata": {
    "colab": {
     "autoexec": {
      "startup": false,
      "wait_interval": 0
     }
    },
    "colab_type": "code",
    "id": "iqtJN8PkcBeF"
   },
   "outputs": [
    {
     "data": {
      "image/png": "[encoded data removed]",
      "text/plain": [
       "<Figure size 1440x720 with 3 Axes>"
      ]
     },
     "metadata": {},
     "output_type": "display_data"
    }
   ],
   "source": [
    "plt.figure(figsize=(20, 10))\n",
    "\n",
    "#plt.subplot(2, 2, 1) # selecionamos o #2\n",
    "plt.subplot(3, 1, 1) # selecionamos o #2\n",
    "\n",
    "# Bloco superior.\n",
    "pivoted = pd.pivot_table(formatted_df, \n",
    "                         values = 'inf', \n",
    "                         columns = 'tipo_inflação', \n",
    "                         index = 'indice_tiempo'\n",
    "                        )\n",
    "plt.plot(pivoted)\n",
    "plt.legend(('sazonal', 'regulados', 'núcleo' ), \n",
    "           loc = (1.05, 0.5)\n",
    "          ) \n",
    "\n",
    "#plt.subplot(2, 2, 2) # selecionamos o #2\n",
    "plt.subplot(3, 1, 2) # selecionamos o #2\n",
    "\n",
    "\n",
    "# gráfico de barras verticais.\n",
    "tipos_inflação = [\"sazonais\", \"núcleo\", \"regulados\"]\n",
    "valores_média = [sazonais.mean(), núcleo.mean(), regulados.mean()]\n",
    "inflação_posição = [1, 2, 3]\n",
    "plt.bar(inflação_posição, \n",
    "        valores_média, \n",
    "        tick_label = tipos_inflação, \n",
    "        color = ('Blue', 'orange', 'green')\n",
    "       ) \n",
    "\n",
    "\n",
    "# gráfico de barras horizontais.\n",
    "#plt.subplot(2, 2, 3) # selecionamos o #3\n",
    "plt.subplot(3, 1, 3) # selecionamos o #3\n",
    "plt.barh(inflação_posição, valores_média, tick_label = tipos_inflação, color = ('Blue', 'orange', 'green'))\n",
    "\n",
    "plt.show()"
   ]
  },
  {
   "cell_type": "markdown",
   "metadata": {
    "colab_type": "text",
    "id": "Vg7w5FKLcBeI"
   },
   "source": [
    "#### Que informações esses gráficos adicionam à nossa análise? "
   ]
  },
  {
   "cell_type": "markdown",
   "metadata": {
    "colab_type": "text",
    "id": "2hqOaNn8cBeI"
   },
   "source": [
    "### Scatter plots e correlation plots.\n",
    "\n",
    "#### Geramos novas variáveis com o objetivo de representá-las graficamente com um scatter plot e, depois, calcular tipos de associação linear."
   ]
  },
  {
   "cell_type": "markdown",
   "metadata": {},
   "source": [
    "#### Definimos o tamanho da figura e a distribuição dos subplots."
   ]
  },
  {
   "cell_type": "code",
   "execution_count": 53,
   "metadata": {
    "colab": {
     "autoexec": {
      "startup": false,
      "wait_interval": 0
     }
    },
    "colab_type": "code",
    "id": "6ts5nYDtcBeL"
   },
   "outputs": [
    {
     "data": {
      "image/png": "[encoded data removed]",
      "text/plain": [
       "<Figure size 1440x720 with 3 Axes>"
      ]
     },
     "metadata": {},
     "output_type": "display_data"
    }
   ],
   "source": [
    " #plt.figure(figsize = (15,15))\n",
    "plt.figure(figsize = (20,10))\n",
    "\n",
    "#plt.subplot(2, 2, 1)\n",
    "plt.subplot(1, 3, 1)\n",
    "plt.gca().set_title('Scatter plot inflação núcleo contra sazonal')\n",
    "plt.scatter(núcleo, sazonais, \n",
    "            color = 'indigo', \n",
    "            alpha = 0.8, \n",
    "            edgecolors = 'white'\n",
    "           )\n",
    "\n",
    "plt.xlabel('núcleo')\n",
    "plt.ylabel('sazonais')\n",
    "\n",
    "#plt.subplot(2, 2, 2)\n",
    "plt.subplot(1, 3, 2)\n",
    "plt.gca().set_title('Scatter plot inflação regulados contra sazonal')\n",
    "plt.scatter(regulados, \n",
    "            sazonais, \n",
    "            color = 'pink', \n",
    "            alpha = 0.8, \n",
    "            edgecolors = 'grey'\n",
    "           )\n",
    "\n",
    "plt.xlabel('regulados')\n",
    "plt.ylabel('sazonais')\n",
    "\n",
    "#plt.subplot(2, 2, 3)\n",
    "plt.subplot(1, 3, 3)\n",
    "plt.gca().set_title('Scatter plot inflação núcleo contra regulados')\n",
    "plt.scatter(regulados, \n",
    "            núcleo, \n",
    "            color = 'darkgrey', \n",
    "            alpha = 0.8, \n",
    "            edgecolors = 'grey'\n",
    "           )\n",
    "plt.xlabel('regulados')\n",
    "plt.ylabel('núcleo')\n",
    "\n",
    "plt.show()"
   ]
  },
  {
   "cell_type": "markdown",
   "metadata": {
    "colab_type": "text",
    "id": "fiEQyXh5cBeO"
   },
   "source": [
    "* Que tipo de relação você observa entre as variáveis do primeiro subplot? Você pode falar sobre associação ou correlação linear? \n",
    "* E no segundo subplot?"
   ]
  },
  {
   "cell_type": "markdown",
   "metadata": {},
   "source": [
    "#### Podemos calcular a covariância [np.cov()](https://numpy.org/doc/stable/reference/generated/numpy.cov.html) dessas variáveis. Como você interpretaria os coeficientes de correlação? O que eles indicam?"
   ]
  },
  {
   "cell_type": "code",
   "execution_count": 54,
   "metadata": {
    "colab": {
     "autoexec": {
      "startup": false,
      "wait_interval": 0
     }
    },
    "colab_type": "code",
    "id": "jAz7EQWLcBeP"
   },
   "outputs": [
    {
     "data": {
      "text/plain": [
       "array([[0.00019705, 0.00016445],\n",
       "       [0.00016445, 0.00036564]])"
      ]
     },
     "execution_count": 54,
     "metadata": {},
     "output_type": "execute_result"
    }
   ],
   "source": [
    "np.cov(núcleo, \n",
    "       sazonais\n",
    "      )"
   ]
  },
  {
   "cell_type": "code",
   "execution_count": 55,
   "metadata": {
    "colab": {
     "autoexec": {
      "startup": false,
      "wait_interval": 0
     }
    },
    "colab_type": "code",
    "id": "nCEiTgLJcBeS"
   },
   "outputs": [
    {
     "data": {
      "text/plain": [
       "array([[3.39447464e-04, 1.64004165e-05],\n",
       "       [1.64004165e-05, 3.65636857e-04]])"
      ]
     },
     "execution_count": 55,
     "metadata": {},
     "output_type": "execute_result"
    }
   ],
   "source": [
    "np.cov(regulados, \n",
    "       sazonais\n",
    "      )"
   ]
  },
  {
   "cell_type": "code",
   "execution_count": 56,
   "metadata": {
    "colab": {
     "autoexec": {
      "startup": false,
      "wait_interval": 0
     }
    },
    "colab_type": "code",
    "id": "zvuQslfjcBeX"
   },
   "outputs": [
    {
     "data": {
      "text/plain": [
       "array([[3.39447464e-04, 8.06594671e-05],\n",
       "       [8.06594671e-05, 1.97053345e-04]])"
      ]
     },
     "execution_count": 56,
     "metadata": {},
     "output_type": "execute_result"
    }
   ],
   "source": [
    "np.cov(regulados, \n",
    "       núcleo\n",
    "      )"
   ]
  },
  {
   "cell_type": "markdown",
   "metadata": {},
   "source": [
    "### Calculamos também as matrizes de correlação, usando a função [sns.heatmap](https://seaborn.pydata.org/generated/seaborn.heatmap.html#seaborn-heatmap)."
   ]
  },
  {
   "cell_type": "markdown",
   "metadata": {},
   "source": [
    "#### Correlação entre inflações Núcleo e Sazonais."
   ]
  },
  {
   "cell_type": "code",
   "execution_count": 57,
   "metadata": {
    "colab": {
     "autoexec": {
      "startup": false,
      "wait_interval": 0
     }
    },
    "colab_type": "code",
    "id": "5EUeFYJpcBec"
   },
   "outputs": [
    {
     "data": {
      "image/png": "[encoded data removed]",
      "text/plain": [
       "<Figure size 432x288 with 2 Axes>"
      ]
     },
     "metadata": {},
     "output_type": "display_data"
    }
   ],
   "source": [
    "corr1 = np.corrcoef(núcleo, sazonais)\n",
    "#print(corr1)\n",
    "\n",
    "sns.heatmap(corr1, \n",
    "            annot = True\n",
    "           );\n",
    "plt.show()"
   ]
  },
  {
   "cell_type": "markdown",
   "metadata": {},
   "source": [
    "#### Correlação entre inflações Regulados e Sazonais."
   ]
  },
  {
   "cell_type": "code",
   "execution_count": 58,
   "metadata": {
    "colab": {
     "autoexec": {
      "startup": false,
      "wait_interval": 0
     }
    },
    "colab_type": "code",
    "id": "vMcxrfSfcBef"
   },
   "outputs": [
    {
     "data": {
      "image/png": "[encoded data removed]",
      "text/plain": [
       "<Figure size 432x288 with 2 Axes>"
      ]
     },
     "metadata": {},
     "output_type": "display_data"
    }
   ],
   "source": [
    "corr2 = np.corrcoef(regulados, \n",
    "                    sazonais\n",
    "                   )\n",
    "#print(corr2)\n",
    "\n",
    "sns.heatmap(corr2, annot = True);\n",
    "plt.show()"
   ]
  },
  {
   "cell_type": "markdown",
   "metadata": {},
   "source": [
    "#### Correlação entre inflações Regulados e Núcleo."
   ]
  },
  {
   "cell_type": "code",
   "execution_count": 59,
   "metadata": {
    "colab": {
     "autoexec": {
      "startup": false,
      "wait_interval": 0
     }
    },
    "colab_type": "code",
    "id": "irCgXS9fcBei"
   },
   "outputs": [
    {
     "name": "stdout",
     "output_type": "stream",
     "text": [
      "[[1.         0.31187256]\n",
      " [0.31187256 1.        ]]\n"
     ]
    },
    {
     "data": {
      "image/png": "[encoded data removed]",
      "text/plain": [
       "<Figure size 432x288 with 2 Axes>"
      ]
     },
     "metadata": {},
     "output_type": "display_data"
    }
   ],
   "source": [
    "corr3 = np.corrcoef(regulados, \n",
    "                    núcleo\n",
    "                   )\n",
    "print(corr3)\n",
    "\n",
    "sns.heatmap(corr3, \n",
    "            annot = True\n",
    "           );\n",
    "plt.show()"
   ]
  },
  {
   "cell_type": "markdown",
   "metadata": {
    "colab_type": "text",
    "id": "KboOo_ENcBem"
   },
   "source": [
    "#### Qual é o caso com maior correlação? Por quê?"
   ]
  },
  {
   "cell_type": "code",
   "execution_count": null,
   "metadata": {},
   "outputs": [],
   "source": []
  },
  {
   "cell_type": "code",
   "execution_count": null,
   "metadata": {},
   "outputs": [],
   "source": []
  }
 ],
 "metadata": {
  "colab": {
   "default_view": {},
   "name": "PRACTICA_GUIADA_Visualizacion_pt_br.ipynb",
   "provenance": [],
   "version": "0.3.2",
   "views": {}
  },
  "kernelspec": {
   "display_name": "Python 3",
   "language": "python",
   "name": "python3"
  },
  "language_info": {
   "codemirror_mode": {
    "name": "ipython",
    "version": 3
   },
   "file_extension": ".py",
   "mimetype": "text/x-python",
   "name": "python",
   "nbconvert_exporter": "python",
   "pygments_lexer": "ipython3",
   "version": "3.7.6"
  }
 },
 "nbformat": 4,
 "nbformat_minor": 4
}
