{
 "cells": [
  {
   "cell_type": "markdown",
   "metadata": {},
   "source": [
    "# Prática independente - SQL Básico II."
   ]
  },
  {
   "cell_type": "markdown",
   "metadata": {},
   "source": [
    "#### Exercício 1 - Lista funcionários por chefe.\n",
    "```SQL\n",
    "JUNTE E COMBINE TODOS AS LINHAS DAS TABELAS\n",
    "   employees e1,\n",
    "   employees e2\n",
    "\n",
    "PEGUE SÓ LINHAS QUE OBEDEÇAM AO CRITÉRIO\n",
    "   e1.reportsTo = e2.employeeNumber\n",
    "\n",
    "MOSTRE AS COLUNAS\n",
    "   e2.firstName||' '||e2.lastName AS boss,\n",
    "   e2.jobTitle                    AS department,\n",
    "   e1.employeeNumber              AS ID,\n",
    "   e1.firstName||' '||e1.lastName AS employee\n",
    "\n",
    "ORDENE POR\n",
    "   boss\n",
    "```"
   ]
  },
  {
   "cell_type": "code",
   "execution_count": null,
   "metadata": {},
   "outputs": [],
   "source": []
  },
  {
   "cell_type": "markdown",
   "metadata": {},
   "source": [
    "#### Exercício 2 - Inspeciona pedidos de compra.\n",
    "\n",
    "Dados sobre pedidos aparecem nas tabelas `orders` e `orderdetails` e o que relaciona elas é a coluna `orderNumber`. Vamos inspecionar um único pedido.\n",
    "\n",
    "```SQL\n",
    "JUNTE E COMBINE TODOS AS LINHAS DAS TABELAS\n",
    "   orderdetails\n",
    "\n",
    "PEGUE SÓ LINHAS QUE OBEDEÇAM AO CRITÉRIO\n",
    "   orderNumber=10103\n",
    "\n",
    "MOSTRE AS COLUNAS\n",
    "    orderLineNumber,\n",
    "    productCode,\n",
    "    priceEach,\n",
    "    quantityOrdered,\n",
    "    priceEach*quantityOrdered as priceTotal\n",
    "    \n",
    "ORDENE POR\n",
    "   orderLineNumber\n",
    "```"
   ]
  },
  {
   "cell_type": "code",
   "execution_count": null,
   "metadata": {},
   "outputs": [],
   "source": []
  },
  {
   "cell_type": "markdown",
   "metadata": {},
   "source": [
    "#### Exercício 3 - Vamos melhorar a leitura dessa tabela adicionando a descrição do produto. Faremos um **JOIN** com a tabela `products`.\n",
    "\n",
    "```SQL\n",
    "JUNTE E COMBINE TODOS AS LINHAS DAS TABELAS\n",
    "   orderdetails AS o,\n",
    "   products AS p\n",
    "\n",
    "PEGUE SÓ LINHAS QUE OBEDEÇAM AO CRITÉRIO\n",
    "    o.productCode=p.productCode AND\n",
    "    orderNumber=10103\n",
    "\n",
    "MOSTRE AS COLUNAS\n",
    "    o.orderLineNumber,\n",
    "    o.priceEach,\n",
    "    o.quantityOrdered,\n",
    "    o.priceEach*o.quantityOrdered as itemTotal,\n",
    "    o.productCode,\n",
    "    p.productName\n",
    "    \n",
    "ORDENE POR\n",
    "   orderLineNumber\n",
    "```"
   ]
  },
  {
   "cell_type": "code",
   "execution_count": null,
   "metadata": {},
   "outputs": [],
   "source": []
  },
  {
   "cell_type": "markdown",
   "metadata": {},
   "source": [
    "#### Exercício 4 - Performance de venda por categoria de produtos\n",
    "\n",
    "```SQL\n",
    "JUNTE E COMBINE TODOS AS LINHAS DAS TABELAS\n",
    "    orderdetails o,\n",
    "    products p\n",
    "\n",
    "PEGUE SÓ LINHAS QUE OBEDEÇAM AO CRITÉRIO\n",
    "    o.productCode=p.productCode\n",
    "\n",
    "MOSTRE AS COLUNAS\n",
    "    p.productLine,\n",
    "    count(p.productLine) AS nItems,\n",
    "    sum(o.priceEach*o.quantityOrdered)/count(p.productLine) AS averagePerItem,\n",
    "    sum(o.priceEach*o.quantityOrdered) AS lineTotal\n",
    "\n",
    "AGRUPE POR\n",
    "    p.productLine\n",
    "\n",
    "ORDENE INVERSAMENTE POR\n",
    "   lineTotal\n",
    "```"
   ]
  },
  {
   "cell_type": "code",
   "execution_count": null,
   "metadata": {},
   "outputs": [],
   "source": []
  },
  {
   "cell_type": "markdown",
   "metadata": {},
   "source": [
    "#### Exercício 5 - Qual é o produto que mais vende ?\n",
    "\n",
    "```SQL\n",
    "JUNTE E COMBINE TODOS AS LINHAS DAS TABELAS\n",
    "    orderdetails o,\n",
    "    products p\n",
    "\n",
    "PEGUE SÓ LINHAS QUE OBEDEÇAM AO CRITÉRIO\n",
    "    o.productCode=p.productCode\n",
    "\n",
    "MOSTRE AS COLUNAS\n",
    "    p.productName,\n",
    "    count(o.quantityOrdered) AS nItems,\n",
    "#    sum(o.priceEach*o.quantityOrdered) AS lineTotal\n",
    "\n",
    "AGRUPE POR\n",
    "    p.productCode\n",
    "\n",
    "ORDENE INVERSAMENTE POR\n",
    "   lineTotal\n",
    "```"
   ]
  },
  {
   "cell_type": "code",
   "execution_count": null,
   "metadata": {},
   "outputs": [],
   "source": []
  },
  {
   "cell_type": "markdown",
   "metadata": {},
   "source": [
    "#### Exercício 6 - Qual é o cliente que mais compra ?\n",
    "\n",
    "```SQL\n",
    "JUNTE E COMBINE TODOS AS LINHAS DAS TABELAS\n",
    "    orderdetails as od,\n",
    "    orders as o,\n",
    "    customers as c\n",
    "\n",
    "PEGUE SÓ LINHAS QUE OBEDEÇAM AO CRITÉRIO\n",
    "    od.orderNumber = o.orderNumber AND\n",
    "    c.customerNumber = o.customerNumber\n",
    "\n",
    "MOSTRE AS COLUNAS\n",
    "    c.customerNumber,\n",
    "    c.customerName,\n",
    "    sum(od.priceEach*od.quantityOrdered) AS customerTotal\n",
    "    sum(od.quantityOrdered) AS nItems,\n",
    "\n",
    "AGRUPE POR\n",
    "    c.customerNumber\n",
    "\n",
    "ORDENE INVERSAMENTE POR\n",
    "   customerTotal\n",
    "```"
   ]
  },
  {
   "cell_type": "code",
   "execution_count": null,
   "metadata": {},
   "outputs": [],
   "source": []
  },
  {
   "cell_type": "markdown",
   "metadata": {},
   "source": [
    "#### Exercício 7 - Mostre vendas e valores por mês...\n",
    "\n",
    "```SQL\n",
    "JUNTE E COMBINE TODOS AS LINHAS DAS TABELAS\n",
    "    orderdetails as od,\n",
    "    orders as o,\n",
    "\n",
    "PEGUE SÓ LINHAS QUE OBEDEÇAM AO CRITÉRIO\n",
    "    od.orderNumber = o.orderNumber\n",
    "\n",
    "MOSTRE AS COLUNAS\n",
    "    substr(o.orderDate,1,7) as month,\n",
    "    sum(od.priceEach*od.quantityOrdered) AS monthTotal\n",
    "    sum(od.quantityOrdered) AS nItems,\n",
    "\n",
    "AGRUPE POR\n",
    "    month\n",
    "\n",
    "ORDENE INVERSAMENTE POR\n",
    "   month\n",
    "```"
   ]
  },
  {
   "cell_type": "code",
   "execution_count": null,
   "metadata": {},
   "outputs": [],
   "source": []
  },
  {
   "cell_type": "code",
   "execution_count": null,
   "metadata": {},
   "outputs": [],
   "source": []
  },
  {
   "cell_type": "code",
   "execution_count": null,
   "metadata": {},
   "outputs": [],
   "source": []
  }
 ],
 "metadata": {
  "kernelspec": {
   "display_name": "Python 2",
   "language": "python",
   "name": "python2"
  },
  "language_info": {
   "codemirror_mode": {
    "name": "ipython",
    "version": 2
   },
   "file_extension": ".py",
   "mimetype": "text/x-python",
   "name": "python",
   "nbconvert_exporter": "python",
   "pygments_lexer": "ipython2",
   "version": "2.7.16"
  }
 },
 "nbformat": 4,
 "nbformat_minor": 4
}
