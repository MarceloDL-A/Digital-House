{
 "cells": [
  {
   "cell_type": "markdown",
   "metadata": {},
   "source": [
    "# PRÁTICA INDEPENDENTE - Estatística Descritiva II."
   ]
  },
  {
   "cell_type": "code",
   "execution_count": 8,
   "metadata": {},
   "outputs": [],
   "source": [
    "import matplotlib.pyplot as plt\n",
    "%matplotlib inline\n",
    "import numpy as np\n",
    "import pandas as pd\n",
    "from scipy import stats\n",
    "import seaborn as sns"
   ]
  },
  {
   "cell_type": "markdown",
   "metadata": {},
   "source": [
    "## Exercício 1 - Função de Probabilidade - [Distribuição Binomial](https://www.investopedia.com/terms/b/binomialdistribution.asp).\n",
    "\n",
    "\\begin{equation*}\n",
    "f(x)=  \\binom {n}{x} (p)^{x} (1-p)^{(n-x)}\n",
    "\\end{equation*}\n",
    "\n",
    "#### Considere uma variável $ X $, do tipo aleatória aleatória, contendo o número de caras saídas em $ 12 $ lançamentos de uma [moeda honesta](https://en.wikipedia.org/wiki/Fair_coin). Qual a probabilidade de sair $ 5 $ caras em $ 12 $ lançamentos, $P(X = 5)$."
   ]
  },
  {
   "cell_type": "code",
   "execution_count": null,
   "metadata": {},
   "outputs": [],
   "source": []
  },
  {
   "cell_type": "markdown",
   "metadata": {},
   "source": [
    "## Exercício 2 - Função de Probabilidade - [Distribuição de Poisson](https://www.investopedia.com/terms/p/poisson-distribution.asp).\n",
    "\n",
    "\\begin{equation*}\n",
    "f(x)= e^{-\\lambda} \\dfrac{\\lambda^{x}}{x!}\n",
    "\\end{equation*}\n",
    "\n",
    "#### Imagine um pronto socorro que realiza em média $ 5 $ atendimentos por hora.  Qual  a  probabilidade  dele  realizar  $ 2 $ atendimentos a qualquer momento aleatório? "
   ]
  },
  {
   "cell_type": "code",
   "execution_count": null,
   "metadata": {},
   "outputs": [],
   "source": []
  },
  {
   "cell_type": "markdown",
   "metadata": {},
   "source": [
    "## Exercício 3 - [Função de Probabilidade](https://www.investopedia.com/terms/p/probabilitydistribution.asp).\n",
    "\n",
    "#### (Meyer,2000) Suponha que $ X_{t} $, o nº de partículas emitidas em $ t $  horas por uma fonte radioativa, tenha uma distribuição de Poisson com parâmetro $20 t $. Qual será a probabilidade de que exatamente $ 5 $  partículas sejam emitidas durante um período de $ 15 $ min?"
   ]
  },
  {
   "cell_type": "code",
   "execution_count": null,
   "metadata": {},
   "outputs": [],
   "source": []
  },
  {
   "cell_type": "markdown",
   "metadata": {},
   "source": [
    "## Exercício 4 - [Distribuição Normal](https://www.investopedia.com/terms/n/normaldistribution.asp).\n",
    "\n",
    "#### Gere uma distribuição normal com o peso da população; tome como média $70$ kg, como desvio padrão de $25$ kg e $ 100 $ observações e plote a Função Densidade de Probabilidade (PDF)."
   ]
  },
  {
   "cell_type": "code",
   "execution_count": null,
   "metadata": {},
   "outputs": [],
   "source": []
  },
  {
   "cell_type": "markdown",
   "metadata": {},
   "source": [
    "## Exercício 5 - [Normalização](https://www.investopedia.com/terms/z/zscore.asp)\n",
    "\n",
    "\n",
    "#### Normalize a distribuição anterior com [z-score](https://towardsdatascience.com/the-surprising-longevity-of-the-z-score-a8d4f65f64a0)\n",
    "\n",
    "\\begin{equation*}\n",
    "Z \\sim \\dfrac{x - \\mu} {\\sigma^{2}\\,}\n",
    "\\end{equation*}\n",
    "\n",
    "#### Tente realizar essa tarefa através de um método explícito, de uma função definida, com o auxílio da função [`lambda`](https://docs.python.org/3/reference/expressions.html#lambda) e com o método [`Sklearn.Preprocessing()`](https://scikit-learn.org/stable/modules/generated/sklearn.preprocessing.StandardScaler.html)."
   ]
  },
  {
   "cell_type": "markdown",
   "metadata": {},
   "source": [
    "#### Método explícito:"
   ]
  },
  {
   "cell_type": "code",
   "execution_count": null,
   "metadata": {},
   "outputs": [],
   "source": []
  },
  {
   "cell_type": "markdown",
   "metadata": {},
   "source": [
    "#### Definindo uma função:"
   ]
  },
  {
   "cell_type": "code",
   "execution_count": null,
   "metadata": {},
   "outputs": [],
   "source": []
  },
  {
   "cell_type": "code",
   "execution_count": null,
   "metadata": {},
   "outputs": [],
   "source": []
  },
  {
   "cell_type": "markdown",
   "metadata": {},
   "source": [
    "#### Utilizando função `Lambda`:"
   ]
  },
  {
   "cell_type": "code",
   "execution_count": null,
   "metadata": {
    "scrolled": true
   },
   "outputs": [],
   "source": []
  },
  {
   "cell_type": "markdown",
   "metadata": {},
   "source": [
    "#### Utilizando `Sklearn.Preprocessing`:"
   ]
  },
  {
   "cell_type": "code",
   "execution_count": null,
   "metadata": {},
   "outputs": [],
   "source": []
  },
  {
   "cell_type": "code",
   "execution_count": null,
   "metadata": {},
   "outputs": [],
   "source": []
  }
 ],
 "metadata": {
  "kernelspec": {
   "display_name": "Python 3",
   "language": "python",
   "name": "python3"
  },
  "language_info": {
   "codemirror_mode": {
    "name": "ipython",
    "version": 3
   },
   "file_extension": ".py",
   "mimetype": "text/x-python",
   "name": "python",
   "nbconvert_exporter": "python",
   "pygments_lexer": "ipython3",
   "version": "3.7.6"
  }
 },
 "nbformat": 4,
 "nbformat_minor": 4
}
