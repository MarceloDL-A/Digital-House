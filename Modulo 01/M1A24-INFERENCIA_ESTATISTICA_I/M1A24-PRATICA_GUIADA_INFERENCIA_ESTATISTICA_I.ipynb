{
 "cells": [
  {
   "cell_type": "markdown",
   "metadata": {},
   "source": [
    "# Prática Guiada - Inferência."
   ]
  },
  {
   "cell_type": "markdown",
   "metadata": {},
   "source": [
    "## Introdução à Inferência Estatística\n",
    "\n",
    "*fonte: Wikipedia*\n",
    "\n",
    "Inferência estatística é um ramo da Estatística cujo objetivo é fazer afirmações a partir de um conjunto de valores representativo (amostra) sobre um universo (população), sendo que assume-se que a população é muito maior do que o conjunto de dados observados, a amostra. Tal tipo de afirmação deve sempre vir acompanhada de uma medida de precisão sobre sua veracidade. Para realizar este trabalho o estatístico coleta informações de dois tipos, experimentais (as amostras) e aquelas que obtém na literatura. As duas principais escolas de inferência são a inferência frequencista (ou clássica) e a inferência bayesiana.\n",
    "\n",
    "A inferência estatística é geralmente distinta da estatística descritiva. A descrição estatística pode ser vista como a simples apresentação dos fatos, nos quais o modelo de decisões feito pelo analista tem pouca influência. É natural que análises estatísticas avancem, indo da descrição para a inferência de padrões. Essa última tarefa depende do modelo usado e/ou criado pelo analista dos dados. \n",
    "\n",
    "Na prática, a matematica é mais dedutiva e a inferência é indutiva.\n",
    "\n",
    "- Parâmetros -> População\n",
    "- Estatisticas -> Amostra\n",
    "\n",
    "<br>\n",
    "<img src=\"estatistica.png\" width=\"450\" />\n",
    "<br>\n",
    "\n",
    "## Conceitos fundamentais para a compreeensão da estatística\n",
    "\n",
    "- **Viés**: Viés ou erro sistemático é a distorção sistemática entre a medida de uma variável estatística e o valor real da grandeza a estimar. A introdução de um viés no cálculo estatístico pode estar ligada quer a imperfeição ou deformação da amostra (estatística) que serve de base para a estimativa, quer ao próprio método de avaliação. Estudaremos **viés** na aula de **Inferência 2**.\n",
    "\n",
    "- **Intervalos de confiança**:  Intervalo de confiança (IC) é um tipo de estimativa por intervalo de um parâmetro populacional desconhecido.\n",
    "\n",
    "- **Testes de hipóteses**: ou teste de significância é um procedimento estatístico que permite tomar uma decisão (aceitar ou rejeitar a hipótese).\n",
    "\n",
    "Vamos então aprofundar agora os conceitos de **intervalo de confiança** e **teste de hipótese**, e deixar viés para a próxima aula.\n",
    "\n",
    "- **Curva Normal:**\n",
    "\n",
    "Distribuição De-Moivre-Laplace-Gauss\n",
    "\n",
    "Nos séculos dezoito e dezenove, alguns matemáticos e físicos desenvolveram uma função densidade de probabilidade que descrevia os erros experimentais obtidos em medidas físicas _Caire_, 2012. De certa forma todo e qualquer processo de mensuração está sujeito a um erro de medida. Esse erro pode ter diferentes fontes, desde a variação de tempertura, tempo, entre inúmeras outras características não identificáveis. Essa função densidade de probabilidade é curva conhecida como distribuição normal ou gaussina.\n",
    "\n",
    "A grande utilidade dessa distribuição está associada ao fato de que aproxima de forma bastante satisfatória as curvas de frequências de medidas físicas.\n",
    "\n",
    "<br>\n",
    "<img src=\"normal.png\" width=\"550\" />\n",
    "<br>\n",
    "\n",
    "- **Desvio-Padrão:**\n",
    "\n",
    "O desvio-padrão é uma formulação empírica para cálculo do padrão de desvio da série de dados. Para uma população, temos interesse em calcular o padrão de desvio da série com todos os valores observados deste população, através da raiz quadrada do quadrado da diferença entre cada observação e o valor médio. Para uma amostra, por definição, o desvio-padrão deve ser dividido pela razão do número de observações menos um, devido ao número dos graus de liberdade."
   ]
  },
  {
   "cell_type": "markdown",
   "metadata": {},
   "source": [
    "## Intervalo de Confiança\n",
    "\n",
    "*fonte: Wikipedia*\n",
    "\n",
    "Em estatística, intervalo de confiança (IC) é um tipo de estimativa por intervalo de um parâmetro populacional desconhecido. Introduzido na estatística por Jerzy Neyman em 1937, é um intervalo observado (calculado a partir de observações) que pode variar de amostra para amostra e que com dada frequência (nível de confiança) inclui o parâmetro de interesse real não observável.\n",
    "\n",
    "Como os dados observados são amostras aleatórias da população, o intervalo de confiança construído a partir dos dados também é aleatório. Entretanto, o intervalo de confiança calculado a partir de uma amostra particular não inclui necessariamente o valor real do parâmetro. Quando se tem 99% de confiança de que o valor real do parâmetro está no intervalo de confiança, significa que 99% dos intervalos de confiança observados têm o valor real do parâmetro. Tomando–se qualquer amostra particular, o parâmetro populacional desconhecido pode ou não pode estar no intervalo de confiança observado.\n",
    "\n",
    "<br>\n",
    "<img src=\"intervalo_de_confianca.png\" width=\"700\" />\n",
    "<br>"
   ]
  },
  {
   "cell_type": "markdown",
   "metadata": {},
   "source": [
    "# Teste de Hipóteses\n",
    "\n",
    "Teste de hipóteses, teste estatístico ou teste de significância é um procedimento estatístico que permite tomar uma decisão (aceitar ou rejeitar a hipótese nula ${H_0}$ entre duas ou mais hipóteses (geralmente adota-se hipótese nula ${H_0}$ e hipótese alternativa ${H_1}$), utilizando os dados observados de um determinado experimento. Há diversos métodos para realizar o teste de hipóteses, que incluem Fisher (teste de significância), o método de Neyman–Pearson, método de Bayes, e o método t-Student.\n",
    "\n",
    "Por meio da teoria da probabilidade, é possível inferir sobre quantidades de interesse de uma população a partir de uma amostra observada de um experimento científico. Por exemplo, estimar pontualmente e de forma intervalar um parâmetro de interesse, testar se uma determinada teoria científica deve ser descartada, verificar se um lote de remédios deve ser devolvido por falta de qualidade, entre outros. Por meio do rigor matemático, a inferência estatística pode ser utilizada para auxiliar a tomada de decisões nas mais variadas áreas.\n",
    "\n",
    "<br>\n",
    "<img src=\"zona_aceitacao.png\" width=\"450\" />\n",
    "<br>\n",
    "\n",
    "Portanto, para um teste de hipóteses teremos geralmente:\n",
    "\n",
    "- Hipótese nula ${H_0}$: é a hipótese assumida como verdadeira para a construção do teste. É a teoria, o efeito ou a alternativa que se está interessado em testar e **não rejeitar**.\n",
    "\n",
    "- Hipótese alternativa ${H_1}$: é considerada quando a hipótese nula não tem evidência estatística.\n",
    "\n",
    "Os testes de hipóteses são utilizados para determinar quais resultados de um estudo científico podem levar à rejeição da hipótese nula ${H_0}$ a um nível de significância pré–estabelecido. O estudo da teoria das probabilidades e a determinação da estatística de teste correta são fundamentais para a coerência de um teste de hipótese. Se as hipóteses do teste de hipóteses não forem assumidas de maneira correta, o resultado será incorreto e a informação será incoerente com a questão do estudo científico. Os tipos conceituais de erro (erro do tipo I e erro do tipo II) e os limites paramétricos ajudam a distinguir entre a hipótese nula ${H_0}$ e a hipótese alternativa ${H_1}$.\n",
    "\n",
    "<br>\n",
    "<img src=\"erro_tabela.png\">\n",
    "<br>\n",
    "\n",
    "Graficamente temos:\n",
    "\n",
    "<br>\n",
    "<br>\n",
    "<img src=\"erros.png\" width=\"600\" />\n",
    "<br>\n",
    "<br>"
   ]
  },
  {
   "cell_type": "markdown",
   "metadata": {},
   "source": [
    "## Teste de Hipóteses com duas amostras\n",
    "\n",
    "É apropriado para comparar duas amostras, tipicamente amostra experimental e amostra de controle a partir de um experimento cientificamente controlado. Também pode ser chamado de **teste para comparação de 2 médias**.\n",
    "\n",
    "- Teste pareado: É apropriado para comparar duas amostras quando é impossível controlar variáveis importantes. Em vez de comparar dois conjuntos, os componentes são pareados entre amostras. Então, a diferença entre os componentes se torna a amostra. Tipicamente a média das diferenças é comparada a 0. O cenário comum de exemplo para quando o teste pareado é apropriado é quando um único conjunto de sujeitos de teste tem algo aplicado a eles e o teste destina-se a verificar um efeito.\n",
    "\n",
    "Calculamos as diferenças dos valores das amostras e calculamos $\\overline x$ e $s$ das diferenças e usamos a estatística:\n",
    "\n",
    "\n",
    "## Intervalo de Confiança para uma Média Populacional \n",
    " \n",
    "Um dos objetivos mais importantes da estatística é obter informação sobre a média de uma dada população. A média de uma amostra da população, $\\overline x$ , é como se fosse uma estimativa para $µ$, a média verdadeira da população. \n",
    " \n",
    "Informação adicional é dada pelo desvio padrão da distribuição amostral de \n",
    " $\\overline x$ , $ \\sigma_\\overline x = \\frac{\\sigma_x }{ \\sqrt{n}} $. O desvio padrão da distribuição de $\\overline x$, $ \\sigma_\\overline x$, é um tipo de medida da dispersão das médias $\\overline x$ de cada amostra de tamanho $n$ retirada da população em torno da média verdadeira da população $µ$. \n",
    " \n",
    "Usando a estimativa de µ dada pela média de uma amostra, $\\overline x$ , o desvio padrão da distribuição amostral, $ \\sigma_\\overline x$ , e as propriedades da distribuição normal, um intervalo de valores dentro do qual a média µ pode estar com um certo grau de confiança pode ser construído. Esse intervalo é chamado de intervalo de confiança para µ . O intervalo de confiança é construído de tal maneira que a probabilidade de que µ esteja dentro dele pode ser tão alta quanto se queira, ou seja, com 90% de certeza, 95% de certeza, 99% de certeza, 99,9% de certeza etc.  \n",
    " \n",
    "O poder do Teorema Central do Limite reside no fato de que os valores médios para amostras retiradas de uma população com qualquer distribuição estarão aproximadamente normalmente distribuídos se o tamanho das amostras for grande. Então, basta usar a distribuição normal para se calcular as probabilidades necessárias. \n",
    "\n",
    "<br><br>\n",
    "$$t=\\frac{\\overline x- \\mu_0}{\\sigma_\\overline x} \\sim t(n-1)$$\n",
    "<br><br>\n",
    "\n",
    "Onde $\\sigma_\\overline x$ é o desvio-padrão médio amostral:\n",
    "\n",
    "<br>\n",
    "$$ \\sigma_\\overline x = \\frac{\\sigma_x }{ \\sqrt{n}} $$\n",
    "<br>\n",
    "\n",
    "<br>\n",
    "<img src=\"desvio_padrao_amostral.png\" width=\"350\" />\n",
    "<br>\n",
    "\n",
    "Porquê utilizar o Desvio-Padrão médio amostral:\n",
    "\n",
    "- A média amostral é um **estimador não viciado** para a média populacional μ e como sua variancia tende a zero conforme n cresce, concluímos também que é um **estimador consistente** para μ.\n",
    "\n",
    "- À medida que n aumenta, a **função densidade de probabilidade vai se concentrando ao redor da média populacional**. Quanto maior o tamanho de amostra maior probabilidade que uma estimativa de estar próxima da média populacional.\n"
   ]
  },
  {
   "cell_type": "code",
   "execution_count": 1,
   "metadata": {},
   "outputs": [
    {
     "data": {
      "text/plain": [
       "1.9839715184496334"
      ]
     },
     "execution_count": 1,
     "metadata": {},
     "output_type": "execute_result"
    }
   ],
   "source": [
    "import scipy.stats as st\n",
    "from scipy import stats\n",
    "\n",
    "# distribuição normal\n",
    "st.norm.ppf(.975)\n",
    "\n",
    "# distribuição estudante\n",
    "st.t.ppf(0.975, 100)"
   ]
  },
  {
   "cell_type": "markdown",
   "metadata": {},
   "source": [
    "#### Considere que a lista `salarios_ds` contenha todos os salário de cientista de dados de uma empresa. Vamos encontrar o intervalo que contenha a média salarial com $80\\%$, $90\\%$ e $95\\%$ de certeza."
   ]
  },
  {
   "cell_type": "code",
   "execution_count": 1,
   "metadata": {},
   "outputs": [],
   "source": [
    "import numpy as np \n",
    "#sampl = np.round(np.random.uniform(low = 80000, high = 110000, size = (100,)), 2)\n",
    "#sampl\n",
    "\n",
    "salarios_ds =   [ 82605.21,  93393.71,  85464.98,  92625.13,  98408.64,  81590.22,\n",
    "                85266.31, 105896.72,  97724.9 , 102549.14,  94121.39,  94544.41,\n",
    "                96384.59,  95887.11,  84898.81,  85034.68,  93842.46,  93368.26,\n",
    "                97195.34,  94823.33,  83793.13, 105053.1 ,  83338.4 ,  80981.04,\n",
    "               102967.96,  97461.64,  85435.99,  95663.41, 106912.8 ,  93901.26,\n",
    "               103306.45,  88845.02,  99412.42,  88884.58, 108330.36,  99637.31,\n",
    "               103846.76,  90227.44, 104976.52,  81033.71, 107316.78,  83366.22,\n",
    "               100928.4 ,  96078.14,  84649.25, 103063.54,  82044.95,  96476.43,\n",
    "                97173.01, 100722.12, 104887.99,  84868.76,  95244.14,  89161.29,\n",
    "                89527.86,  86746.64, 106910.23,  83010.37,  93912.12,  83314.89,\n",
    "                95755.1 ,  80705.84,  90825.41, 100990.38,  92755.5 ,  80516.65,\n",
    "               106506.93,  81381.28,  88590.39,  88981.25,  89984.74, 105236.23,\n",
    "                85807.39,  94245.45,  97714.8 , 102782.04, 103936.86, 105470.67,\n",
    "               104280.44, 104463.15,  94155.63,  86349.7 ,  86141.98, 109530.48,\n",
    "               109018.82,  87243.07,  82880.12,  92336.48,  92285.78,  93245.19,\n",
    "                90265.99,  83796.55,  88751.18, 105168.64,  98918.87, 106780.58,\n",
    "                91209.95, 106740.69,  83320.35, 104213.27]"
   ]
  },
  {
   "cell_type": "markdown",
   "metadata": {},
   "source": [
    "#### Agora considere que estamos olhando apenas para uma parte dos salários (que estão na lista `parte_salarios`), definimos o intervalo onde iremos encontrar o valor médio do salário de um cientista de dados com $80\\%$, $90\\%$ e $95\\%$ de certeza."
   ]
  },
  {
   "cell_type": "code",
   "execution_count": 2,
   "metadata": {},
   "outputs": [],
   "source": [
    "parte_salarios = [100928.4 ,  96078.14,  84649.25, 103063.54,  82044.95,  96476.43,\n",
    "                  97173.01, 100722.12, 104887.99,  84868.76,  95244.14,  89161.29,\n",
    "                  89527.86,  86746.64, 106910.23,  83010.37,  93912.12,  83314.89,\n",
    "                  95755.1 ,  80705.84,  90825.41, 100990.38,  92755.5 ,  80516.65,\n",
    "                  106506.93,  81381.28,  88590.39,  88981.25,  89984.74, 105236.23,]\n"
   ]
  },
  {
   "cell_type": "code",
   "execution_count": 3,
   "metadata": {},
   "outputs": [],
   "source": [
    "nota_engenharia = [42.76, 59.23, 23.76, 52.38, 35.26, 22.46, 41.87, 55.97, 54.67,\n",
    "                   46.25, 39.76, 41.6 , 58.41, 12.93, 49.89, 26.13, 27.19, 14.04,\n",
    "                   21.95, 26.26, 49.29, 31.99, 30.31, 58.39, 23.02, 50.97, 26.72,\n",
    "                   47.13, 42.41, 44.76, 44.75, 37.71, 37.58, 27.48, 50.52, 19.55,\n",
    "                   38.1 , 22.39, 21.16, 13.53, 23.62, 38.83, 10.97, 32.9 , 55.24,\n",
    "                   59.67, 47.21, 47.64, 34.83, 13.25]\n",
    "\n",
    "nota_arquitetura = [23.56, 58.84, 69.24, 69.6 , 80.68, 56.38, 66.39, 39.26, 76.48,\n",
    "                   85.13, 41.34, 78.67, 58.9 , 50.17, 57.59, 20.31, 39.48, 32.28,\n",
    "                   67.86, 69.21, 20.14, 40.11, 42.8 , 56.01, 70.83, 46.25, 26.02,\n",
    "                   48.32, 72.63, 38.24, 23.47, 21.66, 53.14, 24.02, 20.07, 69.58,\n",
    "                   82.04, 46.48, 33.14, 78.91, 51.97, 56.77, 60.95, 53.51, 54.93,\n",
    "                   29.51, 24.88, 31.83, 55.32, 64.17]"
   ]
  },
  {
   "cell_type": "code",
   "execution_count": 4,
   "metadata": {},
   "outputs": [
    {
     "data": {
      "text/plain": [
       "-14.0876"
      ]
     },
     "execution_count": 4,
     "metadata": {},
     "output_type": "execute_result"
    }
   ],
   "source": [
    "np.mean(np.array(nota_engenharia) - np.array(nota_arquitetura))"
   ]
  },
  {
   "cell_type": "markdown",
   "metadata": {},
   "source": [
    "##  Exemplo: Companhia aérea"
   ]
  },
  {
   "cell_type": "markdown",
   "metadata": {},
   "source": [
    "#### Em uma companhia aérea temos um vôo com `368` assentos, com um número de passagens vendidas de `n = 400`. Sendo que a probabilidade de `no-show` é de `10%`, e o custo de um passageiro excedente é de `R$1.000,00` Reais, com $ 0.95 $ de confiança, qual é a exposição financeira total da empresa aérea?"
   ]
  },
  {
   "cell_type": "markdown",
   "metadata": {},
   "source": [
    "#### identificando os dados."
   ]
  },
  {
   "cell_type": "code",
   "execution_count": 5,
   "metadata": {},
   "outputs": [],
   "source": [
    "n = 400 # número de passagens vendidas\n",
    "p = 0.1 # probabilidade de no show\n",
    "risco_p_passageiro = 1000\n",
    "assentos = 368 # No. de assentos do avião"
   ]
  },
  {
   "cell_type": "markdown",
   "metadata": {},
   "source": [
    "#### Calculando a [média](https://www.statisticshowto.com/probability-and-statistics/binomial-theorem/find-the-mean-of-the-probability-distribution-binomial/):"
   ]
  },
  {
   "cell_type": "code",
   "execution_count": 6,
   "metadata": {},
   "outputs": [
    {
     "name": "stdout",
     "output_type": "stream",
     "text": [
      "média = 360.0\n"
     ]
    }
   ],
   "source": [
    "media = n * (1 - p)  \n",
    "print('média =', media)"
   ]
  },
  {
   "cell_type": "markdown",
   "metadata": {},
   "source": [
    "#### Cálculo do desvio-padrão pela [variância](http://www.stat.yale.edu/Courses/1997-98/101/binom.htm): \n",
    "\n",
    "$$\n",
    "\\bigg(\\frac{\\sigma}{\\sqrt{n}}\\bigg)^{2} = p( 1 - p ).\n",
    "$$"
   ]
  },
  {
   "cell_type": "code",
   "execution_count": 7,
   "metadata": {},
   "outputs": [
    {
     "name": "stdout",
     "output_type": "stream",
     "text": [
      "desvio-padrão = 6.0\n"
     ]
    }
   ],
   "source": [
    "std_amostral = ( n * p * ( 1 - p ) ) ** 0.5\n",
    "print('desvio-padrão =', std_amostral)"
   ]
  },
  {
   "cell_type": "markdown",
   "metadata": {},
   "source": [
    "#### Calculando e imprimindo o intervalo de confiança."
   ]
  },
  {
   "cell_type": "code",
   "execution_count": 8,
   "metadata": {},
   "outputs": [
    {
     "name": "stdout",
     "output_type": "stream",
     "text": [
      "Intervalo de confiança: 348.0 <--> 372.0\n"
     ]
    }
   ],
   "source": [
    "int_inferior = media - 2 * std_amostral\n",
    "int_superior = media + 2 * std_amostral\n",
    "print('Intervalo de confiança:', int_inferior, '<-->', int_superior)"
   ]
  },
  {
   "cell_type": "markdown",
   "metadata": {},
   "source": [
    "#### Calculando e imprimindo o risco financeiro."
   ]
  },
  {
   "cell_type": "code",
   "execution_count": 9,
   "metadata": {},
   "outputs": [
    {
     "name": "stdout",
     "output_type": "stream",
     "text": [
      "Risco financeiro total = 4000.0\n"
     ]
    }
   ],
   "source": [
    "risco = ( int_superior - assentos ) * risco_p_passageiro\n",
    "print ('Risco financeiro total =', risco)"
   ]
  },
  {
   "cell_type": "markdown",
   "metadata": {},
   "source": [
    "#### Importando as bilbiotecas para plotar a distribuição:"
   ]
  },
  {
   "cell_type": "code",
   "execution_count": 10,
   "metadata": {},
   "outputs": [],
   "source": [
    "import matplotlib.pyplot as plt\n",
    "%matplotlib inline\n",
    "import numpy as np\n",
    "import scipy.stats as stats\n",
    "import math"
   ]
  },
  {
   "cell_type": "markdown",
   "metadata": {},
   "source": [
    "#### Definindo os dados."
   ]
  },
  {
   "cell_type": "code",
   "execution_count": 11,
   "metadata": {},
   "outputs": [],
   "source": [
    "mu = 360\n",
    "p = 0.1\n",
    "variance = p * ( 1 - p )\n",
    "sigma = 6 "
   ]
  },
  {
   "cell_type": "markdown",
   "metadata": {},
   "source": [
    "#### Definindo as coordenadas  de `x` com o auxílio de função [`np.linspace`](https://numpy.org/doc/stable/reference/generated/numpy.linspace.html), que retorna valores igualmente espaçados em um intervalos específico."
   ]
  },
  {
   "cell_type": "code",
   "execution_count": 12,
   "metadata": {},
   "outputs": [],
   "source": [
    "x = np.linspace(mu - 3 * sigma, \n",
    "                mu + 3 * sigma, \n",
    "                100\n",
    "               )"
   ]
  },
  {
   "cell_type": "markdown",
   "metadata": {},
   "source": [
    "#### Plotamos a curva normal com a função [`stats.norm()`](https://docs.scipy.org/doc/scipy/reference/generated/scipy.stats.norm.html), que gera variáveis aleatórias normais e contínuas e a função de densidade de probabilidade [`.pdf()`](https://kite.com/python/docs/scipy.stats.norm.pdf)."
   ]
  },
  {
   "cell_type": "code",
   "execution_count": 13,
   "metadata": {},
   "outputs": [
    {
     "data": {
      "image/png": "[encoded data removed]",
      "text/plain": [
       "<Figure size 432x288 with 1 Axes>"
      ]
     },
     "metadata": {
      "needs_background": "light"
     },
     "output_type": "display_data"
    }
   ],
   "source": [
    "plt.plot(x, stats.norm.pdf(x, mu, sigma))\n",
    "# coordenadas de x\n",
    "xcoords = [round(int_inferior, 3), \n",
    "           round(media, 3), \n",
    "           round(int_superior, 3), \n",
    "           assentos\n",
    "          ]\n",
    "# cor das linhas\n",
    "colors = ['r','k','r','b']\n",
    "\n",
    "# plotando as linhas\n",
    "for xc, c in zip(xcoords, colors):\n",
    "    plt.axvline(x = xc, \n",
    "                label = 'line at x = {}'.format(xc), \n",
    "                c = c\n",
    "               )\n",
    "\n",
    "# plotando as legendas\n",
    "plt.legend()\n",
    "plt.show()"
   ]
  },
  {
   "cell_type": "markdown",
   "metadata": {},
   "source": [
    "## Exemplo: Lotérica\n",
    "\n",
    "#### Fomos contratados por uma empresa de loteria para pesquisar a proporção de clientes que compra determinado produto. A empresa manterá seu atual planejamento de marketing se a sua participação de mercado for de 50% ou mais, caso contrário, ela triplicará seus gastos em publicidade. \n",
    "\n",
    "- Hipótese Nula ($H_0$): 50% ou mais do mercado compra na lotérica (sem investimento adicional em MKT)\n",
    "- Hipeotese Alternativa ($H_1$): menos de 50% do mercado compra na lotérica (triplicar o investimento em MKT)"
   ]
  },
  {
   "cell_type": "markdown",
   "metadata": {},
   "source": [
    "#### Importando as bilbiotecas necessárias"
   ]
  },
  {
   "cell_type": "code",
   "execution_count": 14,
   "metadata": {},
   "outputs": [],
   "source": [
    "import numpy as np\n",
    "import pandas as pd\n",
    "import scipy.stats as st\n",
    "import matplotlib.pyplot as plt\n",
    "%matplotlib inline"
   ]
  },
  {
   "cell_type": "markdown",
   "metadata": {},
   "source": [
    "### Base de dados\n",
    "\n",
    "#### A base de dados será criada com o [numpy.binomial](https://numpy.org/doc/stable/reference/random/generated/numpy.random.binomial.html) como um teste de 120 observações aleatórias com valores 0 e 1 (que define se o cliente compra ou não na casa lotérica), com [parâmetro de distribuição](https://www.statlect.com/glossary/parameter) `p = 0.4` (que define o target da média). Estes dados estão substituindo artificialmente dados reais que seriam obtidos através da realização de $120$ entrevistas com pessoas freqüêntam a lotérica como potenciais clientes do negócio."
   ]
  },
  {
   "cell_type": "markdown",
   "metadata": {},
   "source": [
    "### Criando um DataFrame com os dados\n",
    "\n",
    "#### Estes dados, teoricamente seriam obtidos pela realização de entrevistas com as pessoas nas imediações da casa lotérica para apurar quantas pessoas são clientes e quantas não são clientes."
   ]
  },
  {
   "cell_type": "markdown",
   "metadata": {},
   "source": [
    "#### Criação artificial dos dados por [simulações de monte carlo](https://pbpython.com/monte-carlo.html)."
   ]
  },
  {
   "cell_type": "code",
   "execution_count": 15,
   "metadata": {},
   "outputs": [],
   "source": [
    "p = 0.4     # Definição do target (teórico)\n",
    "testes = 1\n",
    "obs = 120   # Número de Observações"
   ]
  },
  {
   "cell_type": "markdown",
   "metadata": {},
   "source": [
    "#### Fixando o valor inicial para geração de uma série de dados randômicos com a função [`np.random.seed()`](https://docs.scipy.org/doc/numpy-1.15.0/reference/generated/numpy.random.seed.html), que retorna gera uma distribuição aleatória a partir de uma semente."
   ]
  },
  {
   "cell_type": "code",
   "execution_count": 16,
   "metadata": {},
   "outputs": [],
   "source": [
    "np.random.seed(seed = 42)"
   ]
  },
  {
   "cell_type": "markdown",
   "metadata": {},
   "source": [
    "#### Criamos ainda um DataFrame com os dados, usamos a função [`np.random.binomial()`](https://docs.scipy.org/doc/numpy-1.14.0/reference/generated/numpy.random.binomial.html), que cria amostras de distribuições binomiais."
   ]
  },
  {
   "cell_type": "code",
   "execution_count": 17,
   "metadata": {},
   "outputs": [
    {
     "data": {
      "text/html": [
       "<div>\n",
       "<style scoped>\n",
       "    .dataframe tbody tr th:only-of-type {\n",
       "        vertical-align: middle;\n",
       "    }\n",
       "\n",
       "    .dataframe tbody tr th {\n",
       "        vertical-align: top;\n",
       "    }\n",
       "\n",
       "    .dataframe thead th {\n",
       "        text-align: right;\n",
       "    }\n",
       "</style>\n",
       "<table border=\"1\" class=\"dataframe\">\n",
       "  <thead>\n",
       "    <tr style=\"text-align: right;\">\n",
       "      <th></th>\n",
       "      <th>compra_ou_não</th>\n",
       "    </tr>\n",
       "  </thead>\n",
       "  <tbody>\n",
       "    <tr>\n",
       "      <th>0</th>\n",
       "      <td>0</td>\n",
       "    </tr>\n",
       "    <tr>\n",
       "      <th>1</th>\n",
       "      <td>1</td>\n",
       "    </tr>\n",
       "    <tr>\n",
       "      <th>2</th>\n",
       "      <td>1</td>\n",
       "    </tr>\n",
       "    <tr>\n",
       "      <th>3</th>\n",
       "      <td>0</td>\n",
       "    </tr>\n",
       "    <tr>\n",
       "      <th>4</th>\n",
       "      <td>0</td>\n",
       "    </tr>\n",
       "    <tr>\n",
       "      <th>5</th>\n",
       "      <td>0</td>\n",
       "    </tr>\n",
       "    <tr>\n",
       "      <th>6</th>\n",
       "      <td>0</td>\n",
       "    </tr>\n",
       "    <tr>\n",
       "      <th>7</th>\n",
       "      <td>1</td>\n",
       "    </tr>\n",
       "    <tr>\n",
       "      <th>8</th>\n",
       "      <td>1</td>\n",
       "    </tr>\n",
       "    <tr>\n",
       "      <th>9</th>\n",
       "      <td>1</td>\n",
       "    </tr>\n",
       "  </tbody>\n",
       "</table>\n",
       "</div>"
      ],
      "text/plain": [
       "   compra_ou_não\n",
       "0              0\n",
       "1              1\n",
       "2              1\n",
       "3              0\n",
       "4              0\n",
       "5              0\n",
       "6              0\n",
       "7              1\n",
       "8              1\n",
       "9              1"
      ]
     },
     "execution_count": 17,
     "metadata": {},
     "output_type": "execute_result"
    }
   ],
   "source": [
    "df = pd.DataFrame(np.random.binomial(n = testes, \n",
    "                                     p = p, \n",
    "                                     size = obs, \n",
    "                                    ), \n",
    "                  columns = ['compra_ou_não']\n",
    "                 )\n",
    "df.head(10)\n",
    "\n",
    "# soma de 1's / total de linhas = obs"
   ]
  },
  {
   "cell_type": "markdown",
   "metadata": {},
   "source": [
    "#### Plotando um histograma com os dados."
   ]
  },
  {
   "cell_type": "code",
   "execution_count": 18,
   "metadata": {},
   "outputs": [
    {
     "data": {
      "text/plain": [
       "<matplotlib.axes._subplots.AxesSubplot at 0x1a16801f90>"
      ]
     },
     "execution_count": 18,
     "metadata": {},
     "output_type": "execute_result"
    },
    {
     "data": {
      "image/png": "[encoded data removed]",
      "text/plain": [
       "<Figure size 432x288 with 1 Axes>"
      ]
     },
     "metadata": {
      "needs_background": "light"
     },
     "output_type": "display_data"
    }
   ],
   "source": [
    "df.plot.hist()"
   ]
  },
  {
   "cell_type": "markdown",
   "metadata": {},
   "source": [
    "#### Camos agora obter as informações sobre os dados."
   ]
  },
  {
   "cell_type": "code",
   "execution_count": 19,
   "metadata": {},
   "outputs": [
    {
     "name": "stdout",
     "output_type": "stream",
     "text": [
      "<class 'pandas.core.frame.DataFrame'>\n",
      "RangeIndex: 120 entries, 0 to 119\n",
      "Data columns (total 1 columns):\n",
      " #   Column         Non-Null Count  Dtype\n",
      "---  ------         --------------  -----\n",
      " 0   compra_ou_não  120 non-null    int64\n",
      "dtypes: int64(1)\n",
      "memory usage: 1.1 KB\n"
     ]
    }
   ],
   "source": [
    "df.info()"
   ]
  },
  {
   "cell_type": "markdown",
   "metadata": {},
   "source": [
    "#### obtendo a descrição das estatísticas básicas."
   ]
  },
  {
   "cell_type": "code",
   "execution_count": 20,
   "metadata": {},
   "outputs": [
    {
     "data": {
      "text/html": [
       "<div>\n",
       "<style scoped>\n",
       "    .dataframe tbody tr th:only-of-type {\n",
       "        vertical-align: middle;\n",
       "    }\n",
       "\n",
       "    .dataframe tbody tr th {\n",
       "        vertical-align: top;\n",
       "    }\n",
       "\n",
       "    .dataframe thead th {\n",
       "        text-align: right;\n",
       "    }\n",
       "</style>\n",
       "<table border=\"1\" class=\"dataframe\">\n",
       "  <thead>\n",
       "    <tr style=\"text-align: right;\">\n",
       "      <th></th>\n",
       "      <th>compra_ou_não</th>\n",
       "    </tr>\n",
       "  </thead>\n",
       "  <tbody>\n",
       "    <tr>\n",
       "      <th>count</th>\n",
       "      <td>120.000000</td>\n",
       "    </tr>\n",
       "    <tr>\n",
       "      <th>mean</th>\n",
       "      <td>0.383333</td>\n",
       "    </tr>\n",
       "    <tr>\n",
       "      <th>std</th>\n",
       "      <td>0.488237</td>\n",
       "    </tr>\n",
       "    <tr>\n",
       "      <th>min</th>\n",
       "      <td>0.000000</td>\n",
       "    </tr>\n",
       "    <tr>\n",
       "      <th>25%</th>\n",
       "      <td>0.000000</td>\n",
       "    </tr>\n",
       "    <tr>\n",
       "      <th>50%</th>\n",
       "      <td>0.000000</td>\n",
       "    </tr>\n",
       "    <tr>\n",
       "      <th>75%</th>\n",
       "      <td>1.000000</td>\n",
       "    </tr>\n",
       "    <tr>\n",
       "      <th>max</th>\n",
       "      <td>1.000000</td>\n",
       "    </tr>\n",
       "  </tbody>\n",
       "</table>\n",
       "</div>"
      ],
      "text/plain": [
       "       compra_ou_não\n",
       "count     120.000000\n",
       "mean        0.383333\n",
       "std         0.488237\n",
       "min         0.000000\n",
       "25%         0.000000\n",
       "50%         0.000000\n",
       "75%         1.000000\n",
       "max         1.000000"
      ]
     },
     "execution_count": 20,
     "metadata": {},
     "output_type": "execute_result"
    }
   ],
   "source": [
    "df.describe()"
   ]
  },
  {
   "cell_type": "markdown",
   "metadata": {},
   "source": [
    "#### O cálculo da média real."
   ]
  },
  {
   "cell_type": "code",
   "execution_count": 21,
   "metadata": {},
   "outputs": [
    {
     "data": {
      "text/plain": [
       "0.38333333333333336"
      ]
     },
     "execution_count": 21,
     "metadata": {},
     "output_type": "execute_result"
    }
   ],
   "source": [
    "df['compra_ou_não'].mean()"
   ]
  },
  {
   "cell_type": "markdown",
   "metadata": {},
   "source": [
    "## Análise dos dados\n",
    "\n",
    "#### Calculando a média :"
   ]
  },
  {
   "cell_type": "code",
   "execution_count": 23,
   "metadata": {},
   "outputs": [
    {
     "data": {
      "text/plain": [
       "0.38333333333333336"
      ]
     },
     "execution_count": 23,
     "metadata": {},
     "output_type": "execute_result"
    }
   ],
   "source": [
    "market_share_amostral = df.compra_ou_não.sum() / len(df.compra_ou_não)\n",
    "market_share_amostral"
   ]
  },
  {
   "cell_type": "markdown",
   "metadata": {},
   "source": [
    "### Calculando a variância e o desvio-padrão médio amostral.\n",
    "\n",
    "#### Vamos calcular o [desvio-padrão médio amostral](https://stats.libretexts.org/Bookshelves/Introductory_Statistics/Book%3A_Introductory_Statistics_(Shafer_and_Zhang)/06%3A_Sampling_Distributions/6.01%3A_The_Mean_and_Standard_Deviation_of_the_Sample_Mean#:~:text=The%20mean%20of%20the%20sample,%3D%E2%88%9A20%2F%E2%88%9A2.), dado pela razão entre o desvio padrão populacional e a raiz quadrada do número de  observações."
   ]
  },
  {
   "cell_type": "code",
   "execution_count": 27,
   "metadata": {},
   "outputs": [
    {
     "data": {
      "text/plain": [
       "compra_ou_não    0.04457\n",
       "dtype: float64"
      ]
     },
     "execution_count": 27,
     "metadata": {},
     "output_type": "execute_result"
    }
   ],
   "source": [
    "std_médio_amostral = df.std() / (np.sqrt(obs)) \n",
    "std_médio_amostral"
   ]
  },
  {
   "cell_type": "markdown",
   "metadata": {},
   "source": [
    "#### Calculamos também a da variância real com a utilização do desvio-padrão original"
   ]
  },
  {
   "cell_type": "code",
   "execution_count": 29,
   "metadata": {},
   "outputs": [
    {
     "name": "stdout",
     "output_type": "stream",
     "text": [
      "Desvio-Padrão médio amostral: compra_ou_não    0.04457\n",
      "dtype: float64\n",
      "Varância real: compra_ou_não    0.238375\n",
      "dtype: float64\n"
     ]
    }
   ],
   "source": [
    "var = df.std()**2\n",
    "print('Desvio-Padrão médio amostral:', std_médio_amostral)\n",
    "print('Varância real:', var)"
   ]
  },
  {
   "cell_type": "markdown",
   "metadata": {},
   "source": [
    "#### Calculamos a [variância da distribuição normal](https://proofwiki.org/wiki/Variance_of_Binomial_Distribution#:~:text=Hence%20the%20result.-,Proof%203,is%20independent%20of%20each%20other.&text=The%20Variance%20of%20Bernoulli%20Distribution%20is%20p(1%E2%88%92p).)."
   ]
  },
  {
   "cell_type": "code",
   "execution_count": 32,
   "metadata": {},
   "outputs": [
    {
     "data": {
      "text/plain": [
       "0.24"
      ]
     },
     "execution_count": 32,
     "metadata": {},
     "output_type": "execute_result"
    }
   ],
   "source": [
    "var_nominal = p * (1 - p)\n",
    "var_nominal"
   ]
  },
  {
   "cell_type": "markdown",
   "metadata": {},
   "source": [
    "### Formulando a hipótese a ser testada\n",
    "\n",
    "#### Segundo o teste de hipóteses, caso o market share da lotérica seja maior que $50\\%$ o investimento deve se manter o mesmo (não triplicar), ou seja, se $p(H_{0}) > 0.5$ não rejeitamos a hipótese. Neste caso conhecemos a média e a variância amostral.\n",
    "\n",
    "#### Será utilizada a média amostral padronizada do ponto anterior para o teste. Adotando o nível de significância de $0.95$, está sendo buscada uma regra que deixe um valor de $p > 0.05$ de rejeição quando $H_{0}$ for verdadeira."
   ]
  },
  {
   "cell_type": "markdown",
   "metadata": {},
   "source": [
    "## Calculando e comparando os valores críticos."
   ]
  },
  {
   "cell_type": "markdown",
   "metadata": {},
   "source": [
    "#### Calculando manualmente, com base na fórmula (utilizando o [z-score](https://www.statisticshowto.com/probability-and-statistics/z-score/) nominal para população), média, desvio-padrão amostral e número de observações."
   ]
  },
  {
   "cell_type": "code",
   "execution_count": 43,
   "metadata": {},
   "outputs": [],
   "source": [
    "#n=120\n",
    "mean = df.compra_ou_não.mean()\n",
    "std = df.compra_ou_não.std()\n",
    "n = len(df.compra_ou_não)"
   ]
  },
  {
   "cell_type": "markdown",
   "metadata": {},
   "source": [
    "#### Calculando o [Intervalo de confiança](https://www.youtube.com/watch?v=EJe3jiZNwUU&ab_channel=zedstatistics):"
   ]
  },
  {
   "cell_type": "code",
   "execution_count": 49,
   "metadata": {},
   "outputs": [
    {
     "data": {
      "text/plain": [
       "(0.2959766533226802, 0.4706900133439865)"
      ]
     },
     "execution_count": 49,
     "metadata": {},
     "output_type": "execute_result"
    }
   ],
   "source": [
    "mean - 1.96 * std / np.sqrt(n), mean + 1.96 * std / np.sqrt(n) "
   ]
  },
  {
   "cell_type": "markdown",
   "metadata": {},
   "source": [
    "#### Calculando o intervalo de confiança pelo [`st.norm.interval()`](https://docs.scipy.org/doc/scipy/reference/generated/scipy.stats.norm.html)."
   ]
  },
  {
   "cell_type": "code",
   "execution_count": 50,
   "metadata": {},
   "outputs": [
    {
     "data": {
      "text/plain": [
       "(0.295978258522175, 0.4706884081444917)"
      ]
     },
     "execution_count": 50,
     "metadata": {},
     "output_type": "execute_result"
    }
   ],
   "source": [
    "st.norm.interval(alpha = 0.95, \n",
    "                 loc = mean, \n",
    "                 scale = std / np.sqrt(n)\n",
    "                )"
   ]
  },
  {
   "cell_type": "markdown",
   "metadata": {},
   "source": [
    "#### isolando os limites de valor inferior e superior."
   ]
  },
  {
   "cell_type": "code",
   "execution_count": 46,
   "metadata": {},
   "outputs": [],
   "source": [
    "limite_inferior = st.norm.interval(alpha = 0.95, \n",
    "                                   loc = mean, \n",
    "                                   scale = std / np.sqrt(n)\n",
    "                                  )[0]\n",
    "limite_superior = st.norm.interval(alpha = 0.95, \n",
    "                                   loc = mean, \n",
    "                                   scale = std / np.sqrt(n)\n",
    "                                  )[1]"
   ]
  },
  {
   "cell_type": "markdown",
   "metadata": {},
   "source": [
    "#### Chamando as variáveis criadas `limite_inferior` e `limite_superior`."
   ]
  },
  {
   "cell_type": "code",
   "execution_count": 47,
   "metadata": {},
   "outputs": [
    {
     "data": {
      "text/plain": [
       "(0.295978258522175, 0.4706884081444917)"
      ]
     },
     "execution_count": 47,
     "metadata": {},
     "output_type": "execute_result"
    }
   ],
   "source": [
    "limite_inferior, limite_superior"
   ]
  },
  {
   "cell_type": "markdown",
   "metadata": {},
   "source": [
    "#### Comparando com a hopótese."
   ]
  },
  {
   "cell_type": "code",
   "execution_count": 48,
   "metadata": {},
   "outputs": [
    {
     "data": {
      "text/plain": [
       "False"
      ]
     },
     "execution_count": 48,
     "metadata": {},
     "output_type": "execute_result"
    }
   ],
   "source": [
    "p_H0 = 0.5\n",
    "limite_inferior < p_H0 < limite_superior"
   ]
  },
  {
   "cell_type": "markdown",
   "metadata": {},
   "source": [
    "#### Podemos perceber que o valor de $p_{H_{o}} = 0.5$ também está fora do intervalo de confiança (zona de rejeição), o que nos faz rejeitar a hipótese $H_{0}$."
   ]
  },
  {
   "cell_type": "markdown",
   "metadata": {},
   "source": [
    "### Calculando o [p-value](https://www.statisticshowto.com/probability-and-statistics/statistics-definitions/p-value/)."
   ]
  },
  {
   "cell_type": "markdown",
   "metadata": {},
   "source": [
    "#### Cálculo do SIDED P_VALUE pelo sf (survival function).\n",
    "\n",
    "[`scipy.stats.norm()`](https://docs.scipy.org/doc/scipy/reference/generated/scipy.stats.norm.html)\n",
    "[survival function](https://towardsdatascience.com/survival-functions-101-bd57fb8be888) [`.sf()`](https://docs.scipy.org/doc/scipy-0.14.0/reference/generated/scipy.stats.rv_continuous.sf.html#scipy.stats.rv_continuous.sf) que descreve a probabilidade de uma variável `X` assumir um valor maior que um número `x`."
   ]
  },
  {
   "cell_type": "code",
   "execution_count": 51,
   "metadata": {},
   "outputs": [
    {
     "data": {
      "text/plain": [
       "0.004427256462693125"
      ]
     },
     "execution_count": 51,
     "metadata": {},
     "output_type": "execute_result"
    }
   ],
   "source": [
    "sided_p_value = st.norm(loc = mean, \n",
    "                        scale = std / np.sqrt(n)\n",
    "                       ).sf(0.5) \n",
    "sided_p_value"
   ]
  },
  {
   "cell_type": "markdown",
   "metadata": {},
   "source": [
    "#### Calculando o valor da survival function para a normal bi-caudal."
   ]
  },
  {
   "cell_type": "code",
   "execution_count": 54,
   "metadata": {},
   "outputs": [
    {
     "data": {
      "text/plain": [
       "0.00885451292538625"
      ]
     },
     "execution_count": 54,
     "metadata": {},
     "output_type": "execute_result"
    }
   ],
   "source": [
    "p_value = 2 * sided_p_value\n",
    "p_value"
   ]
  },
  {
   "cell_type": "markdown",
   "metadata": {},
   "source": [
    "#### Calculando o [$\\alpha$](https://blog.minitab.com/blog/alphas-p-values-confidence-intervals-oh-my) máximo para o valor da hipótese."
   ]
  },
  {
   "cell_type": "code",
   "execution_count": 55,
   "metadata": {},
   "outputs": [
    {
     "data": {
      "text/plain": [
       "0.9911454870746137"
      ]
     },
     "execution_count": 55,
     "metadata": {},
     "output_type": "execute_result"
    }
   ],
   "source": [
    "alpha_max = 1 - p_value\n",
    "alpha_max"
   ]
  },
  {
   "cell_type": "markdown",
   "metadata": {},
   "source": [
    "#### Verificando o intervalo de confiança com o alpha máximo (limite superior da hipótese nula = $0.5$). "
   ]
  },
  {
   "cell_type": "code",
   "execution_count": 57,
   "metadata": {},
   "outputs": [
    {
     "data": {
      "text/plain": [
       "(0.26666666666666683, 0.4999999999999999)"
      ]
     },
     "execution_count": 57,
     "metadata": {},
     "output_type": "execute_result"
    }
   ],
   "source": [
    "st.norm.interval(alpha = alpha_max, \n",
    "                 loc = mean, \n",
    "                 scale = std / np.sqrt(n)\n",
    "                )"
   ]
  },
  {
   "cell_type": "markdown",
   "metadata": {},
   "source": [
    "#### Cálculo do $\\alpha$ máximo pelo sf (survival fuction)."
   ]
  },
  {
   "cell_type": "code",
   "execution_count": 58,
   "metadata": {},
   "outputs": [
    {
     "data": {
      "text/plain": [
       "0.9911454870746137"
      ]
     },
     "execution_count": 58,
     "metadata": {},
     "output_type": "execute_result"
    }
   ],
   "source": [
    "1 - (st.norm(loc = mean, \n",
    "           scale = std / np.sqrt(n)).sf(0.5)\n",
    "  ) * 2"
   ]
  },
  {
   "cell_type": "markdown",
   "metadata": {},
   "source": [
    "#### Cálculo do $\\alpha$ máximo pelo médoto [cumulative distribution function](https://www.probabilitycourse.com/chapter3/3_2_1_cdf.php#:~:text=The%20cumulative%20distribution%20function%20(CDF)%20of%20random%20variable%20X%20is,for%20all%20x%E2%88%88R.) com o auxílio da função [`cdf`](https://kite.com/python/docs/scipy.stats.norm.cdf)."
   ]
  },
  {
   "cell_type": "code",
   "execution_count": 38,
   "metadata": {},
   "outputs": [
    {
     "data": {
      "text/plain": [
       "0.9911454870746137"
      ]
     },
     "execution_count": 38,
     "metadata": {},
     "output_type": "execute_result"
    }
   ],
   "source": [
    "1 - (1 - st.norm(loc = mean, scale = std / np.sqrt(n)).cdf(0.5))*2"
   ]
  },
  {
   "cell_type": "markdown",
   "metadata": {},
   "source": [
    "#### Cálculo do p-value pela método [cumulative distribution function](https://www.statisticshowto.com/cumulative-distribution-function/) com o auxílio da função [`cdf`](https://kite.com/python/docs/scipy.stats.norm.cdf)."
   ]
  },
  {
   "cell_type": "code",
   "execution_count": 39,
   "metadata": {},
   "outputs": [
    {
     "data": {
      "text/plain": [
       "0.008854512925386304"
      ]
     },
     "execution_count": 39,
     "metadata": {},
     "output_type": "execute_result"
    }
   ],
   "source": [
    "2 * (1 - st.norm(mean, std/np.sqrt(n)).cdf(0.5))"
   ]
  },
  {
   "cell_type": "code",
   "execution_count": null,
   "metadata": {},
   "outputs": [],
   "source": []
  }
 ],
 "metadata": {
  "kernelspec": {
   "display_name": "Python 3",
   "language": "python",
   "name": "python3"
  },
  "language_info": {
   "codemirror_mode": {
    "name": "ipython",
    "version": 3
   },
   "file_extension": ".py",
   "mimetype": "text/x-python",
   "name": "python",
   "nbconvert_exporter": "python",
   "pygments_lexer": "ipython3",
   "version": "3.8.5"
  }
 },
 "nbformat": 4,
 "nbformat_minor": 4
}
