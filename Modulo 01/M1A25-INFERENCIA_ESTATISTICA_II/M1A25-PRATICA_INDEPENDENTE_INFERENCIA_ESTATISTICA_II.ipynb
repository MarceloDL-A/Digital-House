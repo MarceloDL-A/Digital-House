{
 "cells": [
  {
   "cell_type": "markdown",
   "metadata": {},
   "source": [
    "# Prática Independente - Inferência Estatística II."
   ]
  },
  {
   "cell_type": "markdown",
   "metadata": {},
   "source": [
    "#### Exercício 1 - Use as bilbiotecas `Pandas`e `Numpy` para gerar distribuições aleatórias normais, aplique o método [`np.random.binomial()`](https://numpy.org/doc/stable/reference/random/generated/numpy.random.binomial.html) para estudar a distribuição com um número de tentativas `n` e uma probabilidade de ocorrência `p`."
   ]
  },
  {
   "cell_type": "code",
   "execution_count": 2,
   "metadata": {},
   "outputs": [],
   "source": []
  },
  {
   "cell_type": "code",
   "execution_count": null,
   "metadata": {},
   "outputs": [],
   "source": []
  },
  {
   "cell_type": "code",
   "execution_count": null,
   "metadata": {},
   "outputs": [],
   "source": []
  },
  {
   "cell_type": "markdown",
   "metadata": {},
   "source": [
    "#### Exercício 2 - Considere a chance de um tornado ocorrer em meio a uma tempestado como sendo `chance_of_tornado` = $0.01/100$, quantos tornados esperamos que ocorram em $1000000$ tempestades?"
   ]
  },
  {
   "cell_type": "code",
   "execution_count": null,
   "metadata": {},
   "outputs": [],
   "source": []
  },
  {
   "cell_type": "markdown",
   "metadata": {},
   "source": [
    "#### Exercício 3 - Imagine agora que queremos calcular o número de casos em que dois tornados ocorrem em dois dias consecutivos, aplique o método `np.random.binomial` para calcular o número de eventos de sucesso sob essa condição."
   ]
  },
  {
   "cell_type": "code",
   "execution_count": null,
   "metadata": {},
   "outputs": [],
   "source": []
  },
  {
   "cell_type": "markdown",
   "metadata": {},
   "source": [
    "#### Exercício 4 - Estude as distribuições uniformes com o auxílio do método [`np.random.uniform()`](https://numpy.org/doc/stable/reference/random/generated/numpy.random.uniform.html) para uma distribuição limitada pelo intervalo `[0, 1]` e $100$ observaçoes. Estude também a distribuição normal, com o método [`np.random.normal()`](https://numpy.org/doc/stable/reference/random/generated/numpy.random.normal.html), com média em $0.75$, desvio padrão de $1$ e também $100$ observações."
   ]
  },
  {
   "cell_type": "code",
   "execution_count": null,
   "metadata": {},
   "outputs": [],
   "source": []
  },
  {
   "cell_type": "code",
   "execution_count": null,
   "metadata": {},
   "outputs": [],
   "source": []
  },
  {
   "cell_type": "markdown",
   "metadata": {},
   "source": [
    "#### Exercício 5 - Considerando a Fórmula para o desvio padrão a seguir, calcule o valor para a distribuição normal do exercício 4.\n",
    "$$\n",
    "\\sqrt{\\frac{1}{N} \\sum_{i=1}^N (x_i - \\overline{x})^2}\n",
    "$$\n",
    "\n",
    "#### Compare o valor encontrado com aquele gerado pelo método [`np.std()`](https://numpy.org/doc/stable/reference/generated/numpy.std.html)."
   ]
  },
  {
   "cell_type": "code",
   "execution_count": null,
   "metadata": {},
   "outputs": [],
   "source": []
  },
  {
   "cell_type": "code",
   "execution_count": null,
   "metadata": {
    "scrolled": true
   },
   "outputs": [],
   "source": []
  },
  {
   "cell_type": "markdown",
   "metadata": {},
   "source": [
    "#### Exercício 6 - Utilize o método [`stats.kurtosis()`](https://docs.scipy.org/doc/scipy/reference/generated/scipy.stats.kurtosis.html) para estudar a curtose ([Kurtosis](https://en.wikipedia.org/wiki/Kurtosis)) e o método [`stats.skew()`](https://docs.scipy.org/doc/scipy/reference/generated/scipy.stats.skew.html)para estudar a assimetria ([Skewness](https://en.wikipedia.org/wiki/Skewness)), d distribuição criada no exercício 5."
   ]
  },
  {
   "cell_type": "code",
   "execution_count": null,
   "metadata": {},
   "outputs": [],
   "source": []
  },
  {
   "cell_type": "code",
   "execution_count": null,
   "metadata": {},
   "outputs": [],
   "source": []
  },
  {
   "cell_type": "markdown",
   "metadata": {},
   "source": [
    "#### Exercício 7 - Aplique o método ([`np.random.chisquare()`](https://numpy.org/doc/stable/reference/random/generated/numpy.random.chisquare.html)) e calcule uma distribuição $\\chi^{2}$ aleatória, com $2$ graus de liberdade e $10000$ observações. Em seguida estude a simetria de tal distribuição. Em seguida reproduza o mesmo exercício com $5$ graus de liberdade. Em seguida plote e compare as duas distribuições."
   ]
  },
  {
   "cell_type": "code",
   "execution_count": null,
   "metadata": {},
   "outputs": [],
   "source": []
  },
  {
   "cell_type": "code",
   "execution_count": null,
   "metadata": {},
   "outputs": [],
   "source": []
  },
  {
   "cell_type": "code",
   "execution_count": null,
   "metadata": {},
   "outputs": [],
   "source": []
  },
  {
   "cell_type": "markdown",
   "metadata": {},
   "source": [
    "#### Exercício 8 - Faça a leitura do arquivo `'grades.csv'` com notas e datas de submissão de tarefas. Separe a base de dados entre aquelas em que a subissão da primeira tarefa 1 ocorreu antes ou no dia '2015-12-31', daquelas em que a submissão da tarefa 1 ocorreu depois do dia '2015-12-31'. Aplique o método [`stats.ttest_ind()`](https://docs.scipy.org/doc/scipy/reference/generated/scipy.stats.ttest_ind.html) e calcule as médias das tarefas, dada essa condição, e realize o teste de hipótese de que as médias não serão diferentes antes ou depois de '2015-12-31', para todas as tarefas da base de dados. Discuta seus resultados."
   ]
  },
  {
   "cell_type": "code",
   "execution_count": null,
   "metadata": {},
   "outputs": [],
   "source": []
  },
  {
   "cell_type": "code",
   "execution_count": null,
   "metadata": {},
   "outputs": [],
   "source": []
  },
  {
   "cell_type": "code",
   "execution_count": null,
   "metadata": {},
   "outputs": [],
   "source": []
  },
  {
   "cell_type": "code",
   "execution_count": null,
   "metadata": {},
   "outputs": [],
   "source": []
  },
  {
   "cell_type": "code",
   "execution_count": null,
   "metadata": {},
   "outputs": [],
   "source": []
  },
  {
   "cell_type": "code",
   "execution_count": null,
   "metadata": {},
   "outputs": [],
   "source": []
  },
  {
   "cell_type": "code",
   "execution_count": null,
   "metadata": {},
   "outputs": [],
   "source": []
  },
  {
   "cell_type": "code",
   "execution_count": null,
   "metadata": {},
   "outputs": [],
   "source": []
  },
  {
   "cell_type": "code",
   "execution_count": null,
   "metadata": {},
   "outputs": [],
   "source": []
  },
  {
   "cell_type": "code",
   "execution_count": null,
   "metadata": {},
   "outputs": [],
   "source": []
  },
  {
   "cell_type": "code",
   "execution_count": null,
   "metadata": {},
   "outputs": [],
   "source": []
  },
  {
   "cell_type": "code",
   "execution_count": null,
   "metadata": {},
   "outputs": [],
   "source": []
  },
  {
   "cell_type": "code",
   "execution_count": null,
   "metadata": {},
   "outputs": [],
   "source": []
  }
 ],
 "metadata": {
  "kernelspec": {
   "display_name": "Python 3",
   "language": "python",
   "name": "python3"
  },
  "language_info": {
   "codemirror_mode": {
    "name": "ipython",
    "version": 3
   },
   "file_extension": ".py",
   "mimetype": "text/x-python",
   "name": "python",
   "nbconvert_exporter": "python",
   "pygments_lexer": "ipython3",
   "version": "3.7.6"
  }
 },
 "nbformat": 4,
 "nbformat_minor": 4
}
