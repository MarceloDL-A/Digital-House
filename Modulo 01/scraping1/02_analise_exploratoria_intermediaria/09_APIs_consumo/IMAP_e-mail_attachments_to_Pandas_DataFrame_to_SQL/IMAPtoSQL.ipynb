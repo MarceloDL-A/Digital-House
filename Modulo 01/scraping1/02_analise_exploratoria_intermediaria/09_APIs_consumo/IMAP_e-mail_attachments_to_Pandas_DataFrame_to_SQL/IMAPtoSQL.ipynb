{
 "cells": [
  {
   "cell_type": "markdown",
   "metadata": {},
   "source": [
    "# ETL de arquivos CSV via IMAP\n",
    "\n",
    "Este notebook é exemplo de como consumir CSVs recebidos como anexos em e-mails.\n",
    "\n",
    "O arquivo de configuração `sources.conf` deve conter:\n",
    "\n",
    "* usuário e senha para o servidor IMAP\n",
    "* pasta de e-mail a ser analisada\n",
    "* subject para as mensagens a serem buscadas\n",
    "* URL SQLAlchemy para o DB que vai receber os dados analisados. A tabela terá o nome do subject.\n",
    "\n",
    "Escrito por Avi Alkalay <dataNerd@digitalhouse.com>\n",
    "\n",
    "Outubro de 2019"
   ]
  },
  {
   "cell_type": "code",
   "execution_count": null,
   "metadata": {},
   "outputs": [],
   "source": [
    "from configobj import ConfigObj    # dnf install python3-configobj\n",
    "import email\n",
    "from email.message import EmailMessage\n",
    "import pandas as pd\n",
    "import io\n",
    "import imaplib\n",
    "import hashlib\n",
    "import sqlalchemy"
   ]
  },
  {
   "cell_type": "markdown",
   "metadata": {},
   "source": [
    "A função `clean()` recebe o DataFrame como veio do CSV e arruma as colunas e os dados. Retorna um DataFrame limpo e organizado."
   ]
  },
  {
   "cell_type": "code",
   "execution_count": null,
   "metadata": {},
   "outputs": [],
   "source": [
    "def clean(df):\n",
    "\n",
    "    def makeID(a):\n",
    "        idCalc=hashlib.new('shake_256')\n",
    "        idCalc.update(a.encode('UTF-8'))\n",
    "        return idCalc.hexdigest(5)\n",
    "\n",
    "    # Split sucursal e apólice\n",
    "    # As vezes vem o dado vem como \"123-123456,234-23456\", daí precisa do `split(',')[0]` antes\n",
    "    temp=df['Data - Sucursal - Apólice'].str.split(',')\n",
    "    temp=temp[0][0].split('-')\n",
    "    df['sucursal']=int(temp[0])\n",
    "    df['apolice']=int(temp[1])\n",
    "\n",
    "    # Corrige a data e hora\n",
    "    df['sec']=30\n",
    "    df['date']=pd.to_datetime(df['Hour of Day'].astype(str)+df['Minute'].astype(str)+df['sec'].astype(str), format='%Y%m%d%H%M%S', errors='ignore', utc=None)\n",
    "\n",
    "    # Calcula um ID para a linha\n",
    "    df['id']=(df['Hour of Day'].astype(str)+df['Minute'].astype(str)+df['apolice'].astype(str)).apply(makeID)\n",
    "\n",
    "    df.rename(columns={'Event Label': 'event', 'Unique Events': 'count'}, inplace=True)\n",
    "    \n",
    "    df.set_index('id', inplace=True)\n",
    "\n",
    "    return df[['date', 'sucursal', 'apolice', 'event', 'count']]"
   ]
  },
  {
   "cell_type": "markdown",
   "metadata": {},
   "source": [
    "Lê o arquivo de configuração e guarda seus valores em `context`"
   ]
  },
  {
   "cell_type": "code",
   "execution_count": null,
   "metadata": {},
   "outputs": [],
   "source": [
    "# Read config file\n",
    "context=ConfigObj('sources.conf')"
   ]
  },
  {
   "cell_type": "markdown",
   "metadata": {},
   "source": [
    "Conecta num servidor IMAP (`context['imap_server']`), entra na pasta (`context['imap_folder']`) e busca por todas as mensagens não lidas (`UNSEEN`)."
   ]
  },
  {
   "cell_type": "code",
   "execution_count": null,
   "metadata": {},
   "outputs": [],
   "source": [
    "dict(context)"
   ]
  },
  {
   "cell_type": "code",
   "execution_count": null,
   "metadata": {},
   "outputs": [],
   "source": [
    "M = imaplib.IMAP4_SSL(context['imap_server'])\n",
    "M.login(context['imap_user'], context['imap_password'])\n",
    "M.select(context['imap_folder'])\n",
    "typ, data = M.search(None, 'UNSEEN')\n",
    "#print(typ)"
   ]
  },
  {
   "cell_type": "markdown",
   "metadata": {},
   "source": [
    "Itera por todas as mensagens da pasta, desanexa o arquivo CSV e já passa ele para função `clean()` para a limpeza necessária. Depois da limpeza de cada CSV, concatena ele aos outros na variável `df`."
   ]
  },
  {
   "cell_type": "code",
   "execution_count": null,
   "metadata": {},
   "outputs": [],
   "source": [
    "df=None\n",
    "\n",
    "for num in data[0].split():\n",
    "    typ, data = M.fetch(num, '(RFC822)')\n",
    "        \n",
    "    for response_part in data:\n",
    "        if isinstance(response_part, tuple):\n",
    "            original = email.message_from_bytes(response_part[1])\n",
    "\n",
    "#             print(original['From'])\n",
    "#             print(original['Subject'])\n",
    "#             print(original['Date'])\n",
    "            #typ, data = mail.store(num,'+FLAGS','\\\\Seen')\n",
    "\n",
    "            \n",
    "            for part in original.walk():\n",
    "                d=None\n",
    "                \n",
    "                if part.get_content_maintype() == 'multipart':\n",
    "                    continue\n",
    "                if part.get('Content-Disposition') is None:\n",
    "                    continue\n",
    "\n",
    "                filename = part.get_filename()\n",
    "                \n",
    "                try:\n",
    "                    d=clean(pd.read_csv(io.BytesIO(part.get_payload(decode=True)), encoding='UTF-8', comment='#'))\n",
    "                except pd.errors.EmptyDataError as e:\n",
    "                    pass\n",
    "\n",
    "#                 if d is not None:\n",
    "#                     print(d.shape)\n",
    "                    \n",
    "                    \n",
    "                if df is None:\n",
    "                    df=d\n",
    "                else:\n",
    "                    df=df.append(d)\n",
    "\n",
    "                \n",
    "if df is not None:\n",
    "    df.sort_values(by='date',inplace=True)\n",
    "    print(df.shape)\n",
    "\n",
    "M.close()\n",
    "M.logout()"
   ]
  },
  {
   "cell_type": "markdown",
   "metadata": {},
   "source": [
    "O DataFrame resultante contém todos os dados de todos os CSVs anexos de todas as mensagens de e-mail na pasta. Agora escreve no banco de dados (`context['database']`) na tabela de mesmo nome do subject das mensagens procuradas (`context['imap_subject']`). Substitui a tabela se já existir no DB."
   ]
  },
  {
   "cell_type": "code",
   "execution_count": null,
   "metadata": {},
   "outputs": [],
   "source": [
    "df"
   ]
  },
  {
   "cell_type": "code",
   "execution_count": null,
   "metadata": {},
   "outputs": [],
   "source": [
    "if df is not None:\n",
    "    try:\n",
    "        db=sqlalchemy.create_engine(context['database'], encoding='utf8')\n",
    "    except sqlalchemy.exc.SQLAlchemyError as error:\n",
    "        self.logger.error('Can’t connect to DB.', exc_info=True)\n",
    "        raise error\n",
    "\n",
    "    df.reset_index().to_sql(context['imap_subject'], index=False, if_exists='replace', con=db)"
   ]
  },
  {
   "cell_type": "code",
   "execution_count": null,
   "metadata": {},
   "outputs": [],
   "source": [
    "df.tail()"
   ]
  },
  {
   "cell_type": "code",
   "execution_count": null,
   "metadata": {},
   "outputs": [],
   "source": []
  }
 ],
 "metadata": {
  "kernelspec": {
   "display_name": "Python 3",
   "language": "python",
   "name": "python3"
  },
  "language_info": {
   "codemirror_mode": {
    "name": "ipython",
    "version": 3
   },
   "file_extension": ".py",
   "mimetype": "text/x-python",
   "name": "python",
   "nbconvert_exporter": "python",
   "pygments_lexer": "ipython3",
   "version": "3.7.3"
  }
 },
 "nbformat": 4,
 "nbformat_minor": 4
}
