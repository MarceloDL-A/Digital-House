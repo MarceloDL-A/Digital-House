{
 "cells": [
  {
   "cell_type": "markdown",
   "metadata": {},
   "source": [
    "# Estatística e Visualização."
   ]
  },
  {
   "cell_type": "markdown",
   "metadata": {},
   "source": [
    "### 1 - Vamos importar os pacotes Pandas e Numpy."
   ]
  },
  {
   "cell_type": "code",
   "execution_count": 1,
   "metadata": {},
   "outputs": [],
   "source": [
    "import numpy as np\n",
    "import pandas as pd"
   ]
  },
  {
   "cell_type": "markdown",
   "metadata": {},
   "source": [
    "#### Vamos ler um dataset que trata da população de Linces (Lynxes), lebres (hares) e cenouras (carrots) e ver as populações de cada elemento, por ano."
   ]
  },
  {
   "cell_type": "code",
   "execution_count": 18,
   "metadata": {},
   "outputs": [
    {
     "data": {
      "text/html": [
       "<div>\n",
       "<style scoped>\n",
       "    .dataframe tbody tr th:only-of-type {\n",
       "        vertical-align: middle;\n",
       "    }\n",
       "\n",
       "    .dataframe tbody tr th {\n",
       "        vertical-align: top;\n",
       "    }\n",
       "\n",
       "    .dataframe thead th {\n",
       "        text-align: right;\n",
       "    }\n",
       "</style>\n",
       "<table border=\"1\" class=\"dataframe\">\n",
       "  <thead>\n",
       "    <tr style=\"text-align: right;\">\n",
       "      <th></th>\n",
       "      <th># year</th>\n",
       "      <th>hare</th>\n",
       "      <th>lynx</th>\n",
       "      <th>carrot</th>\n",
       "    </tr>\n",
       "  </thead>\n",
       "  <tbody>\n",
       "    <tr>\n",
       "      <th>0</th>\n",
       "      <td>1900</td>\n",
       "      <td>30000.0</td>\n",
       "      <td>4000.0</td>\n",
       "      <td>48300</td>\n",
       "    </tr>\n",
       "    <tr>\n",
       "      <th>1</th>\n",
       "      <td>1901</td>\n",
       "      <td>47200.0</td>\n",
       "      <td>6100.0</td>\n",
       "      <td>48200</td>\n",
       "    </tr>\n",
       "    <tr>\n",
       "      <th>2</th>\n",
       "      <td>1902</td>\n",
       "      <td>70200.0</td>\n",
       "      <td>9800.0</td>\n",
       "      <td>41500</td>\n",
       "    </tr>\n",
       "    <tr>\n",
       "      <th>3</th>\n",
       "      <td>1903</td>\n",
       "      <td>77400.0</td>\n",
       "      <td>35200.0</td>\n",
       "      <td>38200</td>\n",
       "    </tr>\n",
       "    <tr>\n",
       "      <th>4</th>\n",
       "      <td>1904</td>\n",
       "      <td>36300.0</td>\n",
       "      <td>59400.0</td>\n",
       "      <td>40600</td>\n",
       "    </tr>\n",
       "    <tr>\n",
       "      <th>5</th>\n",
       "      <td>1905</td>\n",
       "      <td>20600.0</td>\n",
       "      <td>41700.0</td>\n",
       "      <td>39800</td>\n",
       "    </tr>\n",
       "    <tr>\n",
       "      <th>6</th>\n",
       "      <td>1906</td>\n",
       "      <td>18100.0</td>\n",
       "      <td>19000.0</td>\n",
       "      <td>38600</td>\n",
       "    </tr>\n",
       "    <tr>\n",
       "      <th>7</th>\n",
       "      <td>1907</td>\n",
       "      <td>21400.0</td>\n",
       "      <td>13000.0</td>\n",
       "      <td>42300</td>\n",
       "    </tr>\n",
       "    <tr>\n",
       "      <th>8</th>\n",
       "      <td>1908</td>\n",
       "      <td>22000.0</td>\n",
       "      <td>8300.0</td>\n",
       "      <td>44500</td>\n",
       "    </tr>\n",
       "    <tr>\n",
       "      <th>9</th>\n",
       "      <td>1909</td>\n",
       "      <td>25400.0</td>\n",
       "      <td>9100.0</td>\n",
       "      <td>42100</td>\n",
       "    </tr>\n",
       "    <tr>\n",
       "      <th>10</th>\n",
       "      <td>1910</td>\n",
       "      <td>27100.0</td>\n",
       "      <td>7400.0</td>\n",
       "      <td>46000</td>\n",
       "    </tr>\n",
       "    <tr>\n",
       "      <th>11</th>\n",
       "      <td>1911</td>\n",
       "      <td>40300.0</td>\n",
       "      <td>8000.0</td>\n",
       "      <td>46800</td>\n",
       "    </tr>\n",
       "    <tr>\n",
       "      <th>12</th>\n",
       "      <td>1912</td>\n",
       "      <td>57000.0</td>\n",
       "      <td>12300.0</td>\n",
       "      <td>43800</td>\n",
       "    </tr>\n",
       "    <tr>\n",
       "      <th>13</th>\n",
       "      <td>1913</td>\n",
       "      <td>76600.0</td>\n",
       "      <td>19500.0</td>\n",
       "      <td>40900</td>\n",
       "    </tr>\n",
       "    <tr>\n",
       "      <th>14</th>\n",
       "      <td>1914</td>\n",
       "      <td>52300.0</td>\n",
       "      <td>45700.0</td>\n",
       "      <td>39400</td>\n",
       "    </tr>\n",
       "    <tr>\n",
       "      <th>15</th>\n",
       "      <td>1915</td>\n",
       "      <td>19500.0</td>\n",
       "      <td>51100.0</td>\n",
       "      <td>39000</td>\n",
       "    </tr>\n",
       "    <tr>\n",
       "      <th>16</th>\n",
       "      <td>1916</td>\n",
       "      <td>11200.0</td>\n",
       "      <td>29700.0</td>\n",
       "      <td>36700</td>\n",
       "    </tr>\n",
       "    <tr>\n",
       "      <th>17</th>\n",
       "      <td>1917</td>\n",
       "      <td>7600.0</td>\n",
       "      <td>15800.0</td>\n",
       "      <td>41800</td>\n",
       "    </tr>\n",
       "    <tr>\n",
       "      <th>18</th>\n",
       "      <td>1918</td>\n",
       "      <td>14600.0</td>\n",
       "      <td>9700.0</td>\n",
       "      <td>43300</td>\n",
       "    </tr>\n",
       "    <tr>\n",
       "      <th>19</th>\n",
       "      <td>1919</td>\n",
       "      <td>16200.0</td>\n",
       "      <td>10100.0</td>\n",
       "      <td>41300</td>\n",
       "    </tr>\n",
       "    <tr>\n",
       "      <th>20</th>\n",
       "      <td>1920</td>\n",
       "      <td>24700.0</td>\n",
       "      <td>8600.0</td>\n",
       "      <td>47300</td>\n",
       "    </tr>\n",
       "  </tbody>\n",
       "</table>\n",
       "</div>"
      ],
      "text/plain": [
       "    # year     hare     lynx  carrot\n",
       "0     1900  30000.0   4000.0   48300\n",
       "1     1901  47200.0   6100.0   48200\n",
       "2     1902  70200.0   9800.0   41500\n",
       "3     1903  77400.0  35200.0   38200\n",
       "4     1904  36300.0  59400.0   40600\n",
       "5     1905  20600.0  41700.0   39800\n",
       "6     1906  18100.0  19000.0   38600\n",
       "7     1907  21400.0  13000.0   42300\n",
       "8     1908  22000.0   8300.0   44500\n",
       "9     1909  25400.0   9100.0   42100\n",
       "10    1910  27100.0   7400.0   46000\n",
       "11    1911  40300.0   8000.0   46800\n",
       "12    1912  57000.0  12300.0   43800\n",
       "13    1913  76600.0  19500.0   40900\n",
       "14    1914  52300.0  45700.0   39400\n",
       "15    1915  19500.0  51100.0   39000\n",
       "16    1916  11200.0  29700.0   36700\n",
       "17    1917   7600.0  15800.0   41800\n",
       "18    1918  14600.0   9700.0   43300\n",
       "19    1919  16200.0  10100.0   41300\n",
       "20    1920  24700.0   8600.0   47300"
      ]
     },
     "execution_count": 18,
     "metadata": {},
     "output_type": "execute_result"
    }
   ],
   "source": [
    "data = pd.read_csv('populations.txt', \n",
    "                   sep = '\\t'\n",
    "                  )\n",
    "data"
   ]
  },
  {
   "cell_type": "markdown",
   "metadata": {},
   "source": [
    "#### Vamos passar todas as colunas a arranjos Numpy."
   ]
  },
  {
   "cell_type": "code",
   "execution_count": 19,
   "metadata": {},
   "outputs": [
    {
     "data": {
      "text/plain": [
       "array([1900, 1901, 1902, 1903, 1904, 1905, 1906, 1907, 1908, 1909, 1910,\n",
       "       1911, 1912, 1913, 1914, 1915, 1916, 1917, 1918, 1919, 1920])"
      ]
     },
     "execution_count": 19,
     "metadata": {},
     "output_type": "execute_result"
    }
   ],
   "source": [
    "#type(year)\n",
    "year = data[\"# year\"].values\n",
    "year"
   ]
  },
  {
   "cell_type": "code",
   "execution_count": 20,
   "metadata": {},
   "outputs": [
    {
     "data": {
      "text/plain": [
       "array([30000., 47200., 70200., 77400., 36300., 20600., 18100., 21400.,\n",
       "       22000., 25400., 27100., 40300., 57000., 76600., 52300., 19500.,\n",
       "       11200.,  7600., 14600., 16200., 24700.])"
      ]
     },
     "execution_count": 20,
     "metadata": {},
     "output_type": "execute_result"
    }
   ],
   "source": [
    "hares = data[\"hare\"].values\n",
    "hares"
   ]
  },
  {
   "cell_type": "code",
   "execution_count": 21,
   "metadata": {},
   "outputs": [
    {
     "data": {
      "text/plain": [
       "array([ 4000.,  6100.,  9800., 35200., 59400., 41700., 19000., 13000.,\n",
       "        8300.,  9100.,  7400.,  8000., 12300., 19500., 45700., 51100.,\n",
       "       29700., 15800.,  9700., 10100.,  8600.])"
      ]
     },
     "execution_count": 21,
     "metadata": {},
     "output_type": "execute_result"
    }
   ],
   "source": [
    "lynxes = data[\"lynx\"].values \n",
    "lynxes"
   ]
  },
  {
   "cell_type": "code",
   "execution_count": 22,
   "metadata": {},
   "outputs": [
    {
     "data": {
      "text/plain": [
       "array([48300, 48200, 41500, 38200, 40600, 39800, 38600, 42300, 44500,\n",
       "       42100, 46000, 46800, 43800, 40900, 39400, 39000, 36700, 41800,\n",
       "       43300, 41300, 47300])"
      ]
     },
     "execution_count": 22,
     "metadata": {},
     "output_type": "execute_result"
    }
   ],
   "source": [
    "carrots = data[\"carrot\"].values \n",
    "carrots"
   ]
  },
  {
   "cell_type": "markdown",
   "metadata": {},
   "source": [
    "#### Podemos ver como essas populações variam com o tempo, importando o pacote matplotlib e usando a função [`plt.plot`](https://matplotlib.org/3.2.1/api/_as_gen/matplotlib.pyplot.plot.html). Podemos customizar o gráfico com a função [`plt.legend`](https://jakevdp.github.io/PythonDataScienceHandbook/04.06-customizing-legends.html)."
   ]
  },
  {
   "cell_type": "code",
   "execution_count": 23,
   "metadata": {},
   "outputs": [
    {
     "data": {
      "image/png": "[encoded data removed]",
      "text/plain": [
       "<Figure size 432x288 with 1 Axes>"
      ]
     },
     "metadata": {
      "needs_background": "light"
     },
     "output_type": "display_data"
    }
   ],
   "source": [
    "%matplotlib inline\n",
    "import matplotlib.pyplot as plt\n",
    "\n",
    "plt.plot(year, hares, year, lynxes, year, carrots) \n",
    "plt.legend(('Lebres (hares)', 'Linces (lynxes)', 'Cenouras (carrots)'), loc = (1.05, 0.5)) \n",
    "plt.show()"
   ]
  },
  {
   "cell_type": "markdown",
   "metadata": {},
   "source": [
    "#### Veja como a população de cenouras vem se mantendo estável, ao longo dos mais de cem anos de histórico e como a população de lebres se mantem limitada por aquela dos linces, em um tipo de mecanismo de controle. "
   ]
  },
  {
   "cell_type": "markdown",
   "metadata": {},
   "source": [
    "### 2 - Estatística descritiva.\n",
    "\n",
    "#### Para cada variável da série histórica, calculamos a média e o desvio padrão. Arredondando os valores, para que tenham somente 2 decimais. \n",
    "\n",
    "#### Com o método [`.iloc[]`](https://pandas.pydata.org/pandas-docs/stable/reference/api/pandas.DataFrame.iloc.html#pandas-dataframe-iloc), podemos fazer slicing de um dataframe de pandas, com as mesmas regras de slicing que usamos nos arrays de Numpy. Destacamos a coluna de anos e obter um arranjo, usando a propriedade \"values\".\n",
    "\n",
    "#### Ao fim, vemos uma amostra das cinco primeiras linhas."
   ]
  },
  {
   "cell_type": "code",
   "execution_count": 24,
   "metadata": {},
   "outputs": [
    {
     "data": {
      "text/plain": [
       "array([[30000.,  4000., 48300.],\n",
       "       [47200.,  6100., 48200.],\n",
       "       [70200.,  9800., 41500.],\n",
       "       [77400., 35200., 38200.],\n",
       "       [36300., 59400., 40600.]])"
      ]
     },
     "execution_count": 24,
     "metadata": {},
     "output_type": "execute_result"
    }
   ],
   "source": [
    "populações = data.iloc[:, 1:].values\n",
    "#populações\n",
    "populações[0:5, :]"
   ]
  },
  {
   "cell_type": "markdown",
   "metadata": {},
   "source": [
    "#### As funções [`np.mean()`](https://numpy.org/doc/stable/reference/generated/numpy.mean.html) e [`np.std()`](https://numpy.org/doc/1.18/reference/generated/numpy.std.html) recebem [`axis = 0`](https://stackoverflow.com/questions/22149584/what-does-axis-in-pandas-mean) como parâmetro. Em cada caso o eixo de linhas é recolhido, ficando com uma única linha com a média e o desvio padrão de cada coluna, respectivamente."
   ]
  },
  {
   "cell_type": "code",
   "execution_count": 25,
   "metadata": {},
   "outputs": [
    {
     "name": "stdout",
     "output_type": "stream",
     "text": [
      " Coelhos, Linces, Cenouras\n",
      "Mean: [34080.95 20166.67 42400.  ]\n",
      "Std: [20897.91 16254.59  3322.51]\n"
     ]
    }
   ],
   "source": [
    "print (\" Coelhos, Linces, Cenouras\")\n",
    "print (\"Mean:\", np.around(populações.mean(axis = 0), \n",
    "                          decimals = 2\n",
    "                         )\n",
    "      )\n",
    "\n",
    "print (\"Std:\", np.around(populações.std(axis = 0), \n",
    "                         decimals = 2\n",
    "                        )\n",
    "      )"
   ]
  },
  {
   "cell_type": "markdown",
   "metadata": {},
   "source": [
    "#### Em seguida, para cada espécie, calcular o ano em que tiveram maior população. Vamos identificar os valores máximos que são vistos no gráfico:"
   ]
  },
  {
   "cell_type": "code",
   "execution_count": 26,
   "metadata": {},
   "outputs": [
    {
     "name": "stdout",
     "output_type": "stream",
     "text": [
      " Coelhos, Linces, Cenouras\n",
      "Anos de população máxima: [1903 1904 1900]\n"
     ]
    }
   ],
   "source": [
    "j_max_years = np.argmax(populações, axis = 0)\n",
    "#j_max_years\n",
    "print (\" Coelhos, Linces, Cenouras\")\n",
    "print (\"Anos de população máxima:\", year[j_max_years])"
   ]
  },
  {
   "cell_type": "markdown",
   "metadata": {},
   "source": [
    "#### O método [`np.argmax()`](https://docs.scipy.org/doc/numpy/reference/generated/numpy.argmax.html) retorna os índices de linhas onde estão os valores máximos de cada coluna (lembrar que axis = 0 reduz a dimensão das linhas). Note que usamos Fancy Indexing."
   ]
  },
  {
   "cell_type": "markdown",
   "metadata": {},
   "source": [
    "#### De maneira semelhante, podemos ver as espécies com a maior população em cada ano:"
   ]
  },
  {
   "cell_type": "code",
   "execution_count": 11,
   "metadata": {},
   "outputs": [
    {
     "name": "stdout",
     "output_type": "stream",
     "text": [
      "Espécies com população máxima:\n",
      "[['1900' '1901' '1902' '1903' '1904' '1905' '1906' '1907' '1908' '1909'\n",
      "  '1910' '1911' '1912' '1913' '1914' '1915' '1916' '1917' '1918' '1919'\n",
      "  '1920']\n",
      " ['Cenouras' 'Cenouras' 'Coelhos' 'Coelhos' 'Linces' 'Linces' 'Cenouras'\n",
      "  'Cenouras' 'Cenouras' 'Cenouras' 'Cenouras' 'Cenouras' 'Coelhos'\n",
      "  'Coelhos' 'Coelhos' 'Linces' 'Cenouras' 'Cenouras' 'Cenouras'\n",
      "  'Cenouras' 'Cenouras']]\n"
     ]
    }
   ],
   "source": [
    "max_species = np.argmax(populações, axis = 1)\n",
    "#max_species\n",
    "species = np.array(['Coelhos', 'Linces', 'Cenouras'])\n",
    "\n",
    "\n",
    "# Combinar os dois vetores em um array de mais uma dimensão.\n",
    "resultado = np.array([year, species[max_species]])\n",
    "#resultado = np.array([year, max_species])\n",
    "print (\"Espécies com população máxima:\")\n",
    "print (resultado)"
   ]
  },
  {
   "cell_type": "markdown",
   "metadata": {},
   "source": [
    "#### Ao receber eixo `axis = 1`, o eixo das colunas é reduzido. Isso significa que é calculado o máximo para cada linha."
   ]
  },
  {
   "cell_type": "markdown",
   "metadata": {},
   "source": [
    "#### Em seguida, queremos ver em que anos algumas das populações estão acima de 50000."
   ]
  },
  {
   "cell_type": "code",
   "execution_count": 12,
   "metadata": {},
   "outputs": [
    {
     "name": "stdout",
     "output_type": "stream",
     "text": [
      "Alguma população é maior que 50000: [1902 1903 1904 1912 1913 1914 1915]\n"
     ]
    }
   ],
   "source": [
    "maiores_50000 = np.any(populações > 50000, axis = 1)\n",
    "print (\"Alguma população é maior que 50000:\", year[maiores_50000])"
   ]
  },
  {
   "cell_type": "markdown",
   "metadata": {},
   "source": [
    "#### A função de redução de dimensões [np.any](https://docs.scipy.org/doc/numpy/reference/generated/numpy.any.html?highlight=numpy%20any#numpy-any) reduz o eixo das colunas indicando, para cada linha, se algum dos elementos das colunas atende à condição de ser maior que 50000\n"
   ]
  },
  {
   "cell_type": "markdown",
   "metadata": {},
   "source": [
    "#### Também podemos consultar em quais biênios, cada espécie teve seus menores níveis populacionais. Primeiro, selecionamos os dois primeiros índices ordenando por coluna, usando a função [np.argsort](https://docs.scipy.org/doc/numpy/reference/generated/numpy.argsort.html?highlight=numpy%20argsort#numpy-argsort)."
   ]
  },
  {
   "cell_type": "code",
   "execution_count": 13,
   "metadata": {},
   "outputs": [
    {
     "name": "stdout",
     "output_type": "stream",
     "text": [
      "Dois anos de população mais baixa por espécie:\n",
      "['Coelhos', 'Linces', 'Cenouras']\n",
      "[[1917 1900 1916]\n",
      " [1916 1901 1903]]\n"
     ]
    }
   ],
   "source": [
    "j_top_2 = np.argsort(populações, axis = 0)[:2]\n",
    "#j_top_2\n",
    "print (\"Dois anos de população mais baixa por espécie:\")\n",
    "print(['Coelhos', 'Linces', 'Cenouras'])\n",
    "print (year[j_top_2])"
   ]
  },
  {
   "cell_type": "markdown",
   "metadata": {},
   "source": [
    "#### Também podemos analisar a matriz de covariâncias entre as diferentes espécies:"
   ]
  },
  {
   "cell_type": "code",
   "execution_count": 14,
   "metadata": {},
   "outputs": [
    {
     "data": {
      "text/plain": [
       "array([[ 4.58558619e+08,  2.56418333e+07, -1.21050000e+06],\n",
       "       [ 2.56418333e+07,  2.77422333e+08, -3.85930000e+07],\n",
       "       [-1.21050000e+06, -3.85930000e+07,  1.15910000e+07]])"
      ]
     },
     "execution_count": 14,
     "metadata": {},
     "output_type": "execute_result"
    }
   ],
   "source": [
    "np.cov([hares, lynxes, carrots])"
   ]
  },
  {
   "cell_type": "markdown",
   "metadata": {},
   "source": [
    "* Posso comparar as diferentes covariâncias? Por quê?\n",
    "* Qual variável tem a maior variância? Como isso é visto no gráfico?\n",
    "* O que significa uma covariância positiva? E uma negativa?"
   ]
  },
  {
   "cell_type": "markdown",
   "metadata": {},
   "source": [
    "#### A função [`np.corrcoef()`](https://numpy.org/doc/stable/reference/generated/numpy.corrcoef.html) retorna a os [coeficientes de correlação do produto-momento de Pearson](https://statistics.laerd.com/statistical-guides/pearson-correlation-coefficient-statistical-guide.php) dos dados."
   ]
  },
  {
   "cell_type": "code",
   "execution_count": 15,
   "metadata": {},
   "outputs": [
    {
     "data": {
      "text/plain": [
       "array([[ 1.        ,  0.07189206, -0.01660378],\n",
       "       [ 0.07189206,  1.        , -0.68057717],\n",
       "       [-0.01660378, -0.68057717,  1.        ]])"
      ]
     },
     "execution_count": 15,
     "metadata": {},
     "output_type": "execute_result"
    }
   ],
   "source": [
    "np.corrcoef([hares, lynxes, carrots])"
   ]
  },
  {
   "cell_type": "markdown",
   "metadata": {},
   "source": [
    "* Como é o sinal da correlação em relação ao sinal da covariância?\n",
    "* Em quais unidades físicas está a correlação? E a covariância?\n",
    "* Quais são as espécies que estão mais correlacionadas? Como isso é visto no gráfico?"
   ]
  },
  {
   "cell_type": "code",
   "execution_count": 16,
   "metadata": {},
   "outputs": [
    {
     "data": {
      "text/plain": [
       "array([[ 1.        ,  0.07189206, -0.01660378],\n",
       "       [ 0.07189206,  1.        , -0.68057717],\n",
       "       [-0.01660378, -0.68057717,  1.        ]])"
      ]
     },
     "execution_count": 16,
     "metadata": {},
     "output_type": "execute_result"
    }
   ],
   "source": [
    "np.corrcoef([hares, lynxes, carrots])"
   ]
  },
  {
   "cell_type": "code",
   "execution_count": 17,
   "metadata": {
    "scrolled": true
   },
   "outputs": [
    {
     "data": {
      "image/png": "[encoded data removed]",
      "text/plain": [
       "<Figure size 432x288 with 1 Axes>"
      ]
     },
     "metadata": {
      "needs_background": "light"
     },
     "output_type": "display_data"
    }
   ],
   "source": [
    "%matplotlib inline\n",
    "import matplotlib.pyplot as plt\n",
    "\n",
    "plt.plot(year, hares, year, lynxes, year, carrots) \n",
    "plt.legend(('Coelhos (hares)', 'Linces (lynxes)', 'Cenouras (carrots)'), loc = (1.05, 0.5)) \n",
    "plt.show()"
   ]
  },
  {
   "cell_type": "code",
   "execution_count": null,
   "metadata": {},
   "outputs": [],
   "source": []
  },
  {
   "cell_type": "code",
   "execution_count": null,
   "metadata": {},
   "outputs": [],
   "source": []
  },
  {
   "cell_type": "code",
   "execution_count": null,
   "metadata": {},
   "outputs": [],
   "source": []
  }
 ],
 "metadata": {
  "kernelspec": {
   "display_name": "Python 3",
   "language": "python",
   "name": "python3"
  },
  "language_info": {
   "codemirror_mode": {
    "name": "ipython",
    "version": 3
   },
   "file_extension": ".py",
   "mimetype": "text/x-python",
   "name": "python",
   "nbconvert_exporter": "python",
   "pygments_lexer": "ipython3",
   "version": "3.8.5"
  }
 },
 "nbformat": 4,
 "nbformat_minor": 4
}
