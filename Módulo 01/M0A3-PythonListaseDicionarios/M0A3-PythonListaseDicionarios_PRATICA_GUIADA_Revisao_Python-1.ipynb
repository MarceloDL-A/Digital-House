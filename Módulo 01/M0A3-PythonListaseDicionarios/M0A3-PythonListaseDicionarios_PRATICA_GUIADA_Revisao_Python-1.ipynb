{
 "cells": [
  {
   "cell_type": "markdown",
   "metadata": {},
   "source": [
    "# PRATICA_GUIADA_Revisao_Python-2"
   ]
  },
  {
   "cell_type": "markdown",
   "metadata": {},
   "source": [
    "#### Python é uma linguagem interpretada, ao contrário das linguagens compiladas, não é necessário traduzir as instruções para código de máquina (1s e 0s).\n",
    "\n",
    "#### Para poder executar o código escrito em python é necessário passar as instruções para um intérprete. Nos nossos cursos usaremos um ambiente de programação chamado jupyter-notebook, um aplicativo da web que é executado localmente, onde o texto (como este!) pode ser apresentado e que oferece a possibilidade de executar código.\n",
    "\n",
    "#### O formato de entrada para o nosso código é uma célula e para executar as instruções que digitamos basta pressionar `Shift`+`Enter` enquanto estivermos na célula."
   ]
  },
  {
   "cell_type": "markdown",
   "metadata": {},
   "source": [
    "### A função `print()`\n",
    "\n",
    "#### Para ver os valores que uma expressão ou alguma variável assume, vamos usar a função print dando como argumento um tipo de dado string."
   ]
  },
  {
   "cell_type": "code",
   "execution_count": 1,
   "metadata": {},
   "outputs": [
    {
     "name": "stdout",
     "output_type": "stream",
     "text": [
      "Olá, mundo!\n"
     ]
    }
   ],
   "source": [
    "print('Olá, mundo!')"
   ]
  },
  {
   "cell_type": "markdown",
   "metadata": {},
   "source": [
    "#### Como podemos ver nesta execução, o resultado do código aparece imediatamente sob a célula em que as instruções estão escritas."
   ]
  },
  {
   "cell_type": "markdown",
   "metadata": {},
   "source": [
    "### Tipos e estruturas de dados em Python 3.\n",
    "\n",
    "#### Para poder realizar nossas implementações, é necessário conhecer as propriedades dos dados que vamos usar e as operações que podem ser realizadas com eles. Isso pode parecer banal, mas existem diferenças importantes nos resultados.\n",
    "\n",
    "#### A seguir, um exemplo em que podemos importar os tipos de dados:"
   ]
  },
  {
   "cell_type": "markdown",
   "metadata": {},
   "source": [
    "#### Soma dos dados tipo `int`. "
   ]
  },
  {
   "cell_type": "code",
   "execution_count": 2,
   "metadata": {},
   "outputs": [
    {
     "name": "stdout",
     "output_type": "stream",
     "text": [
      "40\n"
     ]
    }
   ],
   "source": [
    "print( 20 + 20 )"
   ]
  },
  {
   "cell_type": "markdown",
   "metadata": {},
   "source": [
    "#### concatenação dos dados tipo strings."
   ]
  },
  {
   "cell_type": "code",
   "execution_count": 33,
   "metadata": {},
   "outputs": [
    {
     "name": "stdout",
     "output_type": "stream",
     "text": [
      "2020\n"
     ]
    }
   ],
   "source": [
    "print('20'+'20')"
   ]
  },
  {
   "cell_type": "markdown",
   "metadata": {},
   "source": [
    "#### No primeiro caso, o resultado de uma operação aritmética pode ser observado, enquanto no último uma operação de concatenação foi realizada em grupos de caracteres. Diferentes tipos de dados possuem operações associadas que podem responder de diferentes maneiras de acordo com suas definições."
   ]
  },
  {
   "cell_type": "markdown",
   "metadata": {},
   "source": [
    "### Tipos e estrutura de dados: inteiros (em python `int`), reais (`float`) e complexos (`complex`).\n",
    "\n",
    "#### A seguir, apresentamos tipos `type` de dados numéricos e algumas operações de exemplo."
   ]
  },
  {
   "cell_type": "code",
   "execution_count": 3,
   "metadata": {},
   "outputs": [
    {
     "name": "stdout",
     "output_type": "stream",
     "text": [
      "O número 3 é: <class 'int'>\n",
      "O número 3.14 é: <class 'float'>\n",
      "O número 3+2j é: <class 'complex'>\n",
      "5.0\n"
     ]
    },
    {
     "data": {
      "text/plain": [
       "2"
      ]
     },
     "execution_count": 3,
     "metadata": {},
     "output_type": "execute_result"
    }
   ],
   "source": [
    "print('O número 3 é:', type(3))\n",
    "\n",
    "print('O número 3.14 é:', type(3.14159))\n",
    "\n",
    "print('O número 3+2j é:', type(complex(3 + 2)))\n",
    "print(abs(complex(3 + 4j)))\n",
    "abs(-2)"
   ]
  },
  {
   "cell_type": "markdown",
   "metadata": {},
   "source": [
    "### Algumas operações numéricas de caráter aritméticos podem ser:"
   ]
  },
  {
   "cell_type": "markdown",
   "metadata": {},
   "source": [
    "#### Adição de dois inteiros."
   ]
  },
  {
   "cell_type": "code",
   "execution_count": 35,
   "metadata": {},
   "outputs": [
    {
     "name": "stdout",
     "output_type": "stream",
     "text": [
      "100\n"
     ]
    }
   ],
   "source": [
    "print(45 + 55)"
   ]
  },
  {
   "cell_type": "markdown",
   "metadata": {},
   "source": [
    "#### Subtração."
   ]
  },
  {
   "cell_type": "code",
   "execution_count": 36,
   "metadata": {},
   "outputs": [
    {
     "name": "stdout",
     "output_type": "stream",
     "text": [
      "-50\n"
     ]
    }
   ],
   "source": [
    "print(50 - 100)"
   ]
  },
  {
   "cell_type": "markdown",
   "metadata": {},
   "source": [
    "#### Divisão. "
   ]
  },
  {
   "cell_type": "code",
   "execution_count": 37,
   "metadata": {},
   "outputs": [
    {
     "name": "stdout",
     "output_type": "stream",
     "text": [
      "0.5\n"
     ]
    }
   ],
   "source": [
    "print(6 / 12)"
   ]
  },
  {
   "cell_type": "markdown",
   "metadata": {},
   "source": [
    "#### Divisão inteira."
   ]
  },
  {
   "cell_type": "code",
   "execution_count": 21,
   "metadata": {},
   "outputs": [
    {
     "name": "stdout",
     "output_type": "stream",
     "text": [
      "1\n"
     ]
    }
   ],
   "source": [
    "print(22 // 12)"
   ]
  },
  {
   "cell_type": "markdown",
   "metadata": {},
   "source": [
    "#### Multiplicação."
   ]
  },
  {
   "cell_type": "code",
   "execution_count": 22,
   "metadata": {},
   "outputs": [
    {
     "name": "stdout",
     "output_type": "stream",
     "text": [
      "15\n"
     ]
    }
   ],
   "source": [
    "print(3 * 5)"
   ]
  },
  {
   "cell_type": "markdown",
   "metadata": {},
   "source": [
    "#### Potenciação."
   ]
  },
  {
   "cell_type": "code",
   "execution_count": 23,
   "metadata": {},
   "outputs": [
    {
     "name": "stdout",
     "output_type": "stream",
     "text": [
      "243\n"
     ]
    }
   ],
   "source": [
    "print(3 ** 5)"
   ]
  },
  {
   "cell_type": "markdown",
   "metadata": {},
   "source": [
    "#### Para poder atribuir números ou resultados de operações a variáveis, o operador `=` é usado, o nome da variável deve começar com uma letra, e certos caracteres não podem ser usados para defini-las, como acentos ou espaços (invisíveis) dentro do nome."
   ]
  },
  {
   "cell_type": "markdown",
   "metadata": {},
   "source": [
    "#### Nota:\n",
    "\n",
    "#### Podemos ver que a primeira linha do exemplo a seguir...\n",
    "\n",
    "```python\n",
    "\n",
    "# atribuímos o valor 4 à variável num_1\n",
    "\n",
    "```\n",
    "\n",
    "#### ...é um comentário. Os comentários são úteis no sentido de que nos permitem fazer anotações no local em que uma tarefa é executada dentro do programa.\n",
    "\n",
    "\n",
    "#### Os comentários não são levados em conta como uma instrução, isso significa que o interpretador de python não os executa, como consequência eles só têm utilidade para as pessoas que veem as instruções.\n",
    "\n",
    "\n",
    "#### Para escrever um comentário, o símbolo numérico `#` deve ser preceder o texto e o texto deve ser de uma só linha. "
   ]
  },
  {
   "cell_type": "code",
   "execution_count": 24,
   "metadata": {},
   "outputs": [
    {
     "name": "stdout",
     "output_type": "stream",
     "text": [
      "70368744177664\n"
     ]
    }
   ],
   "source": [
    "# atribuímos o valor 4 à variável num_1\n",
    "num_1 = 4\n",
    "\n",
    "# atribuímos o valor 23 à variável num_2\n",
    "num_2 = 23\n",
    "\n",
    "# atribuímos o resultado de elevar num_1 à num_2\n",
    "resultado_potenciação = num_1 ** num_2\n",
    "\n",
    "# mostramos resultado\n",
    "print(resultado_potenciação)"
   ]
  },
  {
   "cell_type": "markdown",
   "metadata": {},
   "source": [
    "#### Neste último exemplo podemos observar que, uma vez que atribuímos as magnitudes numéricas às variáveis, podemos operar com essas variáveis como se fossem um número."
   ]
  },
  {
   "cell_type": "markdown",
   "metadata": {},
   "source": [
    "#### Como poderíamos encontrar a raiz quadrada de `num1` (4), utilizando a operação de potenciação? Escreva-o em linguagem python na próxima célula e use print para mostrar o resultado:"
   ]
  },
  {
   "cell_type": "code",
   "execution_count": 44,
   "metadata": {},
   "outputs": [],
   "source": [
    "num1 = 4"
   ]
  },
  {
   "cell_type": "markdown",
   "metadata": {},
   "source": [
    "#### Qual é a diferença entre um dado `int` e um `float`? É possível usar esses dois tipos de dados na mesma operação aritmética? Qual é o tipo de dado resultante?"
   ]
  },
  {
   "cell_type": "code",
   "execution_count": 48,
   "metadata": {},
   "outputs": [
    {
     "name": "stdout",
     "output_type": "stream",
     "text": [
      "2.4622888266898326\n"
     ]
    }
   ],
   "source": [
    "#Escreva o código abaixo para responder às perguntas propostas\n",
    "\n",
    "#2 == 2.0\n",
    "\n",
    "my_int = 2\n",
    "my_float = 1.3\n",
    "\n",
    "\n",
    "print(my_int**my_float)"
   ]
  },
  {
   "cell_type": "markdown",
   "metadata": {},
   "source": [
    "### Tipos e estrutura de dados: Texto `str`.\n",
    "\n",
    "#### O tipo de dado de texto é chamado de `string` em python. Pode ser enunciado colocando um conjunto de caracteres entre aspas (duplas ou simples). Durante o curso, vamos trabalhar com várias operações sobre esses dados orientados à sua matematização.\n",
    "\n",
    "#### As strings são iteráveis (podem ser acessadas por partes), cada caractere tem uma posição que pode ser acessada através de um índice. "
   ]
  },
  {
   "cell_type": "markdown",
   "metadata": {},
   "source": [
    "### Índice:\n",
    "\n",
    "#### Os índices são valores inteiros que, no texto, indicam a posição de um caractere dentro da string. São enunciados colocando o valor inteiro entre colchetes [] depois da string ou de uma variável que o represente. Os índices são contados a partir de zero."
   ]
  },
  {
   "cell_type": "code",
   "execution_count": 25,
   "metadata": {},
   "outputs": [
    {
     "name": "stdout",
     "output_type": "stream",
     "text": [
      "P 3\n"
     ]
    }
   ],
   "source": [
    "# Definimos uma variável de tipo string.\n",
    "text = 'Python3'\n",
    "\n",
    "# Acessamos a primeira e última posição dessa string.\n",
    "print(text[0], text[-1])"
   ]
  },
  {
   "cell_type": "markdown",
   "metadata": {},
   "source": [
    "#### A função `print()` pode usar vários argumentos, entre eles, estão os elementos que serão impressos na saída padrão. No último caso, imprimimos o primeiro e o último elemento da `string` text."
   ]
  },
  {
   "cell_type": "markdown",
   "metadata": {},
   "source": [
    "### Sobre os índices negativos.\n",
    "\n",
    "#### Quando um índice é negativo, aponta para um elemento do final, isto é, o [-1] se torna o último elemento, o índice [-2] o penúltimo e assim por diante até o primeiro elemento do iterável.\n",
    "\n",
    "#### A seguir, um exemplo:"
   ]
  },
  {
   "cell_type": "code",
   "execution_count": 52,
   "metadata": {},
   "outputs": [
    {
     "name": "stdout",
     "output_type": "stream",
     "text": [
      "o o\n"
     ]
    }
   ],
   "source": [
    "# Definimos uma variável do tipo string.\n",
    "text = 'Python3'\n",
    "\n",
    "# Acessamos o elemento 4 (Pyth(o)n3) a partir de índices positivos e negativos.\n",
    "print(text[4], text[-3])"
   ]
  },
  {
   "cell_type": "markdown",
   "metadata": {},
   "source": [
    "### Slicing.\n",
    "\n",
    "#### O slicing permite acessar partes contínuas da string com uma notação parecida com a dos índices. Eles também precisam ser magnitudes inteiras. Para fazer um slicing, os valores do índice devem ser dados entre colchetes, separados por dois pontos."
   ]
  },
  {
   "cell_type": "code",
   "execution_count": 54,
   "metadata": {},
   "outputs": [
    {
     "name": "stdout",
     "output_type": "stream",
     "text": [
      "ython3\n"
     ]
    }
   ],
   "source": [
    "# Definimos uma variável do tipo string.\n",
    "text = 'Python3 ou R?'\n",
    "\n",
    "# Entre colchetes definimos o primeiro e o último índice do sclicing.\n",
    "print(text[1:7])"
   ]
  },
  {
   "cell_type": "markdown",
   "metadata": {},
   "source": [
    "#### O primeiro índice aponta para o primeiro caractere da primeira palavra (incluído no subtexto), enquanto o último caractere aponta para o último caractere da palavra (não incluído no subtexto)."
   ]
  },
  {
   "cell_type": "code",
   "execution_count": 57,
   "metadata": {},
   "outputs": [
    {
     "name": "stdout",
     "output_type": "stream",
     "text": [
      " \n"
     ]
    }
   ],
   "source": [
    "# Definimos uma variável do tipo string.\n",
    "text = 'Python3 ou R?'\n",
    "\n",
    "# Mostramos o elemento 7 do texto, que não é mostrado no slicing anterior.\n",
    "print(text[7])"
   ]
  },
  {
   "cell_type": "markdown",
   "metadata": {},
   "source": [
    "#### A seguir, imprimir a palavra central do texto utilizando slicing."
   ]
  },
  {
   "cell_type": "code",
   "execution_count": 59,
   "metadata": {},
   "outputs": [
    {
     "data": {
      "text/plain": [
       "'uma'"
      ]
     },
     "execution_count": 59,
     "metadata": {},
     "output_type": "execute_result"
    }
   ],
   "source": [
    "# Definimos um texto\n",
    "text_2 = 'É uma string'\n",
    "\n",
    "# selecionar a palavra central com slicing\n",
    "text_2[2:5]"
   ]
  },
  {
   "cell_type": "markdown",
   "metadata": {},
   "source": [
    "### Concatenação.\n",
    "\n",
    "#### conjuntos de caracteres podem ser concatenados utilizando, como vimos, o operador de soma."
   ]
  },
  {
   "cell_type": "code",
   "execution_count": 26,
   "metadata": {},
   "outputs": [
    {
     "name": "stdout",
     "output_type": "stream",
     "text": [
      "Texto de exemplo\n"
     ]
    }
   ],
   "source": [
    "concatenação = 'Texto de ' + \"exemplo\"\n",
    "print(concatenação)"
   ]
  },
  {
   "cell_type": "markdown",
   "metadata": {},
   "source": [
    "#### Podemos observar que a operação:\n",
    "\n",
    "* Concatena as duas `strings` em uma maior.\n",
    "* Não adiciona espaço entre operandos.\n",
    "* Conserva a ordem de esquerda a direita.\n"
   ]
  },
  {
   "cell_type": "markdown",
   "metadata": {},
   "source": [
    "#### Como havíamos mencionado, os tipos de dados trazem operações associadas - essas operações são conhecidas como métodos. Os métodos são um conjunto de instruções associadas aos tipos de dados que podem fazer alterações neles ou operações que resultem no retorno de algum resultado em outro tipo de dados."
   ]
  },
  {
   "cell_type": "markdown",
   "metadata": {},
   "source": [
    "### Método `.isdigit()`.\n",
    "\n",
    "#### Este método retorna um tipo de dado booleano (verdadeiro ou falso). É verdadeiro quando a string associada pode ser representada como um inteiro e falso, caso contrário. Este método pode servir para decidir se uma string pode ser transformada em um número inteiro."
   ]
  },
  {
   "cell_type": "code",
   "execution_count": 63,
   "metadata": {},
   "outputs": [
    {
     "data": {
      "text/plain": [
       "True"
      ]
     },
     "execution_count": 63,
     "metadata": {},
     "output_type": "execute_result"
    }
   ],
   "source": [
    "inteiro = '231' \n",
    "inteiro.isdigit()"
   ]
  },
  {
   "cell_type": "markdown",
   "metadata": {},
   "source": [
    "#### Como podemos ver, a chamada para os métodos é precedida por dois parênteses. A razão será comentada mais à frente, em definição de funções."
   ]
  },
  {
   "cell_type": "code",
   "execution_count": 65,
   "metadata": {},
   "outputs": [
    {
     "data": {
      "text/plain": [
       "False"
      ]
     },
     "execution_count": 65,
     "metadata": {},
     "output_type": "execute_result"
    }
   ],
   "source": [
    "no_inteiro = '3.14'\n",
    "no_inteiro.isdigit()"
   ]
  },
  {
   "cell_type": "markdown",
   "metadata": {},
   "source": [
    "### Método `.split()`.\n",
    "\n",
    "#### Esse método associado a `strings` serve para separar um texto em subtextos menores. O resultado da separação é retornado em uma lista."
   ]
  },
  {
   "cell_type": "code",
   "execution_count": 70,
   "metadata": {
    "scrolled": true
   },
   "outputs": [
    {
     "data": {
      "text/plain": [
       "['um', 'dois', 'três', 'quatro']"
      ]
     },
     "execution_count": 70,
     "metadata": {},
     "output_type": "execute_result"
    }
   ],
   "source": [
    "# Fazemos um chamado ao split diretamente de uma string\n",
    "lista = 'um dois três quatro'.split()\n",
    "lista"
   ]
  },
  {
   "cell_type": "code",
   "execution_count": 72,
   "metadata": {},
   "outputs": [
    {
     "data": {
      "text/plain": [
       "['um', 'dois', 'três', 'quatro']"
      ]
     },
     "execution_count": 72,
     "metadata": {},
     "output_type": "execute_result"
    }
   ],
   "source": [
    "# Guardamos uma string em uma variável\n",
    "números = 'um dois três quatro'\n",
    "\n",
    "#separamos o conteúdo da variável com o método split\n",
    "números.split()"
   ]
  },
  {
   "cell_type": "markdown",
   "metadata": {},
   "source": [
    "### Proposta prática:  \n",
    "\n",
    "#### A seguir, veremos parte de um código que, a partir de uma lista de números aleatórios, retorna outra lista com números pares."
   ]
  },
  {
   "cell_type": "code",
   "execution_count": 108,
   "metadata": {},
   "outputs": [
    {
     "name": "stdout",
     "output_type": "stream",
     "text": [
      "2 é par\n",
      "3 não é par nem ímpar negativo\n",
      "1 não é par nem ímpar negativo\n",
      "8 é par\n",
      "-2 é par\n",
      "3.14259 não é par nem ímpar negativo\n",
      "-1 negativo e não par\n",
      "0 é par\n",
      "6 é par\n",
      "7 não é par nem ímpar negativo\n",
      "9 não é par nem ímpar negativo\n"
     ]
    },
    {
     "data": {
      "text/plain": [
       "[2, 8, -2, 0, 6]"
      ]
     },
     "execution_count": 108,
     "metadata": {},
     "output_type": "execute_result"
    }
   ],
   "source": [
    "# inicializamos uma lista com números.\n",
    "lista_números = [2, 3, 1, 8, -2, 3.14259, -1, 0, 6, 7, 9]\n",
    "# inicializamos uma lista vazia.\n",
    "lista_pares = []\n",
    "\n",
    "# percorremos a lista.\n",
    "for número in lista_números:\n",
    "    #vemos se o número da lista é par.\n",
    "    if número % 2 == 0:\n",
    "        # inserimos no final da lista se for par\n",
    "        lista_pares.append(número)\n",
    "        print(número, 'é par')\n",
    "    elif número < 0:\n",
    "        print(número, 'negativo e não par')\n",
    "    \n",
    "    else:\n",
    "        print(número, 'não é par nem ímpar negativo')\n",
    "\n",
    "lista_pares      "
   ]
  },
  {
   "cell_type": "code",
   "execution_count": null,
   "metadata": {},
   "outputs": [],
   "source": [
    "print(lista_pares)"
   ]
  },
  {
   "cell_type": "markdown",
   "metadata": {},
   "source": [
    "### Tipos e estrutura de dados: Listas `list`."
   ]
  },
  {
   "cell_type": "markdown",
   "metadata": {},
   "source": [
    "#### As listas são estruturas de dados muito usadas em python. Nelas podemos depositar uma grande quantidade de dados: números, palavras, outras listas, etc.\n",
    "\n",
    "#### Na nossa proposta prática, podemos ver que trabalhamos com duas listas:\n",
    "\n",
    "``` python\n",
    "# inicializamos uma lista com números.\n",
    "lista_números = [2, 3, 1, 8, -2, 3.14259, -1, 0, 6, 7, 9]\n",
    "# inicializamos uma lista vazia.\n",
    "lista_pares = []\n",
    "```\n",
    "\n",
    "#### Na primeira lista, decidimos definir seus membros como números. Outros tipos de dados podem estar contidos nas listas. Também podemos ver que para definir uma lista não é necessário ter elementos. Em `lista_pares` por exemplo, você pode ver que ela está vazia.\n",
    "\n",
    "#### Uma das motivações para gerar listas vazias é a de poder ser preenchida de acordo com os condicionais que definiremos em nossos programas."
   ]
  },
  {
   "cell_type": "markdown",
   "metadata": {},
   "source": [
    "### Método `.append()`.\n",
    "\n",
    "#### Permite adicionar um elemento no final de uma lista. É importante ressaltar que o elemento persiste dentro da lista, uma vez que é adicionado por este método."
   ]
  },
  {
   "cell_type": "code",
   "execution_count": 110,
   "metadata": {},
   "outputs": [
    {
     "name": "stdout",
     "output_type": "stream",
     "text": [
      "[]\n"
     ]
    }
   ],
   "source": [
    "# Inicializamos uma lista vazia.\n",
    "lista_teste = []\n",
    "\n",
    "# Imprimimos a lista para ver como é.\n",
    "print(lista_teste)"
   ]
  },
  {
   "cell_type": "code",
   "execution_count": 111,
   "metadata": {},
   "outputs": [
    {
     "name": "stdout",
     "output_type": "stream",
     "text": [
      "['sou uma string']\n"
     ]
    }
   ],
   "source": [
    "# Agora adicionamos um elemento à lista com append.\n",
    "lista_teste.append('sou uma string')\n",
    "\n",
    "# Imprimimos a lista\n",
    "print(lista_teste)"
   ]
  },
  {
   "cell_type": "markdown",
   "metadata": {},
   "source": [
    "#### Podemos ver que o que foi adicionado à lista pelo `.append()` foi indicado ao colocar esse elemento entre os parênteses na chamada de método. \n",
    "\n",
    "#### O que aparece entre parênteses após a chamada de método é conhecido como argumento e, neste caso, o argumento para o método `.append()`,  é o elemento que será inserido no final da lista."
   ]
  },
  {
   "cell_type": "code",
   "execution_count": 112,
   "metadata": {},
   "outputs": [
    {
     "data": {
      "text/plain": [
       "['sou uma string', 23]"
      ]
     },
     "execution_count": 112,
     "metadata": {},
     "output_type": "execute_result"
    }
   ],
   "source": [
    "# Adicionamos outro elemento à lista.\n",
    "lista_teste.append(23)\n",
    "\n",
    "# Mostramos o estado da lista até esse ponto.\n",
    "lista_teste"
   ]
  },
  {
   "cell_type": "markdown",
   "metadata": {},
   "source": [
    "#### Ao contrário de outras linguagens, em python, uma lista pode conter, simultaneamente, vários tipos de dados."
   ]
  },
  {
   "cell_type": "markdown",
   "metadata": {},
   "source": [
    "### Iteração `for`.\n",
    "\n",
    "#### O poder dos programas está na capacidade de executar um conjunto de instruções repetidamente ao percorrer uma estrutura ou tipo de dados. Chamamos isso de \"iteração\". No nosso exemplo podemos ver uma dessas iterações:\n",
    "\n",
    "```python\n",
    "for número in lista_números:\n",
    "```\n",
    "#### A sintaxe para usar o iterador \"for\" em nosso exemplo tem basicamente 5 partes:\n",
    "\n",
    "    1) A chamada para `for`.\n",
    "    2) A definição de uma variável que representa cada elemento dentro dos membros que percorremos.\n",
    "    3) A chamada a `in`, que indica o que vamos percorrer.\n",
    "    4) A estrutura ou dado sobre a qual vamos iterar.\n",
    "    5) Os dois pontos que indicam que o corpo de instruções começa.\n",
    "\n",
    "#### A partir daqui, tudo que estiver dentro do ciclo será repetido enquanto a lista estiver sendo percorrida.\n",
    "\n",
    "```python\n",
    "# percorremos a lista.\n",
    "for número in lista_números:\n",
    "    #vemos se o número da lista é par.\n",
    "    if número % 2 == 0:\n",
    "        # inserimos no final da lista se for par\n",
    "        lista_pares.append(número)\n",
    "```\n",
    "#### É importante ressaltar que o uso de espaços tem um significado para o interpretador de python. No nosso exemplo podemos notar que as instruções dentro do for têm pelo menos 4 espaços antes de serem escritas - isso em python é chamado de indentação."
   ]
  },
  {
   "cell_type": "code",
   "execution_count": 113,
   "metadata": {},
   "outputs": [
    {
     "name": "stdout",
     "output_type": "stream",
     "text": [
      "[-8, -6, -4, -2, 0, 2, 4, 6, 8]\n"
     ]
    }
   ],
   "source": [
    "lista_números = [-9, -8, -7, -6, -5, -4, -3, -2, -1 , 0, 1, 2, 3, 4, 5, 6, 7, 8, 9]\n",
    "lista_pares = []\n",
    "# percorremos a lista.\n",
    "for número in lista_números:\n",
    "    #vemos se o número da lista é par.\n",
    "    if número % 2 == 0:\n",
    "        # inserimos no final da lista se for par\n",
    "        lista_pares.append(número)\n",
    "print(lista_pares)        "
   ]
  },
  {
   "cell_type": "markdown",
   "metadata": {},
   "source": [
    "### Iteração `while`.\n",
    "\n",
    "#### A iteração `while` ocorre desde a inicialização de um objeto até o momento em que uma condição é alcançada, nesse momento a ação para ou outra ação passa a ser tomada."
   ]
  },
  {
   "cell_type": "code",
   "execution_count": 117,
   "metadata": {},
   "outputs": [
    {
     "name": "stdout",
     "output_type": "stream",
     "text": [
      "0\n",
      "1\n",
      "2\n"
     ]
    }
   ],
   "source": [
    "count = 0\n",
    "while (count < 3):\n",
    "    print(count)\n",
    "    count = count + 1"
   ]
  },
  {
   "cell_type": "code",
   "execution_count": 1,
   "metadata": {},
   "outputs": [
    {
     "name": "stdout",
     "output_type": "stream",
     "text": [
      "4\n",
      "9\n"
     ]
    }
   ],
   "source": [
    "count = 1\n",
    "while (count != 3 ):\n",
    "    count = count + 1\n",
    "    print(count ** 2) "
   ]
  },
  {
   "cell_type": "markdown",
   "metadata": {},
   "source": [
    "### Condicionais if, elif, else.\n",
    "\n",
    "#### O condicional `if` permite realizar um conjunto de possíveis operações através da formulação de uma pergunta em termos de expressões que possam ser verdadeiras ou falsas. Estas operações são chamadas de operações \"booleanas\"."
   ]
  },
  {
   "cell_type": "markdown",
   "metadata": {},
   "source": [
    "#### A seguir, damos alguns exemplos das perguntas que resultam em um booleano:"
   ]
  },
  {
   "cell_type": "code",
   "execution_count": 123,
   "metadata": {},
   "outputs": [
    {
     "data": {
      "text/plain": [
       "False"
      ]
     },
     "execution_count": 123,
     "metadata": {},
     "output_type": "execute_result"
    }
   ],
   "source": [
    "# Um número é igual a outro número?\n",
    "2 == 1"
   ]
  },
  {
   "cell_type": "code",
   "execution_count": 124,
   "metadata": {},
   "outputs": [
    {
     "name": "stdout",
     "output_type": "stream",
     "text": [
      "True\n"
     ]
    }
   ],
   "source": [
    "# Um número é maior do que outro número?\n",
    "print( 23 > -11 )"
   ]
  },
  {
   "cell_type": "code",
   "execution_count": 31,
   "metadata": {},
   "outputs": [
    {
     "data": {
      "text/plain": [
       "True"
      ]
     },
     "execution_count": 31,
     "metadata": {},
     "output_type": "execute_result"
    }
   ],
   "source": [
    "# Um tipo de dado é igual a outro?\n",
    "# isinstance([1,2,3], list)\n",
    "#isinstance(1, int)\n",
    "isinstance(1.0, float)"
   ]
  },
  {
   "cell_type": "code",
   "execution_count": 29,
   "metadata": {
    "scrolled": true
   },
   "outputs": [
    {
     "data": {
      "text/plain": [
       "False"
      ]
     },
     "execution_count": 29,
     "metadata": {},
     "output_type": "execute_result"
    }
   ],
   "source": [
    "# O texto está contido em outro texto?\n",
    "'dois' in 'tenho um texto aqui'"
   ]
  },
  {
   "cell_type": "markdown",
   "metadata": {},
   "source": [
    "#### Acabamos de ver algumas expressões cujo resultado é um booleano. Essas expressões podem ser avaliadas por um conjunto de condicionais."
   ]
  },
  {
   "cell_type": "markdown",
   "metadata": {},
   "source": [
    "### Condicional `if`.\n",
    "\n",
    "#### Voltando ao nosso exemplo, vamos selecionar os dados que se encaixam em algumas propriedades que pedimos. Para isso, usamos o condicional `if`. Esse condicional nos permite tomar uma decisão com relação a uma condição dentro do programa, e pode ser enunciado dessa forma:\n",
    "\n",
    "```python\n",
    "if número % 2 == 0:\n",
    "    # inserimos no final da lista se for par\n",
    "    lista_pares.append(número)\n",
    "    \n",
    "elif número < 0:\n",
    "        print(número, 'negativo e não par')\n",
    "    \n",
    "else:\n",
    "    print(número, 'não é par nem ímpar negativo')\n",
    "\n",
    "```\n",
    "#### A sintaxe para o `if` possui três partes:\n",
    "           \n",
    "    1) A chamada ao `if`.\n",
    "    2) Uma condição (que pode ser verdadeira ou falsa).\n",
    "    3) Os dois pontos que indicam que o corpo de instruções começa.\n",
    "\n",
    "#### A condição pode assumir várias formas dependendo do que procuramos. No nosso programa, perguntamos: \n",
    "\n",
    "    A variável número: deixa um resto depois de ser dividida pelo número 2?\n",
    "\n",
    "#### Esta pergunta é feita através de uma sentença no python onde usamos a operação módulo `%` que nos indica se há um resto no quociente de dois números ordenados, e o operador `==` que indica se existe igualdade entre os dois lados.\n",
    "\n",
    "#### Se a igualdade `==` for verdadeira, a instrução do corpo do `if` é seguida. Se a condição for falsa, as instruções do `if` são ignoradas.\n",
    "\n",
    "#### Assim como o `for`, o corpo do `if` é definido como as instruções depois dos dois pontos que estão a 4 espaços da chamada ao `if` (indentação). \n",
    "\n",
    "### Condicional `elif`.\n",
    "\n",
    "#### Quando o condicional `if` é avaliado como `False`, é possível avaliar outra condição relacionada com o primeiro `if`. No exemplo, usamos o condicional `elif`, cujo corpo é executado quando o primeiro `if` foi avaliado como `False` e a sentença enunciada depois do **elif** é *True*, ou seja, quando o número não é par (**if** avaliado como `False`) e quando o número é menor do que zero (`elif` avaliado como `True`).\n",
    "\n",
    "### Condicional `else`.\n",
    "\n",
    "#### Quando o condicional `if` é avaliado como `False` e não existem condicionais `elif`, ou eles são todos avaliados como `False`, então se executa o corpo do condicional `else`, se este for definido. No exemplo, quando o número não é par (`if` avaliado como `False`) e quando o número não é menor do que zero (único `elif` avaliado como `False`).\n",
    "\n",
    "#### Exemplo sintético:\n",
    "\n",
    "```python\n",
    "if condição_1 :\n",
    "    'código a executar se a condição_1 for verdadeira'\n",
    "\n",
    "elif condição_2:\n",
    "    'código a executar se a condição_1 for falsa e a condição_2 verdadeira'\n",
    "       \n",
    "else:\n",
    "    'código a executar se todas as condições anteriores forem falsas'\n",
    "\n",
    "```"
   ]
  },
  {
   "cell_type": "markdown",
   "metadata": {},
   "source": [
    "### Definindo funções: `def`, `return`.\n",
    "\n",
    "#### As funções são um conjunto de instruções executadas através de um nome ou alias. A ideia da definição de funções é separar o problema a ser resolvido em partes menores.\n",
    "\n",
    "#### Para definir uma função é preciso seguir, no mínimo, esses passos:\n",
    "       \n",
    "    * Realizar uma chamada à instrução `def`\n",
    "    * Enunciar o nome da função \n",
    "    * Escrever parênteses\n",
    "    * Declarar, se existirem, os argumentos dentro dos parênteses, separados por vírgulas. (opcional)\n",
    "    * Escrever dois pontos.\n",
    "    * Escrever o corpo da função.\n",
    "    * Retornar um resultado com return (opcional).\n",
    "       \n",
    "#### A seguir, um exemplo de declaração de uma função:\n",
    "\n",
    "``` python \n",
    "def myFunction(argumento_1, argumento_2, ...):\n",
    "    \n",
    "    if argumento_1 > argumento_2:\n",
    "        \n",
    "        print(argumento_1, ' é maior que ', argumento_2)\n",
    "    \n",
    "    else:\n",
    "        print(argumento_1, ' não é maior que ', argumento_2)\n",
    "    \n",
    "    return(argumento_1 + argumento_2)\n",
    "\n",
    "```\n",
    "\n",
    "#### Os argumentos são variáveis que existirão no espaço de definição de uma função.\n",
    "\n",
    "#### Neste exemplo, podemos ver que os argumentos são avaliados pelos condicionais `if`/ `else` e que a soma de ambos argumentos é finalmente retornada.\n",
    "\n",
    "#### Se a expressão retornada pelo return for um tipo de dados válido, então podemos trabalhar com esse dado. Vejamos este exemplo.\n",
    "\n",
    "### Definimos a função anterior:"
   ]
  },
  {
   "cell_type": "code",
   "execution_count": 155,
   "metadata": {},
   "outputs": [
    {
     "data": {
      "text/plain": [
       "2"
      ]
     },
     "execution_count": 155,
     "metadata": {},
     "output_type": "execute_result"
    }
   ],
   "source": [
    "def minhafunção(argumento_1, argumento_2):\n",
    "\n",
    "    if argumento_1 > argumento_2:\n",
    "        pass \n",
    "        #print(argumento_1, ' é maior que ', argumento_2)\n",
    "\n",
    "    else:\n",
    "        pass\n",
    "        #print(argumento_1, ' não é maior que ', argumento_2)\n",
    "\n",
    "    return(argumento_1 + argumento_2)\n",
    "\n",
    "minhafunção(-1, 3)"
   ]
  },
  {
   "cell_type": "markdown",
   "metadata": {},
   "source": [
    "#### Agora a função está no espaço de memória sob o nome de `minhafunção`. Para fazer uma chamada a essa função para que o código dentro dela seja executado, basta enunciar seu nome e entregar os argumentos entre parênteses de forma organizada."
   ]
  },
  {
   "cell_type": "code",
   "execution_count": 138,
   "metadata": {},
   "outputs": [
    {
     "name": "stdout",
     "output_type": "stream",
     "text": [
      "3  não é maior que  5\n"
     ]
    },
    {
     "data": {
      "text/plain": [
       "8"
      ]
     },
     "execution_count": 138,
     "metadata": {},
     "output_type": "execute_result"
    }
   ],
   "source": [
    "# Vamos atribuir o valor do resultado desta função a uma variável.\n",
    "variável_1 = minhafunção(3, 5)\n",
    "#variável_1 = minhafunção(argumento_1, argumento_2)\n",
    "variável_1"
   ]
  },
  {
   "cell_type": "code",
   "execution_count": 135,
   "metadata": {},
   "outputs": [
    {
     "name": "stdout",
     "output_type": "stream",
     "text": [
      "8\n"
     ]
    }
   ],
   "source": [
    "# Agora vejamos o que restou na variável_1\n",
    "print(variável_1)"
   ]
  },
  {
   "cell_type": "markdown",
   "metadata": {},
   "source": [
    "#### Como podemos ver na função, há chamadas ao print, que imprimem dependendo da avaliação do `if`/`else` o que indicamos em cada corpo condicional, porém o valor que é capturado para operar é o que retorna a instrução `return`."
   ]
  },
  {
   "cell_type": "markdown",
   "metadata": {},
   "source": [
    "#### O que o código a seguir faz?"
   ]
  },
  {
   "cell_type": "code",
   "execution_count": 149,
   "metadata": {},
   "outputs": [],
   "source": [
    "lista_de_números = [-1, -51, -4, 42, 23, 4, 5, 6, 72, 4, 5]"
   ]
  },
  {
   "cell_type": "code",
   "execution_count": 152,
   "metadata": {},
   "outputs": [
    {
     "data": {
      "text/plain": [
       "[10, -40, 7, 53, 34, 15, 16, 17, 83, 15, 16]"
      ]
     },
     "execution_count": 152,
     "metadata": {},
     "output_type": "execute_result"
    }
   ],
   "source": [
    "somas = []\n",
    "\n",
    "for número in lista_de_números:\n",
    "    \n",
    "    somas.append( minhafunção(8, número + 3) )\n",
    "somas    "
   ]
  },
  {
   "cell_type": "markdown",
   "metadata": {},
   "source": [
    "#### E o próximo?"
   ]
  },
  {
   "cell_type": "code",
   "execution_count": 153,
   "metadata": {},
   "outputs": [],
   "source": [
    "somas = []\n",
    "\n",
    "for número in lista_de_números:\n",
    "    if minhafunção(número, 3) < número:\n",
    "        somas.append(número)\n",
    "    \n",
    "    else:\n",
    "        somas.append( minhafunção(número, 2) ** minhafunção(minhafunção(número, -31), 3) )"
   ]
  },
  {
   "cell_type": "code",
   "execution_count": 156,
   "metadata": {},
   "outputs": [
    {
     "name": "stdout",
     "output_type": "stream",
     "text": [
      "[1.0, -2.982013997898911e-134, 2.3283064365386963e-10, 101938319743841411792896, 1.024e-07, 2.1104253300858436e-19, 3.653802593060306e-20, 1.3552527156068805e-20, 17627700705296501921701017350482177806873007670837740222550443628435829182301208576, 2.1104253300858436e-19, 3.653802593060306e-20]\n"
     ]
    }
   ],
   "source": [
    "print(somas)"
   ]
  },
  {
   "cell_type": "code",
   "execution_count": 169,
   "metadata": {},
   "outputs": [
    {
     "name": "stdout",
     "output_type": "stream",
     "text": [
      "c\n",
      "o\n",
      "m\n",
      "p\n",
      "u\n",
      "t\n",
      "e\n",
      "r\n"
     ]
    }
   ],
   "source": [
    "world = 'computer' \n",
    "for i in world:\n",
    "    print(i)"
   ]
  },
  {
   "cell_type": "code",
   "execution_count": 32,
   "metadata": {},
   "outputs": [
    {
     "name": "stdin",
     "output_type": "stream",
     "text": [
      "Enter text, [type \"stop\" to quit]:  stop\n"
     ]
    },
    {
     "name": "stdout",
     "output_type": "stream",
     "text": [
      "stop\n",
      "\n"
     ]
    }
   ],
   "source": [
    "replys = []\n",
    "while True:\n",
    "    reply = input('Enter text, [type \"stop\" to quit]: ')\n",
    "    print(reply)\n",
    "    if reply == 'stop' or reply == ' ':\n",
    "        print(\" \".join(replys))\n",
    "        break\n",
    "        replys.append(replys)          "
   ]
  },
  {
   "cell_type": "code",
   "execution_count": null,
   "metadata": {},
   "outputs": [],
   "source": []
  }
 ],
 "metadata": {
  "kernelspec": {
   "display_name": "Python 3",
   "language": "python",
   "name": "python3"
  },
  "language_info": {
   "codemirror_mode": {
    "name": "ipython",
    "version": 3
   },
   "file_extension": ".py",
   "mimetype": "text/x-python",
   "name": "python",
   "nbconvert_exporter": "python",
   "pygments_lexer": "ipython3",
   "version": "3.8.5"
  }
 },
 "nbformat": 4,
 "nbformat_minor": 4
}
