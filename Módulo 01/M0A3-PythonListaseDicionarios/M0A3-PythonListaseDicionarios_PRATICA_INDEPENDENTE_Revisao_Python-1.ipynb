{
 "cells": [
  {
   "cell_type": "markdown",
   "metadata": {},
   "source": [
    "# PRATICA INDEPENDENTE 1 - Revisão Python 1."
   ]
  },
  {
   "cell_type": "markdown",
   "metadata": {},
   "source": [
    "#### Exercício 1 : Defina os objetos `x` e  `y` com valores inteiros, realize as quatro operações básicas, além da potenciação e da radiciação, com os objetos e imprima cada um dos resultados."
   ]
  },
  {
   "cell_type": "code",
   "execution_count": 1,
   "metadata": {},
   "outputs": [],
   "source": [
    "x = 3"
   ]
  },
  {
   "cell_type": "markdown",
   "metadata": {},
   "source": [
    "### vjhvljvhlv"
   ]
  },
  {
   "cell_type": "code",
   "execution_count": 1,
   "metadata": {},
   "outputs": [
    {
     "ename": "NameError",
     "evalue": "name 'mk' is not defined",
     "output_type": "error",
     "traceback": [
      "\u001b[1;31m---------------------------------------------------------------------------\u001b[0m",
      "\u001b[1;31mNameError\u001b[0m                                 Traceback (most recent call last)",
      "\u001b[1;32m<ipython-input-1-4c5d8bd1720a>\u001b[0m in \u001b[0;36m<module>\u001b[1;34m\u001b[0m\n\u001b[0;32m      1\u001b[0m \u001b[0my\u001b[0m \u001b[1;33m=\u001b[0m \u001b[1;36m4\u001b[0m\u001b[1;33m\u001b[0m\u001b[1;33m\u001b[0m\u001b[0m\n\u001b[1;32m----> 2\u001b[1;33m \u001b[0mmk\u001b[0m\u001b[1;33m(\u001b[0m\u001b[1;34m\"\"\u001b[0m\u001b[1;33m)\u001b[0m\u001b[1;33m\u001b[0m\u001b[1;33m\u001b[0m\u001b[0m\n\u001b[0m\u001b[0;32m      3\u001b[0m \u001b[0mmnkn\u001b[0m\u001b[1;33m\u001b[0m\u001b[1;33m\u001b[0m\u001b[0m\n\u001b[0;32m      4\u001b[0m \u001b[0mknk\u001b[0m\u001b[1;33m\u001b[0m\u001b[1;33m\u001b[0m\u001b[0m\n",
      "\u001b[1;31mNameError\u001b[0m: name 'mk' is not defined"
     ]
    }
   ],
   "source": [
    "y = 4"
   ]
  },
  {
   "cell_type": "code",
   "execution_count": 3,
   "metadata": {},
   "outputs": [
    {
     "data": {
      "text/plain": [
       "7"
      ]
     },
     "execution_count": 3,
     "metadata": {},
     "output_type": "execute_result"
    }
   ],
   "source": [
    "x + y"
   ]
  },
  {
   "cell_type": "code",
   "execution_count": 4,
   "metadata": {},
   "outputs": [
    {
     "data": {
      "text/plain": [
       "-1"
      ]
     },
     "execution_count": 4,
     "metadata": {},
     "output_type": "execute_result"
    }
   ],
   "source": [
    "x - y"
   ]
  },
  {
   "cell_type": "code",
   "execution_count": 5,
   "metadata": {},
   "outputs": [
    {
     "data": {
      "text/plain": [
       "81"
      ]
     },
     "execution_count": 5,
     "metadata": {},
     "output_type": "execute_result"
    }
   ],
   "source": [
    "x**y"
   ]
  },
  {
   "cell_type": "code",
   "execution_count": 7,
   "metadata": {},
   "outputs": [
    {
     "data": {
      "text/plain": [
       "1.7320508075688772"
      ]
     },
     "execution_count": 7,
     "metadata": {},
     "output_type": "execute_result"
    }
   ],
   "source": [
    "x**0.5"
   ]
  },
  {
   "cell_type": "markdown",
   "metadata": {},
   "source": [
    "#### Exercício 2 : Crie os objeto `D` e `H`, para receberem as `string` `'Digital'` e `'House'`, realize a concatenação dos objetos e imprima o resultado na tela."
   ]
  },
  {
   "cell_type": "code",
   "execution_count": 9,
   "metadata": {},
   "outputs": [],
   "source": [
    "D = 'Digital'\n",
    "H = ' House'"
   ]
  },
  {
   "cell_type": "code",
   "execution_count": 10,
   "metadata": {},
   "outputs": [
    {
     "data": {
      "text/plain": [
       "'Digital House'"
      ]
     },
     "execution_count": 10,
     "metadata": {},
     "output_type": "execute_result"
    }
   ],
   "source": [
    "D + H"
   ]
  },
  {
   "cell_type": "markdown",
   "metadata": {},
   "source": [
    "#### Exercício 3 : Crie uma tupla `T`  com três inteiros, imprima o segundo na tela e some  uma unidade ao valor do terceiro."
   ]
  },
  {
   "cell_type": "code",
   "execution_count": 11,
   "metadata": {},
   "outputs": [],
   "source": [
    "T = [1, 2, 5]"
   ]
  },
  {
   "cell_type": "code",
   "execution_count": 12,
   "metadata": {},
   "outputs": [
    {
     "name": "stdout",
     "output_type": "stream",
     "text": [
      "2\n"
     ]
    }
   ],
   "source": [
    "print(T[1])"
   ]
  },
  {
   "cell_type": "code",
   "execution_count": 15,
   "metadata": {},
   "outputs": [
    {
     "data": {
      "text/plain": [
       "[1, 2, 6]"
      ]
     },
     "execution_count": 15,
     "metadata": {},
     "output_type": "execute_result"
    }
   ],
   "source": [
    "T[2] = T[2] + 1\n",
    "T"
   ]
  },
  {
   "cell_type": "markdown",
   "metadata": {},
   "source": [
    "#### Exercício 4 : Crie uma lista `L`  com quatro strings, imprima o segundo na tela e altere o valor do terceiro."
   ]
  },
  {
   "cell_type": "code",
   "execution_count": 16,
   "metadata": {},
   "outputs": [
    {
     "data": {
      "text/plain": [
       "['A', 'B', 'C', 'D']"
      ]
     },
     "execution_count": 16,
     "metadata": {},
     "output_type": "execute_result"
    }
   ],
   "source": [
    "L = ['A', 'B', 'C', 'D']\n",
    "L"
   ]
  },
  {
   "cell_type": "code",
   "execution_count": 17,
   "metadata": {},
   "outputs": [
    {
     "data": {
      "text/plain": [
       "'B'"
      ]
     },
     "execution_count": 17,
     "metadata": {},
     "output_type": "execute_result"
    }
   ],
   "source": [
    "L[1]"
   ]
  },
  {
   "cell_type": "code",
   "execution_count": 18,
   "metadata": {},
   "outputs": [
    {
     "data": {
      "text/plain": [
       "['A', 'B', 234, 'D']"
      ]
     },
     "execution_count": 18,
     "metadata": {},
     "output_type": "execute_result"
    }
   ],
   "source": [
    "L[2] = 234\n",
    "L"
   ]
  },
  {
   "cell_type": "markdown",
   "metadata": {},
   "source": [
    "#### Exercício 5 : Crie uma lista `D`  com três pares chave valor e imprima o dicionário na tela. Adicione um quarto par ao dicionário criado e atualize a primeira chave com um novo valor, imprimindo-o na tela. Por fim, calcule a soma/concatenação entre os elementos da primeira e da segunda chave."
   ]
  },
  {
   "cell_type": "code",
   "execution_count": 21,
   "metadata": {},
   "outputs": [],
   "source": [
    "D = {'a': 'b', 'B': 'C', 1: 3, 4: 'ola'}"
   ]
  },
  {
   "cell_type": "code",
   "execution_count": 22,
   "metadata": {},
   "outputs": [
    {
     "name": "stdout",
     "output_type": "stream",
     "text": [
      "{'a': 'b', 'B': 'C', 1: 3, 4: 'ola'}\n"
     ]
    }
   ],
   "source": [
    "print(D)"
   ]
  },
  {
   "cell_type": "code",
   "execution_count": 24,
   "metadata": {},
   "outputs": [
    {
     "data": {
      "text/plain": [
       "{'a': 'b', 'B': 'C', 1: 3, 4: 'ola', 'add': 999}"
      ]
     },
     "execution_count": 24,
     "metadata": {},
     "output_type": "execute_result"
    }
   ],
   "source": [
    "D['add'] = 999\n",
    "D"
   ]
  },
  {
   "cell_type": "code",
   "execution_count": 29,
   "metadata": {},
   "outputs": [
    {
     "data": {
      "text/plain": [
       "{'a': 'KKKKKKKKKK', 'B': 'C', 1: 'a2', 4: 'ola', 'add': 999, 0: {'a2'}}"
      ]
     },
     "execution_count": 29,
     "metadata": {},
     "output_type": "execute_result"
    }
   ],
   "source": [
    "D['a'] = 'KKKKKKKKKK'\n",
    "D[0] = {'a2'}\n",
    "\n",
    "D"
   ]
  },
  {
   "cell_type": "markdown",
   "metadata": {},
   "source": [
    "#### Exercício 6 : Crie uma lista `L`  com quatro inteiros e então some o elemento da primeira com o da ultima posição, imprima o resultado na tela."
   ]
  },
  {
   "cell_type": "code",
   "execution_count": 30,
   "metadata": {},
   "outputs": [
    {
     "data": {
      "text/plain": [
       "[1, 7, 2, 3]"
      ]
     },
     "execution_count": 30,
     "metadata": {},
     "output_type": "execute_result"
    }
   ],
   "source": [
    "L = [1, 7, 2, 3]\n",
    "L"
   ]
  },
  {
   "cell_type": "code",
   "execution_count": 31,
   "metadata": {},
   "outputs": [
    {
     "data": {
      "text/plain": [
       "4"
      ]
     },
     "execution_count": 31,
     "metadata": {},
     "output_type": "execute_result"
    }
   ],
   "source": [
    "L[0] + L[-1]"
   ]
  },
  {
   "cell_type": "markdown",
   "metadata": {},
   "source": [
    "#### Exercício 7 : Defina dois objetos do tipo inteiros, calcule a divisão de um pelo outro e imprima na tela o resto dessa divisão."
   ]
  },
  {
   "cell_type": "code",
   "execution_count": 37,
   "metadata": {},
   "outputs": [],
   "source": [
    "x = 7 \n",
    "y = 9"
   ]
  },
  {
   "cell_type": "code",
   "execution_count": 39,
   "metadata": {},
   "outputs": [
    {
     "data": {
      "text/plain": [
       "0.7777777777777778"
      ]
     },
     "execution_count": 39,
     "metadata": {},
     "output_type": "execute_result"
    }
   ],
   "source": [
    "x/y"
   ]
  },
  {
   "cell_type": "code",
   "execution_count": 40,
   "metadata": {},
   "outputs": [
    {
     "data": {
      "text/plain": [
       "7"
      ]
     },
     "execution_count": 40,
     "metadata": {},
     "output_type": "execute_result"
    }
   ],
   "source": [
    "x%y"
   ]
  },
  {
   "cell_type": "markdown",
   "metadata": {},
   "source": [
    "#### Exercício 8 : Defina um objeto composto por uma sequência (>3) `strings` e imprima na tela a string multiplicada pelo númere de elementos que ela tiver."
   ]
  },
  {
   "cell_type": "code",
   "execution_count": 41,
   "metadata": {},
   "outputs": [],
   "source": [
    "S = []\n",
    "for i in range(12):\n",
    "    S.append(\"AKJAKJANL\")"
   ]
  },
  {
   "cell_type": "code",
   "execution_count": 44,
   "metadata": {},
   "outputs": [
    {
     "name": "stdout",
     "output_type": "stream",
     "text": [
      "['AKJAKJANL', 'AKJAKJANL', 'AKJAKJANL', 'AKJAKJANL', 'AKJAKJANL', 'AKJAKJANL', 'AKJAKJANL', 'AKJAKJANL', 'AKJAKJANL', 'AKJAKJANL', 'AKJAKJANL', 'AKJAKJANL', 'AKJAKJANL', 'AKJAKJANL', 'AKJAKJANL', 'AKJAKJANL', 'AKJAKJANL', 'AKJAKJANL', 'AKJAKJANL', 'AKJAKJANL', 'AKJAKJANL', 'AKJAKJANL', 'AKJAKJANL', 'AKJAKJANL', 'AKJAKJANL', 'AKJAKJANL', 'AKJAKJANL', 'AKJAKJANL', 'AKJAKJANL', 'AKJAKJANL', 'AKJAKJANL', 'AKJAKJANL', 'AKJAKJANL', 'AKJAKJANL', 'AKJAKJANL', 'AKJAKJANL', 'AKJAKJANL', 'AKJAKJANL', 'AKJAKJANL', 'AKJAKJANL', 'AKJAKJANL', 'AKJAKJANL', 'AKJAKJANL', 'AKJAKJANL', 'AKJAKJANL', 'AKJAKJANL', 'AKJAKJANL', 'AKJAKJANL', 'AKJAKJANL', 'AKJAKJANL', 'AKJAKJANL', 'AKJAKJANL', 'AKJAKJANL', 'AKJAKJANL', 'AKJAKJANL', 'AKJAKJANL', 'AKJAKJANL', 'AKJAKJANL', 'AKJAKJANL', 'AKJAKJANL', 'AKJAKJANL', 'AKJAKJANL', 'AKJAKJANL', 'AKJAKJANL', 'AKJAKJANL', 'AKJAKJANL', 'AKJAKJANL', 'AKJAKJANL', 'AKJAKJANL', 'AKJAKJANL', 'AKJAKJANL', 'AKJAKJANL', 'AKJAKJANL', 'AKJAKJANL', 'AKJAKJANL', 'AKJAKJANL', 'AKJAKJANL', 'AKJAKJANL', 'AKJAKJANL', 'AKJAKJANL', 'AKJAKJANL', 'AKJAKJANL', 'AKJAKJANL', 'AKJAKJANL', 'AKJAKJANL', 'AKJAKJANL', 'AKJAKJANL', 'AKJAKJANL', 'AKJAKJANL', 'AKJAKJANL', 'AKJAKJANL', 'AKJAKJANL', 'AKJAKJANL', 'AKJAKJANL', 'AKJAKJANL', 'AKJAKJANL', 'AKJAKJANL', 'AKJAKJANL', 'AKJAKJANL', 'AKJAKJANL', 'AKJAKJANL', 'AKJAKJANL', 'AKJAKJANL', 'AKJAKJANL', 'AKJAKJANL', 'AKJAKJANL', 'AKJAKJANL', 'AKJAKJANL', 'AKJAKJANL', 'AKJAKJANL', 'AKJAKJANL', 'AKJAKJANL', 'AKJAKJANL', 'AKJAKJANL', 'AKJAKJANL', 'AKJAKJANL', 'AKJAKJANL', 'AKJAKJANL', 'AKJAKJANL', 'AKJAKJANL', 'AKJAKJANL', 'AKJAKJANL', 'AKJAKJANL', 'AKJAKJANL', 'AKJAKJANL', 'AKJAKJANL', 'AKJAKJANL', 'AKJAKJANL', 'AKJAKJANL', 'AKJAKJANL', 'AKJAKJANL', 'AKJAKJANL', 'AKJAKJANL', 'AKJAKJANL', 'AKJAKJANL', 'AKJAKJANL', 'AKJAKJANL', 'AKJAKJANL', 'AKJAKJANL', 'AKJAKJANL', 'AKJAKJANL', 'AKJAKJANL', 'AKJAKJANL', 'AKJAKJANL']\n"
     ]
    }
   ],
   "source": [
    "print(S*len(S))"
   ]
  },
  {
   "cell_type": "markdown",
   "metadata": {},
   "source": [
    "#### A seguir um objeto a ser utilizado nas questões 9 e 10."
   ]
  },
  {
   "cell_type": "code",
   "execution_count": 45,
   "metadata": {},
   "outputs": [
    {
     "data": {
      "text/plain": [
       "'O céu não é só um chapéu azul que o mundo usa.'"
      ]
     },
     "execution_count": 45,
     "metadata": {},
     "output_type": "execute_result"
    }
   ],
   "source": [
    "x = 'O céu não é só um chapéu azul que o mundo usa.'\n",
    "x"
   ]
  },
  {
   "cell_type": "markdown",
   "metadata": {},
   "source": [
    "#### Exercício 9 : Dado o objeto `x` acima, faça um `slice` separando o trecho \"chapéu azul\" em um segundo objeto `y`  e imprima o resultado na tela."
   ]
  },
  {
   "cell_type": "code",
   "execution_count": 60,
   "metadata": {},
   "outputs": [
    {
     "data": {
      "text/plain": [
       "'chapéu azul'"
      ]
     },
     "execution_count": 60,
     "metadata": {},
     "output_type": "execute_result"
    }
   ],
   "source": [
    "y = x[len('O céu não é só um '):len('O céu não é só um chapéu azul')]\n",
    "y"
   ]
  },
  {
   "cell_type": "markdown",
   "metadata": {},
   "source": [
    "#### Exercício 10 :  Crie uma objeto `y` complementar à `x` e realize a concatenação dos objetos."
   ]
  },
  {
   "cell_type": "code",
   "execution_count": 61,
   "metadata": {},
   "outputs": [
    {
     "data": {
      "text/plain": [
       "'O céu não é só um chapéu azul que o mundo usa.chapéu azul'"
      ]
     },
     "execution_count": 61,
     "metadata": {},
     "output_type": "execute_result"
    }
   ],
   "source": [
    "y = x + y\n",
    "y"
   ]
  },
  {
   "cell_type": "code",
   "execution_count": null,
   "metadata": {},
   "outputs": [],
   "source": []
  },
  {
   "cell_type": "code",
   "execution_count": null,
   "metadata": {},
   "outputs": [],
   "source": []
  },
  {
   "cell_type": "code",
   "execution_count": null,
   "metadata": {},
   "outputs": [],
   "source": []
  }
 ],
 "metadata": {
  "kernelspec": {
   "display_name": "Python 3",
   "language": "python",
   "name": "python3"
  },
  "language_info": {
   "codemirror_mode": {
    "name": "ipython",
    "version": 3
   },
   "file_extension": ".py",
   "mimetype": "text/x-python",
   "name": "python",
   "nbconvert_exporter": "python",
   "pygments_lexer": "ipython3",
   "version": "3.8.5"
  }
 },
 "nbformat": 4,
 "nbformat_minor": 4
}
