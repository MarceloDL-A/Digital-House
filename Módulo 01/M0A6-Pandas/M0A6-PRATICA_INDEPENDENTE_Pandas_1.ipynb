{
 "cells": [
  {
   "cell_type": "markdown",
   "metadata": {},
   "source": [
    "# Prática Independente de Pandas 1."
   ]
  },
  {
   "cell_type": "markdown",
   "metadata": {},
   "source": [
    "### 1. Introdução.\n",
    "\n",
    "#### Diariamente, o Ministério da Saúde, por meio da Secretaria de Vigilância em Saúde (SVS/MS) divulga dados consolidados sobre o [COVID-19](https://covid.saude.gov.br/). Acesso o arquivo \"`HIST_PAINEL_COVIDBR_20mai2020.xlsx`\" e responda às questões a seguir."
   ]
  },
  {
   "cell_type": "markdown",
   "metadata": {},
   "source": [
    "#### Importamos os pacotes a serem usados."
   ]
  },
  {
   "cell_type": "code",
   "execution_count": 43,
   "metadata": {},
   "outputs": [],
   "source": [
    "import pandas as pd\n",
    "import numpy as np"
   ]
  },
  {
   "cell_type": "markdown",
   "metadata": {},
   "source": [
    "#### Importamos os dados a serem usados."
   ]
  },
  {
   "cell_type": "code",
   "execution_count": 44,
   "metadata": {},
   "outputs": [],
   "source": [
    "df = pd.read_excel(\"HIST_PAINEL_COVIDBR_20mai2020.xlsx\")"
   ]
  },
  {
   "cell_type": "code",
   "execution_count": 45,
   "metadata": {},
   "outputs": [
    {
     "name": "stdout",
     "output_type": "stream",
     "text": [
      "             regiao estado                    municipio  coduf    codmun  \\\n",
      "0            Brasil    NaN                          NaN     76       NaN   \n",
      "1930          Norte     RO        Alta Floresta D'Oeste     11  110001.0   \n",
      "1949          Norte     RO                    Ariquemes     11  110002.0   \n",
      "1990          Norte     RO                       Cacoal     11  110004.0   \n",
      "2011          Norte     RO              Espigão D'Oeste     11  110009.0   \n",
      "2031          Norte     RO                Guajará-Mirim     11  110010.0   \n",
      "2052          Norte     RO                         Jaru     11  110011.0   \n",
      "2103          Norte     RO                    Ji-Paraná     11  110012.0   \n",
      "2157          Norte     RO           Machadinho D'Oeste     11  110013.0   \n",
      "2171          Norte     RO     Nova Brasilândia D'Oeste     11  110014.0   \n",
      "2186          Norte     RO          Ouro Preto do Oeste     11  110015.0   \n",
      "2228          Norte     RO                Pimenta Bueno     11  110018.0   \n",
      "2253          Norte     RO                  Porto Velho     11  110020.0   \n",
      "2307          Norte     RO            Presidente Médici     11  110025.0   \n",
      "2312          Norte     RO                   Rio Crespo     11  110026.0   \n",
      "2316          Norte     RO               Rolim de Moura     11  110028.0   \n",
      "2361          Norte     RO          Santa Luzia D'Oeste     11  110029.0   \n",
      "2367          Norte     RO                      Vilhena     11  110030.0   \n",
      "2412          Norte     RO        São Miguel do Guaporé     11  110032.0   \n",
      "2421          Norte     RO                  Nova Mamoré     11  110033.0   \n",
      "2430          Norte     RO             Alvorada D'Oeste     11  110034.0   \n",
      "2445          Norte     RO      Alto Alegre dos Parecis     11  110037.0   \n",
      "2462          Norte     RO                 Alto Paraíso     11  110040.0   \n",
      "2494          Norte     RO                      Buritis     11  110045.0   \n",
      "2528          Norte     RO      Novo Horizonte do Oeste     11  110050.0   \n",
      "2549          Norte     RO                  Cacaulândia     11  110060.0   \n",
      "2558          Norte     RO       Campo Novo de Rondônia     11  110070.0   \n",
      "2577          Norte     RO           Candeias do Jamari     11  110080.0   \n",
      "2602          Norte     RO                      Cujubim     11  110094.0   \n",
      "2624          Norte     RO    Governador Jorge Teixeira     11  110100.0   \n",
      "...             ...    ...                          ...    ...       ...   \n",
      "95089  Centro-Oeste     GO               Padre Bernardo     52  521560.0   \n",
      "95096  Centro-Oeste     GO           Palmeiras de Goiás     52  521570.0   \n",
      "95107  Centro-Oeste     GO                 Palminópolis     52  521590.0   \n",
      "95120  Centro-Oeste     GO                 Paranaiguara     52  521630.0   \n",
      "95168  Centro-Oeste     GO                      Paraúna     52  521640.0   \n",
      "95206  Centro-Oeste     GO                  Piracanjuba     52  521710.0   \n",
      "95221  Centro-Oeste     GO                  Pirenópolis     52  521730.0   \n",
      "95222  Centro-Oeste     GO                 Pires do Rio     52  521740.0   \n",
      "95265  Centro-Oeste     GO                   Planaltina     52  521760.0   \n",
      "95296  Centro-Oeste     GO                    Porangatu     52  521800.0   \n",
      "95307  Centro-Oeste     GO                  Portelândia     52  521810.0   \n",
      "95309  Centro-Oeste     GO              Professor Jamil     52  521839.0   \n",
      "95350  Centro-Oeste     GO                 Quirinópolis     52  521850.0   \n",
      "95358  Centro-Oeste     GO                       Rialma     52  521860.0   \n",
      "95398  Centro-Oeste     GO                   Rianápolis     52  521870.0   \n",
      "95399  Centro-Oeste     GO                    Rio Verde     52  521880.0   \n",
      "95453  Centro-Oeste     GO            Santa Fé de Goiás     52  521925.0   \n",
      "95473  Centro-Oeste     GO        Santa Helena de Goiás     52  521930.0   \n",
      "95490  Centro-Oeste     GO       Santa Rita do Araguaia     52  521940.0   \n",
      "95493  Centro-Oeste     GO       Santo Antônio de Goiás     52  521973.0   \n",
      "95505  Centro-Oeste     GO  Santo Antônio do Descoberto     52  521975.0   \n",
      "95541  Centro-Oeste     GO     São Luís de Montes Belos     52  522010.0   \n",
      "95589  Centro-Oeste     GO                    São Simão     52  522040.0   \n",
      "95596  Centro-Oeste     GO               Senador Canedo     52  522045.0   \n",
      "95644  Centro-Oeste     GO                     Silvânia     52  522060.0   \n",
      "95741  Centro-Oeste     GO                       Uruaçu     52  522160.0   \n",
      "95763  Centro-Oeste     GO                       Urutaí     52  522180.0   \n",
      "95764  Centro-Oeste     GO          Valparaíso de Goiás     52  522185.0   \n",
      "95818  Centro-Oeste     GO                   Vianópolis     52  522200.0   \n",
      "95862  Centro-Oeste     DF                     Brasília     53  530010.0   \n",
      "\n",
      "       codRegiaoSaude   nomeRegiaoSaude        data  semanaEpi  \\\n",
      "0                 NaN               NaN  2020-02-26          9   \n",
      "1930          11005.0      Zona da Mata  2020-05-02         18   \n",
      "1949          11001.0    Vale do Jamari  2020-04-10         15   \n",
      "1990          11002.0              Café  2020-04-30         18   \n",
      "2011          11002.0              Café  2020-05-01         18   \n",
      "2031          11004.0    Madeira-Mamoré  2020-04-30         18   \n",
      "2052          11003.0           Central  2020-03-31         14   \n",
      "2103          11003.0           Central  2020-03-28         13   \n",
      "2157          11001.0    Vale do Jamari  2020-05-04         19   \n",
      "2171          11005.0      Zona da Mata  2020-05-06         19   \n",
      "2186          11003.0           Central  2020-04-08         15   \n",
      "2228          11002.0              Café  2020-04-26         18   \n",
      "2253          11004.0    Madeira-Mamoré  2020-03-28         13   \n",
      "2307          11003.0           Central  2020-05-12         20   \n",
      "2312          11001.0    Vale do Jamari  2020-05-17         21   \n",
      "2316          11005.0      Zona da Mata  2020-04-06         15   \n",
      "2361          11005.0      Zona da Mata  2020-05-15         20   \n",
      "2367          11006.0          Cone Sul  2020-04-06         15   \n",
      "2412          11003.0           Central  2020-05-12         20   \n",
      "2421          11004.0    Madeira-Mamoré  2020-05-12         20   \n",
      "2430          11003.0           Central  2020-05-06         19   \n",
      "2445          11005.0      Zona da Mata  2020-05-04         19   \n",
      "2462          11001.0    Vale do Jamari  2020-04-19         17   \n",
      "2494          11001.0    Vale do Jamari  2020-04-17         16   \n",
      "2528          11005.0      Zona da Mata  2020-04-30         18   \n",
      "2549          11001.0    Vale do Jamari  2020-05-12         20   \n",
      "2558          11001.0    Vale do Jamari  2020-05-02         18   \n",
      "2577          11004.0    Madeira-Mamoré  2020-04-26         18   \n",
      "2602          11001.0    Vale do Jamari  2020-04-29         18   \n",
      "2624          11003.0           Central  2020-04-30         18   \n",
      "...               ...               ...         ...        ...   \n",
      "95089         52018.0   São Patrício II  2020-05-09         19   \n",
      "95096         52010.0          Oeste II  2020-05-10         20   \n",
      "95107         52010.0          Oeste II  2020-05-08         19   \n",
      "95120         52015.0        Sudoeste I  2020-03-31         14   \n",
      "95168         52010.0          Oeste II  2020-04-13         16   \n",
      "95206         52002.0        Centro Sul  2020-05-06         19   \n",
      "95221         52011.0          Pirineus  2020-04-12         16   \n",
      "95222         52005.0  Estrada de Ferro  2020-04-08         15   \n",
      "95265         52003.0     Entorno Norte  2020-04-20         17   \n",
      "95296         52008.0             Norte  2020-05-10         20   \n",
      "95307         52016.0       Sudoeste II  2020-05-19         21   \n",
      "95309         52002.0        Centro Sul  2020-04-10         15   \n",
      "95350         52015.0        Sudoeste I  2020-05-13         20   \n",
      "95358         52013.0    São Patrício I  2020-04-11         15   \n",
      "95398         52013.0    São Patrício I  2020-05-20         21   \n",
      "95399         52015.0        Sudoeste I  2020-03-28         13   \n",
      "95453         52012.0      Rio Vermelho  2020-04-30         18   \n",
      "95473         52015.0        Sudoeste I  2020-04-25         17   \n",
      "95490         52016.0       Sudoeste II  2020-05-18         21   \n",
      "95493         52001.0           Central  2020-05-09         19   \n",
      "95505         52004.0       Entorno Sul  2020-04-15         16   \n",
      "95541         52010.0          Oeste II  2020-04-03         14   \n",
      "95589         52015.0        Sudoeste I  2020-05-14         20   \n",
      "95596         52002.0        Centro Sul  2020-04-03         14   \n",
      "95644         52002.0        Centro Sul  2020-03-28         13   \n",
      "95741         52014.0     Serra da Mesa  2020-04-12         16   \n",
      "95763         52005.0  Estrada de Ferro  2020-04-27         18   \n",
      "95764         52004.0       Entorno Sul  2020-03-28         13   \n",
      "95818         52002.0        Centro Sul  2020-04-07         15   \n",
      "95862         53001.0          Brasília  2020-03-28         13   \n",
      "\n",
      "       populacaoTCU2019  casosAcumulado  obitosAcumulado  Recuperadosnovos  \\\n",
      "0           210147125.0               1                0               NaN   \n",
      "1930            22945.0               1                0               NaN   \n",
      "1949           107863.0               2                0               NaN   \n",
      "1990            85359.0               1                0               NaN   \n",
      "2011            32374.0               1                0               NaN   \n",
      "2031            46174.0               4                1               NaN   \n",
      "2052            51775.0               1                0               NaN   \n",
      "2103           128969.0               1                0               NaN   \n",
      "2157            39991.0               1                0               NaN   \n",
      "2171            20474.0               2                0               NaN   \n",
      "2186            36035.0               1                0               NaN   \n",
      "2228            36660.0               1                0               NaN   \n",
      "2253           529544.0               5                0               NaN   \n",
      "2307            18986.0               1                0               NaN   \n",
      "2312             3764.0               2                0               NaN   \n",
      "2316            55058.0               1                0               NaN   \n",
      "2361             6495.0               2                0               NaN   \n",
      "2367            99854.0               1                0               NaN   \n",
      "2412            23005.0               1                0               NaN   \n",
      "2421            30583.0               2                0               NaN   \n",
      "2430            14411.0               1                0               NaN   \n",
      "2445            13241.0               2                0               NaN   \n",
      "2462            21428.0               1                0               NaN   \n",
      "2494            39654.0               1                0               NaN   \n",
      "2528             8538.0               1                0               NaN   \n",
      "2549             6230.0               1                0               NaN   \n",
      "2558            14139.0               1                1               NaN   \n",
      "2577            26693.0               1                0               NaN   \n",
      "2602            25215.0               1                1               NaN   \n",
      "2624             7767.0               3                0               NaN   \n",
      "...                 ...             ...              ...               ...   \n",
      "95089           33835.0               1                0               NaN   \n",
      "95096           28858.0               4                0               NaN   \n",
      "95107            3585.0               1                0               NaN   \n",
      "95120           10057.0               1                0               NaN   \n",
      "95168           10988.0               1                1               NaN   \n",
      "95206           24524.0               2                1               NaN   \n",
      "95221           24908.0               1                0               NaN   \n",
      "95222           31458.0               1                1               NaN   \n",
      "95265           89918.0               1                0               NaN   \n",
      "95296           45394.0               1                0               NaN   \n",
      "95307            4011.0               1                0               NaN   \n",
      "95309            3223.0               1                0               NaN   \n",
      "95350           50065.0               1                0               NaN   \n",
      "95358           10918.0               2                0               NaN   \n",
      "95398            4801.0               1                0               NaN   \n",
      "95399          235647.0               7                0               NaN   \n",
      "95453            5459.0               1                0               NaN   \n",
      "95473           38648.0               1                0               NaN   \n",
      "95490            8756.0               1                0               NaN   \n",
      "95493            6283.0               1                0               NaN   \n",
      "95505           74744.0               1                0               NaN   \n",
      "95541           33817.0               1                0               NaN   \n",
      "95589           20645.0               1                0               NaN   \n",
      "95596          115371.0               1                0               NaN   \n",
      "95644           20695.0               1                0               NaN   \n",
      "95741           40532.0               1                0               NaN   \n",
      "95763            3072.0               1                0               NaN   \n",
      "95764          168468.0               2                0               NaN   \n",
      "95818           13863.0               1                0               NaN   \n",
      "95862         3015268.0             260                0               NaN   \n",
      "\n",
      "       emAcompanhamentoNovos  \n",
      "0                        NaN  \n",
      "1930                     NaN  \n",
      "1949                     NaN  \n",
      "1990                     NaN  \n",
      "2011                     NaN  \n",
      "2031                     NaN  \n",
      "2052                     NaN  \n",
      "2103                     NaN  \n",
      "2157                     NaN  \n",
      "2171                     NaN  \n",
      "2186                     NaN  \n",
      "2228                     NaN  \n",
      "2253                     NaN  \n",
      "2307                     NaN  \n",
      "2312                     NaN  \n",
      "2316                     NaN  \n",
      "2361                     NaN  \n",
      "2367                     NaN  \n",
      "2412                     NaN  \n",
      "2421                     NaN  \n",
      "2430                     NaN  \n",
      "2445                     NaN  \n",
      "2462                     NaN  \n",
      "2494                     NaN  \n",
      "2528                     NaN  \n",
      "2549                     NaN  \n",
      "2558                     NaN  \n",
      "2577                     NaN  \n",
      "2602                     NaN  \n",
      "2624                     NaN  \n",
      "...                      ...  \n",
      "95089                    NaN  \n",
      "95096                    NaN  \n",
      "95107                    NaN  \n",
      "95120                    NaN  \n",
      "95168                    NaN  \n",
      "95206                    NaN  \n",
      "95221                    NaN  \n",
      "95222                    NaN  \n",
      "95265                    NaN  \n",
      "95296                    NaN  \n",
      "95307                    NaN  \n",
      "95309                    NaN  \n",
      "95350                    NaN  \n",
      "95358                    NaN  \n",
      "95398                    NaN  \n",
      "95399                    NaN  \n",
      "95453                    NaN  \n",
      "95473                    NaN  \n",
      "95490                    NaN  \n",
      "95493                    NaN  \n",
      "95505                    NaN  \n",
      "95541                    NaN  \n",
      "95589                    NaN  \n",
      "95596                    NaN  \n",
      "95644                    NaN  \n",
      "95741                    NaN  \n",
      "95763                    NaN  \n",
      "95764                    NaN  \n",
      "95818                    NaN  \n",
      "95862                    NaN  \n",
      "\n",
      "[3430 rows x 14 columns]\n"
     ]
    }
   ],
   "source": [
    "print(df.drop_duplicates(subset = \"municipio\"))"
   ]
  },
  {
   "cell_type": "markdown",
   "metadata": {},
   "source": [
    "#### Exercício 1.1: Faça um slice no dataframe para considerar apenas os dados do estado de São Paulo."
   ]
  },
  {
   "cell_type": "code",
   "execution_count": 46,
   "metadata": {},
   "outputs": [
    {
     "name": "stdout",
     "output_type": "stream",
     "text": [
      "       regiao estado municipio  coduf  codmun  codRegiaoSaude nomeRegiaoSaude  \\\n",
      "1359  Sudeste     SP       NaN     35     NaN             NaN             NaN   \n",
      "1360  Sudeste     SP       NaN     35     NaN             NaN             NaN   \n",
      "1361  Sudeste     SP       NaN     35     NaN             NaN             NaN   \n",
      "1362  Sudeste     SP       NaN     35     NaN             NaN             NaN   \n",
      "1363  Sudeste     SP       NaN     35     NaN             NaN             NaN   \n",
      "\n",
      "            data  semanaEpi  populacaoTCU2019  casosAcumulado  \\\n",
      "1359  2020-02-26          9        45919049.0               1   \n",
      "1360  2020-02-27          9        45919049.0               1   \n",
      "1361  2020-02-28          9        45919049.0               1   \n",
      "1362  2020-02-29          9        45919049.0               2   \n",
      "1363  2020-03-01         10        45919049.0               2   \n",
      "\n",
      "      obitosAcumulado  Recuperadosnovos  emAcompanhamentoNovos  \n",
      "1359                0               NaN                    NaN  \n",
      "1360                0               NaN                    NaN  \n",
      "1361                0               NaN                    NaN  \n",
      "1362                0               NaN                    NaN  \n",
      "1363                0               NaN                    NaN  \n"
     ]
    }
   ],
   "source": [
    "df_sp = df[df[\"estado\"] == \"SP\"]\n",
    "print(df_sp.head())"
   ]
  },
  {
   "cell_type": "markdown",
   "metadata": {},
   "source": [
    "#### Exercício 1.2: Selecione também um dataset contendo apenas os dados para a capital de SP."
   ]
  },
  {
   "cell_type": "code",
   "execution_count": 52,
   "metadata": {},
   "outputs": [
    {
     "name": "stdout",
     "output_type": "stream",
     "text": [
      "Empty DataFrame\n",
      "Columns: [regiao, estado, municipio, coduf, codmun, codRegiaoSaude, nomeRegiaoSaude, data, semanaEpi, populacaoTCU2019, casosAcumulado, obitosAcumulado, Recuperadosnovos, emAcompanhamentoNovos]\n",
      "Index: []\n"
     ]
    }
   ],
   "source": [
    "#print(df_sp[df_sp[\"municipio\"].str.startswith(\"S\", na = False)])\n",
    "df_spsp = df_sp[df_sp[\"municipio\"] == \"São Paulo\"]\n",
    "print(df_spsp)"
   ]
  },
  {
   "cell_type": "markdown",
   "metadata": {},
   "source": [
    "### 2. Explorando o dataset."
   ]
  },
  {
   "cell_type": "markdown",
   "metadata": {},
   "source": [
    "#### Exercício 2.1. Quantas filas e quantas colunas o dataset tem?"
   ]
  },
  {
   "cell_type": "code",
   "execution_count": null,
   "metadata": {},
   "outputs": [],
   "source": []
  },
  {
   "cell_type": "markdown",
   "metadata": {},
   "source": [
    "#### Exercício 2.2 Que informação o dataset tem? Imprima o nome das colunas."
   ]
  },
  {
   "cell_type": "code",
   "execution_count": null,
   "metadata": {},
   "outputs": [],
   "source": []
  },
  {
   "cell_type": "markdown",
   "metadata": {},
   "source": [
    "#### Exercício 2.3: Como o dataset está indexado?"
   ]
  },
  {
   "cell_type": "code",
   "execution_count": null,
   "metadata": {},
   "outputs": [],
   "source": []
  },
  {
   "cell_type": "markdown",
   "metadata": {},
   "source": [
    "#### Exercício 2.4: Qual é o tipo da quarta coluna?"
   ]
  },
  {
   "cell_type": "code",
   "execution_count": null,
   "metadata": {},
   "outputs": [],
   "source": []
  },
  {
   "cell_type": "markdown",
   "metadata": {},
   "source": [
    "#### Exercício 2.5: Qual é o município com o maior número de instâncias no dataset?"
   ]
  },
  {
   "cell_type": "code",
   "execution_count": null,
   "metadata": {},
   "outputs": [],
   "source": []
  },
  {
   "cell_type": "markdown",
   "metadata": {},
   "source": [
    "#### Exercício 2.6: Como os nomes das regiões de saúde estão distribuídos no dataset? "
   ]
  },
  {
   "cell_type": "code",
   "execution_count": null,
   "metadata": {},
   "outputs": [],
   "source": []
  },
  {
   "cell_type": "markdown",
   "metadata": {},
   "source": [
    "#### Exercício 2.7: Qual é o número de casos acumulados na capital de SP, no dia 2020-03-31? "
   ]
  },
  {
   "cell_type": "code",
   "execution_count": null,
   "metadata": {},
   "outputs": [],
   "source": []
  },
  {
   "cell_type": "markdown",
   "metadata": {},
   "source": [
    "#### Exercício 2.8: Qual é o número total de casos acumulados para todas as cidades do estado de SP, no dia 2020-03-31? "
   ]
  },
  {
   "cell_type": "code",
   "execution_count": null,
   "metadata": {},
   "outputs": [],
   "source": []
  },
  {
   "cell_type": "markdown",
   "metadata": {},
   "source": [
    "#### Exercício 2.9: Qual é o valor médio de \"semanaEpi\"  durante todo o período? "
   ]
  },
  {
   "cell_type": "code",
   "execution_count": null,
   "metadata": {},
   "outputs": [],
   "source": []
  },
  {
   "cell_type": "code",
   "execution_count": null,
   "metadata": {},
   "outputs": [],
   "source": []
  },
  {
   "cell_type": "markdown",
   "metadata": {},
   "source": [
    "### 3. Indexando e organizando os dados."
   ]
  },
  {
   "cell_type": "markdown",
   "metadata": {},
   "source": [
    "#### Exercício 3.1:  Selecionar  valores não duplicados para as coluna 'municipio','coduf', 'codmun', 'codRegiaoSaude' e atribuí-las a um objeto novo chamado 'covid19SPMunicipios'."
   ]
  },
  {
   "cell_type": "code",
   "execution_count": null,
   "metadata": {},
   "outputs": [],
   "source": []
  },
  {
   "cell_type": "markdown",
   "metadata": {},
   "source": [
    "#### Exercício 3.2:  Selecionar as primeiras 20 filas de 'covid19SPMunicipios'"
   ]
  },
  {
   "cell_type": "code",
   "execution_count": null,
   "metadata": {},
   "outputs": [],
   "source": []
  },
  {
   "cell_type": "markdown",
   "metadata": {},
   "source": [
    "#### Exercício 3.3:  Selecionar uma amostra aleatória de 100 filas de 'covid19SPMunicipios'"
   ]
  },
  {
   "cell_type": "code",
   "execution_count": null,
   "metadata": {},
   "outputs": [],
   "source": []
  },
  {
   "cell_type": "markdown",
   "metadata": {},
   "source": [
    "#### Exercício 3.4: Escolher todas as colunas, exceto 'coduf'. Utilize a propriedade columns para filtrar na dimensão das colunas."
   ]
  },
  {
   "cell_type": "code",
   "execution_count": null,
   "metadata": {},
   "outputs": [],
   "source": []
  },
  {
   "cell_type": "markdown",
   "metadata": {},
   "source": [
    "#### Exercício 3.5: Organizar o dataset dos municípios segundo a população, de forma decrescente."
   ]
  },
  {
   "cell_type": "code",
   "execution_count": null,
   "metadata": {
    "scrolled": true
   },
   "outputs": [],
   "source": []
  },
  {
   "cell_type": "markdown",
   "metadata": {},
   "source": [
    "#### Exercício 3.6: Qual é a população média da população dos municípios, despois de excluirmos aqueles cujas populações são menores que 10000000 e maiores que 500000 habitantes?"
   ]
  },
  {
   "cell_type": "code",
   "execution_count": null,
   "metadata": {},
   "outputs": [],
   "source": []
  }
 ],
 "metadata": {
  "kernelspec": {
   "display_name": "Python 2",
   "language": "python",
   "name": "python2"
  },
  "language_info": {
   "codemirror_mode": {
    "name": "ipython",
    "version": 2
   },
   "file_extension": ".py",
   "mimetype": "text/x-python",
   "name": "python",
   "nbconvert_exporter": "python",
   "pygments_lexer": "ipython2",
   "version": "2.7.16"
  }
 },
 "nbformat": 4,
 "nbformat_minor": 2
}
