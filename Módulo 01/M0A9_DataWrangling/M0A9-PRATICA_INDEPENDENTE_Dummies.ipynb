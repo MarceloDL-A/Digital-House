{
 "cells": [
  {
   "cell_type": "markdown",
   "metadata": {},
   "source": [
    "# Prática Independente - Variáveis dummies.\n",
    "\n",
    "### Dataset cereais\n",
    "\n",
    "O dataset a seguir contém informação sobre diferentes cereais.\n",
    "\n",
    "As categorias nas colunas são:\n",
    "       \n",
    "   * **name** : Nome do fabricante\n",
    "      * A = American Home Food Products\n",
    "      * G = General Mills\n",
    "      * K = Kelloggs\n",
    "      * N = Nabisco\n",
    "      * P = Post\n",
    "      * Q = Quaker Oats\n",
    "      * R = Ralston Purina \n",
    "   \n",
    "   \n",
    "   * **type**:\n",
    "      * C = frio  \n",
    "      * H = quente \n",
    "        \n",
    "   \n",
    "   * **calories**: calorias por porção\n",
    "   * **protein**: gramas de proteínas\n",
    "   * **fat**: gramas de gordura\n",
    "   * **sodium**: miligramas de sódio\n",
    "   * **fiber**: gramas de fibra dietética\n",
    "   * **arbo**: gramas de açúcares complexos\n",
    "   * **sugars**: gramas de açúcares simples\n",
    "   * **potass**: miligramas de K\n",
    "   * **vitamins**: vitaminas e minerais - 0, 25, ou 100, indicando a % recomendado pela FDA.\n",
    "   * **shelf**: display shelf (1, 2, or 3, counting from the floor)\n",
    "   * **weight**: peso en onças de uma porção\n",
    "   * **cups**: número de copos em uma porção \n",
    "   * **rating**: classificação dos cereais (Possibly from Consumer Reports?)\n",
    "        \n",
    "A partir desta informação:\n",
    "     \n",
    "  * Caracterizar o tipo de dado de cada coluna (_string, int, float_) e,\n",
    "  * Reconhecer o tipo variável (_contínua, categórica_)."
   ]
  },
  {
   "cell_type": "markdown",
   "metadata": {},
   "source": [
    "### Ler o Arquivo 'cereal.csv'."
   ]
  },
  {
   "cell_type": "code",
   "execution_count": null,
   "metadata": {},
   "outputs": [],
   "source": []
  },
  {
   "cell_type": "markdown",
   "metadata": {},
   "source": [
    "#### Exercício 1: Imprimir 5 amostras para reconhecimento de dados. Coincidem com as caracterizações realizadas?"
   ]
  },
  {
   "cell_type": "code",
   "execution_count": null,
   "metadata": {},
   "outputs": [],
   "source": []
  },
  {
   "cell_type": "markdown",
   "metadata": {},
   "source": [
    "#### Exercício 2: Escolher uma coluna categórica e converter em uma variável dummie, a função `pd.get_dummies()` pode ser usada.\n"
   ]
  },
  {
   "cell_type": "code",
   "execution_count": null,
   "metadata": {},
   "outputs": [],
   "source": []
  },
  {
   "cell_type": "markdown",
   "metadata": {},
   "source": [
    "#### Exercício 3: Pegar a coluna de fabricante, transformar a variável dummie e contar quantos produtos são pertencem à marca \"Kellogg's\"."
   ]
  },
  {
   "cell_type": "code",
   "execution_count": null,
   "metadata": {},
   "outputs": [],
   "source": []
  },
  {
   "cell_type": "markdown",
   "metadata": {},
   "source": [
    "#### Exercício 4: Organizar os fabricantes por quantidade de produtos em ordem decrescente e apresentá-los em um gráfico."
   ]
  },
  {
   "cell_type": "code",
   "execution_count": null,
   "metadata": {},
   "outputs": [],
   "source": []
  },
  {
   "cell_type": "markdown",
   "metadata": {},
   "source": [
    "#### Exercício 5: Pegar as colunas `mfr` e `type`, convertê-las em variáveis dummies simultaneamente e obter uma descrição desse dataframe. Lembre-se que a função `.get_dummies()` permite pegar mais de uma coluna, por exemplo, usando slicing. "
   ]
  },
  {
   "cell_type": "code",
   "execution_count": null,
   "metadata": {},
   "outputs": [],
   "source": []
  },
  {
   "cell_type": "code",
   "execution_count": null,
   "metadata": {},
   "outputs": [],
   "source": []
  }
 ],
 "metadata": {
  "kernelspec": {
   "display_name": "Python 3",
   "language": "python",
   "name": "python3"
  },
  "language_info": {
   "codemirror_mode": {
    "name": "ipython",
    "version": 3
   },
   "file_extension": ".py",
   "mimetype": "text/x-python",
   "name": "python",
   "nbconvert_exporter": "python",
   "pygments_lexer": "ipython3",
   "version": "3.7.6"
  }
 },
 "nbformat": 4,
 "nbformat_minor": 2
}
