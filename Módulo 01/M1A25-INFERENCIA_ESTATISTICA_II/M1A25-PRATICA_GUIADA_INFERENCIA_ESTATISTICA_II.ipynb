{
 "cells": [
  {
   "cell_type": "markdown",
   "metadata": {},
   "source": [
    "# Prática Guiada - Inferência Estatística II."
   ]
  },
  {
   "cell_type": "markdown",
   "metadata": {},
   "source": [
    "# Estatística paramétrica vs. não paramétrica"
   ]
  },
  {
   "cell_type": "markdown",
   "metadata": {},
   "source": [
    "#### A [Estatística paramétrica](https://en.wikipedia.org/wiki/Parametric_statistics) assume certas coisas sobre a população que estamos estudando e nos permite modelar probabilidades com um conjunto fixo de parâmetros. Por exemplo, uma distribuição normal tem dois parâmetros: a média e o desvio padrão.\n",
    "\n",
    "#### Normalmente, os métodos paramétricos são aplicados nos casos em que a população é aproximadamente normal ou pode ser aproximada usando uma distribuição normal por meio do [teorema do limite central](https://tutorials.methodsconsultants.com/posts/the-central-limit-theorem-and-its-implications-for-statistical-inference/).\n",
    "\n",
    "#### Suposições paramétricas comuns:\n",
    "\n",
    "- Intervalo de confiança para uma média populacional, com desvio padrão conhecido\n",
    "- Intervalo de confiança para uma média populacional, com desvio padrão desconhecido.\n",
    "- Intervalo de confiança para uma variação populacional.\n",
    "- Intervalo de confiança para a diferença de duas médias, com desvio padrão desconhecido.\n",
    "\n",
    "#### Métodos paramétricos:\n",
    "\n",
    "- [t-test](https://rpsychologist.com/d3/tdist/).\n",
    "- [Pearson correlation test](https://www.statisticssolutions.com/pearsons-correlation-coefficient/#:~:text=Pearson's%20correlation%20coefficient%20is%20the,on%20the%20method%20of%20covariance.).\n",
    "\n",
    "#### A [Estatística não paramétrica](https://www.investopedia.com/terms/n/nonparametric-statistics.asp#:~:text=Nonparametric%20statistics%20refers%20to%20a,and%20the%20linear%20regression%20model.) não se baseia apenas em famílias parametrizadas de distribuições de probabilidade (parâmetros como média e variância). As estatísticas não paramétricas é baseada em ser livre de distribuição ou possuirem uma distribuição especívica, mas com parâmetros de distribuição não especificados. As estatísticas não paramétricas incluem estatísticas descritivas e inferência estatística.\n",
    "\n",
    "#### Modelos não paramétricos:\n",
    "\n",
    "- Um histograma é uma estimativa não paramétrica simples de uma distribuição de probabilidade.\n",
    "- O [Kernel density estimation](https://www.real-statistics.com/distribution-fitting/kernel-density-estimation/) fornece melhores estimativas da densidade do que os histogramas.\n",
    "- O [K Nearest Neighbors](https://towardsdatascience.com/a-simple-introduction-to-k-nearest-neighbors-algorithm-b3519ed98e#:~:text=K%20Nearest%20Neighbour%20is%20a,how%20its%20neighbours%20are%20classified.) classificam a instância não vista com base nos K pontos do conjunto de treinamento que estão mais próximos a ela.\n",
    "- Uma [support vector machine](https://towardsdatascience.com/support-vector-machines-svm-c9ef22815589) (com um kernel gaussiano) é um classificador não paramétrico de grande margem.\n",
    "\n",
    "#### Métodos não paramétricos:\n",
    "\n",
    "- [chi-squared test](https://towardsdatascience.com/the-chi-squared-test-statistic-is-a-must-for-every-data-scientist-a-case-study-in-customer-churn-bcdb17bbafb7).\n",
    "- [Sign test](https://www.statisticssolutions.com/non-parametric-analysis-sign-test/#:~:text=This%20test%20uses%20the%20%2B%20and,equal%20to%20the%20sample%20mean.) for population mean.\n",
    "- [Bootstrapping techniques](https://towardsdatascience.com/bootstrapping-statistics-what-it-is-and-why-its-used-e2fa29577307).\n",
    "- [U test for two independent means](https://towardsdatascience.com/determine-if-two-distributions-are-significantly-different-using-the-mann-whitney-u-test-1f79aa249ffb)\n",
    "- [Spearman correlation test](https://towardsdatascience.com/the-subtlety-of-spearmans-rank-correlation-coefficient-29478653bbb9)."
   ]
  },
  {
   "cell_type": "markdown",
   "metadata": {},
   "source": [
    "# O Teorema do Limite Central, distribuições-t e testes-t.\n",
    "\n",
    "#### O [Teorema do Limite Central](https://statisticsbyjim.com/basics/central-limit-theorem/) afirma que, independentemente da distribuição de uma medida contínua em uma população, as médias das amostras aleatórias repetidas dessa população serão distribuídas normalmente. Com tamanhos de amostra maiores, a distribuição das médias da amostra se aproximará mais de uma distribuição normal e se agrupará mais firmemente em torno da média da população.\n",
    "\n",
    "#### O [t-score](https://towardsdatascience.com/the-statistical-analysis-t-test-explained-for-beginners-and-experts-fd0e358bbb62) de amostras repetidas de uma população são distribuídos de acordo com a distribuição-t ([t-distribution](https://towardsdatascience.com/the-student-t-distribution-7575b18fbd23)). A distribuição-t tem um parâmetro, seus [graus de liberdade](https://statisticsbyjim.com/hypothesis-testing/degrees-freedom-statistics/#:~:text=Typically%2C%20the%20degrees%20of%20freedom,parameters%20you%20need%20to%20estimate.), definido como `sample_size - 1` ou` sample_1_size + sample_2_size - 2` para testes de duas amostras. Com tamanhos de amostra maiores, a distribuição-t convergirá em uma [distribuição normal padrão](https://www.jmp.com/en_us/statistics-knowledge-portal/t-test/t-distribution.html#:~:text=The%20normal%20distribution%20assumes%20that%20the%20population%20standard%20deviation%20is%20known.&text=The%20t%2Ddistribution%20is%20defined,is%20not%20known%2C%20or%20both.) (média 0, desvio padrão 1).\n",
    "\n",
    "#### Como regra geral, tamanhos de amostra maiores que $30$ itens produzirão uma distribuição-t normal suficientemente padrão.\n",
    "\n",
    "#### Um teste-t mais comumente compara a média e a variância de uma ou duas amostras para determinar se elas são significativamente diferentes e não devido ao acaso. Em um  teste-t, a variável dependente é contínua (intervalo / razão) e a variável independente é categórica / nominal.\n",
    "\n",
    "#### Cada `test-t` retorna um único `t-score`. Comparamos este `t-score` com o [critical t-value](https://towardsdatascience.com/statistical-tests-when-to-use-which-704557554740), que é o valor abaixo (se for negativo t-crítico) ou acima do qual a área sob nossa t-distribuição é igual ao nosso valor de confiança desejado, geralmente $0,05$. Dependendo de nossa hipótese, rejeitamos a hipótese nula se nosso `t-score` estiver abaixo e / ou acima do `critical t-value`.\n",
    "\n",
    "#### O `t-test` vem em três variantes:\n",
    "\n",
    "- [Testes de uma amostra](https://www.statisticssolutions.com/manova-analysis-one-sample-t-test/): Comparam os resultados de uma única amostra com uma população conhecida ou hipotética. \n",
    "- [Testes de duas amostras](https://www.jmp.com/en_ch/statistics-knowledge-portal/t-test/two-sample-t-test.html): Comparam duas amostras diferentes e _independentes_ entre si. \n",
    "- [Testes emparelhados](https://www.statisticssolutions.com/manova-analysis-paired-sample-t-test/#:~:text=The%20paired%20sample%20t%2Dtest,resulting%20in%20pairs%20of%20observations.): São um tipo especial de testes de duas amostras em que, para controlar outras variáveis, as observações são emparelhadas e as diferenças entre essas observações em pares tornam-se a amostra.\n",
    "\n",
    "#### Examplos:\n",
    "\n",
    "- One-sample test:\n",
    "    - Uma pesquisa perguntando se os entrevistados preferem Coca ou Pepsi, modelada como $0$ ou $1$. A hipótese nula da população média seria $0.5$ (mostrado neste caderno).\n",
    "\n",
    "- Two-sample test\n",
    "    - Se fumantes e não fumantes (variável independente) têm tamanhos diferentes do lobo frontal do cérebro (variável dependente)\n",
    "    \n",
    "    - Se democratas e republicanos (variável independente) votam de maneira diferente em um determinado tópico (variável dependente)(mostrado neste caderno)."
   ]
  },
  {
   "cell_type": "markdown",
   "metadata": {
    "colab_type": "text",
    "id": "FMhDKOFND0qY"
   },
   "source": [
    "### O que está disponível no [SciPy]()?\n",
    "\n",
    "#### À medida que investigamos as estatísticas, usaremos mais bibliotecas - em particular a [stats package from SciPy](https://docs.scipy.org/doc/scipy/reference/tutorial/stats.html)."
   ]
  },
  {
   "cell_type": "code",
   "execution_count": 1,
   "metadata": {
    "colab": {
     "base_uri": "https://localhost:8080/",
     "height": 4070
    },
    "colab_type": "code",
    "id": "fQ9rkLJmEbsk",
    "outputId": "b0d31e12-e690-4663-fba5-f3431af850fc"
   },
   "outputs": [],
   "source": [
    "import random\n",
    "import math\n",
    "\n",
    "import matplotlib.pyplot as plt\n",
    "import numpy as np\n",
    "import pandas as pd\n",
    "from scipy import stats\n",
    "\n",
    "#[name for name in dir(stats) if not name.startswith('_')]"
   ]
  },
  {
   "cell_type": "markdown",
   "metadata": {},
   "source": [
    "#### Como de costume, muitas coisas aqui, vamos criar uma função para descrever as principais medidas de tenência central."
   ]
  },
  {
   "cell_type": "code",
   "execution_count": 2,
   "metadata": {
    "colab": {
     "base_uri": "https://localhost:8080/",
     "height": 489
    },
    "colab_type": "code",
    "id": "bxW4SG_gJGlZ",
    "outputId": "2e896ab5-309c-4c0b-a0d0-7338910db244"
   },
   "outputs": [],
   "source": [
    "def describe(x):\n",
    "    print(f'mean: {x.mean()}')\n",
    "    print(f'std:  {x.std()}')\n",
    "    print(f'var:  {x.var()}')\n"
   ]
  },
  {
   "cell_type": "markdown",
   "metadata": {},
   "source": [
    "#### Tomamos uma distribuição normal:"
   ]
  },
  {
   "cell_type": "code",
   "execution_count": 3,
   "metadata": {},
   "outputs": [
    {
     "name": "stdout",
     "output_type": "stream",
     "text": [
      "norm\n",
      "mean: 0.0\n",
      "std:  1.0\n",
      "var:  1.0\n"
     ]
    }
   ],
   "source": [
    "norm_dist = stats.norm()\n",
    "print('norm')\n",
    "describe(norm_dist)"
   ]
  },
  {
   "cell_type": "markdown",
   "metadata": {},
   "source": [
    "#### Aqui comparamos uma distribuição-t com uma distribuição normal, em que $5$ é a \"forma\" do parâmetro grau de liberdade (degree of freedom `df`)."
   ]
  },
  {
   "cell_type": "code",
   "execution_count": 4,
   "metadata": {},
   "outputs": [
    {
     "name": "stdout",
     "output_type": "stream",
     "text": [
      "t\n",
      "mean: 0.0\n",
      "std:  1.2909944487358056\n",
      "var:  1.6666666666666667\n"
     ]
    },
    {
     "data": {
      "image/png": "[encoded data removed]",
      "text/plain": [
       "<Figure size 432x288 with 1 Axes>"
      ]
     },
     "metadata": {
      "needs_background": "light"
     },
     "output_type": "display_data"
    }
   ],
   "source": [
    "t_dist = stats.t(5)\n",
    "print('t')\n",
    "describe(t_dist)\n",
    "\n",
    "x = np.linspace(-5, 5, 5000)\n",
    "\n",
    "plt.plot(x, t_dist.pdf(x), \n",
    "         label = 't; df=5'\n",
    "        );\n",
    "plt.plot(x, \n",
    "         norm_dist.pdf(x), \n",
    "         label = 'normal'\n",
    "        )\n",
    "plt.legend();"
   ]
  },
  {
   "cell_type": "markdown",
   "metadata": {
    "colab_type": "text",
    "id": "x5X6t3G1X9hN"
   },
   "source": [
    "#### A distribuição t é \"normal\" - quanto maior o parâmetro (que reflete seus graus de liberdade - mais dados / recursos de entrada irão aumentá-lo), mais próximo do normal verdadeiro."
   ]
  },
  {
   "cell_type": "code",
   "execution_count": 5,
   "metadata": {
    "colab": {
     "base_uri": "https://localhost:8080/",
     "height": 631
    },
    "colab_type": "code",
    "id": "UyGir30yXtBl",
    "outputId": "ac1de110-bc12-4148-d9bf-6daf163acb3c"
   },
   "outputs": [
    {
     "name": "stdout",
     "output_type": "stream",
     "text": [
      "t distribution, df = 1\n",
      "mean: inf\n",
      "std:  nan\n",
      "var:  nan\n",
      "t distribution, df = 2\n",
      "mean: 0.0\n",
      "std:  inf\n",
      "var:  inf\n",
      "t distribution, df = 5\n",
      "mean: 0.0\n",
      "std:  1.2909944487358056\n",
      "var:  1.6666666666666667\n",
      "t distribution, df = 1000\n",
      "mean: 0.0\n",
      "std:  1.0010015025043828\n",
      "var:  1.002004008016032\n"
     ]
    },
    {
     "data": {
      "image/png": "[encoded data removed]",
      "text/plain": [
       "<Figure size 432x288 with 1 Axes>"
      ]
     },
     "metadata": {
      "needs_background": "light"
     },
     "output_type": "display_data"
    }
   ],
   "source": [
    "x = np.linspace(-5, 5, 5000)\n",
    "\n",
    "for df in [1, 2, 5, 1000]:\n",
    "    t_dist = stats.t(df)\n",
    "    print(f't distribution, df = {df}')\n",
    "    describe(t_dist)\n",
    "    plt.plot(x, \n",
    "             t_dist.pdf(x), \n",
    "             label = f'df = {df}')\n",
    "\n",
    "plt.legend();"
   ]
  },
  {
   "cell_type": "markdown",
   "metadata": {
    "colab_type": "text",
    "id": "FOvEGMysLaE2"
   },
   "source": [
    "#### Por que é diferente do normal? Para melhor refletir as tendências de pequenos dados e situações com desvio padrão populacional desconhecido. Em outras palavras, a distribuição normal ainda é o bom e puro ideal no limite,graças ao [teorema do limite central](https://towardsdatascience.com/the-only-theorem-data-scientists-need-to-know-a50a263d013c#:~:text=The%20central%20limit%20theorem%20(CLT,sample%20means%20are%20normally%20distributed.&text=A%20sample%20mean%20is%20the,subset%20of%20a%20larger%20group.&text=The%20CLT%20make%20no%20assumptions%20about%20the%20distribution%20of%20your%20underlying%20data.), mas a distribuição-t é muito mais útil em muitas situações do mundo real.\n",
    "\n",
    "A seguir [William Sealy Gosset](https://encyclopediaofmath.org/wiki/Gosset,_William_Sealy), responsável pelo descobrimento das propriedades da distribuição-t.\n",
    "<br>\n",
    "<img src=\"William_Sealy_Gosset.jpg\" width=\"450\" />\n",
    "<br>\n",
    "\n",
    "#### Seu nome verdadeiro é William Sealy Gosset e ele publicou com o pseudônimo de \"Estudante\" porque não era um acadêmico. Ele era um químico [cervejeiro](https://www.youtube.com/watch?v=bqfcFCjaE1c&ab_channel=ResearchByDesign) que trabalhava na cervejaria [Guinness](https://www.abgconsultoria.com.br/blog/como-producao-de-cerveja-marcou-historia-da-estatistica/) e usava tentativa e erro para determinar as melhores maneiras de produzir cevada. Ele também é a prova de que, mesmo há 100 anos, você não precisa de credenciais oficiais para fazer ciência de dados real!"
   ]
  },
  {
   "cell_type": "markdown",
   "metadata": {
    "colab_type": "text",
    "id": "1yx_QilAEC6o"
   },
   "source": [
    "## Teste t de uma amostra. "
   ]
  },
  {
   "cell_type": "markdown",
   "metadata": {},
   "source": [
    "#### Geraremos nossos próprios dados, para que possamos saber e alterar a \"verdade fundamental\" que o teste-t deve encontrar. Aprenderemos sobre o p-value e como interpretar a \"significância estatística\" com base na saída de um teste de hipótese."
   ]
  },
  {
   "cell_type": "markdown",
   "metadata": {},
   "source": [
    "#### Experimento Coca-Cola ou Pepsi-cola: \n",
    "\n",
    "- Distribuição representada por uma variável randômica binomial:\n",
    "        - 0 = Prefere Pepsi\n",
    "        - 1 = Prefere Coke\n",
    "\n",
    "#### Queremos uma lista de $30$ observações (tamanho da amostra $n = 30$), começamos gerando dados aleatórios com a ajuda ou método [`random.randint()`](https://docs.python.org/3/library/random.html))."
   ]
  },
  {
   "cell_type": "code",
   "execution_count": 6,
   "metadata": {
    "colab": {
     "base_uri": "https://localhost:8080/",
     "height": 35
    },
    "colab_type": "code",
    "id": "BuysRPs-Ed0v",
    "outputId": "7282cf5f-bd51-4830-ba4b-939491af3c34"
   },
   "outputs": [
    {
     "name": "stdout",
     "output_type": "stream",
     "text": [
      "[0, 1, 0, 1, 0, 0, 0, 1, 1, 0, 0, 1, 1, 1, 1, 1, 1, 1, 0, 0, 1, 1, 1, 1, 1, 1, 1, 1, 1, 0, 1, 1, 1, 1, 1, 1, 1, 0, 1, 0, 1, 1, 0, 1, 0, 1, 1, 0, 0, 0]\n"
     ]
    }
   ],
   "source": [
    "random.seed(10)\n",
    "# sample_data = [random.randint(0, 1) for _ in range(30)]\n",
    "sample_data = [0, 1, 0, 1, 0, 0, 0, 1, 1, 0, 0, 1, 1, 1, 1, \n",
    "               1, 1, 1, 0, 0, 1, 1, 1, 1, 1, 1, 1, 1, 1, 0, \n",
    "               1, 1, 1, 1, 1, 1, 1, 0, 1, 0, 1, 1, 0, 1, 0, 1, 1, 0, 0, 0]\n",
    "\n",
    "print(sample_data)"
   ]
  },
  {
   "cell_type": "code",
   "execution_count": 7,
   "metadata": {
    "colab": {
     "base_uri": "https://localhost:8080/",
     "height": 177
    },
    "colab_type": "code",
    "id": "KaLJ6JcJeJ6L",
    "outputId": "00fa353e-6b3d-4305-8dc3-c14d3467c6de"
   },
   "outputs": [
    {
     "data": {
      "text/plain": [
       "count    50.000000\n",
       "mean      0.660000\n",
       "std       0.478518\n",
       "min       0.000000\n",
       "25%       0.000000\n",
       "50%       1.000000\n",
       "75%       1.000000\n",
       "max       1.000000\n",
       "dtype: float64"
      ]
     },
     "execution_count": 7,
     "metadata": {},
     "output_type": "execute_result"
    }
   ],
   "source": [
    "sample_data = pd.Series(sample_data)\n",
    "\n",
    "sample_data.describe()"
   ]
  },
  {
   "cell_type": "code",
   "execution_count": 15,
   "metadata": {
    "colab": {
     "base_uri": "https://localhost:8080/",
     "height": 347
    },
    "colab_type": "code",
    "id": "SFJvEAKqfPoW",
    "outputId": "83569858-db5b-4e1c-cd7f-e813208edc7d"
   },
   "outputs": [
    {
     "data": {
      "image/png": "[encoded data removed]",
      "text/plain": [
       "<Figure size 432x288 with 1 Axes>"
      ]
     },
     "metadata": {
      "needs_background": "light"
     },
     "output_type": "display_data"
    }
   ],
   "source": [
    "sample_data.plot.hist();"
   ]
  },
  {
   "cell_type": "markdown",
   "metadata": {},
   "source": [
    "#### Calculamos o teste-t para a média de um grupo de pontuações.[`stats.ttest_1samp()`](https://docs.scipy.org/doc/scipy/reference/generated/scipy.stats.ttest_1samp.html)."
   ]
  },
  {
   "cell_type": "code",
   "execution_count": 19,
   "metadata": {
    "colab": {
     "base_uri": "https://localhost:8080/",
     "height": 35
    },
    "colab_type": "code",
    "id": "J7zEGzmafIjC",
    "outputId": "651ceb53-4d93-4915-dd49-60153138f828"
   },
   "outputs": [
    {
     "name": "stdout",
     "output_type": "stream",
     "text": [
      "p-values 0.02207003200903075\n",
      " we are rejecting null hypothesis\n"
     ]
    }
   ],
   "source": [
    "#stats.ttest_1samp(a = sample_data, \n",
    "#                  popmean = 0.5\n",
    "#                 )\n",
    "\n",
    "tset, pval = stats.ttest_1samp(a = sample_data, \n",
    "                  popmean = 0.5\n",
    "                 )\n",
    "print('p-values', pval)\n",
    "\n",
    "if pval < 0.05:\n",
    "   print(\"we are rejecting null hypothesis\")\n",
    "else:\n",
    "  print(\"we are accepting null hypothesis\")\n"
   ]
  },
  {
   "cell_type": "markdown",
   "metadata": {},
   "source": [
    "#### Aqui usamos a [correção de Bessel](https://www.statisticshowto.com/bessels-correction/), feita para corrigir o fato de que essas estatísticas amostrais tendem a subestimar os parâmetros reais encontrados na população."
   ]
  },
  {
   "cell_type": "code",
   "execution_count": 13,
   "metadata": {
    "colab": {},
    "colab_type": "code",
    "id": "-HCPkOhKqy44"
   },
   "outputs": [],
   "source": [
    "# T-score\n",
    "def var(sample, mean, ddof = 1 ):\n",
    "    \"\"\"\n",
    "    ddof = 1 enforces Bessel's correction, which is used for samples rather than\n",
    "    entire populations (ddof = 0)\n",
    "    \"\"\"\n",
    "    std = 0\n",
    "    for obs in sample:\n",
    "        std += (obs - mean)**2\n",
    "\n",
    "    return std / (len(sample) - ddof)\n",
    "\n",
    "def calculate_t_stat(sample, null_hyp):\n",
    "\n",
    "    sample_mean = sum(sample) / len(sample)\n",
    "\n",
    "    sample_var = var(sample, sample_mean) # aka mean of squared differences\n",
    "\n",
    "    sample_std_dev = math.sqrt(sample_var)\n",
    "\n",
    "    sample_std_err = sample_std_dev / math.sqrt(len(sample))\n",
    "\n",
    "    return (sample_mean - null_hyp) / sample_std_err"
   ]
  },
  {
   "cell_type": "markdown",
   "metadata": {},
   "source": [
    "#### Checamos o quão próximos o valor calculado `calculate_t_stat` está do teste-t `ttest_1samp` com a ajuda do método [math.isclose](https://docs.python.org/3/library/math.html).\n",
    "\n",
    "#### Note que aqui usamos o comando [`assert`](https://python-reference.readthedocs.io/en/latest/docs/statements/assert.html), para inserir asserções de depuração em um programa."
   ]
  },
  {
   "cell_type": "code",
   "execution_count": 20,
   "metadata": {
    "colab": {},
    "colab_type": "code",
    "id": "_ceOLPz3fd1K"
   },
   "outputs": [],
   "source": [
    "assert math.isclose(calculate_t_stat(sample_data, null_hyp = 0.5),\n",
    "                    stats.ttest_1samp(sample_data, 0.5)[0],\n",
    "                    abs_tol = 1e-8)\n",
    "\n",
    "assert sample_data.var(ddof = 1) == var(sample_data, sample_data.mean(), ddof = 1)"
   ]
  },
  {
   "cell_type": "markdown",
   "metadata": {
    "colab_type": "text",
    "id": "3QyfBgRT22oI"
   },
   "source": [
    "#### Em um teste bilateral, o [p-value](https://towardsdatascience.com/p-values-explained-by-data-scientist-f40a746cfc8) é a proporção da distribuição-t que está abaixo de nossa estatística-t negativa ou acima de nossa estatística-t positiva.\n",
    "\n",
    "#### Usaremos aqui o método [`stats.t()`](https://docs.scipy.org/doc/scipy/reference/generated/scipy.stats.t.html) para o estudo de uma variável aleatória contínua da distribuição-t e também o método [`.cdf()`](https://docs.scipy.org/doc/scipy/reference/generated/scipy.stats.t.html) que nos fornece a área debaixo da curva de distribuição."
   ]
  },
  {
   "cell_type": "code",
   "execution_count": 22,
   "metadata": {
    "colab": {
     "base_uri": "https://localhost:8080/",
     "height": 35
    },
    "colab_type": "code",
    "id": "Mr1O7XCR36dy",
    "outputId": "a9ad85f8-1fbc-40ea-d56a-8d9e8eef5ba5"
   },
   "outputs": [
    {
     "data": {
      "image/png": "[encoded data removed]",
      "text/plain": [
       "<Figure size 432x288 with 1 Axes>"
      ]
     },
     "metadata": {
      "needs_background": "light"
     },
     "output_type": "display_data"
    }
   ],
   "source": [
    "dof = len(sample_data) - 1\n",
    "t_dist = stats.t(dof)\n",
    "result = stats.ttest_1samp(a = sample_data, \n",
    "                           popmean = 0.5\n",
    "                          )\n",
    "tstat = result[0]\n",
    "p = t_dist.cdf(-1 * tstat) * 2 \n",
    "# p = result[1]  # or get it from results\n",
    "\n",
    "x = np.linspace(-5, 5, 5000)\n",
    "plt.plot(x, \n",
    "         t_dist.pdf(x), \n",
    "         label = f't dist (dof = {dof})'\n",
    "        )\n",
    "plt.vlines([-tstat, tstat], \n",
    "           ymin = 0, \n",
    "           ymax = 0.40, \n",
    "           label=f't score: {round(tstat, 3)}'\n",
    "          )\n",
    "\n",
    "plt.fill_between(x, \n",
    "                 t_dist.pdf(x), \n",
    "                 where = np.logical_or(x < -tstat, tstat < x), \n",
    "                 label=f'p value: {round(p, 3)}'\n",
    "                )\n",
    "plt.legend();"
   ]
  },
  {
   "cell_type": "markdown",
   "metadata": {},
   "source": [
    "### Interpretação dos resultados.\n",
    "\n",
    "#### Em um teste bilateral, nosso limite para significância estatística é `0.10`, com um `p-valor`= $0.022$ , podemos rejeitar noss hipótese nula $H_{0}$ de que a população prefere igualmente Coca-Cola e Pepsi-Cola. Nesse caso, havia uma preferência clara pela Coca-Cola, representada pelo valor $1$. Apesar de nosso teste não ter sido conduzido para determinar _qual_ produto é o preferido, apenas se há um produto de preferência."
   ]
  },
  {
   "cell_type": "code",
   "execution_count": null,
   "metadata": {},
   "outputs": [],
   "source": []
  }
 ],
 "metadata": {
  "colab": {
   "collapsed_sections": [],
   "include_colab_link": true,
   "name": "LS_DS2_141_Statistics_Probability_and_Inference.ipynb",
   "provenance": [],
   "version": "0.3.2"
  },
  "kernelspec": {
   "display_name": "Python 3",
   "language": "python",
   "name": "python3"
  },
  "language_info": {
   "codemirror_mode": {
    "name": "ipython",
    "version": 3
   },
   "file_extension": ".py",
   "mimetype": "text/x-python",
   "name": "python",
   "nbconvert_exporter": "python",
   "pygments_lexer": "ipython3",
   "version": "3.7.6"
  }
 },
 "nbformat": 4,
 "nbformat_minor": 4
}
