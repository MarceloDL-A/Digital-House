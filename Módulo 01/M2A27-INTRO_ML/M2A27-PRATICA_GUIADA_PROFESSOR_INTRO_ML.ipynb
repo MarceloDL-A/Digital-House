{
 "cells": [
  {
   "cell_type": "markdown",
   "metadata": {
    "colab_type": "text",
    "id": "aY3CajZT2QRX"
   },
   "source": [
    "# PRÁTICA GUIADA: Introdução a Machine Learning 1\n",
    "\n",
    "#### Agora, vamos analisar vários exemplos simples de aplicação de métodos de aprendizagem supervisionada e não supervisionada."
   ]
  },
  {
   "cell_type": "markdown",
   "metadata": {
    "colab_type": "text",
    "id": "FvZMcTJ02QRZ",
    "tags": [
     "Texto"
    ]
   },
   "source": [
    "### Exemplo de aprendizagem supervisionada: Regressão linear simples\n",
    "\n",
    "#### Como exemplo desse processo, vamos considerar uma regressão linear simples, ou seja, o caso comum de ajustar uma linha a dados com a forma $(x, y)$.\n",
    "\n",
    "#### Vamos importar a classe de pacotes [`matplotlib.pyplot`](https://matplotlib.org/3.1.1/api/_as_gen/matplotlib.pyplot.html) para plotar os valores que vamos criar com o auxílio da função [`np.random.RandomState()`](https://docs.scipy.org/doc/numpy-1.15.0/reference/generated/numpy.random.RandomState.html), gerando um conjunto de dados para nosso exemplo de regressão:\n",
    "\n",
    "#### [`.scatter()`](https://matplotlib.org/3.1.1/api/_as_gen/matplotlib.pyplot.scatter.html#matplotlib.pyplot.scatter) para investigar a dispersão entre os pontos gerados."
   ]
  },
  {
   "cell_type": "code",
   "execution_count": 18,
   "metadata": {
    "tags": [
     "Código"
    ]
   },
   "outputs": [
    {
     "data": {
      "image/png": "[encoded data removed]",
      "text/plain": [
       "<Figure size 432x288 with 1 Axes>"
      ]
     },
     "metadata": {
      "needs_background": "light"
     },
     "output_type": "display_data"
    }
   ],
   "source": [
    "import matplotlib.pyplot as plt\n",
    "import numpy as np\n",
    "%matplotlib inline \n",
    "\n",
    "rng = np.random.RandomState(42)\n",
    "x = 10 * rng.rand(50)\n",
    "y = 2 * x - 1 + rng.randn(50)\n",
    "\n",
    "# Traçamos\n",
    "plt.scatter(x, y);"
   ]
  },
  {
   "cell_type": "markdown",
   "metadata": {
    "colab": {
     "autoexec": {
      "startup": false,
      "wait_interval": 0
     }
    },
    "colab_type": "code",
    "id": "b_b0W2g12QRZ"
   },
   "source": [
    "####  <span style = \"color:red\">Código Original.</span>\n",
    "<!---\n",
    "import matplotlib.pyplot as plt\n",
    "import numpy as np\n",
    "%matplotlib inline \n",
    "\n",
    "rng = np.random.RandomState(42)\n",
    "x = 10 * rng.rand(50)\n",
    "y = 2 * x - 1 + rng.randn(50)\n",
    "\n",
    "# Traçamos\n",
    "plt.scatter(x, y);\n",
    "-->"
   ]
  },
  {
   "cell_type": "markdown",
   "metadata": {
    "colab_type": "text",
    "id": "Miv8qlch2QRf",
    "tags": [
     "Texto"
    ]
   },
   "source": [
    "#### Depois de gerar os dados, podemos usar a receita que estudamos antes. Vamos ver os passos do processo: "
   ]
  },
  {
   "cell_type": "markdown",
   "metadata": {
    "colab_type": "text",
    "id": "ecpXCOQr2QRg",
    "tags": [
     "Texto"
    ]
   },
   "source": [
    "### 1. Selecionar uma “classe de modelo”\n",
    "\n",
    "- Em Scikit-Learn, cada [classe de modelo](https://scikit-learn.org/stable/tutorial/basic/tutorial.html) é representada com uma classe de Python. \n",
    "\n",
    "- Então, por exemplo, se queremos calcular um modelo de [regressão linear simples](https://en.wikipedia.org/wiki/Regression_analysis), podemos importar a classe de regressão linear desta forma:\n",
    "\n",
    "- Vamos importar a classe de funções [`sklearn.linear_model.LinearRegression`](https://scikit-learn.org/stable/modules/generated/sklearn.linear_model.LinearRegression.html)."
   ]
  },
  {
   "cell_type": "code",
   "execution_count": 19,
   "metadata": {},
   "outputs": [],
   "source": [
    "from sklearn.linear_model import LinearRegression"
   ]
  },
  {
   "cell_type": "markdown",
   "metadata": {
    "colab": {
     "autoexec": {
      "startup": false,
      "wait_interval": 0
     }
    },
    "colab_type": "code",
    "id": "Iflkv6iz2QRg"
   },
   "source": [
    "####  <span style = \"color:red\">Código Original.</span>\n",
    "<!---\n",
    "from sklearn.linear_model import LinearRegression\n",
    "-->"
   ]
  },
  {
   "cell_type": "markdown",
   "metadata": {
    "colab_type": "text",
    "id": "1kcJ8AxX2QRl"
   },
   "source": [
    "#### Lembre que também existem outros modelos de regressão linear mais gerais. Você pode ler mais sobre eles na documentação [`sklearn.linear_model`](http://Scikit-Learn.org/stable/modules/linear_model.html). Aqui escolheremos o modelo de [`LinearRegression`](https://scikit-learn.org/stable/modules/generated/sklearn.linear_model.LinearRegression.html)."
   ]
  },
  {
   "cell_type": "markdown",
   "metadata": {
    "colab_type": "text",
    "id": "DFDCDxTi2QRm"
   },
   "source": [
    "### 2. Escolher os hiperparâmetros do modelo\n",
    "\n",
    "#### É importante destacar que *uma classe de modelo não é a mesma coisa que uma instância de modelo*.\n",
    "\n",
    "#### Depois de definir a classe de modelo, ainda é preciso tomar algumas decisões. Dependendo da classe de modelo escolhida para trabalhar, poderíamos ter que responder a uma ou mais perguntas, por exemplo:\n",
    "\n",
    "- Queremos ajustar também uma interceptação (intercept = True)?\n",
    "- Queremos que o modelo esteja normalizado?\n",
    "- Queremos adicionar features calculadas a partir do input para aumentar a flexibilidade do modelo?\n",
    "- Que grau de \"regularização\" queremos usar no modelo?\n",
    "\n",
    "#### Esses são exemplos das decisões importantes que devem ser tomadas **depois de selecionar a classe de modelo a usar**.\n",
    "\n",
    "#### Freqüêntemente, essas escolhas são representadas como *hiperparâmetros*, ou parâmetros que devem ser definidos antes que o modelo seja ajustado aos dados. \n",
    "\n",
    "#### Em Scikit-Learn, os hiperparâmetros são escolhidos como argumentos na instanciação do modelo. Nas próximas aulas, vamos explorar como justificar quantitativamente a escolha de hiperparâmetros.  \n",
    "\n",
    "#### Para o nosso exemplo de regressão linear, vamos criar um objeto que receberá o modelo que pretendemos criar com a função [``LinearRegression()``](https://scikit-learn.org/stable/modules/generated/sklearn.linear_model.LinearRegression.html). Observe a parametrização `fit_intercept = True`."
   ]
  },
  {
   "cell_type": "code",
   "execution_count": 20,
   "metadata": {},
   "outputs": [
    {
     "name": "stdout",
     "output_type": "stream",
     "text": [
      "LinearRegression()\n"
     ]
    }
   ],
   "source": [
    "model = LinearRegression(fit_intercept = True)\n",
    "print(model)"
   ]
  },
  {
   "cell_type": "markdown",
   "metadata": {
    "colab": {
     "autoexec": {
      "startup": false,
      "wait_interval": 0
     }
    },
    "colab_type": "code",
    "id": "WQeCLbrL2QRm"
   },
   "source": [
    "####  <span style = \"color:red\">Código Original.</span>\n",
    "<!---\n",
    "model = LinearRegression(fit_intercept = True)\n",
    "print(model)\n",
    "-->"
   ]
  },
  {
   "cell_type": "markdown",
   "metadata": {
    "colab_type": "text",
    "id": "NsCpHWqS2QRr"
   },
   "source": [
    "#### **Atenção**: quando o modelo é instanciado, a única ação que acontece é o armazenamento dos valores de hiperparâmetros.\n",
    "\n",
    "#### Especificamente, ainda não aplicamos o modelo a nenhum dado: a API de Scikit-Learn faz uma distinção muito clara entre a *escolha do modelo com hiperparâmetros* e a *aplicação do modelo aos dados*. "
   ]
  },
  {
   "cell_type": "markdown",
   "metadata": {
    "colab_type": "text",
    "id": "k9wKJHWW2QRs",
    "slideshow": {
     "slide_type": "slide"
    },
    "tags": [
     "Texto"
    ]
   },
   "source": [
    "### 3. Preparar os dados em uma matriz de `features` e um vetor `target`.\n",
    "\n",
    "#### Já falamos da representação de dados de Scikit-Learn, que exige uma matriz de `features` de duas dimensões e um vetor `target` de uma dimensão.\n",
    "\n",
    "#### Aqui, a variável `target` `y` já está no formato correto (um array de comprimento `n_samples`), mas precisamos processar os dados em `x` para transformá-los em uma matriz de tamanho `[n_samples, n_features]`.\n",
    "\n",
    "#### Vamos criar um objeto `x` e checar suas dimensões com o atributo [`.ndim` ](https://numpy.org/doc/stable/reference/generated/numpy.ndarray.ndim.html)."
   ]
  },
  {
   "cell_type": "code",
   "execution_count": 21,
   "metadata": {},
   "outputs": [
    {
     "data": {
      "text/plain": [
       "1"
      ]
     },
     "execution_count": 21,
     "metadata": {},
     "output_type": "execute_result"
    }
   ],
   "source": [
    "x\n",
    "x.ndim"
   ]
  },
  {
   "cell_type": "markdown",
   "metadata": {},
   "source": [
    "####  <span style = \"color:red\">Código Original.</span>\n",
    "<!---\n",
    "x\n",
    "x.ndim\n",
    "-->\n",
    "\n",
    "#### Nesse caso, isso se reduz a uma simples mudança de forma ([reshaping](https://towardsdatascience.com/reshaping-numpy-arrays-in-python-a-step-by-step-pictorial-tutorial-aed5f471cf0b)) do array de uma dimensão. Para isso podemos usar a função [`np.newaxis()`](https://numpy.org/doc/stable/reference/constants.html#numpy.newaxis) reindexar o objeto e atribuí-lo a `X`. \n",
    "\n",
    "#### Uma outra forma de alterar o formato do seu arranjo pode ser feito com a aplicação do método [`.reshape(-1,1)()`](https://numpy.org/doc/stable/reference/generated/numpy.reshape.html)."
   ]
  },
  {
   "cell_type": "code",
   "execution_count": 33,
   "metadata": {
    "tags": [
     "Código"
    ]
   },
   "outputs": [],
   "source": [
    "X = x[:, np.newaxis]\n",
    "X.shape\n",
    "\n",
    "# Outra forma de fazer isso\n",
    "X = x.reshape(-1,1)"
   ]
  },
  {
   "cell_type": "markdown",
   "metadata": {
    "colab": {
     "autoexec": {
      "startup": false,
      "wait_interval": 0
     }
    },
    "colab_type": "code",
    "id": "uI_0VWMP2QRu"
   },
   "source": [
    "####  <span style = \"color:red\">Código Original.</span>\n",
    "<!---\n",
    "X = x[:, np.newaxis]\n",
    "X.shape\n",
    "\n",
    "# Outra forma de fazer isso\n",
    "X = x.reshape(-1,1)\n",
    "-->"
   ]
  },
  {
   "cell_type": "markdown",
   "metadata": {},
   "source": [
    "#### Testando novamente o número de dimensões, agora do objeto `X`, temos: "
   ]
  },
  {
   "cell_type": "code",
   "execution_count": 34,
   "metadata": {},
   "outputs": [
    {
     "data": {
      "text/plain": [
       "2"
      ]
     },
     "execution_count": 34,
     "metadata": {},
     "output_type": "execute_result"
    }
   ],
   "source": [
    "X\n",
    "X.ndim"
   ]
  },
  {
   "cell_type": "code",
   "execution_count": 35,
   "metadata": {},
   "outputs": [
    {
     "data": {
      "text/plain": [
       "array([[3.74540119],\n",
       "       [9.50714306],\n",
       "       [7.31993942],\n",
       "       [5.98658484],\n",
       "       [1.5601864 ],\n",
       "       [1.5599452 ],\n",
       "       [0.58083612],\n",
       "       [8.66176146],\n",
       "       [6.01115012],\n",
       "       [7.08072578],\n",
       "       [0.20584494],\n",
       "       [9.69909852],\n",
       "       [8.32442641],\n",
       "       [2.12339111],\n",
       "       [1.81824967],\n",
       "       [1.8340451 ],\n",
       "       [3.04242243],\n",
       "       [5.24756432],\n",
       "       [4.31945019],\n",
       "       [2.9122914 ],\n",
       "       [6.11852895],\n",
       "       [1.39493861],\n",
       "       [2.92144649],\n",
       "       [3.66361843],\n",
       "       [4.56069984],\n",
       "       [7.85175961],\n",
       "       [1.99673782],\n",
       "       [5.14234438],\n",
       "       [5.92414569],\n",
       "       [0.46450413],\n",
       "       [6.07544852],\n",
       "       [1.70524124],\n",
       "       [0.65051593],\n",
       "       [9.48885537],\n",
       "       [9.65632033],\n",
       "       [8.08397348],\n",
       "       [3.04613769],\n",
       "       [0.97672114],\n",
       "       [6.84233027],\n",
       "       [4.40152494],\n",
       "       [1.22038235],\n",
       "       [4.9517691 ],\n",
       "       [0.34388521],\n",
       "       [9.09320402],\n",
       "       [2.58779982],\n",
       "       [6.62522284],\n",
       "       [3.11711076],\n",
       "       [5.20068021],\n",
       "       [5.46710279],\n",
       "       [1.84854456]])"
      ]
     },
     "execution_count": 35,
     "metadata": {},
     "output_type": "execute_result"
    }
   ],
   "source": [
    "X"
   ]
  },
  {
   "cell_type": "markdown",
   "metadata": {},
   "source": [
    "####  <span style = \"color:red\">Código Original.</span>\n",
    "<!---\n",
    "X\n",
    "X.ndim\n",
    "-->"
   ]
  },
  {
   "cell_type": "markdown",
   "metadata": {
    "colab_type": "text",
    "id": "tKxsfV_Y2QRx"
   },
   "source": [
    "### 4. Ajustar o modelo aos dados\n",
    "\n",
    "#### Agora, é hora de aplicar o modelo aos dados. Vamos fazer o ajuste dos dados ao modelo com o método [`.fit()`](https://scikit-learn.org/stable/tutorial/basic/tutorial.html) da instância de modelo."
   ]
  },
  {
   "cell_type": "code",
   "execution_count": 36,
   "metadata": {},
   "outputs": [
    {
     "data": {
      "text/plain": [
       "LinearRegression()"
      ]
     },
     "execution_count": 36,
     "metadata": {},
     "output_type": "execute_result"
    }
   ],
   "source": [
    "model.fit(X, y)"
   ]
  },
  {
   "cell_type": "markdown",
   "metadata": {
    "colab": {
     "autoexec": {
      "startup": false,
      "wait_interval": 0
     }
    },
    "colab_type": "code",
    "id": "_6DVnzS32QRy"
   },
   "source": [
    "####  <span style = \"color:red\">Código Original.</span>\n",
    "<!---\n",
    "model.fit(X, y)\n",
    "-->"
   ]
  },
  {
   "cell_type": "markdown",
   "metadata": {
    "colab_type": "text",
    "id": "khLkXfRt2QR2"
   },
   "source": [
    "#### O método [`.fit()`](https://scikit-learn.org/stable/tutorial/basic/tutorial.html) faz uma sequência de cálculos internos que dependem do modelo, e os resultados dessas operações são armazenados em atributos específicos da classe de modelo que o usuário poderá explorar.\n",
    "\n",
    "#### Em Scikit-learn, por convenção, todos os atributos que representam os parâmetros dos modelos que foram aprendidos durante o processo de treinamento com `fit()` têm `sublinhados` nos nomes; por exemplo, neste modelo linear, podemos observar os parâmetros [`coef_`](https://scikit-learn.org/stable/modules/generated/sklearn.linear_model.LinearRegression.html) e [`intercept_`](https://scikit-learn.org/stable/modules/generated/sklearn.linear_model.LinearRegression.html):"
   ]
  },
  {
   "cell_type": "code",
   "execution_count": 37,
   "metadata": {},
   "outputs": [
    {
     "name": "stdout",
     "output_type": "stream",
     "text": [
      "-0.9033107255311164\n",
      "[1.9776566]\n"
     ]
    }
   ],
   "source": [
    "a = model.intercept_\n",
    "b = model.coef_\n",
    "print(a)\n",
    "print(b)"
   ]
  },
  {
   "cell_type": "markdown",
   "metadata": {
    "colab": {
     "autoexec": {
      "startup": false,
      "wait_interval": 0
     }
    },
    "colab_type": "code",
    "id": "dAKoaQvI2QR2"
   },
   "source": [
    "####  <span style = \"color:red\">Código Original.</span>\n",
    "<!---\n",
    "a = model.intercept_\n",
    "b = model.coef_\n",
    "print(a)\n",
    "print(b)\n",
    "-->"
   ]
  },
  {
   "cell_type": "markdown",
   "metadata": {},
   "source": [
    "#### Aqui os atributos `coef_` e `intercept_` representam os coeficientes linear (a) angular (b), respectivamente."
   ]
  },
  {
   "cell_type": "markdown",
   "metadata": {
    "colab_type": "text",
    "id": "p1tr4WDb2QR_"
   },
   "source": [
    "#### Esses dois parâmetros representam a pendente e a interceptação do ajuste linear simples aos dados. Fazendo uma comparação com a definição do conjunto de dados sintético criado no início do exemplo, podemos ver que eles estão muito próximos da pendente `2` e da interceptação `-1`, definidas na fórmula para gerar os dados.\n",
    "\n",
    "#### Uma pergunta que surge com frequência tem a ver com a incerteza (uncertainty) nesses parâmetros internos do modelo. \n",
    "\n",
    "#### Em geral, Scikit-Learn não oferece ferramentas para tirar conclusões sobre o estado interno dos modelos: interpretar os parâmetros de um modelo tem muito mais a ver com *modelagem estatística* que com *machine learning*.\n",
    "\n",
    "#### Machine learning, por sua vez, enfoca a qualidade com a qual o modelo *faz previsões*.\n",
    "\n",
    "#### Se quiser investigar o significado dos parâmetros de ajuste dentro do modelo, existem outras ferramentas, incluindo o pacote de python [Statsmodels](http://statsmodels.sourceforge.net/)."
   ]
  },
  {
   "cell_type": "markdown",
   "metadata": {
    "colab_type": "text",
    "id": "X_MTUUUX2QSA"
   },
   "source": [
    "### 5. Prever tags para dados desconhecidos:\n",
    "\n",
    "#### Depois que o modelo é treinado, a principal tarefa na aprendizagem supervisionada é fazer uma avaliação com base no que o modelo diz sobre os novos dados que não fizeram parte do **conjunto de treinamento**. \n",
    "\n",
    "#### A função [`.linspace()`](https://numpy.org/doc/stable/reference/generated/numpy.linspace.html#numpy.linspace) retorna um intervalo específico com valores igualmente espaçados. Assim como antes, precisamos manipular os valores `x` em uma matriz de features de tamanho `[n_samples, m_features]`. Só depois desse passo será possível utilizá-la como argumento para a previsão. \n",
    "\n",
    "#### Vamos então instanciar um objeto que irá receber o resultado de [`.linspace()`](https://numpy.org/doc/stable/reference/generated/numpy.linspace.html#numpy.linspace)."
   ]
  },
  {
   "cell_type": "code",
   "execution_count": 38,
   "metadata": {},
   "outputs": [
    {
     "data": {
      "text/plain": [
       "array([-1.        , -0.75510204, -0.51020408, -0.26530612, -0.02040816,\n",
       "        0.2244898 ,  0.46938776,  0.71428571,  0.95918367,  1.20408163,\n",
       "        1.44897959,  1.69387755,  1.93877551,  2.18367347,  2.42857143,\n",
       "        2.67346939,  2.91836735,  3.16326531,  3.40816327,  3.65306122,\n",
       "        3.89795918,  4.14285714,  4.3877551 ,  4.63265306,  4.87755102,\n",
       "        5.12244898,  5.36734694,  5.6122449 ,  5.85714286,  6.10204082,\n",
       "        6.34693878,  6.59183673,  6.83673469,  7.08163265,  7.32653061,\n",
       "        7.57142857,  7.81632653,  8.06122449,  8.30612245,  8.55102041,\n",
       "        8.79591837,  9.04081633,  9.28571429,  9.53061224,  9.7755102 ,\n",
       "       10.02040816, 10.26530612, 10.51020408, 10.75510204, 11.        ])"
      ]
     },
     "execution_count": 38,
     "metadata": {},
     "output_type": "execute_result"
    }
   ],
   "source": [
    "xfit = np.linspace(-1, 11)\n",
    "xfit"
   ]
  },
  {
   "cell_type": "markdown",
   "metadata": {
    "colab": {
     "autoexec": {
      "startup": false,
      "wait_interval": 0
     }
    },
    "colab_type": "code",
    "id": "yEoiN7IH2QSB"
   },
   "source": [
    "####  <span style = \"color:red\">Código Original.</span>\n",
    "<!---\n",
    "xfit = np.linspace(-1, 11)\n",
    "xfit\n",
    "-->"
   ]
  },
  {
   "cell_type": "markdown",
   "metadata": {},
   "source": [
    "#### Aplique novamente a função [`np.newaxis()`](https://numpy.org/doc/stable/reference/constants.html#numpy.newaxis) para reindexar o objeto criado na célula anterior.\n",
    "\n",
    "#### Usando o método [`.predict()`](https://scipy-lectures.org/packages/scikit-learn/index.html#:~:text=predict()%20%3A%20given%20a%20trained,each%20object%20in%20the%20array.) vamos analisar as previsões dos rótulos de saída, gerados pelo meodelo . No contexto deste exemplo, o “novo conjunto de dados” será um vetor de valores `x` , e observaremos os valores `y` previstos pelo modelo."
   ]
  },
  {
   "cell_type": "code",
   "execution_count": 39,
   "metadata": {},
   "outputs": [
    {
     "data": {
      "text/plain": [
       "array([[-1.        ],\n",
       "       [-0.75510204],\n",
       "       [-0.51020408],\n",
       "       [-0.26530612],\n",
       "       [-0.02040816],\n",
       "       [ 0.2244898 ],\n",
       "       [ 0.46938776],\n",
       "       [ 0.71428571],\n",
       "       [ 0.95918367],\n",
       "       [ 1.20408163],\n",
       "       [ 1.44897959],\n",
       "       [ 1.69387755],\n",
       "       [ 1.93877551],\n",
       "       [ 2.18367347],\n",
       "       [ 2.42857143],\n",
       "       [ 2.67346939],\n",
       "       [ 2.91836735],\n",
       "       [ 3.16326531],\n",
       "       [ 3.40816327],\n",
       "       [ 3.65306122],\n",
       "       [ 3.89795918],\n",
       "       [ 4.14285714],\n",
       "       [ 4.3877551 ],\n",
       "       [ 4.63265306],\n",
       "       [ 4.87755102],\n",
       "       [ 5.12244898],\n",
       "       [ 5.36734694],\n",
       "       [ 5.6122449 ],\n",
       "       [ 5.85714286],\n",
       "       [ 6.10204082],\n",
       "       [ 6.34693878],\n",
       "       [ 6.59183673],\n",
       "       [ 6.83673469],\n",
       "       [ 7.08163265],\n",
       "       [ 7.32653061],\n",
       "       [ 7.57142857],\n",
       "       [ 7.81632653],\n",
       "       [ 8.06122449],\n",
       "       [ 8.30612245],\n",
       "       [ 8.55102041],\n",
       "       [ 8.79591837],\n",
       "       [ 9.04081633],\n",
       "       [ 9.28571429],\n",
       "       [ 9.53061224],\n",
       "       [ 9.7755102 ],\n",
       "       [10.02040816],\n",
       "       [10.26530612],\n",
       "       [10.51020408],\n",
       "       [10.75510204],\n",
       "       [11.        ]])"
      ]
     },
     "execution_count": 39,
     "metadata": {},
     "output_type": "execute_result"
    }
   ],
   "source": [
    "Xfit = xfit[:, np.newaxis]\n",
    "Xfit"
   ]
  },
  {
   "cell_type": "code",
   "execution_count": 40,
   "metadata": {},
   "outputs": [
    {
     "data": {
      "text/plain": [
       "array([-2.88096733, -2.39664326, -1.9123192 , -1.42799513, -0.94367106,\n",
       "       -0.459347  ,  0.02497707,  0.50930113,  0.9936252 ,  1.47794926,\n",
       "        1.96227333,  2.44659739,  2.93092146,  3.41524552,  3.89956959,\n",
       "        4.38389366,  4.86821772,  5.35254179,  5.83686585,  6.32118992,\n",
       "        6.80551398,  7.28983805,  7.77416211,  8.25848618,  8.74281024,\n",
       "        9.22713431,  9.71145837, 10.19578244, 10.68010651, 11.16443057,\n",
       "       11.64875464, 12.1330787 , 12.61740277, 13.10172683, 13.5860509 ,\n",
       "       14.07037496, 14.55469903, 15.03902309, 15.52334716, 16.00767122,\n",
       "       16.49199529, 16.97631936, 17.46064342, 17.94496749, 18.42929155,\n",
       "       18.91361562, 19.39793968, 19.88226375, 20.36658781, 20.85091188])"
      ]
     },
     "execution_count": 40,
     "metadata": {},
     "output_type": "execute_result"
    }
   ],
   "source": [
    "yfit = model.predict(Xfit)\n",
    "yfit"
   ]
  },
  {
   "cell_type": "code",
   "execution_count": null,
   "metadata": {},
   "outputs": [],
   "source": []
  },
  {
   "cell_type": "markdown",
   "metadata": {
    "colab": {
     "autoexec": {
      "startup": false,
      "wait_interval": 0
     }
    },
    "colab_type": "code",
    "id": "RQJD-1jo2QSF"
   },
   "source": [
    "####  <span style = \"color:red\">Código Original.</span>\n",
    "<!---\n",
    "Xfit = xfit[:, np.newaxis]\n",
    "Xfit\n",
    "yfit = model.predict(Xfit)\n",
    "yfit\n",
    "-->\n"
   ]
  },
  {
   "cell_type": "markdown",
   "metadata": {
    "colab_type": "text",
    "id": "VWKSkW7d2QSK"
   },
   "source": [
    "#### Por último, para visualizar os resultados, vamos traçar primeiro os dados originais e, em seguida, o ajuste do modelo linear, com as funções [`plt.scatter`](https://matplotlib.org/api/_as_gen/matplotlib.pyplot.scatter.html) e [`plt.plot`](https://matplotlib.org/api/_as_gen/matplotlib.pyplot.plot.html)."
   ]
  },
  {
   "cell_type": "code",
   "execution_count": 41,
   "metadata": {},
   "outputs": [
    {
     "data": {
      "image/png": "[encoded data removed]",
      "text/plain": [
       "<Figure size 432x288 with 1 Axes>"
      ]
     },
     "metadata": {
      "needs_background": "light"
     },
     "output_type": "display_data"
    }
   ],
   "source": [
    "plt.scatter(x, y)\n",
    "plt.plot(xfit, yfit);"
   ]
  },
  {
   "cell_type": "markdown",
   "metadata": {
    "colab": {
     "autoexec": {
      "startup": false,
      "wait_interval": 0
     }
    },
    "colab_type": "code",
    "id": "DCIqoLg32QSK"
   },
   "source": [
    "####  <span style = \"color:red\">Código Original.</span>\n",
    "<!---\n",
    "plt.scatter(x, y)\n",
    "plt.plot(xfit, yfit);\n",
    "-->"
   ]
  },
  {
   "cell_type": "markdown",
   "metadata": {
    "colab_type": "text",
    "id": "d3hPrUOi2QSQ"
   },
   "source": [
    "#### Normalmente, a eficácia do modelo é avaliada por meio da comparação dos resultados com algum baseline conhecido, como veremos no próximo exemplo."
   ]
  },
  {
   "cell_type": "markdown",
   "metadata": {
    "colab_type": "text",
    "id": "0mw3E22L2QSR"
   },
   "source": [
    "### Exemplo de aprendizagem supervisionada: Classificação com o conjunto de dados Iris.\n",
    "\n",
    "#### Vamos ver mais um exemplo desse processo, usando o conjunto de dados `Iris` que mencionamos antes. A pergunta será esta: usando um modelo treinado em uma parte do conjunto de dados Iris, com que eficácia será possível prever as `tags`  restantes?\n",
    "\n",
    "#### Vamos primeiramente importar a biblioteca [`seaborn`](https://seaborn.pydata.org/) e carregar o dataset `iris` com a função [`sns.load_dataset()`](https://seaborn.pydata.org/generated/seaborn.load_dataset.html)"
   ]
  },
  {
   "cell_type": "code",
   "execution_count": 43,
   "metadata": {},
   "outputs": [],
   "source": [
    "import seaborn as sns\n",
    "iris = sns.load_dataset('iris')"
   ]
  },
  {
   "cell_type": "markdown",
   "metadata": {
    "colab": {
     "autoexec": {
      "startup": false,
      "wait_interval": 0
     }
    },
    "colab_type": "code",
    "id": "OBiFLmpK2QSS"
   },
   "source": [
    "####  <span style = \"color:red\">Código Original.</span>\n",
    "<!---\n",
    "import seaborn as sns\n",
    "iris = sns.load_dataset('iris')\n",
    "-->"
   ]
  },
  {
   "cell_type": "markdown",
   "metadata": {},
   "source": [
    "#### Primeiramente examine as primeiras linhas do código, depois crie um novo dataframe `X_iris` sem a coluna `'species'`, assim poderemos treinar nosso modelos. Cheque o formato e novamente as primeiras linhas do novo dataframe. "
   ]
  },
  {
   "cell_type": "code",
   "execution_count": 44,
   "metadata": {},
   "outputs": [
    {
     "data": {
      "text/html": [
       "<div>\n",
       "<style scoped>\n",
       "    .dataframe tbody tr th:only-of-type {\n",
       "        vertical-align: middle;\n",
       "    }\n",
       "\n",
       "    .dataframe tbody tr th {\n",
       "        vertical-align: top;\n",
       "    }\n",
       "\n",
       "    .dataframe thead th {\n",
       "        text-align: right;\n",
       "    }\n",
       "</style>\n",
       "<table border=\"1\" class=\"dataframe\">\n",
       "  <thead>\n",
       "    <tr style=\"text-align: right;\">\n",
       "      <th></th>\n",
       "      <th>sepal_length</th>\n",
       "      <th>sepal_width</th>\n",
       "      <th>petal_length</th>\n",
       "      <th>petal_width</th>\n",
       "      <th>species</th>\n",
       "    </tr>\n",
       "  </thead>\n",
       "  <tbody>\n",
       "    <tr>\n",
       "      <th>0</th>\n",
       "      <td>5.1</td>\n",
       "      <td>3.5</td>\n",
       "      <td>1.4</td>\n",
       "      <td>0.2</td>\n",
       "      <td>setosa</td>\n",
       "    </tr>\n",
       "    <tr>\n",
       "      <th>1</th>\n",
       "      <td>4.9</td>\n",
       "      <td>3.0</td>\n",
       "      <td>1.4</td>\n",
       "      <td>0.2</td>\n",
       "      <td>setosa</td>\n",
       "    </tr>\n",
       "    <tr>\n",
       "      <th>2</th>\n",
       "      <td>4.7</td>\n",
       "      <td>3.2</td>\n",
       "      <td>1.3</td>\n",
       "      <td>0.2</td>\n",
       "      <td>setosa</td>\n",
       "    </tr>\n",
       "    <tr>\n",
       "      <th>3</th>\n",
       "      <td>4.6</td>\n",
       "      <td>3.1</td>\n",
       "      <td>1.5</td>\n",
       "      <td>0.2</td>\n",
       "      <td>setosa</td>\n",
       "    </tr>\n",
       "    <tr>\n",
       "      <th>4</th>\n",
       "      <td>5.0</td>\n",
       "      <td>3.6</td>\n",
       "      <td>1.4</td>\n",
       "      <td>0.2</td>\n",
       "      <td>setosa</td>\n",
       "    </tr>\n",
       "  </tbody>\n",
       "</table>\n",
       "</div>"
      ],
      "text/plain": [
       "   sepal_length  sepal_width  petal_length  petal_width species\n",
       "0           5.1          3.5           1.4          0.2  setosa\n",
       "1           4.9          3.0           1.4          0.2  setosa\n",
       "2           4.7          3.2           1.3          0.2  setosa\n",
       "3           4.6          3.1           1.5          0.2  setosa\n",
       "4           5.0          3.6           1.4          0.2  setosa"
      ]
     },
     "execution_count": 44,
     "metadata": {},
     "output_type": "execute_result"
    }
   ],
   "source": [
    "iris.head()"
   ]
  },
  {
   "cell_type": "code",
   "execution_count": 45,
   "metadata": {},
   "outputs": [
    {
     "data": {
      "text/plain": [
       "(150, 5)"
      ]
     },
     "execution_count": 45,
     "metadata": {},
     "output_type": "execute_result"
    }
   ],
   "source": [
    "iris.shape"
   ]
  },
  {
   "cell_type": "code",
   "execution_count": 51,
   "metadata": {},
   "outputs": [],
   "source": [
    "X_iris = iris.drop('species', axis = 1)"
   ]
  },
  {
   "cell_type": "code",
   "execution_count": 52,
   "metadata": {},
   "outputs": [
    {
     "data": {
      "text/plain": [
       "(150, 4)"
      ]
     },
     "execution_count": 52,
     "metadata": {},
     "output_type": "execute_result"
    }
   ],
   "source": [
    "X_iris.shape"
   ]
  },
  {
   "cell_type": "code",
   "execution_count": 53,
   "metadata": {},
   "outputs": [
    {
     "data": {
      "text/html": [
       "<div>\n",
       "<style scoped>\n",
       "    .dataframe tbody tr th:only-of-type {\n",
       "        vertical-align: middle;\n",
       "    }\n",
       "\n",
       "    .dataframe tbody tr th {\n",
       "        vertical-align: top;\n",
       "    }\n",
       "\n",
       "    .dataframe thead th {\n",
       "        text-align: right;\n",
       "    }\n",
       "</style>\n",
       "<table border=\"1\" class=\"dataframe\">\n",
       "  <thead>\n",
       "    <tr style=\"text-align: right;\">\n",
       "      <th></th>\n",
       "      <th>sepal_length</th>\n",
       "      <th>sepal_width</th>\n",
       "      <th>petal_length</th>\n",
       "      <th>petal_width</th>\n",
       "    </tr>\n",
       "  </thead>\n",
       "  <tbody>\n",
       "    <tr>\n",
       "      <th>0</th>\n",
       "      <td>5.1</td>\n",
       "      <td>3.5</td>\n",
       "      <td>1.4</td>\n",
       "      <td>0.2</td>\n",
       "    </tr>\n",
       "    <tr>\n",
       "      <th>1</th>\n",
       "      <td>4.9</td>\n",
       "      <td>3.0</td>\n",
       "      <td>1.4</td>\n",
       "      <td>0.2</td>\n",
       "    </tr>\n",
       "    <tr>\n",
       "      <th>2</th>\n",
       "      <td>4.7</td>\n",
       "      <td>3.2</td>\n",
       "      <td>1.3</td>\n",
       "      <td>0.2</td>\n",
       "    </tr>\n",
       "    <tr>\n",
       "      <th>3</th>\n",
       "      <td>4.6</td>\n",
       "      <td>3.1</td>\n",
       "      <td>1.5</td>\n",
       "      <td>0.2</td>\n",
       "    </tr>\n",
       "    <tr>\n",
       "      <th>4</th>\n",
       "      <td>5.0</td>\n",
       "      <td>3.6</td>\n",
       "      <td>1.4</td>\n",
       "      <td>0.2</td>\n",
       "    </tr>\n",
       "  </tbody>\n",
       "</table>\n",
       "</div>"
      ],
      "text/plain": [
       "   sepal_length  sepal_width  petal_length  petal_width\n",
       "0           5.1          3.5           1.4          0.2\n",
       "1           4.9          3.0           1.4          0.2\n",
       "2           4.7          3.2           1.3          0.2\n",
       "3           4.6          3.1           1.5          0.2\n",
       "4           5.0          3.6           1.4          0.2"
      ]
     },
     "execution_count": 53,
     "metadata": {},
     "output_type": "execute_result"
    }
   ],
   "source": [
    "X_iris.head()"
   ]
  },
  {
   "cell_type": "markdown",
   "metadata": {
    "colab": {
     "autoexec": {
      "startup": false,
      "wait_interval": 0
     }
    },
    "colab_type": "code",
    "id": "nLqPKOaX2QSV"
   },
   "source": [
    "####  <span style = \"color:red\">Código Original.</span>\n",
    "<!---\n",
    "iris.head()\n",
    "iris.shape\n",
    "#X_iris = iris.drop('species', axis = 1)\n",
    "#X_iris.shape\n",
    "#X_iris.head()\n",
    "-->"
   ]
  },
  {
   "cell_type": "markdown",
   "metadata": {},
   "source": [
    "#### Crie também um objeto `y_iris`  que receba os rótulos do dataframe iris, a coluna `'species'`. "
   ]
  },
  {
   "cell_type": "code",
   "execution_count": 54,
   "metadata": {},
   "outputs": [],
   "source": [
    "y_iris = iris['species']"
   ]
  },
  {
   "cell_type": "code",
   "execution_count": 55,
   "metadata": {},
   "outputs": [
    {
     "data": {
      "text/plain": [
       "(150,)"
      ]
     },
     "execution_count": 55,
     "metadata": {},
     "output_type": "execute_result"
    }
   ],
   "source": [
    "y_iris.shape"
   ]
  },
  {
   "cell_type": "code",
   "execution_count": 56,
   "metadata": {},
   "outputs": [
    {
     "data": {
      "text/plain": [
       "0    setosa\n",
       "1    setosa\n",
       "2    setosa\n",
       "3    setosa\n",
       "4    setosa\n",
       "Name: species, dtype: object"
      ]
     },
     "execution_count": 56,
     "metadata": {},
     "output_type": "execute_result"
    }
   ],
   "source": [
    "y_iris.head()"
   ]
  },
  {
   "cell_type": "markdown",
   "metadata": {
    "colab": {
     "autoexec": {
      "startup": false,
      "wait_interval": 0
     }
    },
    "colab_type": "code",
    "id": "3GZ3GXQO2QSY"
   },
   "source": [
    "####  <span style = \"color:red\">Código Original.</span>\n",
    "<!---\n",
    "y_iris = iris['species']\n",
    "y_iris.shape\n",
    "y_iris.head()\n",
    "-->"
   ]
  },
  {
   "cell_type": "markdown",
   "metadata": {
    "colab_type": "text",
    "id": "0RgMjfY_2QSb"
   },
   "source": [
    "#### Para esta tarefa, vamos usar um modelo generativo bastante simples, conhecido como [Naive Bayes Gaussiano](https://machinelearningmastery.com/naive-bayes-for-machine-learning/#:~:text=This%20extension%20of%20naive%20Bayes,deviation%20from%20your%20training%20data), que presume que cada classe é construída a partir de uma distribuição Gaussiana. Vamos ver mais detalhes sobre ele mais adiante no curso.\n",
    "\n",
    "- Como é muito rápido e não tem hiperparâmetros para escolher, Naive Bayes Gaussiano costuma ser um bom modelo para usar como classificação baseline antes de explorar se é possível conseguir melhorias usando modelos mais sofisticados.\n",
    "\n",
    "- Queremos avaliar o modelo em dados que não tenham sido usados no treinamento, por isso vamos dividir os dados em um *conjunto de treinamento* e um *conjunto de teste*.\n",
    "\n",
    "- Poderíamos fazer isso manualmente, mas é mais prático usar a função [`train_test_split()`](https://scikit-learn.org/stable/modules/generated/sklearn.model_selection.train_test_split.html).\n",
    "\n",
    "#### Para isso importe a classe de funções [`sklearn.model_selection.train_test_split`](https://scikit-learn.org/stable/modules/generated/sklearn.model_selection.train_test_split.html) e aplique a função [`train_test_split()`](https://scikit-learn.org/stable/modules/generated/sklearn.model_selection.train_test_split.html#) às amostras `X_iris` e `y_iris`, observando o parâmetro `random_state = 1`."
   ]
  },
  {
   "cell_type": "code",
   "execution_count": 57,
   "metadata": {},
   "outputs": [],
   "source": [
    "from sklearn.model_selection import train_test_split\n",
    "Xtrain, Xtest, ytrain, ytest = train_test_split(X_iris, y_iris, random_state = 1 )"
   ]
  },
  {
   "cell_type": "markdown",
   "metadata": {
    "colab": {
     "autoexec": {
      "startup": false,
      "wait_interval": 0
     }
    },
    "colab_type": "code",
    "id": "78j80s0Z2QSc"
   },
   "source": [
    "####  <span style = \"color:red\">Código Original.</span>\n",
    "<!---\n",
    "from sklearn.model_selection import train_test_split\n",
    "Xtrain, Xtest, ytrain, ytest = train_test_split(X_iris, y_iris, random_state = 1 )\n",
    "-->"
   ]
  },
  {
   "cell_type": "markdown",
   "metadata": {
    "colab_type": "text",
    "id": "3c3F3S8w2QSh"
   },
   "source": [
    "\n",
    "#### Com os dados preparados, podemos seguir a receita para prever as tags:"
   ]
  },
  {
   "cell_type": "markdown",
   "metadata": {
    "colab": {
     "autoexec": {
      "startup": false,
      "wait_interval": 0
     }
    },
    "colab_type": "code",
    "id": "O-M6EXi32QSi"
   },
   "source": [
    "- 1. escolher a classe de modelo. Nesse caso o modelo Gaussiano de Naive Bayes [`from sklearn.naive_bayes.GaussianNB`](https://scikit-learn.org/stable/modules/generated/sklearn.naive_bayes.GaussianNB.html)."
   ]
  },
  {
   "cell_type": "code",
   "execution_count": 58,
   "metadata": {},
   "outputs": [],
   "source": [
    "from sklearn.naive_bayes import GaussianNB"
   ]
  },
  {
   "cell_type": "markdown",
   "metadata": {},
   "source": [
    "####  <span style = \"color:red\">Código Original.</span>\n",
    "<!---\n",
    "from sklearn.naive_bayes import GaussianNB\n",
    "-->"
   ]
  },
  {
   "cell_type": "markdown",
   "metadata": {},
   "source": [
    "- 2. instanciar o modelo. Usar a função [`GaussianNB()`](https://scikit-learn.org/stable/modules/generated/sklearn.naive_bayes.GaussianNB.html) para instanciar um modelo."
   ]
  },
  {
   "cell_type": "code",
   "execution_count": 59,
   "metadata": {},
   "outputs": [],
   "source": [
    "model = GaussianNB()"
   ]
  },
  {
   "cell_type": "markdown",
   "metadata": {},
   "source": [
    "####  <span style = \"color:red\">Código Original.</span>\n",
    "<!---\n",
    "model = GaussianNB()\n",
    "-->"
   ]
  },
  {
   "cell_type": "markdown",
   "metadata": {},
   "source": [
    "- 3. ajustar o modelo aos dados. Aqui é possível fazer uso do método [`.fit()`](https://scikit-learn.org/stable/tutorial/basic/tutorial.html), para ajustar os pontos de de treino para `X`e `y`."
   ]
  },
  {
   "cell_type": "code",
   "execution_count": 66,
   "metadata": {},
   "outputs": [
    {
     "data": {
      "text/plain": [
       "GaussianNB()"
      ]
     },
     "execution_count": 66,
     "metadata": {},
     "output_type": "execute_result"
    }
   ],
   "source": [
    "model.fit(Xtrain, ytrain)"
   ]
  },
  {
   "cell_type": "markdown",
   "metadata": {},
   "source": [
    "####  <span style = \"color:red\">Código Original.</span>\n",
    "<!---\n",
    "model.fit(Xtrain, ytrain)\n",
    "-->"
   ]
  },
  {
   "cell_type": "markdown",
   "metadata": {},
   "source": [
    "- 4. prever a partir de novos dados. O método `.predict()` realiza a predição a partir dos dados de teste. "
   ]
  },
  {
   "cell_type": "code",
   "execution_count": 67,
   "metadata": {},
   "outputs": [],
   "source": [
    "y_model = model.predict(Xtest)"
   ]
  },
  {
   "cell_type": "markdown",
   "metadata": {},
   "source": [
    "####  <span style = \"color:red\">Código Original.</span>\n",
    "<!---\n",
    "y_model = model.predict(Xtest)\n",
    "-->"
   ]
  },
  {
   "cell_type": "markdown",
   "metadata": {
    "colab_type": "text",
    "id": "a1EkA6kP2QSl"
   },
   "source": [
    "#### A classe [`sklearn.metrics.accuracy_score`](https://scikit-learn.org/stable/modules/generated/sklearn.metrics.accuracy_score.html) fornece ferramentas para checar a acurácia com que o modelo realizou suas previsões, ela deve ser importada.\n",
    "\n",
    "#### Usamos a função [`.accuracy_score()`](https://scikit-learn.org/stable/modules/generated/sklearn.metrics.accuracy_score.html) para estudar a proporção de tags previstas que coincidem com o valor real correspondente a essa observação. Aqui testaremos os valores `y` de teste e `y` de modelo."
   ]
  },
  {
   "cell_type": "code",
   "execution_count": 70,
   "metadata": {},
   "outputs": [
    {
     "data": {
      "text/plain": [
       "0.9736842105263158"
      ]
     },
     "execution_count": 70,
     "metadata": {},
     "output_type": "execute_result"
    }
   ],
   "source": [
    "from sklearn.metrics import accuracy_score\n",
    "accuracy_score(ytest, y_model)"
   ]
  },
  {
   "cell_type": "markdown",
   "metadata": {
    "colab": {
     "autoexec": {
      "startup": false,
      "wait_interval": 0
     }
    },
    "colab_type": "code",
    "id": "yn-EOlo32QSn"
   },
   "source": [
    "####  <span style = \"color:red\">Código Original.</span>\n",
    "<!---\n",
    "from sklearn.metrics import accuracy_score\n",
    "accuracy_score(ytest, y_model)\n",
    "\n",
    "#### Com precisão superior a 97%, podemos ver que até mesmo esse simples algoritmo de classificação é efetivo para esse conjunto de dados específico.\n",
    "-->"
   ]
  },
  {
   "cell_type": "markdown",
   "metadata": {
    "colab_type": "text",
    "id": "a2QiIqT02QSr"
   },
   "source": [
    "### Exemplo de aprendizagem não supervisionada: Dimensionalidade de Iris.\n",
    "\n",
    "#### Como exemplo de problema de aprendizagem não supervisionado, vamos ver como reduzir a dimensionalidade dos dados de Iris para facilitar a visualização. \n",
    "\n",
    "#### Lembre que o conjunto de dados Iris tem quatro dimensões: há quatro features medidas para cada observação (sample).\n",
    "\n",
    "#### A tarefa de redução da dimensionalidade é investigar se existe uma representação apropriada de baixa dimensionalidade que mantenha as características essenciais do conjunto de dados original. \n",
    "\n",
    "#### Freqüêntemente, a redução da dimensionalidade é usada como ajuda para visualizar os dados: afinal, é muito mais fácil traçar os dados em duas dimensões que em quatro ou mais. \n",
    "\n",
    "#### Neste exemplo, vamos usar o modelo [Principal Component Analysis](https://towardsdatascience.com/principal-component-analysis-pca-from-scratch-in-python-7f3e2a540c51) (PCA), que é uma técnica rápida de redução linear da dimensionalidade. Vamos submeter os dados à classe de funções [`sklearn.decomposition.PCA`](https://scikit-learn.org/stable/modules/generated/sklearn.decomposition.PCA.html) e pedir para o modelo retornar dois componentes, ou seja, uma representação bidimensional dos dados. \n",
    "\n",
    "#### Seguindo a sequência de passos apresentada anteriormente, temos:"
   ]
  },
  {
   "cell_type": "markdown",
   "metadata": {},
   "source": [
    "- 1. Selecionar a classe de modelo. Importe a classe de funções [`sklearn.decomposition.PCA`](https://scikit-learn.org/stable/modules/generated/sklearn.decomposition.PCA.html)."
   ]
  },
  {
   "cell_type": "code",
   "execution_count": 71,
   "metadata": {},
   "outputs": [],
   "source": [
    "from sklearn.decomposition import PCA"
   ]
  },
  {
   "cell_type": "markdown",
   "metadata": {},
   "source": [
    "####  <span style = \"color:red\">Código Original.</span>\n",
    "<!---\n",
    "from sklearn.decomposition import PCA\n",
    "-->"
   ]
  },
  {
   "cell_type": "markdown",
   "metadata": {},
   "source": [
    "- 2. Instanciar o modelo com hiperparâmetros. Aplicamos a função [`PCA()`](https://scikit-learn.org/stable/modules/generated/sklearn.decomposition.PCA.html), observando o parâmetro `n_components = 2`. "
   ]
  },
  {
   "cell_type": "code",
   "execution_count": 93,
   "metadata": {},
   "outputs": [],
   "source": [
    "model = PCA(n_components = 2)"
   ]
  },
  {
   "cell_type": "markdown",
   "metadata": {},
   "source": [
    "####  <span style = \"color:red\">Código Original.</span>\n",
    "<!---\n",
    "model = PCA(n_components = 2)\n",
    "-->"
   ]
  },
  {
   "cell_type": "markdown",
   "metadata": {},
   "source": [
    "- 3. Ajustar aos dados. Observar que não especificamos “y”. Aplicamos o método [`.fit()`](https://scikit-learn.org/stable/tutorial/basic/tutorial.html) ao objeto que instancia o modelo ao conjunto de teste."
   ]
  },
  {
   "cell_type": "code",
   "execution_count": 99,
   "metadata": {},
   "outputs": [
    {
     "data": {
      "text/plain": [
       "PCA(n_components=2)"
      ]
     },
     "execution_count": 99,
     "metadata": {},
     "output_type": "execute_result"
    }
   ],
   "source": [
    "model.fit(X_iris)"
   ]
  },
  {
   "cell_type": "markdown",
   "metadata": {},
   "source": [
    "####  <span style = \"color:red\">Código Original.</span>\n",
    "<!---\n",
    "model.fit(X_iris)\n",
    "-->"
   ]
  },
  {
   "cell_type": "markdown",
   "metadata": {},
   "source": [
    "- 4. Transformar os dados em duas dimensões com a função [`.transform()`](https://scikit-learn.org/stable/modules/generated/sklearn.decomposition.PCA.html#sklearn.decomposition.PCA.transform), podemos criar um objeto que receba a transformação dos dados de teste."
   ]
  },
  {
   "cell_type": "code",
   "execution_count": 100,
   "metadata": {},
   "outputs": [],
   "source": [
    "X_2D = model.transform(X_iris)"
   ]
  },
  {
   "cell_type": "markdown",
   "metadata": {},
   "source": [
    "####  <span style = \"color:red\">Código Original.</span>\n",
    "<!---\n",
    "X_2D = model.transform(X_iris)\n",
    "-->"
   ]
  },
  {
   "cell_type": "markdown",
   "metadata": {
    "colab_type": "text",
    "id": "262GtvTx2QSv"
   },
   "source": [
    "#### Agora, vamos traçar os resultados. Uma forma rápida de fazer isso é inserir os resultados no `DataFrame` original de Iris e usar o método [`.lmplot()`](https://seaborn.pydata.org/generated/seaborn.lmplot.html) de Seaborn para mostrar os resultados.\n",
    "\n",
    "Podemos alimentar o dataframe `iris` com as colunas `PCA1` e `PCA2` geradas com o modelo e então realizar o plot dessas quantidades, obsservando os parâmetros `hue = 'species' e fit_reg = False`. "
   ]
  },
  {
   "cell_type": "code",
   "execution_count": 101,
   "metadata": {},
   "outputs": [
    {
     "name": "stderr",
     "output_type": "stream",
     "text": [
      "C:\\Anaconda\\lib\\site-packages\\seaborn\\_decorators.py:36: FutureWarning: Pass the following variables as keyword args: x, y. From version 0.12, the only valid positional argument will be `data`, and passing other arguments without an explicit keyword will result in an error or misinterpretation.\n",
      "  warnings.warn(\n"
     ]
    },
    {
     "data": {
      "image/png": "[encoded data removed]",
      "text/plain": [
       "<Figure size 444.75x360 with 1 Axes>"
      ]
     },
     "metadata": {
      "needs_background": "light"
     },
     "output_type": "display_data"
    }
   ],
   "source": [
    "iris['PCA1'] = X_2D[:, 0]\n",
    "iris['PCA2'] = X_2D[:, 1]\n",
    "sns.lmplot(\"PCA1\", \n",
    "           \"PCA2\", \n",
    "           hue = 'species', \n",
    "           data = iris, \n",
    "           fit_reg = False\n",
    "          );"
   ]
  },
  {
   "cell_type": "markdown",
   "metadata": {
    "colab": {
     "autoexec": {
      "startup": false,
      "wait_interval": 0
     }
    },
    "colab_type": "code",
    "id": "QyEWlsMj2QSv"
   },
   "source": [
    "####  <span style = \"color:red\">Código Original.</span>\n",
    "<!---\n",
    "iris['PCA1'] = X_2D[:, 0]\n",
    "iris['PCA2'] = X_2D[:, 1]\n",
    "sns.lmplot(\"PCA1\", \n",
    "           \"PCA2\", \n",
    "           hue = 'species', \n",
    "           data = iris, \n",
    "           fit_reg = False\n",
    "          );\n",
    "-->"
   ]
  },
  {
   "cell_type": "markdown",
   "metadata": {
    "colab_type": "text",
    "id": "HcZbXtJW2QS0"
   },
   "source": [
    "#### Vemos que, na representação em duas dimensões, as espécies estão relativamente bem separadas, ainda que o algoritmo PCA não tivesse conhecimento das tags das espécies de flores! \n",
    "\n",
    "#### Isso indica que uma classificação relativamente simples deveria funcionar com esse conjunto de dados, como vimos antes. "
   ]
  },
  {
   "cell_type": "markdown",
   "metadata": {
    "colab_type": "text",
    "id": "XXl2mRsh2QS1"
   },
   "source": [
    "### Aprendizagem não supervisionada: Clustering com Iris\n",
    "\n",
    "#### Vamos aplicar um algoritmo de clustering ao conjunto de dados Iris.\n",
    "\n",
    "#### Um algoritmo de clustering tenta encontrar grupos diferentes sem fazer referência a tags nos dados. \n",
    "\n",
    "#### Vamos usar um método avançado de clustering chamado [Gaussian Mixture Model](https://scikit-learn.org/stable/modules/mixture.html#:~:text=sklearn.,of%20components%20are%20also%20provided.) (GMM). O GMM tenta modelar os dados como uma coleção de blobs Gaussianos. \n",
    "\n",
    "#### Podemos ajustar o [GMM](https://towardsdatascience.com/gaussian-mixture-models-explained-6986aaf5a95) da seguinte forma:"
   ]
  },
  {
   "cell_type": "markdown",
   "metadata": {},
   "source": [
    "- 1. Escolhemos a classe de modelo. Importe a classe de funções [`sklearn.mixture.GaussianMixture`](https://scikit-learn.org/stable/modules/generated/sklearn.mixture.GaussianMixture.html)."
   ]
  },
  {
   "cell_type": "code",
   "execution_count": 102,
   "metadata": {},
   "outputs": [],
   "source": [
    "from sklearn.mixture import GaussianMixture"
   ]
  },
  {
   "cell_type": "markdown",
   "metadata": {},
   "source": [
    "####  <span style = \"color:red\">Código Original.</span>\n",
    "<!---\n",
    "from sklearn.mixture import GaussianMixture\n",
    "-->"
   ]
  },
  {
   "cell_type": "markdown",
   "metadata": {},
   "source": [
    "- 2. Instanciamos o modelo com hiperparâmetros usando a função [`GaussianMixture()`](https://scikit-learn.org/stable/modules/generated/sklearn.mixture.GaussianMixture.html), observando os parâmetros `n_components = 3` e `covariance_type = 'full'`."
   ]
  },
  {
   "cell_type": "code",
   "execution_count": 103,
   "metadata": {},
   "outputs": [],
   "source": [
    "model = GaussianMixture(n_components = 3, covariance_type = 'full')"
   ]
  },
  {
   "cell_type": "markdown",
   "metadata": {},
   "source": [
    "####  <span style = \"color:red\">Código Original.</span>\n",
    "<!---\n",
    "model = GaussianMixture(n_components = 3, covariance_type = 'full')\n",
    "-->"
   ]
  },
  {
   "cell_type": "markdown",
   "metadata": {},
   "source": [
    "- 3. Ajustamos aos dados. Para isso aplicamos novamente a função [`.fit()`](https://scikit-learn.org/stable/tutorial/basic/tutorial.html) ao objeto que instancia o modelo ao conjunto de teste."
   ]
  },
  {
   "cell_type": "code",
   "execution_count": 104,
   "metadata": {},
   "outputs": [
    {
     "data": {
      "text/html": [
       "<div>\n",
       "<style scoped>\n",
       "    .dataframe tbody tr th:only-of-type {\n",
       "        vertical-align: middle;\n",
       "    }\n",
       "\n",
       "    .dataframe tbody tr th {\n",
       "        vertical-align: top;\n",
       "    }\n",
       "\n",
       "    .dataframe thead th {\n",
       "        text-align: right;\n",
       "    }\n",
       "</style>\n",
       "<table border=\"1\" class=\"dataframe\">\n",
       "  <thead>\n",
       "    <tr style=\"text-align: right;\">\n",
       "      <th></th>\n",
       "      <th>sepal_length</th>\n",
       "      <th>sepal_width</th>\n",
       "      <th>petal_length</th>\n",
       "      <th>petal_width</th>\n",
       "    </tr>\n",
       "  </thead>\n",
       "  <tbody>\n",
       "    <tr>\n",
       "      <th>0</th>\n",
       "      <td>5.1</td>\n",
       "      <td>3.5</td>\n",
       "      <td>1.4</td>\n",
       "      <td>0.2</td>\n",
       "    </tr>\n",
       "    <tr>\n",
       "      <th>1</th>\n",
       "      <td>4.9</td>\n",
       "      <td>3.0</td>\n",
       "      <td>1.4</td>\n",
       "      <td>0.2</td>\n",
       "    </tr>\n",
       "    <tr>\n",
       "      <th>2</th>\n",
       "      <td>4.7</td>\n",
       "      <td>3.2</td>\n",
       "      <td>1.3</td>\n",
       "      <td>0.2</td>\n",
       "    </tr>\n",
       "    <tr>\n",
       "      <th>3</th>\n",
       "      <td>4.6</td>\n",
       "      <td>3.1</td>\n",
       "      <td>1.5</td>\n",
       "      <td>0.2</td>\n",
       "    </tr>\n",
       "    <tr>\n",
       "      <th>4</th>\n",
       "      <td>5.0</td>\n",
       "      <td>3.6</td>\n",
       "      <td>1.4</td>\n",
       "      <td>0.2</td>\n",
       "    </tr>\n",
       "  </tbody>\n",
       "</table>\n",
       "</div>"
      ],
      "text/plain": [
       "   sepal_length  sepal_width  petal_length  petal_width\n",
       "0           5.1          3.5           1.4          0.2\n",
       "1           4.9          3.0           1.4          0.2\n",
       "2           4.7          3.2           1.3          0.2\n",
       "3           4.6          3.1           1.5          0.2\n",
       "4           5.0          3.6           1.4          0.2"
      ]
     },
     "execution_count": 104,
     "metadata": {},
     "output_type": "execute_result"
    }
   ],
   "source": [
    "X_iris.head()"
   ]
  },
  {
   "cell_type": "code",
   "execution_count": 105,
   "metadata": {},
   "outputs": [
    {
     "data": {
      "text/plain": [
       "GaussianMixture(n_components=3)"
      ]
     },
     "execution_count": 105,
     "metadata": {},
     "output_type": "execute_result"
    }
   ],
   "source": [
    "model.fit(X_iris)"
   ]
  },
  {
   "cell_type": "markdown",
   "metadata": {},
   "source": [
    "####  <span style = \"color:red\">Código Original.</span>\n",
    "<!---\n",
    "model.fit(X_iris)\n",
    "-->"
   ]
  },
  {
   "cell_type": "markdown",
   "metadata": {},
   "source": [
    "- 4. Definimos as tags dos clusters de saída. Aqui podemos usar a função [`.predict()`](https://scipy-lectures.org/packages/scikit-learn/index.html#:~:text=predict()%20%3A%20given%20a%20trained,each%20object%20in%20the%20array.)."
   ]
  },
  {
   "cell_type": "code",
   "execution_count": 106,
   "metadata": {},
   "outputs": [
    {
     "data": {
      "text/plain": [
       "array([0, 0, 0, 0, 0, 0, 0, 0, 0, 0, 0, 0, 0, 0, 0, 0, 0, 0, 0, 0, 0, 0,\n",
       "       0, 0, 0, 0, 0, 0, 0, 0, 0, 0, 0, 0, 0, 0, 0, 0, 0, 0, 0, 0, 0, 0,\n",
       "       0, 0, 0, 0, 0, 0, 2, 2, 2, 2, 2, 2, 2, 2, 2, 2, 2, 2, 2, 2, 2, 2,\n",
       "       2, 2, 1, 2, 1, 2, 1, 2, 2, 2, 2, 1, 2, 2, 2, 2, 2, 1, 2, 2, 2, 2,\n",
       "       2, 2, 2, 2, 2, 2, 2, 2, 2, 2, 2, 2, 1, 1, 1, 1, 1, 1, 1, 1, 1, 1,\n",
       "       1, 1, 1, 1, 1, 1, 1, 1, 1, 1, 1, 1, 1, 1, 1, 1, 1, 1, 1, 1, 1, 1,\n",
       "       1, 1, 1, 1, 1, 1, 1, 1, 1, 1, 1, 1, 1, 1, 1, 1, 1, 1], dtype=int64)"
      ]
     },
     "execution_count": 106,
     "metadata": {},
     "output_type": "execute_result"
    }
   ],
   "source": [
    "y_gmm = model.predict(X_iris)\n",
    "y_gmm"
   ]
  },
  {
   "cell_type": "markdown",
   "metadata": {},
   "source": [
    "####  <span style = \"color:red\">Código Original.</span>\n",
    "<!---\n",
    "y_gmm = model.predict(X_iris)\n",
    "y_gmm\n",
    "-->"
   ]
  },
  {
   "cell_type": "markdown",
   "metadata": {
    "colab_type": "text",
    "id": "NIK-WHh02QS4"
   },
   "source": [
    "#### Como antes, vamos adicionar as tags dos clusters ao `DataFrame` Iris e usar `Seaborn` para traçar os resultados:"
   ]
  },
  {
   "cell_type": "code",
   "execution_count": 107,
   "metadata": {},
   "outputs": [
    {
     "data": {
      "text/html": [
       "<div>\n",
       "<style scoped>\n",
       "    .dataframe tbody tr th:only-of-type {\n",
       "        vertical-align: middle;\n",
       "    }\n",
       "\n",
       "    .dataframe tbody tr th {\n",
       "        vertical-align: top;\n",
       "    }\n",
       "\n",
       "    .dataframe thead th {\n",
       "        text-align: right;\n",
       "    }\n",
       "</style>\n",
       "<table border=\"1\" class=\"dataframe\">\n",
       "  <thead>\n",
       "    <tr style=\"text-align: right;\">\n",
       "      <th></th>\n",
       "      <th>sepal_length</th>\n",
       "      <th>sepal_width</th>\n",
       "      <th>petal_length</th>\n",
       "      <th>petal_width</th>\n",
       "      <th>species</th>\n",
       "      <th>PCA1</th>\n",
       "      <th>PCA2</th>\n",
       "      <th>cluster</th>\n",
       "    </tr>\n",
       "  </thead>\n",
       "  <tbody>\n",
       "    <tr>\n",
       "      <th>0</th>\n",
       "      <td>5.1</td>\n",
       "      <td>3.5</td>\n",
       "      <td>1.4</td>\n",
       "      <td>0.2</td>\n",
       "      <td>setosa</td>\n",
       "      <td>-2.684126</td>\n",
       "      <td>0.319397</td>\n",
       "      <td>0</td>\n",
       "    </tr>\n",
       "    <tr>\n",
       "      <th>1</th>\n",
       "      <td>4.9</td>\n",
       "      <td>3.0</td>\n",
       "      <td>1.4</td>\n",
       "      <td>0.2</td>\n",
       "      <td>setosa</td>\n",
       "      <td>-2.714142</td>\n",
       "      <td>-0.177001</td>\n",
       "      <td>0</td>\n",
       "    </tr>\n",
       "    <tr>\n",
       "      <th>2</th>\n",
       "      <td>4.7</td>\n",
       "      <td>3.2</td>\n",
       "      <td>1.3</td>\n",
       "      <td>0.2</td>\n",
       "      <td>setosa</td>\n",
       "      <td>-2.888991</td>\n",
       "      <td>-0.144949</td>\n",
       "      <td>0</td>\n",
       "    </tr>\n",
       "    <tr>\n",
       "      <th>3</th>\n",
       "      <td>4.6</td>\n",
       "      <td>3.1</td>\n",
       "      <td>1.5</td>\n",
       "      <td>0.2</td>\n",
       "      <td>setosa</td>\n",
       "      <td>-2.745343</td>\n",
       "      <td>-0.318299</td>\n",
       "      <td>0</td>\n",
       "    </tr>\n",
       "    <tr>\n",
       "      <th>4</th>\n",
       "      <td>5.0</td>\n",
       "      <td>3.6</td>\n",
       "      <td>1.4</td>\n",
       "      <td>0.2</td>\n",
       "      <td>setosa</td>\n",
       "      <td>-2.728717</td>\n",
       "      <td>0.326755</td>\n",
       "      <td>0</td>\n",
       "    </tr>\n",
       "  </tbody>\n",
       "</table>\n",
       "</div>"
      ],
      "text/plain": [
       "   sepal_length  sepal_width  petal_length  petal_width species      PCA1  \\\n",
       "0           5.1          3.5           1.4          0.2  setosa -2.684126   \n",
       "1           4.9          3.0           1.4          0.2  setosa -2.714142   \n",
       "2           4.7          3.2           1.3          0.2  setosa -2.888991   \n",
       "3           4.6          3.1           1.5          0.2  setosa -2.745343   \n",
       "4           5.0          3.6           1.4          0.2  setosa -2.728717   \n",
       "\n",
       "       PCA2  cluster  \n",
       "0  0.319397        0  \n",
       "1 -0.177001        0  \n",
       "2 -0.144949        0  \n",
       "3 -0.318299        0  \n",
       "4  0.326755        0  "
      ]
     },
     "execution_count": 107,
     "metadata": {},
     "output_type": "execute_result"
    }
   ],
   "source": [
    "iris['cluster'] = y_gmm\n",
    "iris.head()"
   ]
  },
  {
   "cell_type": "markdown",
   "metadata": {},
   "source": [
    "####  <span style = \"color:red\">Código Original.</span>\n",
    "<!---\n",
    "iris['cluster'] = y_gmm\n",
    "iris.head()\n",
    "-->"
   ]
  },
  {
   "cell_type": "markdown",
   "metadata": {},
   "source": [
    "#### Agora, vamos traçar os resultados. Uma forma rápida de fazer isso é inserir os resultados no `DataFrame` original de Iris e usar o método [`.lmplot()`](https://seaborn.pydata.org/generated/seaborn.lmplot.html) de Seaborn para mostrar os resultados. Vamos novamente plotar os resultados da aproximação [Principal Component Analysis](https://medium.com/@aptrishu/understanding-principle-component-analysis-e32be0253ef0), mas agora adotando o paâmetro `col = 'cluster'`. "
   ]
  },
  {
   "cell_type": "code",
   "execution_count": 108,
   "metadata": {},
   "outputs": [
    {
     "name": "stderr",
     "output_type": "stream",
     "text": [
      "C:\\Anaconda\\lib\\site-packages\\seaborn\\_decorators.py:36: FutureWarning: Pass the following variables as keyword args: x, y. From version 0.12, the only valid positional argument will be `data`, and passing other arguments without an explicit keyword will result in an error or misinterpretation.\n",
      "  warnings.warn(\n"
     ]
    },
    {
     "data": {
      "image/png": "[encoded data removed]",
      "text/plain": [
       "<Figure size 1164.75x360 with 3 Axes>"
      ]
     },
     "metadata": {
      "needs_background": "light"
     },
     "output_type": "display_data"
    }
   ],
   "source": [
    "sns.lmplot(\"PCA1\", \n",
    "           \"PCA2\", \n",
    "           data = iris, \n",
    "           hue = 'species', \n",
    "           col = 'cluster', \n",
    "           fit_reg = False\n",
    "          );"
   ]
  },
  {
   "cell_type": "code",
   "execution_count": 109,
   "metadata": {},
   "outputs": [
    {
     "data": {
      "text/plain": [
       "0     -2.684126\n",
       "1     -2.714142\n",
       "2     -2.888991\n",
       "3     -2.745343\n",
       "4     -2.728717\n",
       "         ...   \n",
       "145    1.944110\n",
       "146    1.527167\n",
       "147    1.764346\n",
       "148    1.900942\n",
       "149    1.390189\n",
       "Name: PCA1, Length: 150, dtype: float64"
      ]
     },
     "execution_count": 109,
     "metadata": {},
     "output_type": "execute_result"
    }
   ],
   "source": [
    "iris[\"PCA1\"]"
   ]
  },
  {
   "cell_type": "markdown",
   "metadata": {
    "colab": {
     "autoexec": {
      "startup": false,
      "wait_interval": 0
     }
    },
    "colab_type": "code",
    "id": "JDLDYV3p2QS5"
   },
   "source": [
    "####  <span style = \"color:red\">Código Original.</span>\n",
    "<!---\n",
    "sns.lmplot(\"PCA1\", \n",
    "           \"PCA2\", \n",
    "           data = iris, \n",
    "           hue = 'species', \n",
    "           col = 'cluster', \n",
    "           fit_reg = False\n",
    "          );\n",
    "-->"
   ]
  },
  {
   "cell_type": "markdown",
   "metadata": {
    "colab_type": "text",
    "id": "QWLVh-122QS-"
   },
   "source": [
    "#### Depois de separar os dados por número de cluster, vemos exatamente o grau de eficiência com que o algoritmo GMM recuperou a tag subjacente: a espécie *setosa* é separada perfeitamente dentro do cluster 0, embora apareça uma pequena parte misturada entre *versicolor* e *virginica*. \n",
    "\n",
    "#### Isso significa que mesmo sem um especialista que nos diga as tags de cada flor, as medidas dessas observações são suficientemente diferentes para que seja possível identificar *automaticamente* a presença desses diferentes grupos de espécies com um simples algoritmo de clustering. "
   ]
  },
  {
   "cell_type": "markdown",
   "metadata": {
    "colab_type": "text",
    "id": "xpqbZJmg2QTA"
   },
   "source": [
    "## Resumindo"
   ]
  },
  {
   "cell_type": "markdown",
   "metadata": {
    "colab_type": "text",
    "id": "XA-zhrPf2QTC"
   },
   "source": [
    "#### Nesta seção, abordamos as características essenciais da representação de dados em Scikit-Learn e a API de estimadores. \n",
    "\n",
    "#### Sem importar o tipo de estimador, o mesmo padrão de importar/instanciar/ajustar/prever se mantém em todos os casos. \n",
    "\n",
    "#### Com essas novas informações sobre a API de estimadores, você pode explorar a documentação de Scikit-Learn e começar a testar vários modelos sobre os dados. "
   ]
  },
  {
   "cell_type": "markdown",
   "metadata": {
    "colab": {
     "autoexec": {
      "startup": false,
      "wait_interval": 0
     }
    },
    "colab_type": "code",
    "id": "rEOUtQpm2QTD"
   },
   "source": [
    "####  <span style = \"color:blue\">Código Original.</span>\n",
    "<!---\n",
    "[``]()\n",
    "-->\n"
   ]
  },
  {
   "cell_type": "code",
   "execution_count": null,
   "metadata": {},
   "outputs": [],
   "source": []
  }
 ],
 "metadata": {
  "colab": {
   "default_view": {},
   "name": "PRACTICA_GUIADA_Intro_ML_Sklearn_pt_br.ipynb",
   "provenance": [],
   "version": "0.3.2",
   "views": {}
  },
  "kernelspec": {
   "display_name": "Python 3",
   "language": "python",
   "name": "python3"
  },
  "language_info": {
   "codemirror_mode": {
    "name": "ipython",
    "version": 3
   },
   "file_extension": ".py",
   "mimetype": "text/x-python",
   "name": "python",
   "nbconvert_exporter": "python",
   "pygments_lexer": "ipython3",
   "version": "3.8.5"
  }
 },
 "nbformat": 4,
 "nbformat_minor": 4
}
