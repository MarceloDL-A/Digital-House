{
 "cells": [
  {
   "cell_type": "code",
   "execution_count": null,
   "metadata": {},
   "outputs": [],
   "source": [
    "!pip install bs4"
   ]
  },
  {
   "cell_type": "code",
   "execution_count": null,
   "metadata": {},
   "outputs": [],
   "source": [
    "from bs4 import BeautifulSoup"
   ]
  },
  {
   "cell_type": "code",
   "execution_count": null,
   "metadata": {},
   "outputs": [],
   "source": [
    "from requests import get"
   ]
  },
  {
   "cell_type": "code",
   "execution_count": null,
   "metadata": {},
   "outputs": [],
   "source": [
    "url = 'https://www.imdb.com/search/title/?release_date=2018&sort=num_votes,desc&page=1'"
   ]
  },
  {
   "cell_type": "code",
   "execution_count": null,
   "metadata": {},
   "outputs": [],
   "source": [
    "imdb = get(url).content"
   ]
  },
  {
   "cell_type": "code",
   "execution_count": null,
   "metadata": {},
   "outputs": [],
   "source": [
    "conteudo = BeautifulSoup(imdb, 'html.parser')"
   ]
  },
  {
   "cell_type": "code",
   "execution_count": null,
   "metadata": {},
   "outputs": [],
   "source": [
    "len(conteudo.find_all('div', class_ = 'lister-item mode-advanced'))"
   ]
  },
  {
   "cell_type": "code",
   "execution_count": null,
   "metadata": {},
   "outputs": [],
   "source": [
    "movie_containers = conteudo.find_all('div', class_ = 'lister-item mode-advanced')"
   ]
  },
  {
   "cell_type": "code",
   "execution_count": null,
   "metadata": {},
   "outputs": [],
   "source": [
    "first_movie = movie_containers[0]"
   ]
  },
  {
   "cell_type": "code",
   "execution_count": null,
   "metadata": {},
   "outputs": [],
   "source": [
    "first_movie.h3.a.text.strip()"
   ]
  },
  {
   "cell_type": "code",
   "execution_count": null,
   "metadata": {},
   "outputs": [],
   "source": [
    "first_movie.find('span', class_ = 'lister-item-year text-muted unbold').text.strip()"
   ]
  },
  {
   "cell_type": "code",
   "execution_count": null,
   "metadata": {},
   "outputs": [],
   "source": [
    "float(first_movie.strong.text.strip())"
   ]
  },
  {
   "cell_type": "code",
   "execution_count": null,
   "metadata": {},
   "outputs": [],
   "source": [
    "int(first_movie.find('span', class_ = 'metascore favorable').text.strip())"
   ]
  },
  {
   "cell_type": "code",
   "execution_count": null,
   "metadata": {},
   "outputs": [],
   "source": [
    "names = []\n",
    "years = []\n",
    "scores = []\n",
    "metascores = []\n",
    "\n",
    "for movie in movie_containers:\n",
    "    name = movie.h3.a.text.strip()\n",
    "    names.append(name)\n",
    "    \n",
    "    year = movie.find('span', class_ = 'lister-item-year text-muted unbold').text.strip()\n",
    "    years.append(year)\n",
    "    \n",
    "    score = float(movie.strong.text.strip())\n",
    "    scores.append(score)\n",
    "    \n",
    "    if movie.find('span', class_ = 'metascore') is None:\n",
    "        metascore = 'sem metascore'\n",
    "        metascores.append(metascore)\n",
    "        \n",
    "    else:\n",
    "        metascore = int(movie.find('span', class_ = 'metascore').text.strip())\n",
    "        metascores.append(metascore)"
   ]
  },
  {
   "cell_type": "code",
   "execution_count": null,
   "metadata": {},
   "outputs": [],
   "source": [
    "import pandas as pd\n",
    "\n",
    "dataset_IMDB = pd.DataFrame({'nome':names, 'year': years, 'score': scores, 'metascore':metascores})\n",
    "\n",
    "dataset_IMDB"
   ]
  },
  {
   "cell_type": "code",
   "execution_count": null,
   "metadata": {},
   "outputs": [],
   "source": [
    "pages = [str(i) for i in range(1,5)] \n",
    "pages"
   ]
  },
  {
   "cell_type": "code",
   "execution_count": null,
   "metadata": {},
   "outputs": [],
   "source": [
    "years_url = [str(i) for i in range(2015,2020)] \n",
    "years_url"
   ]
  },
  {
   "cell_type": "code",
   "execution_count": null,
   "metadata": {},
   "outputs": [],
   "source": [
    "from time import sleep"
   ]
  },
  {
   "cell_type": "code",
   "execution_count": null,
   "metadata": {},
   "outputs": [],
   "source": [
    "from random import randint"
   ]
  },
  {
   "cell_type": "code",
   "execution_count": null,
   "metadata": {},
   "outputs": [],
   "source": [
    "names = [] \n",
    "years = [] \n",
    "scores = [] \n",
    "metascores = [] \n",
    "\n",
    "\n",
    "for year_url in years_url:\n",
    "    for page in pages:\n",
    "        response = get('http://www.imdb.com/search/title?release_date=' + str(year_url) + '&sort=num_votes,desc&page=' + str(page))\n",
    "        sleep(randint(1,4))\n",
    "        page_html = BeautifulSoup(response.text, 'html.parser')\n",
    "        mv_containers = page_html.find_all('div', class_ = 'lister-item mode-advanced')\n",
    "        for movie in movie_containers:\n",
    "            name = movie.h3.a.text.strip()\n",
    "            names.append(name)\n",
    "            \n",
    "            year = movie.find('span', class_ = 'lister-item-year text-muted unbold').text.strip()\n",
    "            years.append(year)\n",
    "    \n",
    "            score = float(movie.strong.text.strip())\n",
    "            scores.append(score)\n",
    "    \n",
    "            if movie.find('span', class_ = 'metascore') is None:\n",
    "                metascore = 'sem metascore'\n",
    "                metascores.append(metascore)\n",
    "            else:\n",
    "                metascore = int(movie.find('span', class_ = 'metascore').text.strip())\n",
    "                metascores.append(metascore)"
   ]
  },
  {
   "cell_type": "code",
   "execution_count": null,
   "metadata": {},
   "outputs": [],
   "source": [
    "dataset_IMDB = pd.DataFrame({'nome':names, 'year': years, 'score': scores, 'metascore':metascores})\n",
    "\n",
    "dataset_IMDB"
   ]
  },
  {
   "cell_type": "code",
   "execution_count": null,
   "metadata": {},
   "outputs": [],
   "source": []
  }
 ],
 "metadata": {
  "kernelspec": {
   "display_name": "Python 3",
   "language": "python",
   "name": "python3"
  },
  "language_info": {
   "codemirror_mode": {
    "name": "ipython",
    "version": 3
   },
   "file_extension": ".py",
   "mimetype": "text/x-python",
   "name": "python",
   "nbconvert_exporter": "python",
   "pygments_lexer": "ipython3",
   "version": "3.8.5"
  }
 },
 "nbformat": 4,
 "nbformat_minor": 4
}
