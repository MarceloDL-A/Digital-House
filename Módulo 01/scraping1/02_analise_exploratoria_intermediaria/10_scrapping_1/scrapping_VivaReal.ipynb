{
 "cells": [
  {
   "cell_type": "markdown",
   "metadata": {},
   "source": [
    "# Exemplo de extração de dados de páginas web\n",
    "\n",
    "# https://www.vivareal.com.br/venda/?pagina=5\n",
    "\n",
    "Este notebook extrai os dados de todos os [imóveis a venda no site VivaReal](https://www.vivareal.com.br/venda/) e escreve os dados extraidos num banco de dados (SQLIte).\n",
    "\n",
    "![cartao-vivareal.png](cartao-vivareal.png)\n",
    "\n",
    "Na última verificação, o site tinha 277 páginas de imóveis, 36 imóveis por página. Se deixá-lo rodar integralmente, teremos no final quase 10000 imóveis.\n",
    "\n",
    "Notebook escrito por Avi Alkalay <<DataScientist@digitalhouse.com>>"
   ]
  },
  {
   "cell_type": "code",
   "execution_count": null,
   "metadata": {},
   "outputs": [],
   "source": [
    "from bs4 import BeautifulSoup\n",
    "import requests\n",
    "import pandas as pd\n",
    "import sqlite3"
   ]
  },
  {
   "cell_type": "code",
   "execution_count": null,
   "metadata": {},
   "outputs": [],
   "source": [
    "# 2 opções de URL\n",
    "urlBrasil = \"https://www.vivareal.com.br/venda/?pagina={npagina}\"\n",
    "urlPinheiros = \"https://www.vivareal.com.br/venda/sp/sao-paulo/zona-oeste/pinheiros/apartamento_residencial/?pagina={npagina}\"\n",
    "\n",
    "# Vamos trabalhar com esta:\n",
    "url=urlBrasil\n",
    "\n",
    "# Para enganar o site, permutaremos entre 2 opções de assinaturas de browser.\n",
    "# Peguei de https://developers.whatismybrowser.com/\n",
    "userAgents=[\n",
    "    \"Mozilla/5.0 (X11; Linux x86_64) AppleWebKit/537.36 (KHTML, like Gecko) HeadlessChrome/74.0.3729.157 Safari/537.36\",\n",
    "    \"Mozilla/5.0 (Macintosh; Intel Mac OS X 10_14_5) AppleWebKit/605.1.15 (KHTML, like Gecko) Version/12.1.1 Safari/605.1.15\"\n",
    "]\n",
    "\n",
    "dbfile = 'VivaReal.db'\n",
    "tabela = 'venda'"
   ]
  },
  {
   "cell_type": "markdown",
   "metadata": {},
   "source": [
    "## Análise inicial de cada elemento da página\n",
    "\n",
    "Este trecho serve para testarmos a extração de cada elemento desejado, seja nome do imóvel, preço etc. Quando compreendido, movemos o trecho de código finalizado para o bloco mais adiante no notebook, em que o scrapping é feito em lote."
   ]
  },
  {
   "cell_type": "markdown",
   "metadata": {},
   "source": [
    "### Passo 1: Traz o HTML do site\n",
    "\n",
    "Use o `requests` para fazer uma operação HTTP GET e obter o HTML da página."
   ]
  },
  {
   "cell_type": "code",
   "execution_count": null,
   "metadata": {},
   "outputs": [],
   "source": [
    "doc = requests.get(url.format(npagina=1), headers={\"User-agent\": userAgents[1]})"
   ]
  },
  {
   "cell_type": "markdown",
   "metadata": {},
   "source": [
    "Vamos verificar o que o webserver retornou olhando só os 700 primeiros bytes (variavel `olhadinha`)."
   ]
  },
  {
   "cell_type": "code",
   "execution_count": null,
   "metadata": {},
   "outputs": [],
   "source": [
    "olhadinha=700\n",
    "print(str(doc.content[:olhadinha]) + '…')"
   ]
  },
  {
   "cell_type": "code",
   "execution_count": null,
   "metadata": {},
   "outputs": [],
   "source": [
    "doc.status_code"
   ]
  },
  {
   "cell_type": "markdown",
   "metadata": {},
   "source": [
    "### Passo 2: Analiza o texto HTML\n",
    "\n",
    "A biblioteca `BeautifulSoup` tem a capacidade de analizar o HTML entregue pelo site (que não é nada mais que texto corrido, como vimos), e convertê-lo em DOM (document object model). O DOM é o mesmo documento HTML só que todas as tags e sua hierarquia foram identificadas ao ponto de podermos fazer buscas por tags e attributos de seus tags."
   ]
  },
  {
   "cell_type": "code",
   "execution_count": null,
   "metadata": {},
   "outputs": [],
   "source": [
    "analizador = BeautifulSoup(doc.content, 'html.parser')"
   ]
  },
  {
   "cell_type": "markdown",
   "metadata": {},
   "source": [
    "A variável `analizador` agora contém o DOM do texto retornado pelo web server. Então agora usamos ela para buscar tags específicas.\n",
    "\n",
    "Usamos o _inspector_ do browser para entender a estrutura do documento que o HTMLeiro da VivaReal concebeu. Descobrimos que os imóveis estão publicados assim:\n",
    "\n",
    "```html\n",
    "<div id=\"12345\">\n",
    "    <div class=\"js-card-selector\">\n",
    "        ...mais tags sobre o imóvel...\n",
    "    </div>\n",
    "</div>\n",
    "\n",
    "<div id=\"54321\">\n",
    "    <div class=\"js-card-selector\">\n",
    "        ...mais tags sobre o imóvel...\n",
    "    </div>\n",
    "</div>\n",
    "```\n",
    "\n",
    "Cada imóvel está contido dentro de seu respectivo `<div id=\"....\">`, mas não temos nada específico e genérico nesta tag para selecioná-la. Já a tag imediatamente interior, `<div class=\"js-card-selector\">`, é idêntica para cada imóvel e contém a classe `js-card-selector`, o que a torna uma ótima candidata para ser selecionada.\n",
    "\n",
    "Então abaixo criaremos uma lista chamada `imoveis` que contém todos os trechos DOM que respeitam o nosso filtro: `<div>`s com classe `js-card-selector`."
   ]
  },
  {
   "cell_type": "code",
   "execution_count": null,
   "metadata": {},
   "outputs": [],
   "source": [
    "analizador"
   ]
  },
  {
   "cell_type": "code",
   "execution_count": null,
   "metadata": {},
   "outputs": [],
   "source": [
    "imoveis = analizador.find_all('div', class_=\"js-card-selector\")"
   ]
  },
  {
   "cell_type": "markdown",
   "metadata": {},
   "source": [
    "Vamos dar uma olhadinha no que tem dentro de cada ítem do array:"
   ]
  },
  {
   "cell_type": "code",
   "execution_count": null,
   "metadata": {},
   "outputs": [],
   "source": [
    "for i in imoveis[:5]:\n",
    "    print(str(i).replace(\"\\n\",\"\").replace(\"   \",\"\")[:200] + \"…\\n\")"
   ]
  },
  {
   "cell_type": "code",
   "execution_count": null,
   "metadata": {},
   "outputs": [],
   "source": [
    "len(imoveis)"
   ]
  },
  {
   "cell_type": "markdown",
   "metadata": {},
   "source": [
    "### Passo 3: Monto receitas para extrair cada dado que desejo\n",
    "\n",
    "Ótimo. Agora olhando a estrutura de tags e atributos, uso seletores para isolar exatamente o dado que desejo. Após isolá-lo, ainda forço ele a passar por filtros para eliminar inutilidades como espaços (uso `strip()`), prefixos como \"R$ \" (uso `replace(\"R$ \",\"\")`) e ajusto o ponto decimal de números (uso `replace(\".\",\"\")`) para em seguida convertê-los de texto para números (uso `int()`).\n",
    "\n",
    "É muito importante para mim também obter o ID do imóvel. Como esta informação está num atrbuto do `<div>` pai, uso o seletor `parent`."
   ]
  },
  {
   "cell_type": "code",
   "execution_count": null,
   "metadata": {},
   "outputs": [],
   "source": [
    "# Título do anúncio\n",
    "print(imoveis[0].find(\"span\",class_=\"property-card__title\").contents[0].strip())"
   ]
  },
  {
   "cell_type": "code",
   "execution_count": null,
   "metadata": {},
   "outputs": [],
   "source": [
    "# Endereço\n",
    "print(imoveis[0].find(\"span\",class_=\"property-card__address\").contents[0].strip())"
   ]
  },
  {
   "cell_type": "code",
   "execution_count": null,
   "metadata": {},
   "outputs": [],
   "source": [
    "imoveis[0].find(\"div\",class_=\"property-card__price\").find(\"p\").contents[0].strip().replace(\"R$ \",\"\").replace(\".\",\"\")"
   ]
  },
  {
   "cell_type": "code",
   "execution_count": null,
   "metadata": {},
   "outputs": [],
   "source": [
    "float(imoveis[0].find(\"div\",class_=\"property-card__price\").find(\"p\").contents[0].strip().replace(\"R$ \",\"\").replace(\".\",\"\"))"
   ]
  },
  {
   "cell_type": "code",
   "execution_count": null,
   "metadata": {},
   "outputs": [],
   "source": [
    "# Preço limpo e transformado em inteiro\n",
    "print(int(imoveis[0].find(\"div\",class_=\"property-card__price\").find(\"p\").contents[0].strip().replace(\"R$ \",\"\").replace(\".\",\"\")))"
   ]
  },
  {
   "cell_type": "code",
   "execution_count": null,
   "metadata": {},
   "outputs": [],
   "source": [
    "# Telefone\n",
    "try:\n",
    "    print(imoveis[0].find(\"a\",class_=\"property-card__contact--phone\").get('href').replace(\"tel:\",\"+55\"))\n",
    "except:\n",
    "    pass"
   ]
  },
  {
   "cell_type": "code",
   "execution_count": null,
   "metadata": {},
   "outputs": [],
   "source": [
    "# Texto descritivo\n",
    "try:\n",
    "    print(imoveis[0].find('ul',class_='property-card__details').text.strip())\n",
    "except:\n",
    "    pass"
   ]
  },
  {
   "cell_type": "code",
   "execution_count": null,
   "metadata": {},
   "outputs": [],
   "source": [
    "print(int(imoveis[0].find('ul',class_='property-card__details').find('span',class_='property-card__detail-area').text.strip()))"
   ]
  },
  {
   "cell_type": "code",
   "execution_count": null,
   "metadata": {},
   "outputs": [],
   "source": [
    "# imoveis[0].find('div',class_='property-card__description').contents[0].strip()\n",
    "\n",
    "# ID do imovel\n",
    "print(imoveis[0].parent.get('id'))"
   ]
  },
  {
   "cell_type": "markdown",
   "metadata": {},
   "source": [
    "## Extração em massa\n",
    "\n",
    "Depois da análise acima, podemos criar nosso loop que consome todo o site. Página por página, imóvel por imóvel, dado por dado."
   ]
  },
  {
   "cell_type": "code",
   "execution_count": null,
   "metadata": {},
   "outputs": [],
   "source": [
    "# são 277 páginas de imóveis a venda no total\n",
    "# paginas=277\n",
    "\n",
    "# mas a títlo de exemplo, usaremos somente 20 páginas:\n",
    "paginas=20"
   ]
  },
  {
   "cell_type": "code",
   "execution_count": null,
   "metadata": {},
   "outputs": [],
   "source": [
    "# em rows guardo uma lista temporária de dicts de dados capturados, 1 dict por imóvel\n",
    "imóveis=[]\n",
    "\n",
    "for pagina in range(1,paginas+1):\n",
    "    print(\"Estou aqui: \" + url.format(npagina=pagina))\n",
    "    \n",
    "    # pega a página do site pela internet\n",
    "    doc = requests.get(url.format(npagina=pagina))\n",
    "    \n",
    "    # analiza o HTML\n",
    "    analizador = BeautifulSoup(doc.content, 'html.parser')\n",
    "    \n",
    "    # extrai somente a lista de imóveis (em HTML) usando o seletor descoberto no código da página\n",
    "    imoveis = analizador.find_all('div', class_=\"js-card-selector\")\n",
    "    \n",
    "    for unidade in imoveis:\n",
    "        uni={}\n",
    "        # extrai dado por dado segundo seus seletores...\n",
    "        \n",
    "        # O ID:\n",
    "        uni['id']    = unidade.parent.get('id')\n",
    "        \n",
    "        # O título/nome:\n",
    "        uni['nome']  = unidade.find(\"span\",class_=\"property-card__title\").contents[0].strip()\n",
    "        \n",
    "        # O endereço:\n",
    "        uni['ende']  = unidade.find(\"span\",class_=\"property-card__address\").contents[0].strip()\n",
    "        \n",
    "        # A metragem\n",
    "        uni['metragem']=int(unidade.find('ul',class_='property-card__details').find('span',class_='property-card__detail-area').text.strip())\n",
    "        \n",
    "        # O preço tem uma pegadinha\n",
    "        try:\n",
    "            # Na maioria dos anuncios o preço está na posição 0.\n",
    "            # Mas em alguns, o preço aparece como \"a partir de\" e causa um erro aqui.\n",
    "            uni['preco'] = int(unidade.find(\"div\",class_=\"property-card__price\").find(\"p\").contents[0].strip().replace(\"R$ \",\"\").replace(\".\",\"\"))\n",
    "        except ValueError:\n",
    "            # Então o meu tratamento de erro para preços \"a partir de\" é tentar capturá-lo na posição 2:\n",
    "            try:\n",
    "                uni['preco'] = int(unidade.find(\"div\",class_=\"property-card__price\").contents[2].strip().replace(\"R$ \",\"\").replace(\".\",\"\"))\n",
    "            except IndexError:\n",
    "                # Mas há um outro tipo de problema, onde o preço aparece \"sob consulta\", e causa um \"IndexError\". Trato assim:\n",
    "                uni['preco'] = -1\n",
    "\n",
    "        # O telefone capturo manipulando a URL e dando uma internacionalizada básica com \"+55\":\n",
    "        try:\n",
    "            uni['tel']   = unidade.find(\"a\",class_=\"property-card__contact--phone\").get('href').replace(\"tel:\",\"+55\")\n",
    "        except:\n",
    "            pass\n",
    "        \n",
    "        # A descrição:\n",
    "        try:\n",
    "            uni['desc']  = unidade.find('ul',class_='property-card__details').text.strip()\n",
    "        except:\n",
    "            pass\n",
    "\n",
    "        # No final deste loop, o dict uni contém os dados de 1 imóvel, aí adiciono-o a uma lista de imóveis\n",
    "        imóveis.append(uni)"
   ]
  },
  {
   "cell_type": "markdown",
   "metadata": {},
   "source": [
    "Processei todos os imóveis de todas as páginas. Vamos ver o resultado..."
   ]
  },
  {
   "cell_type": "code",
   "execution_count": null,
   "metadata": {},
   "outputs": [],
   "source": [
    "imóveis"
   ]
  },
  {
   "cell_type": "markdown",
   "metadata": {},
   "source": [
    "Agora converterei minha lista de dicts para um DataFrame chamado `todosOsImoveis`. Para tal, crio um DataFrame vazio nomeando as colunas com as chaves de um dict `uni`."
   ]
  },
  {
   "cell_type": "code",
   "execution_count": null,
   "metadata": {},
   "outputs": [],
   "source": [
    "# Crio um DataFrame vazio cujas colunas são as chaves de 1 unidade:\n",
    "todosOsImoveis=pd.DataFrame(columns=uni.keys())\n",
    "todosOsImoveis"
   ]
  },
  {
   "cell_type": "markdown",
   "metadata": {},
   "source": [
    "Com o esqueleto do DataFrame pronto, adiciono nele todos os meus dicts (imóveis)."
   ]
  },
  {
   "cell_type": "code",
   "execution_count": null,
   "metadata": {},
   "outputs": [],
   "source": [
    "todosOsImoveis=todosOsImoveis.append(imóveis)\n",
    "\n",
    "todosOsImoveis.head()"
   ]
  },
  {
   "cell_type": "markdown",
   "metadata": {},
   "source": [
    "Agora em Pandas, vamos dar uma otimizadinha básica convertendo algumas colunas textuais para tipos numéricos."
   ]
  },
  {
   "cell_type": "code",
   "execution_count": null,
   "metadata": {},
   "outputs": [],
   "source": [
    "todosOsImoveis.info()"
   ]
  },
  {
   "cell_type": "markdown",
   "metadata": {},
   "source": [
    "Como ficaram os tipos de nossas colunas..."
   ]
  },
  {
   "cell_type": "code",
   "execution_count": null,
   "metadata": {},
   "outputs": [],
   "source": [
    "todosOsImoveis=todosOsImoveis.convert_dtypes()"
   ]
  },
  {
   "cell_type": "code",
   "execution_count": null,
   "metadata": {},
   "outputs": [],
   "source": [
    "todosOsImoveis.info()"
   ]
  },
  {
   "cell_type": "markdown",
   "metadata": {},
   "source": [
    "Por que a coluna `id` não foi convertida para `Int64` como as outras? Vamos forçar:"
   ]
  },
  {
   "cell_type": "code",
   "execution_count": null,
   "metadata": {},
   "outputs": [],
   "source": [
    "todosOsImoveis['id']=pd.to_numeric(todosOsImoveis['id'])"
   ]
  },
  {
   "cell_type": "code",
   "execution_count": null,
   "metadata": {},
   "outputs": [],
   "source": [
    "todosOsImoveis.info()"
   ]
  },
  {
   "cell_type": "markdown",
   "metadata": {},
   "source": [
    "Seta o índice para o ID do imóvel"
   ]
  },
  {
   "cell_type": "code",
   "execution_count": null,
   "metadata": {},
   "outputs": [],
   "source": [
    "todosOsImoveis.set_index(keys='id', inplace=True)"
   ]
  },
  {
   "cell_type": "markdown",
   "metadata": {},
   "source": [
    "Eis o nosso DataFrame pronto:"
   ]
  },
  {
   "cell_type": "code",
   "execution_count": null,
   "metadata": {},
   "outputs": [],
   "source": [
    "todosOsImoveis.head()"
   ]
  },
  {
   "cell_type": "markdown",
   "metadata": {},
   "source": [
    "## Grava o DataFrame inteiro num Banco de Dados\n",
    "\n",
    "Este é o código para abrir ou criar um aquivo SQLite chamado `VivaReal.db`, na tabela `venda`. Para usar outro banco, como MariaDB, Oracle, DB2, altere esta célula e use a biblioteca SQL Alchemy com os drivers corretos. Todo o resto do código funcionará igual."
   ]
  },
  {
   "cell_type": "code",
   "execution_count": null,
   "metadata": {},
   "outputs": [],
   "source": [
    "dbfile = 'VivaReal.db'\n",
    "tabela = 'venda'\n",
    "\n",
    "db = sqlite3.connect(dbfile)"
   ]
  },
  {
   "cell_type": "markdown",
   "metadata": {},
   "source": [
    "Determina os tipos de cada coluna SQL baseado nos tipos das colunas Pandas:"
   ]
  },
  {
   "cell_type": "code",
   "execution_count": null,
   "metadata": {},
   "outputs": [],
   "source": [
    "sqlDataTypes={}\n",
    "\n",
    "for c in todosOsImoveis.columns:\n",
    "    if todosOsImoveis[c].dtype.kind == 'i':\n",
    "        sqlDataTypes[c]='INTEGER'\n",
    "    elif todosOsImoveis[c].dtype.kind == 'f':\n",
    "        sqlDataTypes[c]='REAL'\n",
    "    else:\n",
    "        sqlDataTypes[c]='TEXT'\n",
    "\n",
    "sqlDataTypes"
   ]
  },
  {
   "cell_type": "markdown",
   "metadata": {},
   "source": [
    "Escreve na tabela"
   ]
  },
  {
   "cell_type": "code",
   "execution_count": null,
   "metadata": {},
   "outputs": [],
   "source": [
    "todosOsImoveis.to_sql(tabela, index=True, if_exists='replace', dtype=sqlDataTypes, con=db)"
   ]
  },
  {
   "cell_type": "markdown",
   "metadata": {},
   "source": [
    "Efetiva as operações no DB e fecha o arquivo"
   ]
  },
  {
   "cell_type": "code",
   "execution_count": null,
   "metadata": {},
   "outputs": [],
   "source": [
    "db.commit()\n",
    "db.close()"
   ]
  },
  {
   "cell_type": "markdown",
   "metadata": {},
   "source": [
    "## Checa os dados no DB"
   ]
  },
  {
   "cell_type": "code",
   "execution_count": null,
   "metadata": {},
   "outputs": [],
   "source": [
    "dbfile = 'VivaReal.db'\n",
    "tabela = 'venda'\n",
    "\n",
    "db = sqlite3.connect(dbfile)\n",
    "\n",
    "imoveisCaros = pd.read_sql_query(f'select * from \"{tabela}\" where preco>600000', db)\n",
    "\n",
    "imoveisCaros"
   ]
  },
  {
   "cell_type": "markdown",
   "metadata": {},
   "source": [
    "## Sincronização Diária\n",
    "\n",
    "Para manter os dados em dia, este procedimento deve ser executado diariamente.\n",
    "\n",
    "No final da extração comparo todos os imóveis da minha base histórica com todos os imóveis que acabei de extrair novamente. ID por ID. É por isso que é tão importante se prender aos IDs. É neste momento que detecto qual imóvel sumiu da base, qual apareceu, qual mudou de preço ou descrição.\n",
    "\n",
    "* Imóveis que estão na minha base histórica mas não estão na última extração serão marcados como deletados ou “unlisted”.\n",
    "* Imóveis que não estavam na minha base histórica e que acabaram de aparecer na última extração serão marcados como novos.\n",
    "* Imóveis que aprentam preços diferentes entre a base histórica e a última extração devem ter essa alteração registrada em outra tabela. É interessante manter esse histórico de alteração de preços de imóveis.\n",
    "\n",
    "Certamente nossa modelagem simples de tabela não suporta registrar a mudança de preços. **Fica de lição** de casa criar uma tabela separada de preços de imóveis para que se possa manter um histórico."
   ]
  },
  {
   "cell_type": "markdown",
   "metadata": {},
   "source": [
    "## Exercício\n",
    "\n",
    "Melhorar o código e extrair também a lista de amenidades (elevador, piscina, churrasqueira etc)"
   ]
  }
 ],
 "metadata": {
  "kernelspec": {
   "display_name": "Python 3",
   "language": "python",
   "name": "python3"
  },
  "language_info": {
   "codemirror_mode": {
    "name": "ipython",
    "version": 3
   },
   "file_extension": ".py",
   "mimetype": "text/x-python",
   "name": "python",
   "nbconvert_exporter": "python",
   "pygments_lexer": "ipython3",
   "version": "3.7.3"
  }
 },
 "nbformat": 4,
 "nbformat_minor": 4
}
