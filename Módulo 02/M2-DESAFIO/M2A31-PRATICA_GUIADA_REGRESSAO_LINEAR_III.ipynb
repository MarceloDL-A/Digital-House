{
 "cells": [
  {
   "cell_type": "markdown",
   "metadata": {},
   "source": [
    "# PRÁTICA GUIADA: Regressão Linear com scikit-Learn e statsmodels"
   ]
  },
  {
   "cell_type": "markdown",
   "metadata": {},
   "source": [
    "#### Vamos investigar o dataset imobiliário usando regressão linear. Vamos usar duas bibliotecas (ou pacotes) diferentes, com exemplos que podem ser encontrados na documentação oficial.\n",
    "\n",
    "- [Doc statsmodels: regressão linear](http://statsmodels.sourceforge.net/devel/examples/#regression)\n",
    "- [Doc scikit-learn: regressão linear](http://scikit-learn.org/stable/modules/generated/sklearn.linear_model.LinearRegression.html)"
   ]
  },
  {
   "cell_type": "markdown",
   "metadata": {},
   "source": [
    "## 1. Introdução\n",
    "\n",
    "#### Já tivemos contato e nos familiarizamos com a biblioteca scikit-learn. Para esse notebook precisaremos baixar as seguintes classes de funções:\n",
    "\n",
    "- [`matplotlib.pyplot`](https://matplotlib.org/api/pyplot_api.html)\n",
    "\n",
    "- [`sklearn.metrics.mean_squared_error`](https://scikit-learn.org/stable/modules/generated/sklearn.metrics.mean_squared_error.html)\n",
    "\n",
    "- [`sklearn.datasets`](https://scikit-learn.org/stable/datasets/index.html)\n",
    "\n",
    "- [`sklearn.linear_model`](https://scikit-learn.org/stable/modules/linear_model.html)\n",
    "\n",
    "- [`sklearn.metrics.mean_squared_error`](https://scikit-learn.org/stable/modules/generated/sklearn.metrics.mean_squared_error.html)\n",
    "\n",
    "- [`sklearn.metrics.r2_score`](https://scikit-learn.org/stable/modules/generated/sklearn.metrics.r2_score.html)\n",
    "\n",
    "- [`sklearn.model_selection.train_test_split`](https://scikit-learn.org/stable/modules/generated/sklearn.model_selection.train_test_split.html)\n",
    "\n",
    "#### Lembrando que devemos ativar a função mágica [`%matplotlib inline`](https://ipython.readthedocs.io/en/stable/interactive/magics.html). "
   ]
  },
  {
   "cell_type": "code",
   "execution_count": null,
   "metadata": {},
   "outputs": [],
   "source": []
  },
  {
   "cell_type": "markdown",
   "metadata": {},
   "source": [
    "####  <span style = \"color:red\">Código Original.</span>\n",
    "<!---\n",
    "%matplotlib inline\n",
    "from matplotlib import pyplot as plt\n",
    "from sklearn import datasets, linear_model\n",
    "from sklearn.metrics import mean_squared_error, r2_score\n",
    "from sklearn.model_selection import train_test_split\n",
    "-->"
   ]
  },
  {
   "cell_type": "markdown",
   "metadata": {},
   "source": [
    "#### A biblioteca também inclui alguns [datasets](https://scikit-learn.org/stable/datasets/index.html), dentre eles vamos trabalhar com o `boston house-prices`, que pode ser carregado com o método  [`datasets.load_boston()`](https://scikit-learn.org/stable/modules/generated/sklearn.datasets.load_boston.html#sklearn.datasets.load_boston)."
   ]
  },
  {
   "cell_type": "code",
   "execution_count": null,
   "metadata": {},
   "outputs": [],
   "source": []
  },
  {
   "cell_type": "markdown",
   "metadata": {},
   "source": [
    "####  <span style = \"color:red\">Código Original.</span>\n",
    "<!---\n",
    "data = datasets.load_boston()\n",
    "print (data.DESCR)\n",
    "#data = datasets.load_boston(return_X_y = True)\n",
    "#print (data)\n",
    "-->"
   ]
  },
  {
   "cell_type": "markdown",
   "metadata": {},
   "source": [
    "## 2. Conhecendo o formato dos datsets de scikit-learn"
   ]
  },
  {
   "cell_type": "markdown",
   "metadata": {},
   "source": [
    "#### Observe o tipo associado ao dataset `data`, você perceberá que ele é um [`sklearn.utils.Bunch`](https://scikit-learn.org/stable/modules/generated/sklearn.utils.Bunch.html). Esse objeto funciona como um container que expõe chaves como atributos. Eles são às vezes são usados como saída para funções e métodos. Os objetos do tipo `bunch`  estendem os dicionários, permitindo que os valores sejam acessados por chave, `bunch [\"value_key\"]` ou por um atributo, `bunch.valor_key`."
   ]
  },
  {
   "cell_type": "code",
   "execution_count": null,
   "metadata": {},
   "outputs": [],
   "source": []
  },
  {
   "cell_type": "markdown",
   "metadata": {},
   "source": [
    "####  <span style = \"color:red\">Código Original.</span>\n",
    "<!---\n",
    "type(data)\n",
    "-->"
   ]
  },
  {
   "cell_type": "markdown",
   "metadata": {},
   "source": [
    "#### Vamos imprimir os nomes das features com a ajuda do atributo [`feature_names`](https://scikit-learn.org/stable/modules/generated/sklearn.datasets.load_boston.html#sklearn.datasets.load_boston), podemos ainda realizar a observação do conjunto de valores das variáveis dependentes e independente associados a um determinado índice, por exemplo zero, com as funções [`.data[]`](https://scikit-learn.org/stable/modules/generated/sklearn.datasets.load_boston.html#sklearn.datasets.load_boston) e [`target[]`](https://scikit-learn.org/stable/modules/generated/sklearn.datasets.load_boston.html#sklearn.datasets.load_boston).\n"
   ]
  },
  {
   "cell_type": "code",
   "execution_count": null,
   "metadata": {},
   "outputs": [],
   "source": []
  },
  {
   "cell_type": "markdown",
   "metadata": {
    "scrolled": true
   },
   "source": [
    "####  <span style = \"color:red\">Código Original.</span>\n",
    "<!---\n",
    "#print (data.feature_names)\n",
    "#print (data.data[0])\n",
    "print (data.target[0])\n",
    "-->"
   ]
  },
  {
   "cell_type": "markdown",
   "metadata": {},
   "source": [
    "#### Como podem ver, a Scikit-learn já separou o preço das casas do resto das variáveis."
   ]
  },
  {
   "cell_type": "markdown",
   "metadata": {},
   "source": [
    "## 3. Estimando o modelo de regressão linear"
   ]
  },
  {
   "cell_type": "markdown",
   "metadata": {},
   "source": [
    "#### Primeiro, colocamos os dados em um `dataframe` e verificamos se tudo foi carregado corretamente.\n",
    "\n",
    "#### Para isso vamos usar as bibliotecas [`numpy`](https://numpy.org/) e [`pandas`](https://pandas.pydata.org/) para realizarmos o tratamento dos dados. Vamos precisar também aplciar o método  [`DataFrame`](https://pandas.pydata.org/pandas-docs/stable/reference/api/pandas.DataFrame.html) para converter os objetos que recebem os dados `data` e os objetivos `targets` em em `dataframes` homônimos. Para o primeiro vamos observar os parâmetros `columns = data.feature_names` e para o segundo, `columns = [\"MEDV\"]`, para a coluna alvo que queremos determinar."
   ]
  },
  {
   "cell_type": "code",
   "execution_count": null,
   "metadata": {},
   "outputs": [],
   "source": []
  },
  {
   "cell_type": "markdown",
   "metadata": {},
   "source": [
    "####  <span style = \"color:red\">Código Original.</span>\n",
    "<!---\n",
    "import numpy as np\n",
    "import pandas as pd\n",
    "df = pd.DataFrame(data.data, columns=data.feature_names)\n",
    "\n",
    "# Colocamos o target (preço das casas -- MEDV) em outro DataFrame\n",
    "targets = pd.DataFrame(data.target, columns = [\"MEDV\"])\n",
    "\n",
    "# Vemos as primeiras filas de dados\n",
    "print (df.head())\n",
    "print (targets.head())\n",
    "-->"
   ]
  },
  {
   "cell_type": "markdown",
   "metadata": {},
   "source": [
    "- Identificamos visualmente algumas variáveis que pareçam relacionadas com o preço, RM e LSTAT. \n",
    "\n",
    "- Vamos analisá-las separadamente e, depois, juntas."
   ]
  },
  {
   "cell_type": "markdown",
   "metadata": {},
   "source": [
    "#### Vamos gerar as matrizes `X = df[[\"RM\"]]`  e o target `y = targets[\"MEDV\"]`."
   ]
  },
  {
   "cell_type": "code",
   "execution_count": null,
   "metadata": {},
   "outputs": [],
   "source": []
  },
  {
   "cell_type": "markdown",
   "metadata": {},
   "source": [
    "####  <span style = \"color:red\">Código Original.</span>\n",
    "<!---\n",
    "# Geramos as matrizes e o target\n",
    "X = df[[\"RM\"]]\n",
    "y = targets[\"MEDV\"]\n",
    "-->"
   ]
  },
  {
   "cell_type": "markdown",
   "metadata": {},
   "source": [
    "#### O próximo passo é instanciar um modelo `lm` com a ajuda da função [`linear_model.LinearRegression()`](https://scikit-learn.org/stable/modules/generated/sklearn.linear_model.LinearRegression.html). \n",
    "\n",
    "#### Depois disso podemos ajustar os pontos com o método [`.fit()`](https://scikit-learn.org/stable/modules/generated/sklearn.linear_model.LinearRegression.html#sklearn.linear_model.LinearRegression.fit) e realizar as previsões com  o método [`.predict()`](https://scikit-learn.org/stable/modules/generated/sklearn.linear_model.LinearRegression.html#sklearn.linear_model.LinearRegression.predict).\n",
    "\n",
    "#### Os métodos [`.intercept_`](https://scikit-learn.org/stable/modules/linear_model.html) e [`.coef_`](https://scikit-learn.org/stable/modules/linear_model.html) nos dão os valores dos coeficientes linear e angular. O método [`.score()`](https://scikit-learn.org/stable/modules/generated/sklearn.linear_model.LinearRegression.html#sklearn.linear_model.LinearRegression.score) retorna o coeficiente de determinação [R^2](https://www.statisticshowto.com/probability-and-statistics/coefficient-of-determination-r-squared/) da previsão."
   ]
  },
  {
   "cell_type": "code",
   "execution_count": null,
   "metadata": {},
   "outputs": [],
   "source": []
  },
  {
   "cell_type": "markdown",
   "metadata": {},
   "source": [
    "####  <span style = \"color:red\">Código Original.</span>\n",
    "<!---\n",
    "# Instanciamos, Ajustamos, etc.\n",
    "lm = linear_model.LinearRegression()\n",
    "model = lm.fit(X, y)\n",
    "predictions = lm.predict(X)\n",
    "\n",
    "print ('Intercepto=', ' ', model.intercept_)\n",
    "print ('RM=', ' ', model.coef_)\n",
    "print ('R2_train=', ' ', model.score(X, y))\n",
    "-->"
   ]
  },
  {
   "cell_type": "markdown",
   "metadata": {},
   "source": [
    "#### Para tornar o processo mais ágil, vamos criar uma função que resuma os coeficientes, o interceptor e o R2, ela terá como argumentos as quantidades `\"model\"` um objeto com o modelo e `\"X\"`, uma matriz de variáveis independentes."
   ]
  },
  {
   "cell_type": "code",
   "execution_count": null,
   "metadata": {},
   "outputs": [],
   "source": []
  },
  {
   "cell_type": "markdown",
   "metadata": {
    "scrolled": true
   },
   "source": [
    "####  <span style = \"color:red\">Código Original.</span>\n",
    "<!---\n",
    "def sum_mod(model, X):\n",
    "    a = pd.DataFrame(model.coef_ , \n",
    "                     X.columns.values\n",
    "                    )\n",
    "    \n",
    "    a = a.append(pd.DataFrame([model.intercept_, \n",
    "                               model.score(X, y)], \n",
    "                              index = ['Intecept',\n",
    "                                       'R2'\n",
    "                                      ]\n",
    "                             )\n",
    "                )\n",
    "    return(a)\n",
    "-->"
   ]
  },
  {
   "cell_type": "markdown",
   "metadata": {},
   "source": [
    "#### Podemos representar graficamente os atributos do objeto `X` , em função do alvo no objeto `y` com o método [`.scatter()`](https://matplotlib.org/api/_as_gen/matplotlib.pyplot.scatter.html), observe os parâmetros `s = 30,` `c = 'r'`, `marker = '+'`, `zorder = 10`. Você pode também explorar os atributos `.xlabel()`, `.ylabel()` e `.show()`."
   ]
  },
  {
   "cell_type": "code",
   "execution_count": null,
   "metadata": {},
   "outputs": [],
   "source": []
  },
  {
   "cell_type": "markdown",
   "metadata": {},
   "source": [
    "####  <span style = \"color:red\">Código Original.</span>\n",
    "<!---\n",
    "# Representamos graficamente a variável X contra a variável Y\n",
    "plt.scatter(X, \n",
    "            y, \n",
    "            s = 30, \n",
    "            c = 'r', \n",
    "            marker = '+', \n",
    "            zorder = 10\n",
    "           )\n",
    "plt.xlabel(\"RM\")\n",
    "plt.ylabel(\"Valores reais MEDV\")\n",
    "plt.show()\n",
    "-->"
   ]
  },
  {
   "cell_type": "markdown",
   "metadata": {},
   "source": [
    "#### O mesmo pode ser representado para as predições `predictions`, aqui podemos plotar também uma linha (y, y) para ter uma ideia de escala e disposição dos ponteos."
   ]
  },
  {
   "cell_type": "code",
   "execution_count": null,
   "metadata": {},
   "outputs": [],
   "source": []
  },
  {
   "cell_type": "markdown",
   "metadata": {},
   "source": [
    "####  <span style = \"color:red\">Código Original.</span>\n",
    "<!---\n",
    "plt.plot(y, \n",
    "         y, \n",
    "         '-.', \n",
    "         c = 'grey'\n",
    "        )\n",
    "\n",
    "plt.scatter(predictions, \n",
    "            y, \n",
    "            s = 30, \n",
    "            c = 'r', \n",
    "            marker = '+', \n",
    "            zorder = 10\n",
    "           )\n",
    "plt.xlabel(\"Previsões de MEDV usando RM\")\n",
    "plt.ylabel(\"Valores reais MEDV\")\n",
    "plt.show()\n",
    "-->"
   ]
  },
  {
   "cell_type": "markdown",
   "metadata": {},
   "source": [
    "#### Podemos calcular o erro de nosso ajuste com o auxílio da função [`.mean_squared_error()`](https://scikit-learn.org/stable/modules/generated/sklearn.metrics.mean_squared_error.html) e então chamar a função que definimos `.sum_mod()` para calcular os coeficientes de ajuste e o grau de acurácia $R^{2}$."
   ]
  },
  {
   "cell_type": "code",
   "execution_count": null,
   "metadata": {},
   "outputs": [],
   "source": []
  },
  {
   "cell_type": "markdown",
   "metadata": {},
   "source": [
    "####  <span style = \"color:red\">Código Original.</span>\n",
    "<!---\n",
    "print (\"EMC:\", mean_squared_error(y, predictions)) # erro quadrático médio\n",
    "sum_mod(model, X)\n",
    "-->"
   ]
  },
  {
   "cell_type": "markdown",
   "metadata": {},
   "source": [
    "- O que podem dizer ao comparar os dois gráficos? Como interpretam o último gráfico ? O que ele diz sobre o modelo? O que podem dizer sobre a relação entre RM e MEDV?\n",
    "\n",
    "- O que podem dizer ao comparar este modelo com o anterior? "
   ]
  },
  {
   "cell_type": "markdown",
   "metadata": {},
   "source": [
    "#### A seguir vamos plotar nossa predição `predictions` em comparação com os valores reais `y`, mas agora considerando os atributos `'LSTAT'` e `'MEDV'`. \n",
    "\n",
    "#### Vamos instanciar um modelo de regressão `lm` \n",
    "linear_model.LinearRegression\n",
    "[`LinearRegression()`](https://scikit-learn.org/stable/modules/generated/sklearn.linear_model.LinearRegression.html), da biblioteca [`sklearn.linear_model`](https://scikit-learn.org/stable/modules/classes.html#module-sklearn.linear_model).\n",
    "\n",
    "#### Arranjos de atributos e targets devem ser criados para que o modelo possa ser submetido ao ajuste `.fit()` e à previsão `.predict()` dos rótulos.\n",
    "\n",
    "#### Por fim as funções `plot()` e `.scatter()` são usadas para a impressão do gráfico. Vamos também imprimir o erro quadrático médio `mean_squared_error()` entre as previões e as observações."
   ]
  },
  {
   "cell_type": "code",
   "execution_count": null,
   "metadata": {},
   "outputs": [],
   "source": []
  },
  {
   "cell_type": "markdown",
   "metadata": {},
   "source": [
    "####  <span style = \"color:red\">Código Original.</span>\n",
    "<!---\n",
    "lm = linear_model.LinearRegression()\n",
    "\n",
    "X = df[[\"LSTAT\"]]\n",
    "y = targets[\"MEDV\"]\n",
    "\n",
    "model = lm.fit(X, y)\n",
    "predictions = lm.predict(X)\n",
    "\n",
    "# Representamos graficamente o modelo\n",
    "plt.plot(y, \n",
    "         y, \n",
    "         '--', \n",
    "         c = 'grey'\n",
    "        )\n",
    "plt.scatter(predictions, \n",
    "            y, \n",
    "            s = 30, \n",
    "            c = 'r', \n",
    "            marker = '+', \n",
    "            zorder = 10\n",
    "           )\n",
    "plt.xlabel(\"Previsões de MEDV usando LSTAT\")\n",
    "plt.ylabel(\"Valores reais MEDV\")\n",
    "plt.show()\n",
    "print (\"EMC:\", mean_squared_error(y, predictions))\n",
    "sum_mod(model, X)\n",
    "-->"
   ]
  },
  {
   "cell_type": "markdown",
   "metadata": {},
   "source": [
    "- O que pode ser dito sobre o a relação (\"LSTAT\", \"MEDV\")."
   ]
  },
  {
   "cell_type": "markdown",
   "metadata": {},
   "source": [
    "#### Avaliamos as influências dos atributos  `'RM'` e `'LSTAT'` sobre o valor médio das casas ocupadas pelos próprios donos `'MEDV'` separadamente, vamos agora gerar um modelo que tome as duas variáeis ao mesmo tempo.\n",
    "\n",
    "#### Repetimos o processo de instanciamento de um modelo, separamos o dataset original em atributos e target, ajustamos os pontos e realizamos as previsões.\n",
    "\n",
    "#### Quando plotarmos as previsões de `'MEDV'` usando `'RM'` e `'LSTAT'` e calcularmos o erro quadrático médio (EQM), poderemos comparar os três modelos e discutir aquele que melhor ajusta os pontos. "
   ]
  },
  {
   "cell_type": "markdown",
   "metadata": {},
   "source": [
    "####  <span style = \"color:red\">Código Original.</span>\n",
    "<!---\n",
    "lm = linear_model.LinearRegression()\n",
    "\n",
    "X = df[[\"RM\", \"LSTAT\"]]\n",
    "y = targets[\"MEDV\"]\n",
    "\n",
    "model = lm.fit(X, y)\n",
    "predictions = model.predict(X)\n",
    "\n",
    "# Plot the model\n",
    "plt.plot(y,\n",
    "        y, \n",
    "        '-.',\n",
    "        c = 'grey'\n",
    "        )\n",
    "plt.scatter(predictions, \n",
    "            y, \n",
    "            s = 30 , \n",
    "            c = 'r', \n",
    "            marker = '+', \n",
    "            zorder = 10\n",
    "           )\n",
    "plt.xlabel(\"Previsões de MEDV usando RM e LSTAT\")\n",
    "plt.ylabel(\"Valores reais MEDV\")\n",
    "plt.show()\n",
    "print (\"EMC:\", mean_squared_error(y, predictions))\n",
    "prevMSE = mean_squared_error(y, predictions)\n",
    "-->"
   ]
  },
  {
   "cell_type": "markdown",
   "metadata": {},
   "source": [
    "## Comparando os modelos\n",
    "\n",
    "#### Um modelo perfeito pareceria uma linha reta a 45 graus como a que vemos em cinza."
   ]
  },
  {
   "cell_type": "markdown",
   "metadata": {},
   "source": [
    "### Exercício\n",
    "\n",
    "#### Construa um modelo que leve em conta todas os atributos, investigue a dispersão `(predictions, y)`."
   ]
  },
  {
   "cell_type": "code",
   "execution_count": null,
   "metadata": {},
   "outputs": [],
   "source": []
  },
  {
   "cell_type": "markdown",
   "metadata": {
    "collapsed": true
   },
   "source": [
    "## Introdução a Statsmodels"
   ]
  },
  {
   "cell_type": "markdown",
   "metadata": {},
   "source": [
    "#### Agora vejamos como usar a biblioteca [`statsmodels.api`](https://www.statsmodels.org/stable/index.html), também popular para realizar regressões. O statsmodel é um módulo Python que oferece diversas classes e funções para a estimação de modelos estatísticos.\n",
    "\n",
    "\n",
    "#### A diferença aqui ocorre quando vamos ajustar o modelo, isso deve ser feito juntamente com a função  [`statsmodels.api.OLS`](https://www.statsmodels.org/devel/generated/statsmodels.regression.linear_model.OLS.html), que usa o método [Ordinary Least Squares](https://en.wikipedia.org/wiki/Ordinary_least_squares), uma forma de escolher o melhor modelo através dos parâmetros que geram os mínimos quadrados ([Least squares](https://en.wikipedia.org/wiki/Least_squares)).\n",
    "\n",
    "#### As demais funções que vimos até o momento permanecem na construção:\n",
    "\n",
    "- `.fit()`; \n",
    "- `.predict()`;\n",
    "- `.plot()`;\n",
    "- `.scatter()`;\n",
    "- `mean_squared_error`."
   ]
  },
  {
   "cell_type": "code",
   "execution_count": null,
   "metadata": {},
   "outputs": [],
   "source": []
  },
  {
   "cell_type": "markdown",
   "metadata": {},
   "source": [
    "###  <span style = \"color:red\">Código Original.</span>\n",
    "<!---\n",
    "import statsmodels.api as sm\n",
    "\n",
    "X = df[[\"RM\"]]\n",
    "y = targets[[\"MEDV\"]]\n",
    "\n",
    "# Notar a diferença na ordem de X e y neste caso\n",
    "model = sm.OLS(y, X).fit()\n",
    "predictions = model.predict(X)\n",
    "\n",
    "# Representamos graficamente os resultados\n",
    "plt.plot(y, \n",
    "         y, \n",
    "         '-.', \n",
    "         c = 'grey'\n",
    "        )\n",
    "plt.scatter(predictions, y, s=30, c='r', marker='+', zorder=10)\n",
    "plt.xlabel(\"Previsões usando RM\")\n",
    "plt.ylabel(\"Valores reais MEDV\")\n",
    "plt.show()\n",
    "\n",
    "# Imprimimos o MSE e um resumo do modelo\n",
    "print (\"EMC:\", mean_squared_error(y, predictions))\n",
    "print (model.summary())\n",
    "-->"
   ]
  },
  {
   "cell_type": "markdown",
   "metadata": {},
   "source": [
    "#### Vamos redefinir o objeto `X` em `statsmodels` com a expressão  `X = sm.add_constant(X) `.\n",
    "\n",
    "#### A função [`statsmodels.tools.tools.add_constant()`](https://www.statsmodels.org/stable/generated/statsmodels.tools.tools.add_constant.html) acresenta uma coluna de uns ao arranjo pois o coeficiente linear `interecept` não está incluído por padrão no `statsmodels` e deve ser adicionado pelo usuário."
   ]
  },
  {
   "cell_type": "code",
   "execution_count": null,
   "metadata": {},
   "outputs": [],
   "source": []
  },
  {
   "cell_type": "markdown",
   "metadata": {},
   "source": [
    "###  <span style = \"color:red\">Código Original.</span>\n",
    "<!---\n",
    "X = sm.add_constant(X)\n",
    "\n",
    "model = sm.OLS(y, X).fit()\n",
    "predictions = model.predict(X)\n",
    "\n",
    "# Representamos graficamente os resultados\n",
    "plt.plot(y, \n",
    "         y, \n",
    "         '-.', \n",
    "         c = 'grey'\n",
    "        )\n",
    "plt.scatter(predictions, \n",
    "            y, \n",
    "            s = 30, \n",
    "            c = 'r', \n",
    "            marker = '+', \n",
    "            zorder = 10\n",
    "           )\n",
    "plt.xlabel(\"Previsões usando RM\")\n",
    "plt.ylabel(\"Valores reais MEDV\")\n",
    "plt.show()\n",
    "\n",
    "# Imprimimos o MSE e um resumo do modelo\n",
    "print (\"EMC:\", mean_squared_error(y, predictions))\n",
    "print (model.summary())\n",
    "-->"
   ]
  },
  {
   "cell_type": "markdown",
   "metadata": {},
   "source": [
    "#### Para terminar, vamos usar todas os atributos como preditores para realizar a previsão do nosso target."
   ]
  },
  {
   "cell_type": "code",
   "execution_count": null,
   "metadata": {},
   "outputs": [],
   "source": []
  },
  {
   "cell_type": "markdown",
   "metadata": {},
   "source": [
    "###  <span style = \"color:red\">Código Original.</span>\n",
    "<!---\n",
    "X = sm.add_constant(X)\n",
    "X = df[list(df.columns.values)]\n",
    "model = sm.OLS(y, X).fit()\n",
    "predictions = model.predict(X)\n",
    "\n",
    "# Representamos graficamente os resultados\n",
    "plt.plot(y, \n",
    "         y, \n",
    "         '-.', \n",
    "         c = 'grey'\n",
    "        )\n",
    "plt.scatter(predictions, \n",
    "            y, \n",
    "            s = 30, \n",
    "            c = 'r', \n",
    "            marker = '+', \n",
    "            zorder = 10\n",
    "           )\n",
    "plt.xlabel(\"Previsões usando RM\")\n",
    "plt.ylabel(\"Valores reais MEDV\")\n",
    "plt.show()\n",
    "\n",
    "# Imprimimos o MSE e um resumo do modelo\n",
    "print (\"EMC:\", mean_squared_error(y, predictions))\n",
    "print (model.summary())\n",
    "-->"
   ]
  },
  {
   "cell_type": "markdown",
   "metadata": {},
   "source": [
    "#### O método [`.summary()`](https://www.statsmodels.org/dev/examples/notebooks/generated/ols.html) é muito poderoso para descrever o ajuste do modelo aos dados, tanto que torna o `statomodel` uma biblioteca preferível para esse ponto. Vamos a seguir discutir alguns dos principais pontos do sumário apresentado pelo método acima.\n",
    "\n",
    "- [Hipótese nula](https://www.statisticshowto.com/probability-and-statistics/null-hypothesis/) $H_{0}$: Não há relação entre as variáveis preditoras e a variável target: \n",
    "    ($y_{H_{0}} = a_{0}$)\n",
    "- [Hipótese alternativa](https://www.statisticshowto.com/what-is-an-alternate-hypothesis/) $H_{1}$: Há relação entre as variáveis preditoras e a variável target: \n",
    "    ($y_{H_{1}} = a_{0} + b_{1}x_{1} + ... + b_{n}x_{n}$).\n",
    "\n",
    "    1. <b>R-square</b>: Proporsão de variância da variável dependente predita pelas variáveis independentes, fit perfeito (= 1), \n",
    "\n",
    "    2. <b>Adj. R-squared</b>: Penaliza modelos com atributos desnecessários. Valores R-square = Adj. R-squared indicam que não há atributos desnecessários no modelo.\n",
    "\n",
    "    3. <b>F-statistic </b>: Avalia a significância do modelo de modo geral, Em regs. múltiplas ele compara o modelo sem preditores ($y_{H_{0}}$) com o modelo especificado ($y_{H_{1}}$) diz que os modelos são iguais, $H_{1}$ diz que $y_{H_{0}}$ é pior. Valores altos indicam rejeição de $H_{0}$.\n",
    "\n",
    "    4. <b>Prob (F-statistic) </b>: Probabilidade de obter resultados de testes pelo menos tão extremos quanto os resultados realmente observados, assumindo que a hipótese nula esteja correta. Valores baixos ($p-value < 0.05$) indicam rejeição de $H_{0}$.\n",
    "\n",
    "    5. <b>t</b> : Teste (t-test) para inferir se um determinado atributo é significante ou relevante para um determinado target. Considera a relação entre um determinado atributo e o target, sem levar em conta as influências dos demais atributos. Um atributo por vez. Valores altos indicam rejeição de $H_{0}$.\n",
    "\n",
    "    6. <b>P>|t|</b>: P-value associado ao respectivo t (t-test). Valores baixos ($p-value < 0.05$) indicam rejeição de $H_{0}$.\n",
    "    \n",
    "    7. **Omnibus**: Testa se a variação explicada em um conjunto de dados é significativamente maior do que a variação inexplicada. Seu teste de probabilidade deve tender a zero (distribuição normal dos erros). Para ler mais sobre este teste acesse [Omnibus test](https://en.wikipedia.org/wiki/Omnibus_test).\n",
    "    \n",
    "    8. **Durbin-Watson (Endogeneidade)**: A estatística Durbin Watson (DW) é um teste de autocorrelação nos resíduos de uma análise de regressão estatística. A estatística Durbin-Watson sempre terá um valor entre 0 e 4. Um valor de 2,0 significa que não há autocorrelação detectada na amostra. Valores de 0 a menos de 2 indicam autocorrelação positiva e valores de 2 a 4 indicam autocorrelação negativa - serve para verificar a endogeneidade. Dessa forma, o valor esperado para o teste Durbin-Watson deve estar próximo de 2 para indicar erros aleatórios independentes. Para mais informações acesse [Durbin Watson Statistic Definition](https://www.investopedia.com/terms/d/durbin-watson-statistic.asp)\n",
    "\n",
    "    9. **Jarque-Bera (Distribuição-Normal dos Erros)**: teste para determinar se os dados da amostra têm assimetria e curtose correspondentes a uma distribuição normal. O teste recebeu o nome de Carlos Jarque e Anil K. Bera. A estatística do teste é sempre não-negativa. Se estiver longe de zero, sinaliza que os dados não têm uma distribuição normal. Ainda, seu teste de probabilidade deve tender a zero (distribuição normal dos erros). Para mais informações acesse [Jarque-Bera test](https://en.wikipedia.org/wiki/Jarque%E2%80%93Bera_test)    "
   ]
  },
  {
   "cell_type": "markdown",
   "metadata": {},
   "source": [
    "##  <span style = \"color:blue\">Prática Independente.</span>\n"
   ]
  },
  {
   "cell_type": "markdown",
   "metadata": {},
   "source": [
    "#### Considere o dataset `demografia.csv` sobre dados demográficosdo IBGE e explore os dados primeiramente. Capte as variáveis dummies com a função [`get_dummies`](https://pandas.pydata.org/pandas-docs/stable/reference/api/pandas.get_dummies.html). \n",
    "\n",
    "#### Considere todas as features para a regressão linear múltima, observando a biblioteca [`statsmodels.api`](https://www.statsmodels.org/stable/index.html), e discuta o relatório gerado pela aplicação do método [`.summary()`](https://www.statsmodels.org/dev/examples/notebooks/generated/ols.html)."
   ]
  },
  {
   "cell_type": "code",
   "execution_count": null,
   "metadata": {},
   "outputs": [],
   "source": []
  },
  {
   "cell_type": "code",
   "execution_count": null,
   "metadata": {},
   "outputs": [],
   "source": []
  },
  {
   "cell_type": "code",
   "execution_count": null,
   "metadata": {},
   "outputs": [],
   "source": []
  },
  {
   "cell_type": "code",
   "execution_count": null,
   "metadata": {},
   "outputs": [],
   "source": []
  },
  {
   "cell_type": "code",
   "execution_count": null,
   "metadata": {},
   "outputs": [],
   "source": []
  },
  {
   "cell_type": "code",
   "execution_count": null,
   "metadata": {},
   "outputs": [],
   "source": []
  },
  {
   "cell_type": "markdown",
   "metadata": {},
   "source": [
    "#### Agora considere a avaliação do sumário anterior e proponha alterações ao conjunto de atributos descritivos inicial, para que seja possível obter uma avaliação melhorada da regressão."
   ]
  },
  {
   "cell_type": "code",
   "execution_count": null,
   "metadata": {},
   "outputs": [],
   "source": []
  },
  {
   "cell_type": "code",
   "execution_count": null,
   "metadata": {},
   "outputs": [],
   "source": []
  },
  {
   "cell_type": "code",
   "execution_count": null,
   "metadata": {},
   "outputs": [],
   "source": []
  },
  {
   "cell_type": "code",
   "execution_count": null,
   "metadata": {},
   "outputs": [],
   "source": []
  },
  {
   "cell_type": "markdown",
   "metadata": {},
   "source": [
    "####  <span style = \"color:blue\">Código Original.</span>\n",
    "<!---\n",
    "[``]()\n",
    "-->"
   ]
  },
  {
   "cell_type": "code",
   "execution_count": null,
   "metadata": {},
   "outputs": [],
   "source": []
  }
 ],
 "metadata": {
  "anaconda-cloud": {},
  "kernelspec": {
   "display_name": "Python 3",
   "language": "python",
   "name": "python3"
  },
  "language_info": {
   "codemirror_mode": {
    "name": "ipython",
    "version": 3
   },
   "file_extension": ".py",
   "mimetype": "text/x-python",
   "name": "python",
   "nbconvert_exporter": "python",
   "pygments_lexer": "ipython3",
   "version": "3.7.6"
  }
 },
 "nbformat": 4,
 "nbformat_minor": 1
}
