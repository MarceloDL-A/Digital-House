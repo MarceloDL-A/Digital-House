{
 "cells": [
  {
   "cell_type": "markdown",
   "metadata": {
    "colab_type": "text",
    "id": "HXCJlrSOyhgz"
   },
   "source": [
    "# PRACTICA INDEPEDIENTE: Introdução à Regressão Linear - Solução."
   ]
  },
  {
   "cell_type": "markdown",
   "metadata": {},
   "source": [
    "## Introdução:\n",
    "\n",
    "#### Vamos trabalhar com um conjunto de dados sobre aluguéis de bicicletas que foi utilizado em um concurso de Kaggle\n",
    "\n",
    "\n",
    "#### São fornecidos dados sobre aluguéis por hora que abrangem dois anos. O conjunto de treinamento abrange os primeiros 19 dias de cada mês e o conjunto de teste vai do dia 20 até o fim do mês. **_Queremos projetar o número total de bicicletas alugadas durante cada hora coberta pelo conjunto do teste, utilizando apenas as informações disponíveis no teste de treinamento._**\n",
    "\n",
    "**CAMPOS DO SET**\n",
    "\n",
    "**datetime** - hourly date + timestamp\n",
    "\n",
    "**season** - 1 = spring, 2 = summer, 3 = fall, 4 = winter\n",
    "\n",
    "**holiday** - whether the day is considered a holiday\n",
    "\n",
    "**workingday** - whether the day is neither a weekend nor holiday\n",
    "\n",
    "**weather** - \n",
    "\n",
    "1: Clear, Few clouds, Partly cloudy, Partly cloudy <br/>\n",
    "2: Mist + Cloudy, Mist + Broken clouds, Mist + Few clouds, Mist <br/>\n",
    "3: Light Snow, Light Rain + Thunderstorm + Scattered clouds,Light Rain + Scattered clouds <br/>\n",
    "4: Heavy Rain + Ice Pallets + Thunderstorm + Mist, Snow + Fog <br/>\n",
    "**temp** - temperature in Celsius\n",
    "\n",
    "**atemp** - \"feels like\" temperature in Celsius\n",
    "\n",
    "**humidity** - relative humidity\n",
    "\n",
    "**windspeed** - wind speed\n",
    "\n",
    "**casual** - number of non-registered user rentals initiated\n",
    "\n",
    "**registered** - number of registered user rentals initiated\n",
    "\n",
    "**count** - number of total rentals\n"
   ]
  },
  {
   "cell_type": "markdown",
   "metadata": {},
   "source": [
    "#### Exercício 1: Faça a importação das bibliotecas `numpy` e `padas`, receba o arquivo `'bikeshare.csv'`, tomando a coluna `datetime` como índice e então faça a renomeação da coluna: `'count'` $\\rightarrow$ `'total'`."
   ]
  },
  {
   "cell_type": "code",
   "execution_count": null,
   "metadata": {
    "colab": {},
    "colab_type": "code",
    "id": "EZjhGeiEEEv1"
   },
   "outputs": [],
   "source": []
  },
  {
   "cell_type": "code",
   "execution_count": null,
   "metadata": {},
   "outputs": [],
   "source": []
  },
  {
   "cell_type": "code",
   "execution_count": null,
   "metadata": {},
   "outputs": [],
   "source": []
  },
  {
   "cell_type": "code",
   "execution_count": null,
   "metadata": {},
   "outputs": [],
   "source": []
  },
  {
   "cell_type": "markdown",
   "metadata": {
    "colab_type": "text",
    "id": "RJVewrG7yhlY"
   },
   "source": [
    "#### Exercício 2: Considerando a engenharia dos atributos, tente criar as seguintes colunas dummy para as horas `hour` tabeladas.\n",
    "\n",
    "- hora: Como um único atributo numérico (de 0 a 23).\n",
    "- hora: Como um atributo categórico (use 23 variáveis dummy).\n",
    "- dia: Como um único atributo ategórico (día = 1 de 7am a 8pm e día = 0 de lo contrário)"
   ]
  },
  {
   "cell_type": "code",
   "execution_count": null,
   "metadata": {
    "colab": {},
    "colab_type": "code",
    "id": "ffWmH48Iyhla"
   },
   "outputs": [],
   "source": []
  },
  {
   "cell_type": "code",
   "execution_count": null,
   "metadata": {},
   "outputs": [],
   "source": []
  },
  {
   "cell_type": "code",
   "execution_count": null,
   "metadata": {
    "colab": {},
    "colab_type": "code",
    "id": "TDzXzmouyhlj"
   },
   "outputs": [],
   "source": []
  },
  {
   "cell_type": "code",
   "execution_count": null,
   "metadata": {
    "colab": {},
    "colab_type": "code",
    "id": "WAd1p9hLyhlm"
   },
   "outputs": [],
   "source": []
  },
  {
   "cell_type": "code",
   "execution_count": null,
   "metadata": {},
   "outputs": [],
   "source": []
  },
  {
   "cell_type": "code",
   "execution_count": null,
   "metadata": {},
   "outputs": [],
   "source": []
  },
  {
   "cell_type": "code",
   "execution_count": null,
   "metadata": {},
   "outputs": [],
   "source": []
  },
  {
   "cell_type": "code",
   "execution_count": null,
   "metadata": {
    "colab": {},
    "colab_type": "code",
    "id": "3UR0uSuTyhlz"
   },
   "outputs": [],
   "source": []
  },
  {
   "cell_type": "code",
   "execution_count": null,
   "metadata": {
    "colab": {},
    "colab_type": "code",
    "id": "_BTym5Tpyhl2"
   },
   "outputs": [],
   "source": []
  },
  {
   "cell_type": "code",
   "execution_count": null,
   "metadata": {},
   "outputs": [],
   "source": []
  },
  {
   "cell_type": "code",
   "execution_count": null,
   "metadata": {
    "colab": {},
    "colab_type": "code",
    "id": "UZzVMyqWyhmA"
   },
   "outputs": [],
   "source": []
  },
  {
   "cell_type": "code",
   "execution_count": null,
   "metadata": {
    "colab": {},
    "colab_type": "code",
    "id": "u4V1mkkcyhmF"
   },
   "outputs": [],
   "source": []
  },
  {
   "cell_type": "markdown",
   "metadata": {},
   "source": [
    "##### Exercício 3: Separe o dataset fornecido em subconjuntos de treino e teste e calcule os valores de `RMSE`  parra os diferentes conjuntos de atributos:\n",
    "\n",
    "- ['temp', 'season', 'humidity']\n",
    "- ['temp', 'season', 'humidity','dia']\n",
    "- ['temp', 'season', 'humidity','hora']\n",
    "- ['temp', 'season', 'humidity', \n",
    "                 1, 2, 3, 4, 5, \n",
    "                 6, 7, 8, 9, 10, \n",
    "                 11, 12, 13, 14, \n",
    "                 15, 16, 17, 18, \n",
    "                 19, 20, 21, 22, \n",
    "                 23\n",
    "                ].\n",
    "                \n",
    "#### Estude qual dos modelos funciona melhor."
   ]
  },
  {
   "cell_type": "code",
   "execution_count": null,
   "metadata": {},
   "outputs": [],
   "source": []
  },
  {
   "cell_type": "code",
   "execution_count": null,
   "metadata": {
    "colab": {},
    "colab_type": "code",
    "id": "Pc3WRoxpyhmL"
   },
   "outputs": [],
   "source": []
  },
  {
   "cell_type": "code",
   "execution_count": null,
   "metadata": {
    "colab": {},
    "colab_type": "code",
    "id": "TokEMFf7yhmS"
   },
   "outputs": [],
   "source": []
  },
  {
   "cell_type": "code",
   "execution_count": null,
   "metadata": {
    "colab": {},
    "colab_type": "code",
    "id": "f6erPo-cyhmZ"
   },
   "outputs": [],
   "source": []
  },
  {
   "cell_type": "code",
   "execution_count": null,
   "metadata": {
    "colab": {},
    "colab_type": "code",
    "id": "lZkXfgr8yhme"
   },
   "outputs": [],
   "source": []
  },
  {
   "cell_type": "code",
   "execution_count": null,
   "metadata": {
    "colab": {},
    "colab_type": "code",
    "id": "zOVXHkEyyhmq"
   },
   "outputs": [],
   "source": []
  },
  {
   "cell_type": "markdown",
   "metadata": {
    "colab_type": "text",
    "id": "WubYIZYByhmv"
   },
   "source": [
    "#### Exercício 4: Crie e compare modelos com variáveis quadráticas, `temp_2` e `humidity_2`, por exemplo. Considere a seguinte lista de atributos:\n",
    "\n",
    "- ['temp', 'season', 'humidity', \n",
    "                 1, 2, 3, 4, 5,\n",
    "                 6, 7, 8, 9, 10, \n",
    "                 11, 12, 13, 14, 15,\n",
    "                 16, 17, 18, 19, 20,\n",
    "                 21, 22, 23,\n",
    "               'temp_2', 'humidity_2']"
   ]
  },
  {
   "cell_type": "code",
   "execution_count": null,
   "metadata": {
    "colab": {},
    "colab_type": "code",
    "id": "5tjMNJT1yhmx"
   },
   "outputs": [],
   "source": []
  },
  {
   "cell_type": "code",
   "execution_count": null,
   "metadata": {
    "colab": {},
    "colab_type": "code",
    "id": "NnpyNOpyyhm1"
   },
   "outputs": [],
   "source": []
  },
  {
   "cell_type": "code",
   "execution_count": null,
   "metadata": {
    "colab": {},
    "colab_type": "code",
    "id": "gfEToNIuyhm3"
   },
   "outputs": [],
   "source": []
  },
  {
   "cell_type": "code",
   "execution_count": null,
   "metadata": {},
   "outputs": [],
   "source": []
  }
 ],
 "metadata": {
  "colab": {
   "collapsed_sections": [],
   "name": "4.PRACTICA_INDEPEDIENTE_Regresión_Lineal_Múltiple.ipynb",
   "provenance": [],
   "version": "0.3.2"
  },
  "kernelspec": {
   "display_name": "Python 3",
   "language": "python",
   "name": "python3"
  },
  "language_info": {
   "codemirror_mode": {
    "name": "ipython",
    "version": 3
   },
   "file_extension": ".py",
   "mimetype": "text/x-python",
   "name": "python",
   "nbconvert_exporter": "python",
   "pygments_lexer": "ipython3",
   "version": "3.7.6"
  }
 },
 "nbformat": 4,
 "nbformat_minor": 1
}
