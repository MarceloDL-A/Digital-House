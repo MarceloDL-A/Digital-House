{
 "cells": [
  {
   "cell_type": "markdown",
   "metadata": {},
   "source": [
    "# PRÁTICA GUIADA: Regressão Logística."
   ]
  },
  {
   "cell_type": "markdown",
   "metadata": {},
   "source": [
    "## 1. Introdução\n",
    "\n",
    "Este dataset sobre câncer de mama foi obtido com o [Hospital da Universidade de Wisconsin](https://archive.ics.uci.edu/ml/datasets/Breast+Cancer+Wisconsin+(Diagnostic)). São dados gerados na década de 90, que contém informações de estudos clínicos e celulares. O objetivo é prever o caráter benigno ($class_t=0$) maligno ($class_t=1$) do câncer com base em uma série de preditores de nível celular.\n",
    "\n",
    "* o atributo `class_t` é a variável target.\n",
    "\n",
    "* Os demais atributos são variáveis descritivas com valores normalizados de 1 a 10.\n",
    "\n",
    "- [`statsmodel`](https://www.statsmodels.org/stable/index.html)"
   ]
  },
  {
   "cell_type": "code",
   "execution_count": 1,
   "metadata": {},
   "outputs": [
    {
     "name": "stdout",
     "output_type": "stream",
     "text": [
      "Populating the interactive namespace from numpy and matplotlib\n"
     ]
    }
   ],
   "source": [
    "### Importar os pacotes a serem usados\n",
    "import statsmodels.api as sm\n",
    "import pandas as pd\n",
    "import numpy as np\n",
    "import seaborn as sns\n",
    "from sklearn.linear_model import LogisticRegression\n",
    "from sklearn.metrics import accuracy_score, classification_report\n",
    "from sklearn.model_selection import train_test_split\n",
    "%pylab inline"
   ]
  },
  {
   "cell_type": "markdown",
   "metadata": {},
   "source": [
    "####  <span style = \"color:red\">Código Original.</span>\n",
    "<!---\n",
    "### Importar os pacotes a serem usados\n",
    "import statsmodels.api as sm\n",
    "import pandas as pd\n",
    "import numpy as np\n",
    "import seaborn as sns\n",
    "from sklearn.linear_model import LogisticRegression\n",
    "from sklearn.metrics import accuracy_score, classification_report\n",
    "from sklearn.model_selection import train_test_split\n",
    "%pylab inline\n",
    "-->"
   ]
  },
  {
   "cell_type": "markdown",
   "metadata": {},
   "source": [
    "#### Vamos começar importando os dados do arquivo `breast-cancer.csv`."
   ]
  },
  {
   "cell_type": "code",
   "execution_count": 2,
   "metadata": {},
   "outputs": [
    {
     "data": {
      "text/html": [
       "<div>\n",
       "<style scoped>\n",
       "    .dataframe tbody tr th:only-of-type {\n",
       "        vertical-align: middle;\n",
       "    }\n",
       "\n",
       "    .dataframe tbody tr th {\n",
       "        vertical-align: top;\n",
       "    }\n",
       "\n",
       "    .dataframe thead th {\n",
       "        text-align: right;\n",
       "    }\n",
       "</style>\n",
       "<table border=\"1\" class=\"dataframe\">\n",
       "  <thead>\n",
       "    <tr style=\"text-align: right;\">\n",
       "      <th></th>\n",
       "      <th>ID</th>\n",
       "      <th>clump_Thickness</th>\n",
       "      <th>unif_cell_size</th>\n",
       "      <th>unif_cell_shape</th>\n",
       "      <th>adhesion</th>\n",
       "      <th>epith_cell_Size</th>\n",
       "      <th>bare_nuclei</th>\n",
       "      <th>bland_chromatin</th>\n",
       "      <th>norm_nucleoli</th>\n",
       "      <th>mitoses</th>\n",
       "      <th>class_t</th>\n",
       "    </tr>\n",
       "  </thead>\n",
       "  <tbody>\n",
       "    <tr>\n",
       "      <th>493</th>\n",
       "      <td>1297327</td>\n",
       "      <td>5</td>\n",
       "      <td>1</td>\n",
       "      <td>1</td>\n",
       "      <td>1</td>\n",
       "      <td>2</td>\n",
       "      <td>1</td>\n",
       "      <td>1</td>\n",
       "      <td>1</td>\n",
       "      <td>1</td>\n",
       "      <td>2</td>\n",
       "    </tr>\n",
       "    <tr>\n",
       "      <th>292</th>\n",
       "      <td>653777</td>\n",
       "      <td>8</td>\n",
       "      <td>3</td>\n",
       "      <td>4</td>\n",
       "      <td>9</td>\n",
       "      <td>3</td>\n",
       "      <td>10</td>\n",
       "      <td>3</td>\n",
       "      <td>3</td>\n",
       "      <td>1</td>\n",
       "      <td>4</td>\n",
       "    </tr>\n",
       "    <tr>\n",
       "      <th>445</th>\n",
       "      <td>1268313</td>\n",
       "      <td>5</td>\n",
       "      <td>1</td>\n",
       "      <td>1</td>\n",
       "      <td>3</td>\n",
       "      <td>2</td>\n",
       "      <td>1</td>\n",
       "      <td>1</td>\n",
       "      <td>1</td>\n",
       "      <td>1</td>\n",
       "      <td>2</td>\n",
       "    </tr>\n",
       "    <tr>\n",
       "      <th>316</th>\n",
       "      <td>76389</td>\n",
       "      <td>10</td>\n",
       "      <td>4</td>\n",
       "      <td>7</td>\n",
       "      <td>2</td>\n",
       "      <td>2</td>\n",
       "      <td>8</td>\n",
       "      <td>6</td>\n",
       "      <td>1</td>\n",
       "      <td>1</td>\n",
       "      <td>4</td>\n",
       "    </tr>\n",
       "    <tr>\n",
       "      <th>237</th>\n",
       "      <td>1285531</td>\n",
       "      <td>1</td>\n",
       "      <td>1</td>\n",
       "      <td>1</td>\n",
       "      <td>1</td>\n",
       "      <td>2</td>\n",
       "      <td>1</td>\n",
       "      <td>3</td>\n",
       "      <td>1</td>\n",
       "      <td>1</td>\n",
       "      <td>2</td>\n",
       "    </tr>\n",
       "    <tr>\n",
       "      <th>678</th>\n",
       "      <td>776715</td>\n",
       "      <td>3</td>\n",
       "      <td>1</td>\n",
       "      <td>1</td>\n",
       "      <td>1</td>\n",
       "      <td>3</td>\n",
       "      <td>2</td>\n",
       "      <td>1</td>\n",
       "      <td>1</td>\n",
       "      <td>1</td>\n",
       "      <td>2</td>\n",
       "    </tr>\n",
       "    <tr>\n",
       "      <th>617</th>\n",
       "      <td>1253955</td>\n",
       "      <td>8</td>\n",
       "      <td>7</td>\n",
       "      <td>4</td>\n",
       "      <td>4</td>\n",
       "      <td>5</td>\n",
       "      <td>3</td>\n",
       "      <td>5</td>\n",
       "      <td>10</td>\n",
       "      <td>1</td>\n",
       "      <td>4</td>\n",
       "    </tr>\n",
       "    <tr>\n",
       "      <th>605</th>\n",
       "      <td>1096352</td>\n",
       "      <td>6</td>\n",
       "      <td>3</td>\n",
       "      <td>3</td>\n",
       "      <td>3</td>\n",
       "      <td>3</td>\n",
       "      <td>2</td>\n",
       "      <td>6</td>\n",
       "      <td>1</td>\n",
       "      <td>1</td>\n",
       "      <td>2</td>\n",
       "    </tr>\n",
       "    <tr>\n",
       "      <th>668</th>\n",
       "      <td>466906</td>\n",
       "      <td>1</td>\n",
       "      <td>1</td>\n",
       "      <td>1</td>\n",
       "      <td>1</td>\n",
       "      <td>2</td>\n",
       "      <td>1</td>\n",
       "      <td>1</td>\n",
       "      <td>1</td>\n",
       "      <td>1</td>\n",
       "      <td>2</td>\n",
       "    </tr>\n",
       "    <tr>\n",
       "      <th>293</th>\n",
       "      <td>659642</td>\n",
       "      <td>10</td>\n",
       "      <td>8</td>\n",
       "      <td>4</td>\n",
       "      <td>4</td>\n",
       "      <td>4</td>\n",
       "      <td>10</td>\n",
       "      <td>3</td>\n",
       "      <td>10</td>\n",
       "      <td>4</td>\n",
       "      <td>4</td>\n",
       "    </tr>\n",
       "  </tbody>\n",
       "</table>\n",
       "</div>"
      ],
      "text/plain": [
       "          ID  clump_Thickness  unif_cell_size  unif_cell_shape  adhesion  \\\n",
       "493  1297327                5               1                1         1   \n",
       "292   653777                8               3                4         9   \n",
       "445  1268313                5               1                1         3   \n",
       "316    76389               10               4                7         2   \n",
       "237  1285531                1               1                1         1   \n",
       "678   776715                3               1                1         1   \n",
       "617  1253955                8               7                4         4   \n",
       "605  1096352                6               3                3         3   \n",
       "668   466906                1               1                1         1   \n",
       "293   659642               10               8                4         4   \n",
       "\n",
       "     epith_cell_Size  bare_nuclei  bland_chromatin   norm_nucleoli  mitoses  \\\n",
       "493                2            1                 1              1        1   \n",
       "292                3           10                 3              3        1   \n",
       "445                2            1                 1              1        1   \n",
       "316                2            8                 6              1        1   \n",
       "237                2            1                 3              1        1   \n",
       "678                3            2                 1              1        1   \n",
       "617                5            3                 5             10        1   \n",
       "605                3            2                 6              1        1   \n",
       "668                2            1                 1              1        1   \n",
       "293                4           10                 3             10        4   \n",
       "\n",
       "     class_t  \n",
       "493        2  \n",
       "292        4  \n",
       "445        2  \n",
       "316        4  \n",
       "237        2  \n",
       "678        2  \n",
       "617        4  \n",
       "605        2  \n",
       "668        2  \n",
       "293        4  "
      ]
     },
     "execution_count": 2,
     "metadata": {},
     "output_type": "execute_result"
    }
   ],
   "source": [
    "df = pd.read_csv('breast-cancer.csv', \n",
    "                 header = None\n",
    "                )\n",
    "\n",
    "df.columns = ['ID', \n",
    "              'clump_Thickness', \n",
    "              'unif_cell_size', \n",
    "              'unif_cell_shape', \n",
    "              'adhesion', \n",
    "              'epith_cell_Size', \n",
    "              'bare_nuclei', \n",
    "              'bland_chromatin ',\n",
    "              'norm_nucleoli', \n",
    "              'mitoses', \n",
    "              'class_t' \n",
    "             ]\n",
    "\n",
    "df.sample(10)"
   ]
  },
  {
   "cell_type": "markdown",
   "metadata": {},
   "source": [
    "####  <span style = \"color:red\">Código Original.</span>\n",
    "<!---\n",
    "### Importamos os dados\n",
    "\n",
    "df = pd.read_csv('breast-cancer.csv', header = None)\n",
    "df.columns = ['ID', 'clump_Thickness', 'unif_cell_size', \n",
    "              'unif_cell_shape', 'adhesion', 'epith_cell_Size', \n",
    "              'bare_nuclei', 'bland_chromatin ','norm_nucleoli', \n",
    "              'mitoses', 'class_t'\n",
    "             ]\n",
    "df.sample(10)\n",
    "-->"
   ]
  },
  {
   "cell_type": "markdown",
   "metadata": {},
   "source": [
    "#### Podemos investigar a forma do dataframe que criamos."
   ]
  },
  {
   "cell_type": "code",
   "execution_count": 3,
   "metadata": {},
   "outputs": [
    {
     "data": {
      "text/plain": [
       "(683, 11)"
      ]
     },
     "execution_count": 3,
     "metadata": {},
     "output_type": "execute_result"
    }
   ],
   "source": [
    "df.shape"
   ]
  },
  {
   "cell_type": "code",
   "execution_count": 4,
   "metadata": {},
   "outputs": [
    {
     "name": "stdout",
     "output_type": "stream",
     "text": [
      "<class 'pandas.core.frame.DataFrame'>\n",
      "RangeIndex: 683 entries, 0 to 682\n",
      "Data columns (total 11 columns):\n",
      " #   Column            Non-Null Count  Dtype\n",
      "---  ------            --------------  -----\n",
      " 0   ID                683 non-null    int64\n",
      " 1   clump_Thickness   683 non-null    int64\n",
      " 2   unif_cell_size    683 non-null    int64\n",
      " 3   unif_cell_shape   683 non-null    int64\n",
      " 4   adhesion          683 non-null    int64\n",
      " 5   epith_cell_Size   683 non-null    int64\n",
      " 6   bare_nuclei       683 non-null    int64\n",
      " 7   bland_chromatin   683 non-null    int64\n",
      " 8   norm_nucleoli     683 non-null    int64\n",
      " 9   mitoses           683 non-null    int64\n",
      " 10  class_t           683 non-null    int64\n",
      "dtypes: int64(11)\n",
      "memory usage: 58.8 KB\n"
     ]
    }
   ],
   "source": [
    "df.info()"
   ]
  },
  {
   "cell_type": "markdown",
   "metadata": {},
   "source": [
    "####  <span style = \"color:red\">Código Original.</span>\n",
    "<!---\n",
    "df.shape\n",
    "-->"
   ]
  },
  {
   "cell_type": "markdown",
   "metadata": {},
   "source": [
    "#### Com a intenção de manter consistência, vamos subistituir valores de `2` e `4` para o atributo target `class_t` pelos valores `0` e `1`, respectivamente."
   ]
  },
  {
   "cell_type": "code",
   "execution_count": 5,
   "metadata": {},
   "outputs": [],
   "source": [
    "df['class_t'][df['class_t'] == 2] = 0\n",
    "df['class_t'][df['class_t'] == 4] = 1"
   ]
  },
  {
   "cell_type": "code",
   "execution_count": 6,
   "metadata": {},
   "outputs": [
    {
     "name": "stdout",
     "output_type": "stream",
     "text": [
      "<class 'pandas.core.frame.DataFrame'>\n",
      "RangeIndex: 683 entries, 0 to 682\n",
      "Data columns (total 11 columns):\n",
      " #   Column            Non-Null Count  Dtype\n",
      "---  ------            --------------  -----\n",
      " 0   ID                683 non-null    int64\n",
      " 1   clump_Thickness   683 non-null    int64\n",
      " 2   unif_cell_size    683 non-null    int64\n",
      " 3   unif_cell_shape   683 non-null    int64\n",
      " 4   adhesion          683 non-null    int64\n",
      " 5   epith_cell_Size   683 non-null    int64\n",
      " 6   bare_nuclei       683 non-null    int64\n",
      " 7   bland_chromatin   683 non-null    int64\n",
      " 8   norm_nucleoli     683 non-null    int64\n",
      " 9   mitoses           683 non-null    int64\n",
      " 10  class_t           683 non-null    int64\n",
      "dtypes: int64(11)\n",
      "memory usage: 58.8 KB\n"
     ]
    }
   ],
   "source": [
    "df.info()"
   ]
  },
  {
   "cell_type": "markdown",
   "metadata": {},
   "source": [
    "####  <span style = \"color:red\">Código Original.</span>\n",
    "<!---\n",
    "df.class_t[df['class_t'] == 2] = 0\n",
    "df.class_t[df['class_t'] == 4] = 1\n",
    "-->"
   ]
  },
  {
   "cell_type": "markdown",
   "metadata": {},
   "source": [
    "#### Vamos tomar uma amostra do dataset que coletamos."
   ]
  },
  {
   "cell_type": "code",
   "execution_count": 7,
   "metadata": {},
   "outputs": [
    {
     "data": {
      "text/html": [
       "<div>\n",
       "<style scoped>\n",
       "    .dataframe tbody tr th:only-of-type {\n",
       "        vertical-align: middle;\n",
       "    }\n",
       "\n",
       "    .dataframe tbody tr th {\n",
       "        vertical-align: top;\n",
       "    }\n",
       "\n",
       "    .dataframe thead th {\n",
       "        text-align: right;\n",
       "    }\n",
       "</style>\n",
       "<table border=\"1\" class=\"dataframe\">\n",
       "  <thead>\n",
       "    <tr style=\"text-align: right;\">\n",
       "      <th></th>\n",
       "      <th>ID</th>\n",
       "      <th>clump_Thickness</th>\n",
       "      <th>unif_cell_size</th>\n",
       "      <th>unif_cell_shape</th>\n",
       "      <th>adhesion</th>\n",
       "      <th>epith_cell_Size</th>\n",
       "      <th>bare_nuclei</th>\n",
       "      <th>bland_chromatin</th>\n",
       "      <th>norm_nucleoli</th>\n",
       "      <th>mitoses</th>\n",
       "      <th>class_t</th>\n",
       "    </tr>\n",
       "  </thead>\n",
       "  <tbody>\n",
       "    <tr>\n",
       "      <th>183</th>\n",
       "      <td>1208301</td>\n",
       "      <td>1</td>\n",
       "      <td>2</td>\n",
       "      <td>3</td>\n",
       "      <td>1</td>\n",
       "      <td>2</td>\n",
       "      <td>1</td>\n",
       "      <td>3</td>\n",
       "      <td>1</td>\n",
       "      <td>1</td>\n",
       "      <td>0</td>\n",
       "    </tr>\n",
       "    <tr>\n",
       "      <th>119</th>\n",
       "      <td>1174057</td>\n",
       "      <td>4</td>\n",
       "      <td>2</td>\n",
       "      <td>1</td>\n",
       "      <td>1</td>\n",
       "      <td>2</td>\n",
       "      <td>2</td>\n",
       "      <td>3</td>\n",
       "      <td>1</td>\n",
       "      <td>1</td>\n",
       "      <td>0</td>\n",
       "    </tr>\n",
       "    <tr>\n",
       "      <th>631</th>\n",
       "      <td>1311108</td>\n",
       "      <td>1</td>\n",
       "      <td>1</td>\n",
       "      <td>1</td>\n",
       "      <td>3</td>\n",
       "      <td>2</td>\n",
       "      <td>1</td>\n",
       "      <td>1</td>\n",
       "      <td>1</td>\n",
       "      <td>1</td>\n",
       "      <td>0</td>\n",
       "    </tr>\n",
       "    <tr>\n",
       "      <th>574</th>\n",
       "      <td>1272166</td>\n",
       "      <td>5</td>\n",
       "      <td>1</td>\n",
       "      <td>1</td>\n",
       "      <td>1</td>\n",
       "      <td>2</td>\n",
       "      <td>1</td>\n",
       "      <td>1</td>\n",
       "      <td>1</td>\n",
       "      <td>1</td>\n",
       "      <td>0</td>\n",
       "    </tr>\n",
       "    <tr>\n",
       "      <th>593</th>\n",
       "      <td>557583</td>\n",
       "      <td>5</td>\n",
       "      <td>10</td>\n",
       "      <td>10</td>\n",
       "      <td>10</td>\n",
       "      <td>10</td>\n",
       "      <td>10</td>\n",
       "      <td>10</td>\n",
       "      <td>1</td>\n",
       "      <td>1</td>\n",
       "      <td>1</td>\n",
       "    </tr>\n",
       "    <tr>\n",
       "      <th>86</th>\n",
       "      <td>1152331</td>\n",
       "      <td>4</td>\n",
       "      <td>1</td>\n",
       "      <td>1</td>\n",
       "      <td>1</td>\n",
       "      <td>2</td>\n",
       "      <td>1</td>\n",
       "      <td>3</td>\n",
       "      <td>1</td>\n",
       "      <td>1</td>\n",
       "      <td>0</td>\n",
       "    </tr>\n",
       "    <tr>\n",
       "      <th>129</th>\n",
       "      <td>1179818</td>\n",
       "      <td>2</td>\n",
       "      <td>1</td>\n",
       "      <td>1</td>\n",
       "      <td>1</td>\n",
       "      <td>2</td>\n",
       "      <td>1</td>\n",
       "      <td>3</td>\n",
       "      <td>1</td>\n",
       "      <td>1</td>\n",
       "      <td>0</td>\n",
       "    </tr>\n",
       "    <tr>\n",
       "      <th>586</th>\n",
       "      <td>1344449</td>\n",
       "      <td>1</td>\n",
       "      <td>1</td>\n",
       "      <td>1</td>\n",
       "      <td>1</td>\n",
       "      <td>1</td>\n",
       "      <td>1</td>\n",
       "      <td>2</td>\n",
       "      <td>1</td>\n",
       "      <td>1</td>\n",
       "      <td>0</td>\n",
       "    </tr>\n",
       "    <tr>\n",
       "      <th>20</th>\n",
       "      <td>1054590</td>\n",
       "      <td>7</td>\n",
       "      <td>3</td>\n",
       "      <td>2</td>\n",
       "      <td>10</td>\n",
       "      <td>5</td>\n",
       "      <td>10</td>\n",
       "      <td>5</td>\n",
       "      <td>4</td>\n",
       "      <td>4</td>\n",
       "      <td>1</td>\n",
       "    </tr>\n",
       "    <tr>\n",
       "      <th>671</th>\n",
       "      <td>566346</td>\n",
       "      <td>3</td>\n",
       "      <td>1</td>\n",
       "      <td>1</td>\n",
       "      <td>1</td>\n",
       "      <td>2</td>\n",
       "      <td>1</td>\n",
       "      <td>2</td>\n",
       "      <td>3</td>\n",
       "      <td>1</td>\n",
       "      <td>0</td>\n",
       "    </tr>\n",
       "  </tbody>\n",
       "</table>\n",
       "</div>"
      ],
      "text/plain": [
       "          ID  clump_Thickness  unif_cell_size  unif_cell_shape  adhesion  \\\n",
       "183  1208301                1               2                3         1   \n",
       "119  1174057                4               2                1         1   \n",
       "631  1311108                1               1                1         3   \n",
       "574  1272166                5               1                1         1   \n",
       "593   557583                5              10               10        10   \n",
       "86   1152331                4               1                1         1   \n",
       "129  1179818                2               1                1         1   \n",
       "586  1344449                1               1                1         1   \n",
       "20   1054590                7               3                2        10   \n",
       "671   566346                3               1                1         1   \n",
       "\n",
       "     epith_cell_Size  bare_nuclei  bland_chromatin   norm_nucleoli  mitoses  \\\n",
       "183                2            1                 3              1        1   \n",
       "119                2            2                 3              1        1   \n",
       "631                2            1                 1              1        1   \n",
       "574                2            1                 1              1        1   \n",
       "593               10           10                10              1        1   \n",
       "86                 2            1                 3              1        1   \n",
       "129                2            1                 3              1        1   \n",
       "586                1            1                 2              1        1   \n",
       "20                 5           10                 5              4        4   \n",
       "671                2            1                 2              3        1   \n",
       "\n",
       "     class_t  \n",
       "183        0  \n",
       "119        0  \n",
       "631        0  \n",
       "574        0  \n",
       "593        1  \n",
       "86         0  \n",
       "129        0  \n",
       "586        0  \n",
       "20         1  \n",
       "671        0  "
      ]
     },
     "execution_count": 7,
     "metadata": {},
     "output_type": "execute_result"
    }
   ],
   "source": [
    "df.sample(10)"
   ]
  },
  {
   "cell_type": "markdown",
   "metadata": {},
   "source": [
    "####  <span style = \"color:red\">Código Original.</span>\n",
    "<!---\n",
    "df.sample(10)\n",
    "-->"
   ]
  },
  {
   "cell_type": "markdown",
   "metadata": {},
   "source": [
    "## 2. Análise Exploratória dos Dados"
   ]
  },
  {
   "cell_type": "markdown",
   "metadata": {},
   "source": [
    "#### Como estamos interessados apenas nos dados medidos e queremos realizar a previsão dos casos benignos e malígnos de câncer, vamos fazer uma análise descritiva e exploratória dos dados dos dados do dataset com excessão dos atributos `iD` e `class_t`.\n",
    "\n",
    "#### Aqui vamos usar os métodos `.iloc[]` e `.describe()` para isso."
   ]
  },
  {
   "cell_type": "code",
   "execution_count": 8,
   "metadata": {},
   "outputs": [
    {
     "data": {
      "text/html": [
       "<div>\n",
       "<style scoped>\n",
       "    .dataframe tbody tr th:only-of-type {\n",
       "        vertical-align: middle;\n",
       "    }\n",
       "\n",
       "    .dataframe tbody tr th {\n",
       "        vertical-align: top;\n",
       "    }\n",
       "\n",
       "    .dataframe thead th {\n",
       "        text-align: right;\n",
       "    }\n",
       "</style>\n",
       "<table border=\"1\" class=\"dataframe\">\n",
       "  <thead>\n",
       "    <tr style=\"text-align: right;\">\n",
       "      <th></th>\n",
       "      <th>clump_Thickness</th>\n",
       "      <th>unif_cell_size</th>\n",
       "      <th>unif_cell_shape</th>\n",
       "      <th>adhesion</th>\n",
       "      <th>epith_cell_Size</th>\n",
       "      <th>bare_nuclei</th>\n",
       "      <th>bland_chromatin</th>\n",
       "      <th>norm_nucleoli</th>\n",
       "      <th>mitoses</th>\n",
       "      <th>class_t</th>\n",
       "    </tr>\n",
       "  </thead>\n",
       "  <tbody>\n",
       "    <tr>\n",
       "      <th>count</th>\n",
       "      <td>683.000000</td>\n",
       "      <td>683.000000</td>\n",
       "      <td>683.000000</td>\n",
       "      <td>683.000000</td>\n",
       "      <td>683.000000</td>\n",
       "      <td>683.000000</td>\n",
       "      <td>683.000000</td>\n",
       "      <td>683.000000</td>\n",
       "      <td>683.000000</td>\n",
       "      <td>683.000000</td>\n",
       "    </tr>\n",
       "    <tr>\n",
       "      <th>mean</th>\n",
       "      <td>4.442167</td>\n",
       "      <td>3.150805</td>\n",
       "      <td>3.215227</td>\n",
       "      <td>2.830161</td>\n",
       "      <td>3.234261</td>\n",
       "      <td>3.544656</td>\n",
       "      <td>3.445095</td>\n",
       "      <td>2.869693</td>\n",
       "      <td>1.603221</td>\n",
       "      <td>0.349927</td>\n",
       "    </tr>\n",
       "    <tr>\n",
       "      <th>std</th>\n",
       "      <td>2.820761</td>\n",
       "      <td>3.065145</td>\n",
       "      <td>2.988581</td>\n",
       "      <td>2.864562</td>\n",
       "      <td>2.223085</td>\n",
       "      <td>3.643857</td>\n",
       "      <td>2.449697</td>\n",
       "      <td>3.052666</td>\n",
       "      <td>1.732674</td>\n",
       "      <td>0.477296</td>\n",
       "    </tr>\n",
       "    <tr>\n",
       "      <th>min</th>\n",
       "      <td>1.000000</td>\n",
       "      <td>1.000000</td>\n",
       "      <td>1.000000</td>\n",
       "      <td>1.000000</td>\n",
       "      <td>1.000000</td>\n",
       "      <td>1.000000</td>\n",
       "      <td>1.000000</td>\n",
       "      <td>1.000000</td>\n",
       "      <td>1.000000</td>\n",
       "      <td>0.000000</td>\n",
       "    </tr>\n",
       "    <tr>\n",
       "      <th>25%</th>\n",
       "      <td>2.000000</td>\n",
       "      <td>1.000000</td>\n",
       "      <td>1.000000</td>\n",
       "      <td>1.000000</td>\n",
       "      <td>2.000000</td>\n",
       "      <td>1.000000</td>\n",
       "      <td>2.000000</td>\n",
       "      <td>1.000000</td>\n",
       "      <td>1.000000</td>\n",
       "      <td>0.000000</td>\n",
       "    </tr>\n",
       "    <tr>\n",
       "      <th>50%</th>\n",
       "      <td>4.000000</td>\n",
       "      <td>1.000000</td>\n",
       "      <td>1.000000</td>\n",
       "      <td>1.000000</td>\n",
       "      <td>2.000000</td>\n",
       "      <td>1.000000</td>\n",
       "      <td>3.000000</td>\n",
       "      <td>1.000000</td>\n",
       "      <td>1.000000</td>\n",
       "      <td>0.000000</td>\n",
       "    </tr>\n",
       "    <tr>\n",
       "      <th>75%</th>\n",
       "      <td>6.000000</td>\n",
       "      <td>5.000000</td>\n",
       "      <td>5.000000</td>\n",
       "      <td>4.000000</td>\n",
       "      <td>4.000000</td>\n",
       "      <td>6.000000</td>\n",
       "      <td>5.000000</td>\n",
       "      <td>4.000000</td>\n",
       "      <td>1.000000</td>\n",
       "      <td>1.000000</td>\n",
       "    </tr>\n",
       "    <tr>\n",
       "      <th>max</th>\n",
       "      <td>10.000000</td>\n",
       "      <td>10.000000</td>\n",
       "      <td>10.000000</td>\n",
       "      <td>10.000000</td>\n",
       "      <td>10.000000</td>\n",
       "      <td>10.000000</td>\n",
       "      <td>10.000000</td>\n",
       "      <td>10.000000</td>\n",
       "      <td>10.000000</td>\n",
       "      <td>1.000000</td>\n",
       "    </tr>\n",
       "  </tbody>\n",
       "</table>\n",
       "</div>"
      ],
      "text/plain": [
       "       clump_Thickness  unif_cell_size  unif_cell_shape    adhesion  \\\n",
       "count       683.000000      683.000000       683.000000  683.000000   \n",
       "mean          4.442167        3.150805         3.215227    2.830161   \n",
       "std           2.820761        3.065145         2.988581    2.864562   \n",
       "min           1.000000        1.000000         1.000000    1.000000   \n",
       "25%           2.000000        1.000000         1.000000    1.000000   \n",
       "50%           4.000000        1.000000         1.000000    1.000000   \n",
       "75%           6.000000        5.000000         5.000000    4.000000   \n",
       "max          10.000000       10.000000        10.000000   10.000000   \n",
       "\n",
       "       epith_cell_Size  bare_nuclei  bland_chromatin   norm_nucleoli  \\\n",
       "count       683.000000   683.000000        683.000000     683.000000   \n",
       "mean          3.234261     3.544656          3.445095       2.869693   \n",
       "std           2.223085     3.643857          2.449697       3.052666   \n",
       "min           1.000000     1.000000          1.000000       1.000000   \n",
       "25%           2.000000     1.000000          2.000000       1.000000   \n",
       "50%           2.000000     1.000000          3.000000       1.000000   \n",
       "75%           4.000000     6.000000          5.000000       4.000000   \n",
       "max          10.000000    10.000000         10.000000      10.000000   \n",
       "\n",
       "          mitoses     class_t  \n",
       "count  683.000000  683.000000  \n",
       "mean     1.603221    0.349927  \n",
       "std      1.732674    0.477296  \n",
       "min      1.000000    0.000000  \n",
       "25%      1.000000    0.000000  \n",
       "50%      1.000000    0.000000  \n",
       "75%      1.000000    1.000000  \n",
       "max     10.000000    1.000000  "
      ]
     },
     "execution_count": 8,
     "metadata": {},
     "output_type": "execute_result"
    }
   ],
   "source": [
    "df.iloc[:,1:len(df)].describe()"
   ]
  },
  {
   "cell_type": "markdown",
   "metadata": {},
   "source": [
    "####  <span style = \"color:red\">Código Original.</span>\n",
    "<!---\n",
    "df.iloc[:,1:len(df)].describe()\n",
    "-->"
   ]
  },
  {
   "cell_type": "markdown",
   "metadata": {},
   "source": [
    "#### Vamos observar a correlação entre os dados que separamos acima."
   ]
  },
  {
   "cell_type": "code",
   "execution_count": 9,
   "metadata": {},
   "outputs": [
    {
     "data": {
      "image/png": "[encoded data removed]",
      "text/plain": [
       "<Figure size 720x720 with 2 Axes>"
      ]
     },
     "metadata": {},
     "output_type": "display_data"
    }
   ],
   "source": [
    "with sns.axes_style(\"white\"):\n",
    "    f, ax = plt.subplots(figsize = (10, 10))\n",
    "    ax = sns.heatmap(df.corr(method = 'spearman').iloc[1:len(df), \n",
    "                                                       1:len(df) ], \n",
    "            annot = True,\n",
    "            cmap = \"YlGnBu\"\n",
    "                    )"
   ]
  },
  {
   "cell_type": "markdown",
   "metadata": {},
   "source": [
    "####  <span style = \"color:red\">Código Original.</span>\n",
    "<!---\n",
    "with sns.axes_style(\"white\"):\n",
    "    f, ax = plt.subplots(figsize=(10, 10))\n",
    "    ax = sns.heatmap(df.corr(method = 'spearman').iloc[1:len(df), \n",
    "                                                       1:len(df) ], \n",
    "            annot = True,\n",
    "            cmap = \"YlGnBu\"\n",
    "                    )\n",
    "-->"
   ]
  },
  {
   "cell_type": "markdown",
   "metadata": {},
   "source": [
    "## 3. Ajustando um modelo de regressão logística"
   ]
  },
  {
   "cell_type": "markdown",
   "metadata": {},
   "source": [
    "#### Uma vez que estudamos a relação entre os atributo de nosso dataset, podemos pensar em dividí-lo entre os atributos descritivos  `X` e o target `y`."
   ]
  },
  {
   "cell_type": "code",
   "execution_count": 10,
   "metadata": {},
   "outputs": [
    {
     "name": "stdout",
     "output_type": "stream",
     "text": [
      "     clump_Thickness  unif_cell_size  unif_cell_shape  adhesion  \\\n",
      "0                  5               1                1         1   \n",
      "1                  5               4                4         5   \n",
      "2                  3               1                1         1   \n",
      "3                  6               8                8         1   \n",
      "4                  4               1                1         3   \n",
      "..               ...             ...              ...       ...   \n",
      "678                3               1                1         1   \n",
      "679                2               1                1         1   \n",
      "680                5              10               10         3   \n",
      "681                4               8                6         4   \n",
      "682                4               8                8         5   \n",
      "\n",
      "     epith_cell_Size  bare_nuclei  bland_chromatin   norm_nucleoli  \n",
      "0                  2            1                 3              1  \n",
      "1                  7           10                 3              2  \n",
      "2                  2            2                 3              1  \n",
      "3                  3            4                 3              7  \n",
      "4                  2            1                 3              1  \n",
      "..               ...          ...               ...            ...  \n",
      "678                3            2                 1              1  \n",
      "679                2            1                 1              1  \n",
      "680                7            3                 8             10  \n",
      "681                3            4                10              6  \n",
      "682                4            5                10              4  \n",
      "\n",
      "[683 rows x 8 columns]\n"
     ]
    }
   ],
   "source": [
    "X = df.iloc[:, 1 : 9]\n",
    "y = df['class_t']\n",
    "print(X)\n",
    "#print(y)"
   ]
  },
  {
   "cell_type": "markdown",
   "metadata": {},
   "source": [
    "####  <span style = \"color:red\">Código Original.</span>\n",
    "<!---\n",
    "X = df.iloc[:, 1 : 9]\n",
    "y = df['class_t']\n",
    "print(X)\n",
    "#print(y)\n",
    "-->"
   ]
  },
  {
   "cell_type": "markdown",
   "metadata": {},
   "source": [
    "### 3.1 Usando `scikit-learn`"
   ]
  },
  {
   "cell_type": "markdown",
   "metadata": {},
   "source": [
    "#### Vamos primeiramente importar as bibliotecas necessárias para a geração do modelo de classificação:\n",
    "\n",
    "- A bibliteca [`sklearn.model_selection.KFold`](https://scikit-learn.org/stable/modules/generated/sklearn.model_selection.KFold.html) parar separar os dados em `k` dobras e definir a estrategia de [validação cruzada](https://towardsdatascience.com/cross-validation-a-beginners-guide-5b8ca04962cd). observe os parâmetros `n_splits`, que define o [número de dobras](https://towardsdatascience.com/cross-validation-in-machine-learning-72924a69872f) a serem utilizadas, os parâmetros `shuffle`, que permite o embaralhamento dos dados e `random_state` que opera em conjunto com `shuffle` e afeta a ordem dos índices, controlando a aleatoriedade de cada dobra.\n",
    "\n",
    "- O que o método [`KFold`](https://towardsdatascience.com/the-importance-of-k-fold-cross-validation-for-model-prediction-in-machine-learning-4709d3fed2ef) retorna é um array de índices com as $k$ partições entre `train` e `test`.\n",
    "\n",
    "- A biblioteca [`sklearn.metrics.confusion_matrix`](https://scikit-learn.org/stable/modules/generated/sklearn.metrics.confusion_matrix.html) que calcula a matriz de confusão para a  avaliação da precisão da classificação.\n",
    "\n",
    "- O próximo passo é instanciar um objeto `logit` para receber o modelo de regressão logística, fazemos isso com a função [`LogisticRegression()`](https://scikit-learn.org/stable/modules/generated/sklearn.linear_model.LogisticRegression.html).\n",
    "\n",
    "- A seguir, inicializamos diversas listas, para guardar os dados de previsão `kf_y_preds`, modelo `kf_model`, coeficientes `kf_coefs`, coeficientes de determinação `kf_scores` e matrix de confusão `kf_matrix`, a partid do objeto `kf` que recebe o modelo.\n",
    "\n",
    "\n",
    "\n",
    "- O próximo passo é dividir o dataset entre os dados de treino e teste, com o auxílio do atributo [`.split()`](https://scikit-learn.org/stable/modules/generated/sklearn.model_selection.KFold.html#sklearn.model_selection.KFold.split) aplicada `kf`. O m;etodo `.split()` gere índices para dividir dados em conjunto de treinamento e teste.\n",
    "\n",
    "- Aí podemos varrer os ínices gerados pelo método `.split()` com a função [`enumerate()`](https://docs.python.org/3/library/functions.html#enumerate), que retorna um objeto enumerado.\n",
    "\n",
    "#### Vamos avaliar um modelo usando validação cruzada. A ideia é estimar o `error` usando validação cruzada em vez da partição clássica entre `test` e `train`.\n",
    "\n",
    "#### A ideia é poder guardar muita informação dos modelos estimados.\n",
    "\n",
    "    1. As previsões das k iterações que realizarem.\n",
    "    2. os coeficientes dos k modelos estimados.\n",
    "    3. Os scores dos k modelos estimados.\n",
    "    4. As matrizes de confusão dos k modelos estimados.\n",
    "\n",
    "\n",
    "- Depois, esses índices podem ser usados para fazer o subsetting do dataframe."
   ]
  },
  {
   "cell_type": "code",
   "execution_count": 11,
   "metadata": {},
   "outputs": [],
   "source": [
    "#type(kf)\n",
    "#list(kf.split(X))\n",
    "#type(enumerate(kf.split(X)))\n",
    "#list(enumerate(kf.split(X)))"
   ]
  },
  {
   "cell_type": "code",
   "execution_count": 12,
   "metadata": {},
   "outputs": [
    {
     "name": "stdout",
     "output_type": "stream",
     "text": [
      "K0 = 0.9565217391304348\n",
      "K1 = 0.9710144927536232\n",
      "K2 = 0.9565217391304348\n",
      "K3 = 0.9852941176470589\n",
      "K4 = 1.0\n",
      "K5 = 0.9558823529411765\n",
      "K6 = 0.9705882352941176\n",
      "K7 = 0.9705882352941176\n",
      "K8 = 0.9558823529411765\n",
      "K9 = 0.9705882352941176\n"
     ]
    }
   ],
   "source": [
    "from sklearn.model_selection import KFold\n",
    "from sklearn.metrics import confusion_matrix \n",
    "\n",
    "kf = KFold(n_splits = 10,\n",
    "           shuffle = True,\n",
    "           random_state = None\n",
    "          )\n",
    "\n",
    "logit = LogisticRegression()\n",
    "\n",
    "kf_y_preds = []\n",
    "kf_model = []\n",
    "kf_coefs = []\n",
    "kf_scores = []\n",
    "kf_matrix = []\n",
    "\n",
    "for k, (train_index, test_index) in enumerate(kf.split(X)):\n",
    "    \n",
    "    model = logit.fit(X.iloc[train_index], \n",
    "                      y[train_index]\n",
    "                     )\n",
    "    kf_model.append(model)\n",
    "    \n",
    "    coefs = model.coef_\n",
    "    \n",
    "    y_preds = model.predict(X.iloc[test_index])\n",
    "    \n",
    "    kf_y_preds.append(y_preds)\n",
    "    \n",
    "    kf_coefs.append(coefs)\n",
    "    \n",
    "    scores = accuracy_score(y[test_index],\n",
    "                            y_preds\n",
    "                           )\n",
    "    \n",
    "    kf_scores.append(scores)\n",
    "    \n",
    "    matrix = confusion_matrix(y[test_index], \n",
    "                              y_preds\n",
    "                             )\n",
    "    \n",
    "    kf_matrix.append(matrix)\n",
    "    \n",
    "    print(\"K\", k, \" = \", scores, sep = \"\")   "
   ]
  },
  {
   "cell_type": "markdown",
   "metadata": {},
   "source": [
    "####  <span style = \"color:red\">Código Original.</span>\n",
    "<!---\n",
    "from sklearn.model_selection import KFold\n",
    "from sklearn.metrics import confusion_matrix \n",
    "\n",
    "kf = KFold(n_splits = 10,\n",
    "           shuffle = True,\n",
    "           random_state = None\n",
    "          )\n",
    "\n",
    "logit = LogisticRegression()\n",
    "\n",
    "kf_y_preds = []\n",
    "kf_model = []\n",
    "kf_coefs = []\n",
    "kf_scores = []\n",
    "kf_matrix = []\n",
    "\n",
    "for k, (train_index, test_index) in enumerate(kf.split(X)):\n",
    "    \n",
    "    model = logit.fit(X.iloc[train_index], \n",
    "                      y[train_index]\n",
    "                     )\n",
    "    kf_model.append(model)\n",
    "    \n",
    "    coefs = model.coef_\n",
    "    \n",
    "    y_preds = model.predict(X.iloc[test_index])\n",
    "    \n",
    "    kf_y_preds.append(y_preds)\n",
    "    \n",
    "    kf_coefs.append(coefs)\n",
    "    \n",
    "    scores = accuracy_score(y[test_index],\n",
    "                            y_preds\n",
    "                           )\n",
    "    \n",
    "    kf_scores.append(scores)\n",
    "    \n",
    "    matrix = confusion_matrix(y[test_index], \n",
    "                              y_preds\n",
    "                             )\n",
    "    \n",
    "    kf_matrix.append(matrix)\n",
    "    \n",
    "    print(\"K\", k, \" = \", scores, sep = \"\")\n",
    "-->"
   ]
  },
  {
   "cell_type": "markdown",
   "metadata": {},
   "source": [
    "#### Podemos avaliar o desempenho desse modelo tirando a média dos coeficientes de determinação dos valores da lista `kf_scores`."
   ]
  },
  {
   "cell_type": "code",
   "execution_count": 13,
   "metadata": {
    "scrolled": true
   },
   "outputs": [
    {
     "data": {
      "text/plain": [
       "0.9692881500426258"
      ]
     },
     "execution_count": 13,
     "metadata": {},
     "output_type": "execute_result"
    }
   ],
   "source": [
    "np.mean(kf_scores)"
   ]
  },
  {
   "cell_type": "markdown",
   "metadata": {},
   "source": [
    "####  <span style = \"color:red\">Código Original.</span>\n",
    "<!---\n",
    "np.mean(kf_scores)\n",
    "-->"
   ]
  },
  {
   "cell_type": "markdown",
   "metadata": {},
   "source": [
    "### 3.2 Usando `statsmodels`"
   ]
  },
  {
   "cell_type": "markdown",
   "metadata": {},
   "source": [
    "#### Agora vamos fazer a partição tradicional entre `train` e `test`. Primeiro acrescentamos o interceptor (porque `statsmodels` não o acrescenta por default).\n",
    "\n",
    "- Do pacote [`statsmodel`](https://www.statsmodels.org/stable/index.html) vamos usar a função [`tools.add_constant()`](https://www.statsmodels.org/stable/generated/statsmodels.tools.tools.add_constant.html) para adicione uma coluna de uns a uma matriz `X`, agregando uma entidade do tipo coeficiente de interceptação ao modelo."
   ]
  },
  {
   "cell_type": "code",
   "execution_count": 14,
   "metadata": {},
   "outputs": [],
   "source": [
    "X = sm.tools.add_constant(X)"
   ]
  },
  {
   "cell_type": "markdown",
   "metadata": {},
   "source": [
    "####  <span style = \"color:red\">Código Original.</span>\n",
    "<!---\n",
    "X = sm.tools.add_constant(X)\n",
    "-->"
   ]
  },
  {
   "cell_type": "markdown",
   "metadata": {},
   "source": [
    "#### Agora vamos aplicar a função [`train_test_split()`](https://scikit-learn.org/stable/modules/generated/sklearn.model_selection.train_test_split.html) para separar os dados em subconjuntos de treino e de teste."
   ]
  },
  {
   "cell_type": "code",
   "execution_count": 15,
   "metadata": {},
   "outputs": [],
   "source": [
    "X_train, X_test, y_train, y_test = train_test_split(X, y)"
   ]
  },
  {
   "cell_type": "markdown",
   "metadata": {},
   "source": [
    "####  <span style = \"color:red\">Código Original.</span>\n",
    "<!---\n",
    "X_train, X_test, y_train, y_test = train_test_split(X,y)\n",
    "-->"
   ]
  },
  {
   "cell_type": "markdown",
   "metadata": {},
   "source": [
    "#### Vamos estimar uma regressão logística usando `statsmodels`.\n",
    "\n",
    "\n",
    "\n",
    "- Usamos a função [`.Logit()`](https://www.statsmodels.org/stable/generated/statsmodels.discrete.discrete_model.Logit.html#statsmodels.discrete.discrete_model.Logit) para instanciar um modelo de regressão logística para os subconjuntos `y_train`, `X_train` em um objeto `logit`.\n",
    "\n",
    "- Depois disso ajustamos os dados de treino com a função [`.fit()`](https://www.statsmodels.org/stable/generated/statsmodels.discrete.discrete_model.Logit.fit.html#statsmodels.discrete.discrete_model.Logit.fit), que ajusta o modelo usando a probabilidade máxima verossimilhança. Este é um método de ajuste para modelos baseados em probabilidade.\n",
    "\n",
    "\n",
    "- Por fim podemos investigar o modelo com a função [`summary2()`](https://www.statsmodels.org/stable/generated/statsmodels.regression.linear_model.RegressionResults.summary2.html)que traz resumo dos resultados da regressão."
   ]
  },
  {
   "cell_type": "code",
   "execution_count": 16,
   "metadata": {},
   "outputs": [
    {
     "name": "stdout",
     "output_type": "stream",
     "text": [
      "Optimization terminated successfully.\n",
      "         Current function value: 0.072132\n",
      "         Iterations 10\n",
      "                          Results: Logit\n",
      "==================================================================\n",
      "Model:              Logit            Pseudo R-squared: 0.889      \n",
      "Dependent Variable: class_t          AIC:              91.8633    \n",
      "Date:               2021-02-10 03:32 BIC:              130.0082   \n",
      "No. Observations:   512              Log-Likelihood:   -36.932    \n",
      "Df Model:           8                LL-Null:          -331.37    \n",
      "Df Residuals:       503              LLR p-value:      5.7660e-122\n",
      "Converged:          1.0000           Scale:            1.0000     \n",
      "No. Iterations:     10.0000                                       \n",
      "------------------------------------------------------------------\n",
      "                  Coef.   Std.Err.    z    P>|z|   [0.025   0.975]\n",
      "------------------------------------------------------------------\n",
      "const            -10.4224   1.5408 -6.7645 0.0000 -13.4423 -7.4026\n",
      "clump_Thickness    0.6874   0.2104  3.2676 0.0011   0.2751  1.0997\n",
      "unif_cell_size    -0.1190   0.2288 -0.5198 0.6032  -0.5674  0.3295\n",
      "unif_cell_shape    0.3011   0.2622  1.1482 0.2509  -0.2129  0.8151\n",
      "adhesion           0.5061   0.1548  3.2700 0.0011   0.2028  0.8094\n",
      "epith_cell_Size    0.0631   0.1706  0.3701 0.7113  -0.2712  0.3975\n",
      "bare_nuclei        0.3665   0.1185  3.0918 0.0020   0.1342  0.5988\n",
      "bland_chromatin    0.5318   0.2330  2.2822 0.0225   0.0751  0.9885\n",
      "norm_nucleoli      0.2820   0.1358  2.0761 0.0379   0.0158  0.5483\n",
      "==================================================================\n",
      "\n"
     ]
    }
   ],
   "source": [
    "logit = sm.Logit(y_train, X_train)\n",
    "\n",
    "result = logit.fit()\n",
    "print(result.summary2())"
   ]
  },
  {
   "cell_type": "markdown",
   "metadata": {},
   "source": [
    "####  <span style = \"color:red\">Código Original.</span>\n",
    "<!---\n",
    "logit = sm.Logit(y_train, X_train)\n",
    "\n",
    "result = logit.fit()\n",
    "print(result.summary2())\n",
    "-->"
   ]
  },
  {
   "cell_type": "markdown",
   "metadata": {},
   "source": [
    "#### Vamos então obter a matriz de confusão do modelo com os dados preditos e observados.\n",
    "\n",
    "#### Para isso vamos aplicar a função de previsã [`predict`](https://www.statsmodels.org/stable/examples/notebooks/generated/predict.html), testando se cada valor previsto para um  `X_test` específico é $>0.5$, oque implicaria em um decição por `True`."
   ]
  },
  {
   "cell_type": "code",
   "execution_count": 17,
   "metadata": {},
   "outputs": [
    {
     "name": "stdout",
     "output_type": "stream",
     "text": [
      "587    False\n",
      "63      True\n",
      "497    False\n",
      "479     True\n",
      "318    False\n",
      "       ...  \n",
      "287     True\n",
      "20      True\n",
      "317    False\n",
      "430    False\n",
      "31      True\n",
      "Length: 171, dtype: bool\n"
     ]
    },
    {
     "data": {
      "text/plain": [
       "array([[106,   5],\n",
       "       [  2,  58]], dtype=int64)"
      ]
     },
     "execution_count": 17,
     "metadata": {},
     "output_type": "execute_result"
    }
   ],
   "source": [
    "from sklearn.metrics import confusion_matrix\n",
    "\n",
    "y_pred = result.predict(X_test) > 0.5\n",
    "print(y_pred)\n",
    "\n",
    "confusion_matrix(y_test, y_pred)"
   ]
  },
  {
   "cell_type": "markdown",
   "metadata": {},
   "source": [
    "####  <span style = \"color:red\">Código Original.</span>\n",
    "<!---\n",
    "from sklearn.metrics import confusion_matrix\n",
    "\n",
    "y_pred = result.predict(X_test) > 0.5\n",
    "print(y_pred)\n",
    "\n",
    "confusion_matrix(y_test, y_pred)\n",
    "-->"
   ]
  },
  {
   "cell_type": "markdown",
   "metadata": {},
   "source": [
    "#### Uma forma de calcular a acurácia do modelo é comparar os valores de target previstos `y_pred` com os valores do subconjunto de teste `y_test`, somando aqueles cuja comparação retorna `True` e dividir a soma total pelo comprimento do subconjunto de teste."
   ]
  },
  {
   "cell_type": "code",
   "execution_count": 18,
   "metadata": {},
   "outputs": [
    {
     "data": {
      "text/plain": [
       "0.9590643274853801"
      ]
     },
     "execution_count": 18,
     "metadata": {},
     "output_type": "execute_result"
    }
   ],
   "source": [
    "np.sum(y_test == y_pred) / len(y_test)"
   ]
  },
  {
   "cell_type": "markdown",
   "metadata": {},
   "source": [
    "####  <span style = \"color:red\">Código Original.</span>\n",
    "<!---\n",
    "np.sum(y_test == y_pred)/len(y_test)\n",
    "-->"
   ]
  },
  {
   "cell_type": "markdown",
   "metadata": {},
   "source": [
    "### 3.2 Usando (novamente) `sklearn`\n",
    "\n",
    "#### Agora vamos replicar o exercício com `sklearn`. \n",
    "\n",
    "#### Devemos lembrar de descartar a primeira coluna de `X_train` e `X_test`, criada anteriormente como interceptor. "
   ]
  },
  {
   "cell_type": "code",
   "execution_count": 19,
   "metadata": {},
   "outputs": [],
   "source": [
    "X_test = X_test.drop('const', axis = 1)\n",
    "X_train = X_train.drop('const', axis = 1)"
   ]
  },
  {
   "cell_type": "markdown",
   "metadata": {},
   "source": [
    "####  <span style = \"color:red\">Código Original.</span>\n",
    "<!---\n",
    "X_test = X_test.drop('const', axis = 1)\n",
    "X_train = X_train.drop('const', axis = 1)\n",
    "-->"
   ]
  },
  {
   "cell_type": "markdown",
   "metadata": {},
   "source": [
    "#### Vamos instanciar um objeto `reglogsklearn`  que receba um modelo de regressão logística, com a função [ `LogisticRegression`](https://scikit-learn.org/stable/modules/generated/sklearn.linear_model.LogisticRegression.html).\n",
    "\n",
    "* O parâmetro `fit_intercept` especifica se uma constante (também conhecida como viés ou interceptação) deve ser adicionada à função de decisão. \n",
    "* O parâmetro  `penalty` especifica a norma a ser utilizada na penalização do modelo. \n",
    "\n",
    "* O parâmetro `C` é um tipo de medida do inverso da força de regularização; tem valor flutuante e positivo e valores menores especificam uma regularização mais forte. Aqui tomaremos um valor alto para ele, para evitar uma regularização.\n",
    "\n",
    "#### Pof fim o atributo [`.fit()`](https://scikit-learn.org/stable/modules/generated/sklearn.linear_model.LogisticRegression.html#sklearn.linear_model.LogisticRegression.fit) treina o modelo, ajustando os pontos do subconjunto de treino ao modelo escolhido."
   ]
  },
  {
   "cell_type": "code",
   "execution_count": 20,
   "metadata": {},
   "outputs": [
    {
     "data": {
      "text/plain": [
       "LogisticRegression(C=10000000000.0)"
      ]
     },
     "execution_count": 20,
     "metadata": {},
     "output_type": "execute_result"
    }
   ],
   "source": [
    "reglogsklearn = LogisticRegression(fit_intercept = True, \n",
    "                                   penalty = 'l2', \n",
    "                                   C = 1e10)\n",
    "\n",
    "reglogsklearn.fit(X_train, y_train)"
   ]
  },
  {
   "cell_type": "markdown",
   "metadata": {},
   "source": [
    "####  <span style = \"color:red\">Código Original.</span>\n",
    "<!---\n",
    "reglogsklearn = LogisticRegression(fit_intercept = True, \n",
    "                                   penalty = 'l2', \n",
    "                                   C = 1e10)\n",
    "\n",
    "reglogsklearn.fit(X_train, y_train)\n",
    "-->"
   ]
  },
  {
   "cell_type": "markdown",
   "metadata": {},
   "source": [
    "#### A seguir imprimimos na tela os valores dos coeficientes linear `.intercept_` e angulares `.coef_`."
   ]
  },
  {
   "cell_type": "code",
   "execution_count": 21,
   "metadata": {},
   "outputs": [
    {
     "data": {
      "text/plain": [
       "(array([-10.42259872]),\n",
       " array([[ 0.68739775, -0.11893223,  0.30108704,  0.50609776,  0.06315811,\n",
       "          0.36651129,  0.53177075,  0.28201798]]))"
      ]
     },
     "execution_count": 21,
     "metadata": {},
     "output_type": "execute_result"
    }
   ],
   "source": [
    "reglogsklearn.intercept_, reglogsklearn.coef_"
   ]
  },
  {
   "cell_type": "markdown",
   "metadata": {},
   "source": [
    "####  <span style = \"color:red\">Código Original.</span>\n",
    "<!---\n",
    "reglogsklearn.intercept_, reglogsklearn.coef_\n",
    "-->"
   ]
  },
  {
   "cell_type": "markdown",
   "metadata": {},
   "source": [
    "#### Fazemos a previsão `y_pred2` dos nossos targets com a função [`.predict()`](https://scikit-learn.org/stable/modules/generated/sklearn.linear_model.LogisticRegression.html#sklearn.linear_model.LogisticRegression.predict) aplicada aos dados de treino `X_test`. \n",
    "\n",
    "#### Testamos então a acurácia do modelo com a função [`accuracy_score()`](https://scikit-learn.org/stable/modules/generated/sklearn.metrics.accuracy_score.html) aplicada aos subconjuntos `y_test` e `y_pred2`"
   ]
  },
  {
   "cell_type": "code",
   "execution_count": 22,
   "metadata": {},
   "outputs": [
    {
     "data": {
      "text/plain": [
       "0.9590643274853801"
      ]
     },
     "execution_count": 22,
     "metadata": {},
     "output_type": "execute_result"
    }
   ],
   "source": [
    "y_pred2 = reglogsklearn.predict(X_test)\n",
    "accuracy_score(y_test, y_pred2)"
   ]
  },
  {
   "cell_type": "markdown",
   "metadata": {},
   "source": [
    "####  <span style = \"color:red\">Código Original.</span>\n",
    "<!---\n",
    "y_pred2 = reglogsklearn.predict(X_test)\n",
    "accuracy_score(y_test, y_pred2)\n",
    "-->"
   ]
  },
  {
   "cell_type": "markdown",
   "metadata": {},
   "source": [
    "#### A matriz de confusão entre `y_test` e `y_pred2` fica:"
   ]
  },
  {
   "cell_type": "code",
   "execution_count": 23,
   "metadata": {},
   "outputs": [
    {
     "data": {
      "text/plain": [
       "array([[106,   5],\n",
       "       [  2,  58]], dtype=int64)"
      ]
     },
     "execution_count": 23,
     "metadata": {},
     "output_type": "execute_result"
    }
   ],
   "source": [
    "confusion_matrix(y_test, y_pred2)"
   ]
  },
  {
   "cell_type": "markdown",
   "metadata": {},
   "source": [
    "#### Comparando os valores de target previstos `y_pred` com os valores do subconjunto de teste `y_test`, através da soma das comparações que retornam `True`, dividido pelo comprimento do subconjunto de teste."
   ]
  },
  {
   "cell_type": "code",
   "execution_count": 24,
   "metadata": {},
   "outputs": [
    {
     "data": {
      "text/plain": [
       "0.9590643274853801"
      ]
     },
     "execution_count": 24,
     "metadata": {},
     "output_type": "execute_result"
    }
   ],
   "source": [
    "np.sum(y_test == y_pred2) / len(y_test)"
   ]
  },
  {
   "cell_type": "markdown",
   "metadata": {},
   "source": [
    "####  <span style = \"color:red\">Código Original.</span>\n",
    "<!---\n",
    "confusion_matrix(y_test, y_pred2)\n",
    "-->"
   ]
  },
  {
   "cell_type": "markdown",
   "metadata": {},
   "source": [
    "## 4. Análise e interpretação"
   ]
  },
  {
   "cell_type": "markdown",
   "metadata": {},
   "source": [
    "* O que podem dizer sobre este modelo?\n",
    "* Como o ajuste dele funciona?\n",
    "* Quais são as principais variáveis preditoras do tipo de tumor?"
   ]
  },
  {
   "cell_type": "markdown",
   "metadata": {},
   "source": [
    "## 5. Comparação com KNN\n",
    "\n",
    "#### Com o mesmo split entre `train` e `test` gerado anteriormente, usar o conjunto de traino para estimar um modelo de [`kNN`](https://towardsdatascience.com/k-nearest-neighbors-knn-explained-cbc31849a7e3) com hiperparâmetros ideais e comparar o desempenho em dados não observados com respeito à regressão logística.\n",
    "\n",
    "#### Para iss ovamos importar as bibliotecas:\n",
    "\n",
    "- [`pandas`](https://pandas.pydata.org/pandas-docs/stable/index.html) e [`numpy`](numpy.org) para a manipulação do dados.\n",
    "\n",
    "- [`seaborn`](https://seaborn.pydata.org/) para a visualização dos resultados\n",
    "\n",
    "- [`sklearn.model_selection.KFold`](https://scikit-learn.org/stable/modules/generated/sklearn.model_selection.KFold.html) para a validação cruzada dos hiperparâmetros.\n",
    "\n",
    "- [`sklearn.model_selection.cross_val_score`](https://scikit-learn.org/stable/modules/generated/sklearn.model_selection.cross_val_score.html) para a avaliação da validação cruzada\n",
    "- [`sklearn.neighbors.KNeighborsClassifier`](https://scikit-learn.org/stable/modules/generated/sklearn.neighbors.KNeighborsClassifier.html)\n"
   ]
  },
  {
   "cell_type": "code",
   "execution_count": 25,
   "metadata": {},
   "outputs": [],
   "source": [
    "from sklearn.model_selection import KFold\n",
    "import pandas as pd\n",
    "import seaborn as sns\n",
    "import numpy as np\n",
    "from sklearn.model_selection import cross_val_score\n",
    "from sklearn.neighbors import KNeighborsClassifier"
   ]
  },
  {
   "cell_type": "markdown",
   "metadata": {},
   "source": [
    "####  <span style = \"color:red\">Código Original.</span>\n",
    "<!---\n",
    "-->"
   ]
  },
  {
   "cell_type": "markdown",
   "metadata": {},
   "source": [
    "#### Vamos definir uma função própria que receba como argumentos os subconjuntos de atributos descritivos `X` e targets , `y`, faça uma varredura  em `loop` sobre um intervalo ( `start`, `stop`, `step` ) de valores de k-vizinhos.\n",
    "\n",
    "#### A função deverá ainda conter uma instancia de um objeto `model` para receber um modelo de calssificação do tipo [`kNN`](https://portaldatascience.com/o-algoritmo-k-nearest-neighbors-knn-em-machine-learning/), um objeto `kf` que defina os parâmetros para a estratégia para a validação cruzada e um objeto `cv_scores` para receber os dados do modelo, conjuntos de atributos descritivos `X` e target `y`, juntamente com a estratégia de VC e que calcule o coeficiente de determinação para cada valor `k` de vizinhos definidos.\n",
    "\n",
    "#### A função deverá ainda conter um dicionário com os valores médios  e o desvio padrão dos coeficientes de determinação  de todas as dobras realizadas pela validação cruzada. \n",
    "\n",
    "#### Ao fim da função o dicionário de valores oara `cv_scores` deve ser convertido em um dataframe e um margem de $\\pm$ um desvio padrão de `cv_scores` deve ser criada para visualização gráfica."
   ]
  },
  {
   "cell_type": "code",
   "execution_count": 26,
   "metadata": {},
   "outputs": [],
   "source": [
    "def scores_knn(X, y, start, stop, step):\n",
    "    \n",
    "    # Quero representar graficamente os diferentes valores do score de cross validation em função do hiperparâmetro n_neighbors\n",
    "    # Para isso, vou gerar uma lista de dicionários que depois pode ser facilmente convertida a DataFrame\n",
    "    # Lista de Dicionários\n",
    "    \n",
    "    scores_para_df = []\n",
    "    \n",
    "    # range(1,40,5) são os valores possíveis de n_neighbors que quero explorar. São todos os inteiros a partir de 1\n",
    "    # até 40, de 5 em 5. (Start,Stop,Step)\n",
    "    \n",
    "    for i in range(start, stop, step):\n",
    "        # Em cada iteração, instanciamos o modelo com um hiperparâmetro diferente\n",
    "        \n",
    "        model = KNeighborsClassifier(n_neighbors = i)\n",
    "\n",
    "# cross_val_scores retorna um array de 5 resultados, um para cada partição feita automaticamente pelo CV        \n",
    "        kf = KFold(n_splits = 10, \n",
    "                   shuffle = True\n",
    "                  )\n",
    "        \n",
    "        cv_scores = cross_val_score(model, \n",
    "                                    X, \n",
    "                                    y, \n",
    "                                    cv = kf\n",
    "                                   )\n",
    "\n",
    "        # Para cada valor de n_neighbours, crio um dicionário com o valor de n_neighbours, a média e o desvio dos scores.\n",
    "        \n",
    "        dict_row_score = {'score_medio' : np.mean(cv_scores),\n",
    "                          'score_std' : np.std(cv_scores),\n",
    "                          'n_neighbours' : i\n",
    "                         }\n",
    "\n",
    "        # Guardo cada um na lista de dicionários\n",
    "        \n",
    "        scores_para_df.append(dict_row_score)\n",
    "        \n",
    "        df_scores = pd.DataFrame(scores_para_df)\n",
    "        df_scores['limite_inferior'] = df_scores['score_medio'] - df_scores['score_std']\n",
    "        df_scores['limite_superior'] = df_scores['score_medio'] + df_scores['score_std']\n",
    "\n",
    "    return df_scores\n"
   ]
  },
  {
   "cell_type": "markdown",
   "metadata": {},
   "source": [
    "####  <span style = \"color:red\">Código Original.</span>\n",
    "<!---\n",
    "def scores_knn(X, y, start, stop, step):\n",
    "    \n",
    "    # Quero representar graficamente os diferentes valores do score de cross validation em função do hiperparâmetro n_neighbors\n",
    "    # Para isso, vou gerar uma lista de dicionários que depois pode ser facilmente convertida a DataFrame\n",
    "    # Lista de Dicionários\n",
    "    \n",
    "    scores_para_df = []\n",
    "    \n",
    "    # range(1,40,5) são os valores possíveis de n_neighbors que quero explorar. São todos os inteiros a partir de 1\n",
    "    # até 40, de 5 em 5. (Start,Stop,Step)\n",
    "    \n",
    "    for i in range(start, stop, step):\n",
    "        # Em cada iteração, instanciamos o modelo com um hiperparâmetro diferente\n",
    "        \n",
    "        model = KNeighborsClassifier(n_neighbors = i)\n",
    "\n",
    "# cross_val_scores retorna um array de 5 resultados, um para cada partição feita automaticamente pelo CV        \n",
    "        kf = KFold(n_splits = 10, \n",
    "                   shuffle = True\n",
    "                  )\n",
    "        \n",
    "        cv_scores = cross_val_score(model, \n",
    "                                    X, \n",
    "                                    y, \n",
    "                                    cv = kf\n",
    "                                   )\n",
    "\n",
    "        # Para cada valor de n_neighbours, crio um dicionário com o valor de n_neighbours, a média e o desvio dos scores.\n",
    "        \n",
    "        dict_row_score = {'score_medio' : np.mean(cv_scores),\n",
    "                          'score_std' : np.std(cv_scores),\n",
    "                          'n_neighbours' : i\n",
    "                         }\n",
    "\n",
    "        # Guardo cada um na lista de dicionários\n",
    "        \n",
    "        scores_para_df.append(dict_row_score)\n",
    "        \n",
    "    df_scores = pd.DataFrame(scores_para_df)\n",
    "    df_scores['limite_inferior'] = df_scores['score_medio'] - df_scores['score_std']\n",
    "    df_scores['limite_superior'] = df_scores['score_medio'] + df_scores['score_std']\n",
    "    return df_scores\n",
    "-->"
   ]
  },
  {
   "cell_type": "markdown",
   "metadata": {},
   "source": [
    "#### Com a biblioteca de pré-processamento [`sklearn.preprocessing`](https://scikit-learn.org/stable/modules/preprocessing.html) vamos reescalonar os dados de treino com a função [`preprocessing.scale()`](https://scikit-learn.org/stable/modules/generated/sklearn.preprocessing.scale.html) e então aplicar a função que criamos para os parâmetros:\n",
    "\n",
    "* `(X = X_train_std, y = y_train, start = 1, stop = 20, step = 1)`."
   ]
  },
  {
   "cell_type": "code",
   "execution_count": 27,
   "metadata": {},
   "outputs": [
    {
     "data": {
      "text/html": [
       "<div>\n",
       "<style scoped>\n",
       "    .dataframe tbody tr th:only-of-type {\n",
       "        vertical-align: middle;\n",
       "    }\n",
       "\n",
       "    .dataframe tbody tr th {\n",
       "        vertical-align: top;\n",
       "    }\n",
       "\n",
       "    .dataframe thead th {\n",
       "        text-align: right;\n",
       "    }\n",
       "</style>\n",
       "<table border=\"1\" class=\"dataframe\">\n",
       "  <thead>\n",
       "    <tr style=\"text-align: right;\">\n",
       "      <th></th>\n",
       "      <th>score_medio</th>\n",
       "      <th>score_std</th>\n",
       "      <th>n_neighbours</th>\n",
       "      <th>limite_inferior</th>\n",
       "      <th>limite_superior</th>\n",
       "    </tr>\n",
       "  </thead>\n",
       "  <tbody>\n",
       "    <tr>\n",
       "      <th>0</th>\n",
       "      <td>0.972587</td>\n",
       "      <td>0.021848</td>\n",
       "      <td>1</td>\n",
       "      <td>0.950739</td>\n",
       "      <td>0.994435</td>\n",
       "    </tr>\n",
       "    <tr>\n",
       "      <th>1</th>\n",
       "      <td>0.953092</td>\n",
       "      <td>0.019984</td>\n",
       "      <td>2</td>\n",
       "      <td>0.933108</td>\n",
       "      <td>0.973076</td>\n",
       "    </tr>\n",
       "    <tr>\n",
       "      <th>2</th>\n",
       "      <td>0.972662</td>\n",
       "      <td>0.027881</td>\n",
       "      <td>3</td>\n",
       "      <td>0.944781</td>\n",
       "      <td>1.000543</td>\n",
       "    </tr>\n",
       "    <tr>\n",
       "      <th>3</th>\n",
       "      <td>0.962934</td>\n",
       "      <td>0.022157</td>\n",
       "      <td>4</td>\n",
       "      <td>0.940777</td>\n",
       "      <td>0.985091</td>\n",
       "    </tr>\n",
       "    <tr>\n",
       "      <th>4</th>\n",
       "      <td>0.968778</td>\n",
       "      <td>0.025006</td>\n",
       "      <td>5</td>\n",
       "      <td>0.943772</td>\n",
       "      <td>0.993785</td>\n",
       "    </tr>\n",
       "    <tr>\n",
       "      <th>5</th>\n",
       "      <td>0.964781</td>\n",
       "      <td>0.035975</td>\n",
       "      <td>6</td>\n",
       "      <td>0.928806</td>\n",
       "      <td>1.000756</td>\n",
       "    </tr>\n",
       "    <tr>\n",
       "      <th>6</th>\n",
       "      <td>0.964894</td>\n",
       "      <td>0.028615</td>\n",
       "      <td>7</td>\n",
       "      <td>0.936279</td>\n",
       "      <td>0.993510</td>\n",
       "    </tr>\n",
       "    <tr>\n",
       "      <th>7</th>\n",
       "      <td>0.970701</td>\n",
       "      <td>0.009769</td>\n",
       "      <td>8</td>\n",
       "      <td>0.960932</td>\n",
       "      <td>0.980470</td>\n",
       "    </tr>\n",
       "    <tr>\n",
       "      <th>8</th>\n",
       "      <td>0.968778</td>\n",
       "      <td>0.019866</td>\n",
       "      <td>9</td>\n",
       "      <td>0.948913</td>\n",
       "      <td>0.988644</td>\n",
       "    </tr>\n",
       "    <tr>\n",
       "      <th>9</th>\n",
       "      <td>0.970739</td>\n",
       "      <td>0.021790</td>\n",
       "      <td>10</td>\n",
       "      <td>0.948949</td>\n",
       "      <td>0.992529</td>\n",
       "    </tr>\n",
       "    <tr>\n",
       "      <th>10</th>\n",
       "      <td>0.970701</td>\n",
       "      <td>0.027957</td>\n",
       "      <td>11</td>\n",
       "      <td>0.942744</td>\n",
       "      <td>0.998659</td>\n",
       "    </tr>\n",
       "    <tr>\n",
       "      <th>11</th>\n",
       "      <td>0.972662</td>\n",
       "      <td>0.023506</td>\n",
       "      <td>12</td>\n",
       "      <td>0.949157</td>\n",
       "      <td>0.996168</td>\n",
       "    </tr>\n",
       "    <tr>\n",
       "      <th>12</th>\n",
       "      <td>0.968854</td>\n",
       "      <td>0.023205</td>\n",
       "      <td>13</td>\n",
       "      <td>0.945648</td>\n",
       "      <td>0.992059</td>\n",
       "    </tr>\n",
       "    <tr>\n",
       "      <th>13</th>\n",
       "      <td>0.970664</td>\n",
       "      <td>0.015856</td>\n",
       "      <td>14</td>\n",
       "      <td>0.954808</td>\n",
       "      <td>0.986519</td>\n",
       "    </tr>\n",
       "    <tr>\n",
       "      <th>14</th>\n",
       "      <td>0.970739</td>\n",
       "      <td>0.013044</td>\n",
       "      <td>15</td>\n",
       "      <td>0.957695</td>\n",
       "      <td>0.983783</td>\n",
       "    </tr>\n",
       "    <tr>\n",
       "      <th>15</th>\n",
       "      <td>0.968854</td>\n",
       "      <td>0.029137</td>\n",
       "      <td>16</td>\n",
       "      <td>0.939716</td>\n",
       "      <td>0.997991</td>\n",
       "    </tr>\n",
       "    <tr>\n",
       "      <th>16</th>\n",
       "      <td>0.968741</td>\n",
       "      <td>0.017964</td>\n",
       "      <td>17</td>\n",
       "      <td>0.950776</td>\n",
       "      <td>0.986705</td>\n",
       "    </tr>\n",
       "    <tr>\n",
       "      <th>17</th>\n",
       "      <td>0.970664</td>\n",
       "      <td>0.026643</td>\n",
       "      <td>18</td>\n",
       "      <td>0.944021</td>\n",
       "      <td>0.997306</td>\n",
       "    </tr>\n",
       "    <tr>\n",
       "      <th>18</th>\n",
       "      <td>0.970777</td>\n",
       "      <td>0.017855</td>\n",
       "      <td>19</td>\n",
       "      <td>0.952921</td>\n",
       "      <td>0.988632</td>\n",
       "    </tr>\n",
       "  </tbody>\n",
       "</table>\n",
       "</div>"
      ],
      "text/plain": [
       "    score_medio  score_std  n_neighbours  limite_inferior  limite_superior\n",
       "0      0.972587   0.021848             1         0.950739         0.994435\n",
       "1      0.953092   0.019984             2         0.933108         0.973076\n",
       "2      0.972662   0.027881             3         0.944781         1.000543\n",
       "3      0.962934   0.022157             4         0.940777         0.985091\n",
       "4      0.968778   0.025006             5         0.943772         0.993785\n",
       "5      0.964781   0.035975             6         0.928806         1.000756\n",
       "6      0.964894   0.028615             7         0.936279         0.993510\n",
       "7      0.970701   0.009769             8         0.960932         0.980470\n",
       "8      0.968778   0.019866             9         0.948913         0.988644\n",
       "9      0.970739   0.021790            10         0.948949         0.992529\n",
       "10     0.970701   0.027957            11         0.942744         0.998659\n",
       "11     0.972662   0.023506            12         0.949157         0.996168\n",
       "12     0.968854   0.023205            13         0.945648         0.992059\n",
       "13     0.970664   0.015856            14         0.954808         0.986519\n",
       "14     0.970739   0.013044            15         0.957695         0.983783\n",
       "15     0.968854   0.029137            16         0.939716         0.997991\n",
       "16     0.968741   0.017964            17         0.950776         0.986705\n",
       "17     0.970664   0.026643            18         0.944021         0.997306\n",
       "18     0.970777   0.017855            19         0.952921         0.988632"
      ]
     },
     "execution_count": 27,
     "metadata": {},
     "output_type": "execute_result"
    }
   ],
   "source": [
    "from sklearn import preprocessing\n",
    "\n",
    "X_train_std = preprocessing.scale(X_train, \n",
    "                                  axis = 0\n",
    "                                 )\n",
    "df_scores = scores_knn(X = X_train_std, \n",
    "                       y = y_train, \n",
    "                       start = 1, \n",
    "                       stop = 20, \n",
    "                       step = 1\n",
    "                      )\n",
    "df_scores"
   ]
  },
  {
   "cell_type": "markdown",
   "metadata": {},
   "source": [
    "####  <span style = \"color:red\">Código Original.</span>\n",
    "<!---\n",
    "from sklearn import preprocessing\n",
    "\n",
    "X_train_std = preprocessing.scale(X_train, axis = 0)\n",
    "df_scores = scores_knn(X = X_train_std, y = y_train, start = 1, stop = 20, step = 1)\n",
    "-->"
   ]
  },
  {
   "cell_type": "markdown",
   "metadata": {},
   "source": [
    "#### Agora vamos plotar um gráfico com os valores médios dos coeficientes de determinação e também as margens de um desvio padrão que calculamos."
   ]
  },
  {
   "cell_type": "code",
   "execution_count": 28,
   "metadata": {},
   "outputs": [
    {
     "data": {
      "image/png": "[encoded data removed]",
      "text/plain": [
       "<Figure size 432x288 with 1 Axes>"
      ]
     },
     "metadata": {
      "needs_background": "light"
     },
     "output_type": "display_data"
    }
   ],
   "source": [
    "plt.plot(df_scores['n_neighbours'], \n",
    "         df_scores['limite_inferior'], \n",
    "         color = 'r'\n",
    "        )\n",
    "plt.plot(df_scores['n_neighbours'], \n",
    "         df_scores['score_medio'], \n",
    "         color = 'b'\n",
    "        )\n",
    "plt.plot(df_scores['n_neighbours'], \n",
    "         df_scores['limite_superior'], \n",
    "         color = 'r'\n",
    "        );"
   ]
  },
  {
   "cell_type": "markdown",
   "metadata": {},
   "source": [
    "####  <span style = \"color:red\">Código Original.</span>\n",
    "<!---\n",
    "plt.plot(df_scores['n_neighbours'],df_scores['limite_inferior'],color = 'r')\n",
    "plt.plot(df_scores['n_neighbours'],df_scores['score_medio'],color = 'b')\n",
    "plt.plot(df_scores['n_neighbours'],df_scores['limite_superior'],color = 'r');\n",
    "-->"
   ]
  },
  {
   "cell_type": "markdown",
   "metadata": {},
   "source": [
    "#### Vamos agora importar a biblioteca [`sklearn.preprocessing.StandardScaler`](https://scikit-learn.org/stable/modules/generated/sklearn.preprocessing.StandardScaler.html) para padronizar nossos atributos centralizarlos em suas médias e medí-los em termos de seu desvio padrão.\n",
    "\n",
    "#### Depois da padronização vamos ajustá-los com a função [`.fit_transform()`](https://scikit-learn.org/stable/modules/generated/sklearn.preprocessing.StandardScaler.html#sklearn.preprocessing.StandardScaler.fit_transform), que ajusta os dados e retorna uma versão transformada dos mesmos."
   ]
  },
  {
   "cell_type": "code",
   "execution_count": 29,
   "metadata": {},
   "outputs": [],
   "source": [
    "# O número ideal de vizinhos é 3\n",
    "\n",
    "from sklearn.preprocessing import StandardScaler\n",
    "\n",
    "scaler = StandardScaler()\n",
    "\n",
    "X_train_std = scaler.fit_transform(X_train)\n",
    "\n",
    "#print(X_train_std[:,1])\n",
    "#print(X_train_std)"
   ]
  },
  {
   "cell_type": "markdown",
   "metadata": {},
   "source": [
    "####  <span style = \"color:red\">Código Original.</span>\n",
    "<!---\n",
    "# O número ideal de vizinhos é 3\n",
    "\n",
    "from sklearn.preprocessing import StandardScaler\n",
    "scaler = StandardScaler()\n",
    "\n",
    "X_train_std = scaler.fit_transform(X_train)\n",
    "\n",
    "#print(X_train_std[:,1])\n",
    "#print(X_train_std)\n",
    "-->"
   ]
  },
  {
   "cell_type": "markdown",
   "metadata": {},
   "source": [
    "#### Uma vez que padronizamos os atributos do conjunto de dados de treino `X_train`, vamos aplicar a função [`.std()`](https://numpy.org/doc/1.18/reference/generated/numpy.std.html) a este subconjunto para calcular o desvio padrão ao longo do eixo especificado."
   ]
  },
  {
   "cell_type": "code",
   "execution_count": 30,
   "metadata": {},
   "outputs": [
    {
     "data": {
      "text/plain": [
       "0.9999999999999999"
      ]
     },
     "execution_count": 30,
     "metadata": {},
     "output_type": "execute_result"
    }
   ],
   "source": [
    "np.std(X_train_std[:,1])"
   ]
  },
  {
   "cell_type": "markdown",
   "metadata": {},
   "source": [
    "####  <span style = \"color:red\">Código Original.</span>\n",
    "<!---\n",
    "np.std(X_train_std[:,1])\n",
    "-->"
   ]
  },
  {
   "cell_type": "markdown",
   "metadata": {},
   "source": [
    "#### Instanciamos um novo objeto `model` para receber o modelo de classificação [`kNN`](https://towardsdatascience.com/knn-algorithm-what-when-why-how-41405c16c36f), agora com um número de vizinhos definido como `n_neighbors = 3`, para isso usamos a função [`KNeighborsClassifier`](https://scikit-learn.org/stable/modules/generated/sklearn.neighbors.KNeighborsClassifier.html)."
   ]
  },
  {
   "cell_type": "code",
   "execution_count": 31,
   "metadata": {},
   "outputs": [],
   "source": [
    "model = KNeighborsClassifier(n_neighbors = 3)"
   ]
  },
  {
   "cell_type": "markdown",
   "metadata": {},
   "source": [
    "####  <span style = \"color:red\">Código Original.</span>\n",
    "<!---\n",
    "model = KNeighborsClassifier(n_neighbors = 3)\n",
    "-->"
   ]
  },
  {
   "cell_type": "markdown",
   "metadata": {},
   "source": [
    "#### O modelo, com os subconjuntos de treino `X_train_std`, padronizado e `y_train`, deve se então ajustado."
   ]
  },
  {
   "cell_type": "code",
   "execution_count": 32,
   "metadata": {},
   "outputs": [
    {
     "data": {
      "text/plain": [
       "KNeighborsClassifier(n_neighbors=3)"
      ]
     },
     "execution_count": 32,
     "metadata": {},
     "output_type": "execute_result"
    }
   ],
   "source": [
    "model.fit(X_train_std, y_train)"
   ]
  },
  {
   "cell_type": "markdown",
   "metadata": {},
   "source": [
    "####  <span style = \"color:red\">Código Original.</span>\n",
    "<!---\n",
    "model.fit(X_train_std, y_train)\n",
    "-->"
   ]
  },
  {
   "cell_type": "markdown",
   "metadata": {},
   "source": [
    "#### Padronizamos e transformamos também o subconjunto de teste `X_test` e aplicando novamente a função a função [`.fit_transform()`](https://scikit-learn.org/stable/modules/generated/sklearn.preprocessing.StandardScaler.html#sklearn.preprocessing.StandardScaler.fit_transform), que ajusta os dados e retorna uma versão transformada dos mesmos."
   ]
  },
  {
   "cell_type": "code",
   "execution_count": 33,
   "metadata": {},
   "outputs": [],
   "source": [
    "X_test_std = scaler.transform(X_test)"
   ]
  },
  {
   "cell_type": "markdown",
   "metadata": {},
   "source": [
    "####  <span style = \"color:red\">Código Original.</span>\n",
    "<!---\n",
    "X_test_std = scaler.transform(X_test)\n",
    "-->"
   ]
  },
  {
   "cell_type": "markdown",
   "metadata": {},
   "source": [
    "#### Refazemos nossas previsões com a função [`.predict()`](https://scikit-learn.org/stable/modules/generated/sklearn.linear_model.LogisticRegression.html#sklearn.linear_model.LogisticRegression.predict) aplicada ao subconjunto padronizado de teste  `X_test_std` para validar nosso modelo."
   ]
  },
  {
   "cell_type": "code",
   "execution_count": 34,
   "metadata": {},
   "outputs": [],
   "source": [
    "y_pred = model.predict(X_test_std)"
   ]
  },
  {
   "cell_type": "markdown",
   "metadata": {},
   "source": [
    "####  <span style = \"color:red\">Código Original.</span>\n",
    "<!---\n",
    "y_pred = model.predict(X_test_std)\n",
    "-->"
   ]
  },
  {
   "cell_type": "markdown",
   "metadata": {},
   "source": [
    "#### E medimos a acurácia de nosso modelo com a função [`accuracy_score()`](https://scikit-learn.org/stable/modules/generated/sklearn.metrics.accuracy_score.html) aplicada aos subconjuntos `y_test` e `y_pred`."
   ]
  },
  {
   "cell_type": "code",
   "execution_count": 35,
   "metadata": {},
   "outputs": [
    {
     "data": {
      "text/plain": [
       "0.9707602339181286"
      ]
     },
     "execution_count": 35,
     "metadata": {},
     "output_type": "execute_result"
    }
   ],
   "source": [
    "accuracy_score(y_test, y_pred)"
   ]
  },
  {
   "cell_type": "markdown",
   "metadata": {},
   "source": [
    "####  <span style = \"color:red\">Código Original.</span>\n",
    "<!---\n",
    "accuracy_score(y_test, y_pred)\n",
    "-->"
   ]
  },
  {
   "cell_type": "markdown",
   "metadata": {},
   "source": [
    "###  <span style = \"color:blue\">Prática Independente.</span>\n",
    "<!---\n",
    "-->"
   ]
  },
  {
   "cell_type": "markdown",
   "metadata": {},
   "source": [
    "#### Importe as bibliotecas necessárias para realizar uma regressão logística com os dados do arquivo anexo `market.csv`."
   ]
  },
  {
   "cell_type": "code",
   "execution_count": null,
   "metadata": {},
   "outputs": [],
   "source": []
  },
  {
   "cell_type": "code",
   "execution_count": null,
   "metadata": {},
   "outputs": [],
   "source": []
  },
  {
   "cell_type": "markdown",
   "metadata": {},
   "source": [
    "#### Investigue a natureza do dataset e os tipos dos atributos de target."
   ]
  },
  {
   "cell_type": "code",
   "execution_count": null,
   "metadata": {},
   "outputs": [],
   "source": []
  },
  {
   "cell_type": "code",
   "execution_count": null,
   "metadata": {},
   "outputs": [],
   "source": []
  },
  {
   "cell_type": "code",
   "execution_count": null,
   "metadata": {},
   "outputs": [],
   "source": []
  },
  {
   "cell_type": "code",
   "execution_count": null,
   "metadata": {},
   "outputs": [],
   "source": []
  },
  {
   "cell_type": "code",
   "execution_count": null,
   "metadata": {},
   "outputs": [],
   "source": []
  },
  {
   "cell_type": "code",
   "execution_count": null,
   "metadata": {},
   "outputs": [],
   "source": []
  },
  {
   "cell_type": "code",
   "execution_count": null,
   "metadata": {},
   "outputs": [],
   "source": []
  },
  {
   "cell_type": "markdown",
   "metadata": {},
   "source": [
    "#### Estude as medidas centrais do dataset e crie uma matriz de correlação em um mapa de calor."
   ]
  },
  {
   "cell_type": "code",
   "execution_count": null,
   "metadata": {},
   "outputs": [],
   "source": []
  },
  {
   "cell_type": "code",
   "execution_count": null,
   "metadata": {},
   "outputs": [],
   "source": []
  },
  {
   "cell_type": "markdown",
   "metadata": {},
   "source": [
    "#### Crie os vetores de atributos descritivos e de target."
   ]
  },
  {
   "cell_type": "code",
   "execution_count": null,
   "metadata": {},
   "outputs": [],
   "source": []
  },
  {
   "cell_type": "markdown",
   "metadata": {},
   "source": [
    "#### Use os métodos da biblioteca `statsmodel` para realizar a regressão logística, crie uma coluna unitária extra, divida os vetores de atributos descritivos e de target em subconjuntos de treino e teste.\n",
    "\n",
    "#### Instancie um objeto para receber a regressão logística, faça o ajuste dos dados de treino e apresente o sumário das informações de ajuste."
   ]
  },
  {
   "cell_type": "code",
   "execution_count": null,
   "metadata": {},
   "outputs": [],
   "source": []
  },
  {
   "cell_type": "code",
   "execution_count": null,
   "metadata": {},
   "outputs": [],
   "source": []
  },
  {
   "cell_type": "code",
   "execution_count": null,
   "metadata": {},
   "outputs": [],
   "source": []
  },
  {
   "cell_type": "markdown",
   "metadata": {},
   "source": [
    "#### Realize suas previsões e construa uma matriz de confusão para comparar os atributos previstos com aqueles observados. Por fim, teste a acurácia de seu modelo."
   ]
  },
  {
   "cell_type": "code",
   "execution_count": null,
   "metadata": {},
   "outputs": [],
   "source": []
  },
  {
   "cell_type": "code",
   "execution_count": null,
   "metadata": {},
   "outputs": [],
   "source": []
  },
  {
   "cell_type": "code",
   "execution_count": null,
   "metadata": {},
   "outputs": [],
   "source": []
  }
 ],
 "metadata": {
  "kernelspec": {
   "display_name": "Python 3",
   "language": "python",
   "name": "python3"
  },
  "language_info": {
   "codemirror_mode": {
    "name": "ipython",
    "version": 3
   },
   "file_extension": ".py",
   "mimetype": "text/x-python",
   "name": "python",
   "nbconvert_exporter": "python",
   "pygments_lexer": "ipython3",
   "version": "3.8.5"
  }
 },
 "nbformat": 4,
 "nbformat_minor": 4
}
