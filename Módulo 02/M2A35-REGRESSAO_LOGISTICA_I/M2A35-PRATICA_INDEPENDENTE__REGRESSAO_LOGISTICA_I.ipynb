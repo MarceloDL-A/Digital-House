{
 "cells": [
  {
   "cell_type": "markdown",
   "metadata": {
    "colab_type": "text",
    "id": "mYma6EF3hYLc"
   },
   "source": [
    "# PRACTICA INDEPENDENTE: Regressão logística. "
   ]
  },
  {
   "cell_type": "markdown",
   "metadata": {
    "colab_type": "text",
    "id": "xMSgP1sDhYLj"
   },
   "source": [
    "### Introdução.\n",
    "\n",
    "#### Nessa prática independente estamos interessados em entender como os seguintes atributos descritivos afetam a probabilidade de admissão ou admissão de cada candidato. \n",
    "\n",
    "* gre: Graduate Record Exam.\n",
    "* gpa: Grade Point Average - nota média.\n",
    "* Prestige: Prestígio da instituição de proveniência.\n",
    "\n",
    "#### Para isso, é construída uma amostra de 400 pedidos de admissão em universidades, 10 universidades e as informações correspondentes são registradas.\n",
    "\n",
    "#### A variável dependente é o resultado final da admissão, com o estudante admitido ($admit = 1$) ou não admitido ($admit = 0$)."
   ]
  },
  {
   "cell_type": "markdown",
   "metadata": {
    "colab_type": "text",
    "id": "Oq12DLOphYLo"
   },
   "source": [
    "#### Exercício 1: Importe as bibliotecas necessárias para a realização de uma análise exploratória e uma regressão logística  capaz de prever os casos de admissão. Crie um dataframe a partir dos dados do arquivo `'binary.csv'`. Lembre-se que o valor `prestige = 1` é o mais alto na escala de medidas desse atributo."
   ]
  },
  {
   "cell_type": "code",
   "execution_count": null,
   "metadata": {
    "colab": {},
    "colab_type": "code",
    "id": "ymODRjkjewCS"
   },
   "outputs": [],
   "source": []
  },
  {
   "cell_type": "code",
   "execution_count": null,
   "metadata": {
    "colab": {},
    "colab_type": "code",
    "id": "88ohS31sewCV"
   },
   "outputs": [],
   "source": []
  },
  {
   "cell_type": "code",
   "execution_count": null,
   "metadata": {
    "colab": {},
    "colab_type": "code",
    "id": "a8ybJ4T1hYL-"
   },
   "outputs": [],
   "source": []
  },
  {
   "cell_type": "code",
   "execution_count": null,
   "metadata": {
    "colab_type": "text",
    "id": "-bue34HnhYMK"
   },
   "outputs": [],
   "source": []
  },
  {
   "cell_type": "markdown",
   "metadata": {
    "colab_type": "text",
    "id": "q8jmDe4sewCc"
   },
   "source": [
    "#### Exercício 2: Estude as medidas centrais da distribuição, faça a contagem dos valores de `admit` para ter uma ideia da distribuição de casos aceitos e não aceitos. \n",
    "\n",
    "#### Crie uma análise exploratória gráfica dos dados, com um gráfico do tipo  `pairplot` para todos os atributos do dataset. \n",
    "\n",
    "#### Faça também um gráfico do tipo `FacetGrid`, separando por `prestige` a população de casos `admit = 0` e `admit = 1`. Você pode usar os atributos `gre` e `gpa` como eixos das dispersões."
   ]
  },
  {
   "cell_type": "code",
   "execution_count": null,
   "metadata": {
    "colab": {},
    "colab_type": "code",
    "id": "L8QDAuxBewCd"
   },
   "outputs": [],
   "source": []
  },
  {
   "cell_type": "code",
   "execution_count": null,
   "metadata": {
    "colab": {},
    "colab_type": "code",
    "id": "y3XKarQtewCg"
   },
   "outputs": [],
   "source": []
  },
  {
   "cell_type": "code",
   "execution_count": null,
   "metadata": {
    "colab": {},
    "colab_type": "code",
    "id": "_gAVyKK-hYMP"
   },
   "outputs": [],
   "source": []
  },
  {
   "cell_type": "code",
   "execution_count": null,
   "metadata": {
    "colab": {},
    "colab_type": "code",
    "id": "uJXm-9i4hYMg"
   },
   "outputs": [],
   "source": []
  },
  {
   "cell_type": "markdown",
   "metadata": {
    "colab_type": "text",
    "id": "XDpwXvoUhYMt"
   },
   "source": [
    "#### Exercício 3: Crie um conjunto de boxplots para as distribuições `gre`, `gpa` e `prestige`, em função dos valores de `admit` para entender melhor como cada um dos atributos acima influencia a admissão dos estudantes."
   ]
  },
  {
   "cell_type": "code",
   "execution_count": null,
   "metadata": {
    "colab": {},
    "colab_type": "code",
    "id": "tZHxJ4fohYMx"
   },
   "outputs": [],
   "source": []
  },
  {
   "cell_type": "markdown",
   "metadata": {
    "colab_type": "text",
    "id": "Y8BXZleFhYNB"
   },
   "source": [
    "#### Exercício 4: Crie também uma `crosstab()` cruzando os dados de admissão `admit` com o prestígio da instituição de origem do candidato, para estudar as contagens de admissão e inadmissão."
   ]
  },
  {
   "cell_type": "code",
   "execution_count": null,
   "metadata": {
    "colab": {},
    "colab_type": "code",
    "id": "Ga6S1xxahYNE"
   },
   "outputs": [],
   "source": []
  },
  {
   "cell_type": "markdown",
   "metadata": {
    "colab_type": "text",
    "id": "YhTX8moNhYNP"
   },
   "source": [
    "#### Exercício 5: Realize a dmummiezação da variável `prestige`  com a função [`.get_dummies()`](https://pandas.pydata.org/pandas-docs/stable/reference/api/pandas.get_dummies.html), instanciando um novo dataframe  e então concatene o novo dataframe dos atributos dummiezados com o dataframe original .\n",
    "\n",
    "#### Separe os dados entre os atributos descritivos e o target e realize a divisão do dataframe em subconjuntos de treino e teste."
   ]
  },
  {
   "cell_type": "code",
   "execution_count": null,
   "metadata": {
    "colab": {},
    "colab_type": "code",
    "id": "56h6yZMjhYNR"
   },
   "outputs": [],
   "source": []
  },
  {
   "cell_type": "code",
   "execution_count": null,
   "metadata": {
    "colab": {},
    "colab_type": "code",
    "id": "V2XfT8JBjSWN"
   },
   "outputs": [],
   "source": []
  },
  {
   "cell_type": "code",
   "execution_count": null,
   "metadata": {
    "colab": {},
    "colab_type": "code",
    "id": "_YzGfjoajLd3"
   },
   "outputs": [],
   "source": []
  },
  {
   "cell_type": "markdown",
   "metadata": {
    "colab_type": "text",
    "id": "Th2cNfMYhYOW"
   },
   "source": [
    "#### Exercício 6: Aplique o processo de criação de uma regressão logística com a padronização dos dados. \n",
    "\n",
    "#### Submeta os dados às regressões estudadas com o auxílio das bibliotecas `sklearn` e `statsmodels` e discuta os resultados."
   ]
  },
  {
   "cell_type": "markdown",
   "metadata": {
    "colab_type": "text",
    "id": "3MQa3BNoewC8"
   },
   "source": [
    "#### padronização:"
   ]
  },
  {
   "cell_type": "code",
   "execution_count": null,
   "metadata": {
    "colab": {},
    "colab_type": "code",
    "id": "U6yrWqqNewC8"
   },
   "outputs": [],
   "source": []
  },
  {
   "cell_type": "markdown",
   "metadata": {},
   "source": [
    "#### Regressão Logística com o `sklearn`:"
   ]
  },
  {
   "cell_type": "code",
   "execution_count": null,
   "metadata": {
    "colab": {},
    "colab_type": "code",
    "id": "dTUWGCT8hYOX"
   },
   "outputs": [],
   "source": []
  },
  {
   "cell_type": "code",
   "execution_count": null,
   "metadata": {
    "colab": {},
    "colab_type": "code",
    "id": "gRfns31KewDB"
   },
   "outputs": [],
   "source": []
  },
  {
   "cell_type": "code",
   "execution_count": null,
   "metadata": {
    "colab": {},
    "colab_type": "code",
    "id": "-BgV1IF0ewDE"
   },
   "outputs": [],
   "source": []
  },
  {
   "cell_type": "code",
   "execution_count": null,
   "metadata": {
    "colab": {},
    "colab_type": "code",
    "id": "D9QzynHJoAjT"
   },
   "outputs": [],
   "source": []
  },
  {
   "cell_type": "code",
   "execution_count": null,
   "metadata": {
    "colab": {},
    "colab_type": "code",
    "id": "U-EHsVQTewDM"
   },
   "outputs": [],
   "source": []
  },
  {
   "cell_type": "markdown",
   "metadata": {
    "colab_type": "text",
    "id": "TEnngLU-ewDU"
   },
   "source": [
    "#### Regressão Logística com o  `statsmodels`:"
   ]
  },
  {
   "cell_type": "code",
   "execution_count": null,
   "metadata": {
    "colab": {},
    "colab_type": "code",
    "id": "2xt3XEMtewDV"
   },
   "outputs": [],
   "source": []
  },
  {
   "cell_type": "code",
   "execution_count": null,
   "metadata": {
    "colab": {},
    "colab_type": "code",
    "id": "4bRV8jxmewDY"
   },
   "outputs": [],
   "source": []
  },
  {
   "cell_type": "code",
   "execution_count": null,
   "metadata": {
    "colab": {},
    "colab_type": "code",
    "id": "XxUlDbjQewDc"
   },
   "outputs": [],
   "source": []
  },
  {
   "cell_type": "code",
   "execution_count": null,
   "metadata": {
    "colab": {},
    "colab_type": "code",
    "id": "zN8AifyZewDf"
   },
   "outputs": [],
   "source": []
  },
  {
   "cell_type": "code",
   "execution_count": null,
   "metadata": {
    "colab": {},
    "colab_type": "code",
    "id": "Il5e_zO8ewDh"
   },
   "outputs": [],
   "source": []
  },
  {
   "cell_type": "code",
   "execution_count": null,
   "metadata": {
    "colab": {},
    "colab_type": "code",
    "id": "hFUw9_drewDk"
   },
   "outputs": [],
   "source": []
  },
  {
   "cell_type": "code",
   "execution_count": 0,
   "metadata": {
    "colab": {},
    "colab_type": "code",
    "id": "RstTI7MOewDm"
   },
   "outputs": [],
   "source": []
  }
 ],
 "metadata": {
  "colab": {
   "collapsed_sections": [],
   "name": "1.PRACTICA_GUIADA_Introd_Regr_Logistica.ipynb",
   "provenance": []
  },
  "kernelspec": {
   "display_name": "Python 3",
   "language": "python",
   "name": "python3"
  },
  "language_info": {
   "codemirror_mode": {
    "name": "ipython",
    "version": 3
   },
   "file_extension": ".py",
   "mimetype": "text/x-python",
   "name": "python",
   "nbconvert_exporter": "python",
   "pygments_lexer": "ipython3",
   "version": "3.7.6"
  }
 },
 "nbformat": 4,
 "nbformat_minor": 1
}
