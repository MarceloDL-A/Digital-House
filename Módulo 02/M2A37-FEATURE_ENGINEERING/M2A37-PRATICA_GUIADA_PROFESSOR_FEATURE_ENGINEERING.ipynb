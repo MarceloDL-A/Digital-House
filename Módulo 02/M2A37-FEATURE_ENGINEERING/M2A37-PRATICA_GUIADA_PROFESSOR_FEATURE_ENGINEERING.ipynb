{
 "cells": [
  {
   "cell_type": "markdown",
   "metadata": {
    "colab_type": "text",
    "id": "cLnaaRn1sgkr"
   },
   "source": [
    "# PRÁTICA GUIADA - Feature Engineering."
   ]
  },
  {
   "cell_type": "markdown",
   "metadata": {
    "colab_type": "text",
    "id": "2TjSBAYrsgkx"
   },
   "source": [
    "#### Estudamos as idéias fundamentais do aprendizado de máquina, mas todos os exemplos vistos assumiram que tínhamos dados numéricos em um formato `[n_samples, m_features]`. \n",
    "\n",
    "#### Em aplicações reais, os dados raramente são organizados dessa maneira. Com isso em mente, uma das etapas mais importantes para usar o aprendizado de máquina na prática é a ** engenharia de atributos ** ou [feature engineering](https://towardsdatascience.com/feature-engineering-for-machine-learning-3a5e293a5114), ou seja, pegar todas as informações existentes sobre o problema a serem resolvidas e convertê-las em números que possam ser usados para criar uma variedade de recursos. \n",
    "\n",
    "#### Normalmente, esse processo é conhecido como ** vetorização **, pois envolve a idéia de converter dados arbitrários em vetores bem formados."
   ]
  },
  {
   "cell_type": "markdown",
   "metadata": {
    "colab_type": "text",
    "id": "xO9NHx3-sgkz"
   },
   "source": [
    "## Trabalhando com atributos categóricos."
   ]
  },
  {
   "cell_type": "markdown",
   "metadata": {
    "colab_type": "text",
    "id": "WCGV0c51sgk1"
   },
   "source": [
    "#### Vamos imaginar que estamos explorando determinados dados de preços de propriedades e, junto com recursos numéricos, como preço e total de quartos, também temos informações sobre o bairro em que cada propriedade está localizada. Por exemplo, os dados podem ficar assim.\n",
    "\n",
    "#### Vamos criar uma lista de dicionários com as chves `price`, `rooms` e `neighborhood` associadas aos seus respectivos valores `int` de preço, de quarto e `str`  para a vizinhança:"
   ]
  },
  {
   "cell_type": "code",
   "execution_count": 33,
   "metadata": {},
   "outputs": [
    {
     "data": {
      "text/plain": [
       "[{'price': 850000, 'rooms': 4, 'neighborhood': 'Moema'},\n",
       " {'price': 700000, 'rooms': 3, 'neighborhood': 'Ibirapuera'},\n",
       " {'price': 650000, 'rooms': 3, 'neighborhood': 'Sacomã'},\n",
       " {'price': 600000, 'rooms': 2, 'neighborhood': 'Mooca'}]"
      ]
     },
     "execution_count": 33,
     "metadata": {},
     "output_type": "execute_result"
    }
   ],
   "source": [
    "data = [{'price': 850000, 'rooms': 4, 'neighborhood': 'Moema'},\n",
    "        {'price': 700000, 'rooms': 3, 'neighborhood': 'Ibirapuera'},\n",
    "        {'price': 650000, 'rooms': 3, 'neighborhood': 'Sacomã'},\n",
    "        {'price': 600000, 'rooms': 2, 'neighborhood': 'Mooca'}\n",
    "       ]\n",
    "data"
   ]
  },
  {
   "cell_type": "markdown",
   "metadata": {
    "colab": {},
    "colab_type": "code",
    "id": "CETEL14Isgk3"
   },
   "source": [
    "####  <span style = \"color:red\">Código Original.</span>\n",
    "<!---\n",
    "data = [{'price': 850000, 'rooms': 4, 'neighborhood': 'Moema'},\n",
    "        {'price': 700000, 'rooms': 3, 'neighborhood': 'Ibirapuera'},\n",
    "        {'price': 650000, 'rooms': 3, 'neighborhood': 'Sacomã'},\n",
    "        {'price': 600000, 'rooms': 2, 'neighborhood': 'Mooca'}]\n",
    "-->"
   ]
  },
  {
   "cell_type": "markdown",
   "metadata": {
    "colab_type": "text",
    "id": "-hQ9JVxysglB"
   },
   "source": [
    "#### Usaremos a técnica [one-hot encoding](https://scikit-learn.org/stable/modules/generated/sklearn.preprocessing.OneHotEncoder.html), que cria colunas extras indicando a presença ou ausência de uma categoria com um valor de `1` ou `0`, respectivamente. Quando os dados aparecem como uma lista de dicionários, a classe [`sklearn.feature_extraction.DictVectorizer`](https://scikit-learn.org/stable/modules/generated/sklearn.feature_extraction.DictVectorizer.html) faz isso automaticamente.\n",
    "\n",
    "#### Crie um objeto utilizando a função [`DictVectorizer()`](https://scikit-learn.org/stable/modules/generated/sklearn.feature_extraction.DictVectorizer.html) para transformar a listas de mapeamentos de valores de recurso para vetores. Observe os parâmetros `sparse = False` e `dtype = Int`. \n",
    "\n",
    "#### Use a função [`.fit_transform()`](https://scikit-learn.org/stable/modules/generated/sklearn.feature_extraction.DictVectorizer.html#sklearn.feature_extraction.DictVectorizer.fit_transform) para que o algoritmo aprenda os nomes de recursos da lista criada."
   ]
  },
  {
   "cell_type": "code",
   "execution_count": 34,
   "metadata": {},
   "outputs": [
    {
     "data": {
      "text/plain": [
       "['neighborhood=Ibirapuera',\n",
       " 'neighborhood=Moema',\n",
       " 'neighborhood=Mooca',\n",
       " 'neighborhood=Sacomã',\n",
       " 'price',\n",
       " 'rooms']"
      ]
     },
     "execution_count": 34,
     "metadata": {},
     "output_type": "execute_result"
    }
   ],
   "source": [
    "from sklearn.feature_extraction import DictVectorizer\n",
    "vec = DictVectorizer(sparse = False,\n",
    "                    dtype = int)\n",
    "vec.fit_transform(data)\n",
    "vec.get_feature_names()"
   ]
  },
  {
   "cell_type": "raw",
   "metadata": {},
   "source": [
    "from sklearn.feature_extraction import DictVectorizer\n",
    "vec = DictVectorizer(sparse = False, \n",
    "                     dtype = int\n",
    "                    )\n",
    "print(vec.fit_transform(data))\n",
    "\n",
    "X = vec.fit_transform(data)\n",
    "print(vec.get_feature_names())"
   ]
  },
  {
   "cell_type": "markdown",
   "metadata": {
    "colab": {
     "base_uri": "https://localhost:8080/",
     "height": 85
    },
    "colab_type": "code",
    "executionInfo": {
     "elapsed": 2302,
     "status": "ok",
     "timestamp": 1568853377505,
     "user": {
      "displayName": "Julián Ansaldo",
      "photoUrl": "https://lh3.googleusercontent.com/a-/AAuE7mCQI0iy6sTR9TfuLMfXZ90XCqxfdAQtMEcBkjfs1w=s64",
      "userId": "10643095115217147090"
     },
     "user_tz": 180
    },
    "id": "_-wsmXYXsglD",
    "outputId": "61bc247c-9513-473b-d17e-579f6036dce2"
   },
   "source": [
    "####  <span style = \"color:red\">Código Original.</span>\n",
    "<!---\n",
    "from sklearn.feature_extraction import DictVectorizer\n",
    "vec = DictVectorizer(sparse = False, dtype = int)\n",
    "print(vec.fit_transform(data))\n",
    "\n",
    "X = vec.fit_transform(data)\n",
    "print(vec.get_feature_names())\n",
    "-->\n"
   ]
  },
  {
   "cell_type": "markdown",
   "metadata": {
    "colab_type": "text",
    "id": "-2xhH-H0sglK"
   },
   "source": [
    "#### Com os recursos categóricos codificados dessa maneira, podemos continuar como de costume para ajustar um modelo com o [Scikit-Learn](https://scikit-learn.org/stable/)."
   ]
  },
  {
   "cell_type": "markdown",
   "metadata": {
    "colab_type": "text",
    "id": "pDnbLVKKsglM"
   },
   "source": [
    "#### Para ver o significado de cada coluna, podemos inspecionar os nomes dos atributos com o método [`.get_feature_names()`](https://scikit-learn.org/stable/modules/generated/sklearn.feature_extraction.DictVectorizer.html#sklearn.feature_extraction.DictVectorizer.get_feature_names), que retorna uma lista com os nomes dos atributos, ordenados por seus índices."
   ]
  },
  {
   "cell_type": "code",
   "execution_count": 35,
   "metadata": {
    "colab": {
     "base_uri": "https://localhost:8080/",
     "height": 119
    },
    "colab_type": "code",
    "executionInfo": {
     "elapsed": 2272,
     "status": "ok",
     "timestamp": 1568853377510,
     "user": {
      "displayName": "Julián Ansaldo",
      "photoUrl": "https://lh3.googleusercontent.com/a-/AAuE7mCQI0iy6sTR9TfuLMfXZ90XCqxfdAQtMEcBkjfs1w=s64",
      "userId": "10643095115217147090"
     },
     "user_tz": 180
    },
    "id": "62kyqOI7sglO",
    "outputId": "ae45943f-08c3-4f32-88f4-13832c7fa13c"
   },
   "outputs": [
    {
     "data": {
      "text/plain": [
       "['neighborhood=Ibirapuera',\n",
       " 'neighborhood=Moema',\n",
       " 'neighborhood=Mooca',\n",
       " 'neighborhood=Sacomã',\n",
       " 'price',\n",
       " 'rooms']"
      ]
     },
     "execution_count": 35,
     "metadata": {},
     "output_type": "execute_result"
    }
   ],
   "source": [
    "vec.get_feature_names()"
   ]
  },
  {
   "cell_type": "markdown",
   "metadata": {},
   "source": [
    "####  <span style = \"color:red\">Código Original.</span>\n",
    "<!---\n",
    "vec.get_feature_names()\n",
    "-->"
   ]
  },
  {
   "cell_type": "markdown",
   "metadata": {
    "colab_type": "text",
    "id": "P9fy4sDesglW"
   },
   "source": [
    "#### Há uma desvantagem distinta nessa abordagem: se cada categoria tiver muitos valores possíveis, isso poderá aumentar bastante o tamanho do conjunto de dados. No entanto, como os dados codificados contêm principalmente `0` e `1`, uma ** matriz esparsa ** pode ser uma solução eficiente.\n",
    "\n",
    "#### Repita a operação anterior com o parâmetro `sparse = True`"
   ]
  },
  {
   "cell_type": "code",
   "execution_count": 36,
   "metadata": {},
   "outputs": [
    {
     "name": "stdout",
     "output_type": "stream",
     "text": [
      "  (0, 1)\t1\n",
      "  (0, 4)\t850000\n",
      "  (0, 5)\t4\n",
      "  (1, 0)\t1\n",
      "  (1, 4)\t700000\n",
      "  (1, 5)\t3\n",
      "  (2, 3)\t1\n",
      "  (2, 4)\t650000\n",
      "  (2, 5)\t3\n",
      "  (3, 2)\t1\n",
      "  (3, 4)\t600000\n",
      "  (3, 5)\t2\n"
     ]
    }
   ],
   "source": [
    "vec = DictVectorizer(sparse = True, \n",
    "                     dtype = int\n",
    "                    )\n",
    "vec.fit_transform(data)\n",
    "print(vec.fit_transform(data))"
   ]
  },
  {
   "cell_type": "markdown",
   "metadata": {
    "colab": {
     "base_uri": "https://localhost:8080/",
     "height": 51
    },
    "colab_type": "code",
    "executionInfo": {
     "elapsed": 2250,
     "status": "ok",
     "timestamp": 1568853377512,
     "user": {
      "displayName": "Julián Ansaldo",
      "photoUrl": "https://lh3.googleusercontent.com/a-/AAuE7mCQI0iy6sTR9TfuLMfXZ90XCqxfdAQtMEcBkjfs1w=s64",
      "userId": "10643095115217147090"
     },
     "user_tz": 180
    },
    "id": "e3IBnHz1sglZ",
    "outputId": "30435cf1-ca96-4f4a-cdfc-b6f102870bfa"
   },
   "source": [
    "####  <span style = \"color:red\">Código Original.</span>\n",
    "<!---\n",
    "vec = DictVectorizer(sparse = True, dtype = int)\n",
    "vec.fit_transform(data)\n",
    "print(vec.fit_transform(data))\n",
    "\n",
    "#### Observe que a matriz esparsa armazena ** apenas valores diferentes de zero **: no nosso caso, de um total de 24 elementos (4 x 6), ele armazenou apenas 12. Isso torna o processamento muito mais eficiente. Muitos (mas não todos) dos estimadores do Scikit-Learn aceitam gráficos dispersos quando os modelos são ajustados e avaliados.\n",
    "-->"
   ]
  },
  {
   "cell_type": "markdown",
   "metadata": {
    "colab_type": "text",
    "id": "5v3Wt3eXsglg"
   },
   "source": [
    "#### Como alternativa, [`sklearn.preprocessing.OneHotEncoder`](https://scikit-learn.org/stable/modules/generated/sklearn.preprocessing.OneHotEncoder.html) e [`sklearn.feature_extraction.FeatureHasher`](https://scikit-learn.org/stable/modules/generated/sklearn.feature_extraction.FeatureHasher.html) são duas funcionalidades adicionais que o Scikit-Learn inclui para oferecer suporte a esse tipo de codificação."
   ]
  },
  {
   "cell_type": "markdown",
   "metadata": {
    "colab_type": "text",
    "id": "-670Y9hvsgli"
   },
   "source": [
    "## Trabalhando com texto."
   ]
  },
  {
   "cell_type": "markdown",
   "metadata": {
    "colab_type": "text",
    "id": "jpJD6vvQsglm"
   },
   "source": [
    "#### Outra necessidade comum na engenharia de recursos é converter texto em um conjunto de valores numéricos representativos. Por exemplo, a maioria das minerações automáticas de dados sociais é baseada em alguma forma de codificação de texto, como números. Um dos métodos mais simples é codificar os dados por meio da [contagem de palavras](https://scikit-learn.org/stable/modules/feature_extraction.html), que consiste em pegar cada fragmento de texto, contar as ocorrências de cada palavra e despejar os resultados em uma tabela."
   ]
  },
  {
   "cell_type": "markdown",
   "metadata": {},
   "source": [
    "#### Vamos criar uma lista de três frases."
   ]
  },
  {
   "cell_type": "code",
   "execution_count": 37,
   "metadata": {},
   "outputs": [],
   "source": [
    "textos = ['cientista de dados',\n",
    "          'dados estruturados',\n",
    "          'pensamento científico'\n",
    "         ]"
   ]
  },
  {
   "cell_type": "markdown",
   "metadata": {
    "colab": {},
    "colab_type": "code",
    "id": "SZEadkJ_sglo"
   },
   "source": [
    "####  <span style = \"color:red\">Código Original.</span>\n",
    "<!---\n",
    "textos = ['cientista de dados',\n",
    "          'dados estruturados',\n",
    "          'pensamento científico']\n",
    "-->"
   ]
  },
  {
   "cell_type": "markdown",
   "metadata": {
    "colab_type": "text",
    "id": "12ws3Fj_sglu"
   },
   "source": [
    "#### Para vetorizar esse conjunto de dados com base na contagem de palavras, podemos construir uma coluna representando cada palavra: \"cientista\", \"dados\", \"pensamento\" etc.\n",
    "\n",
    "#### Para isso, usamos [`sklearn.feature_extraction.text.CountVectorizer`](https://scikit-learn.org/stable/modules/generated/sklearn.feature_extraction.text.CountVectorizer.html) para trabalhar com a lista de `strings` e crie um objeto utilizando a função [`CountVectorizer()`](https://scikit-learn.org/stable/modules/generated/sklearn.feature_extraction.text.CountVectorizer.html) para converter uma coleção de documentos de texto em uma matriz de contagens de tokens. \n",
    "\n",
    "\n",
    "#### Use a função [`.fit_transform()`](https://scikit-learn.org/stable/modules/generated/sklearn.feature_extraction.DictVectorizer.html#sklearn.feature_extraction.DictVectorizer.fit_transform) para que o algoritmo aprenda os nomes de recursos da lista criada."
   ]
  },
  {
   "cell_type": "code",
   "execution_count": 38,
   "metadata": {},
   "outputs": [
    {
     "data": {
      "text/plain": [
       "<3x6 sparse matrix of type '<class 'numpy.int64'>'\n",
       "\twith 7 stored elements in Compressed Sparse Row format>"
      ]
     },
     "execution_count": 38,
     "metadata": {},
     "output_type": "execute_result"
    }
   ],
   "source": [
    "from sklearn.feature_extraction.text import CountVectorizer\n",
    "vec = CountVectorizer()\n",
    "X = vec.fit_transform(textos)\n",
    "X"
   ]
  },
  {
   "cell_type": "code",
   "execution_count": 39,
   "metadata": {},
   "outputs": [
    {
     "data": {
      "text/plain": [
       "matrix([[1, 0, 1, 1, 0, 0],\n",
       "        [0, 0, 1, 0, 1, 0],\n",
       "        [0, 1, 0, 0, 0, 1]], dtype=int64)"
      ]
     },
     "execution_count": 39,
     "metadata": {},
     "output_type": "execute_result"
    }
   ],
   "source": [
    "X.todense()"
   ]
  },
  {
   "cell_type": "code",
   "execution_count": 40,
   "metadata": {},
   "outputs": [
    {
     "data": {
      "text/plain": [
       "['cientista', 'científico', 'dados', 'de', 'estruturados', 'pensamento']"
      ]
     },
     "execution_count": 40,
     "metadata": {},
     "output_type": "execute_result"
    }
   ],
   "source": [
    "vec.get_feature_names()"
   ]
  },
  {
   "cell_type": "code",
   "execution_count": 41,
   "metadata": {},
   "outputs": [
    {
     "data": {
      "text/html": [
       "<div>\n",
       "<style scoped>\n",
       "    .dataframe tbody tr th:only-of-type {\n",
       "        vertical-align: middle;\n",
       "    }\n",
       "\n",
       "    .dataframe tbody tr th {\n",
       "        vertical-align: top;\n",
       "    }\n",
       "\n",
       "    .dataframe thead th {\n",
       "        text-align: right;\n",
       "    }\n",
       "</style>\n",
       "<table border=\"1\" class=\"dataframe\">\n",
       "  <thead>\n",
       "    <tr style=\"text-align: right;\">\n",
       "      <th></th>\n",
       "      <th>cientista</th>\n",
       "      <th>científico</th>\n",
       "      <th>dados</th>\n",
       "      <th>de</th>\n",
       "      <th>estruturados</th>\n",
       "      <th>pensamento</th>\n",
       "    </tr>\n",
       "  </thead>\n",
       "  <tbody>\n",
       "    <tr>\n",
       "      <th>0</th>\n",
       "      <td>1</td>\n",
       "      <td>0</td>\n",
       "      <td>1</td>\n",
       "      <td>1</td>\n",
       "      <td>0</td>\n",
       "      <td>0</td>\n",
       "    </tr>\n",
       "    <tr>\n",
       "      <th>1</th>\n",
       "      <td>0</td>\n",
       "      <td>0</td>\n",
       "      <td>1</td>\n",
       "      <td>0</td>\n",
       "      <td>1</td>\n",
       "      <td>0</td>\n",
       "    </tr>\n",
       "    <tr>\n",
       "      <th>2</th>\n",
       "      <td>0</td>\n",
       "      <td>1</td>\n",
       "      <td>0</td>\n",
       "      <td>0</td>\n",
       "      <td>0</td>\n",
       "      <td>1</td>\n",
       "    </tr>\n",
       "  </tbody>\n",
       "</table>\n",
       "</div>"
      ],
      "text/plain": [
       "   cientista  científico  dados  de  estruturados  pensamento\n",
       "0          1           0      1   1             0           0\n",
       "1          0           0      1   0             1           0\n",
       "2          0           1      0   0             0           1"
      ]
     },
     "execution_count": 41,
     "metadata": {},
     "output_type": "execute_result"
    }
   ],
   "source": [
    "pd.DataFrame(data = X.todense(), columns = vec.get_feature_names())"
   ]
  },
  {
   "cell_type": "code",
   "execution_count": 42,
   "metadata": {},
   "outputs": [
    {
     "name": "stdout",
     "output_type": "stream",
     "text": [
      "  (0, 0)\t1\n",
      "  (0, 3)\t1\n",
      "  (0, 2)\t1\n",
      "  (1, 2)\t1\n",
      "  (1, 4)\t1\n",
      "  (2, 5)\t1\n",
      "  (2, 1)\t1\n"
     ]
    }
   ],
   "source": [
    "from sklearn.feature_extraction.text import CountVectorizer\n",
    "vec = CountVectorizer()\n",
    "X = vec.fit_transform(textos)\n",
    "print(X)"
   ]
  },
  {
   "cell_type": "markdown",
   "metadata": {
    "colab": {
     "base_uri": "https://localhost:8080/",
     "height": 51
    },
    "colab_type": "code",
    "executionInfo": {
     "elapsed": 2136,
     "status": "ok",
     "timestamp": 1568853377515,
     "user": {
      "displayName": "Julián Ansaldo",
      "photoUrl": "https://lh3.googleusercontent.com/a-/AAuE7mCQI0iy6sTR9TfuLMfXZ90XCqxfdAQtMEcBkjfs1w=s64",
      "userId": "10643095115217147090"
     },
     "user_tz": 180
    },
    "id": "MPXp-2tusgly",
    "outputId": "c449e3e5-8c29-4335-a78c-10dc943a397a"
   },
   "source": [
    "####  <span style = \"color:red\">Código Original.</span>\n",
    "<!---\n",
    "from sklearn.feature_extraction.text import CountVectorizer\n",
    "vec = CountVectorizer()\n",
    "X = vec.fit_transform(textos)\n",
    "print(X)\n",
    "-->\n"
   ]
  },
  {
   "cell_type": "markdown",
   "metadata": {
    "colab_type": "text",
    "id": "oDnl9SCysgl8"
   },
   "source": [
    "#### Podemos visualizar o `output` do `CountVectorizer` utilizando o método [`.todense()`](https://docs.scipy.org/doc/scipy/reference/generated/scipy.sparse.csr_matrix.todense.html), que converte a matrix dispersa em uma matriz densa."
   ]
  },
  {
   "cell_type": "code",
   "execution_count": 43,
   "metadata": {
    "colab": {
     "base_uri": "https://localhost:8080/",
     "height": 68
    },
    "colab_type": "code",
    "executionInfo": {
     "elapsed": 2071,
     "status": "ok",
     "timestamp": 1568853377518,
     "user": {
      "displayName": "Julián Ansaldo",
      "photoUrl": "https://lh3.googleusercontent.com/a-/AAuE7mCQI0iy6sTR9TfuLMfXZ90XCqxfdAQtMEcBkjfs1w=s64",
      "userId": "10643095115217147090"
     },
     "user_tz": 180
    },
    "id": "wwdJIP6nsgl_",
    "outputId": "d3a380b6-f043-4ac1-e24f-fb684c50f1cb"
   },
   "outputs": [
    {
     "data": {
      "text/plain": [
       "matrix([[1, 0, 1, 1, 0, 0],\n",
       "        [0, 0, 1, 0, 1, 0],\n",
       "        [0, 1, 0, 0, 0, 1]], dtype=int64)"
      ]
     },
     "execution_count": 43,
     "metadata": {},
     "output_type": "execute_result"
    }
   ],
   "source": [
    "X.todense()"
   ]
  },
  {
   "cell_type": "markdown",
   "metadata": {},
   "source": [
    "####  <span style = \"color:red\">Código Original.</span>\n",
    "<!---\n",
    "X.todense()\n",
    "-->"
   ]
  },
  {
   "cell_type": "markdown",
   "metadata": {
    "colab_type": "text",
    "id": "Ae3xzMeBsgmL"
   },
   "source": [
    "#### Podemos despejar esse resultado em um `DataFrame`, para obter os títulos das colunas, vamos usar o método [`.get_feature_names()`](https://scikit-learn.org/stable/modules/generated/sklearn.feature_extraction.text.CountVectorizer.html#sklearn.feature_extraction.text.CountVectorizer.get_feature_names) para o parâmetro `columns`. Importe o `pandas` e use a função [`pd.DataFrame()`](https://pandas.pydata.org/pandas-docs/stable/reference/api/pandas.DataFrame.html) para criar um `dataframe` a partir da matriz condensada na célula anterior."
   ]
  },
  {
   "cell_type": "code",
   "execution_count": 44,
   "metadata": {},
   "outputs": [
    {
     "data": {
      "text/html": [
       "<div>\n",
       "<style scoped>\n",
       "    .dataframe tbody tr th:only-of-type {\n",
       "        vertical-align: middle;\n",
       "    }\n",
       "\n",
       "    .dataframe tbody tr th {\n",
       "        vertical-align: top;\n",
       "    }\n",
       "\n",
       "    .dataframe thead th {\n",
       "        text-align: right;\n",
       "    }\n",
       "</style>\n",
       "<table border=\"1\" class=\"dataframe\">\n",
       "  <thead>\n",
       "    <tr style=\"text-align: right;\">\n",
       "      <th></th>\n",
       "      <th>cientista</th>\n",
       "      <th>científico</th>\n",
       "      <th>dados</th>\n",
       "      <th>de</th>\n",
       "      <th>estruturados</th>\n",
       "      <th>pensamento</th>\n",
       "    </tr>\n",
       "  </thead>\n",
       "  <tbody>\n",
       "    <tr>\n",
       "      <th>0</th>\n",
       "      <td>1</td>\n",
       "      <td>0</td>\n",
       "      <td>1</td>\n",
       "      <td>1</td>\n",
       "      <td>0</td>\n",
       "      <td>0</td>\n",
       "    </tr>\n",
       "    <tr>\n",
       "      <th>1</th>\n",
       "      <td>0</td>\n",
       "      <td>0</td>\n",
       "      <td>1</td>\n",
       "      <td>0</td>\n",
       "      <td>1</td>\n",
       "      <td>0</td>\n",
       "    </tr>\n",
       "    <tr>\n",
       "      <th>2</th>\n",
       "      <td>0</td>\n",
       "      <td>1</td>\n",
       "      <td>0</td>\n",
       "      <td>0</td>\n",
       "      <td>0</td>\n",
       "      <td>1</td>\n",
       "    </tr>\n",
       "  </tbody>\n",
       "</table>\n",
       "</div>"
      ],
      "text/plain": [
       "   cientista  científico  dados  de  estruturados  pensamento\n",
       "0          1           0      1   1             0           0\n",
       "1          0           0      1   0             1           0\n",
       "2          0           1      0   0             0           1"
      ]
     },
     "execution_count": 44,
     "metadata": {},
     "output_type": "execute_result"
    }
   ],
   "source": [
    "import pandas as pd\n",
    "pd.DataFrame(data = X.todense(), \n",
    "             columns = vec.get_feature_names()\n",
    "            )"
   ]
  },
  {
   "cell_type": "markdown",
   "metadata": {
    "colab": {
     "base_uri": "https://localhost:8080/",
     "height": 142
    },
    "colab_type": "code",
    "executionInfo": {
     "elapsed": 2025,
     "status": "ok",
     "timestamp": 1568853377520,
     "user": {
      "displayName": "Julián Ansaldo",
      "photoUrl": "https://lh3.googleusercontent.com/a-/AAuE7mCQI0iy6sTR9TfuLMfXZ90XCqxfdAQtMEcBkjfs1w=s64",
      "userId": "10643095115217147090"
     },
     "user_tz": 180
    },
    "id": "ggdQ5v7UsgmP",
    "outputId": "be7fc2aa-1404-44b4-95cf-f57cccd8cedc"
   },
   "source": [
    "####  <span style = \"color:red\">Código Original.</span>\n",
    "<!---\n",
    "import pandas as pd\n",
    "pd.DataFrame(data = X.todense(), columns = vec.get_feature_names())\n",
    "-->\n"
   ]
  },
  {
   "cell_type": "markdown",
   "metadata": {
    "colab_type": "text",
    "id": "VyCd1urdsgmV"
   },
   "source": [
    "#### [Term frequency-inverse document frequency (TF–IDF)](https://towardsdatascience.com/tf-idf-for-document-ranking-from-scratch-in-python-on-real-world-dataset-796d339a4089#:~:text=TF%2DIDF%20stands%20for%20%E2%80%9CTerm,Information%20Retrieval%20and%20Text%20Mining.) é uma técnica alternativa que calcula a frequência relativa de cada palavra por documento, ponderada pelo inverso de sua frequência relativa em todo o `corpus` (coleção de documentos). Este método funciona melhor com certos algoritmos de classificação.\n",
    "\n",
    "#### Para isso vamos utilizar a classe de funções [`sklearn.feature_extraction.text.TfidfVectorizer`](https://scikit-learn.org/stable/modules/generated/sklearn.feature_extraction.text.TfidfVectorizer.html):\n",
    "\n",
    "#### Atribua a função [`TfidfVectorizer()`](https://scikit-learn.org/stable/modules/generated/sklearn.feature_extraction.text.TfidfVectorizer.html) a um objeto, para converter a coleção de documentos brutos criada na célular anterior em uma matriz de recursos `TF-IDF`.\n",
    "\n",
    "#### Utilize novamente o método [`.todense()`](https://docs.scipy.org/doc/scipy/reference/generated/scipy.sparse.csr_matrix.todense.html), para converter a matrix dispersa em uma matriz densa e transforme o resultado em um `dataframe` com a função [`pd.DataFrame()`](https://pandas.pydata.org/pandas-docs/stable/reference/api/pandas.DataFrame.html).\n"
   ]
  },
  {
   "cell_type": "code",
   "execution_count": 45,
   "metadata": {},
   "outputs": [
    {
     "data": {
      "text/html": [
       "<div>\n",
       "<style scoped>\n",
       "    .dataframe tbody tr th:only-of-type {\n",
       "        vertical-align: middle;\n",
       "    }\n",
       "\n",
       "    .dataframe tbody tr th {\n",
       "        vertical-align: top;\n",
       "    }\n",
       "\n",
       "    .dataframe thead th {\n",
       "        text-align: right;\n",
       "    }\n",
       "</style>\n",
       "<table border=\"1\" class=\"dataframe\">\n",
       "  <thead>\n",
       "    <tr style=\"text-align: right;\">\n",
       "      <th></th>\n",
       "      <th>cientista</th>\n",
       "      <th>científico</th>\n",
       "      <th>dados</th>\n",
       "      <th>de</th>\n",
       "      <th>estruturados</th>\n",
       "      <th>pensamento</th>\n",
       "    </tr>\n",
       "  </thead>\n",
       "  <tbody>\n",
       "    <tr>\n",
       "      <th>0</th>\n",
       "      <td>0.622766</td>\n",
       "      <td>0.000000</td>\n",
       "      <td>0.473630</td>\n",
       "      <td>0.622766</td>\n",
       "      <td>0.000000</td>\n",
       "      <td>0.000000</td>\n",
       "    </tr>\n",
       "    <tr>\n",
       "      <th>1</th>\n",
       "      <td>0.000000</td>\n",
       "      <td>0.000000</td>\n",
       "      <td>0.605349</td>\n",
       "      <td>0.000000</td>\n",
       "      <td>0.795961</td>\n",
       "      <td>0.000000</td>\n",
       "    </tr>\n",
       "    <tr>\n",
       "      <th>2</th>\n",
       "      <td>0.000000</td>\n",
       "      <td>0.707107</td>\n",
       "      <td>0.000000</td>\n",
       "      <td>0.000000</td>\n",
       "      <td>0.000000</td>\n",
       "      <td>0.707107</td>\n",
       "    </tr>\n",
       "  </tbody>\n",
       "</table>\n",
       "</div>"
      ],
      "text/plain": [
       "   cientista  científico     dados        de  estruturados  pensamento\n",
       "0   0.622766    0.000000  0.473630  0.622766      0.000000    0.000000\n",
       "1   0.000000    0.000000  0.605349  0.000000      0.795961    0.000000\n",
       "2   0.000000    0.707107  0.000000  0.000000      0.000000    0.707107"
      ]
     },
     "execution_count": 45,
     "metadata": {},
     "output_type": "execute_result"
    }
   ],
   "source": [
    "from sklearn.feature_extraction.text import TfidfVectorizer\n",
    "vec = TfidfVectorizer()\n",
    "X = vec.fit_transform(textos)\n",
    "pd.DataFrame(data = X.todense(), \n",
    "             columns = vec.get_feature_names()\n",
    "            )"
   ]
  },
  {
   "cell_type": "markdown",
   "metadata": {
    "colab": {
     "base_uri": "https://localhost:8080/",
     "height": 142
    },
    "colab_type": "code",
    "executionInfo": {
     "elapsed": 2238,
     "status": "ok",
     "timestamp": 1568853377774,
     "user": {
      "displayName": "Julián Ansaldo",
      "photoUrl": "https://lh3.googleusercontent.com/a-/AAuE7mCQI0iy6sTR9TfuLMfXZ90XCqxfdAQtMEcBkjfs1w=s64",
      "userId": "10643095115217147090"
     },
     "user_tz": 180
    },
    "id": "ovn6i9_hsgmX",
    "outputId": "3b247071-89ba-45de-93d3-96c21f22cc05"
   },
   "source": [
    "####  <span style = \"color:red\">Código Original.</span>\n",
    "<!---\n",
    "from sklearn.feature_extraction.text import TfidfVectorizer\n",
    "vec = TfidfVectorizer()\n",
    "X = vec.fit_transform(textos)\n",
    "pd.DataFrame(data = X.todense(), columns = vec.get_feature_names())\n",
    "-->"
   ]
  },
  {
   "cell_type": "markdown",
   "metadata": {
    "colab_type": "text",
    "id": "Zhx8CaTasgmd"
   },
   "source": [
    "##### Vejamos como se calculam os valores de `tfidf`:\n",
    "\n",
    "\n",
    "#### Para o cálculo da freqüência com que um termo $t_{i}$  aparece em um documento $d_{i}$: \n",
    "\n",
    "$ tf_{ij} = \\frac{n_{ij}}{\\sum_{k} n_{ik}} = \\frac{n_{ij}}{|d_{i}|}$\n",
    "\n",
    "- Em que $n_{ij}$ é o número de vezes que o termo $t_{i}$ aparece no documento $d_{i}$. \n",
    "\n",
    "#### Para o cálculo da freqüência inversa com que um termo $t_{i}$  aparece nos $N$ documentos:\n",
    "\n",
    "$ idf_{j} = log\\bigg(\\frac{N}{n_{j}}\\bigg)$\n",
    "\n",
    "\n",
    "- Em que $N$ é o número total de documentos e $n_{j}$ é o número de documentos que contém o termo $t_{j}$. \n",
    "\n",
    "#### Um termo $t_{j}$ que aparece em poucos documentos é melhor discriminado que outro que aparece muitas vezes.\n",
    "\n",
    "#### Cada documento $j$ é representado como um vetor de características: \n",
    "\n",
    "$d_{j}$:$d_{j} = (d_{j1}, … , d_{jn})$ \n",
    "\n",
    "#### Contabilizando todos os termos $t_{i}$ ficamos com uma matriz dada pelo produto cartesiano $tf_{ij}$ e $idf_{j}$:\n",
    "\n",
    "$d_{ij} = tfidf_{ij} = tf_{ij}~x~idf_{j}$\n",
    "\n",
    "###### Como exemplo, calculemos os valores da primeira linha:"
   ]
  },
  {
   "cell_type": "code",
   "execution_count": 49,
   "metadata": {},
   "outputs": [],
   "source": [
    "textos = ['cientista de dados',\n",
    "          'dados estruturados',\n",
    "          'pensamento científico'\n",
    "         ]"
   ]
  },
  {
   "cell_type": "markdown",
   "metadata": {},
   "source": [
    "####  <span style = \"color:red\">Código Original.</span>\n",
    "<!---\n",
    "textos = ['cientista de dados',\n",
    "          'dados estruturados',\n",
    "          'pensamento científico']\n",
    "-->"
   ]
  },
  {
   "cell_type": "markdown",
   "metadata": {},
   "source": [
    "#### Se o parâmetro `smooth_idf = True` (padrão), uma constante de valor `1` é agregada ao numerador e ao denominador de $idf_ {i}$ para evitar divisões por zero: $ idf_{j} = log\\bigg(\\frac{N}{1 + n_{j}} + 1\\bigg)$. Isso cria um limite inferior $log(2)$ para as contagens. Outras variações são ainda possívels."
   ]
  },
  {
   "cell_type": "markdown",
   "metadata": {},
   "source": [
    "#### Importe a classe [`sklearn.feature_extraction.text.TfidfVectorizer`](https://scikit-learn.org/stable/modules/generated/sklearn.feature_extraction.text.TfidfVectorizer.html) para converta uma coleção de documentos brutos em uma matriz de recursos `TF-IDF`.\n",
    "\n",
    "#### Defina três objetos que recebem os documentos criados na célula anterior e utilize a função  [`.TfidfVectorizer()`](https://scikit-learn.org/stable/modules/generated/sklearn.feature_extraction.text.TfidfVectorizer.html) para realizar o cálculo dos valroes `TF-IDF` e observe os parâmetros `norm = 'l2'`, `use_idf = True`, `smooth_idf = True`, `sublinear_tf = False`."
   ]
  },
  {
   "cell_type": "code",
   "execution_count": 50,
   "metadata": {},
   "outputs": [],
   "source": [
    "from sklearn.feature_extraction.text import TfidfVectorizer\n",
    "\n",
    "docA = textos[0]\n",
    "docB = textos[1]\n",
    "docC = textos[2]\n",
    "\n",
    "tfidf = TfidfVectorizer(norm = 'l2', \n",
    "                        use_idf = True, \n",
    "                        smooth_idf = True, \n",
    "                        sublinear_tf = False\n",
    "                       )"
   ]
  },
  {
   "cell_type": "markdown",
   "metadata": {},
   "source": [
    "####  <span style = \"color:red\">Código Original.</span>\n",
    "<!---\n",
    "from sklearn.feature_extraction.text import TfidfVectorizer\n",
    "\n",
    "docA = textos[0]\n",
    "docB = textos[1]\n",
    "docC = textos[2]\n",
    "\n",
    "tfidf = TfidfVectorizer(norm = 'l2', use_idf = True, smooth_idf = True, sublinear_tf = False)\n",
    "-->"
   ]
  },
  {
   "cell_type": "markdown",
   "metadata": {},
   "source": [
    "#### A função [`.fit_transform()`](https://kite.com/python/docs/sklearn.isotonic.IsotonicRegression.fit_transform) aprende o vocabulário e `idf` e retorna uma matriz do tipo `document-term`. Vamos usá-la com os três documentos criados na célula anterior e  então aplicar o método [`.todense()`](https://docs.scipy.org/doc/scipy/reference/generated/scipy.sparse.csr_matrix.todense.html), para converter a matrix dispersa, resultado de `.fit_transform()` em uma matriz densa."
   ]
  },
  {
   "cell_type": "code",
   "execution_count": 51,
   "metadata": {},
   "outputs": [
    {
     "name": "stdout",
     "output_type": "stream",
     "text": [
      "[[0.62276601 0.         0.4736296  0.62276601 0.         0.        ]\n",
      " [0.         0.         0.60534851 0.         0.79596054 0.        ]\n",
      " [0.         0.70710678 0.         0.         0.         0.70710678]]\n"
     ]
    }
   ],
   "source": [
    "response = tfidf.fit_transform([docA, docB, docC])\n",
    "print(response.todense())"
   ]
  },
  {
   "cell_type": "markdown",
   "metadata": {},
   "source": [
    "####  <span style = \"color:red\">Código Original.</span>\n",
    "<!---\n",
    "response = tfidf.fit_transform([docA, docB, docC])\n",
    "print(response.todense())\n",
    "-->"
   ]
  },
  {
   "cell_type": "markdown",
   "metadata": {},
   "source": [
    "#### A função [`get_feature_names`](https://scikit-learn.org/stable/modules/generated/sklearn.feature_extraction.text.TfidfVectorizer.html#sklearn.feature_extraction.text.TfidfVectorizer.get_feature_names) faz um mapeamento de matriz de índices inteiros do recurso para o nome do recurso."
   ]
  },
  {
   "cell_type": "code",
   "execution_count": 52,
   "metadata": {},
   "outputs": [],
   "source": [
    "feature_names = tfidf.get_feature_names()"
   ]
  },
  {
   "cell_type": "markdown",
   "metadata": {},
   "source": [
    "####  <span style = \"color:red\">Código Original.</span>\n",
    "<!---\n",
    "feature_names = tfidf.get_feature_names()\n",
    "-->"
   ]
  },
  {
   "cell_type": "markdown",
   "metadata": {},
   "source": [
    "#### Para termos apenas aqueles índices cujos elementos são diferentes de zero, usamos a função [`.nonzero()`](https://numpy.org/doc/1.18/reference/generated/numpy.nonzero.html). Crie um `loop for` para "
   ]
  },
  {
   "cell_type": "code",
   "execution_count": 53,
   "metadata": {},
   "outputs": [
    {
     "name": "stdout",
     "output_type": "stream",
     "text": [
      "dados  -  0.4736296010332684\n",
      "de  -  0.6227660078332259\n",
      "cientista  -  0.6227660078332259\n",
      "estruturados  -  0.0\n",
      "dados  -  0.4736296010332684\n",
      "científico  -  0.0\n",
      "pensamento  -  0.0\n"
     ]
    }
   ],
   "source": [
    "for col in response.nonzero()[1]:\n",
    "    print (feature_names[col], ' - ', response[0, col])"
   ]
  },
  {
   "cell_type": "markdown",
   "metadata": {},
   "source": [
    "####  <span style = \"color:red\">Código Original.</span>\n",
    "<!---\n",
    "for col in response.nonzero()[1]:\n",
    "    print (feature_names[col], ' - ', response[0, col])\n",
    "-->"
   ]
  },
  {
   "cell_type": "markdown",
   "metadata": {
    "colab_type": "text",
    "id": "SzhgbXXysgm5"
   },
   "source": [
    "## Features derivadas"
   ]
  },
  {
   "cell_type": "markdown",
   "metadata": {
    "colab_type": "text",
    "id": "vFaikzSHsgm7"
   },
   "source": [
    "#### Vamos criar dois arranjos `x = [1, 2, 3, 4, 5]` e `y = [4, 2, 1, 3, 7]` de numpay com o auxílio da função [`np.array()`](https://numpy.org/doc/stable/reference/generated/numpy.array.html) e plotar a dispesão entre eles com a função [`plt.scatter()`](https://matplotlib.org/api/_as_gen/matplotlib.pyplot.scatter.html)."
   ]
  },
  {
   "cell_type": "code",
   "execution_count": 54,
   "metadata": {},
   "outputs": [
    {
     "data": {
      "image/png": "[encoded data removed]",
      "text/plain": [
       "<Figure size 432x288 with 1 Axes>"
      ]
     },
     "metadata": {
      "needs_background": "light"
     },
     "output_type": "display_data"
    }
   ],
   "source": [
    "%matplotlib inline\n",
    "import numpy as np\n",
    "import matplotlib.pyplot as plt\n",
    "\n",
    "x = np.array([1, 2, 3, 4, 5])\n",
    "y = np.array([4, 2, 1, 3, 7])\n",
    "plt.scatter(x, y);"
   ]
  },
  {
   "cell_type": "markdown",
   "metadata": {
    "colab": {
     "base_uri": "https://localhost:8080/",
     "height": 269
    },
    "colab_type": "code",
    "executionInfo": {
     "elapsed": 3596,
     "status": "ok",
     "timestamp": 1568853379208,
     "user": {
      "displayName": "Julián Ansaldo",
      "photoUrl": "https://lh3.googleusercontent.com/a-/AAuE7mCQI0iy6sTR9TfuLMfXZ90XCqxfdAQtMEcBkjfs1w=s64",
      "userId": "10643095115217147090"
     },
     "user_tz": 180
    },
    "id": "bTBZkR3Gsgm9",
    "outputId": "86aabfac-8da3-4ea1-ebb6-e21803002012"
   },
   "source": [
    "####  <span style = \"color:red\">Código Original.</span>\n",
    "<!---\n",
    "%matplotlib inline\n",
    "import numpy as np\n",
    "import matplotlib.pyplot as plt\n",
    "\n",
    "x = np.array([1, 2, 3, 4, 5])\n",
    "y = np.array([4, 2, 1, 3, 7])\n",
    "plt.scatter(x, y);\n",
    "-->"
   ]
  },
  {
   "cell_type": "markdown",
   "metadata": {
    "colab_type": "text",
    "id": "CbqRzzvNsgnD"
   },
   "source": [
    "#### Podemos adotar a classe de funções [`sklearn.linear_model.LinearRegression`](https://scikit-learn.org/stable/modules/generated/sklearn.linear_model.LinearRegression.html) e tentar descrever os pontos acima com uma o auxílio das funções [`LinearRegression()`](https://scikit-learn.org/stable/modules/generated/sklearn.linear_model.LinearRegression.html) para a regressão linear e [`.fit()`](https://scikit-learn.org/stable/modules/generated/sklearn.linear_model.LinearRegression.html#sklearn.linear_model.LinearRegression.fit) para o ajuste linear do modelo. Observe os resultados."
   ]
  },
  {
   "cell_type": "code",
   "execution_count": 55,
   "metadata": {},
   "outputs": [
    {
     "data": {
      "image/png": "[encoded data removed]",
      "text/plain": [
       "<Figure size 432x288 with 1 Axes>"
      ]
     },
     "metadata": {
      "needs_background": "light"
     },
     "output_type": "display_data"
    }
   ],
   "source": [
    "from sklearn.linear_model import LinearRegression\n",
    "X = x[:, np.newaxis]\n",
    "model = LinearRegression().fit(X, y)\n",
    "yfit = model.predict(X)\n",
    "plt.scatter(x, y)\n",
    "plt.plot(x, yfit);"
   ]
  },
  {
   "cell_type": "markdown",
   "metadata": {
    "colab": {
     "base_uri": "https://localhost:8080/",
     "height": 269
    },
    "colab_type": "code",
    "executionInfo": {
     "elapsed": 3589,
     "status": "ok",
     "timestamp": 1568853379210,
     "user": {
      "displayName": "Julián Ansaldo",
      "photoUrl": "https://lh3.googleusercontent.com/a-/AAuE7mCQI0iy6sTR9TfuLMfXZ90XCqxfdAQtMEcBkjfs1w=s64",
      "userId": "10643095115217147090"
     },
     "user_tz": 180
    },
    "id": "zOrTLBCZsgnH",
    "outputId": "55cf3dcd-ab95-4801-8be0-fcaead52af2b"
   },
   "source": [
    "####  <span style = \"color:red\">Código Original.</span>\n",
    "<!---\n",
    "from sklearn.linear_model import LinearRegression\n",
    "X = x[:, np.newaxis]\n",
    "model = LinearRegression().fit(X, y)\n",
    "yfit = model.predict(X)\n",
    "plt.scatter(x, y)\n",
    "plt.plot(x, yfit);\n",
    "-->"
   ]
  },
  {
   "cell_type": "markdown",
   "metadata": {
    "colab_type": "text",
    "id": "INFgeO2fsgnR"
   },
   "source": [
    "#### Para poder explicar corretamente esses dados, precisamos de um modelo mais sofisticado, que descreva a relação entre `x` e `y`.\n",
    "\n",
    "#### Uma aproximação é transformar os dados, agregando colunas extras de atributos para dar mais flexibilidade ao modelo. Por exemplo, podemos criar atributos polinômicos aos dados, usaremos aqui a classe de funções [`sklearn.preprocessing.PolynomialFeatures`](https://scikit-learn.org/stable/modules/generated/sklearn.preprocessing.PolynomialFeatures.html) e a função [`PolynomialFeatures()`](https://scikit-learn.org/stable/modules/generated/sklearn.preprocessing.PolynomialFeatures.html) para definir o número de graus que flexibilizarã nosso modelo. Vamos observar os parâmetros `degree = 3, include_bias = False` e fazer uso do método [`.fit_transform()`](https://scikit-learn.org/stable/modules/generated/sklearn.preprocessing.PolynomialFeatures.html#sklearn.preprocessing.PolynomialFeatures.fit_transform) para realizar e fit e a transformação nos dados."
   ]
  },
  {
   "cell_type": "code",
   "execution_count": 56,
   "metadata": {},
   "outputs": [
    {
     "name": "stdout",
     "output_type": "stream",
     "text": [
      "[[  1.   1.   1.]\n",
      " [  2.   4.   8.]\n",
      " [  3.   9.  27.]\n",
      " [  4.  16.  64.]\n",
      " [  5.  25. 125.]]\n"
     ]
    }
   ],
   "source": [
    "from sklearn.preprocessing import PolynomialFeatures\n",
    "poly = PolynomialFeatures(degree = 3, \n",
    "                          include_bias = False\n",
    "                         )\n",
    "X2 = poly.fit_transform(X)\n",
    "print(X2)"
   ]
  },
  {
   "cell_type": "markdown",
   "metadata": {},
   "source": [
    "####  <span style = \"color:red\">Código Original.</span>\n",
    "<!---\n",
    "from sklearn.preprocessing import PolynomialFeatures\n",
    "poly = PolynomialFeatures(degree = 3, include_bias = False)\n",
    "X2 = poly.fit_transform(X)\n",
    "print(X2)\n",
    "-->"
   ]
  },
  {
   "cell_type": "markdown",
   "metadata": {
    "colab_type": "text",
    "id": "B_QUmCR3sgnr"
   },
   "source": [
    "#### A matriz derivada de atributos tem uma coluna representando `x`, uma segunda coluna representando `x` ao quadrado $x**2$ e uma terceira coluna, representando `x` ao cubo `x**3`. Computar uma regressão linear base expandida nos dá um ajuste muito mais próximo aos dados.\n",
    "\n",
    "#### Vamos criar um [modelo](https://scikit-learn.org/stable/auto_examples/linear_model/plot_ols.html) a partir da aplicação da função [`LinearRegression()`](https://scikit-learn.org/stable/modules/generated/sklearn.linear_model.LinearRegression.html) a partir da classe [`sklearn.linear_model.LinearRegression`](https://scikit-learn.org/stable/modules/generated/sklearn.linear_model.LinearRegression.html#sklearn.linear_model.LinearRegression.fit).\n",
    "\n",
    "#### Vamos também aplicar a função [`.predict()`](https://scikit-learn.org/stable/modules/generated/sklearn.linear_model.LinearRegression.html#sklearn.linear_model.LinearRegression.predict) para realizar a prevsão dos pontos."
   ]
  },
  {
   "cell_type": "code",
   "execution_count": 63,
   "metadata": {},
   "outputs": [
    {
     "data": {
      "text/plain": [
       "<matplotlib.collections.PathCollection at 0x1aee7792130>"
      ]
     },
     "execution_count": 63,
     "metadata": {},
     "output_type": "execute_result"
    },
    {
     "data": {
      "image/png": "[encoded data removed]",
      "text/plain": [
       "<Figure size 432x288 with 1 Axes>"
      ]
     },
     "metadata": {
      "needs_background": "light"
     },
     "output_type": "display_data"
    }
   ],
   "source": [
    "plt.scatter(x**3, y/100)"
   ]
  },
  {
   "cell_type": "code",
   "execution_count": 81,
   "metadata": {},
   "outputs": [],
   "source": [
    "b = [1, 492, 4, 5, 6]\n",
    "c= pd.array(b)"
   ]
  },
  {
   "cell_type": "code",
   "execution_count": 82,
   "metadata": {},
   "outputs": [
    {
     "data": {
      "text/plain": [
       "array([1, 2, 3, 4, 5])"
      ]
     },
     "execution_count": 82,
     "metadata": {},
     "output_type": "execute_result"
    }
   ],
   "source": [
    "x"
   ]
  },
  {
   "cell_type": "code",
   "execution_count": 83,
   "metadata": {},
   "outputs": [
    {
     "data": {
      "text/plain": [
       "[<matplotlib.lines.Line2D at 0x1aee79f7c40>]"
      ]
     },
     "execution_count": 83,
     "metadata": {},
     "output_type": "execute_result"
    },
    {
     "data": {
      "image/png": "[encoded data removed]",
      "text/plain": [
       "<Figure size 432x288 with 1 Axes>"
      ]
     },
     "metadata": {
      "needs_background": "light"
     },
     "output_type": "display_data"
    }
   ],
   "source": [
    "plt.plot(x**4 + x**3, c/10)"
   ]
  },
  {
   "cell_type": "code",
   "execution_count": 57,
   "metadata": {},
   "outputs": [
    {
     "data": {
      "text/plain": [
       "[<matplotlib.lines.Line2D at 0x1aee76c2430>]"
      ]
     },
     "execution_count": 57,
     "metadata": {},
     "output_type": "execute_result"
    },
    {
     "data": {
      "image/png": "[encoded data removed]",
      "text/plain": [
       "<Figure size 432x288 with 1 Axes>"
      ]
     },
     "metadata": {
      "needs_background": "light"
     },
     "output_type": "display_data"
    }
   ],
   "source": [
    "model = LinearRegression().fit(X2, y)\n",
    "yfit = model.predict(X2)\n",
    "plt.scatter(x, y)\n",
    "plt.plot(x, yfit)"
   ]
  },
  {
   "cell_type": "code",
   "execution_count": 27,
   "metadata": {},
   "outputs": [
    {
     "data": {
      "image/png": "[encoded data removed]",
      "text/plain": [
       "<Figure size 432x288 with 1 Axes>"
      ]
     },
     "metadata": {
      "needs_background": "light"
     },
     "output_type": "display_data"
    }
   ],
   "source": [
    "model = LinearRegression().fit(X2, y)\n",
    "yfit = model.predict(X2)\n",
    "plt.scatter(x, y)\n",
    "plt.plot(x, yfit);"
   ]
  },
  {
   "cell_type": "markdown",
   "metadata": {
    "colab": {
     "base_uri": "https://localhost:8080/",
     "height": 269
    },
    "colab_type": "code",
    "executionInfo": {
     "elapsed": 3564,
     "status": "ok",
     "timestamp": 1568853379212,
     "user": {
      "displayName": "Julián Ansaldo",
      "photoUrl": "https://lh3.googleusercontent.com/a-/AAuE7mCQI0iy6sTR9TfuLMfXZ90XCqxfdAQtMEcBkjfs1w=s64",
      "userId": "10643095115217147090"
     },
     "user_tz": 180
    },
    "id": "vmzI4QIasgnt",
    "outputId": "c6014624-c0f9-4b7d-b5e1-67d92fb68d13"
   },
   "source": [
    "####  <span style = \"color:red\">Código Original.</span>\n",
    "<!---\n",
    "model = LinearRegression().fit(X2, y)\n",
    "yfit = model.predict(X2)\n",
    "plt.scatter(x, y)\n",
    "plt.plot(x, yfit);\n",
    "-->"
   ]
  },
  {
   "cell_type": "markdown",
   "metadata": {
    "colab_type": "text",
    "id": "KaHrMBq9sgny"
   },
   "source": [
    "#### A ideia é melhorar uma solução, não mudando o modelo, mas transformando os valores de entrada, isso é fundamental para muitos dos métodos mais poderosos de aprendizado de máquina."
   ]
  },
  {
   "cell_type": "markdown",
   "metadata": {
    "colab_type": "text",
    "id": "1CeEmpiwsgn2"
   },
   "source": [
    "## Trabalhando com dados faltantes."
   ]
  },
  {
   "cell_type": "markdown",
   "metadata": {
    "colab_type": "text",
    "id": "A2hMwhMQsgn5"
   },
   "source": [
    "#### Outra necessidade comum em feature engineering é o manejo de dados faltantes, Por exemplo, podeíamos ter um `dataset` como o mostrado a seguir.\n",
    "\n",
    "#### Vamos importar o pacote `nan` da biblioteca `numpy` e crie um arranjo  `X` de dimensões  `(5, 3)` e um arranjo `y` de dimensões `(1, 5)`."
   ]
  },
  {
   "cell_type": "code",
   "execution_count": 28,
   "metadata": {},
   "outputs": [
    {
     "name": "stdout",
     "output_type": "stream",
     "text": [
      "[[nan  0.  3.]\n",
      " [ 3.  7.  9.]\n",
      " [ 3.  5.  2.]\n",
      " [ 4. nan  6.]\n",
      " [ 8.  8.  1.]]\n",
      "[14 16 -1  8 -5]\n"
     ]
    }
   ],
   "source": [
    "from numpy import nan\n",
    "\n",
    "X = np.array([[ nan, 0,   3  ],\n",
    "              [ 3,   7,   9  ],\n",
    "              [ 3,   5,   2  ],\n",
    "              [ 4,   nan, 6  ],\n",
    "              [ 8,   8,   1  ]])\n",
    "\n",
    "y = np.array([14, 16, -1,  8, -5])\n",
    "print(X)\n",
    "print(y)"
   ]
  },
  {
   "cell_type": "markdown",
   "metadata": {
    "colab": {},
    "colab_type": "code",
    "id": "iepb7SQ0sgn6"
   },
   "source": [
    "####  <span style = \"color:red\">Código Original.</span>\n",
    "<!---\n",
    "from numpy import nan\n",
    "\n",
    "X = np.array([[ nan, 0,   3  ],\n",
    "              [ 3,   7,   9  ],\n",
    "              [ 3,   5,   2  ],\n",
    "              [ 4,   nan, 6  ],\n",
    "              [ 8,   8,   1  ]])\n",
    "\n",
    "y = np.array([14, 16, -1,  8, -5])\n",
    "print(X)\n",
    "print(y)\n",
    "-->"
   ]
  },
  {
   "cell_type": "markdown",
   "metadata": {
    "colab_type": "text",
    "id": "rrpRFKHmsgoA"
   },
   "source": [
    "#### Para aplicar um modelo de machine learning a esses dados, primeiro devemos substituir os dados faltantes com algum valor apropriado. Isto é conhecido como [\"imputação de dados faltantes\"](https://machinelearningmastery.com/statistical-imputation-for-missing-values-in-machine-learning/#:~:text=Most%20machine%20learning%20algorithms%20require,and%20column%20in%20a%20dataset.&text=As%20such%2C%20it%20is%20common,imputing%2C%20or%20missing%20data%20imputation.) e as estratégias vão desde a simples substituição pela média da coluna até métodos mais sofisticados.\n",
    "\n",
    "#### Como um exemplo simples de imputação de dados, vamos usar a média, o Scikit-Learn fornece a classe [`sklearn.impute.SimpleImputer`](https://scikit-learn.org/stable/modules/generated/sklearn.impute.SimpleImputer.html)\n",
    "\n",
    "#### Podemos criar um objeto para conter a estratégia de imputação de dados faltantes a ser aplicada no objeto `X`, criado na célula anterior. Use a função  [`SimpleImputer()`](https://scikit-learn.org/stable/modules/generated/sklearn.impute.SimpleImputer.html#examples-using-sklearn-impute-simpleimputer) para realizar a tarefa imputação para completar valores ausentes. observe o parâmetro de estratégia de imputação `strategy = 'mean'`.\n",
    "\n",
    "#### Aplique também o método [`.fit_transform()`](https://scikit-learn.org/stable/modules/generated/sklearn.preprocessing.PolynomialFeatures.html#sklearn.preprocessing.PolynomialFeatures.fit_transform) para realizar e fit e a transformação nos dados."
   ]
  },
  {
   "cell_type": "code",
   "execution_count": 29,
   "metadata": {},
   "outputs": [
    {
     "data": {
      "text/plain": [
       "array([[4.5, 0. , 3. ],\n",
       "       [3. , 7. , 9. ],\n",
       "       [3. , 5. , 2. ],\n",
       "       [4. , 5. , 6. ],\n",
       "       [8. , 8. , 1. ]])"
      ]
     },
     "execution_count": 29,
     "metadata": {},
     "output_type": "execute_result"
    }
   ],
   "source": [
    "from sklearn.impute import SimpleImputer\n",
    "imp = SimpleImputer(strategy = 'mean')\n",
    "X2 = imp.fit_transform(X)\n",
    "X2"
   ]
  },
  {
   "cell_type": "markdown",
   "metadata": {},
   "source": [
    "####  <span style = \"color:red\">Código Original.</span>\n",
    "<!---\n",
    "from sklearn.impute import SimpleImputer\n",
    "imp = SimpleImputer(strategy = 'mean')\n",
    "X2 = imp.fit_transform(X)\n",
    "X2\n",
    "-->"
   ]
  },
  {
   "cell_type": "markdown",
   "metadata": {
    "colab_type": "text",
    "id": "4mjuNcd6sgoM"
   },
   "source": [
    "## Pipelines."
   ]
  },
  {
   "cell_type": "markdown",
   "metadata": {
    "colab_type": "text",
    "id": "rfebOpPAsgoN"
   },
   "source": [
    "#### Se queremos criar uma seqüência de transformações, pode ser tedioso fazê-lo manualmente. Podemos querer criar uma seqüência como essa:\n",
    "\n",
    "1. Imputar valores perdidos usando a média.\n",
    "2. Transformar features para valores quadráticos.\n",
    "3. Ajustar uma regressão linear.\n",
    "\n",
    "#### Para organizar esse tipo de [`pipeline`](https://towardsdatascience.com/architecting-a-machine-learning-pipeline-a847f094d1c7) de procesamiento a biblioteca Scikit-Learn provê a classe de funções [`sklearn.pipeline.make_pipeline`](https://scikit-learn.org/stable/modules/generated/sklearn.pipeline.make_pipeline.html).\n",
    "\n",
    "#### Vamos usar a função [`make_pipeline`](https://scikit-learn.org/stable/modules/generated/sklearn.pipeline.make_pipeline.html) para construir um pipeline a partir dos estimadores fornecidos.\n",
    "\n",
    "#### Em um `pipeline` você pode arquitetar a execução das funções [`SimpleImputer()`](https://scikit-learn.org/stable/modules/generated/sklearn.impute.SimpleImputer.html#examples-using-sklearn-impute-simpleimputer), [`PolynomialFeatures()`](https://scikit-learn.org/stable/modules/generated/sklearn.preprocessing.PolynomialFeatures.html) e `LinearRegression()`, em seqüência."
   ]
  },
  {
   "cell_type": "code",
   "execution_count": 30,
   "metadata": {},
   "outputs": [],
   "source": [
    "from sklearn.pipeline import make_pipeline\n",
    "\n",
    "model = make_pipeline(SimpleImputer(strategy = 'mean'),\n",
    "                      PolynomialFeatures(degree = 2),\n",
    "                      LinearRegression()\n",
    "                     )"
   ]
  },
  {
   "cell_type": "markdown",
   "metadata": {
    "colab": {},
    "colab_type": "code",
    "id": "8t1qUm0VsgoP"
   },
   "source": [
    "####  <span style = \"color:red\">Código Original.</span>\n",
    "<!---\n",
    "from sklearn.pipeline import make_pipeline\n",
    "\n",
    "model = make_pipeline(SimpleImputer(strategy = 'mean'),\n",
    "                      PolynomialFeatures(degree = 2),\n",
    "                      LinearRegression()\n",
    "                     )\n",
    "-->"
   ]
  },
  {
   "cell_type": "markdown",
   "metadata": {
    "colab_type": "text",
    "id": "Vx9XHN7gsgoU"
   },
   "source": [
    "#### Esse `pipeline` se comporta como um objeto padrão de Scikit-Learn, e aplicará todos os passos especificados a qualquer dado de entrada.\n",
    "\n",
    "#### X contém valores faltantes e o primeiro passo do `pipeline` é imputar a média.\n",
    "\n",
    "#### Por fim você pode imprimir na tela os dados de `y` e o modelo previsto para  `X`, com o método   [`.predict()`](https://scikit-learn.org/stable/modules/generated/sklearn.linear_model.LinearRegression.html#sklearn.linear_model.LinearRegression.predict) para realizar a prevsão dos pontos."
   ]
  },
  {
   "cell_type": "code",
   "execution_count": 31,
   "metadata": {},
   "outputs": [
    {
     "name": "stdout",
     "output_type": "stream",
     "text": [
      "[14 16 -1  8 -5]\n",
      "[14. 16. -1.  8. -5.]\n"
     ]
    }
   ],
   "source": [
    "model.fit(X, y)  \n",
    "print(y)\n",
    "print(model.predict(X))"
   ]
  },
  {
   "cell_type": "markdown",
   "metadata": {
    "colab": {
     "base_uri": "https://localhost:8080/",
     "height": 51
    },
    "colab_type": "code",
    "executionInfo": {
     "elapsed": 4373,
     "status": "ok",
     "timestamp": 1568853380037,
     "user": {
      "displayName": "Julián Ansaldo",
      "photoUrl": "https://lh3.googleusercontent.com/a-/AAuE7mCQI0iy6sTR9TfuLMfXZ90XCqxfdAQtMEcBkjfs1w=s64",
      "userId": "10643095115217147090"
     },
     "user_tz": 180
    },
    "id": "CPGhJHv_sgoV",
    "outputId": "bef76bcd-fda5-48cf-82f5-3d38dbbe30b7"
   },
   "source": [
    "####  <span style = \"color:red\">Código Original.</span>\n",
    "<!---\n",
    "model.fit(X, y)  \n",
    "print(y)\n",
    "print(model.predict(X))\n",
    "-->\n"
   ]
  },
  {
   "cell_type": "markdown",
   "metadata": {
    "colab": {},
    "colab_type": "code",
    "id": "shvFccwdsgob"
   },
   "source": [
    "####  <span style = \"color:blue\">Código Original.</span>\n",
    "<!---\n",
    "[``]()\n",
    "-->\n"
   ]
  },
  {
   "cell_type": "code",
   "execution_count": null,
   "metadata": {},
   "outputs": [],
   "source": []
  }
 ],
 "metadata": {
  "colab": {
   "name": "1.PRACTICA_GUIADA - Feature Engineering.ipynb",
   "provenance": []
  },
  "kernelspec": {
   "display_name": "Python 3",
   "language": "python",
   "name": "python3"
  },
  "language_info": {
   "codemirror_mode": {
    "name": "ipython",
    "version": 3
   },
   "file_extension": ".py",
   "mimetype": "text/x-python",
   "name": "python",
   "nbconvert_exporter": "python",
   "pygments_lexer": "ipython3",
   "version": "3.8.5"
  }
 },
 "nbformat": 4,
 "nbformat_minor": 4
}
