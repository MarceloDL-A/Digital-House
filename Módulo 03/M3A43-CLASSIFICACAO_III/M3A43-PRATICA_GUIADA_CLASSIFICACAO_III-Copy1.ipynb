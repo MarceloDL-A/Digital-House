{
 "cells": [
  {
   "cell_type": "markdown",
   "metadata": {
    "colab_type": "text",
    "id": "8sMVCVSZh7jf"
   },
   "source": [
    "# PRÁTICA GUIADA: Naive Bayes"
   ]
  },
  {
   "cell_type": "markdown",
   "metadata": {},
   "source": [
    "## Introdução\n",
    "\n",
    "#### Nesta prática vamos implementar um classificador do tipo [Naive Bayes](https://machinelearningmastery.com/classification-as-conditional-probability-and-the-naive-bayes-algorithm/) usando a biblioteca [scikit-learn](https://scikit-learn.org/stable/modules/naive_bayes.html)."
   ]
  },
  {
   "cell_type": "markdown",
   "metadata": {
    "colab_type": "text",
    "id": "bpI8sXU_h7ji"
   },
   "source": [
    "#### Cada parâmetro de [Naive Bayes](https://towardsdatascience.com/naive-bayes-classifier-81d512f50a7c) representa a [probabilidade](https://www.investopedia.com/terms/b/bayes-theorem.asp) de pertencer a certa classe com determinado valor da `features` $X_{k}$.\n",
    "\n",
    "#### No caso da classificação de um texto, o que é medido é a [probabilidade](https://brilliant.org/wiki/bayes-theorem/) de o texto pertencer a determinada classe dependendo da aparição ou não de determinada palavra. O produto de todas essas probabilidades é a probabilidade final de pertencer à classe.  \n",
    "\n",
    "#### O que diferencia cada algoritmo de [Naive Bayes](https://towardsdatascience.com/all-about-naive-bayes-8e13cef044cf) é a [distribuição](https://inverseprobability.com/talks/notes/naive-bayes.html) adotada por eles para o processo de geração de cada uma das classes. Em sklearn temos:\n",
    "\n",
    "1. [Gaussian Naive Bayes](https://towardsdatascience.com/learning-by-implementing-gaussian-naive-bayes-3f0e3d2c01b2)\n",
    "2. [Multinomial Naive Bayes](https://medium.com/swlh/prediction-of-topics-using-multinomial-naive-bayes-classifier-2fb6f88e836f)\n",
    "3. [Bernoulli Naive Bayes](https://iq.opengenus.org/bernoulli-naive-bayes/)\n"
   ]
  },
  {
   "cell_type": "markdown",
   "metadata": {
    "colab_type": "text",
    "id": "Hm8hoQpQh7ji"
   },
   "source": [
    "## Gaussian Naive Bayes"
   ]
  },
  {
   "cell_type": "markdown",
   "metadata": {},
   "source": [
    "#### O primeiro passo para o estudo do método de classificação de [Naive Bayes]() é importar as bibliotecas necessárias:\n",
    "\n",
    "- A biblioteca [`numpy`](https://numpy.org/) para fazer a manipulação dos dados.\n",
    "- A biblioteca [`matplotlib.pyplot`](https://matplotlib.org/3.1.1/api/_as_gen/matplotlib.pyplot.html) para a exposição gráfica.\n",
    "- A biblioteca [`seaborn`](https://seaborn.pydata.org/) também  para a exposição gráfica.\n",
    "- A biblioteca [`sklearn.datasets.make_blobs`](https://scikit-learn.org/stable/datasets/index.html) para a obtenção de datasets.\n",
    "\n",
    "#### A função [`sns.set()`](https://seaborn.pydata.org/generated/seaborn.set.html) define os parâmetros estéticos em uma única etapa, em que cada conjunto de parâmetros pode ser definido direta ou temporariamente.\n",
    "\n",
    "#### A função [`make_blobs()`](https://scikit-learn.org/stable/modules/generated/sklearn.datasets.make_blobs.html) gera [`blobs`](https://techterms.com/definition/blob) Gaussianos isotrópicos para agrupamento. os parâmetro `centers`, `random_state` e `cluster_std` definem, respectivamente, o número de centros a serem gerados ou os locais fixos dos centros, a geração de números aleatórios para criação de conjuntos de dados e o desvio padrão dos `clusters`. O `blob` criado será instanciado nos objetos `X` e `y`.\n",
    " \n",
    "#### Geramos então classes com uma distribuição gaussiana. "
   ]
  },
  {
   "cell_type": "code",
   "execution_count": 453,
   "metadata": {
    "colab": {
     "autoexec": {
      "startup": false,
      "wait_interval": 0
     }
    },
    "colab_type": "code",
    "id": "B5GBnkxih7jk"
   },
   "outputs": [
    {
     "data": {
      "image/png": "[encoded data removed]",
      "text/plain": [
       "<Figure size 432x288 with 1 Axes>"
      ]
     },
     "metadata": {},
     "output_type": "display_data"
    }
   ],
   "source": [
    "%matplotlib inline\n",
    "import numpy as np\n",
    "import matplotlib.pyplot as plt\n",
    "import seaborn as sns; sns.set()\n",
    "from sklearn.datasets import make_blobs\n",
    "\n",
    "\n",
    "X, y = make_blobs(n_samples = 100, \n",
    "                  n_features = 2, \n",
    "                  centers = 2, \n",
    "                  random_state = 2, \n",
    "                  cluster_std = 1.5\n",
    "                 )\n",
    "#print(X)\n",
    "#print(y)\n",
    "plt.scatter(X[:, 0], \n",
    "            X[:, 1], \n",
    "            c = y, \n",
    "            s = 50, \n",
    "            cmap = 'RdBu'\n",
    "           );"
   ]
  },
  {
   "cell_type": "markdown",
   "metadata": {},
   "source": [
    "####  <span style = \"color:red\">Código Original.</span>\n",
    "<!---\n",
    "%matplotlib inline\n",
    "import numpy as np\n",
    "import matplotlib.pyplot as plt\n",
    "import seaborn as sns; sns.set()\n",
    "from sklearn.datasets import make_blobs\n",
    "\n",
    "\n",
    "X, y = make_blobs(100, \n",
    "                  2, \n",
    "                  centers = 2, \n",
    "                  random_state = 2, \n",
    "                  cluster_std = 1.5\n",
    "                 )\n",
    "plt.scatter(X[:, 0], \n",
    "            X[:, 1], \n",
    "            c = y, \n",
    "            s = 50, \n",
    "            cmap = 'RdBu'\n",
    "           );\n",
    "-->"
   ]
  },
  {
   "cell_type": "markdown",
   "metadata": {
    "colab_type": "text",
    "id": "uIGS3orah7jo"
   },
   "source": [
    "#### Vamos aplicar a este conjunto de dados um modelo do tipo Gaussian Naive Bayes: \n",
    "\n",
    "- Fazendo uso da biblioteca [`sklearn.naive_bayes.GaussianNB`](https://scikit-learn.org/stable/modules/generated/sklearn.naive_bayes.GaussianNB.html). \n",
    "\n",
    "- Vamos instanciar um objeto `model` que receberá a o modelo Gaussiano, representado pela função [`GaussianNB()`](https://scikit-learn.org/stable/modules/generated/sklearn.naive_bayes.GaussianNB.html), que depois deverá ajustar os pontos `X` e `y` com o auxílio do método [`.fit()`](https://scikit-learn.org/stable/modules/generated/sklearn.naive_bayes.GaussianNB.html#sklearn.naive_bayes.GaussianNB.fit)."
   ]
  },
  {
   "cell_type": "code",
   "execution_count": 454,
   "metadata": {
    "colab": {
     "autoexec": {
      "startup": false,
      "wait_interval": 0
     }
    },
    "colab_type": "code",
    "id": "5_O5Vzcyh7jp"
   },
   "outputs": [],
   "source": [
    "# Ajustamos o modelo com os dados gerados\n",
    "from sklearn.naive_bayes import GaussianNB\n",
    "\n",
    "model = GaussianNB()\n",
    "model.fit(X, y);"
   ]
  },
  {
   "cell_type": "markdown",
   "metadata": {},
   "source": [
    "####  <span style = \"color:red\">Código Original.</span>\n",
    "<!---\n",
    "# Ajustamos o modelo com os dados gerados\n",
    "from sklearn.naive_bayes import GaussianNB\n",
    "\n",
    "model = GaussianNB()\n",
    "model.fit(X, y);\n",
    "-->"
   ]
  },
  {
   "cell_type": "markdown",
   "metadata": {},
   "source": [
    "#### Queremos também gerar um espaço de pontos que abranja toda a área dos dados originais, para isso vamos popular nossa dispersão com pontos no intervalo inferior $[-6, -14]$ e $[14, 18]$ são os intervalos ocupados por cada uma das variáveis geradas. \n",
    "\n",
    "#### Vamos usar o método [`RandomState()`](https://docs.scipy.org/doc/numpy-1.13.0/reference/generated/numpy.random.RandomState.html) para alocar o gerador de números pseudo-aleatórios do tipo [Mersenne Twister](https://en.wikipedia.org/wiki/Mersenne_Twister) e aplicar as definições de forma dadas pelo método [`.rand`](https://docs.scipy.org/doc/numpy-1.15.1/reference/generated/numpy.random.rand.html) em um arranjo $2000 \\times 2$."
   ]
  },
  {
   "cell_type": "code",
   "execution_count": 455,
   "metadata": {
    "colab": {
     "autoexec": {
      "startup": false,
      "wait_interval": 0
     }
    },
    "colab_type": "code",
    "id": "gwjsPZYEh7jt"
   },
   "outputs": [],
   "source": [
    "rng = np.random.RandomState(0)\n",
    "X_new = [-6, -14] + [14, 18] * rng.rand(2000, 2)\n",
    "y_pred = model.predict(X_new)"
   ]
  },
  {
   "cell_type": "code",
   "execution_count": 456,
   "metadata": {},
   "outputs": [],
   "source": [
    "#print(X_new.max())\n",
    "#print(X_new.min())\n",
    "#print(X_new)\n",
    "#print(y_pred.max())\n",
    "#print(y_pred.min())"
   ]
  },
  {
   "cell_type": "markdown",
   "metadata": {},
   "source": [
    "####  <span style = \"color:red\">Código Original.</span>\n",
    "<!---\n",
    "# -6 e -14 são os limites inferiores dos dados gerados pela função make_blobs\n",
    "# 14 e 18 são os intervalos ocupados por cada uma das variáveis geradas\n",
    "# Queremos gerar um espaço de pontos que abranja toda a área dos dados originais.\n",
    "\n",
    "rng = np.random.RandomState(0)\n",
    "X_new = [-6, -14] + [14, 18] * rng.rand(2000, 2)\n",
    "y_pred = model.predict(X_new)\n",
    "-->"
   ]
  },
  {
   "cell_type": "markdown",
   "metadata": {
    "colab_type": "text",
    "id": "IDc7KD9-h7jw"
   },
   "source": [
    "#### Vamos usar a função [`.scatter()`](https://matplotlib.org/3.2.2/api/_as_gen/matplotlib.pyplot.scatter.html) para plotar a dispersão dos dados do [`blob`](https://en.wikipedia.org/wiki/Binary_large_object) gerados anteriormente, respeitando os parâmetros que representam:\n",
    "\n",
    "* `c`, uma lista ou arranjo (opcional) de cores a serem aplicados aos pontos.\n",
    "* `s`, o tamanho dos pontos\n",
    "* `cmap`, a definição para o mapa de cores aplicados.\n",
    "* `alpha`, a [mistura](https://en.wikipedia.org/wiki/Alpha_compositing#:~:text=Alpha%20blending%20is%20a%20convex,represents%20a%20fully%20opaque%20color) de cores para gerar níveis de opacidade dos pontos.\n",
    "\n",
    "#### Depois, vamos à classificação definida pelo modelo sobre todo o espaço de dados, descrito pelos $2000$ pontos gerados acima. "
   ]
  },
  {
   "cell_type": "code",
   "execution_count": 457,
   "metadata": {
    "colab": {
     "autoexec": {
      "startup": false,
      "wait_interval": 0
     }
    },
    "colab_type": "code",
    "id": "nfNOu04qh7jy"
   },
   "outputs": [
    {
     "data": {
      "image/png": "[encoded data removed]",
      "text/plain": [
       "<Figure size 432x288 with 1 Axes>"
      ]
     },
     "metadata": {},
     "output_type": "display_data"
    }
   ],
   "source": [
    "plt.scatter(X[:, 0], \n",
    "            X[:, 1], \n",
    "            c = y, \n",
    "            s = 50, \n",
    "            cmap = 'RdBu'\n",
    "           )\n",
    "lim = plt.axis()\n",
    "plt.scatter(X_new[:, 0], \n",
    "            X_new[:, 1], \n",
    "            c = y_pred, \n",
    "            s = 50, \n",
    "            cmap = 'RdBu', \n",
    "            alpha = 0.1\n",
    "           )\n",
    "plt.axis(lim);"
   ]
  },
  {
   "cell_type": "markdown",
   "metadata": {},
   "source": [
    "####  <span style = \"color:red\">Código Original.</span>\n",
    "<!---\n",
    "plt.scatter(X[:, 0], \n",
    "            X[:, 1], \n",
    "            c = y, \n",
    "            s = 50, \n",
    "            cmap = 'RdBu'\n",
    "           )\n",
    "lim = plt.axis()\n",
    "\n",
    "plt.scatter(X_new[:, 0], \n",
    "            X_new[:, 1], \n",
    "            c = y_pred, \n",
    "            s = 50, \n",
    "            cmap = 'RdBu', \n",
    "            alpha = 0.1\n",
    "           )\n",
    "plt.axis(lim);\n",
    "-->"
   ]
  },
  {
   "cell_type": "markdown",
   "metadata": {},
   "source": [
    "#### No gráfico anterior observa-se o [`decision boundary`](https://towardsdatascience.com/decision-boundary-visualization-a-z-6a63ae9cca7d) do modelo que surgiu da hipótese de uma distribuição gaussiana sobre cada uma das classes nos dados de treinamento."
   ]
  },
  {
   "cell_type": "markdown",
   "metadata": {},
   "source": [
    "### Cálculo de probabilidades\n",
    "\n",
    "#### Uma das vantagens deste modelo é que ele nos permite obter a probabilidade de pertencimento de um ponto a uma classe ou outra para cada ponto do domínio.\n",
    "\n",
    "#### Para isso aplicamos a função [`predict_proba()`](https://scikit-learn.org/stable/modules/generated/sklearn.naive_bayes.GaussianNB.html#sklearn.naive_bayes.GaussianNB.predict_proba), que retorna as estimativas de probabilidade de retorno para o vetor de teste `X`."
   ]
  },
  {
   "cell_type": "code",
   "execution_count": 458,
   "metadata": {},
   "outputs": [
    {
     "data": {
      "text/plain": [
       "array([[0.  , 1.  ],\n",
       "       [0.  , 1.  ],\n",
       "       [0.  , 1.  ],\n",
       "       ...,\n",
       "       [1.  , 0.  ],\n",
       "       [0.  , 1.  ],\n",
       "       [0.15, 0.85]])"
      ]
     },
     "execution_count": 458,
     "metadata": {},
     "output_type": "execute_result"
    }
   ],
   "source": [
    "yprob = model.predict_proba(X_new)\n",
    "#print(yprob)\n",
    "#yprob[-8:].round(2)\n",
    "yprob[:].round(2)"
   ]
  },
  {
   "cell_type": "markdown",
   "metadata": {},
   "source": [
    "##  <span style = \"color:blue\">Prática Independente.</span>"
   ]
  },
  {
   "cell_type": "markdown",
   "metadata": {},
   "source": [
    "#### Aplique a função `make_blobs()` e crie uma distribuição de `200` pontos, com `4` centros. "
   ]
  },
  {
   "cell_type": "code",
   "execution_count": 459,
   "metadata": {},
   "outputs": [
    {
     "data": {
      "image/png": "[encoded data removed]",
      "text/plain": [
       "<Figure size 432x288 with 1 Axes>"
      ]
     },
     "metadata": {},
     "output_type": "display_data"
    }
   ],
   "source": [
    "X1, y1 = make_blobs(n_samples = 200, \n",
    "                  n_features = 2, \n",
    "                  centers = 4, \n",
    "                  random_state = 2, \n",
    "                  cluster_std = 1.5\n",
    "                 )\n",
    "#print(X)\n",
    "#print(y)\n",
    "plt.scatter(X1[:, 0], \n",
    "            X1[:, 1], \n",
    "            c = y1, \n",
    "            s = 50, \n",
    "            cmap = 'RdBu'\n",
    "           );"
   ]
  },
  {
   "cell_type": "markdown",
   "metadata": {},
   "source": [
    "####  <span style = \"color:red\">Código Original.</span>\n",
    "<!---\n",
    "X_PI, y = make_blobs(200, \n",
    "                  2, \n",
    "                  centers = 4, \n",
    "                  random_state = 2, \n",
    "                  cluster_std = 1.5\n",
    "                 )\n",
    "#print(X)\n",
    "#print(y)\n",
    "plt.scatter(X_PI[:, 0], \n",
    "            X_PI[:, 1],\n",
    "            c = y, \n",
    "            s = 50, \n",
    "            cmap = 'RdBu'\n",
    "           );\n",
    "-->"
   ]
  },
  {
   "cell_type": "markdown",
   "metadata": {},
   "source": [
    "#### Instancie um objeto para receber um modelo de distribuição gaussiana para a classificação Naive Bayes e ajuste-o aos dados de treinamento."
   ]
  },
  {
   "cell_type": "code",
   "execution_count": 460,
   "metadata": {},
   "outputs": [],
   "source": [
    "# Ajustamos o modelo com os dados gerados\n",
    "from sklearn.naive_bayes import GaussianNB\n",
    "\n",
    "model = GaussianNB()\n",
    "model.fit(X1, y1);"
   ]
  },
  {
   "cell_type": "markdown",
   "metadata": {},
   "source": [
    "####  <span style = \"color:red\">Código Original.</span>\n",
    "<!---\n",
    "model = GaussianNB()\n",
    "model.fit(X_PI, y);\n",
    "-->"
   ]
  },
  {
   "cell_type": "markdown",
   "metadata": {},
   "source": [
    "#### Gere novos dados para popular sua distribuição criando regiões de limites de decisão para o modelo realizar classificações/previsões. "
   ]
  },
  {
   "cell_type": "code",
   "execution_count": 461,
   "metadata": {},
   "outputs": [],
   "source": [
    "rng1 = np.random.RandomState(0)\n",
    "X_new1 = [-6, -14] + [14, 18] * rng1.rand(2000, 2)\n",
    "y_pred1 = model.predict(X_new1)"
   ]
  },
  {
   "cell_type": "markdown",
   "metadata": {},
   "source": [
    "####  <span style = \"color:red\">Código Original.</span>\n",
    "<!---\n",
    "rng = np.random.RandomState(0)\n",
    "#X_new = [-6, -14] + [14, 18] * rng.rand(2000, 2)\n",
    "X_new_PI = [-12, -14] + [20, 22] * rng.rand(2000, 2)\n",
    "y_pred = model.predict(X_new_PI)\n",
    "-->"
   ]
  },
  {
   "cell_type": "markdown",
   "metadata": {},
   "source": [
    "#### Plot os dados iniciais a serem classificados, bem como aqueles criados com o intuito de gerar regiões de limites de decisão."
   ]
  },
  {
   "cell_type": "code",
   "execution_count": 462,
   "metadata": {},
   "outputs": [
    {
     "data": {
      "text/plain": [
       "array([ 1.68338905,  2.43868727, -0.06883281, ..., -4.32134532,\n",
       "        0.08823081,  7.05928655])"
      ]
     },
     "execution_count": 462,
     "metadata": {},
     "output_type": "execute_result"
    }
   ],
   "source": [
    "X_new1[:, 0]"
   ]
  },
  {
   "cell_type": "code",
   "execution_count": 463,
   "metadata": {},
   "outputs": [
    {
     "data": {
      "text/plain": [
       "array([-1.12659141, -4.19210271, -2.37390596, ..., -7.70649139,\n",
       "        0.94005305, -8.44990818])"
      ]
     },
     "execution_count": 463,
     "metadata": {},
     "output_type": "execute_result"
    }
   ],
   "source": [
    "X_new1[:, 1]"
   ]
  },
  {
   "cell_type": "code",
   "execution_count": 464,
   "metadata": {},
   "outputs": [
    {
     "data": {
      "image/png": "[encoded data removed]",
      "text/plain": [
       "<Figure size 432x288 with 1 Axes>"
      ]
     },
     "metadata": {},
     "output_type": "display_data"
    }
   ],
   "source": [
    "plt.scatter(X1[:, 0], \n",
    "            X1[:, 1], \n",
    "            c = y1, \n",
    "            s = 50, \n",
    "            cmap = 'RdBu'\n",
    "           )\n",
    "lim = plt.axis()\n",
    "plt.scatter(X_new1[:, 0], \n",
    "            X_new1[:, 1], \n",
    "            c = y_pred1, \n",
    "            s = 100, \n",
    "            cmap = 'RdBu', \n",
    "            alpha = 0.2\n",
    "           )\n",
    "plt.axis(lim);"
   ]
  },
  {
   "cell_type": "markdown",
   "metadata": {},
   "source": [
    "####  <span style = \"color:red\">Código Original.</span>\n",
    "<!---\n",
    "plt.scatter(X_PI[:, 0], \n",
    "            X_PI[:, 1], \n",
    "            c = y, \n",
    "            s = 50, \n",
    "            cmap = 'RdBu'\n",
    "           )\n",
    "lim = plt.axis()\n",
    "\n",
    "plt.scatter(X_new_PI[:, 0], \n",
    "            X_new_PI[:, 1], \n",
    "            c = y_pred, \n",
    "            s = 50, \n",
    "            cmap = 'RdBu', \n",
    "            alpha = 0.1\n",
    "           )\n",
    "plt.axis(lim);\n",
    "-->"
   ]
  },
  {
   "cell_type": "markdown",
   "metadata": {},
   "source": [
    "#### Por fim, calcule as estimativas de probabilidade de retorno para o vetor de teste `X`."
   ]
  },
  {
   "cell_type": "code",
   "execution_count": 465,
   "metadata": {},
   "outputs": [
    {
     "data": {
      "text/plain": [
       "array([[0.  , 0.99, 0.01, 0.  ],\n",
       "       [0.  , 0.91, 0.09, 0.  ],\n",
       "       [0.  , 0.62, 0.38, 0.  ],\n",
       "       ...,\n",
       "       [0.97, 0.  , 0.03, 0.  ],\n",
       "       [0.  , 0.99, 0.01, 0.  ],\n",
       "       [0.55, 0.45, 0.  , 0.  ]])"
      ]
     },
     "execution_count": 465,
     "metadata": {},
     "output_type": "execute_result"
    }
   ],
   "source": [
    "yprob1 = model.predict_proba(X_new1)\n",
    "#print(yprob)\n",
    "#yprob[-8:].round(2)\n",
    "yprob1[:].round(2)"
   ]
  },
  {
   "cell_type": "markdown",
   "metadata": {},
   "source": [
    "####  <span style = \"color:red\">Código Original.</span>\n",
    "<!---\n",
    "yprob = model.predict_proba(X_new_PI)\n",
    "#print(yprob)\n",
    "#yprob[-8:].round(2)\n",
    "yprob[:].round(2)\n",
    "-->"
   ]
  },
  {
   "cell_type": "markdown",
   "metadata": {
    "colab_type": "text",
    "id": "BeVaKqcxh7j6"
   },
   "source": [
    "## Classificação de texto.\n",
    "\n",
    "#### Para o seguinte exemplo, vamos baixar o conjunto de dados [`20newsgroup`](http://qwone.com/~jason/20Newsgroups/), que contém e-mails com pedidos de informações a diferentes empresas de mídia digital sobre diferentes assuntos."
   ]
  },
  {
   "cell_type": "markdown",
   "metadata": {},
   "source": [
    "### Acessando os dados.\n",
    "\n",
    "\n",
    "#### Pra trabalhar com os dados de avaliação vamos:\n",
    "\n",
    "- Importar a biblioteca [`sklearn.datasets.fetch_20newsgroups`](https://scikit-learn.org/stable/modules/generated/sklearn.datasets.fetch_20newsgroups.html) com os nomes de arquivos e dados do conjunto de dados de 20 grupos de notícias (classificação).\n",
    "\n",
    "\n",
    "- Vamos também aplicar a função [`fetch_20newsgroups()`](https://scikit-learn.org/stable/modules/generated/sklearn.datasets.fetch_20newsgroups.html#sklearn-datasets-fetch-20newsgroups) que carrega as informações em um objeto `meus_dados` do tipo [`Bunch`](https://scikit-learn.org/stable/modules/generated/sklearn.utils.Bunch.html#sklearn.utils.Bunch). O objeto `bunch` é um objeto Container que expõe chaves como atributos. Estendem o conceito de dicionário permitindo que os valores sejam acessados por sua chave, `bunch[\"value_key\"]`, ou por um atributo `bunch.value_key`."
   ]
  },
  {
   "cell_type": "code",
   "execution_count": 466,
   "metadata": {
    "colab": {
     "autoexec": {
      "startup": false,
      "wait_interval": 0
     }
    },
    "colab_type": "code",
    "id": "xuLRr0Kgh7j7"
   },
   "outputs": [
    {
     "data": {
      "text/plain": [
       "sklearn.utils.Bunch"
      ]
     },
     "execution_count": 466,
     "metadata": {},
     "output_type": "execute_result"
    }
   ],
   "source": [
    "from sklearn.datasets import fetch_20newsgroups\n",
    "\n",
    "meus_dados = fetch_20newsgroups()\n",
    "type(meus_dados)"
   ]
  },
  {
   "cell_type": "markdown",
   "metadata": {},
   "source": [
    "####  <span style = \"color:red\">Código Original.</span>\n",
    "<!---\n",
    "from sklearn.datasets import fetch_20newsgroups\n",
    "\n",
    "meus_dados = fetch_20newsgroups()\n",
    "type(meus_dados)\n",
    "-->"
   ]
  },
  {
   "cell_type": "markdown",
   "metadata": {},
   "source": [
    "#### Podemos acessar as chaves de nosso objeto `meus_dados`."
   ]
  },
  {
   "cell_type": "code",
   "execution_count": 467,
   "metadata": {
    "colab": {
     "autoexec": {
      "startup": false,
      "wait_interval": 0
     }
    },
    "colab_type": "code",
    "id": "QKbaQG61h7j-"
   },
   "outputs": [
    {
     "data": {
      "text/plain": [
       "dict_keys(['data', 'filenames', 'target_names', 'target', 'DESCR'])"
      ]
     },
     "execution_count": 467,
     "metadata": {},
     "output_type": "execute_result"
    }
   ],
   "source": [
    "# Exploramos o objeto e vemos que o dataframe não tem nomes de colunas\n",
    "meus_dados.keys()"
   ]
  },
  {
   "cell_type": "markdown",
   "metadata": {},
   "source": [
    "####  <span style = \"color:red\">Código Original.</span>\n",
    "<!---\n",
    "meus_dados.keys()\n",
    "-->"
   ]
  },
  {
   "cell_type": "markdown",
   "metadata": {},
   "source": [
    "#### Podemos checar o comprimento de cada um dos elementos do objeto `bunch`."
   ]
  },
  {
   "cell_type": "code",
   "execution_count": 468,
   "metadata": {},
   "outputs": [
    {
     "data": {
      "text/plain": [
       "11314"
      ]
     },
     "execution_count": 468,
     "metadata": {},
     "output_type": "execute_result"
    }
   ],
   "source": [
    "len(meus_dados.data)\n",
    "#len(meus_dados.filenames)\n",
    "#len(meus_dados.target_names)\n",
    "#len(meus_dados.target)\n",
    "#len(meus_dados.DESCR)"
   ]
  },
  {
   "cell_type": "markdown",
   "metadata": {},
   "source": [
    "#### É importante observar a composição do objeto `meus_dados`, o objeto em questão é composto por listas em que cada elemento da mesma é uma seqüência de `strings`."
   ]
  },
  {
   "cell_type": "code",
   "execution_count": 469,
   "metadata": {
    "colab": {
     "autoexec": {
      "startup": false,
      "wait_interval": 0
     }
    },
    "colab_type": "code",
    "id": "2tc4vAJvh7kE"
   },
   "outputs": [
    {
     "name": "stdout",
     "output_type": "stream",
     "text": [
      "<class 'list'> O corpus de textos é uma lista\n",
      "<class 'str'> Cada item da lista é uma sequência\n"
     ]
    }
   ],
   "source": [
    "print(type(meus_dados.data),'O corpus de textos é uma lista')\n",
    "print(type(meus_dados.data[0]),'Cada item da lista é uma sequência')"
   ]
  },
  {
   "cell_type": "markdown",
   "metadata": {},
   "source": [
    "####  <span style = \"color:red\">Código Original.</span>\n",
    "<!---\n",
    "print(type(meus_dados.data),'O corpus de textos é uma lista')\n",
    "print(type(meus_dados.data[0]),'Cada item da lista é uma sequência')\n",
    "-->"
   ]
  },
  {
   "cell_type": "markdown",
   "metadata": {},
   "source": [
    "#### Vamos acessar o corpus de texto e outros elementos da posição [0], vejamos:"
   ]
  },
  {
   "cell_type": "code",
   "execution_count": 470,
   "metadata": {
    "colab": {
     "autoexec": {
      "startup": false,
      "wait_interval": 0
     }
    },
    "colab_type": "code",
    "id": "EDoJ8MNrh7kG"
   },
   "outputs": [
    {
     "name": "stdout",
     "output_type": "stream",
     "text": [
      "From: lerxst@wam.umd.edu (where's my thing)\n",
      "Subject: WHAT car is this!?\n",
      "Nntp-Posting-Host: rac3.wam.umd.edu\n",
      "Organization: University of Maryland, College Park\n",
      "Lines: 15\n",
      "\n",
      " I was wondering if anyone out there could enlighten me on this car I saw\n",
      "the other day. It was a 2-door sports car, looked to be from the late 60s/\n",
      "early 70s. It was called a Bricklin. The doors were really small. In addition,\n",
      "the front bumper was separate from the rest of the body. This is \n",
      "all I know. If anyone can tellme a model name, engine specs, years\n",
      "of production, where this car is made, history, or whatever info you\n",
      "have on this funky looking car, please e-mail.\n",
      "\n",
      "Thanks,\n",
      "- IL\n",
      "   ---- brought to you by your neighborhood Lerxst ----\n",
      "\n",
      "\n",
      "\n",
      "\n",
      "\n"
     ]
    }
   ],
   "source": [
    "print(meus_dados.data[0])\n",
    "#print(meus_dados.filenames[0])\n",
    "#print(meus_dados.target_names[0])\n",
    "#print(meus_dados.target[0])\n",
    "#print(meus_dados.DESCR[0])"
   ]
  },
  {
   "cell_type": "markdown",
   "metadata": {},
   "source": [
    "####  <span style = \"color:red\">Código Original.</span>\n",
    "<!---\n",
    "# Vejamos o primeiro texto do corpus\n",
    "print(meus_dados.data[0])\n",
    "-->"
   ]
  },
  {
   "cell_type": "markdown",
   "metadata": {},
   "source": [
    "#### Vejamos agora em quais classes os dados são divididos."
   ]
  },
  {
   "cell_type": "code",
   "execution_count": 471,
   "metadata": {
    "colab": {
     "autoexec": {
      "startup": false,
      "wait_interval": 0
     }
    },
    "colab_type": "code",
    "id": "BnOfNlfih7kK"
   },
   "outputs": [
    {
     "data": {
      "text/plain": [
       "['alt.atheism',\n",
       " 'comp.graphics',\n",
       " 'comp.os.ms-windows.misc',\n",
       " 'comp.sys.ibm.pc.hardware',\n",
       " 'comp.sys.mac.hardware',\n",
       " 'comp.windows.x',\n",
       " 'misc.forsale',\n",
       " 'rec.autos',\n",
       " 'rec.motorcycles',\n",
       " 'rec.sport.baseball',\n",
       " 'rec.sport.hockey',\n",
       " 'sci.crypt',\n",
       " 'sci.electronics',\n",
       " 'sci.med',\n",
       " 'sci.space',\n",
       " 'soc.religion.christian',\n",
       " 'talk.politics.guns',\n",
       " 'talk.politics.mideast',\n",
       " 'talk.politics.misc',\n",
       " 'talk.religion.misc']"
      ]
     },
     "execution_count": 471,
     "metadata": {},
     "output_type": "execute_result"
    }
   ],
   "source": [
    "meus_dados['target_names']"
   ]
  },
  {
   "cell_type": "markdown",
   "metadata": {},
   "source": [
    "####  <span style = \"color:red\">Código Original.</span>\n",
    "<!---\n",
    "meus_dados.target_names\n",
    "-->"
   ]
  },
  {
   "cell_type": "markdown",
   "metadata": {
    "colab_type": "text",
    "id": "ZFpTSUfdh7kN"
   },
   "source": [
    "### `Split train-test` e simplificação do `dataframe`.\n",
    "\n",
    "#### Para facilitar o problema de classificação, vamos ficar só com algumas das categorias que contêm os dados. Os objetos do tipo `bunch` permitem essa separação pode meio da aplicação dos parâmetros: \n",
    "\n",
    "- `subset`: que seleciona o conjunto de dados a ser carregado: `train` para o conjunto de treinamento, `test` para o conjunto de testes ou `all` para ambos, com a ordem aleatória. \n",
    "\n",
    "- `categories`: que carrega todas as categorias (None) por padrão ou uma lista de nomes de categorias. "
   ]
  },
  {
   "cell_type": "code",
   "execution_count": 472,
   "metadata": {
    "colab": {
     "autoexec": {
      "startup": false,
      "wait_interval": 0
     }
    },
    "colab_type": "code",
    "id": "gHlmH4uih7kP"
   },
   "outputs": [],
   "source": [
    "categories = ['talk.religion.misc', \n",
    "              'soc.religion.christian', \n",
    "              'sci.space', \n",
    "              'comp.graphics'\n",
    "             ]\n",
    "\n",
    "train = fetch_20newsgroups(subset = 'train', \n",
    "                           categories = categories\n",
    "                          )\n",
    "\n",
    "test = fetch_20newsgroups(subset = 'test', \n",
    "                          categories = categories\n",
    "                         )"
   ]
  },
  {
   "cell_type": "markdown",
   "metadata": {},
   "source": [
    "####  <span style = \"color:red\">Código Original.</span>\n",
    "<!---\n",
    "categories = ['talk.religion.misc', \n",
    "              'soc.religion.christian', \n",
    "              'sci.space', \n",
    "              'comp.graphics'\n",
    "             ]\n",
    "\n",
    "train = fetch_20newsgroups(subset = 'train', \n",
    "                           categories = categories\n",
    "                          )\n",
    "test = fetch_20newsgroups(subset = 'test', \n",
    "                          categories = categories\n",
    "                         )\n",
    "-->"
   ]
  },
  {
   "cell_type": "markdown",
   "metadata": {},
   "source": [
    "#### Podemos conferir o comprimento de ambos os vetores."
   ]
  },
  {
   "cell_type": "code",
   "execution_count": 473,
   "metadata": {
    "colab": {
     "autoexec": {
      "startup": false,
      "wait_interval": 0
     }
    },
    "colab_type": "code",
    "id": "bVsG3Tm1h7kR"
   },
   "outputs": [
    {
     "name": "stdout",
     "output_type": "stream",
     "text": [
      "Train Length: 2153\n",
      "Test Length: 1432\n"
     ]
    }
   ],
   "source": [
    "print('Train Length:', len(train.data))\n",
    "print('Test Length:', len(test.data))"
   ]
  },
  {
   "cell_type": "markdown",
   "metadata": {},
   "source": [
    "####  <span style = \"color:red\">Código Original.</span>\n",
    "<!---\n",
    "print('Train Length:', len(train.data))\n",
    "print('Test Length:', len(test.data))\n",
    "-->"
   ]
  },
  {
   "cell_type": "markdown",
   "metadata": {
    "colab_type": "text",
    "id": "IAYwOOuXh7kY"
   },
   "source": [
    "### Feature Engineering.\n",
    "\n",
    "#### Para poder implementar um modelo de previsão, precisamos transformar cada um dos documentos de texto pertencentes ao `corpus` em uma matriz de features.\n",
    "\n",
    "#### Para isso, vamos importar a biblioteca [`sklearn.feature_extraction.text.TfidfVectorizer`](https://scikit-learn.org/stable/modules/generated/sklearn.feature_extraction.text.TfidfVectorizer.html) e aplicar a função [`TfidfVectorizer()`](https://scikit-learn.org/stable/modules/generated/sklearn.feature_extraction.text.TfidfVectorizer.html). \n",
    "\n",
    "#### Ela tenta vetorizar um `corpus` de textos contando a ocorrência de cada palavra em cada documento. Primeiro, procuram-se todas as palavras existentes no corpus, e depois é computada a quantidade de aparições em cada documento. Esse processo é denominado [word count](https://kavita-ganesan.com/tfidftransformer-tfidfvectorizer-usage-differences/).\n",
    "\n",
    "#### O problema dessa abordagem é a existência de palavras que aparecem com muita frequência em um texto, mas contribuem com pouco valor para a classificação: projeta-se que palavras como “a”, “o” ou “do” apareçam muitas vezes em todos os documentos. \n",
    "\n",
    "#### O que o `TfidfVectorizer()` faz é calcular a frequência de aparição de um termo em um documento ponderada segundo a aparição no restante do `corpus` a fim dar mais peso aos termos que diferenciam cada documento dos outros.\n",
    "\n",
    "#### Você pode estudar os processos de [extração](http://scikit-learn.org/stable/modules/feature_extraction.html#text-feature-extraction) e [implementacão](http://scikit-learn.org/stable/modules/generated/sklearn.feature_extraction.text.TfidfVectorizer.html)."
   ]
  },
  {
   "cell_type": "code",
   "execution_count": 474,
   "metadata": {
    "colab": {
     "autoexec": {
      "startup": false,
      "wait_interval": 0
     }
    },
    "colab_type": "code",
    "id": "PmobS6RRh7kZ"
   },
   "outputs": [],
   "source": [
    "# Geramos o modelo e o aplicamos aos dados de treinamento\n",
    "\n",
    "from sklearn.feature_extraction.text import TfidfVectorizer\n",
    "\n",
    "modelo_tfidf = TfidfVectorizer()\n",
    "\n",
    "X_train = modelo_tfidf.fit_transform(train.data)"
   ]
  },
  {
   "cell_type": "markdown",
   "metadata": {},
   "source": [
    "####  <span style = \"color:red\">Código Original.</span>\n",
    "<!---\n",
    "# Geramos o modelo e o aplicamos aos dados de treinamento\n",
    "\n",
    "from sklearn.feature_extraction.text import TfidfVectorizer\n",
    "\n",
    "modelo_tfidf = TfidfVectorizer()\n",
    "\n",
    "X_train = modelo_tfidf.fit_transform(train.data)\n",
    "-->"
   ]
  },
  {
   "cell_type": "markdown",
   "metadata": {},
   "source": [
    "#### Podemos avaliar a forma dos dados de treino após a aplicação do método de ajuste e transformação `fit_transform`  aplicados aos dados."
   ]
  },
  {
   "cell_type": "code",
   "execution_count": 475,
   "metadata": {
    "colab": {
     "autoexec": {
      "startup": false,
      "wait_interval": 0
     }
    },
    "colab_type": "code",
    "id": "9yV2d5oZh7ke"
   },
   "outputs": [
    {
     "name": "stdout",
     "output_type": "stream",
     "text": [
      "(2153, 35329)\n"
     ]
    }
   ],
   "source": [
    "# Vejamos a transformação feita sobre os dados\n",
    "print(X_train.shape)"
   ]
  },
  {
   "cell_type": "markdown",
   "metadata": {},
   "source": [
    "####  <span style = \"color:red\">Código Original.</span>\n",
    "<!---\n",
    "# Vejamos a transformação feita sobre os dados\n",
    "print(len(train.data))\n",
    "print(X_train.shape)\n",
    "-->"
   ]
  },
  {
   "cell_type": "markdown",
   "metadata": {},
   "source": [
    "#### Note que `X_train` é um objeto do tipo [`scipy.sparse.csr_matrix`](https://docs.scipy.org/doc/scipy/reference/generated/scipy.sparse.csr_matrix.html), uma matriz de linha esparsa comprimida."
   ]
  },
  {
   "cell_type": "code",
   "execution_count": 476,
   "metadata": {
    "colab": {
     "autoexec": {
      "startup": false,
      "wait_interval": 0
     }
    },
    "colab_type": "code",
    "id": "q3b0hymIh7kh"
   },
   "outputs": [
    {
     "data": {
      "text/plain": [
       "scipy.sparse.csr.csr_matrix"
      ]
     },
     "execution_count": 476,
     "metadata": {},
     "output_type": "execute_result"
    }
   ],
   "source": [
    "type(X_train)"
   ]
  },
  {
   "cell_type": "code",
   "execution_count": 477,
   "metadata": {},
   "outputs": [
    {
     "data": {
      "text/plain": [
       "<2153x35329 sparse matrix of type '<class 'numpy.float64'>'\n",
       "\twith 352179 stored elements in Compressed Sparse Row format>"
      ]
     },
     "execution_count": 477,
     "metadata": {},
     "output_type": "execute_result"
    }
   ],
   "source": [
    "X_train"
   ]
  },
  {
   "cell_type": "markdown",
   "metadata": {},
   "source": [
    "####  <span style = \"color:red\">Código Original.</span>\n",
    "<!---\n",
    "# Vejamos que tipo de dados X contém\n",
    "type(X_train)\n",
    "-->"
   ]
  },
  {
   "cell_type": "markdown",
   "metadata": {},
   "source": [
    "#### Uma matriz dispersa conserva unicamente os valores diferentes de `0`, o atributo [`.size`](https://numpy.org/doc/stable/reference/generated/numpy.ndarray.size.html) nos retorna o número de elementos. "
   ]
  },
  {
   "cell_type": "code",
   "execution_count": 478,
   "metadata": {
    "colab": {
     "autoexec": {
      "startup": false,
      "wait_interval": 0
     }
    },
    "colab_type": "code",
    "id": "ZWcmDG1Gh7kk"
   },
   "outputs": [
    {
     "data": {
      "text/plain": [
       "352179"
      ]
     },
     "execution_count": 478,
     "metadata": {},
     "output_type": "execute_result"
    }
   ],
   "source": [
    "X_train.size"
   ]
  },
  {
   "cell_type": "markdown",
   "metadata": {},
   "source": [
    "####  <span style = \"color:red\">Código Original.</span>\n",
    "<!---\n",
    "X_train.size\n",
    "-->"
   ]
  },
  {
   "cell_type": "markdown",
   "metadata": {},
   "source": [
    "#### A seguir vamos converter a matriz esparsa em um arranjo `numpy`, para coletar todos os elementos pertinentes. Observe a diferença de tamanho entre a matriz esparsa `X_train` e o arranjo `numpy`."
   ]
  },
  {
   "cell_type": "code",
   "execution_count": 479,
   "metadata": {
    "colab": {
     "autoexec": {
      "startup": false,
      "wait_interval": 0
     }
    },
    "colab_type": "code",
    "id": "RYnW3m_zh7kp"
   },
   "outputs": [
    {
     "data": {
      "text/plain": [
       "76063337"
      ]
     },
     "execution_count": 479,
     "metadata": {},
     "output_type": "execute_result"
    }
   ],
   "source": [
    "# Quando transformamos a matriz em array, a quantidade de elementos é multiplicada várias vezes\n",
    "#type(X_train.toarray())\n",
    "X_train.toarray().size"
   ]
  },
  {
   "cell_type": "markdown",
   "metadata": {},
   "source": [
    "####  <span style = \"color:red\">Código Original.</span>\n",
    "<!---\n",
    "# Quando transformamos a matriz em array, a quantidade de elementos é multiplicada várias vezes\n",
    "#type(X_train.toarray())\n",
    "X_train.toarray().size\n",
    "-->"
   ]
  },
  {
   "cell_type": "markdown",
   "metadata": {},
   "source": [
    "#### O método [`.get_feature_names()`](https://scikit-learn.org/stable/modules/generated/sklearn.feature_extraction.text.TfidfVectorizer.html#sklearn.feature_extraction.text.TfidfVectorizer.get_feature_names) realiza o mapeamento da matriz de índices inteiros de atributos para o nome dos atributos, retornando uma lista de nomes de atributos."
   ]
  },
  {
   "cell_type": "code",
   "execution_count": 480,
   "metadata": {
    "colab": {
     "autoexec": {
      "startup": false,
      "wait_interval": 0
     }
    },
    "colab_type": "code",
    "id": "DEmfwy8bh7ks",
    "scrolled": true
   },
   "outputs": [
    {
     "data": {
      "text/plain": [
       "['00',\n",
       " '000',\n",
       " '0000',\n",
       " '00000',\n",
       " '000000',\n",
       " '000005102000',\n",
       " '000021',\n",
       " '000062david42',\n",
       " '0000vec',\n",
       " '0001',\n",
       " '000100255pixel',\n",
       " '00041032',\n",
       " '0004136',\n",
       " '0004246',\n",
       " '0004422',\n",
       " '00044513',\n",
       " '0004847546',\n",
       " '0005',\n",
       " '0007',\n",
       " '00090711',\n",
       " '000usd',\n",
       " '0010580b',\n",
       " '0012',\n",
       " '001200201pixel',\n",
       " '0014',\n",
       " '001428',\n",
       " '001555',\n",
       " '001718',\n",
       " '001757',\n",
       " '0018',\n",
       " '00196',\n",
       " '002',\n",
       " '0020',\n",
       " '0022',\n",
       " '0028',\n",
       " '0029',\n",
       " '0033',\n",
       " '0034',\n",
       " '003719',\n",
       " '0038',\n",
       " '0039',\n",
       " '0049',\n",
       " '006',\n",
       " '00630',\n",
       " '0065',\n",
       " '0094',\n",
       " '0098',\n",
       " '00index',\n",
       " '00pm',\n",
       " '01',\n",
       " '0100',\n",
       " '010326',\n",
       " '010329',\n",
       " '010734',\n",
       " '010821',\n",
       " '011033',\n",
       " '011605',\n",
       " '011634edt',\n",
       " '011720',\n",
       " '012537',\n",
       " '0131',\n",
       " '013846',\n",
       " '014305',\n",
       " '014506',\n",
       " '01463',\n",
       " '0150',\n",
       " '01580',\n",
       " '01609',\n",
       " '01742',\n",
       " '01752',\n",
       " '01776',\n",
       " '0179',\n",
       " '01821',\n",
       " '01826',\n",
       " '0184',\n",
       " '01852',\n",
       " '01854',\n",
       " '01890',\n",
       " '018b',\n",
       " '0192',\n",
       " '0199',\n",
       " '01a',\n",
       " '01wb',\n",
       " '02',\n",
       " '020',\n",
       " '0200',\n",
       " '020021',\n",
       " '020259',\n",
       " '020359',\n",
       " '020637',\n",
       " '020655',\n",
       " '020751',\n",
       " '02115',\n",
       " '02138',\n",
       " '02139',\n",
       " '02142',\n",
       " '02154',\n",
       " '021708',\n",
       " '02173',\n",
       " '02178',\n",
       " '0223',\n",
       " '0233',\n",
       " '0235',\n",
       " '0237',\n",
       " '023b',\n",
       " '024423',\n",
       " '0245',\n",
       " '024850',\n",
       " '025240',\n",
       " '025426',\n",
       " '025636',\n",
       " '0273',\n",
       " '0293',\n",
       " '03',\n",
       " '030',\n",
       " '0300',\n",
       " '0303',\n",
       " '03051',\n",
       " '031905saundrsg',\n",
       " '0324',\n",
       " '033',\n",
       " '0330',\n",
       " '033230kevxu',\n",
       " '033843',\n",
       " '034',\n",
       " '034101',\n",
       " '0349',\n",
       " '0358',\n",
       " '0362',\n",
       " '0391',\n",
       " '04',\n",
       " '040',\n",
       " '0400',\n",
       " '040286',\n",
       " '040493161915',\n",
       " '040819',\n",
       " '0410',\n",
       " '04110',\n",
       " '041300',\n",
       " '041493003715',\n",
       " '041929',\n",
       " '0423',\n",
       " '042918',\n",
       " '043740',\n",
       " '044946',\n",
       " '044958',\n",
       " '045',\n",
       " '047m',\n",
       " '04g',\n",
       " '05',\n",
       " '050',\n",
       " '0500',\n",
       " '0510',\n",
       " '0511',\n",
       " '051201',\n",
       " '051309',\n",
       " '051746',\n",
       " '053250',\n",
       " '053333',\n",
       " '05402',\n",
       " '05446',\n",
       " '0545',\n",
       " '054589e',\n",
       " '054600',\n",
       " '058',\n",
       " '06',\n",
       " '060',\n",
       " '0600',\n",
       " '060493161931',\n",
       " '0605',\n",
       " '0608',\n",
       " '061',\n",
       " '06111',\n",
       " '061329',\n",
       " '0615',\n",
       " '06179397',\n",
       " '0628',\n",
       " '062802',\n",
       " '0636',\n",
       " '064720',\n",
       " '06487',\n",
       " '0649',\n",
       " '067',\n",
       " '0674',\n",
       " '068',\n",
       " '0684',\n",
       " '0695',\n",
       " '07',\n",
       " '070',\n",
       " '0704',\n",
       " '0706',\n",
       " '071',\n",
       " '07102',\n",
       " '071814',\n",
       " '0721',\n",
       " '072429',\n",
       " '072706',\n",
       " '0729',\n",
       " '0739',\n",
       " '073926',\n",
       " '074',\n",
       " '07410',\n",
       " '07653',\n",
       " '077',\n",
       " '07748',\n",
       " '0789',\n",
       " '08',\n",
       " '080719',\n",
       " '08080',\n",
       " '0813',\n",
       " '0815',\n",
       " '0820',\n",
       " '0833',\n",
       " '083731',\n",
       " '08520',\n",
       " '08540',\n",
       " '08544',\n",
       " '0856e16',\n",
       " '0865',\n",
       " '08786',\n",
       " '0891',\n",
       " '08934',\n",
       " '09',\n",
       " '090',\n",
       " '0900',\n",
       " '090030',\n",
       " '0901',\n",
       " '0903',\n",
       " '090626',\n",
       " '091051',\n",
       " '092051',\n",
       " '0926',\n",
       " '0930',\n",
       " '093812kevxu',\n",
       " '093914',\n",
       " '0941',\n",
       " '0943',\n",
       " '094320',\n",
       " '0970',\n",
       " '0971',\n",
       " '0988',\n",
       " '0_',\n",
       " '0______________________________________________________________________0',\n",
       " '0a',\n",
       " '0b',\n",
       " '0e9',\n",
       " '0ep',\n",
       " '0hb',\n",
       " '0km',\n",
       " '0mph',\n",
       " '0w',\n",
       " '0x',\n",
       " '0x00',\n",
       " '0x100',\n",
       " '0x1f',\n",
       " '0x3d4',\n",
       " '0xc010',\n",
       " '0xc018',\n",
       " '10',\n",
       " '100',\n",
       " '1000',\n",
       " '10000',\n",
       " '100000',\n",
       " '1000r',\n",
       " '1001',\n",
       " '10012',\n",
       " '10019',\n",
       " '10020',\n",
       " '10022',\n",
       " '10023',\n",
       " '1003',\n",
       " '10036',\n",
       " '10038',\n",
       " '100544',\n",
       " '10056',\n",
       " '100c',\n",
       " '100k',\n",
       " '100km',\n",
       " '100lez',\n",
       " '100m',\n",
       " '100megs',\n",
       " '100nm',\n",
       " '100th',\n",
       " '101',\n",
       " '1010',\n",
       " '10101',\n",
       " '101010',\n",
       " '101044',\n",
       " '101241',\n",
       " '101323',\n",
       " '1015',\n",
       " '10158',\n",
       " '101747',\n",
       " '10179',\n",
       " '101h',\n",
       " '102',\n",
       " '102007',\n",
       " '10206',\n",
       " '10208',\n",
       " '1023',\n",
       " '1024',\n",
       " '1024x1024',\n",
       " '1024x512',\n",
       " '1024x728',\n",
       " '1024x768',\n",
       " '1024x768x24',\n",
       " '1024x768x65000',\n",
       " '1024x786x24',\n",
       " '102525',\n",
       " '1027',\n",
       " '1028',\n",
       " '10281',\n",
       " '102a',\n",
       " '103',\n",
       " '1030',\n",
       " '103038',\n",
       " '10368',\n",
       " '1039',\n",
       " '104',\n",
       " '104107',\n",
       " '1044',\n",
       " '10460',\n",
       " '1049',\n",
       " '105',\n",
       " '10505',\n",
       " '10511',\n",
       " '105366',\n",
       " '10553',\n",
       " '10555',\n",
       " '1059',\n",
       " '105m',\n",
       " '106',\n",
       " '1060',\n",
       " '1066',\n",
       " '10665',\n",
       " '10671',\n",
       " '107',\n",
       " '1079',\n",
       " '108',\n",
       " '1084',\n",
       " '109',\n",
       " '109125',\n",
       " '109147',\n",
       " '10_',\n",
       " '10bps',\n",
       " '10cm',\n",
       " '10fps',\n",
       " '10h',\n",
       " '10k',\n",
       " '10km',\n",
       " '10kw',\n",
       " '10m',\n",
       " '10mhz',\n",
       " '10mil',\n",
       " '10th',\n",
       " '10yo',\n",
       " '11',\n",
       " '110',\n",
       " '1100',\n",
       " '11048',\n",
       " '1105',\n",
       " '110m',\n",
       " '110mbytes',\n",
       " '111',\n",
       " '1111',\n",
       " '1113',\n",
       " '111s',\n",
       " '112',\n",
       " '1122',\n",
       " '112243',\n",
       " '11230',\n",
       " '1124',\n",
       " '113',\n",
       " '113223',\n",
       " '1137',\n",
       " '1138',\n",
       " '114',\n",
       " '114158',\n",
       " '114428',\n",
       " '1145040',\n",
       " '115',\n",
       " '1150',\n",
       " '115072',\n",
       " '1151',\n",
       " '115397',\n",
       " '115a',\n",
       " '115m',\n",
       " '1163',\n",
       " '11632',\n",
       " '11670',\n",
       " '11683',\n",
       " '117',\n",
       " '1170',\n",
       " '11716',\n",
       " '11721',\n",
       " '1177',\n",
       " '11776',\n",
       " '11782',\n",
       " '1179',\n",
       " '117th',\n",
       " '118',\n",
       " '11841',\n",
       " '11888',\n",
       " '119',\n",
       " '1190',\n",
       " '1194',\n",
       " '11974',\n",
       " '1198',\n",
       " '119th',\n",
       " '11dec89',\n",
       " '11x17',\n",
       " '12',\n",
       " '120',\n",
       " '1200',\n",
       " '1200mi',\n",
       " '1200x900',\n",
       " '1201',\n",
       " '120311',\n",
       " '1204',\n",
       " '1207',\n",
       " '12091',\n",
       " '12092',\n",
       " '121',\n",
       " '1212',\n",
       " '121236',\n",
       " '12144',\n",
       " '121624',\n",
       " '121843',\n",
       " '121925',\n",
       " '122',\n",
       " '1220',\n",
       " '122037',\n",
       " '1222',\n",
       " '12222',\n",
       " '122356',\n",
       " '12288',\n",
       " '122nd',\n",
       " '123',\n",
       " '1234',\n",
       " '123433',\n",
       " '1238',\n",
       " '123832',\n",
       " '124',\n",
       " '12424',\n",
       " '124301',\n",
       " '1244',\n",
       " '124456',\n",
       " '1246',\n",
       " '124722',\n",
       " '124724',\n",
       " '124759',\n",
       " '125',\n",
       " '1251',\n",
       " '125147',\n",
       " '125512',\n",
       " '125608',\n",
       " '125750',\n",
       " '126',\n",
       " '12602',\n",
       " '12607',\n",
       " '1263',\n",
       " '12649',\n",
       " '1266',\n",
       " '1268',\n",
       " '127',\n",
       " '1271',\n",
       " '12770',\n",
       " '128',\n",
       " '1280',\n",
       " '1281',\n",
       " '1288',\n",
       " '128m',\n",
       " '129',\n",
       " '1290',\n",
       " '1291',\n",
       " '1292',\n",
       " '12a',\n",
       " '12km',\n",
       " '12m',\n",
       " '12q',\n",
       " '12st',\n",
       " '12th',\n",
       " '13',\n",
       " '130',\n",
       " '1300',\n",
       " '130150',\n",
       " '130393124328',\n",
       " '130503',\n",
       " '1308',\n",
       " '130854',\n",
       " '130922',\n",
       " '130923',\n",
       " '131',\n",
       " '131102',\n",
       " '1312',\n",
       " '131239',\n",
       " '1316',\n",
       " '1317',\n",
       " '131900',\n",
       " '131954',\n",
       " '132',\n",
       " '13217',\n",
       " '1322',\n",
       " '13255',\n",
       " '132604',\n",
       " '1328',\n",
       " '133',\n",
       " '133130',\n",
       " '1333',\n",
       " '133619',\n",
       " '1337',\n",
       " '13380',\n",
       " '13381',\n",
       " '133866082767180880e',\n",
       " '13389',\n",
       " '133941270127999174e',\n",
       " '134',\n",
       " '1340',\n",
       " '13400',\n",
       " '1342',\n",
       " '1343',\n",
       " '134436',\n",
       " '134526',\n",
       " '134802',\n",
       " '13487',\n",
       " '1349',\n",
       " '13495',\n",
       " '135',\n",
       " '1350',\n",
       " '1351',\n",
       " '1352',\n",
       " '1355',\n",
       " '1358',\n",
       " '135x180',\n",
       " '136',\n",
       " '13622',\n",
       " '1364',\n",
       " '13676',\n",
       " '137',\n",
       " '1370',\n",
       " '1372',\n",
       " '1373',\n",
       " '1374',\n",
       " '1379',\n",
       " '138',\n",
       " '1382',\n",
       " '1387',\n",
       " '1388',\n",
       " '138p',\n",
       " '139',\n",
       " '139282',\n",
       " '1395',\n",
       " '13e19',\n",
       " '13ff',\n",
       " '13h',\n",
       " '13th',\n",
       " '13yo',\n",
       " '14',\n",
       " '140',\n",
       " '1400',\n",
       " '14000',\n",
       " '1401',\n",
       " '140493214334',\n",
       " '140493230024',\n",
       " '140493233557',\n",
       " '140529',\n",
       " '14060',\n",
       " '140649',\n",
       " '140804',\n",
       " '140m',\n",
       " '141',\n",
       " '141034',\n",
       " '141137',\n",
       " '14123',\n",
       " '141592654',\n",
       " '1418',\n",
       " '141824',\n",
       " '142',\n",
       " '1420',\n",
       " '14209',\n",
       " '14226',\n",
       " '14233',\n",
       " '142356',\n",
       " '1426',\n",
       " '14261',\n",
       " '14263',\n",
       " '142747',\n",
       " '143',\n",
       " '1431',\n",
       " '14313',\n",
       " '14329',\n",
       " '143400',\n",
       " '143434',\n",
       " '14351',\n",
       " '1436',\n",
       " '14365',\n",
       " '14368',\n",
       " '143754',\n",
       " '14381',\n",
       " '14385',\n",
       " '14388',\n",
       " '14391',\n",
       " '14396',\n",
       " '144',\n",
       " '14400',\n",
       " '1441',\n",
       " '14413',\n",
       " '14422',\n",
       " '14428',\n",
       " '144339saundrsg',\n",
       " '144427',\n",
       " '14451',\n",
       " '144520',\n",
       " '144533',\n",
       " '144825',\n",
       " '144843',\n",
       " '14496',\n",
       " '145',\n",
       " '14501',\n",
       " '1452',\n",
       " '1453',\n",
       " '14545',\n",
       " '145502',\n",
       " '14556',\n",
       " '14571',\n",
       " '14583',\n",
       " '145mm',\n",
       " '146',\n",
       " '1460',\n",
       " '1469100033',\n",
       " '147',\n",
       " '148',\n",
       " '14853',\n",
       " '1487',\n",
       " '1489',\n",
       " '149',\n",
       " '1493',\n",
       " '14943',\n",
       " '1495',\n",
       " '14966',\n",
       " '14m',\n",
       " '14th',\n",
       " '15',\n",
       " '150',\n",
       " '1500',\n",
       " '150038',\n",
       " '1500kg',\n",
       " '15028',\n",
       " '150437',\n",
       " '150493082611',\n",
       " '150493132018',\n",
       " '150493181533',\n",
       " '150545',\n",
       " '15055',\n",
       " '1506',\n",
       " '1507',\n",
       " '15072',\n",
       " '150a',\n",
       " '150miles',\n",
       " '151',\n",
       " '151108',\n",
       " '1517',\n",
       " '151729',\n",
       " '151899',\n",
       " '152',\n",
       " '1520',\n",
       " '15238',\n",
       " '152528',\n",
       " '152722',\n",
       " '1528',\n",
       " '152819',\n",
       " '152833',\n",
       " '1529',\n",
       " '153',\n",
       " '1532',\n",
       " '15337',\n",
       " '1535',\n",
       " '1536',\n",
       " '153847166458030088e',\n",
       " '154',\n",
       " '1541',\n",
       " '15418',\n",
       " '1542',\n",
       " '15426',\n",
       " '15441',\n",
       " '154449',\n",
       " '1545',\n",
       " '15453',\n",
       " '154m',\n",
       " '155',\n",
       " '1550',\n",
       " '15500',\n",
       " '155313',\n",
       " '155622',\n",
       " '155656',\n",
       " '156',\n",
       " '1566',\n",
       " '1568',\n",
       " '15696',\n",
       " '157',\n",
       " '1571',\n",
       " '157595',\n",
       " '158',\n",
       " '1583',\n",
       " '15845',\n",
       " '1585',\n",
       " '1587',\n",
       " '159',\n",
       " '1591',\n",
       " '15apr199315012030',\n",
       " '15apr199316461058',\n",
       " '15apr199320340428',\n",
       " '15bit',\n",
       " '15e10',\n",
       " '15m',\n",
       " '15mhz',\n",
       " '15pm',\n",
       " '15rpm',\n",
       " '15th',\n",
       " '16',\n",
       " '160',\n",
       " '1600',\n",
       " '1600x1200x256',\n",
       " '160493205355',\n",
       " '160493205451',\n",
       " '160550',\n",
       " '1607',\n",
       " '160929',\n",
       " '160944',\n",
       " '160x2xx',\n",
       " '161',\n",
       " '161742',\n",
       " '1618',\n",
       " '161814',\n",
       " '162',\n",
       " '1621',\n",
       " '162105',\n",
       " '16242',\n",
       " '1625',\n",
       " '162501',\n",
       " '1627',\n",
       " '162800',\n",
       " '1629',\n",
       " '162936',\n",
       " '163',\n",
       " '1636',\n",
       " '164',\n",
       " '1643',\n",
       " '16453',\n",
       " '164554',\n",
       " '164655',\n",
       " '164801',\n",
       " '164940',\n",
       " '165',\n",
       " '1653',\n",
       " '1654',\n",
       " '165459',\n",
       " '165709',\n",
       " '165717',\n",
       " '16580',\n",
       " '16586',\n",
       " '16598',\n",
       " '166',\n",
       " '1660',\n",
       " '1663',\n",
       " '1666',\n",
       " '167',\n",
       " '16712',\n",
       " '167290000000000000e',\n",
       " '1673',\n",
       " '167317532658774153e',\n",
       " '168',\n",
       " '1680',\n",
       " '1681',\n",
       " '16833',\n",
       " '168730',\n",
       " '16892',\n",
       " '168967',\n",
       " '169',\n",
       " '1690',\n",
       " '16923',\n",
       " '16937',\n",
       " '1695',\n",
       " '16957',\n",
       " '16apr199309101156',\n",
       " '16bb58b33',\n",
       " '16bit',\n",
       " '16f',\n",
       " '16m',\n",
       " '16th',\n",
       " '17',\n",
       " '170',\n",
       " '1700',\n",
       " '170048',\n",
       " '170157',\n",
       " '170259',\n",
       " '1704',\n",
       " '170493104312',\n",
       " '170493104641',\n",
       " '170493104859',\n",
       " '170493170457',\n",
       " '1708',\n",
       " '170817',\n",
       " '171',\n",
       " '171148',\n",
       " '171194',\n",
       " '1712',\n",
       " '1717',\n",
       " '171704',\n",
       " '172',\n",
       " '1723',\n",
       " '173',\n",
       " '1731',\n",
       " '1733',\n",
       " '173720',\n",
       " '1738',\n",
       " '17399',\n",
       " '174',\n",
       " '1741',\n",
       " '1744',\n",
       " '1746',\n",
       " '1747',\n",
       " '1749',\n",
       " '175',\n",
       " '175117',\n",
       " '1753696',\n",
       " '17541',\n",
       " '1755',\n",
       " '17570',\n",
       " '176',\n",
       " '17644',\n",
       " '1765',\n",
       " '17654',\n",
       " '177',\n",
       " '1775',\n",
       " '1776',\n",
       " '1777',\n",
       " '1778',\n",
       " '17784',\n",
       " '17787',\n",
       " '17790',\n",
       " '17799',\n",
       " '178',\n",
       " '1780',\n",
       " '17804',\n",
       " '1783',\n",
       " '17867',\n",
       " '1788',\n",
       " '179',\n",
       " '17991',\n",
       " '17____',\n",
       " '17apr199316423628',\n",
       " '17f',\n",
       " '17i',\n",
       " '17lb',\n",
       " '17n',\n",
       " '17r',\n",
       " '17th',\n",
       " '18',\n",
       " '180',\n",
       " '1800',\n",
       " '1800s',\n",
       " '1802',\n",
       " '1803',\n",
       " '180493131125',\n",
       " '180493195323',\n",
       " '180630',\n",
       " '1807',\n",
       " '18084tm',\n",
       " '181',\n",
       " '1813',\n",
       " '1815',\n",
       " '181509',\n",
       " '181605',\n",
       " '182',\n",
       " '1820',\n",
       " '182030',\n",
       " '18227',\n",
       " '1823',\n",
       " '182411',\n",
       " '1825',\n",
       " '1827',\n",
       " '18275',\n",
       " '183',\n",
       " '1830',\n",
       " '18303',\n",
       " '18313',\n",
       " '183303',\n",
       " '1835',\n",
       " '1836',\n",
       " '1838',\n",
       " '184',\n",
       " '184369999999999994e',\n",
       " '184377521828175002e',\n",
       " '1845',\n",
       " '184507',\n",
       " '184527',\n",
       " '1846',\n",
       " '184650',\n",
       " '184732',\n",
       " '1848',\n",
       " '185',\n",
       " '1850',\n",
       " '1853',\n",
       " '1855',\n",
       " '1857',\n",
       " '185700',\n",
       " '185725',\n",
       " '18583',\n",
       " '18590',\n",
       " '186',\n",
       " '1861',\n",
       " '186145',\n",
       " '1863',\n",
       " '1864',\n",
       " '1865',\n",
       " '18669',\n",
       " '1869',\n",
       " '187',\n",
       " '1870',\n",
       " '18734',\n",
       " '1876',\n",
       " '18778',\n",
       " '1879',\n",
       " '188',\n",
       " '1883',\n",
       " '18833',\n",
       " '18836',\n",
       " '18842',\n",
       " '1886',\n",
       " '18872',\n",
       " '1888',\n",
       " '189',\n",
       " '1890',\n",
       " '1894',\n",
       " '1895',\n",
       " '18974',\n",
       " '18apr199313560620',\n",
       " '18th',\n",
       " '19',\n",
       " '190',\n",
       " '1900',\n",
       " '1901',\n",
       " '190156',\n",
       " '1902',\n",
       " '190493200323',\n",
       " '190493200420',\n",
       " '190493200858',\n",
       " '190493201048',\n",
       " '1905',\n",
       " '19050',\n",
       " '1906',\n",
       " '1907',\n",
       " '1908',\n",
       " '1909',\n",
       " '191',\n",
       " '1910',\n",
       " '191011',\n",
       " '1912',\n",
       " '1913',\n",
       " '191344498719999910e',\n",
       " '1914',\n",
       " '191415',\n",
       " '1915',\n",
       " '19151',\n",
       " '191542',\n",
       " '191658',\n",
       " '1917',\n",
       " '191701',\n",
       " '1918',\n",
       " '1919',\n",
       " '192',\n",
       " '1920',\n",
       " '192026707383028306e',\n",
       " '1921',\n",
       " '1922',\n",
       " '1925',\n",
       " '1926',\n",
       " '19260',\n",
       " '1927',\n",
       " '192947',\n",
       " '193',\n",
       " '1930',\n",
       " '1930s',\n",
       " '1931',\n",
       " '1933',\n",
       " '1937',\n",
       " '193723',\n",
       " '193758',\n",
       " '1938',\n",
       " '193829',\n",
       " '1939',\n",
       " '194',\n",
       " '1945',\n",
       " '1947',\n",
       " '1948',\n",
       " '1949',\n",
       " '195',\n",
       " '1950',\n",
       " '1950s',\n",
       " ...]"
      ]
     },
     "execution_count": 480,
     "metadata": {},
     "output_type": "execute_result"
    }
   ],
   "source": [
    "# Vejamos as primeiras e últimas features construídas pelo modelo\n",
    "modelo_tfidf.get_feature_names()[0: 10000]"
   ]
  },
  {
   "cell_type": "markdown",
   "metadata": {},
   "source": [
    "####  <span style = \"color:red\">Código Original.</span>\n",
    "<!---\n",
    "# Vejamos as primeiras e últimas features construídas pelo modelo\n",
    "modelo_tfidf.get_feature_names()[0:30]\n",
    "-->"
   ]
  },
  {
   "cell_type": "markdown",
   "metadata": {},
   "source": [
    "#### Podemos também observar as últimas linhas com os nomes dos atributos encontrados."
   ]
  },
  {
   "cell_type": "code",
   "execution_count": 481,
   "metadata": {
    "colab": {
     "autoexec": {
      "startup": false,
      "wait_interval": 0
     }
    },
    "colab_type": "code",
    "id": "Q9T_xp2bh7kv"
   },
   "outputs": [
    {
     "data": {
      "text/plain": [
       "['zoro',\n",
       " 'zoroaster',\n",
       " 'zoroastrian',\n",
       " 'zoroastrianism',\n",
       " 'zoroastrians',\n",
       " 'zowie',\n",
       " 'zrz',\n",
       " 'zsoft',\n",
       " 'zt',\n",
       " 'zubin',\n",
       " 'zuck',\n",
       " 'zug',\n",
       " 'zullen',\n",
       " 'zulu',\n",
       " 'zurbrin',\n",
       " 'zurich',\n",
       " 'zurvanism',\n",
       " 'zvi',\n",
       " 'zwaartepunten',\n",
       " 'zwak',\n",
       " 'zwakke',\n",
       " 'zware',\n",
       " 'zwart',\n",
       " 'zwarte',\n",
       " 'zxmkr08',\n",
       " 'zyeh',\n",
       " 'zyxel',\n",
       " 'ªl',\n",
       " 'º_________________________________________________º_____________________º',\n",
       " 'ºnd']"
      ]
     },
     "execution_count": 481,
     "metadata": {},
     "output_type": "execute_result"
    }
   ],
   "source": [
    "modelo_tfidf.get_feature_names()[-30:]"
   ]
  },
  {
   "cell_type": "markdown",
   "metadata": {},
   "source": [
    "####  <span style = \"color:red\">Código Original.</span>\n",
    "<!---\n",
    "modelo_tfidf.get_feature_names()[-30:]\n",
    "-->"
   ]
  },
  {
   "cell_type": "markdown",
   "metadata": {
    "colab_type": "text",
    "id": "JRiGh1dbh7k0"
   },
   "source": [
    "### Treinamento de um classificador Naive Bayes.\n",
    "\n",
    "#### Com a matriz construída para os dados de treinamento, vamos importar a biblioteca [`sklearn.naive_bayes.MultinomialNB`](https://scikit-learn.org/stable/modules/generated/sklearn.naive_bayes.MultinomialNB.html) que realiza a classificação [Naive Bayes](https://towardsdatascience.com/multinomial-na%C3%AFve-bayes-classifier-using-pointwise-mutual-information-9ade011fcbd0) para modelos multinomiais.\n",
    "\n",
    "#### Assim podemos instanciar o modelo NB em objeto `modelo_NB` e treinar um classificador utilizando o modelo usando a função [`MultinomialNB()`](https://scikit-learn.org/stable/modules/naive_bayes.html#multinomial-naive-bayes) que implementa o algoritmo naive Bayes para dados distribuídos multinomialmente.\n",
    "\n",
    "#### Depois será necessário ajustar os dados de treino `X_train` e de target `train.target` ao modelo NB."
   ]
  },
  {
   "cell_type": "code",
   "execution_count": 482,
   "metadata": {
    "colab": {
     "autoexec": {
      "startup": false,
      "wait_interval": 0
     }
    },
    "colab_type": "code",
    "id": "t2oJ8dE3h7k0"
   },
   "outputs": [
    {
     "data": {
      "text/plain": [
       "MultinomialNB()"
      ]
     },
     "execution_count": 482,
     "metadata": {},
     "output_type": "execute_result"
    }
   ],
   "source": [
    "from sklearn.naive_bayes import MultinomialNB\n",
    "modelo_NB = MultinomialNB()\n",
    "modelo_NB.fit(X_train, \n",
    "              train.target\n",
    "             )"
   ]
  },
  {
   "cell_type": "code",
   "execution_count": 483,
   "metadata": {},
   "outputs": [
    {
     "data": {
      "text/plain": [
       "<2153x35329 sparse matrix of type '<class 'numpy.float64'>'\n",
       "\twith 352179 stored elements in Compressed Sparse Row format>"
      ]
     },
     "execution_count": 483,
     "metadata": {},
     "output_type": "execute_result"
    }
   ],
   "source": [
    "X_train"
   ]
  },
  {
   "cell_type": "code",
   "execution_count": 484,
   "metadata": {},
   "outputs": [
    {
     "data": {
      "text/plain": [
       "array([2, 2, 1, ..., 2, 3, 1], dtype=int64)"
      ]
     },
     "execution_count": 484,
     "metadata": {},
     "output_type": "execute_result"
    }
   ],
   "source": [
    "train.target"
   ]
  },
  {
   "cell_type": "markdown",
   "metadata": {},
   "source": [
    "####  <span style = \"color:red\">Código Original.</span>\n",
    "<!---\n",
    "from sklearn.naive_bayes import MultinomialNB\n",
    "modelo_NB = MultinomialNB()\n",
    "modelo_NB.fit(X_train, \n",
    "              train.target\n",
    "             )\n",
    "-->"
   ]
  },
  {
   "cell_type": "markdown",
   "metadata": {
    "colab_type": "text",
    "id": "y9EJcBZwh7k3"
   },
   "source": [
    "### Previsão.\n",
    "\n",
    "#### Com os parâmetros do modelo já calculados, vamos fazer previsões sobre os dados de teste. \n",
    "\n",
    "#### Para vetorizarmos os dados de teste temos que recorrer ao modelo `tf-idf` aplicado aos dados de treinamento. Aplicamos o método [`transform()`](https://scikit-learn.org/stable/modules/generated/sklearn.feature_extraction.text.TfidfVectorizer.html#sklearn.feature_extraction.text.TfidfVectorizer.transform), que transforma os documentos em matriz de documento-termo."
   ]
  },
  {
   "cell_type": "raw",
   "metadata": {},
   "source": [
    "test.data"
   ]
  },
  {
   "cell_type": "code",
   "execution_count": 485,
   "metadata": {
    "colab": {
     "autoexec": {
      "startup": false,
      "wait_interval": 0
     }
    },
    "colab_type": "code",
    "id": "7600RlSKh7k4"
   },
   "outputs": [],
   "source": [
    "X_test = modelo_tfidf.transform(test.data)"
   ]
  },
  {
   "cell_type": "markdown",
   "metadata": {},
   "source": [
    "####  <span style = \"color:red\">Código Original.</span>\n",
    "<!---\n",
    "X_test = modelo_tfidf.transform(test.data)\n",
    "-->"
   ]
  },
  {
   "cell_type": "markdown",
   "metadata": {},
   "source": [
    "#### Novamente, o objeto `X_test` é uma matriz esparsa tecnicamente definida como [`scipy.sparse.csr.csr_matrix`](https://docs.scipy.org/doc/scipy/reference/generated/scipy.sparse.csr_matrix.html)."
   ]
  },
  {
   "cell_type": "code",
   "execution_count": 486,
   "metadata": {
    "colab": {
     "autoexec": {
      "startup": false,
      "wait_interval": 0
     }
    },
    "colab_type": "code",
    "id": "JtcaBGwYh7k7"
   },
   "outputs": [
    {
     "data": {
      "text/plain": [
       "scipy.sparse.csr.csr_matrix"
      ]
     },
     "execution_count": 486,
     "metadata": {},
     "output_type": "execute_result"
    }
   ],
   "source": [
    "# Também é gerada uma matriz esparsa\n",
    "type(X_test)"
   ]
  },
  {
   "cell_type": "markdown",
   "metadata": {},
   "source": [
    "####  <span style = \"color:red\">Código Original.</span>\n",
    "<!---\n",
    "# Também é gerada uma matriz esparsa\n",
    "type(X_test)\n",
    "-->"
   ]
  },
  {
   "cell_type": "markdown",
   "metadata": {},
   "source": [
    "#### Agora podemos realizar as previsões de nosso modelo com o auxílio do método [`.predict()`](https://scikit-learn.org/stable/modules/generated/sklearn.naive_bayes.MultinomialNB.html#sklearn.naive_bayes.MultinomialNB.predict), que executa a classificação em uma matriz de vetores de `test_X`."
   ]
  },
  {
   "cell_type": "code",
   "execution_count": 487,
   "metadata": {
    "colab": {
     "autoexec": {
      "startup": false,
      "wait_interval": 0
     }
    },
    "colab_type": "code",
    "id": "5SwxqGlrh7k-"
   },
   "outputs": [],
   "source": [
    "# Com as features de teste transformadas calculamos as labels previstas\n",
    "labels_pred = modelo_NB.predict(X_test)"
   ]
  },
  {
   "cell_type": "markdown",
   "metadata": {},
   "source": [
    "####  <span style = \"color:red\">Código Original.</span>\n",
    "<!---\n",
    "# Com as features de teste transformadas calculamos as labels previstas\n",
    "labels_pred = modelo_NB.predict(X_test)\n",
    "-->"
   ]
  },
  {
   "cell_type": "markdown",
   "metadata": {},
   "source": [
    "#### As classificações realizadas são armazenadas no objeto `labels_pred`."
   ]
  },
  {
   "cell_type": "code",
   "execution_count": 488,
   "metadata": {
    "colab": {
     "autoexec": {
      "startup": false,
      "wait_interval": 0
     }
    },
    "colab_type": "code",
    "id": "XyGWBOx7h7lC"
   },
   "outputs": [
    {
     "data": {
      "text/plain": [
       "array([2, 0, 1, ..., 1, 2, 1], dtype=int64)"
      ]
     },
     "execution_count": 488,
     "metadata": {},
     "output_type": "execute_result"
    }
   ],
   "source": [
    "labels_pred"
   ]
  },
  {
   "cell_type": "markdown",
   "metadata": {},
   "source": [
    "####  <span style = \"color:red\">Código Original.</span>\n",
    "<!---\n",
    "labels_pred\n",
    "-->"
   ]
  },
  {
   "cell_type": "markdown",
   "metadata": {},
   "source": [
    "#### Os valores classificados estão associados às categorias a seguir, dadas pelo atributo `.target_names`:"
   ]
  },
  {
   "cell_type": "code",
   "execution_count": 489,
   "metadata": {
    "colab": {
     "autoexec": {
      "startup": false,
      "wait_interval": 0
     }
    },
    "colab_type": "code",
    "id": "tc8Fjn0nh7lF"
   },
   "outputs": [
    {
     "data": {
      "text/plain": [
       "['comp.graphics', 'sci.space', 'soc.religion.christian', 'talk.religion.misc']"
      ]
     },
     "execution_count": 489,
     "metadata": {},
     "output_type": "execute_result"
    }
   ],
   "source": [
    "# As labels estão ligadas às tags do objeto Bunch original\n",
    "train.target_names"
   ]
  },
  {
   "cell_type": "markdown",
   "metadata": {},
   "source": [
    "####  <span style = \"color:red\">Código Original.</span>\n",
    "<!---\n",
    "# As labels estão ligadas às tags do objeto Bunch original\n",
    "train.target_names\n",
    "-->"
   ]
  },
  {
   "cell_type": "markdown",
   "metadata": {
    "colab_type": "text",
    "id": "mVy87reGh7lJ"
   },
   "source": [
    "### Matriz de confusão.\n",
    "\n",
    "#### Depois da classificação,  o próximo passo é criarmos a matriz de confusão entre a previsão e as observações originais.\n",
    "\n",
    "#### Para isso vamos importar a biblioteca [`sklearn.metrics.confusion_matrix`](https://scikit-learn.org/stable/modules/generated/sklearn.metrics.confusion_matrix.html) que avalia a precisão de uma classificação a partir do cruzamento entre os dados observados e classificados/previstos."
   ]
  },
  {
   "cell_type": "code",
   "execution_count": 490,
   "metadata": {
    "colab": {
     "autoexec": {
      "startup": false,
      "wait_interval": 0
     }
    },
    "colab_type": "code",
    "id": "B26ff7Qoh7lJ"
   },
   "outputs": [],
   "source": [
    "from sklearn.metrics import confusion_matrix\n",
    "%matplotlib inline\n",
    "import matplotlib.pyplot as plt\n",
    "import seaborn as sns"
   ]
  },
  {
   "cell_type": "markdown",
   "metadata": {},
   "source": [
    "####  <span style = \"color:red\">Código Original.</span>\n",
    "<!---\n",
    "from sklearn.metrics import confusion_matrix\n",
    "%matplotlib inline\n",
    "import matplotlib.pyplot as plt\n",
    "import seaborn as sns\n",
    "-->"
   ]
  },
  {
   "cell_type": "markdown",
   "metadata": {},
   "source": [
    "#### Para gerar a matriz confusão precisamos aplicar a função [`confusion_matrix()`](https://scikit-learn.org/stable/auto_examples/model_selection/plot_confusion_matrix.html) que avalia a qualidade da saída de um classificador."
   ]
  },
  {
   "cell_type": "code",
   "execution_count": 491,
   "metadata": {},
   "outputs": [
    {
     "data": {
      "text/plain": [
       "array([3, 0, 1, ..., 1, 2, 0], dtype=int64)"
      ]
     },
     "execution_count": 491,
     "metadata": {},
     "output_type": "execute_result"
    }
   ],
   "source": [
    "test.target"
   ]
  },
  {
   "cell_type": "code",
   "execution_count": 492,
   "metadata": {},
   "outputs": [
    {
     "data": {
      "text/plain": [
       "array([2, 0, 1, ..., 1, 2, 1], dtype=int64)"
      ]
     },
     "execution_count": 492,
     "metadata": {},
     "output_type": "execute_result"
    }
   ],
   "source": [
    "labels_pred"
   ]
  },
  {
   "cell_type": "code",
   "execution_count": 493,
   "metadata": {
    "colab": {
     "autoexec": {
      "startup": false,
      "wait_interval": 0
     }
    },
    "colab_type": "code",
    "id": "w4VoLYq6h7lR"
   },
   "outputs": [
    {
     "data": {
      "text/plain": [
       "(4, 4)"
      ]
     },
     "execution_count": 493,
     "metadata": {},
     "output_type": "execute_result"
    }
   ],
   "source": [
    "# Imprimimos a matriz de confusão\n",
    "mat = confusion_matrix(test.target, \n",
    "                       labels_pred\n",
    "                      )\n",
    "mat.shape\n",
    "#type(mat)"
   ]
  },
  {
   "cell_type": "code",
   "execution_count": 494,
   "metadata": {},
   "outputs": [
    {
     "name": "stdout",
     "output_type": "stream",
     "text": [
      "[[344   6   1   4]\n",
      " [ 13 364   5  12]\n",
      " [ 32  24 392 187]\n",
      " [  0   0   0  48]]\n",
      "[[344  13  32   0]\n",
      " [  6 364  24   0]\n",
      " [  1   5 392   0]\n",
      " [  4  12 187  48]]\n"
     ]
    }
   ],
   "source": [
    "print(mat.T)\n",
    "print(mat)"
   ]
  },
  {
   "cell_type": "markdown",
   "metadata": {},
   "source": [
    "####  <span style = \"color:red\">Código Original.</span>\n",
    "<!---\n",
    "# Imprimimos a matriz de confusão\n",
    "mat = confusion_matrix(test.target, \n",
    "                       labels_pred\n",
    "                      )\n",
    "mat.shape\n",
    "#type(mat)\n",
    "-->"
   ]
  },
  {
   "cell_type": "markdown",
   "metadata": {},
   "source": [
    "#### Então a submetemos a matriz confusão a um mapa de calor, com o método [`.heatmap()`](https://seaborn.pydata.org/generated/seaborn.heatmap.html) que gera dados retangulares como uma matriz codificada por cores. "
   ]
  },
  {
   "cell_type": "code",
   "execution_count": 495,
   "metadata": {},
   "outputs": [
    {
     "data": {
      "image/png": "[encoded data removed]",
      "text/plain": [
       "<Figure size 720x720 with 2 Axes>"
      ]
     },
     "metadata": {},
     "output_type": "display_data"
    }
   ],
   "source": [
    "with sns.axes_style(\"white\"):\n",
    "    f, ax = plt.subplots(figsize = (10, 10))\n",
    "    ax = sns.heatmap(mat.T,\n",
    "                     square = True,\n",
    "                     annot = True,\n",
    "                     fmt = 'd',\n",
    "                     cbar = True,\n",
    "                     xticklabels = train.target_names,\n",
    "                     yticklabels = train.target_names,\n",
    "                     cmap = None\n",
    "                    )\n",
    "plt.ylabel('Labels obs')\n",
    "plt.xlabel('Labels pred');    "
   ]
  },
  {
   "cell_type": "markdown",
   "metadata": {},
   "source": [
    "####  <span style = \"color:red\">Código Original.</span>\n",
    "<!---\n",
    "with sns.axes_style(\"white\"):\n",
    "    f, ax = plt.subplots(figsize = (10, 10))\n",
    "    ax = sns.heatmap(mat.T,\n",
    "                     square = True,\n",
    "                     annot = True,\n",
    "                     fmt = 'd',\n",
    "                     cbar = True,\n",
    "                     xticklabels = train.target_names,\n",
    "                     yticklabels = train.target_names,\n",
    "                     cmap = None)\n",
    "plt.ylabel('Labels obs')\n",
    "plt.xlabel('Labels pred');\n",
    "-->"
   ]
  },
  {
   "cell_type": "markdown",
   "metadata": {},
   "source": [
    "#### Por fim importamos o biblioteca [`sklearn.metrics.accuracy_score`](https://scikit-learn.org/stable/modules/generated/sklearn.metrics.accuracy_score.html) para calcularmos a acurácia de nosso modelo de classificação. \n",
    "\n",
    "#### Usamos a função [`accuracy_score()`](https://scikit-learn.org/stable/modules/generated/sklearn.metrics.accuracy_score.html#sklearn.metrics.accuracy_score), que apresenta uma pontuação de classificação de precisão em que o conjunto de rótulos previsto para uma amostra deve corresponder exatamente ao conjunto de rótulos correspondente à observação."
   ]
  },
  {
   "cell_type": "code",
   "execution_count": 496,
   "metadata": {},
   "outputs": [
    {
     "data": {
      "text/plain": [
       "0.8016759776536313"
      ]
     },
     "execution_count": 496,
     "metadata": {},
     "output_type": "execute_result"
    }
   ],
   "source": [
    "# Primeiro, calculamos a accuracy geral do modelo\n",
    "from sklearn.metrics import accuracy_score\n",
    "\n",
    "accuracy_score(test.target, \n",
    "               labels_pred\n",
    "              )"
   ]
  },
  {
   "cell_type": "markdown",
   "metadata": {},
   "source": [
    "####  <span style = \"color:red\">Código Original.</span>\n",
    "<!---\n",
    "# Primeiro, calculamos a accuracy geral do modelo\n",
    "from sklearn.metrics import accuracy_score\n",
    "\n",
    "accuracy_score(test.target, \n",
    "               labels_pred\n",
    "              )\n",
    "-->"
   ]
  },
  {
   "cell_type": "markdown",
   "metadata": {
    "colab_type": "text",
    "id": "6UH5KvAzh7lY"
   },
   "source": [
    "### Conclusão.\n",
    "\n",
    "#### Mesmo com um modelo muito simples como o Naive Bayes, nós podemos classificar um `corpus` de texto com bastante precisão.\n",
    "\n",
    "#### Na matriz de confusão podemos observar algo que era esperável: as mensagens sobre religião em geral `'talk.religion.misc'` se confundem com aqueles específicos sobre a religião cristã `'soc.religion.christian'`, já que empregam um vocabulário semelhante."
   ]
  },
  {
   "cell_type": "markdown",
   "metadata": {
    "colab_type": "text",
    "id": "wXF9zTlwh7lb"
   },
   "source": [
    "#### Um ponto interessante a considerar é que agora temos um classificador de `strings`. Podemos colocar qualquer `string` nele para classificá-la de forma automática. Naturalmente, vamos ter que fazer isso em inglês. \n",
    "\n",
    "#### Vamos criar uma função que associe um `string` a uma categoria específica, para isso a função deve chamar o vetorizador que `X` definido anteriormente, realizar a classificação/previsão da `string` e retornar a categoria correspondente."
   ]
  },
  {
   "cell_type": "code",
   "execution_count": 497,
   "metadata": {
    "colab": {
     "autoexec": {
      "startup": false,
      "wait_interval": 0
     }
    },
    "colab_type": "code",
    "id": "weBpDwMjh7lc"
   },
   "outputs": [],
   "source": [
    "def predict_category(s, train = train ):\n",
    "    x = modelo_tfidf.transform([s]) # chamamos o vetorizador que usamos (tem que ser o mesmo)\n",
    "    pred = modelo_NB.predict(x) # fazemos o predict, usando o modelo que fitamos.\n",
    "    return train.target_names[pred[0]] # retornamos a categoria correspondente à previsão"
   ]
  },
  {
   "cell_type": "markdown",
   "metadata": {},
   "source": [
    "####  <span style = \"color:red\">Código Original.</span>\n",
    "<!---\n",
    "def predict_category(s, train = train ):\n",
    "    x = modelo_tfidf.transform([s]) # chamamos o vetorizador que usamos (deve ser o mesmo)\n",
    "    pred = modelo_NB.predict(x) # fazemos o predict, usando o modelo que fitamos.\n",
    "    return train.target_names[pred[0]] # retornamos a categoria correspondente à previsão\n",
    "-->"
   ]
  },
  {
   "cell_type": "markdown",
   "metadata": {
    "colab_type": "text",
    "id": "CdS0uhOnh7le"
   },
   "source": [
    "#### A seguir alguns exemplos:"
   ]
  },
  {
   "cell_type": "code",
   "execution_count": 498,
   "metadata": {
    "colab": {
     "autoexec": {
      "startup": false,
      "wait_interval": 0
     }
    },
    "colab_type": "code",
    "id": "8BDuSJ8qh7lg"
   },
   "outputs": [
    {
     "data": {
      "text/plain": [
       "'sci.space'"
      ]
     },
     "execution_count": 498,
     "metadata": {},
     "output_type": "execute_result"
    }
   ],
   "source": [
    "predict_category('sending a payload to the ISS')"
   ]
  },
  {
   "cell_type": "markdown",
   "metadata": {},
   "source": [
    "####  <span style = \"color:red\">Código Original.</span>\n",
    "<!---\n",
    "predict_category('sending a payload to the ISS')\n",
    "-->"
   ]
  },
  {
   "cell_type": "code",
   "execution_count": 499,
   "metadata": {
    "colab": {
     "autoexec": {
      "startup": false,
      "wait_interval": 0
     }
    },
    "colab_type": "code",
    "id": "5RdyifjSh7li"
   },
   "outputs": [
    {
     "data": {
      "text/plain": [
       "'soc.religion.christian'"
      ]
     },
     "execution_count": 499,
     "metadata": {},
     "output_type": "execute_result"
    }
   ],
   "source": [
    "predict_category('discussing islam vs atheism')"
   ]
  },
  {
   "cell_type": "markdown",
   "metadata": {},
   "source": [
    "####  <span style = \"color:red\">Código Original.</span>\n",
    "<!---\n",
    "predict_category('discussing islam vs atheism')\n",
    "-->"
   ]
  },
  {
   "cell_type": "code",
   "execution_count": 500,
   "metadata": {
    "colab": {
     "autoexec": {
      "startup": false,
      "wait_interval": 0
     }
    },
    "colab_type": "code",
    "id": "WIilsbMfh7lk"
   },
   "outputs": [
    {
     "data": {
      "text/plain": [
       "'comp.graphics'"
      ]
     },
     "execution_count": 500,
     "metadata": {},
     "output_type": "execute_result"
    }
   ],
   "source": [
    "predict_category('determining the screen resolution')"
   ]
  },
  {
   "cell_type": "markdown",
   "metadata": {},
   "source": [
    "####  <span style = \"color:red\">Código Original.</span>\n",
    "<!---\n",
    "predict_category('determining the screen resolution')\n",
    "-->"
   ]
  },
  {
   "cell_type": "markdown",
   "metadata": {
    "colab_type": "text",
    "id": "6ox4MZQEh7ln"
   },
   "source": [
    "#### É preciso lembrar que isso não tem qualquer sofisticação: trata-se simplesmente de um modelo probabilístico (de hipóteses bastante simples) para a freqüência ponderada de cada palavra em uma `string`. Contudo, obteremos um nível de accurácia bastante razoável e resultados bastante efetivos."
   ]
  },
  {
   "cell_type": "markdown",
   "metadata": {
    "colab": {
     "autoexec": {
      "startup": false,
      "wait_interval": 0
     }
    },
    "colab_type": "code",
    "id": "IbPprfr0h7ln"
   },
   "source": [
    "##  <span style = \"color:blue\">Prática Independente.</span>"
   ]
  },
  {
   "cell_type": "markdown",
   "metadata": {},
   "source": [
    "#### O objetivo desta prática é criar um classificador que pode diferenciar comentários negativos e positivos de filmes (extraídos do [IMDB](http://www.imdb.com/) com a maior efetividade possível. Observe que o dataset tem (a princípio) dois campos:\n",
    "\n",
    "* `sentence`: que contém o texto do comentário sobre o filme\n",
    "* `sentiment`: a classificação do comentário como positivo ( `sentiment` $ = 1$ ) ou negativo ( `sentiment` $ = 0$ )"
   ]
  },
  {
   "cell_type": "markdown",
   "metadata": {},
   "source": [
    "#### importe o dataset `'imdb_labelled.txt'` em anexo e dê nomes às colunas de acordo com os itens anteriores."
   ]
  },
  {
   "cell_type": "code",
   "execution_count": null,
   "metadata": {},
   "outputs": [],
   "source": []
  },
  {
   "cell_type": "code",
   "execution_count": 501,
   "metadata": {},
   "outputs": [
    {
     "data": {
      "text/html": [
       "<div>\n",
       "<style scoped>\n",
       "    .dataframe tbody tr th:only-of-type {\n",
       "        vertical-align: middle;\n",
       "    }\n",
       "\n",
       "    .dataframe tbody tr th {\n",
       "        vertical-align: top;\n",
       "    }\n",
       "\n",
       "    .dataframe thead th {\n",
       "        text-align: right;\n",
       "    }\n",
       "</style>\n",
       "<table border=\"1\" class=\"dataframe\">\n",
       "  <thead>\n",
       "    <tr style=\"text-align: right;\">\n",
       "      <th></th>\n",
       "      <th>Sentence</th>\n",
       "      <th>Sentiment</th>\n",
       "    </tr>\n",
       "  </thead>\n",
       "  <tbody>\n",
       "    <tr>\n",
       "      <th>0</th>\n",
       "      <td>A very, very, very slow-moving, aimless movie ...</td>\n",
       "      <td>0</td>\n",
       "    </tr>\n",
       "    <tr>\n",
       "      <th>1</th>\n",
       "      <td>Not sure who was more lost - the flat characte...</td>\n",
       "      <td>0</td>\n",
       "    </tr>\n",
       "    <tr>\n",
       "      <th>2</th>\n",
       "      <td>Attempting artiness with black &amp; white and cle...</td>\n",
       "      <td>0</td>\n",
       "    </tr>\n",
       "    <tr>\n",
       "      <th>3</th>\n",
       "      <td>Very little music or anything to speak of.</td>\n",
       "      <td>0</td>\n",
       "    </tr>\n",
       "    <tr>\n",
       "      <th>4</th>\n",
       "      <td>The best scene in the movie was when Gerardo i...</td>\n",
       "      <td>1</td>\n",
       "    </tr>\n",
       "    <tr>\n",
       "      <th>...</th>\n",
       "      <td>...</td>\n",
       "      <td>...</td>\n",
       "    </tr>\n",
       "    <tr>\n",
       "      <th>743</th>\n",
       "      <td>I just got bored watching Jessice Lange take h...</td>\n",
       "      <td>0</td>\n",
       "    </tr>\n",
       "    <tr>\n",
       "      <th>744</th>\n",
       "      <td>Unfortunately, any virtue in this film's produ...</td>\n",
       "      <td>0</td>\n",
       "    </tr>\n",
       "    <tr>\n",
       "      <th>745</th>\n",
       "      <td>In a word, it is embarrassing.</td>\n",
       "      <td>0</td>\n",
       "    </tr>\n",
       "    <tr>\n",
       "      <th>746</th>\n",
       "      <td>Exceptionally bad!</td>\n",
       "      <td>0</td>\n",
       "    </tr>\n",
       "    <tr>\n",
       "      <th>747</th>\n",
       "      <td>All in all its an insult to one's intelligence...</td>\n",
       "      <td>0</td>\n",
       "    </tr>\n",
       "  </tbody>\n",
       "</table>\n",
       "<p>748 rows × 2 columns</p>\n",
       "</div>"
      ],
      "text/plain": [
       "                                              Sentence  Sentiment\n",
       "0    A very, very, very slow-moving, aimless movie ...          0\n",
       "1    Not sure who was more lost - the flat characte...          0\n",
       "2    Attempting artiness with black & white and cle...          0\n",
       "3         Very little music or anything to speak of.            0\n",
       "4    The best scene in the movie was when Gerardo i...          1\n",
       "..                                                 ...        ...\n",
       "743  I just got bored watching Jessice Lange take h...          0\n",
       "744  Unfortunately, any virtue in this film's produ...          0\n",
       "745                   In a word, it is embarrassing.            0\n",
       "746                               Exceptionally bad!            0\n",
       "747  All in all its an insult to one's intelligence...          0\n",
       "\n",
       "[748 rows x 2 columns]"
      ]
     },
     "execution_count": 501,
     "metadata": {},
     "output_type": "execute_result"
    }
   ],
   "source": [
    "import pandas as pd\n",
    "df_IMDB = pd.read_csv(\"imdb_labelled.txt\", names = [\"Sentence\", \"Sentiment\"], sep = \"\\t\")\n",
    "df_IMDB"
   ]
  },
  {
   "cell_type": "code",
   "execution_count": 502,
   "metadata": {},
   "outputs": [
    {
     "data": {
      "text/plain": [
       "Index(['Sentence', 'Sentiment'], dtype='object')"
      ]
     },
     "execution_count": 502,
     "metadata": {},
     "output_type": "execute_result"
    }
   ],
   "source": [
    "df_IMDB.columns"
   ]
  },
  {
   "cell_type": "markdown",
   "metadata": {},
   "source": [
    "####  <span style = \"color:red\">Código Original.</span>\n",
    "<!---\n",
    "import pandas as pd\n",
    "\n",
    "df = pd.read_csv('imdb_labelled.txt', \n",
    "                 names = ['sentence', \n",
    "                          'sentiment'], \n",
    "                 sep = '\\t'\n",
    "                )\n",
    "df.head()\n",
    "-->"
   ]
  },
  {
   "cell_type": "markdown",
   "metadata": {},
   "source": [
    "#### Importe a biblioteca [`sklearn.model_selection.train_test_split`](https://scikit-learn.org/stable/modules/generated/sklearn.model_selection.train_test_split.html) e separe o dataset entre conjuntos de treino e teste."
   ]
  },
  {
   "cell_type": "code",
   "execution_count": 503,
   "metadata": {},
   "outputs": [],
   "source": [
    "from sklearn.model_selection import train_test_split\n",
    "X_train, X_test, y_train, y_test = train_test_split(df_IMDB[\"Sentence\"], df_IMDB[\"Sentiment\"], test_size = 0.33, random_state = 42 )"
   ]
  },
  {
   "cell_type": "markdown",
   "metadata": {},
   "source": [
    "####  <span style = \"color:red\">Código Original.</span>\n",
    "<!---\n",
    "# Separação entre train e test\n",
    "\n",
    "from sklearn.model_selection import train_test_split\n",
    "X_train, X_test, y_train, y_test = train_test_split(df['sentence'], \n",
    "                                                    df['sentiment'], \n",
    "                                                    test_size = 0.33, \n",
    "                                                    random_state = 42\n",
    "                                                   )\n",
    "-->"
   ]
  },
  {
   "cell_type": "markdown",
   "metadata": {},
   "source": [
    "#### Importe também a biblioteca [`from sklearn.feature_extraction.text.CountVectorizer`](https://scikit-learn.org/stable/modules/generated/sklearn.feature_extraction.text.CountVectorizer.html).\n",
    "\n",
    "#### Aplique a função [`CountVectorizer()`](https://scikit-learn.org/stable/modules/feature_extraction.html#common-vectorizer-usage) para implementar a tokenização e a contagem de ocorrências em uma única classe. Lembre-se que a lista de opiniões é dada em inglês, de modo que essa deve ser a lingua escolhida para a determinação das palavras de parada `stop_words`."
   ]
  },
  {
   "cell_type": "code",
   "execution_count": 504,
   "metadata": {},
   "outputs": [],
   "source": [
    "from sklearn.feature_extraction.text import CountVectorizer\n",
    "vec = CountVectorizer(stop_words=\"english\")"
   ]
  },
  {
   "cell_type": "markdown",
   "metadata": {},
   "source": [
    "####  <span style = \"color:red\">Código Original.</span>\n",
    "<!---\n",
    "from sklearn.feature_extraction.text import CountVectorizer\n",
    "\n",
    "modelo_cvec = CountVectorizer(stop_words = 'english')\n",
    "-->"
   ]
  },
  {
   "cell_type": "markdown",
   "metadata": {},
   "source": [
    "#### Em seguida, aplique o método [`fit_transform()`](https://scikit-learn.org/stable/modules/generated/sklearn.feature_extraction.text.CountVectorizer.html#sklearn.feature_extraction.text.CountVectorizer.fit_transform) aos dados de treino para que o modelo aprenda o dicionário de vocabulário e retorne o subconjunto como uma matriz termo-documento."
   ]
  },
  {
   "cell_type": "code",
   "execution_count": 505,
   "metadata": {},
   "outputs": [
    {
     "data": {
      "text/plain": [
       "409                                 It's just painful!  \n",
       "244    I let my girlfriend talk me into seeing this -...\n",
       "327    From here on the Widmark character turns unint...\n",
       "350    The original Body and Soul (1947) is a masterp...\n",
       "481                  The aerial scenes were well-done.  \n",
       "                             ...                        \n",
       "71     This was a poor remake of \"My Best Friends Wed...\n",
       "106    Crash is a depressing little nothing, that pro...\n",
       "270    I knew when I saw the film that more great thi...\n",
       "435    I know that Jim O'Connor was very energetic an...\n",
       "102    I don't think I've ever gone to a movie and di...\n",
       "Name: Sentence, Length: 501, dtype: object"
      ]
     },
     "execution_count": 505,
     "metadata": {},
     "output_type": "execute_result"
    }
   ],
   "source": [
    "X_train"
   ]
  },
  {
   "cell_type": "code",
   "execution_count": 506,
   "metadata": {},
   "outputs": [
    {
     "data": {
      "text/plain": [
       "(501, 2051)"
      ]
     },
     "execution_count": 506,
     "metadata": {},
     "output_type": "execute_result"
    }
   ],
   "source": [
    "X_train = vec.fit_transform(X_train)\n",
    "X_train.shape"
   ]
  },
  {
   "cell_type": "code",
   "execution_count": 507,
   "metadata": {},
   "outputs": [
    {
     "data": {
      "text/plain": [
       "<501x2051 sparse matrix of type '<class 'numpy.int64'>'\n",
       "\twith 4004 stored elements in Compressed Sparse Row format>"
      ]
     },
     "execution_count": 507,
     "metadata": {},
     "output_type": "execute_result"
    }
   ],
   "source": [
    "X_train"
   ]
  },
  {
   "cell_type": "markdown",
   "metadata": {},
   "source": [
    "####  <span style = \"color:red\">Código Original.</span>\n",
    "<!---\n",
    "X_train = modelo_cvec.fit_transform(X_train)\n",
    "X_train.shape\n",
    "-->"
   ]
  },
  {
   "cell_type": "markdown",
   "metadata": {},
   "source": [
    "#### Agora importe a biblioteca [`sklearn.naive_bayes.MultinomialNB`](https://scikit-learn.org/stable/modules/generated/sklearn.naive_bayes.MultinomialNB.html) e instancie um modelo de classificação multinomial para o método Naive Bayes. Ajuste também os dados de treino `X_train` e `y_train`. "
   ]
  },
  {
   "cell_type": "code",
   "execution_count": 508,
   "metadata": {},
   "outputs": [],
   "source": [
    "from sklearn.naive_bayes import MultinomialNB\n",
    "modelNB = MultinomialNB()"
   ]
  },
  {
   "cell_type": "code",
   "execution_count": 509,
   "metadata": {},
   "outputs": [
    {
     "data": {
      "text/plain": [
       "(501,)"
      ]
     },
     "execution_count": 509,
     "metadata": {},
     "output_type": "execute_result"
    }
   ],
   "source": [
    "y_train.shape"
   ]
  },
  {
   "cell_type": "code",
   "execution_count": null,
   "metadata": {},
   "outputs": [],
   "source": []
  },
  {
   "cell_type": "code",
   "execution_count": 510,
   "metadata": {},
   "outputs": [
    {
     "data": {
      "text/plain": [
       "<501x2051 sparse matrix of type '<class 'numpy.int64'>'\n",
       "\twith 4004 stored elements in Compressed Sparse Row format>"
      ]
     },
     "execution_count": 510,
     "metadata": {},
     "output_type": "execute_result"
    }
   ],
   "source": [
    "X_train"
   ]
  },
  {
   "cell_type": "code",
   "execution_count": 511,
   "metadata": {},
   "outputs": [
    {
     "data": {
      "text/plain": [
       "409    0\n",
       "244    0\n",
       "327    0\n",
       "350    1\n",
       "481    1\n",
       "      ..\n",
       "71     0\n",
       "106    0\n",
       "270    1\n",
       "435    0\n",
       "102    0\n",
       "Name: Sentiment, Length: 501, dtype: int64"
      ]
     },
     "execution_count": 511,
     "metadata": {},
     "output_type": "execute_result"
    }
   ],
   "source": [
    "y_train"
   ]
  },
  {
   "cell_type": "code",
   "execution_count": 512,
   "metadata": {},
   "outputs": [
    {
     "data": {
      "text/plain": [
       "MultinomialNB()"
      ]
     },
     "execution_count": 512,
     "metadata": {},
     "output_type": "execute_result"
    }
   ],
   "source": [
    "modelNB.fit(X_train, y_train)"
   ]
  },
  {
   "cell_type": "markdown",
   "metadata": {},
   "source": [
    "####  <span style = \"color:red\">Código Original.</span>\n",
    "<!---\n",
    "from sklearn.naive_bayes import MultinomialNB\n",
    "modelo_NB = MultinomialNB()\n",
    "modelo_NB.fit(X_train, y_train)\n",
    "-->"
   ]
  },
  {
   "cell_type": "markdown",
   "metadata": {},
   "source": [
    "#### Agora com o modelo treinado, você pode rearranjar os dados de teste `X_test` para que e retorne trambém uma matriz termo-documento e então realizar as previsões/classificações com o método [`,predict()`](https://scikit-learn.org/stable/modules/generated/sklearn.naive_bayes.MultinomialNB.html#sklearn.naive_bayes.MultinomialNB.predict), para que o modelo retorne os sentimentos associados aos comentários como positivos ( $1$ ) ou negativos ( $0$ )."
   ]
  },
  {
   "cell_type": "raw",
   "metadata": {},
   "source": [
    "X_test = modelo_cvec.transform(X_test)\n",
    "labels_previstas = modelo_NB.predict(X_test)\n",
    "labels_previstas"
   ]
  },
  {
   "cell_type": "raw",
   "metadata": {},
   "source": [
    "X_train"
   ]
  },
  {
   "cell_type": "raw",
   "metadata": {},
   "source": [
    "X_test = modelo_tfidf.transform(test.data)"
   ]
  },
  {
   "cell_type": "raw",
   "metadata": {},
   "source": [
    "X_train = vec.fit_transform(X_train)"
   ]
  },
  {
   "cell_type": "raw",
   "metadata": {},
   "source": [
    "X_train = modelo_tfidf.fit_transform(train.data)"
   ]
  },
  {
   "cell_type": "code",
   "execution_count": 513,
   "metadata": {},
   "outputs": [
    {
     "data": {
      "text/plain": [
       "array([1, 1, 0, 1, 1, 0, 1, 1, 0, 1, 1, 1, 1, 1, 1, 0, 0, 0, 1, 0, 1, 1,\n",
       "       0, 0, 1, 0, 1, 0, 0, 0, 0, 0, 1, 0, 0, 1, 1, 1, 0, 0, 1, 1, 0, 0,\n",
       "       0, 1, 1, 1, 0, 1, 1, 1, 0, 0, 1, 1, 1, 0, 0, 0, 0, 1, 1, 1, 0, 0,\n",
       "       1, 1, 1, 1, 1, 1, 1, 1, 1, 1, 1, 1, 1, 0, 0, 1, 0, 1, 0, 1, 1, 1,\n",
       "       0, 1, 0, 1, 1, 1, 0, 1, 1, 1, 0, 0, 1, 1, 0, 1, 1, 0, 0, 0, 1, 1,\n",
       "       1, 1, 0, 1, 1, 0, 1, 1, 1, 0, 1, 0, 0, 0, 0, 1, 1, 1, 0, 0, 1, 0,\n",
       "       0, 1, 0, 0, 1, 0, 1, 1, 0, 1, 0, 1, 1, 1, 1, 0, 1, 0, 1, 1, 0, 0,\n",
       "       0, 1, 1, 0, 0, 1, 0, 0, 1, 0, 1, 1, 0, 1, 1, 0, 0, 1, 0, 1, 1, 0,\n",
       "       1, 1, 0, 1, 1, 0, 1, 1, 0, 1, 0, 1, 1, 1, 1, 0, 1, 1, 1, 0, 0, 1,\n",
       "       1, 1, 1, 1, 1, 1, 0, 1, 1, 1, 1, 1, 0, 1, 1, 1, 1, 1, 0, 0, 1, 0,\n",
       "       0, 1, 0, 1, 0, 0, 1, 1, 1, 0, 1, 1, 0, 0, 1, 0, 1, 0, 0, 0, 0, 1,\n",
       "       1, 1, 1, 1, 1], dtype=int64)"
      ]
     },
     "execution_count": 513,
     "metadata": {},
     "output_type": "execute_result"
    }
   ],
   "source": [
    "X_test = vec.transform(X_test)\n",
    "labels_previstas = modelNB.predict(X_test)\n",
    "labels_previstas"
   ]
  },
  {
   "cell_type": "markdown",
   "metadata": {},
   "source": [
    "####  <span style = \"color:red\">Código Original.</span>\n",
    "<!---\n",
    "# Previsão\n",
    "X_test = modelo_cvec.transform(X_test)\n",
    "labels_previstas = modelo_NB.predict(X_test)\n",
    "labels_previstas\n",
    "-->"
   ]
  },
  {
   "cell_type": "markdown",
   "metadata": {},
   "source": [
    "#### Depois de ralizar as classificações dos comentários, importe a biblioteca [`sklearn.metrics.confusion_matrix`](https://scikit-learn.org/stable/modules/generated/sklearn.metrics.confusion_matrix.html), para o cálculo da matriz de confusão.\n",
    "\n",
    "#### Importe também as bibliotecas [`matplotlib.pyplot`](https://matplotlib.org/3.1.1/api/_as_gen/matplotlib.pyplot.html) e [`seaborn`](https://seaborn.pydata.org/) para a representação gráfica dos resultados.\n",
    "\n",
    "#### Crie um objeto para receber a matriz de confusão entre dados de teste e previstos e o submeta ao mapa de calor ."
   ]
  },
  {
   "cell_type": "code",
   "execution_count": 514,
   "metadata": {},
   "outputs": [],
   "source": [
    "import matplotlib.pyplot as plt\n",
    "import seaborn as sns"
   ]
  },
  {
   "cell_type": "markdown",
   "metadata": {},
   "source": [
    "####  <span style = \"color:red\">Código Original.</span>\n",
    "<!---\n",
    "from sklearn.metrics import confusion_matrix\n",
    "%matplotlib inline\n",
    "import matplotlib.pyplot as plt\n",
    "import seaborn as sns\n",
    "-->"
   ]
  },
  {
   "cell_type": "code",
   "execution_count": 515,
   "metadata": {},
   "outputs": [
    {
     "data": {
      "text/plain": [
       "580    0\n",
       "356    0\n",
       "133    0\n",
       "250    1\n",
       "299    1\n",
       "      ..\n",
       "163    1\n",
       "338    0\n",
       "657    0\n",
       "74     0\n",
       "331    0\n",
       "Name: Sentiment, Length: 247, dtype: int64"
      ]
     },
     "execution_count": 515,
     "metadata": {},
     "output_type": "execute_result"
    }
   ],
   "source": [
    "y_test"
   ]
  },
  {
   "cell_type": "code",
   "execution_count": 516,
   "metadata": {},
   "outputs": [],
   "source": [
    "y_test = pd.array(y_test)"
   ]
  },
  {
   "cell_type": "code",
   "execution_count": 517,
   "metadata": {},
   "outputs": [
    {
     "data": {
      "text/plain": [
       "<PandasArray>\n",
       "[0, 0, 0, 1, 1, 0, 0, 1, 0, 1,\n",
       " ...\n",
       " 0, 0, 0, 0, 1, 1, 0, 0, 0, 0]\n",
       "Length: 247, dtype: int64"
      ]
     },
     "execution_count": 517,
     "metadata": {},
     "output_type": "execute_result"
    }
   ],
   "source": [
    "y_test"
   ]
  },
  {
   "cell_type": "code",
   "execution_count": 519,
   "metadata": {},
   "outputs": [
    {
     "data": {
      "text/plain": [
       "array([1, 1, 0, 1, 1, 0, 1, 1, 0, 1, 1, 1, 1, 1, 1, 0, 0, 0, 1, 0, 1, 1,\n",
       "       0, 0, 1, 0, 1, 0, 0, 0, 0, 0, 1, 0, 0, 1, 1, 1, 0, 0, 1, 1, 0, 0,\n",
       "       0, 1, 1, 1, 0, 1, 1, 1, 0, 0, 1, 1, 1, 0, 0, 0, 0, 1, 1, 1, 0, 0,\n",
       "       1, 1, 1, 1, 1, 1, 1, 1, 1, 1, 1, 1, 1, 0, 0, 1, 0, 1, 0, 1, 1, 1,\n",
       "       0, 1, 0, 1, 1, 1, 0, 1, 1, 1, 0, 0, 1, 1, 0, 1, 1, 0, 0, 0, 1, 1,\n",
       "       1, 1, 0, 1, 1, 0, 1, 1, 1, 0, 1, 0, 0, 0, 0, 1, 1, 1, 0, 0, 1, 0,\n",
       "       0, 1, 0, 0, 1, 0, 1, 1, 0, 1, 0, 1, 1, 1, 1, 0, 1, 0, 1, 1, 0, 0,\n",
       "       0, 1, 1, 0, 0, 1, 0, 0, 1, 0, 1, 1, 0, 1, 1, 0, 0, 1, 0, 1, 1, 0,\n",
       "       1, 1, 0, 1, 1, 0, 1, 1, 0, 1, 0, 1, 1, 1, 1, 0, 1, 1, 1, 0, 0, 1,\n",
       "       1, 1, 1, 1, 1, 1, 0, 1, 1, 1, 1, 1, 0, 1, 1, 1, 1, 1, 0, 0, 1, 0,\n",
       "       0, 1, 0, 1, 0, 0, 1, 1, 1, 0, 1, 1, 0, 0, 1, 0, 1, 0, 0, 0, 0, 1,\n",
       "       1, 1, 1, 1, 1], dtype=int64)"
      ]
     },
     "execution_count": 519,
     "metadata": {},
     "output_type": "execute_result"
    }
   ],
   "source": [
    "labels_previstas"
   ]
  },
  {
   "cell_type": "code",
   "execution_count": 520,
   "metadata": {},
   "outputs": [
    {
     "data": {
      "text/plain": [
       "(2, 2)"
      ]
     },
     "execution_count": 520,
     "metadata": {},
     "output_type": "execute_result"
    }
   ],
   "source": [
    "cmatrix = confusion_matrix(y_test, labels_previstas) \n",
    "cmatrix.shape"
   ]
  },
  {
   "cell_type": "markdown",
   "metadata": {},
   "source": [
    "####  <span style = \"color:red\">Código Original.</span>\n",
    "<!---\n",
    "# Agora calculamos a matriz de confusão\n",
    "mat = confusion_matrix(y_test, \n",
    "                       labels_previstas\n",
    "                      )\n",
    "mat.shape\n",
    "-->"
   ]
  },
  {
   "cell_type": "code",
   "execution_count": 530,
   "metadata": {},
   "outputs": [
    {
     "data": {
      "text/plain": [
       "Text(0.5, 115.05312499999997, 'Etiquetas previstas')"
      ]
     },
     "execution_count": 530,
     "metadata": {},
     "output_type": "execute_result"
    },
    {
     "data": {
      "image/png": "[encoded data removed]",
      "text/plain": [
       "<Figure size 720x720 with 2 Axes>"
      ]
     },
     "metadata": {},
     "output_type": "display_data"
    }
   ],
   "source": [
    "with sns.axes_style(\"white\"):\n",
    "    f, ax = plt.subplots(figsize = (10, 10))\n",
    "    ax = sns.heatmap(cmatrix.T,\n",
    "                    square = True,\n",
    "                     annot = True,\n",
    "                    fmt = \"d\", \n",
    "                    cbar = True, \n",
    "                     linewidths=5,\n",
    "                    xticklabels = [\"negativo\", \"positivo\"], yticklabels = [\"negativo\", \"positivo\"],\n",
    "                    cmap = None)\n",
    "plt.ylabel(\"Etiquetas verdadeiras\")\n",
    "plt.xlabel(\"Etiquetas previstas\")"
   ]
  },
  {
   "cell_type": "markdown",
   "metadata": {},
   "source": [
    "####  <span style = \"color:red\">Código Original.</span>\n",
    "<!---\n",
    "with sns.axes_style(\"white\"):\n",
    "    f, ax = plt.subplots(figsize = (10, 10))\n",
    "    ax = sns.heatmap(mat.T,\n",
    "                     square = True,\n",
    "                     annot = True,\n",
    "                     fmt = 'd',\n",
    "                     cbar = True,\n",
    "                     xticklabels=['negativo','positivo'], \n",
    "                     yticklabels=['negativo','positivo'],\n",
    "                     cmap = None\n",
    "                    )\n",
    "\n",
    "plt.ylabel('Etiquetas verdadeiras')\n",
    "plt.xlabel('Etiquetas previstas');\n",
    "-->"
   ]
  },
  {
   "cell_type": "markdown",
   "metadata": {},
   "source": [
    "#### importe a biblioteca [`sklearn.metrics.accuracy_score`](https://scikit-learn.org/stable/modules/generated/sklearn.metrics.accuracy_score.html) e realize a subsequente confrontação dos resultados classificados e observados para a medida da acurácia das classificações. "
   ]
  },
  {
   "cell_type": "code",
   "execution_count": 527,
   "metadata": {},
   "outputs": [
    {
     "data": {
      "text/plain": [
       "0.7368421052631579"
      ]
     },
     "execution_count": 527,
     "metadata": {},
     "output_type": "execute_result"
    }
   ],
   "source": [
    "from sklearn.metrics import accuracy_score\n",
    "accuracy_score(y_test, labels_previstas)"
   ]
  },
  {
   "cell_type": "markdown",
   "metadata": {},
   "source": [
    "####  <span style = \"color:red\">Código Original.</span>\n",
    "<!---\n",
    "# Primeiro, calculamos a precisão geral do modelo\n",
    "from sklearn.metrics import accuracy_score\n",
    "accuracy_score(y_test, labels_previstas)\n",
    "-->"
   ]
  },
  {
   "cell_type": "code",
   "execution_count": null,
   "metadata": {},
   "outputs": [],
   "source": []
  },
  {
   "cell_type": "code",
   "execution_count": null,
   "metadata": {},
   "outputs": [],
   "source": []
  }
 ],
 "metadata": {
  "colab": {
   "default_view": {},
   "name": "Práctica_Guiada_Naive_Bayes_pt_br.ipynb",
   "provenance": [],
   "version": "0.3.2",
   "views": {}
  },
  "kernelspec": {
   "display_name": "Python 3",
   "language": "python",
   "name": "python3"
  },
  "language_info": {
   "codemirror_mode": {
    "name": "ipython",
    "version": 3
   },
   "file_extension": ".py",
   "mimetype": "text/x-python",
   "name": "python",
   "nbconvert_exporter": "python",
   "pygments_lexer": "ipython3",
   "version": "3.8.5"
  }
 },
 "nbformat": 4,
 "nbformat_minor": 4
}
