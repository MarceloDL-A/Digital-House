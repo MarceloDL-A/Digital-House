{
 "cells": [
  {
   "cell_type": "markdown",
   "metadata": {},
   "source": [
    "# PRÁTICA INDEPENDENTE: Naive Bayes - Solução."
   ]
  },
  {
   "cell_type": "markdown",
   "metadata": {},
   "source": [
    "#### Nessa prática independente vamos explorar o dataset [`iris`](https://scikit-learn.org/stable/modules/generated/sklearn.datasets.load_iris.html) e realizar a separação das espécies das flores com o auxílio do método de Naive Bayes."
   ]
  },
  {
   "cell_type": "markdown",
   "metadata": {},
   "source": [
    "#### Exercício 1: importe as bibliotecas necessárias para a aplicação do modelo. "
   ]
  },
  {
   "cell_type": "code",
   "execution_count": null,
   "metadata": {},
   "outputs": [],
   "source": []
  },
  {
   "cell_type": "code",
   "execution_count": null,
   "metadata": {},
   "outputs": [],
   "source": []
  },
  {
   "cell_type": "markdown",
   "metadata": {},
   "source": [
    "#### Exercício 2: Plote a dispersão das espécies de flores para os atributos `sepal_length` e `sepal_width`. \n",
    "\n",
    "#### Você pode aplicar os métodos [`FacetGrid()`](https://seaborn.pydata.org/generated/seaborn.FacetGrid.html) e [`map()`](https://seaborn.pydata.org/generated/seaborn.FacetGrid.map.html) para isso.\n",
    "\n",
    "#### Depois crie um novo dataframe com os atributos `sepal_length`, `sepal_width` e `species` para a posterior classificação das espécies de flores."
   ]
  },
  {
   "cell_type": "code",
   "execution_count": null,
   "metadata": {},
   "outputs": [],
   "source": []
  },
  {
   "cell_type": "code",
   "execution_count": null,
   "metadata": {},
   "outputs": [],
   "source": []
  },
  {
   "cell_type": "markdown",
   "metadata": {},
   "source": [
    "#### Exercício 3: Subdivida o dataset secundário criado na questão anterior entre atributos descritivos e targets e substitua os nomes das espécies associadas às observações pode valores numéricos `(0, 1, 2)`. Instancie um modelo [`GaussianNB()`](https://scikit-learn.org/stable/modules/generated/sklearn.naive_bayes.GaussianNB.html) e ajuste os dados com o método [`.fit()`](https://scikit-learn.org/stable/modules/generated/sklearn.naive_bayes.GaussianNB.html#sklearn.naive_bayes.GaussianNB.fit).\n",
    "\n",
    "#### Em seguida use o método [`.linspace()`](https://numpy.org/doc/stable/reference/generated/numpy.linspace.html) para criar duas listas `X` e `y`, de até `100` pontos, espaçados uniformemente dentro do intervalo especificado na primeira dispersão plotada para (`sepal_length`, `sepal_width`).\n",
    "\n",
    "#### Por fim monte, com o auxílio do método [`.meshgrid()`](https://numpy.org/doc/stable/reference/generated/numpy.meshgrid.html), uma matriz de coordenadas a partir dos vetores de coordenadas `X`  e `Y`. "
   ]
  },
  {
   "cell_type": "code",
   "execution_count": null,
   "metadata": {},
   "outputs": [],
   "source": []
  },
  {
   "cell_type": "code",
   "execution_count": null,
   "metadata": {},
   "outputs": [],
   "source": []
  },
  {
   "cell_type": "markdown",
   "metadata": {},
   "source": [
    "#### Exercício 4: Para terminar, vamos delinear os limites de decisão entre os diferentes campos para as espécies das flores do dataset. Para isso estude as funções:\n",
    "\n",
    "* [`FacetGrid()`](https://seaborn.pydata.org/generated/seaborn.FacetGrid.html) para inicializar um objeto de plotagem com os dados das espécies das flores.\n",
    "\n",
    "* [`np.array()`](https://numpy.org/doc/stable/reference/generated/numpy.array.html) para criar um arranjo que receba as previsões realizadas.\n",
    "\n",
    "* [`.predict()`](https://scikit-learn.org/stable/modules/generated/sklearn.naive_bayes.MultinomialNB.html#sklearn.naive_bayes.MultinomialNB.predict) para executar a classificação dos dados em `X` e `Y`.\n",
    "\n",
    "* [`zip()`](https://docs.python.org/3.3/library/functions.html#zip) para criar um iterador que agregue elementos de `np.ravel(X)` e `np.ravel(Y)`.\n",
    "\n",
    "* [`.ravel()`](https://numpy.org/doc/stable/reference/generated/numpy.ravel.html) que converterá as matrizes `X` e `Y` às formas apropriadas para as predições.\n",
    "\n",
    "* [`.reshape()`](https://numpy.org/doc/stable/reference/generated/numpy.reshape.html) para alterar a forma da matriz de previões, de modo a submetê-la à mesma forma das matrizes `X` e `Y` definidas anteriormente.\n",
    "\n",
    "* [`.contour()`](https://matplotlib.org/3.2.2/api/_as_gen/matplotlib.pyplot.contour.html) para desenhar as linhas de delineação entre as classificações das espécies.\n",
    "\n",
    "* [`.contourf()`](https://matplotlib.org/api/_as_gen/matplotlib.pyplot.contourf.html) para preencher os espaços de classificação com as cores adequadas para cada espécie.\n",
    "\n",
    "    1. Instancie um objeto que receba o arranjo gráfico defido por `.FacetGrid()`.\n",
    "    2. Compute a função de classe prevista para cada valor na grade com as funções `.array()`, `.predict()` e `zip()` e `.ravel()`.\n",
    "    3. Remodele a classe prevista para a forma `.meshgrid()` com a função `.reshape()`.\n",
    "    4. Trace os contornos preenchidos com `.contourf()` e de contorno com `.contour()`.\n",
    "    5. Adicione os eixos 'Sepal length' e 'Sepal width' e o título 'Limites de decisão de Gaussian Naive Bayes' com as funções `.set_xlabel()`, `.set_xlabel()` e `.set_title()`.\n",
    "    6. Plote o gráfico final com a função `.show()`."
   ]
  },
  {
   "cell_type": "code",
   "execution_count": null,
   "metadata": {},
   "outputs": [],
   "source": []
  },
  {
   "cell_type": "markdown",
   "metadata": {},
   "source": [
    "#### Use a função [`.score()`](https://scikit-learn.org/stable/modules/generated/sklearn.naive_bayes.GaussianNB.html#sklearn.naive_bayes.GaussianNB.score) para calcular a curácia de sua classificação."
   ]
  },
  {
   "cell_type": "code",
   "execution_count": null,
   "metadata": {},
   "outputs": [],
   "source": []
  },
  {
   "cell_type": "code",
   "execution_count": null,
   "metadata": {},
   "outputs": [],
   "source": []
  }
 ],
 "metadata": {
  "kernelspec": {
   "display_name": "Python 3",
   "language": "python",
   "name": "python3"
  },
  "language_info": {
   "codemirror_mode": {
    "name": "ipython",
    "version": 3
   },
   "file_extension": ".py",
   "mimetype": "text/x-python",
   "name": "python",
   "nbconvert_exporter": "python",
   "pygments_lexer": "ipython3",
   "version": "3.7.6"
  }
 },
 "nbformat": 4,
 "nbformat_minor": 4
}
