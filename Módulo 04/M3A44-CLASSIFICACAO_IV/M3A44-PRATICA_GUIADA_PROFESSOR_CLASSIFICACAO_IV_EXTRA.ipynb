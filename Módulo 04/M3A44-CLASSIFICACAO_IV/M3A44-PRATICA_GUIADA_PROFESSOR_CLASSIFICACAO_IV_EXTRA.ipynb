{
 "cells": [
  {
   "cell_type": "markdown",
   "metadata": {},
   "source": [
    "# Prática Guiada: Árvore de decisão."
   ]
  },
  {
   "cell_type": "markdown",
   "metadata": {},
   "source": [
    "# Implementação da Árvore de Decisão ([`Decision Tree`](https://www.geeksforgeeks.org/decision-tree-implementation-python/))\n",
    "\n",
    "#### Desenvolver um modelo que faça a predição da classe dos veículos do [`Car Evaluation Data Set`](http://archive.ics.uci.edu/ml/datasets/Car+Evaluation) da UCI utilizando o algoritmo [`sklearn.tree.DecisionTreeClassifier`](https://scikit-learn.org/stable/modules/generated/sklearn.tree.DecisionTreeClassifier.html).\n",
    "\n",
    "## Objetivo: \n",
    "\n",
    "#### Utilizando os códigos usados em aula, chegar em resultado com `Accuracy` $= 0.953757225433526$.\n",
    "\n",
    "## Avançado: \n",
    "\n",
    "#### Melhorar a acurácia com outros algoritmos de classificação."
   ]
  },
  {
   "cell_type": "markdown",
   "metadata": {},
   "source": [
    "--------------------\n",
    "\n",
    "# Importar as biblotecas e verificar os dados"
   ]
  },
  {
   "cell_type": "code",
   "execution_count": 1,
   "metadata": {},
   "outputs": [],
   "source": [
    "import os\n",
    "import numpy as np\n",
    "import pandas as pd\n",
    "import numpy as np, pandas as pd\n",
    "import matplotlib.pyplot as plt\n",
    "from sklearn import tree, metrics\n",
    "from sklearn.model_selection import train_test_split\n",
    "from sklearn import tree\n",
    "from sklearn import metrics"
   ]
  },
  {
   "cell_type": "markdown",
   "metadata": {},
   "source": [
    "#### Acessamos um `dataset`com informações sobre veículos. Valoer de venda/compra, de manutenção, de número de portas, tamanho de bagageiro, nível de segurança e classe."
   ]
  },
  {
   "cell_type": "code",
   "execution_count": 2,
   "metadata": {},
   "outputs": [
    {
     "data": {
      "text/html": [
       "<div>\n",
       "<style scoped>\n",
       "    .dataframe tbody tr th:only-of-type {\n",
       "        vertical-align: middle;\n",
       "    }\n",
       "\n",
       "    .dataframe tbody tr th {\n",
       "        vertical-align: top;\n",
       "    }\n",
       "\n",
       "    .dataframe thead th {\n",
       "        text-align: right;\n",
       "    }\n",
       "</style>\n",
       "<table border=\"1\" class=\"dataframe\">\n",
       "  <thead>\n",
       "    <tr style=\"text-align: right;\">\n",
       "      <th></th>\n",
       "      <th>buying</th>\n",
       "      <th>maint</th>\n",
       "      <th>doors</th>\n",
       "      <th>persons</th>\n",
       "      <th>lug_boot</th>\n",
       "      <th>safety</th>\n",
       "      <th>class</th>\n",
       "    </tr>\n",
       "  </thead>\n",
       "  <tbody>\n",
       "    <tr>\n",
       "      <th>0</th>\n",
       "      <td>vhigh</td>\n",
       "      <td>vhigh</td>\n",
       "      <td>2</td>\n",
       "      <td>2</td>\n",
       "      <td>small</td>\n",
       "      <td>low</td>\n",
       "      <td>unacc</td>\n",
       "    </tr>\n",
       "    <tr>\n",
       "      <th>1</th>\n",
       "      <td>vhigh</td>\n",
       "      <td>vhigh</td>\n",
       "      <td>2</td>\n",
       "      <td>2</td>\n",
       "      <td>small</td>\n",
       "      <td>med</td>\n",
       "      <td>unacc</td>\n",
       "    </tr>\n",
       "    <tr>\n",
       "      <th>2</th>\n",
       "      <td>vhigh</td>\n",
       "      <td>vhigh</td>\n",
       "      <td>2</td>\n",
       "      <td>2</td>\n",
       "      <td>small</td>\n",
       "      <td>high</td>\n",
       "      <td>unacc</td>\n",
       "    </tr>\n",
       "    <tr>\n",
       "      <th>3</th>\n",
       "      <td>vhigh</td>\n",
       "      <td>vhigh</td>\n",
       "      <td>2</td>\n",
       "      <td>2</td>\n",
       "      <td>med</td>\n",
       "      <td>low</td>\n",
       "      <td>unacc</td>\n",
       "    </tr>\n",
       "    <tr>\n",
       "      <th>4</th>\n",
       "      <td>vhigh</td>\n",
       "      <td>vhigh</td>\n",
       "      <td>2</td>\n",
       "      <td>2</td>\n",
       "      <td>med</td>\n",
       "      <td>med</td>\n",
       "      <td>unacc</td>\n",
       "    </tr>\n",
       "  </tbody>\n",
       "</table>\n",
       "</div>"
      ],
      "text/plain": [
       "  buying  maint doors persons lug_boot safety  class\n",
       "0  vhigh  vhigh     2       2    small    low  unacc\n",
       "1  vhigh  vhigh     2       2    small    med  unacc\n",
       "2  vhigh  vhigh     2       2    small   high  unacc\n",
       "3  vhigh  vhigh     2       2      med    low  unacc\n",
       "4  vhigh  vhigh     2       2      med    med  unacc"
      ]
     },
     "execution_count": 2,
     "metadata": {},
     "output_type": "execute_result"
    }
   ],
   "source": [
    "#data = pd.read_csv('http://www.dropbox.com/s/sufjojzkqyc2h79/car.data?dl=1',\\\n",
    "#                   names=['buying','maint','doors','persons','lug_boot','safety','class'])\n",
    "data = pd.read_csv('car.data', \n",
    "                   names = ['buying', 'maint', 'doors', 'persons', 'lug_boot', 'safety', 'class']\n",
    "                  )\n",
    "data.head()\n",
    "#for i in data.columns:\n",
    "#    print(i,':', data[i].unique())"
   ]
  },
  {
   "cell_type": "code",
   "execution_count": 3,
   "metadata": {},
   "outputs": [
    {
     "name": "stdout",
     "output_type": "stream",
     "text": [
      "<class 'pandas.core.frame.DataFrame'>\n",
      "RangeIndex: 1728 entries, 0 to 1727\n",
      "Data columns (total 7 columns):\n",
      " #   Column    Non-Null Count  Dtype \n",
      "---  ------    --------------  ----- \n",
      " 0   buying    1728 non-null   object\n",
      " 1   maint     1728 non-null   object\n",
      " 2   doors     1728 non-null   object\n",
      " 3   persons   1728 non-null   object\n",
      " 4   lug_boot  1728 non-null   object\n",
      " 5   safety    1728 non-null   object\n",
      " 6   class     1728 non-null   object\n",
      "dtypes: object(7)\n",
      "memory usage: 94.6+ KB\n"
     ]
    }
   ],
   "source": [
    "data.info()"
   ]
  },
  {
   "cell_type": "markdown",
   "metadata": {},
   "source": [
    "#### Contando os números de ocorrência."
   ]
  },
  {
   "cell_type": "code",
   "execution_count": 4,
   "metadata": {},
   "outputs": [
    {
     "name": "stdout",
     "output_type": "stream",
     "text": [
      "med      432\n",
      "high     432\n",
      "low      432\n",
      "vhigh    432\n",
      "Name: buying, dtype: int64\n",
      "med      432\n",
      "high     432\n",
      "low      432\n",
      "vhigh    432\n",
      "Name: maint, dtype: int64\n",
      "2        432\n",
      "3        432\n",
      "4        432\n",
      "5more    432\n",
      "Name: doors, dtype: int64\n",
      "more    576\n",
      "2       576\n",
      "4       576\n",
      "Name: persons, dtype: int64\n",
      "med      576\n",
      "big      576\n",
      "small    576\n",
      "Name: lug_boot, dtype: int64\n",
      "med     576\n",
      "high    576\n",
      "low     576\n",
      "Name: safety, dtype: int64\n",
      "unacc    1210\n",
      "acc       384\n",
      "good       69\n",
      "vgood      65\n",
      "Name: class, dtype: int64\n"
     ]
    }
   ],
   "source": [
    "for c in data.columns:\n",
    "    print(data[c].value_counts())"
   ]
  },
  {
   "cell_type": "markdown",
   "metadata": {},
   "source": [
    "##### Transformamos os dados em variáveis numéricas com o método [`pd.factorize()`](https://pandas.pydata.org/pandas-docs/stable/reference/api/pandas.factorize.html), que permite obter uma representação numérica de uma matriz em termos de seus valores distintos."
   ]
  },
  {
   "cell_type": "code",
   "execution_count": 5,
   "metadata": {},
   "outputs": [
    {
     "data": {
      "text/plain": [
       "array(['vhigh', 'high', 'med', 'low'], dtype=object)"
      ]
     },
     "execution_count": 5,
     "metadata": {},
     "output_type": "execute_result"
    }
   ],
   "source": [
    "#data.head()\n",
    "data['maint'].unique()"
   ]
  },
  {
   "cell_type": "code",
   "execution_count": 6,
   "metadata": {},
   "outputs": [
    {
     "data": {
      "text/plain": [
       "Index(['buying', 'maint', 'doors', 'persons', 'lug_boot', 'safety', 'class'], dtype='object')"
      ]
     },
     "execution_count": 6,
     "metadata": {},
     "output_type": "execute_result"
    }
   ],
   "source": [
    "data.columns"
   ]
  },
  {
   "cell_type": "code",
   "execution_count": 7,
   "metadata": {},
   "outputs": [
    {
     "name": "stdout",
     "output_type": "stream",
     "text": [
      "0       0\n",
      "1       0\n",
      "2       0\n",
      "3       0\n",
      "4       0\n",
      "       ..\n",
      "1723    3\n",
      "1724    3\n",
      "1725    3\n",
      "1726    3\n",
      "1727    3\n",
      "Name: buying, Length: 1728, dtype: int64 Index(['vhigh', 'high', 'med', 'low'], dtype='object')\n",
      "0       0\n",
      "1       0\n",
      "2       0\n",
      "3       0\n",
      "4       0\n",
      "       ..\n",
      "1723    3\n",
      "1724    3\n",
      "1725    3\n",
      "1726    3\n",
      "1727    3\n",
      "Name: maint, Length: 1728, dtype: int64 Index(['vhigh', 'high', 'med', 'low'], dtype='object')\n",
      "0       0\n",
      "1       0\n",
      "2       0\n",
      "3       0\n",
      "4       0\n",
      "       ..\n",
      "1723    3\n",
      "1724    3\n",
      "1725    3\n",
      "1726    3\n",
      "1727    3\n",
      "Name: doors, Length: 1728, dtype: int64 Index(['2', '3', '4', '5more'], dtype='object')\n",
      "0       0\n",
      "1       0\n",
      "2       0\n",
      "3       0\n",
      "4       0\n",
      "       ..\n",
      "1723    2\n",
      "1724    2\n",
      "1725    2\n",
      "1726    2\n",
      "1727    2\n",
      "Name: persons, Length: 1728, dtype: int64 Index(['2', '4', 'more'], dtype='object')\n",
      "0       0\n",
      "1       0\n",
      "2       0\n",
      "3       1\n",
      "4       1\n",
      "       ..\n",
      "1723    1\n",
      "1724    1\n",
      "1725    2\n",
      "1726    2\n",
      "1727    2\n",
      "Name: lug_boot, Length: 1728, dtype: int64 Index(['small', 'med', 'big'], dtype='object')\n",
      "0       0\n",
      "1       1\n",
      "2       2\n",
      "3       0\n",
      "4       1\n",
      "       ..\n",
      "1723    1\n",
      "1724    2\n",
      "1725    0\n",
      "1726    1\n",
      "1727    2\n",
      "Name: safety, Length: 1728, dtype: int64 Index(['low', 'med', 'high'], dtype='object')\n",
      "0       0\n",
      "1       0\n",
      "2       0\n",
      "3       0\n",
      "4       0\n",
      "       ..\n",
      "1723    3\n",
      "1724    2\n",
      "1725    0\n",
      "1726    3\n",
      "1727    2\n",
      "Name: class, Length: 1728, dtype: int64 Index(['unacc', 'acc', 'vgood', 'good'], dtype='object')\n"
     ]
    }
   ],
   "source": [
    "for c in data.columns:\n",
    "    data[c],_ = pd.factorize(data[c])\n",
    "    print(data[c],_)"
   ]
  },
  {
   "cell_type": "code",
   "execution_count": 8,
   "metadata": {},
   "outputs": [
    {
     "name": "stdout",
     "output_type": "stream",
     "text": [
      "0    432\n",
      "1    432\n",
      "2    432\n",
      "3    432\n",
      "Name: buying, dtype: int64\n",
      "0    432\n",
      "1    432\n",
      "2    432\n",
      "3    432\n",
      "Name: maint, dtype: int64\n",
      "0    432\n",
      "1    432\n",
      "2    432\n",
      "3    432\n",
      "Name: doors, dtype: int64\n",
      "0    576\n",
      "1    576\n",
      "2    576\n",
      "Name: persons, dtype: int64\n",
      "0    576\n",
      "1    576\n",
      "2    576\n",
      "Name: lug_boot, dtype: int64\n",
      "0    576\n",
      "1    576\n",
      "2    576\n",
      "Name: safety, dtype: int64\n",
      "0    1210\n",
      "1     384\n",
      "3      69\n",
      "2      65\n",
      "Name: class, dtype: int64\n"
     ]
    }
   ],
   "source": [
    "for c in data.columns:\n",
    "    print(data[c].value_counts())"
   ]
  },
  {
   "cell_type": "markdown",
   "metadata": {},
   "source": [
    "#### Criamos uma série com o rótulo de nossa base."
   ]
  },
  {
   "cell_type": "code",
   "execution_count": 9,
   "metadata": {},
   "outputs": [
    {
     "data": {
      "text/plain": [
       "0    0\n",
       "1    0\n",
       "2    0\n",
       "3    0\n",
       "4    0\n",
       "Name: class, dtype: int64"
      ]
     },
     "execution_count": 9,
     "metadata": {},
     "output_type": "execute_result"
    }
   ],
   "source": [
    "y = data['class']\n",
    "y.head()"
   ]
  },
  {
   "cell_type": "markdown",
   "metadata": {},
   "source": [
    "#### E um `dataframe` sem os rótulos."
   ]
  },
  {
   "cell_type": "code",
   "execution_count": 10,
   "metadata": {},
   "outputs": [
    {
     "data": {
      "text/html": [
       "<div>\n",
       "<style scoped>\n",
       "    .dataframe tbody tr th:only-of-type {\n",
       "        vertical-align: middle;\n",
       "    }\n",
       "\n",
       "    .dataframe tbody tr th {\n",
       "        vertical-align: top;\n",
       "    }\n",
       "\n",
       "    .dataframe thead th {\n",
       "        text-align: right;\n",
       "    }\n",
       "</style>\n",
       "<table border=\"1\" class=\"dataframe\">\n",
       "  <thead>\n",
       "    <tr style=\"text-align: right;\">\n",
       "      <th></th>\n",
       "      <th>buying</th>\n",
       "      <th>maint</th>\n",
       "      <th>doors</th>\n",
       "      <th>persons</th>\n",
       "      <th>lug_boot</th>\n",
       "      <th>safety</th>\n",
       "    </tr>\n",
       "  </thead>\n",
       "  <tbody>\n",
       "    <tr>\n",
       "      <th>0</th>\n",
       "      <td>0</td>\n",
       "      <td>0</td>\n",
       "      <td>0</td>\n",
       "      <td>0</td>\n",
       "      <td>0</td>\n",
       "      <td>0</td>\n",
       "    </tr>\n",
       "    <tr>\n",
       "      <th>1</th>\n",
       "      <td>0</td>\n",
       "      <td>0</td>\n",
       "      <td>0</td>\n",
       "      <td>0</td>\n",
       "      <td>0</td>\n",
       "      <td>1</td>\n",
       "    </tr>\n",
       "    <tr>\n",
       "      <th>2</th>\n",
       "      <td>0</td>\n",
       "      <td>0</td>\n",
       "      <td>0</td>\n",
       "      <td>0</td>\n",
       "      <td>0</td>\n",
       "      <td>2</td>\n",
       "    </tr>\n",
       "    <tr>\n",
       "      <th>3</th>\n",
       "      <td>0</td>\n",
       "      <td>0</td>\n",
       "      <td>0</td>\n",
       "      <td>0</td>\n",
       "      <td>1</td>\n",
       "      <td>0</td>\n",
       "    </tr>\n",
       "    <tr>\n",
       "      <th>4</th>\n",
       "      <td>0</td>\n",
       "      <td>0</td>\n",
       "      <td>0</td>\n",
       "      <td>0</td>\n",
       "      <td>1</td>\n",
       "      <td>1</td>\n",
       "    </tr>\n",
       "  </tbody>\n",
       "</table>\n",
       "</div>"
      ],
      "text/plain": [
       "   buying  maint  doors  persons  lug_boot  safety\n",
       "0       0      0      0        0         0       0\n",
       "1       0      0      0        0         0       1\n",
       "2       0      0      0        0         0       2\n",
       "3       0      0      0        0         1       0\n",
       "4       0      0      0        0         1       1"
      ]
     },
     "execution_count": 10,
     "metadata": {},
     "output_type": "execute_result"
    }
   ],
   "source": [
    "X = data.drop(['class'], axis = 1)\n",
    "X.head()"
   ]
  },
  {
   "cell_type": "markdown",
   "metadata": {},
   "source": [
    "#### Realizamos o `Train Test Split`."
   ]
  },
  {
   "cell_type": "code",
   "execution_count": 11,
   "metadata": {},
   "outputs": [
    {
     "data": {
      "text/plain": [
       "((1209, 6), (519, 6), (1209,), (519,))"
      ]
     },
     "execution_count": 11,
     "metadata": {},
     "output_type": "execute_result"
    }
   ],
   "source": [
    "X_train, X_test, y_train, y_test = train_test_split(X, \n",
    "                                                    y, \n",
    "                                                    test_size = 0.3, \n",
    "                                                    random_state = 0\n",
    "                                                   )\n",
    "X_train.shape, X_test.shape, y_train.shape, y_test.shape"
   ]
  },
  {
   "cell_type": "markdown",
   "metadata": {},
   "source": [
    "----------\n",
    "\n",
    "## Objetivo: \n",
    "\n",
    "#### Utilizando os códigos usados em aula, chegar em resultado com `Accuracy`$=0.9826589595375722$."
   ]
  },
  {
   "cell_type": "markdown",
   "metadata": {},
   "source": [
    "## Modelo de árvore de decisão."
   ]
  },
  {
   "cell_type": "code",
   "execution_count": 12,
   "metadata": {},
   "outputs": [
    {
     "data": {
      "text/plain": [
       "DecisionTreeClassifier(criterion='entropy', max_depth=3, random_state=0)"
      ]
     },
     "execution_count": 12,
     "metadata": {},
     "output_type": "execute_result"
    }
   ],
   "source": [
    "clf = tree.DecisionTreeClassifier(criterion = 'entropy', \n",
    "                                  max_depth = 3, \n",
    "                                  random_state = 0\n",
    "                                 )\n",
    "clf.fit(X_train, y_train)"
   ]
  },
  {
   "cell_type": "code",
   "execution_count": 13,
   "metadata": {},
   "outputs": [],
   "source": [
    "y_pred = clf.predict(X_test)"
   ]
  },
  {
   "cell_type": "markdown",
   "metadata": {},
   "source": [
    "#### Medimos os resultados."
   ]
  },
  {
   "cell_type": "code",
   "execution_count": 14,
   "metadata": {},
   "outputs": [
    {
     "name": "stdout",
     "output_type": "stream",
     "text": [
      "Accuracy: 0.815028901734104\n"
     ]
    }
   ],
   "source": [
    "print(\"Accuracy:\", metrics.accuracy_score(y_test, y_pred))"
   ]
  },
  {
   "cell_type": "code",
   "execution_count": 15,
   "metadata": {},
   "outputs": [
    {
     "data": {
      "text/plain": [
       "array([[350,  13,   0,   0],\n",
       "       [ 42,  73,   0,   0],\n",
       "       [  0,  16,   0,   0],\n",
       "       [  0,  25,   0,   0]])"
      ]
     },
     "execution_count": 15,
     "metadata": {},
     "output_type": "execute_result"
    }
   ],
   "source": [
    "cnf_matrix = metrics.confusion_matrix(y_test, y_pred)\n",
    "cnf_matrix"
   ]
  },
  {
   "cell_type": "markdown",
   "metadata": {},
   "source": [
    "## Hiperparâmetros"
   ]
  },
  {
   "cell_type": "markdown",
   "metadata": {},
   "source": [
    "#### Vamos realizar a operação de [`GridSearchCV`](https://towardsdatascience.com/grid-search-for-hyperparameter-tuning-9f63945e8fec#:~:text=What%20is%20GridSearchCV%3F,parameters%20from%20the%20listed%20hyperparameters.), que varre o espaço de parâmetros, testando combinações para a otimização de uma função de perda. Usamos para isso o método [`GridSearchCV()`](https://scikit-learn.org/stable/modules/generated/sklearn.model_selection.GridSearchCV.html)."
   ]
  },
  {
   "cell_type": "code",
   "execution_count": 16,
   "metadata": {},
   "outputs": [
    {
     "name": "stdout",
     "output_type": "stream",
     "text": [
      "Fitting 5 folds for each of 1500 candidates, totalling 7500 fits\n"
     ]
    },
    {
     "name": "stderr",
     "output_type": "stream",
     "text": [
      "[Parallel(n_jobs=1)]: Using backend SequentialBackend with 1 concurrent workers.\n"
     ]
    },
    {
     "name": "stdout",
     "output_type": "stream",
     "text": [
      "Best Parameters: {'criterion': 'gini', 'max_depth': 9, 'min_impurity_decrease': 0.0, 'min_samples_split': 10}\n",
      "****Results****\n",
      "CPU times: user 41.7 s, sys: 484 ms, total: 42.2 s\n",
      "Wall time: 50.3 s\n"
     ]
    },
    {
     "name": "stderr",
     "output_type": "stream",
     "text": [
      "[Parallel(n_jobs=1)]: Done 7500 out of 7500 | elapsed:   50.2s finished\n"
     ]
    },
    {
     "data": {
      "text/plain": [
       "array([[359,   4,   0,   0],\n",
       "       [  4, 101,   1,   9],\n",
       "       [  0,   3,  13,   0],\n",
       "       [  2,   0,   1,  22]])"
      ]
     },
     "execution_count": 16,
     "metadata": {},
     "output_type": "execute_result"
    }
   ],
   "source": [
    "%%time\n",
    "# importando GridSearchCV\n",
    "from sklearn.model_selection import GridSearchCV\n",
    "\n",
    "# criando uma lista com o Grid Searrch dos parâmetros\n",
    "parameters = {\n",
    "    'criterion': ('gini','entropy'),\n",
    "    'max_depth': range(1, 20, 2),\n",
    "    'min_samples_split': range(10, 500, 20),\n",
    "    'min_impurity_decrease': [0.0, 0.05, 0.1]\n",
    "}\n",
    "\n",
    "# instanciando o modelo\n",
    "clf_tree = tree.DecisionTreeClassifier()\n",
    "\n",
    "# parametrizando o modelo\n",
    "clf = GridSearchCV(clf_tree, parameters, verbose = 1)\n",
    "\n",
    "# ajustando o modelo\n",
    "clf.fit(X_train,y_train)\n",
    "\n",
    "# imprimindo os melhores parâmetros\n",
    "print(\"Best Parameters: \" + str(clf.best_params_))\n",
    "\n",
    "# imprimindo os resultados\n",
    "print('****Results****')\n",
    "\n",
    "# fazendo predições\n",
    "y_pred = clf.predict(X_test)\n",
    "\n",
    "# calculando e imprimindo as métricas\n",
    "cnf_matrix = metrics.confusion_matrix(y_test, y_pred)\n",
    "cnf_matrix"
   ]
  },
  {
   "cell_type": "code",
   "execution_count": 17,
   "metadata": {},
   "outputs": [
    {
     "name": "stdout",
     "output_type": "stream",
     "text": [
      "Train Accuracy: 0.9718775847808105\n",
      "Test Accuracy: 0.953757225433526\n"
     ]
    }
   ],
   "source": [
    "print(\"Train Accuracy:\", metrics.accuracy_score(y_train, \n",
    "                                                clf.predict(X_train)\n",
    "                                               )\n",
    "     )\n",
    "print(\"Test Accuracy:\", metrics.accuracy_score(y_test, \n",
    "                                               y_pred\n",
    "                                              )\n",
    "     )"
   ]
  },
  {
   "cell_type": "markdown",
   "metadata": {},
   "source": [
    "#### Verificando a poda [`pruning`](https://towardsdatascience.com/decision-trees-pruning-4241cc266fef) do modelo com o parâmetro o [`ccp_alpha`](https://scikit-learn.org/stable/auto_examples/tree/plot_cost_complexity_pruning.html) (`Cost Complexity Pruning- Alpha`)."
   ]
  },
  {
   "cell_type": "code",
   "execution_count": 18,
   "metadata": {},
   "outputs": [],
   "source": [
    "clf = tree.DecisionTreeClassifier(criterion = 'entropy', \n",
    "                                  max_depth = 9, \n",
    "                                  min_impurity_decrease = 0.0, \n",
    "                                  min_samples_split = 10\n",
    "                                 )\n",
    "clf.fit(X_train, \n",
    "        y_train\n",
    "       )\n",
    "\n",
    "y_pred = clf.predict(X_test)"
   ]
  },
  {
   "cell_type": "markdown",
   "metadata": {},
   "source": [
    "#### Usamos o método [`cost_complexity_pruning_path`](https://scikit-learn.org/stable/modules/generated/sklearn.tree.DecisionTreeClassifier.html#sklearn.tree.DecisionTreeClassifier.cost_complexity_pruning_path), que computa o caminho da poda, durante minimização da [função custo-complexidade](https://www.analyticsvidhya.com/blog/2020/10/cost-complexity-pruning-decision-trees/)."
   ]
  },
  {
   "cell_type": "code",
   "execution_count": 19,
   "metadata": {},
   "outputs": [
    {
     "name": "stdout",
     "output_type": "stream",
     "text": [
      "Number of nodes in the last tree is: 1 with ccp_alpha: 0.2393888154671709\n"
     ]
    },
    {
     "data": {
      "image/png": "[encoded data removed]",
      "text/plain": [
       "<Figure size 864x576 with 1 Axes>"
      ]
     },
     "metadata": {
      "needs_background": "light"
     },
     "output_type": "display_data"
    }
   ],
   "source": [
    "path = clf.cost_complexity_pruning_path(X_train, y_train)\n",
    "ccp_alphas, impurities = path.ccp_alphas, path.impurities\n",
    "\n",
    "clfs = []\n",
    "for ccp_alpha in ccp_alphas:\n",
    "    clf = tree.DecisionTreeClassifier(random_state = 0, \n",
    "                                      ccp_alpha = ccp_alpha\n",
    "                                     )\n",
    "    clf.fit(X_train, y_train)\n",
    "    clfs.append(clf)\n",
    "print(\"Number of nodes in the last tree is: {} with ccp_alpha: {}\".format(\n",
    "      clfs[-1].tree_.node_count, ccp_alphas[-1])\n",
    "     )\n",
    "\n",
    "train_scores = [clf.score(X_train, y_train) for clf in clfs]\n",
    "test_scores = [clf.score(X_test, y_test) for clf in clfs]\n",
    "\n",
    "fig, ax = plt.subplots(figsize = (12, 8))\n",
    "ax.set_xlabel(\"alpha\")\n",
    "ax.set_ylabel(\"accuracy\")\n",
    "ax.set_title(\"Accuracy vs alpha for training and testing sets\")\n",
    "ax.plot(ccp_alphas, \n",
    "        train_scores, \n",
    "        marker = 'o', \n",
    "        label = \"train\", \n",
    "        drawstyle = \"steps-post\"\n",
    "       )\n",
    "ax.plot(ccp_alphas, \n",
    "        test_scores, \n",
    "        marker = 'o', \n",
    "        label = \"test\",\n",
    "        drawstyle = \"steps-post\"\n",
    "       )\n",
    "ax.legend()\n",
    "plt.show()"
   ]
  },
  {
   "cell_type": "code",
   "execution_count": 20,
   "metadata": {},
   "outputs": [
    {
     "data": {
      "text/plain": [
       "array([[360,   3,   0,   0],\n",
       "       [  4, 101,   1,   9],\n",
       "       [  0,   3,  13,   0],\n",
       "       [  2,   0,   1,  22]])"
      ]
     },
     "execution_count": 20,
     "metadata": {},
     "output_type": "execute_result"
    }
   ],
   "source": [
    "clf = tree.DecisionTreeClassifier(criterion = 'entropy', \n",
    "                                  max_depth = 9, \n",
    "                                  min_impurity_decrease = 0.0, \n",
    "                                  min_samples_split = 10, \n",
    "                                  ccp_alpha = 0.0\n",
    "                                 )\n",
    "clf.fit(X_train, y_train)\n",
    "y_pred = clf.predict(X_test)\n",
    "\n",
    "cnf_matrix = metrics.confusion_matrix(y_test, y_pred)\n",
    "cnf_matrix"
   ]
  },
  {
   "cell_type": "code",
   "execution_count": 21,
   "metadata": {},
   "outputs": [
    {
     "name": "stdout",
     "output_type": "stream",
     "text": [
      "Train Accuracy: 0.9710504549214226\n",
      "Test Accuracy: 0.9556840077071291\n"
     ]
    }
   ],
   "source": [
    "print(\"Train Accuracy:\", metrics.accuracy_score(y_train, clf.predict(X_train)))\n",
    "print(\"Test Accuracy:\", metrics.accuracy_score(y_test, y_pred))"
   ]
  },
  {
   "cell_type": "markdown",
   "metadata": {},
   "source": [
    "---------\n",
    "\n",
    "## Avançado: \n",
    "\n",
    "#### Vamos melhorar a acurácia com outros algoritmos de classificação"
   ]
  },
  {
   "cell_type": "markdown",
   "metadata": {},
   "source": [
    "# SVM"
   ]
  },
  {
   "cell_type": "code",
   "execution_count": 29,
   "metadata": {},
   "outputs": [
    {
     "data": {
      "text/plain": [
       "array([[341,  21,   1,   0],\n",
       "       [ 47,  66,   0,   2],\n",
       "       [  0,   2,  14,   0],\n",
       "       [  8,   1,   1,  15]])"
      ]
     },
     "execution_count": 29,
     "metadata": {},
     "output_type": "execute_result"
    }
   ],
   "source": [
    "from sklearn import svm\n",
    "\n",
    "#Use C=1\n",
    "clf = svm.SVC(kernel = 'linear', \n",
    "              C = 1.0, \n",
    "              decision_function_shape = 'ovr'\n",
    "             )\n",
    "clf.fit(X_train, \n",
    "        y_train\n",
    "       )\n",
    "# fazendo predições\n",
    "y_pred = clf.predict(X_test)\n",
    "# calculando e imprimindo as métricas\n",
    "cnf_matrix = metrics.confusion_matrix(y_test, \n",
    "                                      y_pred\n",
    "                                     )\n",
    "cnf_matrix"
   ]
  },
  {
   "cell_type": "code",
   "execution_count": 30,
   "metadata": {},
   "outputs": [
    {
     "name": "stdout",
     "output_type": "stream",
     "text": [
      "Train Accuracy: 0.8618693134822167\n",
      "Test Accuracy: 0.8400770712909441\n"
     ]
    }
   ],
   "source": [
    "print(\"Train Accuracy:\", metrics.accuracy_score(y_train, \n",
    "                                                clf.predict(X_train)\n",
    "                                               )\n",
    "     )\n",
    "print(\"Test Accuracy:\", metrics.accuracy_score(y_test, \n",
    "                                               y_pred\n",
    "                                              )\n",
    "     )"
   ]
  },
  {
   "cell_type": "markdown",
   "metadata": {},
   "source": [
    "# Logistic Regression"
   ]
  },
  {
   "cell_type": "code",
   "execution_count": 31,
   "metadata": {},
   "outputs": [
    {
     "data": {
      "text/plain": [
       "array([[338,  22,   2,   1],\n",
       "       [ 47,  65,   1,   2],\n",
       "       [  0,   5,  11,   0],\n",
       "       [  2,  15,   1,   7]])"
      ]
     },
     "execution_count": 31,
     "metadata": {},
     "output_type": "execute_result"
    }
   ],
   "source": [
    "#importando o modelo de Regressão Logística\n",
    "from sklearn.linear_model import LogisticRegression\n",
    "\n",
    "# instanciando o modelo classificador (clf)\n",
    "clf = LogisticRegression(dual = False, \n",
    "                         max_iter = 5000\n",
    "                        )\n",
    "# ajustando o modelo com os dados de treino\n",
    "clf.fit(X_train, \n",
    "        y_train\n",
    "       )\n",
    "# fazendo predições para os dados de teste\n",
    "y_pred = clf.predict(X_test)\n",
    "\n",
    "# calculando e imprimindo as métricas\n",
    "cnf_matrix = metrics.confusion_matrix(y_test, \n",
    "                                      y_pred\n",
    "                                     )\n",
    "cnf_matrix"
   ]
  },
  {
   "cell_type": "code",
   "execution_count": 32,
   "metadata": {},
   "outputs": [
    {
     "name": "stdout",
     "output_type": "stream",
     "text": [
      "Train Accuracy: 0.8395368072787428\n",
      "Test Accuracy: 0.8111753371868978\n"
     ]
    }
   ],
   "source": [
    "print(\"Train Accuracy:\", metrics.accuracy_score(y_train, \n",
    "                                                clf.predict(X_train)\n",
    "                                               )\n",
    "     )\n",
    "print(\"Test Accuracy:\", metrics.accuracy_score(y_test, \n",
    "                                               y_pred\n",
    "                                              )\n",
    "     )"
   ]
  },
  {
   "cell_type": "markdown",
   "metadata": {},
   "source": [
    "# KNN"
   ]
  },
  {
   "cell_type": "code",
   "execution_count": 33,
   "metadata": {},
   "outputs": [
    {
     "data": {
      "text/plain": [
       "array([[360,   3,   0,   0],\n",
       "       [ 14,  99,   0,   2],\n",
       "       [  0,   3,  13,   0],\n",
       "       [  7,   1,   2,  15]])"
      ]
     },
     "execution_count": 33,
     "metadata": {},
     "output_type": "execute_result"
    }
   ],
   "source": [
    "#implementanto do KNN\n",
    "from sklearn.neighbors import KNeighborsClassifier\n",
    "\n",
    "# instanciando o modelo\n",
    "knn = KNeighborsClassifier()\n",
    "# ajustando o modelo com os dados de treino\n",
    "knn.fit(X_train, \n",
    "        y_train\n",
    "       )\n",
    "# fazendo predições para os dados de teste\n",
    "y_pred = knn.predict(X_test)\n",
    "# calculando e imprimindo as métricas\n",
    "cnf_matrix = metrics.confusion_matrix(y_test, \n",
    "                                      y_pred\n",
    "                                     )\n",
    "cnf_matrix"
   ]
  },
  {
   "cell_type": "code",
   "execution_count": 34,
   "metadata": {},
   "outputs": [
    {
     "name": "stdout",
     "output_type": "stream",
     "text": [
      "Train Accuracy: 0.8395368072787428\n",
      "Test Accuracy: 0.9383429672447013\n"
     ]
    }
   ],
   "source": [
    "print(\"Train Accuracy:\", metrics.accuracy_score(y_train, \n",
    "                                                clf.predict(X_train)\n",
    "                                               )\n",
    "     )\n",
    "print(\"Test Accuracy:\", metrics.accuracy_score(y_test, \n",
    "                                               y_pred\n",
    "                                              )\n",
    "     )"
   ]
  },
  {
   "cell_type": "code",
   "execution_count": null,
   "metadata": {},
   "outputs": [],
   "source": []
  },
  {
   "cell_type": "code",
   "execution_count": null,
   "metadata": {},
   "outputs": [],
   "source": []
  }
 ],
 "metadata": {
  "kernelspec": {
   "display_name": "Python 3",
   "language": "python",
   "name": "python3"
  },
  "language_info": {
   "codemirror_mode": {
    "name": "ipython",
    "version": 3
   },
   "file_extension": ".py",
   "mimetype": "text/x-python",
   "name": "python",
   "nbconvert_exporter": "python",
   "pygments_lexer": "ipython3",
   "version": "3.7.6"
  }
 },
 "nbformat": 4,
 "nbformat_minor": 4
}
