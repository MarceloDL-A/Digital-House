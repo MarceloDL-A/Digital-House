{
 "cells": [
  {
   "cell_type": "markdown",
   "metadata": {},
   "source": [
    "## Limitações na Seleção de Conjuntos de Dados e a Importância da Validação Cruzada"
   ]
  },
  {
   "cell_type": "markdown",
   "metadata": {},
   "source": [
    "#### Neste notebook observaremos como a escolha do conjunto treino e teste para calibração e validação de modelos pode ter um papel fundamental na performance do modelo. O método de validação cruzada (Cross-Validation, CV) será apresentado como uma forma mais criteriosa para estimar a real capacidade de generalização de modelos na predição de novos dados."
   ]
  },
  {
   "cell_type": "markdown",
   "metadata": {},
   "source": [
    "### Importando bibliotecas básicas de trabalho"
   ]
  },
  {
   "cell_type": "code",
   "execution_count": 4,
   "metadata": {},
   "outputs": [],
   "source": [
    "import pandas as pd\n",
    "import numpy as np\n",
    "import matplotlib.pyplot as plt"
   ]
  },
  {
   "cell_type": "markdown",
   "metadata": {},
   "source": [
    "#### Para esta atividade, trabalharemos com uma amostra reduzida da base de dados de preços de casas em boston, disponível no scikitlearn. A redução desta base é uma tentativa de reproduzir um conjunto comumente encontrado em problemas reais do dia-a-dia de um cientista de dados, em que a qualidade e disponibilidade de dados é em muitos casos limitada."
   ]
  },
  {
   "cell_type": "markdown",
   "metadata": {},
   "source": [
    "### Importando a base de estudo"
   ]
  },
  {
   "cell_type": "code",
   "execution_count": 5,
   "metadata": {},
   "outputs": [],
   "source": [
    "from sklearn.datasets import load_boston"
   ]
  },
  {
   "cell_type": "code",
   "execution_count": 6,
   "metadata": {},
   "outputs": [],
   "source": [
    "boston = load_boston()"
   ]
  },
  {
   "cell_type": "code",
   "execution_count": 7,
   "metadata": {},
   "outputs": [
    {
     "name": "stdout",
     "output_type": "stream",
     "text": [
      ".. _boston_dataset:\n",
      "\n",
      "Boston house prices dataset\n",
      "---------------------------\n",
      "\n",
      "**Data Set Characteristics:**  \n",
      "\n",
      "    :Number of Instances: 506 \n",
      "\n",
      "    :Number of Attributes: 13 numeric/categorical predictive. Median Value (attribute 14) is usually the target.\n",
      "\n",
      "    :Attribute Information (in order):\n",
      "        - CRIM     per capita crime rate by town\n",
      "        - ZN       proportion of residential land zoned for lots over 25,000 sq.ft.\n",
      "        - INDUS    proportion of non-retail business acres per town\n",
      "        - CHAS     Charles River dummy variable (= 1 if tract bounds river; 0 otherwise)\n",
      "        - NOX      nitric oxides concentration (parts per 10 million)\n",
      "        - RM       average number of rooms per dwelling\n",
      "        - AGE      proportion of owner-occupied units built prior to 1940\n",
      "        - DIS      weighted distances to five Boston employment centres\n",
      "        - RAD      index of accessibility to radial highways\n",
      "        - TAX      full-value property-tax rate per $10,000\n",
      "        - PTRATIO  pupil-teacher ratio by town\n",
      "        - B        1000(Bk - 0.63)^2 where Bk is the proportion of blacks by town\n",
      "        - LSTAT    % lower status of the population\n",
      "        - MEDV     Median value of owner-occupied homes in $1000's\n",
      "\n",
      "    :Missing Attribute Values: None\n",
      "\n",
      "    :Creator: Harrison, D. and Rubinfeld, D.L.\n",
      "\n",
      "This is a copy of UCI ML housing dataset.\n",
      "https://archive.ics.uci.edu/ml/machine-learning-databases/housing/\n",
      "\n",
      "\n",
      "This dataset was taken from the StatLib library which is maintained at Carnegie Mellon University.\n",
      "\n",
      "The Boston house-price data of Harrison, D. and Rubinfeld, D.L. 'Hedonic\n",
      "prices and the demand for clean air', J. Environ. Economics & Management,\n",
      "vol.5, 81-102, 1978.   Used in Belsley, Kuh & Welsch, 'Regression diagnostics\n",
      "...', Wiley, 1980.   N.B. Various transformations are used in the table on\n",
      "pages 244-261 of the latter.\n",
      "\n",
      "The Boston house-price data has been used in many machine learning papers that address regression\n",
      "problems.   \n",
      "     \n",
      ".. topic:: References\n",
      "\n",
      "   - Belsley, Kuh & Welsch, 'Regression diagnostics: Identifying Influential Data and Sources of Collinearity', Wiley, 1980. 244-261.\n",
      "   - Quinlan,R. (1993). Combining Instance-Based and Model-Based Learning. In Proceedings on the Tenth International Conference of Machine Learning, 236-243, University of Massachusetts, Amherst. Morgan Kaufmann.\n",
      "\n"
     ]
    }
   ],
   "source": [
    "print(boston.DESCR)"
   ]
  },
  {
   "cell_type": "markdown",
   "metadata": {},
   "source": [
    "#### Após carregarmos a base completa, podemos gerar um sub-conjunto a partir do seguinte comando:"
   ]
  },
  {
   "cell_type": "code",
   "execution_count": 10,
   "metadata": {},
   "outputs": [
    {
     "data": {
      "text/html": [
       "<div>\n",
       "<style scoped>\n",
       "    .dataframe tbody tr th:only-of-type {\n",
       "        vertical-align: middle;\n",
       "    }\n",
       "\n",
       "    .dataframe tbody tr th {\n",
       "        vertical-align: top;\n",
       "    }\n",
       "\n",
       "    .dataframe thead th {\n",
       "        text-align: right;\n",
       "    }\n",
       "</style>\n",
       "<table border=\"1\" class=\"dataframe\">\n",
       "  <thead>\n",
       "    <tr style=\"text-align: right;\">\n",
       "      <th></th>\n",
       "      <th>CRIM</th>\n",
       "      <th>ZN</th>\n",
       "      <th>INDUS</th>\n",
       "      <th>CHAS</th>\n",
       "      <th>NOX</th>\n",
       "      <th>RM</th>\n",
       "      <th>AGE</th>\n",
       "      <th>DIS</th>\n",
       "      <th>RAD</th>\n",
       "      <th>TAX</th>\n",
       "      <th>PTRATIO</th>\n",
       "      <th>B</th>\n",
       "      <th>LSTAT</th>\n",
       "    </tr>\n",
       "  </thead>\n",
       "  <tbody>\n",
       "    <tr>\n",
       "      <th>0</th>\n",
       "      <td>0.00632</td>\n",
       "      <td>18.0</td>\n",
       "      <td>2.31</td>\n",
       "      <td>0.0</td>\n",
       "      <td>0.538</td>\n",
       "      <td>6.575</td>\n",
       "      <td>65.2</td>\n",
       "      <td>4.0900</td>\n",
       "      <td>1.0</td>\n",
       "      <td>296.0</td>\n",
       "      <td>15.3</td>\n",
       "      <td>396.90</td>\n",
       "      <td>4.98</td>\n",
       "    </tr>\n",
       "    <tr>\n",
       "      <th>1</th>\n",
       "      <td>0.02731</td>\n",
       "      <td>0.0</td>\n",
       "      <td>7.07</td>\n",
       "      <td>0.0</td>\n",
       "      <td>0.469</td>\n",
       "      <td>6.421</td>\n",
       "      <td>78.9</td>\n",
       "      <td>4.9671</td>\n",
       "      <td>2.0</td>\n",
       "      <td>242.0</td>\n",
       "      <td>17.8</td>\n",
       "      <td>396.90</td>\n",
       "      <td>9.14</td>\n",
       "    </tr>\n",
       "    <tr>\n",
       "      <th>2</th>\n",
       "      <td>0.02729</td>\n",
       "      <td>0.0</td>\n",
       "      <td>7.07</td>\n",
       "      <td>0.0</td>\n",
       "      <td>0.469</td>\n",
       "      <td>7.185</td>\n",
       "      <td>61.1</td>\n",
       "      <td>4.9671</td>\n",
       "      <td>2.0</td>\n",
       "      <td>242.0</td>\n",
       "      <td>17.8</td>\n",
       "      <td>392.83</td>\n",
       "      <td>4.03</td>\n",
       "    </tr>\n",
       "    <tr>\n",
       "      <th>3</th>\n",
       "      <td>0.03237</td>\n",
       "      <td>0.0</td>\n",
       "      <td>2.18</td>\n",
       "      <td>0.0</td>\n",
       "      <td>0.458</td>\n",
       "      <td>6.998</td>\n",
       "      <td>45.8</td>\n",
       "      <td>6.0622</td>\n",
       "      <td>3.0</td>\n",
       "      <td>222.0</td>\n",
       "      <td>18.7</td>\n",
       "      <td>394.63</td>\n",
       "      <td>2.94</td>\n",
       "    </tr>\n",
       "    <tr>\n",
       "      <th>4</th>\n",
       "      <td>0.06905</td>\n",
       "      <td>0.0</td>\n",
       "      <td>2.18</td>\n",
       "      <td>0.0</td>\n",
       "      <td>0.458</td>\n",
       "      <td>7.147</td>\n",
       "      <td>54.2</td>\n",
       "      <td>6.0622</td>\n",
       "      <td>3.0</td>\n",
       "      <td>222.0</td>\n",
       "      <td>18.7</td>\n",
       "      <td>396.90</td>\n",
       "      <td>5.33</td>\n",
       "    </tr>\n",
       "    <tr>\n",
       "      <th>...</th>\n",
       "      <td>...</td>\n",
       "      <td>...</td>\n",
       "      <td>...</td>\n",
       "      <td>...</td>\n",
       "      <td>...</td>\n",
       "      <td>...</td>\n",
       "      <td>...</td>\n",
       "      <td>...</td>\n",
       "      <td>...</td>\n",
       "      <td>...</td>\n",
       "      <td>...</td>\n",
       "      <td>...</td>\n",
       "      <td>...</td>\n",
       "    </tr>\n",
       "    <tr>\n",
       "      <th>501</th>\n",
       "      <td>0.06263</td>\n",
       "      <td>0.0</td>\n",
       "      <td>11.93</td>\n",
       "      <td>0.0</td>\n",
       "      <td>0.573</td>\n",
       "      <td>6.593</td>\n",
       "      <td>69.1</td>\n",
       "      <td>2.4786</td>\n",
       "      <td>1.0</td>\n",
       "      <td>273.0</td>\n",
       "      <td>21.0</td>\n",
       "      <td>391.99</td>\n",
       "      <td>9.67</td>\n",
       "    </tr>\n",
       "    <tr>\n",
       "      <th>502</th>\n",
       "      <td>0.04527</td>\n",
       "      <td>0.0</td>\n",
       "      <td>11.93</td>\n",
       "      <td>0.0</td>\n",
       "      <td>0.573</td>\n",
       "      <td>6.120</td>\n",
       "      <td>76.7</td>\n",
       "      <td>2.2875</td>\n",
       "      <td>1.0</td>\n",
       "      <td>273.0</td>\n",
       "      <td>21.0</td>\n",
       "      <td>396.90</td>\n",
       "      <td>9.08</td>\n",
       "    </tr>\n",
       "    <tr>\n",
       "      <th>503</th>\n",
       "      <td>0.06076</td>\n",
       "      <td>0.0</td>\n",
       "      <td>11.93</td>\n",
       "      <td>0.0</td>\n",
       "      <td>0.573</td>\n",
       "      <td>6.976</td>\n",
       "      <td>91.0</td>\n",
       "      <td>2.1675</td>\n",
       "      <td>1.0</td>\n",
       "      <td>273.0</td>\n",
       "      <td>21.0</td>\n",
       "      <td>396.90</td>\n",
       "      <td>5.64</td>\n",
       "    </tr>\n",
       "    <tr>\n",
       "      <th>504</th>\n",
       "      <td>0.10959</td>\n",
       "      <td>0.0</td>\n",
       "      <td>11.93</td>\n",
       "      <td>0.0</td>\n",
       "      <td>0.573</td>\n",
       "      <td>6.794</td>\n",
       "      <td>89.3</td>\n",
       "      <td>2.3889</td>\n",
       "      <td>1.0</td>\n",
       "      <td>273.0</td>\n",
       "      <td>21.0</td>\n",
       "      <td>393.45</td>\n",
       "      <td>6.48</td>\n",
       "    </tr>\n",
       "    <tr>\n",
       "      <th>505</th>\n",
       "      <td>0.04741</td>\n",
       "      <td>0.0</td>\n",
       "      <td>11.93</td>\n",
       "      <td>0.0</td>\n",
       "      <td>0.573</td>\n",
       "      <td>6.030</td>\n",
       "      <td>80.8</td>\n",
       "      <td>2.5050</td>\n",
       "      <td>1.0</td>\n",
       "      <td>273.0</td>\n",
       "      <td>21.0</td>\n",
       "      <td>396.90</td>\n",
       "      <td>7.88</td>\n",
       "    </tr>\n",
       "  </tbody>\n",
       "</table>\n",
       "<p>506 rows × 13 columns</p>\n",
       "</div>"
      ],
      "text/plain": [
       "        CRIM    ZN  INDUS  CHAS    NOX     RM   AGE     DIS  RAD    TAX  \\\n",
       "0    0.00632  18.0   2.31   0.0  0.538  6.575  65.2  4.0900  1.0  296.0   \n",
       "1    0.02731   0.0   7.07   0.0  0.469  6.421  78.9  4.9671  2.0  242.0   \n",
       "2    0.02729   0.0   7.07   0.0  0.469  7.185  61.1  4.9671  2.0  242.0   \n",
       "3    0.03237   0.0   2.18   0.0  0.458  6.998  45.8  6.0622  3.0  222.0   \n",
       "4    0.06905   0.0   2.18   0.0  0.458  7.147  54.2  6.0622  3.0  222.0   \n",
       "..       ...   ...    ...   ...    ...    ...   ...     ...  ...    ...   \n",
       "501  0.06263   0.0  11.93   0.0  0.573  6.593  69.1  2.4786  1.0  273.0   \n",
       "502  0.04527   0.0  11.93   0.0  0.573  6.120  76.7  2.2875  1.0  273.0   \n",
       "503  0.06076   0.0  11.93   0.0  0.573  6.976  91.0  2.1675  1.0  273.0   \n",
       "504  0.10959   0.0  11.93   0.0  0.573  6.794  89.3  2.3889  1.0  273.0   \n",
       "505  0.04741   0.0  11.93   0.0  0.573  6.030  80.8  2.5050  1.0  273.0   \n",
       "\n",
       "     PTRATIO       B  LSTAT  \n",
       "0       15.3  396.90   4.98  \n",
       "1       17.8  396.90   9.14  \n",
       "2       17.8  392.83   4.03  \n",
       "3       18.7  394.63   2.94  \n",
       "4       18.7  396.90   5.33  \n",
       "..       ...     ...    ...  \n",
       "501     21.0  391.99   9.67  \n",
       "502     21.0  396.90   9.08  \n",
       "503     21.0  396.90   5.64  \n",
       "504     21.0  393.45   6.48  \n",
       "505     21.0  396.90   7.88  \n",
       "\n",
       "[506 rows x 13 columns]"
      ]
     },
     "execution_count": 10,
     "metadata": {},
     "output_type": "execute_result"
    }
   ],
   "source": [
    "pd.DataFrame(boston.data, columns = boston.feature_names)"
   ]
  },
  {
   "cell_type": "code",
   "execution_count": 11,
   "metadata": {},
   "outputs": [
    {
     "data": {
      "text/html": [
       "<div>\n",
       "<style scoped>\n",
       "    .dataframe tbody tr th:only-of-type {\n",
       "        vertical-align: middle;\n",
       "    }\n",
       "\n",
       "    .dataframe tbody tr th {\n",
       "        vertical-align: top;\n",
       "    }\n",
       "\n",
       "    .dataframe thead th {\n",
       "        text-align: right;\n",
       "    }\n",
       "</style>\n",
       "<table border=\"1\" class=\"dataframe\">\n",
       "  <thead>\n",
       "    <tr style=\"text-align: right;\">\n",
       "      <th></th>\n",
       "      <th>MEDV</th>\n",
       "    </tr>\n",
       "  </thead>\n",
       "  <tbody>\n",
       "    <tr>\n",
       "      <th>0</th>\n",
       "      <td>24.0</td>\n",
       "    </tr>\n",
       "    <tr>\n",
       "      <th>1</th>\n",
       "      <td>21.6</td>\n",
       "    </tr>\n",
       "    <tr>\n",
       "      <th>2</th>\n",
       "      <td>34.7</td>\n",
       "    </tr>\n",
       "    <tr>\n",
       "      <th>3</th>\n",
       "      <td>33.4</td>\n",
       "    </tr>\n",
       "    <tr>\n",
       "      <th>4</th>\n",
       "      <td>36.2</td>\n",
       "    </tr>\n",
       "    <tr>\n",
       "      <th>...</th>\n",
       "      <td>...</td>\n",
       "    </tr>\n",
       "    <tr>\n",
       "      <th>501</th>\n",
       "      <td>22.4</td>\n",
       "    </tr>\n",
       "    <tr>\n",
       "      <th>502</th>\n",
       "      <td>20.6</td>\n",
       "    </tr>\n",
       "    <tr>\n",
       "      <th>503</th>\n",
       "      <td>23.9</td>\n",
       "    </tr>\n",
       "    <tr>\n",
       "      <th>504</th>\n",
       "      <td>22.0</td>\n",
       "    </tr>\n",
       "    <tr>\n",
       "      <th>505</th>\n",
       "      <td>11.9</td>\n",
       "    </tr>\n",
       "  </tbody>\n",
       "</table>\n",
       "<p>506 rows × 1 columns</p>\n",
       "</div>"
      ],
      "text/plain": [
       "     MEDV\n",
       "0    24.0\n",
       "1    21.6\n",
       "2    34.7\n",
       "3    33.4\n",
       "4    36.2\n",
       "..    ...\n",
       "501  22.4\n",
       "502  20.6\n",
       "503  23.9\n",
       "504  22.0\n",
       "505  11.9\n",
       "\n",
       "[506 rows x 1 columns]"
      ]
     },
     "execution_count": 11,
     "metadata": {},
     "output_type": "execute_result"
    }
   ],
   "source": [
    " pd.DataFrame(boston.target, columns = ['MEDV'])"
   ]
  },
  {
   "cell_type": "code",
   "execution_count": 16,
   "metadata": {},
   "outputs": [],
   "source": [
    "df = pd.concat([pd.DataFrame(boston.data, columns = boston.feature_names), \n",
    "                pd.DataFrame(boston.target, columns = ['MEDV'])], \n",
    "               axis = 1\n",
    "              ).sample(100, random_state = 0).reset_index(drop = True)"
   ]
  },
  {
   "cell_type": "code",
   "execution_count": 17,
   "metadata": {},
   "outputs": [
    {
     "data": {
      "text/html": [
       "<div>\n",
       "<style scoped>\n",
       "    .dataframe tbody tr th:only-of-type {\n",
       "        vertical-align: middle;\n",
       "    }\n",
       "\n",
       "    .dataframe tbody tr th {\n",
       "        vertical-align: top;\n",
       "    }\n",
       "\n",
       "    .dataframe thead th {\n",
       "        text-align: right;\n",
       "    }\n",
       "</style>\n",
       "<table border=\"1\" class=\"dataframe\">\n",
       "  <thead>\n",
       "    <tr style=\"text-align: right;\">\n",
       "      <th></th>\n",
       "      <th>CRIM</th>\n",
       "      <th>ZN</th>\n",
       "      <th>INDUS</th>\n",
       "      <th>CHAS</th>\n",
       "      <th>NOX</th>\n",
       "      <th>RM</th>\n",
       "      <th>AGE</th>\n",
       "      <th>DIS</th>\n",
       "      <th>RAD</th>\n",
       "      <th>TAX</th>\n",
       "      <th>PTRATIO</th>\n",
       "      <th>B</th>\n",
       "      <th>LSTAT</th>\n",
       "      <th>MEDV</th>\n",
       "    </tr>\n",
       "  </thead>\n",
       "  <tbody>\n",
       "    <tr>\n",
       "      <th>0</th>\n",
       "      <td>0.06724</td>\n",
       "      <td>0.0</td>\n",
       "      <td>3.24</td>\n",
       "      <td>0.0</td>\n",
       "      <td>0.460</td>\n",
       "      <td>6.333</td>\n",
       "      <td>17.2</td>\n",
       "      <td>5.2146</td>\n",
       "      <td>4.0</td>\n",
       "      <td>430.0</td>\n",
       "      <td>16.9</td>\n",
       "      <td>375.21</td>\n",
       "      <td>7.34</td>\n",
       "      <td>22.6</td>\n",
       "    </tr>\n",
       "    <tr>\n",
       "      <th>1</th>\n",
       "      <td>9.23230</td>\n",
       "      <td>0.0</td>\n",
       "      <td>18.10</td>\n",
       "      <td>0.0</td>\n",
       "      <td>0.631</td>\n",
       "      <td>6.216</td>\n",
       "      <td>100.0</td>\n",
       "      <td>1.1691</td>\n",
       "      <td>24.0</td>\n",
       "      <td>666.0</td>\n",
       "      <td>20.2</td>\n",
       "      <td>366.15</td>\n",
       "      <td>9.53</td>\n",
       "      <td>50.0</td>\n",
       "    </tr>\n",
       "    <tr>\n",
       "      <th>2</th>\n",
       "      <td>0.11425</td>\n",
       "      <td>0.0</td>\n",
       "      <td>13.89</td>\n",
       "      <td>1.0</td>\n",
       "      <td>0.550</td>\n",
       "      <td>6.373</td>\n",
       "      <td>92.4</td>\n",
       "      <td>3.3633</td>\n",
       "      <td>5.0</td>\n",
       "      <td>276.0</td>\n",
       "      <td>16.4</td>\n",
       "      <td>393.74</td>\n",
       "      <td>10.50</td>\n",
       "      <td>23.0</td>\n",
       "    </tr>\n",
       "    <tr>\n",
       "      <th>3</th>\n",
       "      <td>24.80170</td>\n",
       "      <td>0.0</td>\n",
       "      <td>18.10</td>\n",
       "      <td>0.0</td>\n",
       "      <td>0.693</td>\n",
       "      <td>5.349</td>\n",
       "      <td>96.0</td>\n",
       "      <td>1.7028</td>\n",
       "      <td>24.0</td>\n",
       "      <td>666.0</td>\n",
       "      <td>20.2</td>\n",
       "      <td>396.90</td>\n",
       "      <td>19.77</td>\n",
       "      <td>8.3</td>\n",
       "    </tr>\n",
       "    <tr>\n",
       "      <th>4</th>\n",
       "      <td>0.05646</td>\n",
       "      <td>0.0</td>\n",
       "      <td>12.83</td>\n",
       "      <td>0.0</td>\n",
       "      <td>0.437</td>\n",
       "      <td>6.232</td>\n",
       "      <td>53.7</td>\n",
       "      <td>5.0141</td>\n",
       "      <td>5.0</td>\n",
       "      <td>398.0</td>\n",
       "      <td>18.7</td>\n",
       "      <td>386.40</td>\n",
       "      <td>12.34</td>\n",
       "      <td>21.2</td>\n",
       "    </tr>\n",
       "    <tr>\n",
       "      <th>...</th>\n",
       "      <td>...</td>\n",
       "      <td>...</td>\n",
       "      <td>...</td>\n",
       "      <td>...</td>\n",
       "      <td>...</td>\n",
       "      <td>...</td>\n",
       "      <td>...</td>\n",
       "      <td>...</td>\n",
       "      <td>...</td>\n",
       "      <td>...</td>\n",
       "      <td>...</td>\n",
       "      <td>...</td>\n",
       "      <td>...</td>\n",
       "      <td>...</td>\n",
       "    </tr>\n",
       "    <tr>\n",
       "      <th>95</th>\n",
       "      <td>0.33983</td>\n",
       "      <td>22.0</td>\n",
       "      <td>5.86</td>\n",
       "      <td>0.0</td>\n",
       "      <td>0.431</td>\n",
       "      <td>6.108</td>\n",
       "      <td>34.9</td>\n",
       "      <td>8.0555</td>\n",
       "      <td>7.0</td>\n",
       "      <td>330.0</td>\n",
       "      <td>19.1</td>\n",
       "      <td>390.18</td>\n",
       "      <td>9.16</td>\n",
       "      <td>24.3</td>\n",
       "    </tr>\n",
       "    <tr>\n",
       "      <th>96</th>\n",
       "      <td>18.49820</td>\n",
       "      <td>0.0</td>\n",
       "      <td>18.10</td>\n",
       "      <td>0.0</td>\n",
       "      <td>0.668</td>\n",
       "      <td>4.138</td>\n",
       "      <td>100.0</td>\n",
       "      <td>1.1370</td>\n",
       "      <td>24.0</td>\n",
       "      <td>666.0</td>\n",
       "      <td>20.2</td>\n",
       "      <td>396.90</td>\n",
       "      <td>37.97</td>\n",
       "      <td>13.8</td>\n",
       "    </tr>\n",
       "    <tr>\n",
       "      <th>97</th>\n",
       "      <td>0.02055</td>\n",
       "      <td>85.0</td>\n",
       "      <td>0.74</td>\n",
       "      <td>0.0</td>\n",
       "      <td>0.410</td>\n",
       "      <td>6.383</td>\n",
       "      <td>35.7</td>\n",
       "      <td>9.1876</td>\n",
       "      <td>2.0</td>\n",
       "      <td>313.0</td>\n",
       "      <td>17.3</td>\n",
       "      <td>396.90</td>\n",
       "      <td>5.77</td>\n",
       "      <td>24.7</td>\n",
       "    </tr>\n",
       "    <tr>\n",
       "      <th>98</th>\n",
       "      <td>4.75237</td>\n",
       "      <td>0.0</td>\n",
       "      <td>18.10</td>\n",
       "      <td>0.0</td>\n",
       "      <td>0.713</td>\n",
       "      <td>6.525</td>\n",
       "      <td>86.5</td>\n",
       "      <td>2.4358</td>\n",
       "      <td>24.0</td>\n",
       "      <td>666.0</td>\n",
       "      <td>20.2</td>\n",
       "      <td>50.92</td>\n",
       "      <td>18.13</td>\n",
       "      <td>14.1</td>\n",
       "    </tr>\n",
       "    <tr>\n",
       "      <th>99</th>\n",
       "      <td>0.14932</td>\n",
       "      <td>25.0</td>\n",
       "      <td>5.13</td>\n",
       "      <td>0.0</td>\n",
       "      <td>0.453</td>\n",
       "      <td>5.741</td>\n",
       "      <td>66.2</td>\n",
       "      <td>7.2254</td>\n",
       "      <td>8.0</td>\n",
       "      <td>284.0</td>\n",
       "      <td>19.7</td>\n",
       "      <td>395.11</td>\n",
       "      <td>13.15</td>\n",
       "      <td>18.7</td>\n",
       "    </tr>\n",
       "  </tbody>\n",
       "</table>\n",
       "<p>100 rows × 14 columns</p>\n",
       "</div>"
      ],
      "text/plain": [
       "        CRIM    ZN  INDUS  CHAS    NOX     RM    AGE     DIS   RAD    TAX  \\\n",
       "0    0.06724   0.0   3.24   0.0  0.460  6.333   17.2  5.2146   4.0  430.0   \n",
       "1    9.23230   0.0  18.10   0.0  0.631  6.216  100.0  1.1691  24.0  666.0   \n",
       "2    0.11425   0.0  13.89   1.0  0.550  6.373   92.4  3.3633   5.0  276.0   \n",
       "3   24.80170   0.0  18.10   0.0  0.693  5.349   96.0  1.7028  24.0  666.0   \n",
       "4    0.05646   0.0  12.83   0.0  0.437  6.232   53.7  5.0141   5.0  398.0   \n",
       "..       ...   ...    ...   ...    ...    ...    ...     ...   ...    ...   \n",
       "95   0.33983  22.0   5.86   0.0  0.431  6.108   34.9  8.0555   7.0  330.0   \n",
       "96  18.49820   0.0  18.10   0.0  0.668  4.138  100.0  1.1370  24.0  666.0   \n",
       "97   0.02055  85.0   0.74   0.0  0.410  6.383   35.7  9.1876   2.0  313.0   \n",
       "98   4.75237   0.0  18.10   0.0  0.713  6.525   86.5  2.4358  24.0  666.0   \n",
       "99   0.14932  25.0   5.13   0.0  0.453  5.741   66.2  7.2254   8.0  284.0   \n",
       "\n",
       "    PTRATIO       B  LSTAT  MEDV  \n",
       "0      16.9  375.21   7.34  22.6  \n",
       "1      20.2  366.15   9.53  50.0  \n",
       "2      16.4  393.74  10.50  23.0  \n",
       "3      20.2  396.90  19.77   8.3  \n",
       "4      18.7  386.40  12.34  21.2  \n",
       "..      ...     ...    ...   ...  \n",
       "95     19.1  390.18   9.16  24.3  \n",
       "96     20.2  396.90  37.97  13.8  \n",
       "97     17.3  396.90   5.77  24.7  \n",
       "98     20.2   50.92  18.13  14.1  \n",
       "99     19.7  395.11  13.15  18.7  \n",
       "\n",
       "[100 rows x 14 columns]"
      ]
     },
     "execution_count": 17,
     "metadata": {},
     "output_type": "execute_result"
    }
   ],
   "source": [
    "df"
   ]
  },
  {
   "cell_type": "markdown",
   "metadata": {},
   "source": [
    "### Análise da variável resposta"
   ]
  },
  {
   "cell_type": "markdown",
   "metadata": {},
   "source": [
    "#### Em seguida, podemos avaliar a distribuição da variável resposta correspondente aos valores de propriedades (MEDV)."
   ]
  },
  {
   "cell_type": "code",
   "execution_count": 18,
   "metadata": {},
   "outputs": [
    {
     "data": {
      "image/png": "[encoded data removed]",
      "text/plain": [
       "<Figure size 1152x432 with 2 Axes>"
      ]
     },
     "metadata": {
      "needs_background": "light"
     },
     "output_type": "display_data"
    }
   ],
   "source": [
    "fig, ax = plt.subplots(1, \n",
    "                       2, \n",
    "                       figsize = (16, 6)\n",
    "                      )\n",
    "df['MEDV'].hist(bins = 20, \n",
    "                ax = ax[0]\n",
    "               )\n",
    "ax[0].set(xlabel = 'valor', \n",
    "          ylabel = 'observacoes'\n",
    "         )\n",
    "ax[1] = plt.scatter(df['MEDV'], \n",
    "                    df['MEDV'], \n",
    "                    s = 5\n",
    "                   )\n",
    "plt.xlabel('valor')\n",
    "plt.ylabel('valor');"
   ]
  },
  {
   "cell_type": "markdown",
   "metadata": {},
   "source": [
    "## Modelo Preditivo"
   ]
  },
  {
   "cell_type": "markdown",
   "metadata": {},
   "source": [
    "#### Nesta etapa, vamos gerar rapidamente um modelo preditivo e avaliar sua performance. Como uma opção para problemas supervisionados de regressão, escolhemos para este exemplo o algorítmo de árvores de decisão."
   ]
  },
  {
   "cell_type": "code",
   "execution_count": 19,
   "metadata": {},
   "outputs": [],
   "source": [
    "from sklearn.tree import DecisionTreeRegressor\n",
    "from sklearn.model_selection import train_test_split\n",
    "from sklearn import metrics"
   ]
  },
  {
   "cell_type": "markdown",
   "metadata": {},
   "source": [
    "Em seguida, podemos gerar uma função que gera e avalia modelos com o algoritmo selecionado. Como métrica de avaliação, escolhemos avaliar o erro médio absolute (absolute mean error, MAE)."
   ]
  },
  {
   "cell_type": "code",
   "execution_count": 20,
   "metadata": {},
   "outputs": [],
   "source": [
    "def pred_price(df):\n",
    "    # separando o conjunto total em conjunto treino e teste\n",
    "    X_train, X_test, y_train, y_test = train_test_split(df.drop(['MEDV'], axis=1), \n",
    "                                                        df['MEDV'], \n",
    "                                                        test_size = 0.3\n",
    "                                                       )\n",
    "    # definindo o modelo\n",
    "    model = DecisionTreeRegressor()\n",
    "    # otimizando os hiperparâmetros do modelo\n",
    "    model.fit(X_train, y_train)\n",
    "    # avaliando o modelo gerado\n",
    "    y_pred = model.predict(X_test)\n",
    "    return metrics.mean_absolute_error(y_test, y_pred)"
   ]
  },
  {
   "cell_type": "markdown",
   "metadata": {},
   "source": [
    "#### Agora, com a nossa função concluída, vamos rodar o modelo:"
   ]
  },
  {
   "cell_type": "code",
   "execution_count": 21,
   "metadata": {},
   "outputs": [
    {
     "data": {
      "text/plain": [
       "4.373333333333333"
      ]
     },
     "execution_count": 21,
     "metadata": {},
     "output_type": "execute_result"
    }
   ],
   "source": [
    "pred_price(df)"
   ]
  },
  {
   "cell_type": "markdown",
   "metadata": {},
   "source": [
    "#### Talvez você tenha observado um valor muito diferente do apresentado acima. Vamos rodar o modelo novamente!"
   ]
  },
  {
   "cell_type": "code",
   "execution_count": 22,
   "metadata": {},
   "outputs": [
    {
     "data": {
      "text/plain": [
       "4.8066666666666675"
      ]
     },
     "execution_count": 22,
     "metadata": {},
     "output_type": "execute_result"
    }
   ],
   "source": [
    "pred_price(df)"
   ]
  },
  {
   "cell_type": "markdown",
   "metadata": {},
   "source": [
    "#### E novamente."
   ]
  },
  {
   "cell_type": "code",
   "execution_count": 23,
   "metadata": {},
   "outputs": [
    {
     "data": {
      "text/plain": [
       "5.4466666666666645"
      ]
     },
     "execution_count": 23,
     "metadata": {},
     "output_type": "execute_result"
    }
   ],
   "source": [
    "pred_price(df)"
   ]
  },
  {
   "cell_type": "markdown",
   "metadata": {},
   "source": [
    "#### E uma última vez."
   ]
  },
  {
   "cell_type": "code",
   "execution_count": 24,
   "metadata": {},
   "outputs": [
    {
     "data": {
      "text/plain": [
       "4.546666666666667"
      ]
     },
     "execution_count": 24,
     "metadata": {},
     "output_type": "execute_result"
    }
   ],
   "source": [
    "pred_price(df)"
   ]
  },
  {
   "cell_type": "markdown",
   "metadata": {},
   "source": [
    "##### Comparando os valores obtidos em cada rodada, podemos observar que o valor de MAE obtido muda drasticamente em cada rodada.\n",
    "\n",
    "- O quanto esta variação é relevante em comparação à distribuição de valores?\n",
    "- O que será que está acontecendo com o modelo? Qual a razão de tal variação?"
   ]
  },
  {
   "cell_type": "markdown",
   "metadata": {},
   "source": [
    "#### Para responder a primeira pergunta, podemos primeiramente obter uma estatística mais rebusta da variação da performance do modelo"
   ]
  },
  {
   "cell_type": "code",
   "execution_count": 25,
   "metadata": {},
   "outputs": [],
   "source": [
    "a = []\n",
    "for i in range(100):\n",
    "    a.append(pred_price(df))"
   ]
  },
  {
   "cell_type": "code",
   "execution_count": 26,
   "metadata": {},
   "outputs": [
    {
     "data": {
      "image/png": "[encoded data removed]",
      "text/plain": [
       "<Figure size 1152x360 with 1 Axes>"
      ]
     },
     "metadata": {
      "needs_background": "light"
     },
     "output_type": "display_data"
    }
   ],
   "source": [
    "fig = plt.figure(figsize = (16, 5)\n",
    "                )\n",
    "plt.plot(a, 'o-')\n",
    "plt.plot(np.repeat(np.array(a).mean(), len(a)), \n",
    "         'r--'\n",
    "        )\n",
    "plt.xlabel('rodada')\n",
    "plt.ylabel('MAE');"
   ]
  },
  {
   "cell_type": "markdown",
   "metadata": {},
   "source": [
    "#### E comparar com a distribuição dos valores da variável resposta da base"
   ]
  },
  {
   "cell_type": "code",
   "execution_count": 27,
   "metadata": {},
   "outputs": [
    {
     "data": {
      "text/plain": [
       "count    100.000000\n",
       "mean      22.185000\n",
       "std        9.137086\n",
       "min        5.600000\n",
       "25%       17.075000\n",
       "50%       20.550000\n",
       "75%       23.825000\n",
       "max       50.000000\n",
       "Name: MEDV, dtype: float64"
      ]
     },
     "execution_count": 27,
     "metadata": {},
     "output_type": "execute_result"
    }
   ],
   "source": [
    "df['MEDV'].describe()"
   ]
  },
  {
   "cell_type": "markdown",
   "metadata": {},
   "source": [
    "#### Pelo gráfico gerado acima, podemos ver que o MAE obtido pelos modelos chega a ser tão alto quanto 7 unidades, que é  próximo do desvio padrão da própria distribuição do conjunto! Ou seja, a performance do modelo é bastante instável para termos uma solução aceitável. "
   ]
  },
  {
   "cell_type": "markdown",
   "metadata": {},
   "source": [
    "#### Porém, se tivessemos limitado nosso estudo a pegar somente o primeiro resultado de validação esterna deste conjunto, possívelmente poderiamos ter sido enganados por um valor baixo de MAE, que nos indicaria um 'bom modelo' para aplicação."
   ]
  },
  {
   "cell_type": "markdown",
   "metadata": {},
   "source": [
    "#### Finalmente, para responder a segunda pergunta, podemos observar novamente a distribuição do conjunto de dados inicial"
   ]
  },
  {
   "cell_type": "code",
   "execution_count": 28,
   "metadata": {},
   "outputs": [
    {
     "data": {
      "image/png": "[encoded data removed]",
      "text/plain": [
       "<Figure size 1152x360 with 1 Axes>"
      ]
     },
     "metadata": {
      "needs_background": "light"
     },
     "output_type": "display_data"
    }
   ],
   "source": [
    "fig = plt.figure(figsize = (16, 5)\n",
    "                )\n",
    "plt.scatter(df['MEDV'], \n",
    "            df['MEDV'], \n",
    "            s = 8\n",
    "           )\n",
    "plt.xlabel('valor')\n",
    "plt.ylabel('valor');"
   ]
  },
  {
   "cell_type": "markdown",
   "metadata": {},
   "source": [
    "#### Nesta distribuição de valores de casas (MEDV), podemos observar uma escasses de observações em certas regiões. Como discutido em sala de aula (ver slides), esta situação pode explicar em uma grande variação na performance do modelo pelo fato de que ao selecionarmos aleatoriamente o conjunto teste e treino, podemos gerar distribuições muito distintas. \n",
    "\n",
    "##### Este fato faz com que, por exemplo, algumas amostras no conjunto teste não possuam um representante similar no conjunto treino. Em outras palavras, podemos gerar distribuições no conjunto treino que não são representativas da distribuição inicial."
   ]
  },
  {
   "cell_type": "markdown",
   "metadata": {},
   "source": [
    "## Validação Cruzada"
   ]
  },
  {
   "cell_type": "markdown",
   "metadata": {},
   "source": [
    "#### Uma forma de obter uma estimativa de performance mais realista do modelo na predição da variável resposta em novas observações é a validação cruzada. Este método consiste em separar o conjunto treino em diversos subconjuntos treinos menores e rodar vários modelos alternando o papel dos subconjuntos como parte do treino ou como um conjunto teste interno (ver slides da aula). A validação cruzada permite avaliar a estabilidade e capacidade de generalização do modelo proposto."
   ]
  },
  {
   "cell_type": "markdown",
   "metadata": {},
   "source": [
    "#### Na etapa anterior, ao executar o modelo diversas vezes e obter uma estimativa da variação de performance e da performance média, já realizamos o tipo mais simples de validação externa: Sub-amostragem Repetitiva Aleatória. Este método consiste em selecionar aleatoriamente subconjuntos treino e teste e avaliar a performance de forma iterativa. Porém, como aprendemos em sala de aula, uma forma mais eficiente de validação cruzada consiste em separar o conjunto treino em K conjuntos de tamanhos iguais e avaliar a performance em todas as permutações possíveis, em um processo conhecido como K-fold (ver slides da aula)."
   ]
  },
  {
   "cell_type": "markdown",
   "metadata": {},
   "source": [
    "#### Para avaliar o modelo utilizando o método K-fold, podemos inicialmente quebrar o conjunto de dados em treino e teste. Ao conjunto teste que não entrará no processo de validação cruzada podemos dar o nome de conjunto Hold-Out."
   ]
  },
  {
   "cell_type": "code",
   "execution_count": 29,
   "metadata": {},
   "outputs": [],
   "source": [
    "X_train, X_test, y_train, y_test = train_test_split(df.drop(['MEDV'], axis=1), \n",
    "                                                    df['MEDV'], \n",
    "                                                    test_size = 0.2, \n",
    "                                                    random_state = 0\n",
    "                                                   )"
   ]
  },
  {
   "cell_type": "markdown",
   "metadata": {},
   "source": [
    "Podemos então importar a função cross_val_score implementada no scikitlearn para gerar a análise de validação cruzada"
   ]
  },
  {
   "cell_type": "code",
   "execution_count": 30,
   "metadata": {},
   "outputs": [],
   "source": [
    "from sklearn.model_selection import cross_val_score"
   ]
  },
  {
   "cell_type": "markdown",
   "metadata": {},
   "source": [
    "#### E definir a função para executar este processo. Por consistência, continuaremos com a métrica de erro médio absoluto (MAE)."
   ]
  },
  {
   "cell_type": "code",
   "execution_count": 31,
   "metadata": {},
   "outputs": [],
   "source": [
    "def run_cv(X_train, y_train, k):\n",
    "    model = DecisionTreeRegressor()\n",
    "    \n",
    "    score = cross_val_score(model, \n",
    "                            X_train, \n",
    "                            y_train, \n",
    "                            scoring = 'neg_mean_absolute_error', \n",
    "                            cv = k\n",
    "                           )\n",
    "    return score*-1"
   ]
  },
  {
   "cell_type": "markdown",
   "metadata": {},
   "source": [
    "#### Vamos então gerar a analizar uma lista de resultados de performance para cada combinação do K-fold."
   ]
  },
  {
   "cell_type": "markdown",
   "metadata": {},
   "source": [
    "#### Primeiramente, quebrando a base de treino em 20 subconjuntos (K=20)"
   ]
  },
  {
   "cell_type": "code",
   "execution_count": 32,
   "metadata": {},
   "outputs": [
    {
     "name": "stdout",
     "output_type": "stream",
     "text": [
      "mean 4.753749999999999\n",
      "std 2.692481139673963\n"
     ]
    }
   ],
   "source": [
    "score20 = run_cv(X_train, y_train, 20)\n",
    "print('mean', score20.mean())\n",
    "print('std', score20.std())"
   ]
  },
  {
   "cell_type": "code",
   "execution_count": 33,
   "metadata": {},
   "outputs": [
    {
     "data": {
      "image/png": "[encoded data removed]",
      "text/plain": [
       "<Figure size 1008x432 with 1 Axes>"
      ]
     },
     "metadata": {
      "needs_background": "light"
     },
     "output_type": "display_data"
    }
   ],
   "source": [
    "fig = plt.figure(figsize = (14,6))\n",
    "plt.bar(range(len(score20)), \n",
    "        score20\n",
    "       )\n",
    "plt.grid()\n",
    "plt.xlabel('Número do fold')\n",
    "plt.ylabel('MAE');"
   ]
  },
  {
   "cell_type": "markdown",
   "metadata": {},
   "source": [
    "#### Podemos observar uma grande variação nos valores de MAE obtidos para cada rodada. Isso significa que nosso modelo é muito instável. Como discutido em sala de aula, uma forma de aumentar a estabilidade de conjuntos de dados com baixa redundância é reduzir o número de K, aumentando o tamanho de cada subconjunto e maximizando a chance de ambos possuirem dados representativos em todas as regiões. Este processo um balanço entre aumento da estabilidade do modelo pela redução do K e diminuição da performance geral dos conjuntos treinos do K-fold, uma vez o total de amostras nos conjuntos treinos passa a ser menor."
   ]
  },
  {
   "cell_type": "markdown",
   "metadata": {},
   "source": [
    "#### Vamos testar a validação cruzada com k=10"
   ]
  },
  {
   "cell_type": "code",
   "execution_count": 34,
   "metadata": {},
   "outputs": [
    {
     "name": "stdout",
     "output_type": "stream",
     "text": [
      "mean 5.0175\n",
      "std 1.535061073703584\n"
     ]
    }
   ],
   "source": [
    "score10 = run_cv(X_train, \n",
    "                 y_train, \n",
    "                 10\n",
    "                )\n",
    "print('mean', score10.mean())\n",
    "print('std', score10.std())"
   ]
  },
  {
   "cell_type": "code",
   "execution_count": 35,
   "metadata": {},
   "outputs": [
    {
     "data": {
      "image/png": "[encoded data removed]",
      "text/plain": [
       "<Figure size 1008x432 with 1 Axes>"
      ]
     },
     "metadata": {
      "needs_background": "light"
     },
     "output_type": "display_data"
    }
   ],
   "source": [
    "fig = plt.figure(figsize = (14,6)\n",
    "                )\n",
    "plt.bar(range(len(score10)), \n",
    "        score10\n",
    "       )\n",
    "plt.grid()\n",
    "plt.xlabel('Número do fold')\n",
    "plt.ylabel('MAE');"
   ]
  },
  {
   "cell_type": "markdown",
   "metadata": {},
   "source": [
    "#### Testemos para $k = 5$."
   ]
  },
  {
   "cell_type": "code",
   "execution_count": 36,
   "metadata": {},
   "outputs": [
    {
     "name": "stdout",
     "output_type": "stream",
     "text": [
      "mean 4.3525\n",
      "std 1.1371400529398306\n"
     ]
    }
   ],
   "source": [
    "score5 = run_cv(X_train, \n",
    "                y_train, \n",
    "                5\n",
    "               )\n",
    "print('mean', score5.mean())\n",
    "print('std', score5.std())"
   ]
  },
  {
   "cell_type": "code",
   "execution_count": 37,
   "metadata": {},
   "outputs": [
    {
     "data": {
      "image/png": "[encoded data removed]",
      "text/plain": [
       "<Figure size 1008x432 with 1 Axes>"
      ]
     },
     "metadata": {
      "needs_background": "light"
     },
     "output_type": "display_data"
    }
   ],
   "source": [
    "fig = plt.figure(figsize = (14,6)\n",
    "                )\n",
    "plt.bar(range(len(score5)), \n",
    "        score5\n",
    "       )\n",
    "plt.grid()\n",
    "plt.xlabel('Número do fold')\n",
    "plt.ylabel('MAE');"
   ]
  },
  {
   "cell_type": "markdown",
   "metadata": {},
   "source": [
    "#### E reduzir mais ainda para $k = 2$."
   ]
  },
  {
   "cell_type": "code",
   "execution_count": 38,
   "metadata": {},
   "outputs": [
    {
     "name": "stdout",
     "output_type": "stream",
     "text": [
      "mean 5.133749999999999\n",
      "std 0.2587500000000005\n"
     ]
    }
   ],
   "source": [
    "score2 = run_cv(X_train, \n",
    "                y_train, \n",
    "                2\n",
    "               )\n",
    "print('mean', score2.mean())\n",
    "print('std', score2.std())"
   ]
  },
  {
   "cell_type": "code",
   "execution_count": 39,
   "metadata": {},
   "outputs": [
    {
     "data": {
      "image/png": "[encoded data removed]",
      "text/plain": [
       "<Figure size 1008x432 with 1 Axes>"
      ]
     },
     "metadata": {
      "needs_background": "light"
     },
     "output_type": "display_data"
    }
   ],
   "source": [
    "fig = plt.figure(figsize = (14,6) )\n",
    "plt.bar(range(len(score2)), \n",
    "        score2\n",
    "       )\n",
    "plt.grid()\n",
    "plt.xlabel('Número do fold')\n",
    "plt.ylabel('MAE');"
   ]
  },
  {
   "cell_type": "markdown",
   "metadata": {},
   "source": [
    "#### Podemos então comparar o desvio médio padrão (std) nas performances em cada valor de `k-fold`."
   ]
  },
  {
   "cell_type": "code",
   "execution_count": 40,
   "metadata": {},
   "outputs": [
    {
     "data": {
      "image/png": "[encoded data removed]",
      "text/plain": [
       "<Figure size 1008x432 with 1 Axes>"
      ]
     },
     "metadata": {
      "needs_background": "light"
     },
     "output_type": "display_data"
    }
   ],
   "source": [
    "fig = plt.figure(figsize=(14,6))\n",
    "plt.bar(range(4), [score20.std(),\n",
    "                   score10.std(),\n",
    "                   score5.std(),\n",
    "                   score2.std()]);\n",
    "plt.xticks(range(4), ('K=20', 'K=10', 'K=5', 'K=2')\n",
    "          )\n",
    "plt.xlabel('Validação Cruzada K-Fold')\n",
    "plt.ylabel('STD');"
   ]
  },
  {
   "cell_type": "markdown",
   "metadata": {},
   "source": [
    "#### Observando o gráfico acima, podemos notar que a partir da variação de performance na análise de K-fold para diferentes valores de K podemos encontrar a faixa de K em que o modelo apresenta a maior estabilidade possível dentro e ter uma ideia mais realista das limitações do modelo e do conjunto de dados para a construção de modelos preditivos "
   ]
  },
  {
   "cell_type": "markdown",
   "metadata": {},
   "source": [
    "## Leave-One-Out (LOO)"
   ]
  },
  {
   "cell_type": "markdown",
   "metadata": {},
   "source": [
    "#### Além de ser uma ferramenta poderosa para avaliar a estabilidade dos modelos preditivos, outra aplicação bastante útil da validação cruzada é a identificação de outliers no conjunto de dados. Ao ajustarmos o número de folds (o valor de K) para o número de elementos no conjunto, podemos identificar quais observações são mais difíceis de serem preditas pelo modelo quando as mesmas se encontram como conjunto teste na validação cruzada. \n",
    "\n",
    "#### O fato destas observações apresentarem um erro grande de predição pode ter como origem uma baixa sua baixíssima representatividade na distribuição de valores da variável resposta (talvez um erro de medida?) ou em uma região específica da distribuição de features."
   ]
  },
  {
   "cell_type": "markdown",
   "metadata": {},
   "source": [
    "#### Para tentarmos identificar outliers no nosso conjunto de dados, vamos utilizar a função que construímos (run_cv) para computar os erros de predição para um K-fold com valor de K correspondendo ao número de observações no nosso conjunto."
   ]
  },
  {
   "cell_type": "code",
   "execution_count": 41,
   "metadata": {},
   "outputs": [],
   "source": [
    "score_LOO = run_cv(X_train, y_train, X_train.shape[0])"
   ]
  },
  {
   "cell_type": "code",
   "execution_count": 42,
   "metadata": {},
   "outputs": [
    {
     "data": {
      "image/png": "[encoded data removed]",
      "text/plain": [
       "<Figure size 1008x432 with 1 Axes>"
      ]
     },
     "metadata": {
      "needs_background": "light"
     },
     "output_type": "display_data"
    }
   ],
   "source": [
    "fig = plt.figure(figsize = (14,6)\n",
    "                )\n",
    "plt.bar(range(len(score_LOO)), \n",
    "        score_LOO\n",
    "       )\n",
    "plt.xticks(np.arange(0, len(score_LOO)+1 , 4.0)\n",
    "          )\n",
    "plt.xlabel('Número do fold')\n",
    "plt.ylabel('MAE');"
   ]
  },
  {
   "cell_type": "markdown",
   "metadata": {},
   "source": [
    "#### A partir do gráfico acima mostrando os erros de predição para cada uma das observações como conjunto teste, podemos selecionar os folds com maior erro e identificar os valores de MEDV da variável resposta. No gráfico apresentado acima, os folds de maior erro de predição (maior MAE) são os folds 20 e 75"
   ]
  },
  {
   "cell_type": "markdown",
   "metadata": {},
   "source": [
    "#### Podemos gerar um novo conjunto treino excluindo estes 2 casos com MAE acima de 20 unidades."
   ]
  },
  {
   "cell_type": "code",
   "execution_count": 43,
   "metadata": {},
   "outputs": [],
   "source": [
    "X_train_filtered = X_train.iloc[np.where(score_LOO < 20)]\n",
    "y_train_filtered = y_train.iloc[np.where(score_LOO < 20)]"
   ]
  },
  {
   "cell_type": "code",
   "execution_count": 44,
   "metadata": {},
   "outputs": [
    {
     "name": "stdout",
     "output_type": "stream",
     "text": [
      "Observações da base original: 80\n",
      "Observações da base filtrada: 78\n"
     ]
    }
   ],
   "source": [
    "print('Observações da base original:', y_train.shape[0])\n",
    "print('Observações da base filtrada:', y_train_filtered.shape[0])"
   ]
  },
  {
   "cell_type": "markdown",
   "metadata": {},
   "source": [
    "#### Finalmente, a fim de avaliar o efeito destes potenciais outliers nos modelos preditivos, podemos executar novamente nosso estudo inicial com a funcão run_cv e comparar a performance média na presença ou ausência destas observações selecionadas"
   ]
  },
  {
   "cell_type": "code",
   "execution_count": 45,
   "metadata": {},
   "outputs": [
    {
     "name": "stdout",
     "output_type": "stream",
     "text": [
      "MAE para o conjunto original: 4.7432\n",
      "STD para o conjunto original: 1.6750\n"
     ]
    }
   ],
   "source": [
    "with_outliers = []\n",
    "for i in range(100):\n",
    "    with_outliers.append(run_cv(X_train, \n",
    "                                y_train, 10)\n",
    "                        )\n",
    "print('MAE para o conjunto original: %1.4f' % np.array(with_outliers).mean())\n",
    "print('STD para o conjunto original: %1.4f' % np.array(with_outliers).std())"
   ]
  },
  {
   "cell_type": "code",
   "execution_count": 46,
   "metadata": {},
   "outputs": [
    {
     "name": "stdout",
     "output_type": "stream",
     "text": [
      "MAE para o conjunto filtrado: 4.0468\n",
      "STD para o conjunto filtrado: 1.3283\n"
     ]
    }
   ],
   "source": [
    "no_outliers = []\n",
    "for i in range(100):\n",
    "    no_outliers.append(run_cv(X_train_filtered, \n",
    "                              y_train_filtered, \n",
    "                              10\n",
    "                             )\n",
    "                      )\n",
    "print('MAE para o conjunto filtrado: %1.4f' % np.array(no_outliers).mean())\n",
    "print('STD para o conjunto filtrado: %1.4f' % np.array(no_outliers).std())"
   ]
  },
  {
   "cell_type": "markdown",
   "metadata": {},
   "source": [
    "#### Comparando os resultados acima, podemos ver que a remoção de apenas 2 observações identificadas pelo método Leave-One-Out como possíveis outliers permite obtermos um modelo com melhor performance (menor MAE) e estabilidade (menor STD)."
   ]
  },
  {
   "cell_type": "markdown",
   "metadata": {},
   "source": [
    "## Estratificação"
   ]
  },
  {
   "cell_type": "markdown",
   "metadata": {},
   "source": [
    "#### Como vimos em sala de aula, a quebra de uma base de forma aleatória pode levar a sub-conjuntos com distribuições muito diferentes, principalmente quando a base de dados é escassa. \n",
    "\n",
    "#### Uma forma eficiente de tentarmos evitar este problema é a estratificação, que busca separar os subconjuntos da forma mais homogênea possível, com base em uma variável resposta (veja slides da aula)."
   ]
  },
  {
   "cell_type": "markdown",
   "metadata": {},
   "source": [
    "#### Estratificação: dividir o dataset em subgrupos homogêneos entre si, de forma a maximizar a similaridade das distribuições dos subconjuntos à distribuição do conjunto original."
   ]
  },
  {
   "cell_type": "markdown",
   "metadata": {},
   "source": [
    "##### Para separar subconjuntos, os métodos de estratificação distribuiem grupos de observações com a mesma variável resposta de forma a equilibrar os subconjuntos finais. Este método é bastante prático quando aplicado a problemas de classificação, em que as próprias categorias podem ser utilizadas como critério para construir os sub-conjuntos. \n",
    "\n",
    "#### Como o problema que enfrentamos neste estudo é um caso de regressão com uma variável resposta contínua, uma alternativa para aplicar o método de estratificação é gerar uma nova variável resposta segmentada por faixas de valores e utiliza-la como índice para agrupar a variável e finalmente gerarmos subconjutos balanceados."
   ]
  },
  {
   "cell_type": "markdown",
   "metadata": {},
   "source": [
    "#### Podemos testar esta estratégia na base original, para separar os conjuntos treino e teste "
   ]
  },
  {
   "cell_type": "code",
   "execution_count": 47,
   "metadata": {},
   "outputs": [],
   "source": [
    "df['FAIXA_VALOR'] = df['MEDV'].astype('O')\n",
    "\n",
    "df.loc[(df['MEDV'] <= 20), \n",
    "       'FAIXA_VALOR'] = 'baixo'\n",
    "\n",
    "df.loc[(df['MEDV'] > 20), \n",
    "       'FAIXA_VALOR'] = 'alto'\n",
    "\n",
    "# df.loc[(df['MEDV']<=10), 'FAIXA_VALOR'] = 'muito-baixo'\n",
    "# df.loc[(df['MEDV']>10) & (df['MEDV']<=20), 'FAIXA_VALOR'] = 'baixo'\n",
    "# df.loc[(df['MEDV']>20) & (df['MEDV']<=30), 'FAIXA_VALOR'] = 'medio'\n",
    "# df.loc[(df['MEDV']>30) & (df['MEDV']<40), 'FAIXA_VALOR'] = 'alto'\n",
    "# df.loc[(df['MEDV']>=40), 'FAIXA_VALOR'] = 'muito-alto'"
   ]
  },
  {
   "cell_type": "code",
   "execution_count": 48,
   "metadata": {},
   "outputs": [
    {
     "data": {
      "text/plain": [
       "alto     55\n",
       "baixo    45\n",
       "Name: FAIXA_VALOR, dtype: int64"
      ]
     },
     "execution_count": 48,
     "metadata": {},
     "output_type": "execute_result"
    }
   ],
   "source": [
    "df['FAIXA_VALOR'].value_counts()"
   ]
  },
  {
   "cell_type": "markdown",
   "metadata": {},
   "source": [
    "#### Partindo desta nova segmentação da distribuição da variável resposta, podemos comparar a performance dos modelos gerados no inicio desta prática (com a função pred_value) com a performance obtida incluindo a etapa de estratificação na construção dos conjuntos de dados."
   ]
  },
  {
   "cell_type": "markdown",
   "metadata": {},
   "source": [
    "#### Incluindo a opção de estratificação na função inicial `'pred_price'`."
   ]
  },
  {
   "cell_type": "code",
   "execution_count": 49,
   "metadata": {},
   "outputs": [],
   "source": [
    "def pred_price_strat(df, strat_label=None):\n",
    "    # separando o conjunto total em conjunto treino e teste\n",
    "    X_train, X_test, y_train, y_test = train_test_split(df.drop(['MEDV'], axis = 1),\n",
    "                                                        df['MEDV'],\n",
    "                                                        test_size = -.3,\n",
    "                                                        stratify = strat_label, \n",
    "                                                        random_state = 0\n",
    "                                                       )\n",
    "    # definindo o modelo\n",
    "    model = DecisionTreeRegressor()\n",
    "    # otimizando os hiperparâmetros do modelo\n",
    "    model.fit(X_train, y_train)\n",
    "    # avaliando o modelo gerado\n",
    "    y_pred = model.predict(X_test)\n",
    "    return metrics.mean_absolute_error(y_test, y_pred)"
   ]
  },
  {
   "cell_type": "markdown",
   "metadata": {},
   "source": [
    "#### Rodando os modelos sem estratificação."
   ]
  },
  {
   "cell_type": "code",
   "execution_count": 50,
   "metadata": {},
   "outputs": [
    {
     "ename": "ValueError",
     "evalue": "test_size=-0.3 should be either positive and smaller than the number of samples 100 or a float in the (0, 1) range",
     "output_type": "error",
     "traceback": [
      "\u001b[1;31m---------------------------------------------------------------------------\u001b[0m",
      "\u001b[1;31mValueError\u001b[0m                                Traceback (most recent call last)",
      "\u001b[1;32m<ipython-input-50-aaa7ed43be02>\u001b[0m in \u001b[0;36m<module>\u001b[1;34m\u001b[0m\n\u001b[0;32m      2\u001b[0m \u001b[0mwith_strat\u001b[0m \u001b[1;33m=\u001b[0m \u001b[1;33m[\u001b[0m\u001b[1;33m]\u001b[0m\u001b[1;33m\u001b[0m\u001b[1;33m\u001b[0m\u001b[0m\n\u001b[0;32m      3\u001b[0m \u001b[1;32mfor\u001b[0m \u001b[0mi\u001b[0m \u001b[1;32min\u001b[0m \u001b[0mrange\u001b[0m\u001b[1;33m(\u001b[0m\u001b[1;36m100\u001b[0m\u001b[1;33m)\u001b[0m\u001b[1;33m:\u001b[0m\u001b[1;33m\u001b[0m\u001b[1;33m\u001b[0m\u001b[0m\n\u001b[1;32m----> 4\u001b[1;33m     no_strat.append(pred_price_strat(df.drop('FAIXA_VALOR', axis = 1)\n\u001b[0m\u001b[0;32m      5\u001b[0m                                     )\n\u001b[0;32m      6\u001b[0m                    )\n",
      "\u001b[1;32m<ipython-input-49-142ddba0c70c>\u001b[0m in \u001b[0;36mpred_price_strat\u001b[1;34m(df, strat_label)\u001b[0m\n\u001b[0;32m      1\u001b[0m \u001b[1;32mdef\u001b[0m \u001b[0mpred_price_strat\u001b[0m\u001b[1;33m(\u001b[0m\u001b[0mdf\u001b[0m\u001b[1;33m,\u001b[0m \u001b[0mstrat_label\u001b[0m\u001b[1;33m=\u001b[0m\u001b[1;32mNone\u001b[0m\u001b[1;33m)\u001b[0m\u001b[1;33m:\u001b[0m\u001b[1;33m\u001b[0m\u001b[1;33m\u001b[0m\u001b[0m\n\u001b[0;32m      2\u001b[0m     \u001b[1;31m# separando o conjunto total em conjunto treino e teste\u001b[0m\u001b[1;33m\u001b[0m\u001b[1;33m\u001b[0m\u001b[1;33m\u001b[0m\u001b[0m\n\u001b[1;32m----> 3\u001b[1;33m     X_train, X_test, y_train, y_test = train_test_split(df.drop(['MEDV'], axis = 1),\n\u001b[0m\u001b[0;32m      4\u001b[0m                                                         \u001b[0mdf\u001b[0m\u001b[1;33m[\u001b[0m\u001b[1;34m'MEDV'\u001b[0m\u001b[1;33m]\u001b[0m\u001b[1;33m,\u001b[0m\u001b[1;33m\u001b[0m\u001b[1;33m\u001b[0m\u001b[0m\n\u001b[0;32m      5\u001b[0m                                                         \u001b[0mtest_size\u001b[0m \u001b[1;33m=\u001b[0m \u001b[1;33m-\u001b[0m\u001b[1;36m.3\u001b[0m\u001b[1;33m,\u001b[0m\u001b[1;33m\u001b[0m\u001b[1;33m\u001b[0m\u001b[0m\n",
      "\u001b[1;32mC:\\Anaconda\\lib\\site-packages\\sklearn\\model_selection\\_split.py\u001b[0m in \u001b[0;36mtrain_test_split\u001b[1;34m(*arrays, **options)\u001b[0m\n\u001b[0;32m   2128\u001b[0m \u001b[1;33m\u001b[0m\u001b[0m\n\u001b[0;32m   2129\u001b[0m     \u001b[0mn_samples\u001b[0m \u001b[1;33m=\u001b[0m \u001b[0m_num_samples\u001b[0m\u001b[1;33m(\u001b[0m\u001b[0marrays\u001b[0m\u001b[1;33m[\u001b[0m\u001b[1;36m0\u001b[0m\u001b[1;33m]\u001b[0m\u001b[1;33m)\u001b[0m\u001b[1;33m\u001b[0m\u001b[1;33m\u001b[0m\u001b[0m\n\u001b[1;32m-> 2130\u001b[1;33m     n_train, n_test = _validate_shuffle_split(n_samples, test_size, train_size,\n\u001b[0m\u001b[0;32m   2131\u001b[0m                                               default_test_size=0.25)\n\u001b[0;32m   2132\u001b[0m \u001b[1;33m\u001b[0m\u001b[0m\n",
      "\u001b[1;32mC:\\Anaconda\\lib\\site-packages\\sklearn\\model_selection\\_split.py\u001b[0m in \u001b[0;36m_validate_shuffle_split\u001b[1;34m(n_samples, test_size, train_size, default_test_size)\u001b[0m\n\u001b[0;32m   1762\u001b[0m     if (test_size_type == 'i' and (test_size >= n_samples or test_size <= 0)\n\u001b[0;32m   1763\u001b[0m        or test_size_type == 'f' and (test_size <= 0 or test_size >= 1)):\n\u001b[1;32m-> 1764\u001b[1;33m         raise ValueError('test_size={0} should be either positive and smaller'\n\u001b[0m\u001b[0;32m   1765\u001b[0m                          \u001b[1;34m' than the number of samples {1} or a float in the '\u001b[0m\u001b[1;33m\u001b[0m\u001b[1;33m\u001b[0m\u001b[0m\n\u001b[0;32m   1766\u001b[0m                          '(0, 1) range'.format(test_size, n_samples))\n",
      "\u001b[1;31mValueError\u001b[0m: test_size=-0.3 should be either positive and smaller than the number of samples 100 or a float in the (0, 1) range"
     ]
    }
   ],
   "source": [
    "no_strat = []\n",
    "with_strat = []\n",
    "for i in range(100):\n",
    "    no_strat.append(pred_price_strat(df.drop('FAIXA_VALOR', axis = 1)\n",
    "                                    )\n",
    "                   )\n",
    "    \n",
    "    with_strat.append(pred_price_strat(df.drop('FAIXA_VALOR', axis = 1), \n",
    "                                       df['FAIXA_VALOR'].values\n",
    "                                      )\n",
    "                     )"
   ]
  },
  {
   "cell_type": "markdown",
   "metadata": {},
   "source": [
    "#### Podemos comparar o desvio padrão dos valores de MAE para cada caso."
   ]
  },
  {
   "cell_type": "code",
   "execution_count": null,
   "metadata": {},
   "outputs": [],
   "source": [
    "np.array(no_strat).std()"
   ]
  },
  {
   "cell_type": "code",
   "execution_count": null,
   "metadata": {},
   "outputs": [],
   "source": [
    "np.array(with_strat).std()"
   ]
  },
  {
   "cell_type": "markdown",
   "metadata": {},
   "source": [
    "#### E plotar os gráficos de cada conjunto de predições."
   ]
  },
  {
   "cell_type": "code",
   "execution_count": null,
   "metadata": {},
   "outputs": [],
   "source": [
    "fig = plt.figure(figsize = (14,6))\n",
    "\n",
    "plt.plot(range(len(no_strat)), \n",
    "         no_strat, \n",
    "         c = 'k', \n",
    "         label = \"no stratification\"\n",
    "        )\n",
    "plt.plot(range(len(with_strat)), \n",
    "         with_strat, \n",
    "         c = 'r', \n",
    "         label = \"with stratification\"\n",
    "        )\n",
    "plt.legend()\n",
    "plt.xlabel('run')\n",
    "plt.ylabel('MAE');"
   ]
  },
  {
   "cell_type": "markdown",
   "metadata": {},
   "source": [
    "#### E finalmente, podemos observar que adicionar a opção de estratificação os modelos gerados permite reduzir a instabilidade dos modelos."
   ]
  },
  {
   "cell_type": "code",
   "execution_count": null,
   "metadata": {},
   "outputs": [],
   "source": []
  },
  {
   "cell_type": "code",
   "execution_count": null,
   "metadata": {},
   "outputs": [],
   "source": []
  },
  {
   "cell_type": "code",
   "execution_count": null,
   "metadata": {},
   "outputs": [],
   "source": []
  },
  {
   "cell_type": "code",
   "execution_count": null,
   "metadata": {},
   "outputs": [],
   "source": []
  }
 ],
 "metadata": {
  "kernelspec": {
   "display_name": "Python 3",
   "language": "python",
   "name": "python3"
  },
  "language_info": {
   "codemirror_mode": {
    "name": "ipython",
    "version": 3
   },
   "file_extension": ".py",
   "mimetype": "text/x-python",
   "name": "python",
   "nbconvert_exporter": "python",
   "pygments_lexer": "ipython3",
   "version": "3.8.5"
  }
 },
 "nbformat": 4,
 "nbformat_minor": 4
}
