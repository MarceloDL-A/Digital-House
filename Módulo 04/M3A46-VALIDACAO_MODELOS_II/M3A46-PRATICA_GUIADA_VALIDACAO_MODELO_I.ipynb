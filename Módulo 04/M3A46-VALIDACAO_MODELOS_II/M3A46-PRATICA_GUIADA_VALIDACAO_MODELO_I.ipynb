{
 "cells": [
  {
   "cell_type": "markdown",
   "metadata": {
    "colab_type": "text",
    "id": "FxnwL4Tmcknx"
   },
   "source": [
    "# PRÁTICA GUIADA: Validação de modelos. \n",
    "\n",
    "#### Estudaremos um exemplo de uso da [validação cruzada](https://towardsdatascience.com/cross-validation-430d9a5fee22) para calcular as curvas de validação de uma classe de modelo. Aqui vamos usar um modelo de [regressão polinomial](https://towardsdatascience.com/polynomial-regression-bbe8b9d97491): Observe que isso ainda é regressão linear (nos parâmetros). Por exemplo, um polinômio de grau 1 ajusta uma linha reta aos dados; para os parâmetros do modelo $ a $ e $ b $:\n",
    "\n",
    "\n",
    "$$\n",
    "y = ax + b\n",
    "$$\n",
    "\n",
    "#### Um polinômio de grau $3$ ajusta uma curva cúbica aos dados; para os parâmetros  $a, b, c, d$:\n",
    "\n",
    "$$\n",
    "y = ax^3 + bx^2 + cx + d\n",
    "$$\n",
    "\n",
    "#### Podemos generalizar isso a qualquer número de atributos [polinômicos](https://towardsdatascience.com/polynomial-regression-with-scikit-learn-what-you-should-know-bed9d3296f2). Com o [Scikit-Learn](https://scikit-learn.org/stable/modules/generated/sklearn.preprocessing.PolynomialFeatures.html), podemos implementar isso com uma simples regressão linear combinada com o processador polinômico (polynomial preprocessor).\n",
    "\n",
    "#### Usaremos um [pipeline](https://towardsdatascience.com/building-an-automated-machine-learning-pipeline-part-one-5c70ae682f35) para organizar seqüêncialmente essas operações. "
   ]
  },
  {
   "cell_type": "markdown",
   "metadata": {},
   "source": [
    "#### Observe as classes de funções a seguir, vamos realizar a importação dos pacotes.\n",
    "\n",
    "- [`sklearn.preprocessing.PolynomialFeatures`](https://scikit-learn.org/stable/modules/generated/sklearn.preprocessing.PolynomialFeatures.html)\n",
    "\n",
    "- [`sklearn.linear_model.LinearRegression`](https://scikit-learn.org/stable/modules/generated/sklearn.linear_model.LinearRegression.html)\n",
    "\n",
    "- [`sklearn.pipeline.make_pipeline`](https://scikit-learn.org/stable/modules/generated/sklearn.pipeline.make_pipeline.html)"
   ]
  },
  {
   "cell_type": "code",
   "execution_count": 2,
   "metadata": {},
   "outputs": [],
   "source": [
    "from sklearn.preprocessing import PolynomialFeatures\n",
    "from sklearn.linear_model import LinearRegression\n",
    "from sklearn.pipeline import make_pipeline"
   ]
  },
  {
   "cell_type": "markdown",
   "metadata": {
    "colab": {},
    "colab_type": "code",
    "id": "A9usVQQlcknz"
   },
   "source": [
    "####  <span style=\"color:red\">Código Original.</span>\n",
    "<!---\n",
    "from sklearn.preprocessing import PolynomialFeatures\n",
    "from sklearn.linear_model import LinearRegression\n",
    "from sklearn.pipeline import make_pipeline\n",
    "-->"
   ]
  },
  {
   "cell_type": "markdown",
   "metadata": {},
   "source": [
    "#### Definimos uma função de contrução de regressões polinomiais [`sklearn.pipeline.make_pipeline`](https://scikit-learn.org/stable/modules/generated/sklearn.pipeline.make_pipeline.html) que canaliza vários processos."
   ]
  },
  {
   "cell_type": "code",
   "execution_count": 3,
   "metadata": {},
   "outputs": [],
   "source": [
    "def PolynomialRegression(degree = 2, **kwargs):\n",
    "    return make_pipeline(PolynomialFeatures(degree),\n",
    "                         LinearRegression(**kwargs)\n",
    "                        )"
   ]
  },
  {
   "cell_type": "markdown",
   "metadata": {},
   "source": [
    "####  <span style = \"color:red\">Código Original.</span>\n",
    "<!---\n",
    "def PolynomialRegression(degree = 2, **kwargs):\n",
    "    return make_pipeline(PolynomialFeatures(degree),\n",
    "                         LinearRegression(**kwargs)\n",
    "                        )\n",
    "-->"
   ]
  },
  {
   "cell_type": "markdown",
   "metadata": {},
   "source": [
    "#### Dentro do pipeline utilizamos [`PolynomialFeatures()`](https://scikit-learn.org/stable/modules/generated/sklearn.preprocessing.PolynomialFeatures.html) para gerar recursos polinomiais e de interação, e a função [`LinearRegression()`](https://scikit-learn.org/stable/modules/generated/sklearn.linear_model.LinearRegression.html) para criar a regressão linear."
   ]
  },
  {
   "cell_type": "markdown",
   "metadata": {
    "colab_type": "text",
    "id": "8VKn5UmKckn5"
   },
   "source": [
    "#### Agora vamos criar alguns dados sintéticos (artificiais, inventados), aos quais ajustaremos nosso modelo. Para isso podemos \n",
    "[`.np.random.RandomState`](https://docs.scipy.org/doc/numpy-1.15.0/reference/generated/numpy.random.RandomState.html) para criar um containner para o gerador de números pseudo-aleatórios [Mersenne Twister](https://en.wikipedia.org/wiki/Mersenne_Twister).\n",
    "\n",
    "\n",
    "#### A função [`.rand()`](https://numpy.org/devdocs/reference/random/generated/numpy.random.RandomState.rand.html) pode ser aplicada para criar uma matriz da forma especificada, preencha-a com amostras aleatórias a partir de uma distribuição uniforme em [0, 1).\n",
    "\n",
    "#### Talvez você precise fazer uso da função [`.ravel()`](https://numpy.org/doc/stable/reference/generated/numpy.ravel.html) que retorna uma matriz de dados.\n",
    "\n",
    "#### Você ainda pode aplciar a função [`np.random.RandomState.randn()`](https://docs.scipy.org/doc/numpy-1.15.1/reference/generated/numpy.random.RandomState.randn.html) para gerar um conjunto randômico, agregrando mais aleatoriedade aos dados"
   ]
  },
  {
   "cell_type": "code",
   "execution_count": 4,
   "metadata": {},
   "outputs": [
    {
     "name": "stdout",
     "output_type": "stream",
     "text": [
      "[[1.73907352e-01]\n",
      " [5.18867376e-01]\n",
      " [1.30815988e-08]\n",
      " [9.14049845e-02]\n",
      " [2.15372915e-02]\n",
      " [8.52641608e-03]\n",
      " [3.46928663e-02]\n",
      " [1.19412216e-01]\n",
      " [1.57424429e-01]\n",
      " [2.90323473e-01]\n",
      " [1.75724041e-01]\n",
      " [4.69525764e-01]\n",
      " [4.18007224e-02]\n",
      " [7.71090232e-01]\n",
      " [7.50080261e-04]\n",
      " [4.49526682e-01]\n",
      " [1.74143298e-01]\n",
      " [3.12134324e-01]\n",
      " [1.97084925e-02]\n",
      " [3.92442000e-02]\n",
      " [6.41191864e-01]\n",
      " [9.37530479e-01]\n",
      " [9.82347155e-02]\n",
      " [4.79310604e-01]\n",
      " [7.68057946e-01]\n",
      " [8.00321082e-01]\n",
      " [7.23251789e-03]\n",
      " [1.52527609e-03]\n",
      " [2.88423714e-02]\n",
      " [7.71134256e-01]\n",
      " [9.67209972e-03]\n",
      " [1.77331632e-01]\n",
      " [9.17552352e-01]\n",
      " [2.84265221e-01]\n",
      " [4.78693941e-01]\n",
      " [9.95501134e-02]\n",
      " [4.71283524e-01]\n",
      " [6.96600012e-01]\n",
      " [3.34461088e-04]\n",
      " [5.62716493e-01]]\n",
      "[1.73907352e-01 5.18867376e-01 1.30815988e-08 9.14049845e-02\n",
      " 2.15372915e-02 8.52641608e-03 3.46928663e-02 1.19412216e-01\n",
      " 1.57424429e-01 2.90323473e-01 1.75724041e-01 4.69525764e-01\n",
      " 4.18007224e-02 7.71090232e-01 7.50080261e-04 4.49526682e-01\n",
      " 1.74143298e-01 3.12134324e-01 1.97084925e-02 3.92442000e-02\n",
      " 6.41191864e-01 9.37530479e-01 9.82347155e-02 4.79310604e-01\n",
      " 7.68057946e-01 8.00321082e-01 7.23251789e-03 1.52527609e-03\n",
      " 2.88423714e-02 7.71134256e-01 9.67209972e-03 1.77331632e-01\n",
      " 9.17552352e-01 2.84265221e-01 4.78693941e-01 9.95501134e-02\n",
      " 4.71283524e-01 6.96600012e-01 3.34461088e-04 5.62716493e-01]\n"
     ]
    }
   ],
   "source": [
    "import numpy as np\n",
    "\n",
    "def make_data(N, err = 1.0, rseed = 1):\n",
    "    '''\n",
    "    randomly sample the data \n",
    "    '''\n",
    "    rng = np.random.RandomState(rseed)\n",
    "    \n",
    "    X = rng.rand(N, 1) ** 2\n",
    "    y = 10 - 1. / (X.ravel() + 0.1)\n",
    "    if err > 0:\n",
    "        y += err * rng.randn(N)\n",
    "    return X, y\n",
    "\n",
    "X, y = make_data(40)\n",
    "print(X)\n",
    "print(X.ravel())"
   ]
  },
  {
   "cell_type": "markdown",
   "metadata": {
    "colab": {},
    "colab_type": "code",
    "id": "xZsdC5fNckn7"
   },
   "source": [
    "####  <span style = \"color:red\">Código Original.</span>\n",
    "<!---\n",
    "import numpy as np\n",
    "\n",
    "def make_data(N, err = 1.0, rseed=1):\n",
    "    '''\n",
    "    randomly sample the data \n",
    "    '''\n",
    "    rng = np.random.RandomState(rseed)\n",
    "    \n",
    "    X = rng.rand(N, 1) ** 2\n",
    "    y = 10 - 1. / (X.ravel() + 0.1)\n",
    "    if err > 0:\n",
    "        y += err * rng.randn(N)\n",
    "    return X, y\n",
    "\n",
    "X, y = make_data(40)\n",
    "print(X)\n",
    "print(X.ravel())\n",
    "-->\n",
    "\n"
   ]
  },
  {
   "cell_type": "markdown",
   "metadata": {},
   "source": [
    "#### Uma vez que os dados foram gerados, podemos realizar o plot dos mesmos e verificar sua relação. Utilize a função\n",
    "\n",
    "Importe os pacotes [`matplotlib.pyplot`](https://matplotlib.org/stable/api/_as_gen/matplotlib.pyplot.html), [`seaborn`](https://seaborn.pydata.org/) e [`seaborn.set()`](https://seaborn.pydata.org/generated/seaborn.set.html) para \n",
    "[`matplotlib.pyplot.scatter()`](https://matplotlib.org/api/_as_gen/matplotlib.pyplot.scatter.html) para plotar a dispersão entre os pontos gerados. É conveniente usar a forma  [`.ravel()`](https://numpy.org/doc/stable/reference/generated/numpy.ravel.html) como argumento de `matplotlib.pyplot.scatter()`. use ainda as funções \n",
    "[`matplotlib.pyplot.xlim()`](https://matplotlib.org/api/_as_gen/matplotlib.pyplot.xlim.html) e [`matplotlib.pyplot.ylim()`](https://matplotlib.org/3.2.1/api/_as_gen/matplotlib.pyplot.ylim.html) para definir os limites do plot."
   ]
  },
  {
   "cell_type": "code",
   "execution_count": 5,
   "metadata": {},
   "outputs": [
    {
     "data": {
      "text/plain": [
       "(-2, 12)"
      ]
     },
     "execution_count": 5,
     "metadata": {},
     "output_type": "execute_result"
    },
    {
     "data": {
      "image/png": "[encoded data removed]",
      "text/plain": [
       "<Figure size 432x288 with 1 Axes>"
      ]
     },
     "metadata": {},
     "output_type": "display_data"
    }
   ],
   "source": [
    "%matplotlib inline\n",
    "import matplotlib.pyplot as plt\n",
    "import seaborn; seaborn.set()  # plot formatting\n",
    "\n",
    "plt.scatter(X.ravel(), \n",
    "            y, \n",
    "            color = 'black'\n",
    "           )\n",
    "axis = plt.axis()\n",
    "\n",
    "plt.xlim(-0.1, 1.0)\n",
    "plt.ylim(-2, 12)"
   ]
  },
  {
   "cell_type": "markdown",
   "metadata": {},
   "source": [
    "####  <span style = \"color:red\">Código Original.</span>\n",
    "<!---\n",
    "%matplotlib inline\n",
    "import matplotlib.pyplot as plt\n",
    "import seaborn; seaborn.set()  # plot formatting\n",
    "\n",
    "plt.scatter(X.ravel(), y, color = 'black')\n",
    "axis = plt.axis()\n",
    "\n",
    "plt.xlim(-0.1, 1.0)\n",
    "plt.ylim(-2, 12)\n",
    "-->\n",
    "\n"
   ]
  },
  {
   "cell_type": "markdown",
   "metadata": {
    "colab_type": "text",
    "id": "y2x59bXickn_"
   },
   "source": [
    "##### Agora podemos visualizar nossos dados, juntamente com ajustes de modelo polinomial de vários graus. use a função [`np.linspace`](https://numpy.org/doc/stable/reference/generated/numpy.linspace.html) para criar um objeto de teste com intervalo (-0.1, 1.1, 500) e a função [`reshape`](https://numpy.org/doc/stable/reference/generated/numpy.reshape.html) para inverter o formato do objeto de saída.\n",
    "\n",
    "#### Você pode pensar em um `loop for` para poder gerar um gráfico com curvas de vários graus de polinômios, teste os graus (1, 3, 5).\n",
    "\n",
    "#### você pode criar um objeto que armazene os valores da variável dependente que pretende usar com as funções [`.fit()`](https://scikit-learn.org/stable/tutorial/basic/tutorial.html) e [`.predict()`](https://kite.com/python/docs/sklearn.linear_model.stochastic_gradient.BaseSGDRegressor.predict).\n",
    "\n",
    "#### Não esqueça de aplicar a função [`.plot()`](https://matplotlib.org/api/_as_gen/matplotlib.pyplot.plot.html) para gerar o gráfico de saída."
   ]
  },
  {
   "cell_type": "code",
   "execution_count": 7,
   "metadata": {},
   "outputs": [
    {
     "data": {
      "image/png": "[encoded data removed]",
      "text/plain": [
       "<Figure size 432x288 with 1 Axes>"
      ]
     },
     "metadata": {},
     "output_type": "display_data"
    }
   ],
   "source": [
    "%matplotlib inline\n",
    "import matplotlib.pyplot as plt\n",
    "import seaborn; seaborn.set()  # plot formatting\n",
    "\n",
    "X_test = np.linspace(-0.1, 1.1, 500).reshape(-1,1)\n",
    "\n",
    "plt.scatter(X.ravel(), \n",
    "            y, \n",
    "            color = 'black'\n",
    "           )\n",
    "axis = plt.axis()\n",
    "for degree in [1, 3, 5]:\n",
    "    y_test = PolynomialRegression(degree).fit(X, y).predict(X_test)\n",
    "    plt.plot(X_test.ravel(), \n",
    "             y_test, \n",
    "             label = 'degree = {0}'.format(degree)\n",
    "            )\n",
    "plt.xlim(-0.1, 1.5)\n",
    "plt.ylim(-2, 12)\n",
    "plt.legend(loc = 'best');"
   ]
  },
  {
   "cell_type": "markdown",
   "metadata": {
    "colab": {},
    "colab_type": "code",
    "id": "bz80ZK_7ckoB"
   },
   "source": [
    "####  <span style = \"color:red\">Código Original.</span>\n",
    "\n",
    "<!---\n",
    "%matplotlib inline\n",
    "import matplotlib.pyplot as plt\n",
    "import seaborn; seaborn.set()  # plot formatting\n",
    "\n",
    "X_test = np.linspace(-0.1, 1.1, 500).reshape(-1,1)\n",
    "\n",
    "plt.scatter(X.ravel(), y, color = 'black')\n",
    "axis = plt.axis()\n",
    "for degree in [1, 3, 5]:\n",
    "    y_test = PolynomialRegression(degree).fit(X, y).predict(X_test)\n",
    "    plt.plot(X_test.ravel(), y_test, label = 'degree={0}'.format(degree))\n",
    "plt.xlim(-0.1, 1.0)\n",
    "plt.ylim(-2, 12)\n",
    "plt.legend(loc='best');\n",
    "-->\n",
    "\n",
    "\n",
    "\n",
    "\n"
   ]
  },
  {
   "cell_type": "markdown",
   "metadata": {
    "colab_type": "text",
    "id": "A6JfJxgNckoF"
   },
   "source": [
    "#### O grau do polinômio controla a complexidade do modelo, que pode ser qualquer número inteiro não negativo.\n",
    "\n",
    "#### Uma pergunta interessante a ser feita: Qual o grau de polinômio fornece um compromisso apropriado entre o viés (ajuste insuficiente) e a variação (ajuste excessivo)?\n",
    "\n",
    "#### Para entender isso importe a classe de funções [`sklearn.model_selection validation_curve`](https://scikit-learn.org/stable/modules/generated/sklearn.model_selection.validation_curve.html) para validação e escolha do modelo mais conveniente para a descrição dos dados.\n",
    "\n",
    "\n",
    "#### Use a função [`.np.arange()`](https://numpy.org/doc/stable/reference/generated/numpy.arange.html) para criar um objeto que armazene um número $(0, 21)$ de graus, a serem utilizados como o parâmetro de intervalo na função de validação [`validation_curve()`](https://scikit-learn.org/stable/modules/generated/sklearn.model_selection.validation_curve.html) para determine as pontuações de treinamento e teste para valores variáveis de parâmetros.\n",
    "\n",
    "\n",
    "#### Por fim plote as curvas encontrada e faça interprete do gráfico [`.plot()`](https://matplotlib.org/api/_as_gen/matplotlib.pyplot.plot.html) dos valores dos graus gerados e da média dos valores de validação para cada grau abordado\n",
    "\n",
    "#### A função [`validation_curve()`](https://scikit-learn.org/stable/modules/generated/sklearn.model_selection.validation_curve.html) fornecida pelo [Scikit-Learn](https://towardsdatascience.com/cross-validation-c4fae714f1c5), calculará automaticamente as pontuações de treinamento e validação em todo o intervalo, dado um modelo, um conjunto de dados, um nome de parâmetro e um intervalo a explorar. "
   ]
  },
  {
   "cell_type": "code",
   "execution_count": 10,
   "metadata": {},
   "outputs": [
    {
     "name": "stderr",
     "output_type": "stream",
     "text": [
      "/Users/rudineycasali/opt/anaconda3/lib/python3.7/site-packages/sklearn/utils/validation.py:71: FutureWarning: Pass param_name=polynomialfeatures__degree as keyword args. From version 0.25 passing these as positional arguments will result in an error\n",
      "  FutureWarning)\n"
     ]
    },
    {
     "data": {
      "image/png": "[encoded data removed]",
      "text/plain": [
       "<Figure size 1296x432 with 1 Axes>"
      ]
     },
     "metadata": {},
     "output_type": "display_data"
    }
   ],
   "source": [
    "from sklearn.model_selection import validation_curve\n",
    "\n",
    "degree = np.arange(0, 21)\n",
    "train_score, val_score = validation_curve(PolynomialRegression(), \n",
    "                                          X, \n",
    "                                          y, \n",
    "                                          'polynomialfeatures__degree', \n",
    "                                          param_range = degree, \n",
    "                                          cv = 7\n",
    "                                         )\n",
    "plt.figure( figsize = (18, 6))\n",
    "plt.plot(degree, \n",
    "         np.mean(train_score, axis = 1), \n",
    "         color = 'blue', \n",
    "         label = 'training score'\n",
    "        )\n",
    "plt.plot(degree, \n",
    "         np.mean(val_score, axis = 1), \n",
    "         color = 'red', \n",
    "         label = 'validation score'\n",
    "        )\n",
    "plt.legend(loc = 'best')\n",
    "plt.ylim(0, 1)\n",
    "plt.xlabel('degree')\n",
    "plt.ylabel('score');\n",
    "\n",
    "#### A partir da curva de validação, podemos interpretar que o comprometimento ideal entre viés e variância é encontrado com um polinômio de terceira ordem."
   ]
  },
  {
   "cell_type": "markdown",
   "metadata": {
    "colab": {},
    "colab_type": "code",
    "id": "-KG8-rxkckoH"
   },
   "source": [
    "####  <span style = \"color:red\">Código Original.</span>\n",
    "<!---\n",
    "from sklearn.model_selection import validation_curve\n",
    "\n",
    "degree = np.arange(0, 21)\n",
    "train_score, val_score = validation_curve(PolynomialRegression(), \n",
    "                                          X, \n",
    "                                          y, \n",
    "                                          'polynomialfeatures__degree', \n",
    "                                          param_range = degree, \n",
    "                                          cv = 7\n",
    "                                         )\n",
    "\n",
    "plt.plot(degree, np.mean(train_score, axis = 1), color = 'blue', label = 'training score')\n",
    "plt.plot(degree, np.mean(val_score, axis = 1), color = 'red', label = 'validation score')\n",
    "plt.legend(loc = 'best')\n",
    "plt.ylim(0, 1)\n",
    "plt.xlabel('degree')\n",
    "plt.ylabel('score');\n",
    "\n",
    "#### A partir da curva de validação, podemos interpretar que o comprometimento ideal entre viés e variância é encontrado com um polinômio de terceira ordem.\n",
    "-->\n"
   ]
  },
  {
   "cell_type": "markdown",
   "metadata": {
    "colab_type": "text",
    "id": "Mxu88BvRckoL"
   },
   "source": [
    "#### Este gráfico mostra precisamente o comportamento qualitativo que esperamos: a pontuação do treinamento é sempre maior que a pontuação da validação; a pontuação do treinamento cresce monótonamente junto com a complexidade do modelo; e a pontuação de validação atinge o pico antes de finalmente cair à medida que o modelo se adapta demais.\n",
    "\n",
    "#### A partir da curva de validação, podemos interpretar que o comprometimento ideal entre viés e variância é encontrado com um polinômio de terceira ordem; Podemos calcular e exibir esse ajuste nos dados originais:\n",
    "\n",
    "#### Podemos calcular e exibir esse ajuste nos dados originais."
   ]
  },
  {
   "cell_type": "markdown",
   "metadata": {
    "colab_type": "text",
    "id": "fxrQaPpCgeMl"
   },
   "source": [
    "#### Observe que o modelo escolhido com base nos dados do treino / validação agora é treinado em $100\\%$ dos dados de treino / validação e é testado com observações nunca usadas para treinar ou validar. Nesse caso, não houve a divisão treino / validação e teste porque geramos o `X` teste separadamente.\n",
    "\n",
    "\n",
    "#### Plot a dispersão do modelo escolhido com a função  [`.plt.scatter()`](https://matplotlib.org/api/_as_gen/matplotlib.pyplot.scatter.html) e aplique a função polinomial [`PolynomialRegression()`](https://towardsdatascience.com/machine-learning-polynomial-regression-with-python-5328e4e8a386) para verificar o resultado do fit e da previsão dos resultados."
   ]
  },
  {
   "cell_type": "code",
   "execution_count": 11,
   "metadata": {},
   "outputs": [
    {
     "data": {
      "image/png": "[encoded data removed]",
      "text/plain": [
       "<Figure size 432x288 with 1 Axes>"
      ]
     },
     "metadata": {},
     "output_type": "display_data"
    }
   ],
   "source": [
    "plt.scatter(X.ravel(), \n",
    "            y\n",
    "           )\n",
    "lim = plt.axis()\n",
    "y_test = PolynomialRegression(3).fit(X, y).predict(X_test)\n",
    "plt.plot(X_test.ravel(), \n",
    "         y_test\n",
    "        )\n",
    "plt.axis(lim);"
   ]
  },
  {
   "cell_type": "markdown",
   "metadata": {
    "colab": {},
    "colab_type": "code",
    "id": "T0DVsFBvckoM"
   },
   "source": [
    "####  <span style = \"color:red\">Código Original.</span>\n",
    "<!---\n",
    "plt.scatter(X.ravel(), y)\n",
    "lim = plt.axis()\n",
    "y_test = PolynomialRegression(3).fit(X, y).predict(X_test)\n",
    "plt.plot(X_test.ravel(), y_test)\n",
    "plt.axis(lim);\n",
    "-->"
   ]
  },
  {
   "cell_type": "markdown",
   "metadata": {
    "colab_type": "text",
    "id": "hhu7H0V9ckoQ"
   },
   "source": [
    "##  <span style = \"color:blue\">Prátic Independente.</span>\n",
    "<!---\n",
    "\n",
    "[``]()\n",
    "\n",
    "-->\n"
   ]
  },
  {
   "cell_type": "code",
   "execution_count": 192,
   "metadata": {},
   "outputs": [],
   "source": [
    "import numpy as np\n",
    "import math\n",
    "\n",
    "def make_data(N, err = 0.5, rseed = 42):\n",
    "    '''\n",
    "    randomly sample the data \n",
    "    '''    \n",
    "    rng = np.random.RandomState(rseed)\n",
    "    X = math.sin(N ** 2 / 2) * math.exp(- 2 * N) * rng.rand(N, 1) ** (1/2) + rng.rand(N, 1) ** 5\n",
    "    y = 10 - 1. / (X.ravel() + 0.1)\n",
    "    if err > 0:\n",
    "        y += err * rng.randn(N)\n",
    "    return X, y"
   ]
  },
  {
   "cell_type": "markdown",
   "metadata": {},
   "source": [
    "#### Considerando a função geradora de pontos aleatórios acima, crie uma distribuição de $150$ pontos, com um ruído de $0.5$. "
   ]
  },
  {
   "cell_type": "code",
   "execution_count": null,
   "metadata": {},
   "outputs": [],
   "source": []
  },
  {
   "cell_type": "markdown",
   "metadata": {},
   "source": [
    "####  <span style = \"color:red\">Código Original.</span>\n",
    "<!---\n",
    "X, y = make_data(150, err = 0.5, rseed = 42)\n",
    "#print(X)\n",
    "#print(X.ravel())\n",
    "#print(y)\n",
    "-->"
   ]
  },
  {
   "cell_type": "markdown",
   "metadata": {},
   "source": [
    "#### Plote os pontos gerados em um gráfico de dispersão. "
   ]
  },
  {
   "cell_type": "code",
   "execution_count": null,
   "metadata": {},
   "outputs": [],
   "source": []
  },
  {
   "cell_type": "markdown",
   "metadata": {},
   "source": [
    "####  <span style = \"color:red\">Código Original.</span>\n",
    "<!---\n",
    "%matplotlib inline\n",
    "import matplotlib.pyplot as plt\n",
    "import seaborn; seaborn.set()  # plot formatting\n",
    "\n",
    "plt.scatter(X.ravel(), \n",
    "            y, \n",
    "            color = 'black'\n",
    "           )\n",
    "axis = plt.axis()\n",
    "\n",
    "plt.xlim(-0.1, 1.0)\n",
    "plt.ylim(-2, 12)\n",
    "-->"
   ]
  },
  {
   "cell_type": "markdown",
   "metadata": {},
   "source": [
    "#### Use uma regressão polinomial para gerar curvas de diferentes graus e estude seu ajuste aos pontos."
   ]
  },
  {
   "cell_type": "code",
   "execution_count": null,
   "metadata": {},
   "outputs": [],
   "source": []
  },
  {
   "cell_type": "markdown",
   "metadata": {},
   "source": [
    "####  <span style = \"color:red\">Código Original.</span>\n",
    "<!---\n",
    "%matplotlib inline\n",
    "import matplotlib.pyplot as plt\n",
    "import seaborn; seaborn.set()  # plot formatting\n",
    "\n",
    "X_test = np.linspace(-0.1, 1.1, 500).reshape(-1,1)\n",
    "\n",
    "plt.scatter(X.ravel(), \n",
    "            y, \n",
    "            color = 'black'\n",
    "           )\n",
    "axis = plt.axis()\n",
    "for degree in [1, 2, 3, 4]:\n",
    "    y_test = PolynomialRegression(degree).fit(X, y).predict(X_test)\n",
    "    plt.plot(X_test.ravel(), \n",
    "             y_test, \n",
    "             label = 'degree = {}'.format(degree)\n",
    "            )\n",
    "plt.xlim(-0.2, 1.2)\n",
    "plt.ylim(-5, 15)\n",
    "plt.legend(loc = 'best');\n",
    "-->"
   ]
  },
  {
   "cell_type": "markdown",
   "metadata": {},
   "source": [
    "#### Plote a curva de validação treino/validação para $10$ dobras de validação cruzada, com um intervalo unitário para distribuição de graus."
   ]
  },
  {
   "cell_type": "code",
   "execution_count": null,
   "metadata": {},
   "outputs": [],
   "source": []
  },
  {
   "cell_type": "markdown",
   "metadata": {},
   "source": [
    "####  <span style = \"color:red\">Código Original.</span>\n",
    "<!---\n",
    "from sklearn.model_selection import validation_curve\n",
    "\n",
    "degree = np.arange(0, 21)\n",
    "train_score, val_score = validation_curve(PolynomialRegression(), \n",
    "                                          X, \n",
    "                                          y, \n",
    "                                          'polynomialfeatures__degree', \n",
    "                                          param_range = degree, \n",
    "                                          cv = 10\n",
    "                                         )\n",
    "#print('degree:', degree, 'val_score:', val_score)\n",
    "plt.figure( figsize = (18, 6))\n",
    "plt.plot(degree, \n",
    "         np.mean(train_score, axis = 1), \n",
    "         color = 'blue', \n",
    "         label = 'training score'\n",
    "        )\n",
    "plt.plot(degree, \n",
    "         np.mean(val_score, axis = 1), \n",
    "         color = 'red', \n",
    "         label = 'validation score'\n",
    "        )\n",
    "plt.legend(loc = 'best')\n",
    "plt.ylim(0, 1)\n",
    "plt.xlabel('degree')\n",
    "plt.ylabel('score')\n",
    "plt.xticks(np.arange(0, degree[-1], \n",
    "                     step = 1.0\n",
    "                    )\n",
    "          );\n",
    "-->"
   ]
  },
  {
   "cell_type": "markdown",
   "metadata": {},
   "source": [
    "#### Plote a curva com o grau polinomial que melhor se ajusta aos pontos."
   ]
  },
  {
   "cell_type": "code",
   "execution_count": null,
   "metadata": {},
   "outputs": [],
   "source": []
  },
  {
   "cell_type": "markdown",
   "metadata": {},
   "source": [
    "####  <span style = \"color:red\">Código Original.</span>\n",
    "<!---\n",
    "plt.scatter(X.ravel(), \n",
    "            y\n",
    "           )\n",
    "lim = plt.axis()\n",
    "y_test4 = PolynomialRegression(4).fit(X, y).predict(X_test)\n",
    "\n",
    "plt.plot(X_test.ravel(), \n",
    "         y_test4\n",
    "        )\n",
    "plt.axis(lim);\n",
    "-->"
   ]
  },
  {
   "cell_type": "code",
   "execution_count": null,
   "metadata": {},
   "outputs": [],
   "source": []
  },
  {
   "cell_type": "code",
   "execution_count": null,
   "metadata": {},
   "outputs": [],
   "source": []
  }
 ],
 "metadata": {
  "colab": {
   "name": "1.PRACTICA GUIADA - Integrando conceptos nuevos.ipynb",
   "provenance": [],
   "version": "0.3.2"
  },
  "kernelspec": {
   "display_name": "Python 3",
   "language": "python",
   "name": "python3"
  },
  "language_info": {
   "codemirror_mode": {
    "name": "ipython",
    "version": 3
   },
   "file_extension": ".py",
   "mimetype": "text/x-python",
   "name": "python",
   "nbconvert_exporter": "python",
   "pygments_lexer": "ipython3",
   "version": "3.7.6"
  }
 },
 "nbformat": 4,
 "nbformat_minor": 4
}
