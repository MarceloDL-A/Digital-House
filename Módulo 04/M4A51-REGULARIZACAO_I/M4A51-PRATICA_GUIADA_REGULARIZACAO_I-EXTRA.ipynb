{
 "cells": [
  {
   "cell_type": "markdown",
   "metadata": {},
   "source": [
    "\n",
    "\n",
    "---------\n",
    "\n",
    "# Regularização por Penalização dos Otimizadores\n",
    "\n",
    "#### Agora vamos entender como a regularização pode nos ajudar a obter melhores resultados para um modelo de Machine Learning. O parâmetro alpha é o peso que se dá aos termos de ajuste dos BETAS da regressão, e pode ser alterado dependendo da regularização que se quer aplicar em um modelo, sendo que alpha=0 é o defalt dos algoritmos para nenhuma regularização sendo aplicada."
   ]
  },
  {
   "cell_type": "code",
   "execution_count": 119,
   "metadata": {},
   "outputs": [],
   "source": [
    "# importando as bibliotecas\n",
    "from sklearn.linear_model import Lasso, LassoCV, Ridge, RidgeCV"
   ]
  },
  {
   "cell_type": "markdown",
   "metadata": {},
   "source": [
    "### LASSO: L1"
   ]
  },
  {
   "cell_type": "code",
   "execution_count": 120,
   "metadata": {},
   "outputs": [
    {
     "name": "stdout",
     "output_type": "stream",
     "text": [
      "\n",
      "df_temp shape (16603, 5151)\n",
      "\n",
      "train shape (13282, 5151)\n",
      "teste shape (3321, 5151)\n",
      "\n",
      "-----Dados de Treino-----\n",
      "RMSE - treino 0.18426296766199826\n",
      "R2 - treino 0.877557264008053\n",
      "\n",
      "-----Dados de Teste-----\n",
      "RMSE - test 0.1912562305199285\n",
      "R2 - test 0.8695052814190354\n",
      "\n",
      "------------------------\n",
      "CPU times: user 41.9 s, sys: 1.39 s, total: 43.3 s\n",
      "Wall time: 24.3 s\n"
     ]
    }
   ],
   "source": [
    "# rodando uma regressão com Lasso\n",
    "# Wall time: 57 s\n",
    "\n",
    "# parametrizando o modelo Lasso com o peso dos termos de correção \n",
    "reg_lasso = Lasso(alpha=.65,random_state=0)\n",
    "# rodando a regressão no modelo lasso\n",
    "%time run_model_with_poly(df, 2, reg_lasso)\n",
    "# ignorando os warnings\n",
    "from warnings import filterwarnings\n",
    "filterwarnings('ignore')"
   ]
  },
  {
   "cell_type": "code",
   "execution_count": 121,
   "metadata": {},
   "outputs": [
    {
     "data": {
      "text/plain": [
       "<bound method BaseEstimator.get_params of Lasso(alpha=0.65, random_state=0)>"
      ]
     },
     "execution_count": 121,
     "metadata": {},
     "output_type": "execute_result"
    }
   ],
   "source": [
    "reg_lasso.get_params"
   ]
  },
  {
   "cell_type": "markdown",
   "metadata": {},
   "source": [
    "#### Utilizando uma Regularização Lasso, o modelo com features polinimias de grau 2 apresenta um erro de treino de 0.18426296766199826, que é significativamente maior do que o erro antes da regularização, porém os dados de teste convergiram com um erro próximo ao treino, com valor de 0.19125623051992854. Isto comprova que o modelo ganhou em capacidade de generalização e entendimento dos padrões dos dados de forma mais geral. Perceba que o hiper-parâmetro ALPHA utilizado foi o $0.65$."
   ]
  },
  {
   "cell_type": "markdown",
   "metadata": {},
   "source": [
    "#### Grid Search para o ALPHA em L1 (Lasso)"
   ]
  },
  {
   "cell_type": "code",
   "execution_count": 122,
   "metadata": {},
   "outputs": [
    {
     "name": "stdout",
     "output_type": "stream",
     "text": [
      "\n",
      "df_temp shape (16603, 5151)\n",
      "\n",
      "train shape (13282, 5151)\n",
      "teste shape (3321, 5151)\n",
      "\n",
      "-----Dados de Treino-----\n",
      "RMSE - treino 0.18177498706137918\n",
      "R2 - treino 0.8808414671499369\n",
      "\n",
      "-----Dados de Teste-----\n",
      "RMSE - test 0.19467137387909675\n",
      "R2 - test 0.8648033473642621\n",
      "\n",
      "------------------------\n",
      "CPU times: user 14min 52s, sys: 15min 1s, total: 29min 54s\n",
      "Wall time: 9min 29s\n"
     ]
    },
    {
     "data": {
      "text/plain": [
       "LassoCV(alphas=[0.01, 0.06, 0.1, 0.3, 0.6, 1], cv=10, n_jobs=-1, random_state=0)"
      ]
     },
     "execution_count": 122,
     "metadata": {},
     "output_type": "execute_result"
    }
   ],
   "source": [
    "# rodando a regressão de Lasso com Cross-Validation\n",
    "# Wall time: 2min 51s \n",
    "\n",
    "# parametrizando o modelo Lasso com os pesos para cross-validation \n",
    "\n",
    "lasso = linear_model.LassoCV(alphas = [0.1, 0.3, 0.5, 1], \n",
    "                             max_iter = 100, \n",
    "                             cv = 5, \n",
    "                             n_jobs = -1, \n",
    "                             random_state = 0\n",
    "                            )\n",
    "\n",
    "# rodando a regressão no modelo Lasso\n",
    "%time \n",
    "run_model_with_poly(df, 2, lasso)"
   ]
  },
  {
   "cell_type": "markdown",
   "metadata": {},
   "source": [
    "#### Obtemos o valor do melhor `alpha` do `Lasso` selecionado pela validação cruzada."
   ]
  },
  {
   "cell_type": "code",
   "execution_count": 1,
   "metadata": {},
   "outputs": [
    {
     "ename": "NameError",
     "evalue": "name 'lasso' is not defined",
     "output_type": "error",
     "traceback": [
      "\u001b[0;31m---------------------------------------------------------------------------\u001b[0m",
      "\u001b[0;31mNameError\u001b[0m                                 Traceback (most recent call last)",
      "\u001b[0;32m<ipython-input-1-7efa328a4e8f>\u001b[0m in \u001b[0;36m<module>\u001b[0;34m\u001b[0m\n\u001b[0;32m----> 1\u001b[0;31m \u001b[0mlasso\u001b[0m\u001b[0;34m.\u001b[0m\u001b[0malpha_\u001b[0m\u001b[0;34m\u001b[0m\u001b[0;34m\u001b[0m\u001b[0m\n\u001b[0m",
      "\u001b[0;31mNameError\u001b[0m: name 'lasso' is not defined"
     ]
    }
   ],
   "source": [
    "lasso.alpha_"
   ]
  },
  {
   "cell_type": "markdown",
   "metadata": {},
   "source": [
    "#### Fazermos um `Grid Search` para o melhor `ALPHA` na regressão `Lasso` pouco altera os resultados (parece um leve `overfit`, com uma métrica um pouco melhor para treino e um pouco pior para teste)."
   ]
  },
  {
   "cell_type": "markdown",
   "metadata": {},
   "source": [
    "### RIDGE: L2"
   ]
  },
  {
   "cell_type": "code",
   "execution_count": 124,
   "metadata": {},
   "outputs": [
    {
     "name": "stdout",
     "output_type": "stream",
     "text": [
      "\n",
      "df_temp shape (16603, 5151)\n",
      "\n",
      "train shape (13282, 5151)\n",
      "teste shape (3321, 5151)\n",
      "\n",
      "-----Dados de Treino-----\n",
      "RMSE - treino 0.15914294303693755\n",
      "R2 - treino 0.9086661693350773\n",
      "\n",
      "-----Dados de Teste-----\n",
      "RMSE - test 0.23183838961455638\n",
      "R2 - test 0.8082512885903682\n",
      "\n",
      "------------------------\n",
      "CPU times: user 17.4 s, sys: 1.26 s, total: 18.7 s\n",
      "Wall time: 11.9 s\n"
     ]
    },
    {
     "data": {
      "text/plain": [
       "Ridge(alpha=0.65, random_state=0)"
      ]
     },
     "execution_count": 124,
     "metadata": {},
     "output_type": "execute_result"
    }
   ],
   "source": [
    "# rodando uma regressão com Ridge\n",
    "# Wall time: 1min 23s\n",
    "\n",
    "# parametrizando o modelo Ridge com o peso dos termos de correção \n",
    "ridge = linear_model.Ridge(alpha = 0.65,random_state=0)\n",
    "# rodando a regressão no modelo Ridge\n",
    "%time run_model_with_poly(df, 2, ridge)"
   ]
  },
  {
   "cell_type": "markdown",
   "metadata": {},
   "source": [
    "#### Obtemos o valor do melhor `alpha` do `Ridge` selecionado pela validação cruzada."
   ]
  },
  {
   "cell_type": "code",
   "execution_count": 125,
   "metadata": {},
   "outputs": [
    {
     "data": {
      "text/plain": [
       "0.65"
      ]
     },
     "execution_count": 125,
     "metadata": {},
     "output_type": "execute_result"
    }
   ],
   "source": [
    "ridge.alpha"
   ]
  },
  {
   "cell_type": "markdown",
   "metadata": {},
   "source": [
    "#### A regressão `Ridge` não respondeu tão bem quanto a `Lasso` para generalização do modelo, uma vez que o resultado de treino foi melhor (menor erro) mas o resultado de teste foi muito pior (erro maior), o que significa maior overfit.\n",
    "\n",
    "#### Dessa forma, o modelo de Regularização a ser adotado deve ser o `Lasso` (L1).\n",
    "\n",
    "#### Grid Search para o ALPHA em L2 (`Ridge`)."
   ]
  },
  {
   "cell_type": "code",
   "execution_count": 126,
   "metadata": {},
   "outputs": [
    {
     "name": "stdout",
     "output_type": "stream",
     "text": [
      "\n",
      "df_temp shape (16603, 5151)\n",
      "\n",
      "train shape (13282, 5151)\n",
      "teste shape (3321, 5151)\n",
      "\n",
      "-----Dados de Treino-----\n",
      "RMSE - treino 0.160040938724176\n",
      "R2 - treino 0.9076325226754425\n",
      "\n",
      "-----Dados de Teste-----\n",
      "RMSE - test 0.23033522623243458\n",
      "R2 - test 0.810729698220803\n",
      "\n",
      "------------------------\n",
      "CPU times: user 12min 2s, sys: 40.1 s, total: 12min 42s\n",
      "Wall time: 7min 32s\n"
     ]
    },
    {
     "data": {
      "text/plain": [
       "RidgeCV(alphas=array([0.01, 0.1 , 0.5 , 0.75, 1.  ]), cv=10)"
      ]
     },
     "execution_count": 126,
     "metadata": {},
     "output_type": "execute_result"
    }
   ],
   "source": [
    "# rodando a regressão de Ridge com Cross-Validation\n",
    "# Wall time: 5min 22s\n",
    "\n",
    "# parametrizando o modelo Ridge com os pesos para cross-validation \n",
    "ridge = linear_model.RidgeCV(alphas = [0.1, 0.5, 0.75, 1],cv = 5)\n",
    "# rodando a regressão no modelo Ridge\n",
    "%time run_model_with_poly(df, 2, ridge)"
   ]
  },
  {
   "cell_type": "code",
   "execution_count": 127,
   "metadata": {},
   "outputs": [
    {
     "data": {
      "text/plain": [
       "1.0"
      ]
     },
     "execution_count": 127,
     "metadata": {},
     "output_type": "execute_result"
    }
   ],
   "source": [
    "# obtendo o valor do melhor alpha do Ridge selecionado pelo Cross-Validation\n",
    "ridge.alpha_"
   ]
  },
  {
   "cell_type": "markdown",
   "metadata": {},
   "source": [
    "#### Para a Regressão `Ridge` continua não respondendo melhor para Regularização do modelo, mesmo com o Grid Search e a seleção do melhor `ALPHA` como $0.1$."
   ]
  },
  {
   "cell_type": "markdown",
   "metadata": {},
   "source": [
    "### ElasticNet"
   ]
  },
  {
   "cell_type": "code",
   "execution_count": 128,
   "metadata": {},
   "outputs": [
    {
     "name": "stdout",
     "output_type": "stream",
     "text": [
      "\n",
      "df_temp shape (16603, 5151)\n",
      "\n",
      "train shape (13282, 5151)\n",
      "teste shape (3321, 5151)\n",
      "\n",
      "-----Dados de Treino-----\n",
      "RMSE - treino 0.21032920448516867\n",
      "R2 - treino 0.8404649690430275\n",
      "\n",
      "-----Dados de Teste-----\n",
      "RMSE - test 0.21262686392895683\n",
      "R2 - test 0.8387134996070484\n",
      "\n",
      "------------------------\n",
      "CPU times: user 14.3 s, sys: 1.11 s, total: 15.4 s\n",
      "Wall time: 9.98 s\n"
     ]
    },
    {
     "data": {
      "text/plain": [
       "ElasticNet(alpha=0.0001, l1_ratio=0.75, normalize=True, random_state=0)"
      ]
     },
     "execution_count": 128,
     "metadata": {},
     "output_type": "execute_result"
    }
   ],
   "source": [
    "# rodando uma regressão ElasticNet\n",
    "\n",
    "# importando a biblioteca do ElasticNet\n",
    "from sklearn.linear_model import ElasticNet, ElasticNetCV\n",
    "\n",
    "# parametrizando o modelo ElasticNet \n",
    "elastic=ElasticNet(normalize=True,alpha=0.0001,l1_ratio=0.75,random_state=0)\n",
    "# rodando a regressão no modelo ElasticNet\n",
    "%time run_model_with_poly(df, 2, elastic)"
   ]
  },
  {
   "cell_type": "markdown",
   "metadata": {},
   "source": [
    "#### A Regressão `ElasticNet` acaba por obter uma métrica `RMSE` maior, comprovando a generalização do modelo. Porém, a metrica da Regressão `Lasso` é muito melhor, por isso a recomendação de estratégia de Regressão permanece a Lasso (L1).\n",
    "\n",
    "#### `Grid Search` para o `ALPHA` em `ElasticNet` (L1 + L2)."
   ]
  },
  {
   "cell_type": "code",
   "execution_count": 129,
   "metadata": {},
   "outputs": [
    {
     "name": "stdout",
     "output_type": "stream",
     "text": [
      "\n",
      "df_temp shape (16603, 5151)\n",
      "\n",
      "train shape (13282, 5151)\n",
      "teste shape (3321, 5151)\n",
      "\n",
      "-----Dados de Treino-----\n",
      "RMSE - treino 0.17692951401928197\n",
      "R2 - treino 0.8871094804668475\n",
      "\n",
      "-----Dados de Teste-----\n",
      "RMSE - test 0.20028425443655254\n",
      "R2 - test 0.8568948156820939\n",
      "\n",
      "------------------------\n",
      "CPU times: user 25min 34s, sys: 31min 11s, total: 56min 46s\n",
      "Wall time: 18min 46s\n"
     ]
    },
    {
     "data": {
      "text/plain": [
       "ElasticNetCV(alphas=[1e-05, 0.0001, 0.001, 0.01, 0.1], cv=10, n_jobs=-1,\n",
       "             random_state=0)"
      ]
     },
     "execution_count": 129,
     "metadata": {},
     "output_type": "execute_result"
    }
   ],
   "source": [
    "# rodando a regressão ElasticNet com Cross-Validation\n",
    "# Wall time: 4min 4s\n",
    "\n",
    "# parametrizando o modelo Ridge com os pesos para cross-validation \n",
    "elastic = linear_model.ElasticNetCV(alphas = [0.001, 0.01, 0.1],cv = 5,n_jobs=-1,random_state=0)\n",
    "# rodando a regressão no modelo Ridge\n",
    "%time run_model_with_poly(df, 2, elastic)"
   ]
  },
  {
   "cell_type": "code",
   "execution_count": 130,
   "metadata": {},
   "outputs": [
    {
     "data": {
      "text/plain": [
       "0.1"
      ]
     },
     "execution_count": 130,
     "metadata": {},
     "output_type": "execute_result"
    }
   ],
   "source": [
    "# obtendo o valor do melhor alpha do ElasticNet selecionado pelo Cross-Validation\n",
    "elastic.alpha_"
   ]
  },
  {
   "cell_type": "markdown",
   "metadata": {},
   "source": [
    "#### Com o melhor `ALPHA` e `ElasticNet` obtém uma mátrica de treino excelente, porém a métrica de teste fica muito distante, o que comprova o `overfit`. dessa forma, continuamos com a Regressão `Lasso` como a melhor opção para este modelo."
   ]
  },
  {
   "cell_type": "markdown",
   "metadata": {},
   "source": [
    "\n",
    "________\n",
    "\n",
    "# Apêndice: dicas de estudo\n",
    "\n",
    "## Portal Action\n",
    "\n",
    "#### Um portal elaborado em conjunto pelas empresas Estatcamp e DigUp, compostas por profissionais capacitados, com mestrado e doutorado em estatística e computação. Conta atualmente com mais de 3 milhões de visualizações ao ano.\n",
    "\n",
    "#### [Portal Action](http://www.portalaction.com.br/)\n",
    "\n",
    "## CsDojo\n",
    "\n",
    "Learning computer science and coding, made easy.\n",
    "\n",
    "#### [csdojo](https://www.csdojo.io/)\n",
    "\n",
    "## Python\n",
    "\n",
    "#### [Python](https://www.python.org/)\n",
    "\n",
    "### Métodos\n",
    "\n",
    "#### [.info()](https://pandas.pydata.org/pandas-docs/stable/reference/api/pandas.DataFrame.info.html)\n",
    "\n",
    "#### [.head()](https://pandas.pydata.org/pandas-docs/stable/reference/api/pandas.DataFrame.head.html)\n",
    "\n",
    "#### [.describe()](https://pandas.pydata.org/pandas-docs/stable/reference/api/pandas.DataFrame.describe.html)\n",
    "\n",
    "#### [numpy.histogram()](https://docs.scipy.org/doc/numpy/reference/generated/numpy.histogram.html)\n",
    "\n",
    "#### [scipy.stats.skew()](https://docs.scipy.org/doc/scipy/reference/generated/scipy.stats.skew.html)\n",
    "\n",
    "\n",
    "### Funções\n",
    "\n",
    "#### [slicing](https://www.oreilly.com/learning/how-do-i-use-the-slice-notation-in-python)\n",
    "\n",
    "#### [.apply()](https://pandas.pydata.org/pandas-docs/stable/reference/api/pandas.DataFrame.apply.html)\n",
    "\n",
    "#### [.groupby()](https://pandas.pydata.org/pandas-docs/stable/reference/api/pandas.DataFrame.groupby.html)\n",
    "\n",
    "#### [aggregation and grouping](https://jakevdp.github.io/PythonDataScienceHandbook/03.08-aggregation-and-grouping.html)\n",
    "\n",
    "#### [.merge()](https://pandas.pydata.org/pandas-docs/stable/reference/api/pandas.DataFrame.merge.html)\n",
    "\n",
    "#### [.get_dummies()](https://pandas.pydata.org/pandas-docs/stable/reference/api/pandas.get_dummies.html)\n",
    "\n",
    "#### [.read_csv()](https://pandas.pydata.org/pandas-docs/stable/reference/api/pandas.read_csv.html)\n",
    "\n",
    "## Libraries\n",
    "\n",
    "#### [missingno](https://github.com/ResidentMario/missingno)\n",
    "\n",
    "## Dataviz Libraries\n",
    "\n",
    "#### [matplotlib](https://matplotlib.org/)\n",
    "\n",
    "#### [matplotlib.pyplot()](https://matplotlib.org/tutorials/introductory/pyplot.html)\n",
    "\n",
    "#### [seaborn](https://seaborn.pydata.org/)\n",
    "\n",
    "#### [seaborn.boxplot()](https://seaborn.pydata.org/generated/seaborn.boxplot.html)\n",
    "\n",
    "#### [seaborn.violinplot()](https://seaborn.pydata.org/generated/seaborn.violinplot.html)\n",
    "\n",
    "\n",
    "\n",
    "\n",
    "\n",
    "\n",
    "\n",
    "\n",
    "\n"
   ]
  },
  {
   "cell_type": "code",
   "execution_count": null,
   "metadata": {},
   "outputs": [],
   "source": []
  }
 ],
 "metadata": {
  "kernelspec": {
   "display_name": "Python 3",
   "language": "python",
   "name": "python3"
  },
  "language_info": {
   "codemirror_mode": {
    "name": "ipython",
    "version": 3
   },
   "file_extension": ".py",
   "mimetype": "text/x-python",
   "name": "python",
   "nbconvert_exporter": "python",
   "pygments_lexer": "ipython3",
   "version": "3.7.6"
  },
  "latex_envs": {
   "LaTeX_envs_menu_present": true,
   "autoclose": false,
   "autocomplete": true,
   "bibliofile": "biblio.bib",
   "cite_by": "apalike",
   "current_citInitial": 1,
   "eqLabelWithNumbers": true,
   "eqNumInitial": 1,
   "hotkeys": {
    "equation": "Ctrl-E",
    "itemize": "Ctrl-I"
   },
   "labels_anchors": false,
   "latex_user_defs": false,
   "report_style_numbering": false,
   "user_envs_cfg": false
  },
  "nteract": {
   "version": "nteract-on-jupyter@1.9.7"
  },
  "toc": {
   "base_numbering": 1,
   "nav_menu": {},
   "number_sections": true,
   "sideBar": true,
   "skip_h1_title": false,
   "title_cell": "Table of Contents",
   "title_sidebar": "Contents",
   "toc_cell": false,
   "toc_position": {},
   "toc_section_display": true,
   "toc_window_display": false
  },
  "varInspector": {
   "cols": {
    "lenName": 16,
    "lenType": 16,
    "lenVar": 40
   },
   "kernels_config": {
    "python": {
     "delete_cmd_postfix": "",
     "delete_cmd_prefix": "del ",
     "library": "var_list.py",
     "varRefreshCmd": "print(var_dic_list())"
    },
    "r": {
     "delete_cmd_postfix": ") ",
     "delete_cmd_prefix": "rm(",
     "library": "var_list.r",
     "varRefreshCmd": "cat(var_dic_list()) "
    }
   },
   "types_to_exclude": [
    "module",
    "function",
    "builtin_function_or_method",
    "instance",
    "_Feature"
   ],
   "window_display": false
  }
 },
 "nbformat": 4,
 "nbformat_minor": 4
}
