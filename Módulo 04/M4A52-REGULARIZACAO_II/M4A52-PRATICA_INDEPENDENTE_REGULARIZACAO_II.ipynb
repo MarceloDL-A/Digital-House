{
 "cells": [
  {
   "cell_type": "markdown",
   "metadata": {
    "colab_type": "text",
    "id": "XTomJkhvRWHf"
   },
   "source": [
    "# Prática Independente: Regularização.\n",
    "\n",
    "#### Nessa prática, vamos exercitar a regularização. O [conjunto de dados](http://data.princeton.edu/wws509/datasets/#salary) consiste em dados salariais de 52 professores de uma pequena universidade, categorizados por:\n",
    "\n",
    "- sx = Sex, coded 1 for female and 0 for male\n",
    "- `rk` = Rank, coded\n",
    "- `1` for assistant professor,\n",
    "- `2` for associate professor, and\n",
    "- `3` for full professor\n",
    "- `yr` = Number of years in current rank\n",
    "- `dg` = Highest degree, coded 1 if doctorate, 0 if masters\n",
    "- `yd` = Number of years since highest degree was earned\n",
    "- `sl` = Academic year salary, in dollars.\n",
    "\n",
    "### Objetivos de aprendizagem:\n",
    "\n",
    "- Praticar o trabalho com variáveis categóricas e a geração de variáveis fictícias;\n",
    "- Usar a regularização para gerar modelos com maior poder de generalização.\n",
    "\n",
    "### Requerimentos:\n",
    "\n",
    "O conjunto de dados contém três variáveis ​​categóricas, cada uma com dois ou três valores: `sx`, `dg`, `rk`. Voc6e deve:\n",
    "\n",
    "- Criar variáveis fictícias (dummy) para cada uma das variáveis categóricas;\n",
    "- Usando pandas `value_counts ()`, observe a distribuição dessas variáveis;\n",
    "- Usando seaborn, gerar [violin plots](https://stanford.edu/~mwaskom/software/seaborn/generated/seaborn.violinplot.html) dos salários usando essas variáveis.\n",
    "- Treinar modelos lineares para prever o salário `sl` dos professores .\n",
    "- Usando pandas, selecionar uma amostra de dados (conjunto de treinamento) e ajustar um modelo linear a essa amostra.\n",
    "- Ajustar um modelo ao conjunto de dados apenas com as variáveis quantitativas e depois com o conjunto de dados inteiro.\n",
    "- Aplicar esse modelo ajustado ao conjunto de testes e comparar os ajustes.\n",
    "- Usar a regularização (por exemplo, RidgeRegression ou Lasso), ajustando o modelo no mesmo conjunto de treinamento e medindo a qualidade do ajuste no conjunto de teste. Como as configurações do conjunto de teste se comparam com e sem regularização?\n",
    "- Prever anos de serviço `yr` ou anos desde a obtenção do título `yd` do salário e usando outras variáveis, se desejado.\n",
    "\n",
    "\n",
    "\n",
    "\n",
    "### Material auxiliar: \n",
    "\n",
    "- [Modelos lineales de scikit-learn](http://scikit-learn.org/stable/modules/linear_model.html), incluindo regularização.\n",
    "\n",
    "- [Crear variables dummy con pandas](http://pandas.pydata.org/pandas-docs/stable/generated/pandas.get_dummies.html)\n"
   ]
  },
  {
   "cell_type": "markdown",
   "metadata": {},
   "source": [
    "#### Exercício 1: Importe as bibliotecas necessárias para os gráficos, a manipulação dos dados e a modelização dos mesmos. Faça a leitura do arquivo `salary.dat.txt`. Investigue as primeiras linhas do dataset, sua forma. Plote gráficos de barras para as distribuições de observações por sexo `sx`, rank `rk` e títulação `dg`. "
   ]
  },
  {
   "cell_type": "code",
   "execution_count": null,
   "metadata": {
    "colab": {},
    "colab_type": "code",
    "id": "AqLgk68nRWHk"
   },
   "outputs": [],
   "source": []
  },
  {
   "cell_type": "code",
   "execution_count": null,
   "metadata": {},
   "outputs": [],
   "source": []
  },
  {
   "cell_type": "code",
   "execution_count": null,
   "metadata": {},
   "outputs": [],
   "source": []
  },
  {
   "cell_type": "code",
   "execution_count": null,
   "metadata": {},
   "outputs": [],
   "source": []
  },
  {
   "cell_type": "code",
   "execution_count": null,
   "metadata": {
    "colab": {},
    "colab_type": "code",
    "id": "ZnFcPkBqRWH2"
   },
   "outputs": [],
   "source": []
  },
  {
   "cell_type": "markdown",
   "metadata": {},
   "source": [
    "#### Exercício 2: Plote gráficos de violino para as distribuições de observações por sexo `sx`, rank `rk` e títulação `dg`. "
   ]
  },
  {
   "cell_type": "code",
   "execution_count": null,
   "metadata": {
    "colab": {},
    "colab_type": "code",
    "id": "FiT-3pSFRWH9"
   },
   "outputs": [],
   "source": []
  },
  {
   "cell_type": "markdown",
   "metadata": {},
   "source": [
    "#### Exercício3: Realize o processo de \"dummização\"das variáveis categóricas `sx`, `rk` e `dg`."
   ]
  },
  {
   "cell_type": "code",
   "execution_count": null,
   "metadata": {
    "colab": {},
    "colab_type": "code",
    "id": "5Y186sjORWIC"
   },
   "outputs": [],
   "source": []
  },
  {
   "cell_type": "markdown",
   "metadata": {},
   "source": [
    "#### Exercício 4: Realize o ajuste do modelo de regressão linear para a previsão de `sl` usandos os atributos `['yr', 'yd']` como preditores, separe o dataset em conjuntos de treino e teste, realize o ajuste e teste a qualidade do modelo ao fim. Em seguida repita o processo usando a regularização `RidgeCV`, compare os resultados."
   ]
  },
  {
   "cell_type": "code",
   "execution_count": null,
   "metadata": {},
   "outputs": [],
   "source": []
  },
  {
   "cell_type": "code",
   "execution_count": null,
   "metadata": {},
   "outputs": [],
   "source": []
  },
  {
   "cell_type": "markdown",
   "metadata": {},
   "source": [
    "#### Exercício 5: Agora submeta o modelo a todos os atributos, a menos de `['sx', 'rk', 'dg', 'sl']` e repita a modelização."
   ]
  },
  {
   "cell_type": "code",
   "execution_count": null,
   "metadata": {},
   "outputs": [],
   "source": []
  },
  {
   "cell_type": "markdown",
   "metadata": {},
   "source": [
    "#### Exercício 6: Repita a modelização do exercício 5 com a aplicação da regularização `RidgeCV`, imprima o coeficiente `alpha_` e discuta os resultados."
   ]
  },
  {
   "cell_type": "code",
   "execution_count": null,
   "metadata": {},
   "outputs": [],
   "source": []
  },
  {
   "cell_type": "code",
   "execution_count": null,
   "metadata": {},
   "outputs": [],
   "source": []
  },
  {
   "cell_type": "markdown",
   "metadata": {},
   "source": [
    "#### Exercício 7: Repita a modelização do exercício 5 com a aplicação da regularização `Lasso`, imprima o coeficiente `alpha_` e discuta os resultados."
   ]
  },
  {
   "cell_type": "code",
   "execution_count": null,
   "metadata": {},
   "outputs": [],
   "source": []
  },
  {
   "cell_type": "code",
   "execution_count": null,
   "metadata": {},
   "outputs": [],
   "source": []
  },
  {
   "cell_type": "code",
   "execution_count": null,
   "metadata": {},
   "outputs": [],
   "source": []
  }
 ],
 "metadata": {
  "colab": {
   "collapsed_sections": [],
   "name": "2.Starter_LAB_Regularización.ipynb",
   "provenance": [],
   "version": "0.3.2"
  },
  "kernelspec": {
   "display_name": "Python 3",
   "language": "python",
   "name": "python3"
  },
  "language_info": {
   "codemirror_mode": {
    "name": "ipython",
    "version": 3
   },
   "file_extension": ".py",
   "mimetype": "text/x-python",
   "name": "python",
   "nbconvert_exporter": "python",
   "pygments_lexer": "ipython3",
   "version": "3.7.6"
  }
 },
 "nbformat": 4,
 "nbformat_minor": 4
}
