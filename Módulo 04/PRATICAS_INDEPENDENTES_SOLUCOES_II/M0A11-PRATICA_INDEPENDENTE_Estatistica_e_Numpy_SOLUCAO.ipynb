{
 "cells": [
  {
   "cell_type": "markdown",
   "metadata": {},
   "source": [
    "# Prática Independente de Estatística e Numpy - SOLUÇÃO.\n",
    "\n",
    "#### Responder às perguntas usando a distribuição definida na variável `dist` na próxima célula."
   ]
  },
  {
   "cell_type": "code",
   "execution_count": 15,
   "metadata": {},
   "outputs": [],
   "source": [
    "import numpy as np\n",
    "from scipy.stats import mode\n",
    "\n",
    "dist = [33.3, 8.0, 2.7, 7.0, 11.3, 10.2, 38.4, 14.7, 46.9, 6.6, 38.6, 41.1, 20.4, 19.5,\n",
    "        102.6, 111.5, 21.8, 27.0, 30.3, 9.3, 19.6, 31.1, 48.8, 8.9, 11.4, 0.6, 23.5,\n",
    "        8.0, 27.5, 69.7, 11.5, 15.5, 1.4, 7.0, 4.6, 6.0, 16.0, 17.2, 6.3, 26.2, 23.9,\n",
    "        45.9, 55.4, 100.8, 22.9, 75.5, 115.5, 58.9, 10.5, 92.6, 12.4, 102.7, 10.2, 167.6,\n",
    "        143.6, 132.3, 134.2, 39.4, 49.7, 12.0, 27.0, 1.3, 4.7, 5.0, 24.1, 21.5, 33.1,\n",
    "        45.6, 46.3, 15.8, 30.7, 15.7, 6.8, 64.6, 39.1, 2.9, 8.0, 5.4, 33.4, 40.0, 22.7,\n",
    "        24.2, 25.7, 85.0, 26.2, 3.3, 20.7, 117.4, 66.8, 44.3, 37.9, 71.8, 161.4, 45.9,\n",
    "        4.6, 6.6, 12.6, 24.4, 21.4, 33.6, 33.7, 18.8, 7.6, 36.3, 1.8, 83.2, 75.1, 71.3,\n",
    "        32.9, 30.6, 16.0, 6.9, 11.0, 9.4, 11.7, 13.8, 39.4, 4.3, 38.1, 60.1, 78.2, 49.6,\n",
    "        14.3, 8.0, 19.3, 30.8, 32.5, 29.6, 28.3, 32.4, 35.7, 36.7, 10.0, 8.5, 12.2, 22.6,\n",
    "        32.1, 25.7, 14.1, 20.9, 23.8, 29.5, 2.9, 42.3, 19.9, 47.5, 15.9, 6.0, 19.3, 38.2,\n",
    "        23.5, 2.7, 27.0, 49.9, 43.5, 31.7, 39.1, 15.1, 18.0, 33.8, 32.1, 50.7, 28.8, 11.6,\n",
    "        74.8, 16.2, 8.3, 36.3, 44.0, 15.6, 48.9, 7.3, 8.2, 29.8, 38.7, 3.9, 7.2, 5.1, 23.7,\n",
    "        48.4, 92.0, 64.3, 97.4, 99.1, 18.0, 7.1, 14.7, 47.1, 41.3, 44.2, 6.5, 44.4, 9.7,\n",
    "        15.5, 23.7, 34.5, 19.9, 58.6, 35.0, 66.1, 74.5, 45.2]"
   ]
  },
  {
   "cell_type": "markdown",
   "metadata": {},
   "source": [
    "#### Exercício 1: Calcular a média de `dist`."
   ]
  },
  {
   "cell_type": "code",
   "execution_count": 16,
   "metadata": {},
   "outputs": [
    {
     "data": {
      "text/plain": [
       "33.995049504950494"
      ]
     },
     "execution_count": 16,
     "metadata": {},
     "output_type": "execute_result"
    }
   ],
   "source": [
    "np.mean(dist)"
   ]
  },
  {
   "cell_type": "markdown",
   "metadata": {},
   "source": [
    "#### Exercício 2: Calcular a mediana de `dist`."
   ]
  },
  {
   "cell_type": "code",
   "execution_count": 17,
   "metadata": {},
   "outputs": [
    {
     "data": {
      "text/plain": [
       "25.95"
      ]
     },
     "execution_count": 17,
     "metadata": {},
     "output_type": "execute_result"
    }
   ],
   "source": [
    "np.median(dist)"
   ]
  },
  {
   "cell_type": "markdown",
   "metadata": {},
   "source": [
    "#### Exercício 3: Arredondar os números de `dist` e calcular a moda"
   ]
  },
  {
   "cell_type": "code",
   "execution_count": 18,
   "metadata": {},
   "outputs": [],
   "source": [
    "dist_rounded = [int(round(n)) for n in dist]"
   ]
  },
  {
   "cell_type": "code",
   "execution_count": 19,
   "metadata": {},
   "outputs": [
    {
     "data": {
      "text/plain": [
       "ModeResult(mode=array([7]), count=array([9]))"
      ]
     },
     "execution_count": 19,
     "metadata": {},
     "output_type": "execute_result"
    }
   ],
   "source": [
    "#[](https://docs.scipy.org/doc/scipy-0.14.0/reference/generated/scipy.stats.mode.html#scipy-stats-mode)\n",
    "mode(dist_rounded)\n",
    "#mode(dist_rounded)[0][0]\n",
    "#mode(dist_rounded)[1][0]"
   ]
  },
  {
   "cell_type": "markdown",
   "metadata": {},
   "source": [
    "#### Exercício 4: Determinar se a `dist` é assimétrica. Caso seja; em que sentido? Por quê?"
   ]
  },
  {
   "cell_type": "code",
   "execution_count": 20,
   "metadata": {},
   "outputs": [
    {
     "data": {
      "text/plain": [
       "True"
      ]
     },
     "execution_count": 20,
     "metadata": {},
     "output_type": "execute_result"
    }
   ],
   "source": [
    "np.median(dist) < np.mean(dist)"
   ]
  },
  {
   "cell_type": "code",
   "execution_count": 21,
   "metadata": {},
   "outputs": [
    {
     "data": {
      "text/plain": [
       "(array([39., 33., 27., 30., 20., 19.,  4.,  5.,  7.,  2.,  2.,  3.,  3.,\n",
       "         3.,  0.,  1.,  1.,  1.,  0.,  2.]),\n",
       " array([  0.6 ,   8.95,  17.3 ,  25.65,  34.  ,  42.35,  50.7 ,  59.05,\n",
       "         67.4 ,  75.75,  84.1 ,  92.45, 100.8 , 109.15, 117.5 , 125.85,\n",
       "        134.2 , 142.55, 150.9 , 159.25, 167.6 ]),\n",
       " <a list of 20 Patch objects>)"
      ]
     },
     "execution_count": 21,
     "metadata": {},
     "output_type": "execute_result"
    },
    {
     "data": {
      "image/png": "[encoded data removed]",
      "text/plain": [
       "<Figure size 432x288 with 1 Axes>"
      ]
     },
     "metadata": {
      "needs_background": "light"
     },
     "output_type": "display_data"
    }
   ],
   "source": [
    "%matplotlib inline\n",
    "import matplotlib.pyplot as plt\n",
    "# é assimétrica à direita já que mediana < média\n",
    "plt.hist(dist, bins = 20)"
   ]
  },
  {
   "cell_type": "markdown",
   "metadata": {},
   "source": [
    "#### Exercício 5: Calcular o intervalo de `dist`."
   ]
  },
  {
   "cell_type": "code",
   "execution_count": 22,
   "metadata": {},
   "outputs": [
    {
     "data": {
      "text/plain": [
       "167.0"
      ]
     },
     "execution_count": 22,
     "metadata": {},
     "output_type": "execute_result"
    }
   ],
   "source": [
    "np.ptp(dist)"
   ]
  },
  {
   "cell_type": "markdown",
   "metadata": {},
   "source": [
    "#### Exercício 6: Calcular a variância de `dist`."
   ]
  },
  {
   "cell_type": "code",
   "execution_count": 23,
   "metadata": {},
   "outputs": [
    {
     "data": {
      "text/plain": [
       "957.8276982648762"
      ]
     },
     "execution_count": 23,
     "metadata": {},
     "output_type": "execute_result"
    }
   ],
   "source": [
    "np.var(dist)"
   ]
  },
  {
   "cell_type": "markdown",
   "metadata": {},
   "source": [
    "#### Exercício 7: Calcular o desvio padrão de `dist`."
   ]
  },
  {
   "cell_type": "code",
   "execution_count": 24,
   "metadata": {},
   "outputs": [
    {
     "data": {
      "text/plain": [
       "30.948791547730522"
      ]
     },
     "execution_count": 24,
     "metadata": {},
     "output_type": "execute_result"
    }
   ],
   "source": [
    "np.std(dist)"
   ]
  },
  {
   "cell_type": "markdown",
   "metadata": {},
   "source": [
    "#### Exercício 8: Arredondar a distribuição e calcular a moda (sem usar a função de SciPy)."
   ]
  },
  {
   "cell_type": "code",
   "execution_count": 25,
   "metadata": {},
   "outputs": [],
   "source": [
    "dist_red = [np.around(r, 0) for r in dist]\n",
    "dist_red = [np.around(r, decimals = 0) for r in dist]"
   ]
  },
  {
   "cell_type": "code",
   "execution_count": 26,
   "metadata": {
    "scrolled": true
   },
   "outputs": [
    {
     "data": {
      "text/plain": [
       "array([ 33.,   8.,   3.,   7.,  11.,  10.,  38.,  15.,  47.,   7.,  39.,\n",
       "        41.,  20.,  20., 103., 112.,  22.,  27.,  30.,   9.,  20.,  31.,\n",
       "        49.,   9.,  11.,   1.,  24.,   8.,  28.,  70.,  12.,  16.,   1.,\n",
       "         7.,   5.,   6.,  16.,  17.,   6.,  26.,  24.,  46.,  55., 101.,\n",
       "        23.,  76., 116.,  59.,  10.,  93.,  12., 103.,  10., 168., 144.,\n",
       "       132., 134.,  39.,  50.,  12.,  27.,   1.,   5.,   5.,  24.,  22.,\n",
       "        33.,  46.,  46.,  16.,  31.,  16.,   7.,  65.,  39.,   3.,   8.,\n",
       "         5.,  33.,  40.,  23.,  24.,  26.,  85.,  26.,   3.,  21., 117.,\n",
       "        67.,  44.,  38.,  72., 161.,  46.,   5.,   7.,  13.,  24.,  21.,\n",
       "        34.,  34.,  19.,   8.,  36.,   2.,  83.,  75.,  71.,  33.,  31.,\n",
       "        16.,   7.,  11.,   9.,  12.,  14.,  39.,   4.,  38.,  60.,  78.,\n",
       "        50.,  14.,   8.,  19.,  31.,  32.,  30.,  28.,  32.,  36.,  37.,\n",
       "        10.,   8.,  12.,  23.,  32.,  26.,  14.,  21.,  24.,  30.,   3.,\n",
       "        42.,  20.,  48.,  16.,   6.,  19.,  38.,  24.,   3.,  27.,  50.,\n",
       "        44.,  32.,  39.,  15.,  18.,  34.,  32.,  51.,  29.,  12.,  75.,\n",
       "        16.,   8.,  36.,  44.,  16.,  49.,   7.,   8.,  30.,  39.,   4.,\n",
       "         7.,   5.,  24.,  48.,  92.,  64.,  97.,  99.,  18.,   7.,  15.,\n",
       "        47.,  41.,  44.,   6.,  44.,  10.,  16.,  24.,  34.,  20.,  59.,\n",
       "        35.,  66.,  74.,  45.])"
      ]
     },
     "execution_count": 26,
     "metadata": {},
     "output_type": "execute_result"
    }
   ],
   "source": [
    "np.around(dist)"
   ]
  },
  {
   "cell_type": "code",
   "execution_count": 27,
   "metadata": {},
   "outputs": [],
   "source": [
    "def moda(lista):\n",
    "    counts = np.bincount(lista)\n",
    "    valor = np.argmax(counts)\n",
    "    ocurr = np.count_nonzero(lista == valor)\n",
    "    return valor, ocurr"
   ]
  },
  {
   "cell_type": "code",
   "execution_count": 28,
   "metadata": {},
   "outputs": [
    {
     "data": {
      "text/plain": [
       "(7, 9)"
      ]
     },
     "execution_count": 28,
     "metadata": {},
     "output_type": "execute_result"
    }
   ],
   "source": [
    "moda(dist_red)"
   ]
  },
  {
   "cell_type": "code",
   "execution_count": null,
   "metadata": {},
   "outputs": [],
   "source": []
  }
 ],
 "metadata": {
  "kernelspec": {
   "display_name": "Python 3",
   "language": "python",
   "name": "python3"
  },
  "language_info": {
   "codemirror_mode": {
    "name": "ipython",
    "version": 3
   },
   "file_extension": ".py",
   "mimetype": "text/x-python",
   "name": "python",
   "nbconvert_exporter": "python",
   "pygments_lexer": "ipython3",
   "version": "3.7.6"
  }
 },
 "nbformat": 4,
 "nbformat_minor": 4
}
