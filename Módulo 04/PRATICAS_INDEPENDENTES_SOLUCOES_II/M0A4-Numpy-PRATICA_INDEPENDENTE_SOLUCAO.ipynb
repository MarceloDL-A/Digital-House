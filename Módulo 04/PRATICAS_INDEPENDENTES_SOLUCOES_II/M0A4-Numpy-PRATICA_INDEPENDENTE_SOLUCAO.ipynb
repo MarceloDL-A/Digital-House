{
 "cells": [
  {
   "cell_type": "markdown",
   "metadata": {
    "colab_type": "text",
    "id": "PQKTjwErEixI"
   },
   "source": [
    "### Conjuntos de dados & NumPy - csv's, funções, numpy e distribuições\n",
    "\n",
    "#### Executa a célula abaixo para carregar os pacotes exigidos"
   ]
  },
  {
   "cell_type": "code",
   "execution_count": 1,
   "metadata": {
    "colab": {
     "autoexec": {
      "startup": false,
      "wait_interval": 0
     }
    },
    "colab_type": "code",
    "id": "dXgEk8ZREixK"
   },
   "outputs": [],
   "source": [
    "import numpy as np\n",
    "import scipy.stats as stats\n",
    "import csv\n",
    "import seaborn as sns\n",
    "import pandas as pd\n",
    "%matplotlib inline"
   ]
  },
  {
   "cell_type": "markdown",
   "metadata": {
    "colab_type": "text",
    "id": "Mlc30RGuEixN"
   },
   "source": [
    "### Dados de vendas\n",
    "\n",
    "#### Para este laboratório, vamos usar uma versão resumida de um conjunto de dados que contém informações sobre as vendas de estabelecimentos econômicos que serão analisados em detalhes posteriormente.\n",
    "\n",
    "#### O csv tem cerca de 200 linhas de dados e 4 colunas. O caminho especificado do csv ```sales_info.csv``` supõe que está no mesmo diretório que o presente notebook. Caso o tenha baixado em outro diretório, você deverá fazer referência de forma relativa ou absoluta (buscar linux path examples relativa/absoluta no Google)."
   ]
  },
  {
   "cell_type": "markdown",
   "metadata": {
    "colab_type": "text",
    "id": "QclwehDCEixO"
   },
   "source": [
    "#### Exercício 1 -  Use o método ```read_csv``` da biblioteca Pandas para criar um dataframe a partir do arquivo. "
   ]
  },
  {
   "cell_type": "code",
   "execution_count": 2,
   "metadata": {
    "colab": {
     "autoexec": {
      "startup": false,
      "wait_interval": 0
     }
    },
    "colab_type": "code",
    "id": "8HEGsrJuEixO"
   },
   "outputs": [
    {
     "data": {
      "text/html": [
       "<div>\n",
       "<style scoped>\n",
       "    .dataframe tbody tr th:only-of-type {\n",
       "        vertical-align: middle;\n",
       "    }\n",
       "\n",
       "    .dataframe tbody tr th {\n",
       "        vertical-align: top;\n",
       "    }\n",
       "\n",
       "    .dataframe thead th {\n",
       "        text-align: right;\n",
       "    }\n",
       "</style>\n",
       "<table border=\"1\" class=\"dataframe\">\n",
       "  <thead>\n",
       "    <tr style=\"text-align: right;\">\n",
       "      <th></th>\n",
       "      <th>volume_sold</th>\n",
       "      <th>2015_margin</th>\n",
       "      <th>2015_q1_sales</th>\n",
       "      <th>2016_q1_sales</th>\n",
       "    </tr>\n",
       "  </thead>\n",
       "  <tbody>\n",
       "    <tr>\n",
       "      <th>0</th>\n",
       "      <td>18.420760</td>\n",
       "      <td>93.802281</td>\n",
       "      <td>337166.53</td>\n",
       "      <td>337804.05</td>\n",
       "    </tr>\n",
       "    <tr>\n",
       "      <th>1</th>\n",
       "      <td>4.776510</td>\n",
       "      <td>21.082425</td>\n",
       "      <td>22351.86</td>\n",
       "      <td>21736.63</td>\n",
       "    </tr>\n",
       "    <tr>\n",
       "      <th>2</th>\n",
       "      <td>16.602401</td>\n",
       "      <td>93.612494</td>\n",
       "      <td>277764.46</td>\n",
       "      <td>306942.27</td>\n",
       "    </tr>\n",
       "    <tr>\n",
       "      <th>3</th>\n",
       "      <td>4.296111</td>\n",
       "      <td>16.824704</td>\n",
       "      <td>16805.11</td>\n",
       "      <td>9307.75</td>\n",
       "    </tr>\n",
       "    <tr>\n",
       "      <th>4</th>\n",
       "      <td>8.156023</td>\n",
       "      <td>35.011457</td>\n",
       "      <td>54411.42</td>\n",
       "      <td>58939.90</td>\n",
       "    </tr>\n",
       "    <tr>\n",
       "      <th>...</th>\n",
       "      <td>...</td>\n",
       "      <td>...</td>\n",
       "      <td>...</td>\n",
       "      <td>...</td>\n",
       "    </tr>\n",
       "    <tr>\n",
       "      <th>195</th>\n",
       "      <td>51.675537</td>\n",
       "      <td>233.533189</td>\n",
       "      <td>434110.57</td>\n",
       "      <td>372240.72</td>\n",
       "    </tr>\n",
       "    <tr>\n",
       "      <th>196</th>\n",
       "      <td>2.794631</td>\n",
       "      <td>11.996118</td>\n",
       "      <td>73789.38</td>\n",
       "      <td>148021.90</td>\n",
       "    </tr>\n",
       "    <tr>\n",
       "      <th>197</th>\n",
       "      <td>7.611698</td>\n",
       "      <td>38.809973</td>\n",
       "      <td>88006.84</td>\n",
       "      <td>31184.18</td>\n",
       "    </tr>\n",
       "    <tr>\n",
       "      <th>198</th>\n",
       "      <td>15.697651</td>\n",
       "      <td>105.035207</td>\n",
       "      <td>117958.96</td>\n",
       "      <td>33324.36</td>\n",
       "    </tr>\n",
       "    <tr>\n",
       "      <th>199</th>\n",
       "      <td>50.275893</td>\n",
       "      <td>225.055138</td>\n",
       "      <td>407738.79</td>\n",
       "      <td>32079.13</td>\n",
       "    </tr>\n",
       "  </tbody>\n",
       "</table>\n",
       "<p>200 rows × 4 columns</p>\n",
       "</div>"
      ],
      "text/plain": [
       "     volume_sold  2015_margin  2015_q1_sales  2016_q1_sales\n",
       "0      18.420760    93.802281      337166.53      337804.05\n",
       "1       4.776510    21.082425       22351.86       21736.63\n",
       "2      16.602401    93.612494      277764.46      306942.27\n",
       "3       4.296111    16.824704       16805.11        9307.75\n",
       "4       8.156023    35.011457       54411.42       58939.90\n",
       "..           ...          ...            ...            ...\n",
       "195    51.675537   233.533189      434110.57      372240.72\n",
       "196     2.794631    11.996118       73789.38      148021.90\n",
       "197     7.611698    38.809973       88006.84       31184.18\n",
       "198    15.697651   105.035207      117958.96       33324.36\n",
       "199    50.275893   225.055138      407738.79       32079.13\n",
       "\n",
       "[200 rows x 4 columns]"
      ]
     },
     "execution_count": 2,
     "metadata": {},
     "output_type": "execute_result"
    }
   ],
   "source": [
    "sales_data = pd.read_csv(\"sales_info.csv\")\n",
    "sales_data"
   ]
  },
  {
   "cell_type": "markdown",
   "metadata": {
    "colab_type": "text",
    "id": "b34YIk0sEixT"
   },
   "source": [
    "#### Exercício 2 -  Transforme a série em um array de numpy, use o método ```np.array()``` para transformar a série ```volume_sold``` do dataframe gerado em um array de numpy"
   ]
  },
  {
   "cell_type": "code",
   "execution_count": 3,
   "metadata": {
    "colab": {
     "autoexec": {
      "startup": false,
      "wait_interval": 0
     }
    },
    "colab_type": "code",
    "id": "oQP2kBKMEixU"
   },
   "outputs": [
    {
     "data": {
      "text/plain": [
       "array([18.42076049,  4.77650992, 16.60240061,  4.2961115 ,  8.15602328,\n",
       "        5.00512243, 14.60675   ,  4.45646649,  5.04752965,  5.38807024,\n",
       "        9.34734863, 10.93039773,  6.2702086 , 12.39591912,  4.5577119 ,\n",
       "        4.20012243, 10.25286989, 12.07678476,  3.72509524,  3.21072663,\n",
       "        6.29097143,  7.43482132,  4.37622478, 12.98891278, 11.69745575,\n",
       "        5.96517513,  3.94522273,  7.36958531,  7.34350883, 12.35002735,\n",
       "        8.41791968, 10.26083617,  7.8243537 , 10.33143005, 12.5284878 ,\n",
       "       18.74475053,  6.65773264, 10.63212894,  6.92770423,  6.61817422,\n",
       "        7.12444444,  9.84966032, 11.50583776,  6.30981315, 10.18662198,\n",
       "       10.12217933, 10.8003469 ,  7.26782845, 10.67371667,  9.15026866,\n",
       "        8.12418188,  6.2757997 , 10.67729533,  5.88898829, 10.64017145,\n",
       "        4.75559643, 10.24688407, 10.29268081,  4.41819549,  7.10134735,\n",
       "        8.00611902,  7.79050338, 11.12938226,  9.34847654,  6.31088644,\n",
       "       11.62560606,  6.65440718,  7.93041477,  9.00356232, 14.43943538,\n",
       "       11.01154049,  5.72389564,  7.77732012,  4.75918373,  7.78586692,\n",
       "        5.03499141, 11.68450984,  5.1477291 , 10.08603038,  7.94465682,\n",
       "        5.29439979, 11.8265363 ,  6.30092587,  8.64269488,  6.04822839,\n",
       "        9.47492914,  3.99185767,  8.59207381,  7.21148957,  8.19108557,\n",
       "        7.6953116 , 13.63515001,  6.96681682, 11.23232377,  5.09546375,\n",
       "       11.93688366,  5.90627376,  9.12709469,  7.75445727,  7.58599675,\n",
       "        7.43725208,  9.87989008,  9.30319389,  9.21365051,  5.18177205,\n",
       "        8.55507775,  5.7812659 ,  8.07102301, 10.12500327, 11.01965167,\n",
       "        8.17666775,  9.42171292,  4.85870922,  9.31378526,  8.30018037,\n",
       "        6.50688777,  9.58520997, 12.45572275,  8.09288313,  8.68651838,\n",
       "        8.34731753,  9.29224056,  9.77711182, 29.87803004,  8.78393692,\n",
       "       11.97576852, 11.14010214,  7.56054882,  7.39098799,  6.43360589,\n",
       "       13.79997745,  6.44703955,  8.01794478,  6.25535543,  9.69742182,\n",
       "        7.77268351,  8.75192031,  6.79288938,  7.68249438,  4.38545512,\n",
       "        3.6067102 ,  8.45364706,  5.21488186,  8.4005615 ,  6.84136328,\n",
       "       12.50996726,  9.01487006,  7.20036425,  5.77809677,  4.94129393,\n",
       "        6.0004507 , 11.99711748, 10.63776912,  8.5642281 ,  8.62268641,\n",
       "        4.83114713, 10.2701849 , 12.58169456, 16.05997067, 11.86773859,\n",
       "       10.29450113,  4.17606557,  9.36189873, 11.09170854,  5.32449664,\n",
       "        6.63090439,  8.58392405,  5.53106109,  6.1391231 ,  8.47737603,\n",
       "        8.44393241,  5.15196394,  6.53706865,  8.50044524,  3.93154327,\n",
       "        6.16368914,  4.90444712,  7.40241271, 47.50326923, 55.73918009,\n",
       "       11.84078032,  7.00229358,  8.75314207,  3.1477413 ,  7.19677879,\n",
       "       76.20369181, 10.80433711, 10.70532705, 51.80068627,  5.88277872,\n",
       "        6.68640645,  5.83335488, 45.55609564,  5.17260575, 10.11801802,\n",
       "       51.67553742,  2.7946315 ,  7.6116978 , 15.69765127, 50.27589322])"
      ]
     },
     "execution_count": 3,
     "metadata": {},
     "output_type": "execute_result"
    }
   ],
   "source": [
    "volume_sold = np.array(sales_data[\"volume_sold\"])\n",
    "volume_sold"
   ]
  },
  {
   "cell_type": "markdown",
   "metadata": {
    "colab_type": "text",
    "id": "mLTN_PWUEixW"
   },
   "source": [
    "#### Exercício 3 - Imprima os 10 primeiros itens da coluna ```volume_sold``` usando o ```array slicing```."
   ]
  },
  {
   "cell_type": "code",
   "execution_count": 4,
   "metadata": {
    "colab": {
     "autoexec": {
      "startup": false,
      "wait_interval": 0
     }
    },
    "colab_type": "code",
    "id": "rcjCNebgEixX",
    "outputId": "0b9dc8eb-2885-4778-deb0-c9ef53ba1cb4"
   },
   "outputs": [
    {
     "data": {
      "text/plain": [
       "array([18.42076049,  4.77650992, 16.60240061,  4.2961115 ,  8.15602328,\n",
       "        5.00512243, 14.60675   ,  4.45646649,  5.04752965,  5.38807024])"
      ]
     },
     "execution_count": 4,
     "metadata": {},
     "output_type": "execute_result"
    }
   ],
   "source": [
    "volume_sold[0:10]"
   ]
  },
  {
   "cell_type": "markdown",
   "metadata": {
    "colab_type": "text",
    "id": "xMtaCQnHEixc"
   },
   "source": [
    "#### Exercício 4 - Imprimir o tipo de dado do array, utilize a propriedade dos arrays dtype para conhecer o tipo de dado do array"
   ]
  },
  {
   "cell_type": "code",
   "execution_count": 5,
   "metadata": {
    "colab": {
     "autoexec": {
      "startup": false,
      "wait_interval": 0
     }
    },
    "colab_type": "code",
    "id": "yne8_krpEixc",
    "outputId": "53c5e463-06ad-4130-efd1-60fee458c5c4"
   },
   "outputs": [
    {
     "data": {
      "text/plain": [
       "dtype('float64')"
      ]
     },
     "execution_count": 5,
     "metadata": {},
     "output_type": "execute_result"
    }
   ],
   "source": [
    "volume_sold.dtype"
   ]
  },
  {
   "cell_type": "markdown",
   "metadata": {
    "colab_type": "text",
    "id": "9ExHhiYFEixg"
   },
   "source": [
    "#### Exercício 5 - Escreva uma função para imprimir as informações resumidas\n",
    "\n",
    "#### A função deve:\n",
    "\n",
    "- Usar dois parâmetros: o nome da coluna e os dados associados a essa coluna\n",
    "- Imprimir as informações, indicando claramente de que se trata cada item impresso:\n",
    "    1. Imprimir o nome da coluna\n",
    "    2. Imprimir a média dos dados usando ```np.mean()```\n",
    "    3. Imprimir a mediana dos dados usando ```np.median()``` \n",
    "    4. Imprimir a moda dos dados arredondados usando ```stats.mode()```\n",
    "    5. Imprimir a variância dos dados usando ```np.var()```\n",
    "    6. Imprimir o desvio padrão dos dados usando ```np.std()```\n",
    "\n",
    "#### Levar em consideração que para poder imprimir, será necessário converter os valores numéricos retornados por essas funções em strings. Para isso, usar a função ```str()```."
   ]
  },
  {
   "cell_type": "code",
   "execution_count": 6,
   "metadata": {
    "colab": {
     "autoexec": {
      "startup": false,
      "wait_interval": 0
     }
    },
    "colab_type": "code",
    "id": "USLL6ML3Eixh"
   },
   "outputs": [],
   "source": [
    "def summary_statistics(column, data):\n",
    "    print ('COLUNA: ' + column)\n",
    "    print ('média: ' + str(np.mean(data)))\n",
    "    print ('mediana: ' + str(np.median(data)))\n",
    "#    print ('moda: ' + str(stats.mode([round(d) for d in data])))\n",
    "    print ('moda: ' + str(stats.mode(data)))\n",
    "#    print ('moda: ' + str(stats.mode(round(d) for d in data)))\n",
    "    print ('variância: ' + str(np.var(data)))\n",
    "    print ('desvio padrão: ' + str(np.std(data)))"
   ]
  },
  {
   "cell_type": "markdown",
   "metadata": {
    "colab_type": "text",
    "id": "okB8b4AUEixj"
   },
   "source": [
    "#### Exercício 5a - Usando a função definida, imprimir as medidas para ```volume_sold```"
   ]
  },
  {
   "cell_type": "code",
   "execution_count": 7,
   "metadata": {
    "colab": {
     "autoexec": {
      "startup": false,
      "wait_interval": 0
     }
    },
    "colab_type": "code",
    "id": "D2RuiOsoEixk",
    "outputId": "b79c343f-65d8-4802-f839-63bfe7f061a5"
   },
   "outputs": [
    {
     "name": "stdout",
     "output_type": "stream",
     "text": [
      "COLUNA: volume_sold\n",
      "média: 10.0186840789888\n",
      "mediana: 8.16634551564\n",
      "moda: ModeResult(mode=array([2.7946315]), count=array([1]))\n",
      "variância: 84.12996520049941\n",
      "desvio padrão: 9.172238832504277\n"
     ]
    }
   ],
   "source": [
    "summary_statistics('volume_sold', sales_data['volume_sold'])"
   ]
  },
  {
   "cell_type": "markdown",
   "metadata": {
    "colab_type": "text",
    "id": "9SWlGptHEixn"
   },
   "source": [
    "#### Exercício 5b - Usando a função definida, imprimir as medidas para ```2015_margin```."
   ]
  },
  {
   "cell_type": "code",
   "execution_count": 8,
   "metadata": {
    "colab": {
     "autoexec": {
      "startup": false,
      "wait_interval": 0
     }
    },
    "colab_type": "code",
    "id": "yvyqO0xjEixp",
    "outputId": "85355166-d17a-49ba-c7e1-a64a6768031a"
   },
   "outputs": [
    {
     "name": "stdout",
     "output_type": "stream",
     "text": [
      "COLUNA: 2015_margin\n",
      "média: 46.85889513792352\n",
      "mediana: 36.5621438181\n",
      "moda: ModeResult(mode=array([11.9961177]), count=array([1]))\n",
      "variância: 2016.0616629583994\n",
      "desvio padrão: 44.90057530765502\n"
     ]
    }
   ],
   "source": [
    "summary_statistics('2015_margin', sales_data['2015_margin'])"
   ]
  },
  {
   "cell_type": "markdown",
   "metadata": {
    "colab_type": "text",
    "id": "xJZ0XH2GEixs"
   },
   "source": [
    "#### Exercício 5c - Usando a função definida, imprimir as medidas para ```2015_q1_sales```."
   ]
  },
  {
   "cell_type": "code",
   "execution_count": 9,
   "metadata": {
    "colab": {
     "autoexec": {
      "startup": false,
      "wait_interval": 0
     }
    },
    "colab_type": "code",
    "id": "oiX_kDooEixt",
    "outputId": "08f74916-d0f4-4534-8f55-2e7aa2796296"
   },
   "outputs": [
    {
     "name": "stdout",
     "output_type": "stream",
     "text": [
      "COLUNA: 2015_q1_sales\n",
      "média: 154631.66819999996\n",
      "mediana: 104199.41\n",
      "moda: ModeResult(mode=array([4151.93]), count=array([1]))\n",
      "variância: 47430301462.33151\n",
      "desvio padrão: 217784.9890656643\n"
     ]
    }
   ],
   "source": [
    "summary_statistics('2015_q1_sales', sales_data['2015_q1_sales'])"
   ]
  },
  {
   "cell_type": "markdown",
   "metadata": {
    "colab_type": "text",
    "id": "lqNcoBBYEixx"
   },
   "source": [
    "#### Exercício 5d - Usando a função definida, imprimir as medidas para ```2016_q1_sales```."
   ]
  },
  {
   "cell_type": "code",
   "execution_count": 10,
   "metadata": {
    "colab": {
     "autoexec": {
      "startup": false,
      "wait_interval": 0
     }
    },
    "colab_type": "code",
    "id": "q-tQI40rEixz",
    "outputId": "ea654047-3f7d-4da6-e960-99e57f872193"
   },
   "outputs": [
    {
     "name": "stdout",
     "output_type": "stream",
     "text": [
      "COLUNA: 2016_q1_sales\n",
      "média: 154699.17875\n",
      "mediana: 103207.20000000001\n",
      "moda: ModeResult(mode=array([3536.14]), count=array([1]))\n",
      "variância: 47139411653.445244\n",
      "desvio padrão: 217116.12481215034\n"
     ]
    }
   ],
   "source": [
    "summary_statistics('2016_q1_sales', sales_data['2016_q1_sales'])"
   ]
  },
  {
   "cell_type": "markdown",
   "metadata": {
    "colab_type": "text",
    "id": "UvleOj7MEix3"
   },
   "source": [
    "#### Exercício 6 - Representar as distribuições graficamente.\n",
    "\n",
    "#### Mais abaixo, fornecemos uma função para representação gráfica chamada ```distribution_plotter()```. Ela usa dois parâmetros: o nome da coluna e os dados associados a essa coluna.\n",
    "\n",
    "#### Em células individuais, representar graficamente as distribuições de cada uma das 4 colunas. Os dados são assimétricos ou simétricos?"
   ]
  },
  {
   "cell_type": "code",
   "execution_count": 11,
   "metadata": {
    "colab": {
     "autoexec": {
      "startup": false,
      "wait_interval": 0
     }
    },
    "colab_type": "code",
    "id": "6r_ExxcxEix4"
   },
   "outputs": [],
   "source": [
    "def distribution_plotter(column, data):\n",
    "    sns.set(rc = {\"figure.figsize\": (10, 7)})\n",
    "    sns.set_style(\"white\")\n",
    "    dist = sns.distplot(data, hist_kws = {'alpha':0.2}, kde_kws = {'linewidth':5})\n",
    "    dist.set_title('Distribuição de ' + column + '\\n', fontsize = 16)\n",
    "    return"
   ]
  },
  {
   "cell_type": "code",
   "execution_count": 12,
   "metadata": {
    "colab": {
     "autoexec": {
      "startup": false,
      "wait_interval": 0
     }
    },
    "colab_type": "code",
    "id": "f2PiqvgPEix7",
    "outputId": "32a3c443-e9fa-4b22-9348-841e46b0fe3a"
   },
   "outputs": [
    {
     "data": {
      "image/png": "[encoded data removed]",
      "text/plain": [
       "<Figure size 720x504 with 1 Axes>"
      ]
     },
     "metadata": {},
     "output_type": "display_data"
    }
   ],
   "source": [
    "distribution_plotter('volume_sold', sales_data['volume_sold'])"
   ]
  },
  {
   "cell_type": "code",
   "execution_count": 13,
   "metadata": {
    "colab": {
     "autoexec": {
      "startup": false,
      "wait_interval": 0
     }
    },
    "colab_type": "code",
    "id": "J5rHEP4lEix-",
    "outputId": "c40e13e1-844b-485c-a032-2ba6930323b7"
   },
   "outputs": [
    {
     "data": {
      "image/png": "[encoded data removed]",
      "text/plain": [
       "<Figure size 720x504 with 1 Axes>"
      ]
     },
     "metadata": {},
     "output_type": "display_data"
    }
   ],
   "source": [
    "distribution_plotter('2015_margin', sales_data['2015_margin'])"
   ]
  },
  {
   "cell_type": "code",
   "execution_count": 14,
   "metadata": {
    "colab": {
     "autoexec": {
      "startup": false,
      "wait_interval": 0
     }
    },
    "colab_type": "code",
    "id": "PaDkBUKGEiyB",
    "outputId": "653cd931-7cf5-4d10-aa75-9fe80e41191a"
   },
   "outputs": [
    {
     "data": {
      "image/png": "[encoded data removed]",
      "text/plain": [
       "<Figure size 720x504 with 1 Axes>"
      ]
     },
     "metadata": {},
     "output_type": "display_data"
    }
   ],
   "source": [
    "distribution_plotter('2015_q1_sales', sales_data['2015_q1_sales'])"
   ]
  },
  {
   "cell_type": "code",
   "execution_count": 15,
   "metadata": {
    "colab": {
     "autoexec": {
      "startup": false,
      "wait_interval": 0
     }
    },
    "colab_type": "code",
    "id": "1MkOgdw3EiyG",
    "outputId": "28a695e7-237f-4185-c3cc-e41ebdad6771"
   },
   "outputs": [
    {
     "data": {
      "image/png": "[encoded data removed]",
      "text/plain": [
       "<Figure size 720x504 with 1 Axes>"
      ]
     },
     "metadata": {},
     "output_type": "display_data"
    }
   ],
   "source": [
    "distribution_plotter('2016_q1_sales', sales_data['2016_q1_sales'])"
   ]
  },
  {
   "cell_type": "code",
   "execution_count": null,
   "metadata": {},
   "outputs": [],
   "source": []
  },
  {
   "cell_type": "code",
   "execution_count": null,
   "metadata": {},
   "outputs": [],
   "source": []
  }
 ],
 "metadata": {
  "colab": {
   "default_view": {},
   "name": "LAB_Solution_Numpy_pt_br.ipynb",
   "provenance": [],
   "version": "0.3.2",
   "views": {}
  },
  "kernelspec": {
   "display_name": "Python 3",
   "language": "python",
   "name": "python3"
  },
  "language_info": {
   "codemirror_mode": {
    "name": "ipython",
    "version": 3
   },
   "file_extension": ".py",
   "mimetype": "text/x-python",
   "name": "python",
   "nbconvert_exporter": "python",
   "pygments_lexer": "ipython3",
   "version": "3.7.6"
  }
 },
 "nbformat": 4,
 "nbformat_minor": 4
}
