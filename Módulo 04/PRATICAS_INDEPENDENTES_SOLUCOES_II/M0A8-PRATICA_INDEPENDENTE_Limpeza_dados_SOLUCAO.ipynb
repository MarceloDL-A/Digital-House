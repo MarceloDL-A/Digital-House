{
 "cells": [
  {
   "cell_type": "markdown",
   "metadata": {},
   "source": [
    "# PRATICA INDEPENDENTE - Limpeza de dados - Solução.\n",
    "\n",
    "\n",
    "### Utilizando o arquivo \"`sales.csv`\" responda às seguintes questões:"
   ]
  },
  {
   "cell_type": "code",
   "execution_count": null,
   "metadata": {},
   "outputs": [],
   "source": [
    "import pandas as pd\n",
    "import numpy as np"
   ]
  },
  {
   "cell_type": "markdown",
   "metadata": {},
   "source": [
    "#### Exercício 1: Carregá-lo em um dataframe e inspecionar os tipos de dados."
   ]
  },
  {
   "cell_type": "code",
   "execution_count": null,
   "metadata": {},
   "outputs": [],
   "source": [
    "sales = pd.read_csv('sales.csv')"
   ]
  },
  {
   "cell_type": "code",
   "execution_count": null,
   "metadata": {},
   "outputs": [],
   "source": [
    "sales.head(100)\n",
    "#sales.shape"
   ]
  },
  {
   "cell_type": "code",
   "execution_count": null,
   "metadata": {},
   "outputs": [],
   "source": [
    "sales.info()"
   ]
  },
  {
   "cell_type": "markdown",
   "metadata": {},
   "source": [
    "#### Exercício 2: Supondo que descobrimos que todos os valores da coluna 1 estão incorretos e que deveríamos somar 1 unidade a cada um deles. Utilizar `df.apply()` para adicionar essa quantidade aos valores."
   ]
  },
  {
   "cell_type": "code",
   "execution_count": null,
   "metadata": {},
   "outputs": [],
   "source": [
    "sales[\"Account\"] = sales[\"Account\"].apply(lambda x: x + 1)\n",
    "sales"
   ]
  },
  {
   "cell_type": "markdown",
   "metadata": {},
   "source": [
    "#### Exercício 3: Mudar todos os valores da coluna `price` maiores do que `50000` para `NaN`. Realize a contagem dos elementos da coluna `Account`  e depois agrupe o dataframe pelo atributo `Manager`."
   ]
  },
  {
   "cell_type": "code",
   "execution_count": null,
   "metadata": {},
   "outputs": [],
   "source": [
    "sales[\"Price\"] = sales[\"Price\"].apply(lambda x: np.nan if x > 50000 else x)"
   ]
  },
  {
   "cell_type": "code",
   "execution_count": null,
   "metadata": {},
   "outputs": [],
   "source": [
    "sales.head(10)"
   ]
  },
  {
   "cell_type": "code",
   "execution_count": null,
   "metadata": {},
   "outputs": [],
   "source": [
    "pd.value_counts(sales[\"Account\"])"
   ]
  },
  {
   "cell_type": "code",
   "execution_count": null,
   "metadata": {},
   "outputs": [],
   "source": [
    "sales.groupby(by = 'Manager')\n",
    "sales"
   ]
  },
  {
   "cell_type": "markdown",
   "metadata": {},
   "source": [
    "#### Exercício 4: Na coluna `Status` substitua as expressões `won` por `finalized`.  Depois realize uma contagem, usando o método `.value_counts()`, para cada uma das colunas do dataset."
   ]
  },
  {
   "cell_type": "code",
   "execution_count": null,
   "metadata": {},
   "outputs": [],
   "source": [
    "#sales.head()\n",
    "sales.columns"
   ]
  },
  {
   "cell_type": "code",
   "execution_count": null,
   "metadata": {},
   "outputs": [],
   "source": [
    "sales[\"Status\"] = sales[\"Status\"].apply(lambda x: 'finalized' if x == 'won' else x)\n",
    "sales"
   ]
  },
  {
   "cell_type": "code",
   "execution_count": null,
   "metadata": {},
   "outputs": [],
   "source": [
    "for column in sales.columns:\n",
    "    print (\"---- %s ---\" % column)\n",
    "    print (sales[column].value_counts())"
   ]
  },
  {
   "cell_type": "markdown",
   "metadata": {},
   "source": [
    "### Agora utilizando o arquivo \"`googleplaystore.csv`\" realize os seguintes exercícios:"
   ]
  },
  {
   "cell_type": "code",
   "execution_count": null,
   "metadata": {},
   "outputs": [],
   "source": [
    "googleplaystore = pd.read_csv('googleplaystore.csv', index_col = 0)\n",
    "googleplaystore.head()"
   ]
  },
  {
   "cell_type": "code",
   "execution_count": null,
   "metadata": {},
   "outputs": [],
   "source": [
    "googleplaystore.info()"
   ]
  },
  {
   "cell_type": "markdown",
   "metadata": {},
   "source": [
    "#### Exercício 5: Realize o tratamento dos atributos começando por `price`, utilize a função [`str.replace`](https://docs.python.org/2/library/stdtypes.html?highlight=replace#str.replace) para subistituir os valores que não fazem sentido nesse atributo."
   ]
  },
  {
   "cell_type": "code",
   "execution_count": null,
   "metadata": {},
   "outputs": [],
   "source": [
    "googleplaystore['Price'].unique() \n",
    "googleplaystore['Price'] = googleplaystore['Price'].str.replace('Everyone', 'nan')\n",
    "googleplaystore['Price'] = googleplaystore['Price'].str.replace('$','')\n",
    "googleplaystore['Price'] = googleplaystore['Price'].astype(float)\n",
    "googleplaystore['Price'].unique()"
   ]
  },
  {
   "cell_type": "markdown",
   "metadata": {},
   "source": [
    "#### Exercício 6: Em seguida cheque os valores para `Reviews`, convertendo-o de `str` para `int`."
   ]
  },
  {
   "cell_type": "code",
   "execution_count": null,
   "metadata": {},
   "outputs": [],
   "source": [
    "googleplaystore['Reviews'] = googleplaystore['Reviews'].str.replace('3.0M', '3')\n",
    "googleplaystore['Reviews'] = googleplaystore['Reviews'].astype(int)\n",
    "#googleplaystore['Reviews'].unique()\n",
    "googleplaystore.info()"
   ]
  },
  {
   "cell_type": "markdown",
   "metadata": {},
   "source": [
    "#### Exercício 7: Agora, complete os valores `na` com a média de cada coluna e agrupe o dataframe resultante por `category`."
   ]
  },
  {
   "cell_type": "code",
   "execution_count": null,
   "metadata": {},
   "outputs": [],
   "source": [
    "googleplaystore.fillna(googleplaystore.groupby('Category').transform('mean'))"
   ]
  },
  {
   "cell_type": "code",
   "execution_count": null,
   "metadata": {},
   "outputs": [],
   "source": []
  },
  {
   "cell_type": "code",
   "execution_count": null,
   "metadata": {},
   "outputs": [],
   "source": []
  }
 ],
 "metadata": {
  "kernelspec": {
   "display_name": "Python 3",
   "language": "python",
   "name": "python3"
  },
  "language_info": {
   "codemirror_mode": {
    "name": "ipython",
    "version": 3
   },
   "file_extension": ".py",
   "mimetype": "text/x-python",
   "name": "python",
   "nbconvert_exporter": "python",
   "pygments_lexer": "ipython3",
   "version": "3.7.6"
  }
 },
 "nbformat": 4,
 "nbformat_minor": 4
}
