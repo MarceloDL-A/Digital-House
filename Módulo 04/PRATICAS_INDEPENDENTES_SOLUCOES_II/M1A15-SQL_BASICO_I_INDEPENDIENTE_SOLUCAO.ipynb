{
 "cells": [
  {
   "cell_type": "markdown",
   "metadata": {},
   "source": [
    "# Outro DB para você exercitar\n",
    "[Usaremos dados de exemplo do site doFactory](https://www.dofactory.com/sql/sample-database).\n",
    "\n",
    "#### Para recriar o banco de dados em SQLite, sem Python, basta executar o arquivo com os comandos SQL na linha de comando do sistema operacional:\n",
    "\n",
    "```shell\n",
    "sqlite3 doFactory.db < sample-doFactory-dump.sql\n",
    "```\n",
    "\n",
    "#### Use Python para criar o DB e fazer algumas queries."
   ]
  },
  {
   "cell_type": "markdown",
   "metadata": {},
   "source": [
    "## Crie o DB\n",
    "\n",
    "#### Vamos primeiro usar a estrutura e dados do arquivo `sql-doFactory-database.sql` para criar um banco de dados no arquivo `database.db`."
   ]
  },
  {
   "cell_type": "code",
   "execution_count": null,
   "metadata": {},
   "outputs": [],
   "source": [
    "import pandas as pd\n",
    "import sqlite3\n",
    "\n",
    "db = sqlite3.connect('doFactory.db')"
   ]
  },
  {
   "cell_type": "code",
   "execution_count": null,
   "metadata": {},
   "outputs": [],
   "source": [
    "script = 'sample-doFactory-dump.sql'\n",
    "\n",
    "db.cursor().executescript(open(script).read())"
   ]
  },
  {
   "cell_type": "markdown",
   "metadata": {},
   "source": [
    "## SQLite com Pandas\n",
    "\n",
    "#### Agora começamos a fazer queries:"
   ]
  },
  {
   "cell_type": "markdown",
   "metadata": {},
   "source": [
    "#### Liste todos os fornecedores (suppliers)"
   ]
  },
  {
   "cell_type": "code",
   "execution_count": null,
   "metadata": {},
   "outputs": [],
   "source": [
    "query = \"SELECT CompanyName FROM 'Supplier' ORDER BY CompanyName;\"\n",
    "\n",
    "queryResult = pd.read_sql_query(query,db)\n",
    "\n",
    "queryResult"
   ]
  },
  {
   "cell_type": "markdown",
   "metadata": {},
   "source": [
    "#### Faça um ranking de fornecedores ordenados por quem mais vende:"
   ]
  },
  {
   "cell_type": "code",
   "execution_count": null,
   "metadata": {},
   "outputs": [],
   "source": [
    "query = \"\"\"\n",
    "\n",
    "SELECT\n",
    "    s.CompanyName,\n",
    "    sum(o.UnitPrice*o.Quantity) AS totalSales\n",
    "\n",
    "    FROM OrderItem AS o INNER JOIN Product AS p INNER JOIN Supplier AS s\n",
    "\n",
    "    ON o.ProductID = p.ID AND p.SupplierID = s.ID\n",
    "\n",
    "    GROUP BY s.ID\n",
    "\n",
    "    ORDER BY totalSales DESC\n",
    "\"\"\"\n",
    "\n",
    "queryResult = pd.read_sql_query(query,db)\n",
    "\n",
    "queryResult"
   ]
  },
  {
   "cell_type": "code",
   "execution_count": null,
   "metadata": {},
   "outputs": [],
   "source": []
  }
 ],
 "metadata": {
  "kernelspec": {
   "display_name": "Python 3",
   "language": "python",
   "name": "python3"
  },
  "language_info": {
   "codemirror_mode": {
    "name": "ipython",
    "version": 3
   },
   "file_extension": ".py",
   "mimetype": "text/x-python",
   "name": "python",
   "nbconvert_exporter": "python",
   "pygments_lexer": "ipython3",
   "version": "3.7.6"
  }
 },
 "nbformat": 4,
 "nbformat_minor": 4
}
