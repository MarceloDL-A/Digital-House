{
 "cells": [
  {
   "cell_type": "markdown",
   "metadata": {},
   "source": [
    "# Prática independente - Gradiente Descendente - Solução."
   ]
  },
  {
   "cell_type": "code",
   "execution_count": 52,
   "metadata": {},
   "outputs": [],
   "source": [
    "%matplotlib inline\n",
    "import numpy as np\n",
    "import scipy as sp\n",
    "import matplotlib.pyplot as plt\n",
    "import random\n",
    "from scipy import stats\n",
    "from scipy.optimize import fmin"
   ]
  },
  {
   "cell_type": "markdown",
   "metadata": {},
   "source": [
    "#### O Gradiente Descendente é um algoritmo de otimização de minimização de uma função custo, ou função erro. o algoritmo procura por direções de gradiente negativo.\n",
    "\n",
    "- Encontre um valor inicial para $X_{0}$\n",
    "- Escreva um laço para $i$, com um número ($i = 0, 1, 2, ... $) de variáveis.\n",
    "- Calcule $s_k$ = -$\\nabla f(x_k)$\n",
    "- Escolha a taxa de aprendizado $\\alpha_{k}$ que minimiza $f(x_k+\\alpha_{k} s_{k})$\n",
    "- Faça $x_{k + 1} = x_{k} + \\alpha_k s_{k}$"
   ]
  },
  {
   "cell_type": "markdown",
   "metadata": {},
   "source": [
    "#### Exercicio 1 - Gradiente Descendente: Encontre o valor mínimo para a função de custo $f(x) = x^{3} - 2x^{2} + 2$."
   ]
  },
  {
   "cell_type": "markdown",
   "metadata": {},
   "source": [
    "#### Defina a função custo e plot seu valor no invervalo `x = [-1.0, 2,5]` e `y = [0.0, 3.0]`."
   ]
  },
  {
   "cell_type": "code",
   "execution_count": 64,
   "metadata": {},
   "outputs": [],
   "source": [
    "f = lambda x: x ** 3 - 2 * x ** 2 + 2\n",
    "#f = lambda x: x ** 4 - x ** 3 + 2 * x ** 2 + 2"
   ]
  },
  {
   "cell_type": "code",
   "execution_count": 65,
   "metadata": {},
   "outputs": [
    {
     "data": {
      "image/png": "[encoded data removed]",
      "text/plain": [
       "<Figure size 432x288 with 1 Axes>"
      ]
     },
     "metadata": {
      "needs_background": "light"
     },
     "output_type": "display_data"
    }
   ],
   "source": [
    "x = np.linspace(-1,2.5,1000)\n",
    "\n",
    "xmin = -1.0\n",
    "xmax = 2.5\n",
    "ymin = 0.0\n",
    "ymax = 3.0\n",
    "\n",
    "plt.plot(x,f(x))\n",
    "plt.xlim([xmin,xmax])\n",
    "plt.ylim([ymin,ymax])\n",
    "plt.show()"
   ]
  },
  {
   "cell_type": "markdown",
   "metadata": {},
   "source": [
    "#### Escreva uma função para alcular ponto mínimo $X_{min}$, començando a busca por $X_{0} = 2$. Imprima também o número de passos aplicados ao Gradiente Descendente. Defina um passo de tamanho $0.1$ a precisão como $0.0001$."
   ]
  },
  {
   "cell_type": "code",
   "execution_count": 66,
   "metadata": {},
   "outputs": [
    {
     "name": "stdout",
     "output_type": "stream",
     "text": [
      "O mínimo local ocorre em: 1.3334253508453249\n",
      "Número de passos: 17\n"
     ]
    }
   ],
   "source": [
    "x_old = 0\n",
    "x_new = 2 # The algorithm starts at x=2\n",
    "n_k = 0.1 # step size\n",
    "precision = 0.0001\n",
    "\n",
    "x_list, y_list = [x_new], [f(x_new)]\n",
    "\n",
    "# returns the value of the derivative of our function\n",
    "def f_prime(x):\n",
    "    return 3 * x ** 2 - 4 * x\n",
    " \n",
    "while abs(x_new - x_old) > precision:\n",
    "    x_old = x_new\n",
    "    s_k = - f_prime(x_old)\n",
    "    x_new = x_old + n_k * s_k\n",
    "    x_list.append(x_new)\n",
    "    y_list.append(f(x_new))\n",
    "\n",
    "print(\"O mínimo local ocorre em:\", x_new)\n",
    "print(\"Número de passos:\", len(x_list))"
   ]
  },
  {
   "cell_type": "markdown",
   "metadata": {},
   "source": [
    "#### Acima você fez uso de uma taxa de aprendizado, ou o passo do algoritmo, constante, o que para um valor baixo pode significar lenta convergência. Estude o método [`scipy.optimize.fmin()`](https://docs.scipy.org/doc/scipy/reference/generated/scipy.optimize.fmin.html) e tente otimizar o número de passos que o algoritmo dá para apresentar um resultado. Em outras palavras, otimize a taxa de aprendizagem do modelo."
   ]
  },
  {
   "cell_type": "code",
   "execution_count": 67,
   "metadata": {},
   "outputs": [
    {
     "name": "stdout",
     "output_type": "stream",
     "text": [
      "Local minimum occurs at  1.3333333284505209\n",
      "Number of steps: 4\n"
     ]
    }
   ],
   "source": [
    "# we setup this function to pass into the fmin algorithm\n",
    "def f2(n,x,s):\n",
    "    x = x + n * s\n",
    "    return f(x)\n",
    "\n",
    "x_old = 0\n",
    "x_new = 2 # The algorithm starts at x=2\n",
    "precision = 0.0001\n",
    "\n",
    "x_list, y_list = [x_new], [f(x_new)]\n",
    "\n",
    "# returns the value of the derivative of our function\n",
    "def f_prime(x):\n",
    "    return 3 * x ** 2 - 4 * x\n",
    "\n",
    "while abs(x_new - x_old) > precision:\n",
    "    x_old = x_new\n",
    "    s_k = -f_prime(x_old)\n",
    "    \n",
    "    # use scipy fmin function to find ideal step size.\n",
    "    n_k = fmin(f2,0.1,(x_old, s_k), \n",
    "               full_output = False, \n",
    "               disp = False\n",
    "              )\n",
    "\n",
    "    x_new = x_old + n_k * s_k\n",
    "    x_list.append(x_new)\n",
    "    y_list.append(f(x_new))\n",
    "    \n",
    "print(\"Local minimum occurs at \", float(x_new))\n",
    "print(\"Number of steps:\", len(x_list))"
   ]
  },
  {
   "cell_type": "markdown",
   "metadata": {},
   "source": [
    "#### Teste também outro método de ajuste da taxa de aprendizado, criando uma \"constante\" que varia de acordo com uma constande de redução $d$, como fisto a seguir. \n",
    "$$\n",
    "\\begin{equation}\n",
    "\\alpha_{t+1} = \\frac{\\alpha_{t}}{(1+t\\times d)}\n",
    "\\end{equation}\n",
    "$$"
   ]
  },
  {
   "cell_type": "code",
   "execution_count": 68,
   "metadata": {},
   "outputs": [
    {
     "name": "stdout",
     "output_type": "stream",
     "text": [
      "Local minimum occurs at  1.3308506740900838\n",
      "Number of steps: 6\n"
     ]
    }
   ],
   "source": [
    "x_old = 0\n",
    "x_new = 2 # The algorithm starts at x=2\n",
    "n_k = 0.17 # step size\n",
    "precision = 0.0001\n",
    "t, d = 0, 1\n",
    "\n",
    "x_list, y_list = [x_new], [f(x_new)]\n",
    "\n",
    "# returns the value of the derivative of our function\n",
    "def f_prime(x):\n",
    "    return 3*x**2-4*x\n",
    " \n",
    "while abs(x_new - x_old) > precision:\n",
    "    x_old = x_new\n",
    "    s_k = -f_prime(x_old)\n",
    "    x_new = x_old + n_k * s_k\n",
    "    x_list.append(x_new)\n",
    "    y_list.append(f(x_new))\n",
    "    n_k = n_k / (1 + t * d)\n",
    "    t += 1\n",
    "\n",
    "print(\"Local minimum occurs at \", float(x_new))\n",
    "print(\"Number of steps:\", len(x_list))"
   ]
  },
  {
   "cell_type": "markdown",
   "metadata": {},
   "source": [
    "#### Exercício 2 - Regressão Linear: Como a temperatura afeta os ruídos dos grilos. No arquivo `SGD_data.txt`, você encontra  uma base de dados de taxas de [chilreio](https://escola.britannica.com.br/artigo/grilo/481074) de grilos em várias temperaturas. Carregue o conjunto, e plote a dispersão entre `Temperatura` em graus Fahrenheit e os `chilreios/s` para o [Allonemobius fasciatus](https://www.cirrusimage.com/orthoptera_striped_cricket/):"
   ]
  },
  {
   "cell_type": "code",
   "execution_count": 90,
   "metadata": {},
   "outputs": [
    {
     "data": {
      "image/png": "[encoded data removed]",
      "text/plain": [
       "<Figure size 432x288 with 1 Axes>"
      ]
     },
     "metadata": {
      "needs_background": "light"
     },
     "output_type": "display_data"
    }
   ],
   "source": [
    "#Load the dataset\n",
    "data = np.loadtxt('SGD_data.txt', delimiter = ',')\n",
    " \n",
    "#Plot the data\n",
    "plt.scatter(data[:, 0], \n",
    "            data[:, 1], \n",
    "            marker = 'o', \n",
    "            c = 'b'\n",
    "           )\n",
    "plt.title('Chilreios vs Temperatura')\n",
    "plt.xlabel('chilreios/s')\n",
    "plt.ylabel('Temperatura ($^{o}$F)')\n",
    "#plt.xlim([13,21])\n",
    "#plt.ylim([65,95])\n",
    "plt.show()"
   ]
  },
  {
   "cell_type": "markdown",
   "metadata": {},
   "source": [
    "#### Seu objetivo é encontrar a equação de reta $h_\\theta(x) = \\theta_0 + \\theta_1 x$ que melhor se ajusta aos pontos. \n",
    "\n",
    "$$\n",
    "\\begin{equation}\n",
    "J(\\theta_0,\\theta_1) = {1 \\over 2m} \\sum\\limits_{i=1}^m (h_\\theta(x_i)-y_i)^2\n",
    "\\end{equation}\n",
    "$$\n",
    "\n",
    "#### Aqui o Gradiente terá duas dimensões:\n",
    "\n",
    "$$\n",
    "\\begin{equation}\n",
    "\\frac{\\partial}{\\partial \\theta_0} J(\\theta_0,\\theta_1) = \\frac{1}{m}  \\sum\\limits_{i=1}^m (h_\\theta(x_i)-y_i)\n",
    "\\end{equation}\n",
    "$$\n",
    "\n",
    "$$\n",
    "\\begin{equation}\n",
    "\\frac{\\partial}{\\partial \\theta_1} J(\\theta_0,\\theta_1) = \\frac{1}{m}  \\sum\\limits_{i=1}^m ((h_\\theta(x_i)-y_i) \\cdot x_i)\n",
    "\\end{equation}\n",
    "$$\n",
    "\n",
    "#### Configure as funções $h$, $J$ e o gradiente:"
   ]
  },
  {
   "cell_type": "code",
   "execution_count": 113,
   "metadata": {},
   "outputs": [],
   "source": [
    "h = lambda theta_0, theta_1, x: theta_0 + theta_1 * x\n",
    "\n",
    "def J(x, y, m, theta_0, theta_1):\n",
    "    returnValue = 0\n",
    "    for i in range(m):\n",
    "        returnValue += (h(theta_0,\n",
    "                          theta_1, \n",
    "                          x[i]) - y[i]) ** 2\n",
    "    returnValue = returnValue / (2 * m)\n",
    "    return returnValue\n",
    "\n",
    "def grad_J(x, y, m, theta_0, theta_1):\n",
    "    returnValue = np.array([0., 0.])\n",
    "    for i in range(m):\n",
    "        returnValue[0] += (h(theta_0, theta_1, x[i]) - y[i])\n",
    "        returnValue[1] += (h(theta_0, theta_1, x[i]) - y[i]) * x[i]\n",
    "    returnValue = returnValue / (m)\n",
    "    return returnValue"
   ]
  },
  {
   "cell_type": "markdown",
   "metadata": {},
   "source": [
    "#### Carregue os dados nas variáveis $X$ e $y$."
   ]
  },
  {
   "cell_type": "code",
   "execution_count": 97,
   "metadata": {},
   "outputs": [],
   "source": [
    "x = data[:, 0]\n",
    "y = data[:, 1]\n",
    "m = len(x)"
   ]
  },
  {
   "cell_type": "markdown",
   "metadata": {},
   "source": [
    "#### Execute no algoritmo do gradiente Descentdente, com taxa de aprendizado constante."
   ]
  },
  {
   "cell_type": "code",
   "execution_count": 98,
   "metadata": {},
   "outputs": [
    {
     "name": "stdout",
     "output_type": "stream",
     "text": [
      "O mínimo local ocorre em:\n",
      "theta_0 = 25.128552558595363\n",
      "theta_1 = 3.297264756251897\n",
      "Tomando 565859 passos para convergir\n"
     ]
    }
   ],
   "source": [
    "theta_old = np.array([0., 0.])\n",
    "theta_new = np.array([1., 1.]) # The algorithm starts at [1,1]\n",
    "n_k = 0.001 # step size\n",
    "precision = 0.001\n",
    "num_steps = 0\n",
    "s_k = float(\"inf\")\n",
    "\n",
    "while np.linalg.norm(s_k) > precision:\n",
    "    num_steps += 1\n",
    "    theta_old = theta_new\n",
    "    s_k = -grad_J(x, \n",
    "                  y, \n",
    "                  m, \n",
    "                  theta_old[0],\n",
    "                  theta_old[1]\n",
    "                 )\n",
    "    theta_new = theta_old + n_k * s_k\n",
    "\n",
    "print(\"O mínimo local ocorre em:\")\n",
    "print(\"theta_0 =\", theta_new[0])\n",
    "print(\"theta_1 =\", theta_new[1])\n",
    "print(\"Tomando\", num_steps, \"passos para convergir\")"
   ]
  },
  {
   "cell_type": "markdown",
   "metadata": {},
   "source": [
    "#### Para comparação, tome os valores reais para $\\theta_0$ and $\\theta_1$, aplicando o método [`scipy.stats.linregress(`](https://docs.scipy.org/doc/scipy/reference/generated/scipy.stats.linregress.html). Discuta os resultados."
   ]
  },
  {
   "cell_type": "code",
   "execution_count": 103,
   "metadata": {},
   "outputs": [
    {
     "name": "stdout",
     "output_type": "stream",
     "text": [
      "Os valores reais para theta são:\n",
      "theta_0 = 25.232304983426026\n",
      "theta_1 = 3.2910945679475647\n"
     ]
    }
   ],
   "source": [
    "actualvalues = sp.stats.linregress(x, y)\n",
    "print(\"Os valores reais para theta são:\")\n",
    "print(\"theta_0 =\", actualvalues.intercept)\n",
    "print(\"theta_1 =\", actualvalues.slope)"
   ]
  },
  {
   "cell_type": "markdown",
   "metadata": {},
   "source": [
    "#### Apresente o gráfico da linha desenhada com seus valores $\\theta_{0}$ e $\\theta_{1}$ em relação aos dados:"
   ]
  },
  {
   "cell_type": "code",
   "execution_count": 105,
   "metadata": {},
   "outputs": [
    {
     "data": {
      "image/png": "[encoded data removed]",
      "text/plain": [
       "<Figure size 432x288 with 1 Axes>"
      ]
     },
     "metadata": {
      "needs_background": "light"
     },
     "output_type": "display_data"
    }
   ],
   "source": [
    "\n",
    "xx = np.linspace(0, 21, 1000)\n",
    "\n",
    "plt.scatter(data[:, 0], \n",
    "            data[:, 1], \n",
    "            marker = 'o', \n",
    "            c = 'b')\n",
    "\n",
    "plt.plot(xx,h(theta_new[0], \n",
    "              theta_new[1], \n",
    "              xx))\n",
    "\n",
    "plt.xlim([13,21])\n",
    "plt.ylim([65,95])\n",
    "plt.title('Chilreios vs Temperatura')\n",
    "plt.xlabel('chilreios/s')\n",
    "plt.ylabel('Temperatura ($^{o}$F)')\n",
    "plt.show()"
   ]
  },
  {
   "cell_type": "markdown",
   "metadata": {},
   "source": [
    "#### Estude o caso do Gradiente Descendente em Lote ([Batch Gradient Descent](https://towardsdatascience.com/batch-mini-batch-stochastic-gradient-descent-7a62ecba642a)) e outras técnicas."
   ]
  },
  {
   "cell_type": "markdown",
   "metadata": {},
   "source": [
    "#### Exercício 3 - Gradiente Descendente Estocástico."
   ]
  },
  {
   "cell_type": "markdown",
   "metadata": {},
   "source": [
    "#### Como fizemos acima, no Gradiente Descendente em Lote (batch gradient descent), devemos olhar para cada exemplo em todo o conjunto de treinamento em cada etapa (nos casos em que um conjunto de treinamento é usado para o Gradiente Descendente). Isso pode ser bastante lento se o conjunto de treinamento for suficientemente grande. o Gradiente Descendente Estocástico ([Stochastic Gradient Descent](https://towardsdatascience.com/stochastic-gradient-descent-clearly-explained-53d239905d31)) atualizamos nossos valores depois de olhar para cada item no conjunto de treinamento, para que possamos começar a fazer progresso imediatamente. \n",
    "\n",
    "#### Teremos:\n",
    "\n",
    "$$\n",
    "\\begin{equation}\n",
    "\\frac{\\partial}{\\partial \\theta_0} J(\\theta_0,\\theta_1) = \\frac{1}{m}  \\sum\\limits_{i=1}^m (h_\\theta(x_i)-y_i)\n",
    "\\end{equation}\n",
    "$$\n",
    "\n",
    "$$\n",
    "\\begin{equation}\n",
    "\\frac{\\partial}{\\partial \\theta_1} J(\\theta_0,\\theta_1) = \\frac{1}{m}  \\sum\\limits_{i=1}^m ((h_\\theta(x_i)-y_i) \\cdot x_i)\n",
    "\\end{equation}\n",
    "$$\n",
    "\n",
    "#### Em que: \n",
    "\n",
    "$$\n",
    "\\begin{equation}\n",
    "h_\\theta(x) = \\theta_{0} + \\theta_{1} x\n",
    "\\end{equation}\n",
    "$$\n",
    "\n",
    "#### Seguimos o algoritmo, com $\\alpha$ constante:\n",
    "\n",
    "- Encontre um valor inicial para $X_{0}$\n",
    "- Escreva um laço para $i$, com um número ($i = 0, 1, 2, ... $) de variáveis.\n",
    "- Calcule $s_k$ = -$\\nabla f(x_k)$\n",
    "- Escolha a taxa de aprendizado $\\alpha_{k}$ que minimiza $f(x_k+\\alpha_{k} s_{k})$\n",
    "- Faça $x_{k + 1} = x_{k} + \\alpha_k s_{k}$\n",
    "\n",
    "#### Quando os dados de amostra tinham $15$ pontos de dados como no exemplo acima, o cálculo do gradiente não era muito caro. Mas, para conjuntos de dados muito grandes, esse não seria o caso. Então, em vez disso, consideramos um algoritmo de Gradiente Descendente Estocástico para regressão linear simples, em que $m$ é o tamanho do conjunto de dados:\n",
    "\n",
    "- Embaralhe aleatoriamente o conjunto de dados.\n",
    "- Escrevar um laço para :\n",
    "\n",
    "$$\n",
    "\\begin{bmatrix}\n",
    " \\theta_{1} \\\\ \n",
    " \\theta_2 \\\\ \n",
    " \\end{bmatrix} = \n",
    " \\begin{bmatrix}\n",
    " \\theta_1 \\\\ \n",
    " \\theta_2 \\\\ \n",
    " \\end{bmatrix} - \n",
    " \\alpha\\begin{bmatrix}\n",
    " 2(h_\\theta(x_i)-y_i) \\\\ \n",
    " 2x_i(h_\\theta(x_i)-y_i) \\\\ \n",
    " \\end{bmatrix}\n",
    " $$\n",
    "\n",
    "#### Normalmente, com a Gradiente Descendente Estocástico, você percorrerá todo o conjunto de dados de $1$ a $10$ vezes, dependendo da velocidade de convergência dos dados e do tamanho do conjunto de dados.\n",
    "\n",
    "#### Com o Gradiente Descendente em lote, devemos percorrer todo o conjunto de dados antes de fazer qualquer progresso. Porém, com esse algoritmo, podemos progredir imediatamente e continuar avançando conforme analisamos o conjunto de dados. Portanto, a Gradiente Descendente Estocástico é freqüentemente preferido ao lidar com grandes conjuntos de dados.\n",
    "\n",
    "#### Ao contrário da Gradiente Descendente, o Gradiente Descendente Estocástica tenderá a oscilar perto de um valor mínimo em vez de se aproximar continuamente. No entanto, pode nunca convergir para o mínimo. Uma maneira de contornar isso é diminuir lentamente o tamanho do passo $\\alpha$, conforme o algoritmo é executado. No entanto, isso é menos comum do que usar um $\\alpha$ fixo.\n",
    "\n",
    "#### Aplique a seguir o Gradiente Descendente Estocástico para uma regressão linear, em que criamos um conjunto de $500.000$ pontos em torno da linha $y = 2x + 17 + \\epsilon $, para valores de $x= [0, 100]$."
   ]
  },
  {
   "cell_type": "code",
   "execution_count": 107,
   "metadata": {},
   "outputs": [],
   "source": [
    "f = lambda x: x * 2 + 17 + np.random.randn(len(x)) * 10\n",
    "\n",
    "x = np.random.random(500000) * 100\n",
    "y = f(x) \n",
    "m = len(y)"
   ]
  },
  {
   "cell_type": "markdown",
   "metadata": {},
   "source": [
    "#### Primeiro, embaralhe aleatoriamente o conjunto de dados. Observe que essa etapa não é estritamente necessária, pois os dados já estão em uma ordem aleatória. No entanto, isso obviamente nem sempre é o caso:"
   ]
  },
  {
   "cell_type": "code",
   "execution_count": 108,
   "metadata": {},
   "outputs": [],
   "source": [
    "from random import shuffle\n",
    "\n",
    "x_shuf = []\n",
    "y_shuf = []\n",
    "\n",
    "index_shuf = list(range(len(x)))\n",
    "shuffle(index_shuf)\n",
    "\n",
    "for i in index_shuf:\n",
    "    x_shuf.append(x[i])\n",
    "    y_shuf.append(y[i])"
   ]
  },
  {
   "cell_type": "markdown",
   "metadata": {},
   "source": [
    "#### Configure a função $h$ e a função de custo para verificar como o valor está melhorando."
   ]
  },
  {
   "cell_type": "code",
   "execution_count": 109,
   "metadata": {},
   "outputs": [],
   "source": [
    "h = lambda theta_0, theta_1, x: theta_0 + theta_1 * x\n",
    "cost = lambda theta_0, theta_1, x_i, y_i: 0.5 * (h(theta_0, theta_1, x_i) - y_i) ** 2"
   ]
  },
  {
   "cell_type": "markdown",
   "metadata": {},
   "source": [
    "#### Crie e execute o algoritmo de Gradiente Descendente Estocástico. Para observar seu progresso, faça uma medição de custo a cada etapa. A cada $10.000$ etapas, obtenha um custo médio das últimas $10.000$ etapas e, em seguida, anexe isso a uma variável `cost_list`. Percorra a lista inteira $10$ vezes."
   ]
  },
  {
   "cell_type": "code",
   "execution_count": 111,
   "metadata": {},
   "outputs": [
    {
     "name": "stdout",
     "output_type": "stream",
     "text": [
      "Mínimo local ocorre em:\n",
      "theta_0 = 16.93234668104343\n",
      "theta_1 = 1.9983494738906427\n"
     ]
    }
   ],
   "source": [
    "theta_old = np.array([0., 0.])\n",
    "theta_new = np.array([1., 1.]) # The algorithm starts at [1,1]\n",
    "n_k = 0.000005 # step size\n",
    "\n",
    "iter_num = 0\n",
    "s_k = np.array([float(\"inf\"), \n",
    "                float(\"inf\")\n",
    "               ]\n",
    "              )\n",
    "sum_cost = 0\n",
    "cost_list = []\n",
    "\n",
    "for j in range(10):\n",
    "    for i in range(m):\n",
    "        iter_num += 1\n",
    "        theta_old = theta_new\n",
    "        s_k[0] = (h(theta_old[0], theta_old[1], x[i]) - y[i])\n",
    "        s_k[1] = (h(theta_old[0], theta_old[1], x[i]) - y[i]) * x[i]\n",
    "        s_k = (-1) * s_k\n",
    "        theta_new = theta_old + n_k * s_k\n",
    "        sum_cost += cost(theta_old[0], \n",
    "                         theta_old[1], \n",
    "                         x[i], \n",
    "                         y[i]\n",
    "                        )\n",
    "        if (i+1) % 10000 == 0:\n",
    "            cost_list.append(sum_cost / 10000.0)\n",
    "            sum_cost = 0   \n",
    "            \n",
    "print(\"Mínimo local ocorre em:\")\n",
    "print(\"theta_0 =\", theta_new[0])\n",
    "print(\"theta_1 =\", theta_new[1])"
   ]
  },
  {
   "cell_type": "markdown",
   "metadata": {},
   "source": [
    "#### Discuta os valores para $\\theta_0$ e $ \\theta_1$ encontrados. Plote o custo versus o número de iterações. o que você pode dizer sobre o custo ao longo das iterações?"
   ]
  },
  {
   "cell_type": "code",
   "execution_count": 112,
   "metadata": {},
   "outputs": [
    {
     "data": {
      "image/png": "[encoded data removed]",
      "text/plain": [
       "<Figure size 432x288 with 1 Axes>"
      ]
     },
     "metadata": {
      "needs_background": "light"
     },
     "output_type": "display_data"
    }
   ],
   "source": [
    "iterations = np.arange(len(cost_list)) * 10000\n",
    "plt.plot(iterations,\n",
    "         cost_list\n",
    "        )\n",
    "plt.xlabel(\"Iteraçoes\")\n",
    "plt.ylabel(\"Custo médio\")\n",
    "plt.show()"
   ]
  },
  {
   "cell_type": "markdown",
   "metadata": {},
   "source": [
    " "
   ]
  }
 ],
 "metadata": {
  "kernelspec": {
   "display_name": "Python 3",
   "language": "python",
   "name": "python3"
  },
  "language_info": {
   "codemirror_mode": {
    "name": "ipython",
    "version": 3
   },
   "file_extension": ".py",
   "mimetype": "text/x-python",
   "name": "python",
   "nbconvert_exporter": "python",
   "pygments_lexer": "ipython3",
   "version": "3.7.6"
  }
 },
 "nbformat": 4,
 "nbformat_minor": 4
}
