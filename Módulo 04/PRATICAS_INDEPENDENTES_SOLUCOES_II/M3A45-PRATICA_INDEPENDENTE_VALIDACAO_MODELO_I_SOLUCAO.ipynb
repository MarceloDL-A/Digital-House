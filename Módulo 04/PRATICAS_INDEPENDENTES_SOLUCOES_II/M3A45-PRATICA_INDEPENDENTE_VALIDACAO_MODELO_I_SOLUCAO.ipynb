{
 "cells": [
  {
   "cell_type": "markdown",
   "metadata": {},
   "source": [
    "# Prática Independente: Feature Engineering e validação de modelos."
   ]
  },
  {
   "cell_type": "markdown",
   "metadata": {},
   "source": [
    "### Feature Engineering."
   ]
  },
  {
   "cell_type": "markdown",
   "metadata": {},
   "source": [
    "#### Exercício 1: Acesse o link com a [lista das montanhas mais altas do mundo](https://en.wikipedia.org/wiki/List_of_highest_mountains_on_Earth) e crie um dicionário para as cinco primeiras, em termos de altura, contendo dados sobre `Mountain`, `Height`, `First Ascent` e `Country`."
   ]
  },
  {
   "cell_type": "code",
   "execution_count": 1,
   "metadata": {},
   "outputs": [],
   "source": [
    "ListDicts = [{'Mountain': 'Everest', 'Height': 8.848, 'First Ascent': 1953, 'Country': 'Nepal-China'},\n",
    "             {'Mountain': 'K2', 'Height': 8.611, 'First Ascent': 1954, 'Country': 'Paquistan-China'},\n",
    "             {'Mountain': 'Kangchenjunga', 'Height': 8.586, 'First Ascent': 1955, 'Country': 'Nepal-China'},\n",
    "             {'Mountain': 'Lhotse', 'Height': 8.516, 'First Ascent': 1956, 'Country': 'Nepal-China'},\n",
    "             {'Mountain': 'Makalu', 'Height': 8.485, 'First Ascent': 1955, 'Country': 'Nepal-China'}\n",
    "            ]"
   ]
  },
  {
   "cell_type": "markdown",
   "metadata": {},
   "source": [
    "#### Exercício 2: Aplique a técnica `one hot-encoding` à lista de dicionários recém criados, para gerar a \"dummiezação\" das variáveis categóricas."
   ]
  },
  {
   "cell_type": "code",
   "execution_count": 116,
   "metadata": {},
   "outputs": [
    {
     "name": "stdout",
     "output_type": "stream",
     "text": [
      "[[   1    0 1953    8    1    0    0    0    0]\n",
      " [   0    1 1954    8    0    1    0    0    0]\n",
      " [   1    0 1955    8    0    0    1    0    0]\n",
      " [   1    0 1956    8    0    0    0    1    0]\n",
      " [   1    0 1955    8    0    0    0    0    1]]\n",
      "['Country=Nepal-China', 'Country=Paquistan-China', 'First Ascent', 'Height', 'Mountain=Everest', 'Mountain=K2', 'Mountain=Kangchenjunga', 'Mountain=Lhotse', 'Mountain=Makalu']\n"
     ]
    }
   ],
   "source": [
    "from sklearn.feature_extraction import DictVectorizer\n",
    "vec = DictVectorizer(sparse = False, dtype = int)\n",
    "print(vec.fit_transform(ListDicts))\n",
    "\n",
    "X = vec.fit_transform(ListDicts)\n",
    "print(vec.get_feature_names())"
   ]
  },
  {
   "cell_type": "markdown",
   "metadata": {},
   "source": [
    "#### Exercício 3: Recupere os nomes dos atributos \"dummiezados\" e os inspecione."
   ]
  },
  {
   "cell_type": "code",
   "execution_count": 117,
   "metadata": {},
   "outputs": [
    {
     "data": {
      "text/plain": [
       "['Country=Nepal-China',\n",
       " 'Country=Paquistan-China',\n",
       " 'First Ascent',\n",
       " 'Height',\n",
       " 'Mountain=Everest',\n",
       " 'Mountain=K2',\n",
       " 'Mountain=Kangchenjunga',\n",
       " 'Mountain=Lhotse',\n",
       " 'Mountain=Makalu']"
      ]
     },
     "execution_count": 117,
     "metadata": {},
     "output_type": "execute_result"
    }
   ],
   "source": [
    "vec.get_feature_names()"
   ]
  },
  {
   "cell_type": "markdown",
   "metadata": {},
   "source": [
    "#### Exercício 4: Calcule a matriz esparsa dos dados."
   ]
  },
  {
   "cell_type": "code",
   "execution_count": 118,
   "metadata": {},
   "outputs": [
    {
     "name": "stdout",
     "output_type": "stream",
     "text": [
      "  (0, 0)\t1\n",
      "  (0, 2)\t1953\n",
      "  (0, 3)\t8\n",
      "  (0, 4)\t1\n",
      "  (1, 1)\t1\n",
      "  (1, 2)\t1954\n",
      "  (1, 3)\t8\n",
      "  (1, 5)\t1\n",
      "  (2, 0)\t1\n",
      "  (2, 2)\t1955\n",
      "  (2, 3)\t8\n",
      "  (2, 6)\t1\n",
      "  (3, 0)\t1\n",
      "  (3, 2)\t1956\n",
      "  (3, 3)\t8\n",
      "  (3, 7)\t1\n",
      "  (4, 0)\t1\n",
      "  (4, 2)\t1955\n",
      "  (4, 3)\t8\n",
      "  (4, 8)\t1\n"
     ]
    }
   ],
   "source": [
    "vec = DictVectorizer(sparse = True, dtype = int)\n",
    "vec.fit_transform(ListDicts)\n",
    "print(vec.fit_transform(ListDicts))"
   ]
  },
  {
   "cell_type": "markdown",
   "metadata": {},
   "source": [
    "### Validação de modelos."
   ]
  },
  {
   "cell_type": "markdown",
   "metadata": {},
   "source": [
    "#### Exercício 5: A partir das definições a seguir, construra a validação dos modelos a serem aplicados para ajustar os pontos criados."
   ]
  },
  {
   "cell_type": "code",
   "execution_count": 120,
   "metadata": {},
   "outputs": [],
   "source": [
    "from sklearn.preprocessing import PolynomialFeatures\n",
    "from sklearn.linear_model import LinearRegression\n",
    "from sklearn.pipeline import make_pipeline"
   ]
  },
  {
   "cell_type": "code",
   "execution_count": 121,
   "metadata": {},
   "outputs": [],
   "source": [
    "def PolynomialRegression(degree = 2, **kwargs):\n",
    "    return make_pipeline(PolynomialFeatures(degree),\n",
    "                         LinearRegression(**kwargs)\n",
    "                        )"
   ]
  },
  {
   "cell_type": "code",
   "execution_count": 122,
   "metadata": {},
   "outputs": [],
   "source": [
    "import numpy as np\n",
    "\n",
    "def make_data(N, err = 1.0, rseed = 15):\n",
    "    '''\n",
    "    randomly sample the data \n",
    "    '''\n",
    "    rng = np.random.RandomState(rseed)\n",
    "    \n",
    "    X = rng.rand(N, 1) ** 2\n",
    "    y = 15 - 1.1 / (X.ravel() + 0.05)\n",
    "    if err > 0:\n",
    "        y += err * rng.randn(N)\n",
    "    return X, y"
   ]
  },
  {
   "cell_type": "code",
   "execution_count": 123,
   "metadata": {},
   "outputs": [
    {
     "name": "stdout",
     "output_type": "stream",
     "text": [
      "[[7.20491483e-01]\n",
      " [3.20037520e-02]\n",
      " [2.95535907e-03]\n",
      " [1.30710048e-01]\n",
      " [7.58456715e-02]\n",
      " [2.80900238e-01]\n",
      " [9.35863830e-02]\n",
      " [9.27046354e-02]\n",
      " [1.24861128e-02]\n",
      " [6.24495171e-02]\n",
      " [8.42044629e-01]\n",
      " [6.97735601e-02]\n",
      " [5.15199066e-01]\n",
      " [7.49462520e-01]\n",
      " [6.51377291e-01]\n",
      " [4.43315479e-02]\n",
      " [2.79702316e-02]\n",
      " [2.18148702e-03]\n",
      " [1.55411866e-03]\n",
      " [4.00923772e-02]\n",
      " [9.97088927e-01]\n",
      " [1.38970131e-01]\n",
      " [5.78375877e-01]\n",
      " [2.24178048e-01]\n",
      " [2.59809693e-01]\n",
      " [8.93097610e-01]\n",
      " [1.19785688e-02]\n",
      " [2.16311648e-01]\n",
      " [2.00378916e-02]\n",
      " [2.89819390e-01]\n",
      " [8.94001966e-02]\n",
      " [2.89169921e-01]\n",
      " [4.43060019e-01]\n",
      " [1.32735475e-01]\n",
      " [3.88152200e-01]\n",
      " [4.13095278e-01]\n",
      " [1.76384729e-01]\n",
      " [1.62604461e-01]\n",
      " [1.52428031e-01]\n",
      " [1.64989928e-01]\n",
      " [6.34668835e-03]\n",
      " [3.22978545e-03]\n",
      " [6.13573125e-03]\n",
      " [4.83967616e-01]\n",
      " [8.50245001e-04]\n",
      " [2.49492677e-01]\n",
      " [1.75918622e-02]\n",
      " [9.45908995e-04]\n",
      " [4.08946729e-01]\n",
      " [1.98914348e-01]\n",
      " [9.49858094e-01]\n",
      " [1.08745570e-01]\n",
      " [3.81908615e-02]\n",
      " [4.67919221e-01]\n",
      " [1.23270408e-01]\n",
      " [5.94496688e-01]\n",
      " [6.26946450e-01]\n",
      " [1.97024651e-01]\n",
      " [7.22686556e-02]\n",
      " [5.71421394e-04]\n",
      " [1.37887874e-01]\n",
      " [9.55132484e-03]\n",
      " [5.29289059e-01]\n",
      " [2.11089180e-01]\n",
      " [2.70916580e-01]\n",
      " [4.68634775e-01]\n",
      " [1.80871835e-01]\n",
      " [3.64179731e-01]\n",
      " [6.78727354e-01]\n",
      " [2.04187639e-01]\n",
      " [7.88446680e-01]\n",
      " [4.85759558e-02]\n",
      " [1.14110789e-02]\n",
      " [1.44243118e-04]\n",
      " [8.42616411e-01]\n",
      " [4.05216545e-01]\n",
      " [4.82953531e-02]\n",
      " [2.99813668e-01]\n",
      " [8.47872033e-01]\n",
      " [7.66790842e-01]\n",
      " [1.62797580e-02]\n",
      " [9.22055937e-02]\n",
      " [8.72000653e-02]\n",
      " [3.23880544e-01]\n",
      " [5.52672745e-01]\n",
      " [1.08910023e-01]\n",
      " [3.69484428e-01]\n",
      " [2.65921070e-01]\n",
      " [8.46033373e-01]\n",
      " [4.05485121e-02]\n",
      " [2.70522809e-06]\n",
      " [5.14565151e-03]\n",
      " [1.76815622e-01]\n",
      " [2.48918544e-01]\n",
      " [3.29190998e-01]\n",
      " [7.75057292e-01]\n",
      " [4.02885049e-02]\n",
      " [1.77390958e-01]\n",
      " [8.69141045e-01]\n",
      " [1.31980204e-01]]\n",
      "[7.20491483e-01 3.20037520e-02 2.95535907e-03 1.30710048e-01\n",
      " 7.58456715e-02 2.80900238e-01 9.35863830e-02 9.27046354e-02\n",
      " 1.24861128e-02 6.24495171e-02 8.42044629e-01 6.97735601e-02\n",
      " 5.15199066e-01 7.49462520e-01 6.51377291e-01 4.43315479e-02\n",
      " 2.79702316e-02 2.18148702e-03 1.55411866e-03 4.00923772e-02\n",
      " 9.97088927e-01 1.38970131e-01 5.78375877e-01 2.24178048e-01\n",
      " 2.59809693e-01 8.93097610e-01 1.19785688e-02 2.16311648e-01\n",
      " 2.00378916e-02 2.89819390e-01 8.94001966e-02 2.89169921e-01\n",
      " 4.43060019e-01 1.32735475e-01 3.88152200e-01 4.13095278e-01\n",
      " 1.76384729e-01 1.62604461e-01 1.52428031e-01 1.64989928e-01\n",
      " 6.34668835e-03 3.22978545e-03 6.13573125e-03 4.83967616e-01\n",
      " 8.50245001e-04 2.49492677e-01 1.75918622e-02 9.45908995e-04\n",
      " 4.08946729e-01 1.98914348e-01 9.49858094e-01 1.08745570e-01\n",
      " 3.81908615e-02 4.67919221e-01 1.23270408e-01 5.94496688e-01\n",
      " 6.26946450e-01 1.97024651e-01 7.22686556e-02 5.71421394e-04\n",
      " 1.37887874e-01 9.55132484e-03 5.29289059e-01 2.11089180e-01\n",
      " 2.70916580e-01 4.68634775e-01 1.80871835e-01 3.64179731e-01\n",
      " 6.78727354e-01 2.04187639e-01 7.88446680e-01 4.85759558e-02\n",
      " 1.14110789e-02 1.44243118e-04 8.42616411e-01 4.05216545e-01\n",
      " 4.82953531e-02 2.99813668e-01 8.47872033e-01 7.66790842e-01\n",
      " 1.62797580e-02 9.22055937e-02 8.72000653e-02 3.23880544e-01\n",
      " 5.52672745e-01 1.08910023e-01 3.69484428e-01 2.65921070e-01\n",
      " 8.46033373e-01 4.05485121e-02 2.70522809e-06 5.14565151e-03\n",
      " 1.76815622e-01 2.48918544e-01 3.29190998e-01 7.75057292e-01\n",
      " 4.02885049e-02 1.77390958e-01 8.69141045e-01 1.31980204e-01]\n"
     ]
    }
   ],
   "source": [
    "X, y = make_data(100)\n",
    "print(X)\n",
    "print(X.ravel())"
   ]
  },
  {
   "cell_type": "code",
   "execution_count": 124,
   "metadata": {},
   "outputs": [
    {
     "data": {
      "text/plain": [
       "(-2, 20)"
      ]
     },
     "execution_count": 124,
     "metadata": {},
     "output_type": "execute_result"
    },
    {
     "data": {
      "image/png": "[encoded data removed]",
      "text/plain": [
       "<Figure size 432x288 with 1 Axes>"
      ]
     },
     "metadata": {},
     "output_type": "display_data"
    }
   ],
   "source": [
    "%matplotlib inline\n",
    "import matplotlib.pyplot as plt\n",
    "import seaborn; seaborn.set()  # plot formatting\n",
    "\n",
    "plt.scatter(X.ravel(), y, color = 'black')\n",
    "axis = plt.axis()\n",
    "\n",
    "plt.xlim(-0.1, 1.5)\n",
    "plt.ylim(-2, 20)"
   ]
  },
  {
   "cell_type": "markdown",
   "metadata": {},
   "source": [
    "#### Exercício 5 (continuação): Teste os graus `[1, 3, 5, 7, 9]` para os pontos gerados."
   ]
  },
  {
   "cell_type": "code",
   "execution_count": 125,
   "metadata": {},
   "outputs": [
    {
     "data": {
      "image/png": "[encoded data removed]",
      "text/plain": [
       "<Figure size 432x288 with 1 Axes>"
      ]
     },
     "metadata": {},
     "output_type": "display_data"
    }
   ],
   "source": [
    "%matplotlib inline\n",
    "import matplotlib.pyplot as plt\n",
    "import seaborn; seaborn.set()  # plot formatting\n",
    "\n",
    "X_test = np.linspace(-0.1, 1.1, 500).reshape(-1,1)\n",
    "\n",
    "plt.scatter(X.ravel(), y, color = 'black')\n",
    "axis = plt.axis()\n",
    "for degree in [1, 3, 5, 7, 9]:\n",
    "    y_test = PolynomialRegression(degree).fit(X, y).predict(X_test)\n",
    "    plt.plot(X_test.ravel(), y_test, label = 'degree={0}'.format(degree))\n",
    "plt.xlim(-0.1, 1.5)\n",
    "plt.ylim(-2, 20)\n",
    "plt.legend(loc = 'best');"
   ]
  },
  {
   "cell_type": "markdown",
   "metadata": {},
   "source": [
    "#### Exercício 5 (continuação): Escolha o grau que melhor ajusta a regressão aos pontos."
   ]
  },
  {
   "cell_type": "code",
   "execution_count": 126,
   "metadata": {},
   "outputs": [
    {
     "data": {
      "image/png": "[encoded data removed]",
      "text/plain": [
       "<Figure size 432x288 with 1 Axes>"
      ]
     },
     "metadata": {},
     "output_type": "display_data"
    }
   ],
   "source": [
    "from sklearn.model_selection import validation_curve\n",
    "\n",
    "degree = np.arange(0, 21)\n",
    "train_score, val_score = validation_curve(PolynomialRegression(), \n",
    "                                          X, \n",
    "                                          y, \n",
    "                                          'polynomialfeatures__degree', \n",
    "                                          param_range = degree, \n",
    "                                          cv = 7\n",
    "                                         )\n",
    "\n",
    "plt.plot(degree, np.mean(train_score, axis = 1), color = 'blue', label = 'training score')\n",
    "plt.plot(degree, np.mean(val_score, axis = 1), color = 'red', label = 'validation score')\n",
    "plt.legend(loc = 'best')\n",
    "plt.ylim(0, 1)\n",
    "plt.xlabel('degree')\n",
    "plt.ylabel('score');"
   ]
  },
  {
   "cell_type": "markdown",
   "metadata": {},
   "source": [
    "#### Exercício 5 (continuação): Plote os pontos gerados e a curva de ajuste final."
   ]
  },
  {
   "cell_type": "code",
   "execution_count": 127,
   "metadata": {},
   "outputs": [
    {
     "data": {
      "image/png": "[encoded data removed]",
      "text/plain": [
       "<Figure size 432x288 with 1 Axes>"
      ]
     },
     "metadata": {},
     "output_type": "display_data"
    }
   ],
   "source": [
    "plt.scatter(X.ravel(), y)\n",
    "lim = plt.axis()\n",
    "y_test = PolynomialRegression(9).fit(X, y).predict(X_test)\n",
    "plt.plot(X_test.ravel(), y_test)\n",
    "plt.axis(lim);"
   ]
  },
  {
   "cell_type": "code",
   "execution_count": null,
   "metadata": {},
   "outputs": [],
   "source": []
  },
  {
   "cell_type": "code",
   "execution_count": null,
   "metadata": {},
   "outputs": [],
   "source": []
  }
 ],
 "metadata": {
  "kernelspec": {
   "display_name": "Python 3",
   "language": "python",
   "name": "python3"
  },
  "language_info": {
   "codemirror_mode": {
    "name": "ipython",
    "version": 3
   },
   "file_extension": ".py",
   "mimetype": "text/x-python",
   "name": "python",
   "nbconvert_exporter": "python",
   "pygments_lexer": "ipython3",
   "version": "3.7.6"
  }
 },
 "nbformat": 4,
 "nbformat_minor": 4
}
